{
 "cells": [
  {
   "cell_type": "markdown",
   "metadata": {},
   "source": [
    "# **Trabalho Avaliativo 2 - Inteligência Artificial**\n",
    "**Acadêmicos:**\n",
    "- Guilherme Farias Stefani\n",
    "- Henrique Baptista de Oliveira\n",
    "- Henrique Cardoso Zanette\n",
    "- Jhonata Saraiva Peres\n",
    "- Lucas Dellatorre de Freitas\n"
   ]
  },
  {
   "cell_type": "markdown",
   "metadata": {},
   "source": [
    "___\n",
    "\n",
    "### **Bibliotecas Python nescessarias para utilização deste notebook:**\n",
    "\n",
    "- **Pandas:** Para leitura do DataSet\n",
    "\n",
    "- **Unidecode:** Para normalização dos textos\n",
    "\n",
    "- **Regex:** Para normalização dos textos\n",
    "\n",
    "- **Spacy:** Para lematização\n",
    "\n",
    "- **Ploty:** Para gráficos e afins\n",
    "\n",
    "- **Scikit Learn:** Para utilizar métodos de normalização e algoritmos de machine learning\n",
    "\n",
    "\n",
    "*Rodar no powershell como administrador*\n",
    "\n",
    "> - pip install pandas\n",
    "> - pip install unidecode\n",
    "> - pip install regex\n",
    "> - pip install spacy\n",
    "> - python -m spacy download pt\n",
    "> - pip install nltk\n",
    "> - pip install plotly==5.11.0\n",
    "> - pip install matplotlib\n",
    "> - pip install -U scikit-learn\n",
    "> - pip install seaborn"
   ]
  },
  {
   "cell_type": "markdown",
   "metadata": {},
   "source": [
    "*Import das bibliotecas*"
   ]
  },
  {
   "cell_type": "code",
   "execution_count": 145,
   "metadata": {},
   "outputs": [
    {
     "name": "stderr",
     "output_type": "stream",
     "text": [
      "[nltk_data] Downloading package rslp to\n",
      "[nltk_data]     C:\\Users\\guilh\\AppData\\Roaming\\nltk_data...\n",
      "[nltk_data]   Package rslp is already up-to-date!\n"
     ]
    }
   ],
   "source": [
    "import pandas as pd\n",
    "import regex as reg\n",
    "import spacy\n",
    "import unidecode\n",
    "import plotly.express as px\n",
    "from sklearn.feature_extraction.text import CountVectorizer\n",
    "\n",
    "import nltk\n",
    "nltk.download('rslp')\n",
    "\n",
    "stemmer = nltk.stem.RSLPStemmer()\n",
    "\n"
   ]
  },
  {
   "cell_type": "markdown",
   "metadata": {},
   "source": [
    "___\n",
    "\n",
    "### **Repositório de arquivos, datasets e dados de normalização**\n",
    "\n",
    "*Localização dos arquivos de resources*"
   ]
  },
  {
   "cell_type": "code",
   "execution_count": 146,
   "metadata": {},
   "outputs": [],
   "source": [
    "filenameDataSet = 'resources/DataSet.xlsx'\n",
    "filenameRegexToBeApplied =  'resources/regexToBeApplied'\n",
    "filenameStopWords = 'resources/stopWords'\n",
    "fileNameDeParas = 'resources/dePara'"
   ]
  },
  {
   "cell_type": "markdown",
   "metadata": {},
   "source": [
    "___\n",
    "\n",
    "### **Dataset e amostras**\n",
    "\n",
    "*Amostra completa do dataset*"
   ]
  },
  {
   "cell_type": "code",
   "execution_count": 147,
   "metadata": {},
   "outputs": [],
   "source": [
    "dataSet = pd.ExcelFile(filenameDataSet)"
   ]
  },
  {
   "cell_type": "code",
   "execution_count": 148,
   "metadata": {},
   "outputs": [],
   "source": [
    "dataSetRaw = pd.read_excel(dataSet, sheet_name='DebateGovRS')"
   ]
  },
  {
   "cell_type": "markdown",
   "metadata": {},
   "source": [
    "*Amostra do dataset apenas com retweets*"
   ]
  },
  {
   "cell_type": "code",
   "execution_count": 149,
   "metadata": {},
   "outputs": [],
   "source": [
    "retweets = pd.read_excel(dataSet, sheet_name='RT')"
   ]
  },
  {
   "cell_type": "markdown",
   "metadata": {},
   "source": [
    "*Amostra do dataset classificado/rotulado*"
   ]
  },
  {
   "cell_type": "code",
   "execution_count": 150,
   "metadata": {},
   "outputs": [
    {
     "data": {
      "application/vnd.plotly.v1+json": {
       "config": {
        "plotlyServerURL": "https://plot.ly"
       },
       "data": [
        {
         "alignmentgroup": "True",
         "hovertemplate": "x=%{x}<br>count=%{y}<extra></extra>",
         "legendgroup": "",
         "marker": {
          "color": "#636efa",
          "pattern": {
           "shape": ""
          }
         },
         "name": "",
         "offsetgroup": "",
         "orientation": "v",
         "showlegend": false,
         "textposition": "auto",
         "type": "bar",
         "x": [
          "IRONIA",
          "NEGATIVO",
          "CONTEXTO",
          "POSITIVO",
          "NEGATIVO",
          "NEGATIVO",
          "NEGATIVO",
          "POSITIVO",
          "IRONIA",
          "IRONIA",
          "POSITIVO",
          "IRONIA",
          "IRONIA",
          "NEGATIVO",
          "POSITIVO",
          "NEGATIVO",
          "NEGATIVO",
          "NEGATIVO",
          "NEUTRO",
          "IRONIA",
          "IRONIA",
          "NEGATIVO",
          "NEGATIVO",
          "NEGATIVO",
          "POSITIVO",
          "NEGATIVO",
          "POSITIVO",
          "IRONIA",
          "NEGATIVO",
          "NEGATIVO",
          "NEUTRO",
          "NEGATIVO",
          "NEGATIVO",
          "NEUTRO",
          "POSITIVO",
          "NEGATIVO",
          "NEUTRO",
          "POSITIVO",
          "IRONIA",
          "NEGATIVO",
          "NEGATIVO",
          "NEGATIVO",
          "CONTEXTO",
          "IRONIA",
          "NEGATIVO",
          "NEGATIVO",
          "POSITIVO",
          "CONTEXTO",
          "IRONIA",
          "NEGATIVO",
          "POSITIVO",
          "NEUTRO",
          "POSITIVO",
          "NEUTRO",
          "POSITIVO",
          "NEGATIVO",
          "CONTEXTO",
          "CONTEXTO",
          "CONTEXTO",
          "NEGATIVO",
          "NEGATIVO",
          "NEGATIVO",
          "NEUTRO",
          "CONTEXTO",
          "IRONIA",
          "POSITIVO",
          "POSITIVO",
          "NEGATIVO",
          "IRONIA",
          "NEGATIVO",
          "NEGATIVO",
          "POSITIVO",
          "NEGATIVO",
          "CONTEXTO",
          "POSITIVO",
          "CONTEXTO",
          "NEGATIVO",
          "NEGATIVO",
          "NEGATIVO",
          "NEGATIVO",
          "NEGATIVO",
          "IRONIA",
          "NEUTRO",
          "IRONIA",
          "NEGATIVO",
          "POSITIVO",
          "NEGATIVO",
          "NEGATIVO",
          "CONTEXTO",
          "NEGATIVO",
          "NEGATIVO",
          "NEGATIVO",
          "CONTEXTO",
          "CONTEXTO",
          "CONTEXTO",
          "NEGATIVO",
          "NEUTRO",
          "POSITIVO",
          "NEGATIVO",
          "POSITIVO",
          "IRONIA",
          "NEGATIVO",
          "NEGATIVO",
          "IRONIA",
          "NEGATIVO",
          "CONTEXTO",
          "NEGATIVO",
          "NEUTRO",
          "NEGATIVO",
          "NEGATIVO",
          "NEGATIVO",
          "NEGATIVO",
          "IRONIA",
          "NEGATIVO",
          "CONTEXTO",
          "CONTEXTO",
          "NEGATIVO",
          "NEGATIVO",
          "NEGATIVO",
          "NEGATIVO",
          "NEGATIVO",
          "IRONIA",
          "CONTEXTO",
          "IRONIA",
          "NEGATIVO",
          "NEGATIVO",
          "POSITIVO",
          "NEGATIVO",
          "NEUTRO",
          "CONTEXTO",
          "NEGATIVO",
          "IRONIA",
          "CONTEXTO",
          "NEGATIVO",
          "NEGATIVO",
          "CONTEXTO",
          "NEUTRO",
          "CONTEXTO",
          "POSITIVO",
          "CONTEXTO",
          "IRONIA",
          "IRONIA",
          "CONTEXTO",
          "NEGATIVO",
          "POSITIVO",
          "POSITIVO",
          "NEGATIVO",
          "CONTEXTO",
          "NEGATIVO",
          "NEGATIVO",
          "POSITIVO",
          "POSITIVO",
          "IRONIA",
          "CONTEXTO",
          "CONTEXTO",
          "POSITIVO",
          "NEGATIVO",
          "CONTEXTO",
          "NEGATIVO",
          "CONTEXTO",
          "NEGATIVO",
          "NEGATIVO",
          "POSITIVO",
          "NEGATIVO",
          "NEGATIVO",
          "IRONIA",
          "CONTEXTO",
          "NEGATIVO",
          "CONTEXTO",
          "NEUTRO",
          "NEGATIVO",
          "NEGATIVO",
          "CONTEXTO",
          "IRONIA",
          "NEUTRO",
          "NEGATIVO",
          "CONTEXTO",
          "IRONIA",
          "NEUTRO",
          "NEGATIVO",
          "CONTEXTO",
          "IRONIA",
          "NEGATIVO",
          "IRONIA",
          "CONTEXTO",
          "NEGATIVO",
          "CONTEXTO",
          "CONTEXTO",
          "NEUTRO",
          "POSITIVO",
          "NEUTRO",
          "NEGATIVO",
          "NEGATIVO",
          "CONTEXTO",
          "NEGATIVO",
          "CONTEXTO",
          "NEGATIVO",
          "IRONIA",
          "IRONIA",
          "NEUTRO",
          "NEGATIVO",
          "IRONIA",
          "NEGATIVO",
          "NEUTRO",
          "CONTEXTO",
          "POSITIVO",
          "NEUTRO",
          "POSITIVO",
          "CONTEXTO",
          "NEGATIVO",
          "IRONIA",
          "NEUTRO",
          "CONTEXTO",
          "POSITIVO",
          "NEGATIVO",
          "NEGATIVO",
          "NEGATIVO",
          "IRONIA",
          "CONTEXTO",
          "NEGATIVO",
          "NEGATIVO",
          "POSITIVO",
          "NEGATIVO",
          "POSITIVO",
          "POSITIVO",
          "NEGATIVO",
          "POSITIVO",
          "POSITIVO",
          "CONTEXTO",
          "CONTEXTO",
          "NEGATIVO",
          "CONTEXTO",
          "POSITIVO",
          "NEGATIVO",
          "NEUTRO",
          "NEUTRO",
          "POSITIVO",
          "POSITIVO",
          "CONTEXTO",
          "NEUTRO",
          "NEGATIVO",
          "CONTEXTO",
          "POSITIVO",
          "POSITIVO",
          "NEGATIVO",
          "CONTEXTO",
          "NEGATIVO",
          "NEUTRO",
          "NEUTRO",
          "POSITIVO",
          "POSITIVO",
          "NEGATIVO",
          "POSITIVO",
          "CONTEXTO",
          "NEGATIVO",
          "NEGATIVO",
          "NEUTRO",
          "CONTEXTO",
          "NEGATIVO",
          "POSITIVO",
          "CONTEXTO",
          "NEUTRO",
          "NEGATIVO",
          "NEUTRO",
          "POSITIVO",
          "NEGATIVO",
          "NEGATIVO",
          "NEGATIVO",
          "POSITIVO",
          "POSITIVO",
          "NEUTRO",
          "NEUTRO",
          "NEGATIVO",
          "CONTEXTO",
          "NEGATIVO",
          "POSITIVO",
          "POSITIVO",
          "NEGATIVO",
          "NEGATIVO",
          "CONTEXTO",
          "IRONIA",
          "POSITIVO",
          "NEGATIVO",
          "NEGATIVO",
          "NEGATIVO",
          "NEGATIVO",
          "CONTEXTO",
          "NEUTRO",
          "POSITIVO",
          "CONTEXTO",
          "CONTEXTO",
          "POSITIVO",
          "NEGATIVO",
          "NEGATIVO",
          "NEGATIVO",
          "NEUTRO",
          "CONTEXTO",
          "POSITIVO",
          "CONTEXTO",
          "IRONIA",
          "CONTEXTO",
          "POSITIVO",
          "NEGATIVO",
          "IRONIA",
          "POSITIVO",
          "NEGATIVO",
          "NEGATIVO",
          "NEGATIVO",
          "IRONIA",
          "NEGATIVO",
          "POSITIVO",
          "NEGATIVO",
          "CONTEXTO",
          "NEGATIVO",
          "NEGATIVO",
          "CONTEXTO",
          "NEGATIVO",
          "NEGATIVO",
          "CONTEXTO",
          "POSITIVO",
          "NEGATIVO",
          "CONTEXTO",
          "NEUTRO",
          "CONTEXTO",
          "CONTEXTO",
          "NEGATIVO",
          "NEGATIVO",
          "POSITIVO",
          "POSITIVO",
          "NEGATIVO",
          "NEGATIVO",
          "POSITIVO",
          "POSITIVO",
          "NEUTRO",
          "NEGATIVO",
          "CONTEXTO",
          "CONTEXTO",
          "NEGATIVO",
          "NEGATIVO",
          "NEGATIVO",
          "IRONIA",
          "NEGATIVO",
          "NEGATIVO",
          "NEUTRO",
          "CONTEXTO",
          "CONTEXTO",
          "POSITIVO",
          "NEGATIVO",
          "NEGATIVO",
          "CONTEXTO",
          "POSITIVO",
          "NEUTRO",
          "NEUTRO",
          "NEGATIVO",
          "CONTEXTO",
          "CONTEXTO",
          "POSITIVO",
          "NEGATIVO",
          "NEUTRO",
          "CONFUSO",
          "CONTEXTO",
          "NEGATIVO",
          "CONTEXTO",
          "POSITIVO",
          "CONTEXTO",
          "POSITIVO",
          "NEGATIVO",
          "NEUTRO",
          "POSITIVO",
          "NEGATIVO",
          "NEGATIVO",
          "NEUTRO",
          "CONTEXTO",
          "NEGATIVO",
          "NEUTRO",
          "NEUTRO",
          "CONTEXTO",
          "IRONIA",
          "POSITIVO",
          "NEGATIVO",
          "CONTEXTO",
          "POSITIVO",
          "NEUTRO",
          "NEGATIVO",
          "POSITIVO",
          "IRONIA",
          "CONTEXTO",
          "POSITIVO",
          "POSITIVO",
          "POSITIVO",
          "POSITIVO",
          "NEGATIVO",
          "DIVIDIR",
          "NEGATIVO",
          "POSITIVO",
          "NEUTRO",
          "POSITIVO",
          "CONTEXTO",
          "NEUTRO",
          "CONTEXTO",
          "CONTEXTO",
          "CONTEXTO",
          "NEGATIVO",
          "IRONIA",
          "POSITIVO",
          "CONTEXTO",
          "CONTEXTO",
          "POSITIVO",
          "CONTEXTO",
          "POSITIVO",
          "IRONIA",
          "CONTEXTO",
          "NEGATIVO",
          "POSITIVO",
          "CONTEXTO",
          "POSITIVO",
          "NEGATIVO",
          "NEGATIVO",
          "CONTEXTO",
          "NEUTRO",
          "CONTEXTO",
          "POSITIVO",
          "NEGATIVO",
          "NEGATIVO",
          "NEGATIVO",
          "NEGATIVO",
          "POSITIVO",
          "CONTEXTO",
          "CONTEXTO",
          "NEGATIVO",
          "NEGATIVO",
          "NEGATIVO",
          "POSITIVO",
          "CONTEXTO",
          "NEUTRO",
          "POSITIVO",
          "CONTEXTO",
          "DIVIDIR",
          "NEGATIVO",
          "NEGATIVO",
          "POSITIVO",
          "POSITIVO",
          "IRONIA",
          "NEGATIVO",
          "NEGATIVO",
          "POSITIVO",
          "POSITIVO",
          "CONTEXTO",
          "IRONIA",
          "POSITIVO",
          "NEGATIVO",
          "CONTEXTO",
          "POSITIVO",
          "NEUTRO",
          "CONTEXTO",
          "NEUTRO",
          "POSITIVO",
          "CONTEXTO",
          "NEGATIVO",
          "DIVIDIR",
          "NEUTRO",
          "POSITIVO",
          "DIVIDIR",
          "NEGATIVO",
          "NEUTRO",
          "IRONIA",
          "POSITIVO",
          "NEUTRO",
          "NEGATIVO",
          "NEGATIVO",
          "NEUTRO",
          "NEUTRO",
          "NEGATIVO",
          "CONTEXTO",
          "NEGATIVO",
          "IRONIA",
          "POSITIVO",
          "DIVIDIR",
          "CONTEXTO",
          "NEGATIVO",
          "POSITIVO",
          "POSITIVO",
          "NEGATIVO",
          "NEGATIVO",
          "CONTEXTO",
          "IRONIA",
          "NEGATIVO",
          "NEGATIVO",
          "POSITIVO",
          "DIVIDIR",
          "POSITIVO",
          "NEGATIVO",
          "POSITIVO",
          "NEGATIVO",
          "NEGATIVO",
          "DIVIDIR",
          "POSITIVO",
          "NEGATIVO",
          "NEUTRO",
          "POSITIVO",
          "POSITIVO",
          "CONTEXTO",
          "NEGATIVO",
          "DIVIDIR",
          "POSITIVO",
          "NEGATIVO",
          "NEGATIVO",
          "NEGATIVO",
          "NEGATIVO",
          "IRONIA",
          "IRONIA",
          "CONTEXTO",
          "POSITIVO",
          "NEGATIVO",
          "CONTEXTO",
          "NEGATIVO",
          "NEUTRO",
          "CONTEXTO",
          "NEGATIVO",
          "POSITIVO",
          "DIVIDIR",
          "POSITIVO",
          "NEGATIVO",
          "IRONIA",
          "CONTEXTO",
          "NEUTRO",
          "POSITIVO",
          "POSITIVO",
          "POSITIVO",
          "NEGATIVO",
          "DIVIDIR",
          "DIVIDIR",
          "POSITIVO",
          "CONTEXTO",
          "POSITIVO",
          "DIVIDIR",
          "POSITIVO",
          "POSITIVO",
          "POSITIVO",
          "NEUTRO",
          "DIVIDIR",
          "NEUTRO",
          "IRONIA",
          "CONTEXTO",
          "CONTEXTO",
          "CONTEXTO",
          "NEGATIVO",
          "CONTEXTO",
          "CONFUSO",
          "CONTEXTO",
          "DIVIDIR",
          "CONTEXTO",
          "NEGATIVO",
          "NEGATIVO",
          "IRONIA",
          "IRONIA",
          "POSITIVO",
          "CONTEXTO",
          "NEUTRO",
          "POSITIVO",
          "POSITIVO",
          "NEGATIVO",
          "CONTEXTO",
          "CONTEXTO",
          "POSITIVO",
          "NEGATIVO",
          "NEUTRO",
          "CONTEXTO",
          "POSITIVO",
          "NEGATIVO",
          "NEUTRO",
          "CONTEXTO",
          "POSITIVO",
          "DIVIDIR",
          "POSITIVO",
          "CONTEXTO",
          "NEUTRO",
          "CONTEXTO",
          "CONTEXTO",
          "IRONIA",
          "POSITIVO",
          "CONTEXTO",
          "NEGATIVO",
          "POSITIVO",
          "POSITIVO",
          "POSITIVO",
          "NEGATIVO",
          "NEGATIVO",
          "NEUTRO",
          "NEGATIVO",
          "NEGATIVO",
          "NEGATIVO",
          "IRONIA",
          "NEGATIVO",
          "CONTEXTO",
          "POSITIVO",
          "NEGATIVO",
          "CONTEXTO",
          "POSITIVO",
          "CONTEXTO",
          "NEGATIVO",
          "NEGATIVO",
          "POSITIVO",
          "NEGATIVO",
          "NEGATIVO",
          "CONTEXTO",
          "IRONIA",
          "CONTEXTO",
          "NEGATIVO",
          "POSITIVO",
          "CONTEXTO",
          "DIVIDIR",
          "NEGATIVO",
          "NEUTRO",
          "CONTEXTO",
          "POSITIVO",
          "NEGATIVO",
          "POSITIVO",
          "NEUTRO",
          "NEUTRO",
          "NEGATIVO",
          "NEUTRO",
          "POSITIVO",
          "DIVIDIR",
          "NEGATIVO",
          "NEGATIVO",
          "NEGATIVO",
          "POSITIVO",
          "CONTEXTO",
          "POSITIVO",
          "IRONIA",
          "CONTEXTO",
          "NEGATIVO",
          "NEGATIVO",
          "POSITIVO",
          "NEGATIVO",
          "NEGATIVO",
          "POSITIVO",
          "NEUTRO",
          "NEUTRO",
          "IRONIA",
          "NEGATIVO",
          "NEGATIVO",
          "IRONIA",
          "CONTEXTO",
          "NEGATIVO",
          "CONTEXTO",
          "POSITIVO",
          "NEGATIVO",
          "POSITIVO",
          "IRONIA",
          "POSITIVO",
          "NEGATIVO",
          "NEUTRO",
          "POSITIVO",
          "CONFUSO",
          "CONTEXTO",
          "NEGATIVO",
          "NEGATIVO",
          "IRONIA",
          "NEGATIVO",
          "CONTEXTO",
          "NEGATIVO",
          "POSITIVO",
          "CONTEXTO",
          "POSITIVO",
          "NEGATIVO",
          "NEGATIVO",
          "CONTEXTO",
          "NEGATIVO",
          "NEUTRO",
          "CONTEXTO",
          "NEGATIVO",
          "NEGATIVO",
          "CONTEXTO",
          "POSITIVO",
          "NEGATIVO",
          "IRONIA",
          "CONTEXTO",
          "POSITIVO",
          "CONFUSO",
          "NEGATIVO",
          "NEGATIVO",
          "NEGATIVO",
          "CONTEXTO",
          "IRONIA",
          "NEGATIVO",
          "CONTEXTO",
          "IRONIA",
          "CONTEXTO",
          "NEGATIVO",
          "CONTEXTO",
          "NEGATIVO",
          "POSITIVO",
          "POSITIVO",
          "NEGATIVO",
          "CONTEXTO",
          "CONTEXTO",
          "NEGATIVO",
          "CONTEXTO",
          "IRONIA",
          "POSITIVO",
          "CONTEXTO",
          "IRONIA",
          "POSITIVO",
          "POSITIVO",
          "CONTEXTO",
          "CONTEXTO",
          "POSITIVO",
          "CONTEXTO",
          "NEGATIVO",
          "CONTEXTO",
          "DIVIDIR",
          "IRONIA",
          "CONTEXTO",
          "NEGATIVO",
          "POSITIVO",
          "POSITIVO",
          "IRONIA",
          "CONTEXTO",
          "NEGATIVO",
          "NEGATIVO",
          "CONTEXTO",
          "CONTEXTO",
          "POSITIVO",
          "NEGATIVO",
          "NEUTRO",
          "NEUTRO",
          "NEGATIVO",
          "NEGATIVO",
          "DIVIDIR",
          "NEUTRO",
          "POSITIVO",
          "CONTEXTO",
          "NEGATIVO",
          "NEUTRO",
          "POSITIVO",
          "NEGATIVO",
          "NEGATIVO",
          "CONTEXTO",
          "CONTEXTO",
          "NEGATIVO",
          "CONTEXTO",
          "NEUTRO",
          "CONTEXTO",
          "NEGATIVO",
          "POSITIVO",
          "CONFUSO",
          "NEGATIVO",
          "NEGATIVO",
          "POSITIVO",
          "CONTEXTO",
          "NEGATIVO",
          "POSITIVO",
          "CONTEXTO",
          "POSITIVO",
          "NEGATIVO",
          "CONTEXTO",
          "IRONIA",
          "IRONIA",
          "POSITIVO",
          "DIVIDIR",
          "NEUTRO",
          "POSITIVO",
          "NEGATIVO",
          "NEGATIVO",
          "NEGATIVO",
          "DIVIDIR",
          "NEGATIVO",
          "NEGATIVO",
          "IRONIA",
          "CONTEXTO",
          "NEUTRO",
          "NEGATIVO",
          "NEGATIVO",
          "NEGATIVO",
          "NEGATIVO",
          "NEGATIVO",
          "POSITIVO",
          "NEGATIVO",
          "NEGATIVO",
          "IRONIA",
          "NEGATIVO",
          "NEGATIVO",
          "NEUTRO",
          "NEUTRO",
          "NEGATIVO",
          "NEGATIVO",
          "NEGATIVO",
          "NEUTRO",
          "NEGATIVO",
          "DIVIDIR",
          "CONTEXTO",
          "CONTEXTO",
          "NEUTRO",
          "NEGATIVO",
          "NEGATIVO",
          "POSITIVO",
          "DIVIDIR",
          "NEGATIVO",
          "DIVIDIR",
          "POSITIVO",
          "NEGATIVO",
          "CONFUSO",
          "NEGATIVO",
          "CONTEXTO",
          "NEUTRO",
          "DIVIDIR",
          "NEUTRO",
          "NEUTRO",
          "NEUTRO",
          "NEGATIVO",
          "CONTEXTO",
          "POSITIVO",
          "NEGATIVO",
          "POSITIVO",
          "NEGATIVO",
          "NEGATIVO",
          "POSITIVO",
          "NEGATIVO",
          "CONTEXTO",
          "NEGATIVO",
          "NEUTRO",
          "POSITIVO",
          "NEUTRO",
          "POSITIVO",
          "NEGATIVO",
          "NEGATIVO",
          "NEGATIVO",
          "IRONIA",
          "NEGATIVO",
          "NEUTRO",
          "CONTEXTO",
          "DIVIDIR",
          "NEGATIVO",
          "NEUTRO",
          "IRONIA",
          "NEUTRO",
          "CONTEXTO",
          "POSITIVO",
          "NEGATIVO",
          "IRONIA",
          "NEGATIVO",
          "POSITIVO",
          "POSITIVO",
          "NEGATIVO",
          "NEGATIVO",
          "NEGATIVO",
          "NEUTRO",
          "NEGATIVO",
          "POSITIVO",
          "NEGATIVO",
          "NEGATIVO",
          "POSITIVO",
          "NEGATIVO",
          "POSITIVO",
          "CONTEXTO",
          "NEUTRO",
          "NEUTRO",
          "NEGATIVO",
          "NEGATIVO",
          "NEGATIVO",
          "POSITIVO",
          "NEGATIVO",
          "NEGATIVO",
          "CONTEXTO",
          "NEGATIVO",
          "DIVIDIR",
          "DIVIDIR",
          "NEGATIVO",
          "POSITIVO",
          "NEGATIVO",
          "NEGATIVO",
          "POSITIVO",
          "POSITIVO",
          "IRONIA",
          "NEUTRO",
          "CONTEXTO",
          "NEGATIVO",
          "NEGATIVO",
          "POSITIVO",
          "CONTEXTO",
          "NEUTRO",
          "NEUTRO",
          "IRONIA",
          "CONFUSO",
          "NEGATIVO",
          "POSITIVO",
          "CONTEXTO",
          "NEGATIVO",
          "CONTEXTO",
          "POSITIVO",
          "POSITIVO",
          "NEGATIVO",
          "NEUTRO",
          "NEUTRO",
          "NEGATIVO",
          "CONTEXTO",
          "CONTEXTO",
          "NEGATIVO",
          "IRONIA",
          "NEGATIVO",
          "DIVIDIR",
          "NEGATIVO",
          "POSITIVO",
          "POSITIVO",
          "POSITIVO",
          "NEGATIVO",
          "POSITIVO",
          "POSITIVO",
          "CONTEXTO",
          "POSITIVO",
          "POSITIVO",
          "NEUTRO",
          "NEUTRO",
          "NEGATIVO",
          "CONTEXTO",
          "CONTEXTO",
          "POSITIVO",
          "NEUTRO",
          "CONTEXTO",
          "NEGATIVO",
          "POSITIVO",
          "CONTEXTO",
          "CONTEXTO",
          "CONFUSO",
          "CONTEXTO",
          "NEGATIVO",
          "NEGATIVO",
          "POSITIVO",
          "NEGATIVO",
          "NEUTRO",
          "CONTEXTO",
          "POSITIVO",
          "NEGATIVO",
          "NEUTRO",
          "CONTEXTO",
          "DIVIDIR",
          "POSITIVO",
          "NEGATIVO",
          "POSITIVO",
          "NEUTRO",
          "NEUTRO",
          "NEGATIVO",
          "IRONIA",
          "NEUTRO",
          "CONTEXTO",
          "NEGATIVO",
          "POSITIVO",
          "CONTEXTO",
          "NEGATIVO",
          "NEGATIVO",
          "CONTEXTO",
          "POSITIVO",
          "CONTEXTO",
          "CONTEXTO",
          "POSITIVO",
          "POSITIVO",
          "CONTEXTO",
          "POSITIVO",
          "NEGATIVO",
          "POSITIVO",
          "CONTEXTO",
          "NEGATIVO",
          "NEUTRO",
          "CONTEXTO",
          "NEGATIVO",
          "CONTEXTO",
          "POSITIVO",
          "NEGATIVO",
          "POSITIVO",
          "NEGATIVO",
          "NEUTRO",
          "NEGATIVO",
          "NEUTRO",
          "NEGATIVO",
          "CONTEXTO",
          "NEGATIVO",
          "NEGATIVO",
          "POSITIVO",
          "NEGATIVO",
          "CONFUSO",
          "NEGATIVO",
          "CONTEXTO",
          "NEUTRO",
          "CONTEXTO",
          "POSITIVO",
          "NEGATIVO",
          "NEUTRO",
          "NEGATIVO",
          "NEGATIVO",
          "NEUTRO",
          "NEGATIVO",
          "NEGATIVO",
          "NEGATIVO",
          "CONTEXTO",
          "CONTEXTO",
          "CONTEXTO",
          "NEGATIVO",
          "NEGATIVO",
          "NEGATIVO",
          "CONTEXTO",
          "NEGATIVO",
          "NEGATIVO",
          "NEUTRO",
          "POSITIVO",
          "IRONIA",
          "POSITIVO",
          "NEUTRO",
          "DIVIDIR",
          "IRONIA",
          "NEGATIVO",
          "NEGATIVO",
          "CONTEXTO",
          "NEGATIVO",
          "NEUTRO",
          "NEGATIVO",
          "NEGATIVO",
          "NEUTRO",
          "CONTEXTO",
          "POSITIVO",
          "NEGATIVO",
          "POSITIVO",
          "NEUTRO",
          "NEGATIVO",
          "NEGATIVO",
          "POSITIVO",
          "NEUTRO",
          "POSITIVO",
          "DIVIDIR",
          "IRONIA",
          "POSITIVO",
          "CONTEXTO",
          "POSITIVO",
          "NEGATIVO",
          "POSITIVO",
          "NEGATIVO",
          "CONTEXTO",
          "NEUTRO",
          "DIVIDIR",
          "POSITIVO",
          "CONTEXTO",
          "DIVIDIR",
          "IRONIA",
          "NEGATIVO",
          "NEGATIVO",
          "CONTEXTO",
          "NEGATIVO",
          "NEGATIVO",
          "NEGATIVO",
          "NEGATIVO",
          "CONTEXTO",
          "NEGATIVO",
          "NEGATIVO",
          "POSITIVO",
          "NEGATIVO",
          "NEGATIVO",
          "POSITIVO",
          "IRONIA",
          "CONTEXTO",
          "NEGATIVO",
          "NEGATIVO",
          "NEUTRO",
          "NEGATIVO",
          "NEGATIVO",
          "NEUTRO",
          "NEGATIVO",
          "NEGATIVO",
          "CONTEXTO",
          "NEGATIVO",
          "NEGATIVO",
          "POSITIVO",
          "IRONIA",
          "POSITIVO",
          "NEGATIVO",
          "NEGATIVO",
          "NEGATIVO",
          "NEGATIVO",
          "IRONIA",
          "POSITIVO",
          "POSITIVO",
          "CONTEXTO",
          "POSITIVO",
          "NEGATIVO",
          "CONTEXTO",
          "IRONIA",
          "NEUTRO",
          "POSITIVO",
          "NEUTRO",
          "CONTEXTO",
          "POSITIVO",
          "CONTEXTO",
          "CONTEXTO",
          "CONTEXTO",
          "NEGATIVO",
          "DIVIDIR",
          "POSITIVO",
          "NEGATIVO",
          "NEGATIVO",
          "POSITIVO",
          "POSITIVO",
          "POSITIVO",
          "IRONIA",
          "CONTEXTO",
          "NEGATIVO",
          "NEGATIVO",
          "NEGATIVO",
          "POSITIVO",
          "IRONIA",
          "CONTEXTO",
          "POSITIVO",
          "IRONIA",
          "NEGATIVO",
          "NEGATIVO",
          "NEGATIVO",
          "CONTEXTO",
          "NEUTRO",
          "NEUTRO",
          "POSITIVO",
          "POSITIVO",
          "CONTEXTO",
          "CONTEXTO",
          "NEGATIVO",
          "NEGATIVO",
          "POSITIVO",
          "POSITIVO",
          "POSITIVO",
          "NEGATIVO",
          "NEGATIVO",
          "CONTEXTO",
          "IRONIA",
          "CONTEXTO",
          "NEUTRO",
          "POSITIVO",
          "NEGATIVO",
          "NEGATIVO",
          "NEGATIVO",
          "CONTEXTO",
          "NEGATIVO",
          "NEUTRO",
          "NEGATIVO",
          "NEGATIVO",
          "NEGATIVO",
          "CONTEXTO",
          "NEGATIVO",
          "NEGATIVO",
          "NEUTRO",
          "CONTEXTO",
          "NEGATIVO",
          "POSITIVO",
          "DIVIDIR",
          "IRONIA",
          "POSITIVO",
          "POSITIVO",
          "CONTEXTO",
          "NEGATIVO",
          "NEGATIVO",
          "IRONIA",
          "NEUTRO",
          "IRONIA",
          "IRONIA",
          "NEUTRO",
          "NEGATIVO",
          "DIVIDIR",
          "CONTEXTO",
          "POSITIVO",
          "NEUTRO",
          "NEGATIVO",
          "NEUTRO",
          "NEGATIVO",
          "NEGATIVO",
          "CONTEXTO",
          "CONTEXTO",
          "NEGATIVO",
          "NEUTRO",
          "POSITIVO",
          "CONFUSO",
          "POSITIVO",
          "NEGATIVO",
          "NEUTRO",
          "POSITIVO",
          "POSITIVO",
          "NEGATIVO",
          "POSITIVO",
          "CONTEXTO",
          "NEUTRO",
          "POSITIVO",
          "DIVIDIR",
          "IRONIA",
          "CONTEXTO",
          "POSITIVO",
          "NEGATIVO",
          "CONTEXTO",
          "POSITIVO",
          "POSITIVO",
          "NEGATIVO",
          "POSITIVO",
          "DIVIDIR",
          "NEUTRO",
          "POSITIVO",
          "CONTEXTO",
          "POSITIVO",
          "POSITIVO",
          "DIVIDIR",
          "NEGATIVO",
          "POSITIVO",
          "CONTEXTO",
          "NEGATIVO",
          "POSITIVO",
          "NEUTRO",
          "CONTEXTO",
          "POSITIVO",
          "CONTEXTO",
          "CONTEXTO",
          "NEGATIVO",
          "POSITIVO",
          "CONTEXTO",
          "NEUTRO",
          "POSITIVO",
          "POSITIVO",
          "POSITIVO",
          "POSITIVO",
          "NEUTRO",
          "CONTEXTO",
          "NEUTRO",
          "POSITIVO",
          "POSITIVO",
          "POSITIVO",
          "NEGATIVO",
          "CONTEXTO",
          "CONTEXTO",
          "NEGATIVO",
          "CONTEXTO",
          "CONTEXTO",
          "CONTEXTO",
          "NEUTRO",
          "POSITIVO",
          "POSITIVO",
          "NEUTRO",
          "CONTEXTO",
          "NEGATIVO",
          "NEGATIVO",
          "NEUTRO",
          "NEUTRO",
          "DIVIDIR",
          "NEGATIVO",
          "CONTEXTO",
          "CONTEXTO",
          "NEGATIVO",
          "CONTEXTO",
          "NEGATIVO",
          "CONTEXTO",
          "DIVIDIR",
          "CONTEXTO",
          "NEGATIVO",
          "POSITIVO",
          "POSITIVO",
          "NEGATIVO",
          "NEUTRO",
          "POSITIVO",
          "CONTEXTO",
          "NEGATIVO",
          "POSITIVO",
          "NEGATIVO",
          "CONTEXTO",
          "NEGATIVO",
          "NEUTRO",
          "NEGATIVO",
          "DIVIDIR",
          "DIVIDIR",
          "NEUTRO",
          "NEGATIVO",
          "POSITIVO",
          "POSITIVO",
          "POSITIVO",
          "POSITIVO",
          "POSITIVO",
          "CONTEXTO",
          "CONTEXTO",
          "NEGATIVO",
          "CONTEXTO",
          "CONTEXTO",
          "POSITIVO",
          "NEUTRO",
          "DIVIDIR",
          "NEGATIVO",
          "NEGATIVO",
          "NEGATIVO",
          "NEGATIVO",
          "DIVIDIR",
          "NEGATIVO",
          "POSITIVO",
          "POSITIVO",
          "NEUTRO",
          "POSITIVO",
          "POSITIVO",
          "CONTEXTO",
          "NEGATIVO",
          "CONTEXTO",
          "NEGATIVO",
          "NEGATIVO",
          "IRONIA",
          "CONTEXTO",
          "POSITIVO",
          "CONTEXTO",
          "CONTEXTO",
          "NEGATIVO",
          "POSITIVO",
          "POSITIVO",
          "NEGATIVO",
          "NEGATIVO",
          "DIVIDIR",
          "NEUTRO",
          "NEGATIVO",
          "POSITIVO",
          "POSITIVO",
          "CONTEXTO",
          "CONTEXTO",
          "NEGATIVO",
          "POSITIVO",
          "NEGATIVO",
          "POSITIVO",
          "POSITIVO",
          "POSITIVO",
          "POSITIVO",
          "CONTEXTO",
          "NEGATIVO",
          "CONTEXTO",
          "NEGATIVO",
          "NEGATIVO",
          "DIVIDIR",
          "CONTEXTO",
          "IRONIA",
          "NEUTRO",
          "NEUTRO",
          "NEGATIVO",
          "NEGATIVO",
          "IRONIA",
          "CONTEXTO",
          "IRONIA",
          "IRONIA",
          "NEUTRO",
          "CONTEXTO",
          "POSITIVO",
          "POSITIVO",
          "POSITIVO",
          "NEGATIVO",
          "NEGATIVO",
          "POSITIVO",
          "NEGATIVO",
          "NEGATIVO",
          "NEUTRO",
          "CONTEXTO",
          "POSITIVO",
          "POSITIVO",
          "CONTEXTO",
          "NEGATIVO",
          "NEGATIVO",
          "POSITIVO",
          "POSITIVO",
          "POSITIVO",
          "CONTEXTO",
          "NEGATIVO",
          "NEGATIVO",
          "POSITIVO",
          "POSITIVO",
          "CONTEXTO",
          "CONTEXTO",
          "NEGATIVO",
          "POSITIVO",
          "POSITIVO",
          "NEUTRO",
          "NEUTRO",
          "POSITIVO",
          "POSITIVO",
          "POSITIVO",
          "CONTEXTO",
          "CONTEXTO",
          "NEUTRO",
          "NEGATIVO",
          "IRONIA",
          "CONTEXTO",
          "POSITIVO",
          "NEGATIVO",
          "NEUTRO",
          "NEGATIVO",
          "POSITIVO",
          "NEGATIVO",
          "NEUTRO",
          "IRONIA",
          "NEGATIVO",
          "NEGATIVO",
          "CONTEXTO",
          "NEGATIVO",
          "DIVIDIR",
          "POSITIVO",
          "CONTEXTO",
          "DIVIDIR",
          "NEGATIVO",
          "POSITIVO",
          "NEGATIVO",
          "NEGATIVO",
          "CONTEXTO",
          "NEGATIVO",
          "NEGATIVO",
          "POSITIVO",
          "CONTEXTO",
          "NEGATIVO",
          "POSITIVO",
          "CONTEXTO",
          "POSITIVO",
          "IRONIA",
          "NEGATIVO",
          "POSITIVO",
          "NEGATIVO",
          "NEUTRO",
          "POSITIVO",
          "NEGATIVO",
          "POSITIVO",
          "CONTEXTO",
          "POSITIVO",
          "POSITIVO",
          "CONTEXTO",
          "NEUTRO",
          "NEUTRO",
          "POSITIVO",
          "POSITIVO",
          "POSITIVO",
          "NEGATIVO",
          "NEGATIVO",
          "NEUTRO",
          "POSITIVO",
          "CONTEXTO",
          "CONTEXTO",
          "POSITIVO",
          "DIVIDIR",
          "POSITIVO",
          "POSITIVO",
          "POSITIVO",
          "NEUTRO",
          "NEGATIVO",
          "NEUTRO",
          "POSITIVO",
          "POSITIVO",
          "CONTEXTO",
          "NEUTRO",
          "CONTEXTO",
          "NEUTRO",
          "POSITIVO",
          "POSITIVO",
          "IRONIA",
          "NEUTRO",
          "NEUTRO",
          "POSITIVO",
          "NEGATIVO",
          "CONTEXTO",
          "NEUTRO",
          "NEGATIVO",
          "POSITIVO",
          "NEGATIVO",
          "NEGATIVO",
          "POSITIVO",
          "NEGATIVO",
          "POSITIVO",
          "NEUTRO",
          "CONTEXTO",
          "CONTEXTO",
          "POSITIVO",
          "NEUTRO",
          "NEGATIVO",
          "POSITIVO",
          "POSITIVO",
          "IRONIA",
          "POSITIVO",
          "NEUTRO",
          "NEGATIVO",
          "NEGATIVO",
          "NEGATIVO",
          "POSITIVO",
          "POSITIVO",
          "POSITIVO",
          "POSITIVO",
          "POSITIVO",
          "DIVIDIR",
          "IRONIA",
          "POSITIVO",
          "POSITIVO",
          "NEGATIVO",
          "POSITIVO",
          "CONTEXTO",
          "NEUTRO",
          "CONTEXTO",
          "NEGATIVO",
          "POSITIVO",
          "POSITIVO",
          "NEUTRO",
          "POSITIVO",
          "NEUTRO",
          "POSITIVO",
          "CONTEXTO",
          "POSITIVO",
          "POSITIVO",
          "POSITIVO",
          "CONTEXTO",
          "CONTEXTO",
          "NEGATIVO",
          "NEUTRO",
          "POSITIVO",
          "CONTEXTO",
          "NEUTRO",
          "POSITIVO",
          "CONTEXTO",
          "POSITIVO",
          "POSITIVO",
          "DIVIDIR",
          "POSITIVO",
          "POSITIVO",
          "CONTEXTO",
          "NEGATIVO",
          "NEUTRO",
          "DIVIDIR",
          "NEGATIVO",
          "CONTEXTO",
          "POSITIVO",
          "POSITIVO",
          "CONTEXTO",
          "CONTEXTO",
          "POSITIVO",
          "POSITIVO",
          "POSITIVO",
          "POSITIVO",
          "CONTEXTO",
          "NEUTRO",
          "POSITIVO",
          "POSITIVO",
          "NEUTRO",
          "POSITIVO",
          "POSITIVO",
          "NEUTRO",
          "NEUTRO",
          "POSITIVO",
          "POSITIVO",
          "POSITIVO",
          "NEUTRO",
          "CONTEXTO",
          "NEUTRO",
          "POSITIVO",
          "CONTEXTO",
          "POSITIVO",
          "CONTEXTO",
          "POSITIVO"
         ],
         "xaxis": "x",
         "y": [
          1,
          1,
          1,
          1,
          1,
          1,
          1,
          1,
          1,
          1,
          1,
          1,
          1,
          1,
          1,
          1,
          1,
          1,
          1,
          1,
          1,
          1,
          1,
          1,
          1,
          1,
          1,
          1,
          1,
          1,
          1,
          1,
          1,
          1,
          1,
          1,
          1,
          1,
          1,
          1,
          1,
          1,
          1,
          1,
          1,
          1,
          1,
          1,
          1,
          1,
          1,
          1,
          1,
          1,
          1,
          1,
          1,
          1,
          1,
          1,
          1,
          1,
          1,
          1,
          1,
          1,
          1,
          1,
          1,
          1,
          1,
          1,
          1,
          1,
          1,
          1,
          1,
          1,
          1,
          1,
          1,
          1,
          1,
          1,
          1,
          1,
          1,
          1,
          1,
          1,
          1,
          1,
          1,
          1,
          1,
          1,
          1,
          1,
          1,
          1,
          1,
          1,
          1,
          1,
          1,
          1,
          1,
          1,
          1,
          1,
          1,
          1,
          1,
          1,
          1,
          1,
          1,
          1,
          1,
          1,
          1,
          1,
          1,
          1,
          1,
          1,
          1,
          1,
          1,
          1,
          1,
          1,
          1,
          1,
          1,
          1,
          1,
          1,
          1,
          1,
          1,
          1,
          1,
          1,
          1,
          1,
          1,
          1,
          1,
          1,
          1,
          1,
          1,
          1,
          1,
          1,
          1,
          1,
          1,
          1,
          1,
          1,
          1,
          1,
          1,
          1,
          1,
          1,
          1,
          1,
          1,
          1,
          1,
          1,
          1,
          1,
          1,
          1,
          1,
          1,
          1,
          1,
          1,
          1,
          1,
          1,
          1,
          1,
          1,
          1,
          1,
          1,
          1,
          1,
          1,
          1,
          1,
          1,
          1,
          1,
          1,
          1,
          1,
          1,
          1,
          1,
          1,
          1,
          1,
          1,
          1,
          1,
          1,
          1,
          1,
          1,
          1,
          1,
          1,
          1,
          1,
          1,
          1,
          1,
          1,
          1,
          1,
          1,
          1,
          1,
          1,
          1,
          1,
          1,
          1,
          1,
          1,
          1,
          1,
          1,
          1,
          1,
          1,
          1,
          1,
          1,
          1,
          1,
          1,
          1,
          1,
          1,
          1,
          1,
          1,
          1,
          1,
          1,
          1,
          1,
          1,
          1,
          1,
          1,
          1,
          1,
          1,
          1,
          1,
          1,
          1,
          1,
          1,
          1,
          1,
          1,
          1,
          1,
          1,
          1,
          1,
          1,
          1,
          1,
          1,
          1,
          1,
          1,
          1,
          1,
          1,
          1,
          1,
          1,
          1,
          1,
          1,
          1,
          1,
          1,
          1,
          1,
          1,
          1,
          1,
          1,
          1,
          1,
          1,
          1,
          1,
          1,
          1,
          1,
          1,
          1,
          1,
          1,
          1,
          1,
          1,
          1,
          1,
          1,
          1,
          1,
          1,
          1,
          1,
          1,
          1,
          1,
          1,
          1,
          1,
          1,
          1,
          1,
          1,
          1,
          1,
          1,
          1,
          1,
          1,
          1,
          1,
          1,
          1,
          1,
          1,
          1,
          1,
          1,
          1,
          1,
          1,
          1,
          1,
          1,
          1,
          1,
          1,
          1,
          1,
          1,
          1,
          1,
          1,
          1,
          1,
          1,
          1,
          1,
          1,
          1,
          1,
          1,
          1,
          1,
          1,
          1,
          1,
          1,
          1,
          1,
          1,
          1,
          1,
          1,
          1,
          1,
          1,
          1,
          1,
          1,
          1,
          1,
          1,
          1,
          1,
          1,
          1,
          1,
          1,
          1,
          1,
          1,
          1,
          1,
          1,
          1,
          1,
          1,
          1,
          1,
          1,
          1,
          1,
          1,
          1,
          1,
          1,
          1,
          1,
          1,
          1,
          1,
          1,
          1,
          1,
          1,
          1,
          1,
          1,
          1,
          1,
          1,
          1,
          1,
          1,
          1,
          1,
          1,
          1,
          1,
          1,
          1,
          1,
          1,
          1,
          1,
          1,
          1,
          1,
          1,
          1,
          1,
          1,
          1,
          1,
          1,
          1,
          1,
          1,
          1,
          1,
          1,
          1,
          1,
          1,
          1,
          1,
          1,
          1,
          1,
          1,
          1,
          1,
          1,
          1,
          1,
          1,
          1,
          1,
          1,
          1,
          1,
          1,
          1,
          1,
          1,
          1,
          1,
          1,
          1,
          1,
          1,
          1,
          1,
          1,
          1,
          1,
          1,
          1,
          1,
          1,
          1,
          1,
          1,
          1,
          1,
          1,
          1,
          1,
          1,
          1,
          1,
          1,
          1,
          1,
          1,
          1,
          1,
          1,
          1,
          1,
          1,
          1,
          1,
          1,
          1,
          1,
          1,
          1,
          1,
          1,
          1,
          1,
          1,
          1,
          1,
          1,
          1,
          1,
          1,
          1,
          1,
          1,
          1,
          1,
          1,
          1,
          1,
          1,
          1,
          1,
          1,
          1,
          1,
          1,
          1,
          1,
          1,
          1,
          1,
          1,
          1,
          1,
          1,
          1,
          1,
          1,
          1,
          1,
          1,
          1,
          1,
          1,
          1,
          1,
          1,
          1,
          1,
          1,
          1,
          1,
          1,
          1,
          1,
          1,
          1,
          1,
          1,
          1,
          1,
          1,
          1,
          1,
          1,
          1,
          1,
          1,
          1,
          1,
          1,
          1,
          1,
          1,
          1,
          1,
          1,
          1,
          1,
          1,
          1,
          1,
          1,
          1,
          1,
          1,
          1,
          1,
          1,
          1,
          1,
          1,
          1,
          1,
          1,
          1,
          1,
          1,
          1,
          1,
          1,
          1,
          1,
          1,
          1,
          1,
          1,
          1,
          1,
          1,
          1,
          1,
          1,
          1,
          1,
          1,
          1,
          1,
          1,
          1,
          1,
          1,
          1,
          1,
          1,
          1,
          1,
          1,
          1,
          1,
          1,
          1,
          1,
          1,
          1,
          1,
          1,
          1,
          1,
          1,
          1,
          1,
          1,
          1,
          1,
          1,
          1,
          1,
          1,
          1,
          1,
          1,
          1,
          1,
          1,
          1,
          1,
          1,
          1,
          1,
          1,
          1,
          1,
          1,
          1,
          1,
          1,
          1,
          1,
          1,
          1,
          1,
          1,
          1,
          1,
          1,
          1,
          1,
          1,
          1,
          1,
          1,
          1,
          1,
          1,
          1,
          1,
          1,
          1,
          1,
          1,
          1,
          1,
          1,
          1,
          1,
          1,
          1,
          1,
          1,
          1,
          1,
          1,
          1,
          1,
          1,
          1,
          1,
          1,
          1,
          1,
          1,
          1,
          1,
          1,
          1,
          1,
          1,
          1,
          1,
          1,
          1,
          1,
          1,
          1,
          1,
          1,
          1,
          1,
          1,
          1,
          1,
          1,
          1,
          1,
          1,
          1,
          1,
          1,
          1,
          1,
          1,
          1,
          1,
          1,
          1,
          1,
          1,
          1,
          1,
          1,
          1,
          1,
          1,
          1,
          1,
          1,
          1,
          1,
          1,
          1,
          1,
          1,
          1,
          1,
          1,
          1,
          1,
          1,
          1,
          1,
          1,
          1,
          1,
          1,
          1,
          1,
          1,
          1,
          1,
          1,
          1,
          1,
          1,
          1,
          1,
          1,
          1,
          1,
          1,
          1,
          1,
          1,
          1,
          1,
          1,
          1,
          1,
          1,
          1,
          1,
          1,
          1,
          1,
          1,
          1,
          1,
          1,
          1,
          1,
          1,
          1,
          1,
          1,
          1,
          1,
          1,
          1,
          1,
          1,
          1,
          1,
          1,
          1,
          1,
          1,
          1,
          1,
          1,
          1,
          1,
          1,
          1,
          1,
          1,
          1,
          1,
          1,
          1,
          1,
          1,
          1,
          1,
          1,
          1,
          1,
          1,
          1,
          1,
          1,
          1,
          1,
          1,
          1,
          1,
          1,
          1,
          1,
          1,
          1,
          1,
          1,
          1,
          1,
          1,
          1,
          1,
          1,
          1,
          1,
          1,
          1,
          1,
          1,
          1,
          1,
          1,
          1,
          1,
          1,
          1,
          1,
          1,
          1,
          1,
          1,
          1,
          1,
          1,
          1,
          1,
          1,
          1,
          1,
          1,
          1,
          1,
          1,
          1,
          1,
          1,
          1,
          1,
          1,
          1,
          1,
          1,
          1,
          1,
          1,
          1,
          1,
          1,
          1,
          1,
          1,
          1,
          1,
          1,
          1,
          1,
          1,
          1,
          1,
          1,
          1,
          1,
          1,
          1,
          1,
          1,
          1,
          1,
          1,
          1,
          1,
          1,
          1,
          1,
          1,
          1,
          1,
          1,
          1,
          1,
          1,
          1,
          1,
          1,
          1,
          1,
          1,
          1,
          1,
          1,
          1,
          1,
          1,
          1,
          1,
          1,
          1,
          1,
          1,
          1,
          1,
          1,
          1,
          1,
          1,
          1,
          1,
          1,
          1,
          1,
          1,
          1,
          1,
          1,
          1,
          1,
          1,
          1,
          1,
          1,
          1,
          1,
          1,
          1,
          1,
          1,
          1,
          1,
          1,
          1,
          1,
          1,
          1,
          1,
          1,
          1,
          1,
          1,
          1,
          1,
          1,
          1,
          1,
          1,
          1,
          1,
          1,
          1,
          1,
          1,
          1,
          1,
          1,
          1,
          1,
          1,
          1,
          1,
          1,
          1,
          1,
          1,
          1,
          1,
          1,
          1,
          1,
          1,
          1,
          1,
          1,
          1,
          1,
          1,
          1,
          1,
          1,
          1,
          1,
          1,
          1,
          1,
          1,
          1,
          1,
          1,
          1,
          1,
          1,
          1,
          1,
          1,
          1,
          1,
          1,
          1,
          1,
          1,
          1,
          1,
          1,
          1,
          1,
          1,
          1,
          1,
          1,
          1,
          1,
          1,
          1,
          1,
          1,
          1,
          1,
          1,
          1,
          1,
          1,
          1,
          1,
          1,
          1,
          1,
          1,
          1,
          1,
          1,
          1,
          1,
          1,
          1,
          1,
          1,
          1,
          1,
          1,
          1,
          1,
          1,
          1,
          1,
          1,
          1,
          1,
          1,
          1,
          1,
          1,
          1,
          1,
          1,
          1,
          1,
          1,
          1,
          1,
          1,
          1,
          1,
          1,
          1,
          1,
          1,
          1,
          1,
          1,
          1,
          1,
          1,
          1,
          1,
          1,
          1,
          1,
          1,
          1,
          1,
          1,
          1,
          1,
          1,
          1,
          1,
          1,
          1,
          1,
          1,
          1,
          1,
          1,
          1,
          1,
          1,
          1,
          1,
          1,
          1,
          1,
          1,
          1,
          1,
          1,
          1,
          1,
          1,
          1,
          1,
          1,
          1,
          1,
          1,
          1,
          1,
          1,
          1,
          1,
          1,
          1,
          1,
          1,
          1,
          1,
          1,
          1,
          1,
          1,
          1,
          1,
          1,
          1,
          1,
          1,
          1,
          1,
          1,
          1,
          1,
          1,
          1,
          1,
          1,
          1,
          1,
          1,
          1,
          1,
          1,
          1,
          1,
          1,
          1,
          1,
          1,
          1,
          1,
          1,
          1,
          1,
          1,
          1,
          1,
          1,
          1,
          1,
          1,
          1,
          1,
          1,
          1,
          1,
          1,
          1,
          1,
          1,
          1,
          1,
          1,
          1,
          1,
          1,
          1,
          1,
          1,
          1,
          1,
          1,
          1,
          1,
          1,
          1,
          1,
          1,
          1,
          1,
          1,
          1,
          1,
          1,
          1,
          1,
          1,
          1,
          1,
          1,
          1,
          1,
          1,
          1,
          1,
          1,
          1,
          1,
          1,
          1,
          1,
          1,
          1,
          1,
          1,
          1,
          1,
          1,
          1,
          1,
          1,
          1,
          1,
          1,
          1,
          1,
          1,
          1,
          1,
          1,
          1,
          1,
          1,
          1,
          1,
          1,
          1,
          1,
          1,
          1,
          1,
          1,
          1,
          1,
          1,
          1,
          1,
          1,
          1,
          1,
          1,
          1,
          1,
          1,
          1,
          1,
          1,
          1,
          1,
          1,
          1,
          1,
          1,
          1,
          1,
          1,
          1,
          1,
          1,
          1,
          1,
          1,
          1,
          1,
          1,
          1,
          1,
          1,
          1,
          1,
          1,
          1,
          1,
          1,
          1,
          1,
          1,
          1,
          1,
          1,
          1,
          1,
          1,
          1,
          1,
          1,
          1,
          1,
          1,
          1,
          1,
          1,
          1,
          1,
          1,
          1,
          1,
          1,
          1,
          1,
          1,
          1,
          1,
          1,
          1,
          1,
          1,
          1,
          1,
          1,
          1,
          1,
          1,
          1,
          1,
          1,
          1,
          1,
          1,
          1,
          1,
          1,
          1,
          1,
          1,
          1,
          1,
          1,
          1,
          1,
          1,
          1,
          1,
          1,
          1,
          1,
          1,
          1,
          1,
          1,
          1,
          1,
          1,
          1,
          1,
          1,
          1,
          1,
          1,
          1,
          1,
          1,
          1,
          1,
          1,
          1,
          1,
          1,
          1,
          1,
          1,
          1,
          1,
          1,
          1,
          1,
          1,
          1,
          1,
          1,
          1,
          1,
          1,
          1,
          1,
          1,
          1,
          1,
          1,
          1,
          1,
          1,
          1,
          1,
          1,
          1,
          1,
          1,
          1,
          1,
          1,
          1,
          1,
          1,
          1,
          1,
          1,
          1,
          1,
          1,
          1,
          1,
          1,
          1,
          1,
          1,
          1,
          1,
          1,
          1,
          1,
          1,
          1,
          1,
          1,
          1,
          1,
          1,
          1,
          1,
          1,
          1,
          1,
          1,
          1,
          1,
          1,
          1,
          1,
          1,
          1,
          1,
          1,
          1,
          1,
          1
         ],
         "yaxis": "y"
        }
       ],
       "layout": {
        "barmode": "relative",
        "legend": {
         "tracegroupgap": 0
        },
        "margin": {
         "t": 60
        },
        "template": {
         "data": {
          "bar": [
           {
            "error_x": {
             "color": "#2a3f5f"
            },
            "error_y": {
             "color": "#2a3f5f"
            },
            "marker": {
             "line": {
              "color": "#E5ECF6",
              "width": 0.5
             },
             "pattern": {
              "fillmode": "overlay",
              "size": 10,
              "solidity": 0.2
             }
            },
            "type": "bar"
           }
          ],
          "barpolar": [
           {
            "marker": {
             "line": {
              "color": "#E5ECF6",
              "width": 0.5
             },
             "pattern": {
              "fillmode": "overlay",
              "size": 10,
              "solidity": 0.2
             }
            },
            "type": "barpolar"
           }
          ],
          "carpet": [
           {
            "aaxis": {
             "endlinecolor": "#2a3f5f",
             "gridcolor": "white",
             "linecolor": "white",
             "minorgridcolor": "white",
             "startlinecolor": "#2a3f5f"
            },
            "baxis": {
             "endlinecolor": "#2a3f5f",
             "gridcolor": "white",
             "linecolor": "white",
             "minorgridcolor": "white",
             "startlinecolor": "#2a3f5f"
            },
            "type": "carpet"
           }
          ],
          "choropleth": [
           {
            "colorbar": {
             "outlinewidth": 0,
             "ticks": ""
            },
            "type": "choropleth"
           }
          ],
          "contour": [
           {
            "colorbar": {
             "outlinewidth": 0,
             "ticks": ""
            },
            "colorscale": [
             [
              0,
              "#0d0887"
             ],
             [
              0.1111111111111111,
              "#46039f"
             ],
             [
              0.2222222222222222,
              "#7201a8"
             ],
             [
              0.3333333333333333,
              "#9c179e"
             ],
             [
              0.4444444444444444,
              "#bd3786"
             ],
             [
              0.5555555555555556,
              "#d8576b"
             ],
             [
              0.6666666666666666,
              "#ed7953"
             ],
             [
              0.7777777777777778,
              "#fb9f3a"
             ],
             [
              0.8888888888888888,
              "#fdca26"
             ],
             [
              1,
              "#f0f921"
             ]
            ],
            "type": "contour"
           }
          ],
          "contourcarpet": [
           {
            "colorbar": {
             "outlinewidth": 0,
             "ticks": ""
            },
            "type": "contourcarpet"
           }
          ],
          "heatmap": [
           {
            "colorbar": {
             "outlinewidth": 0,
             "ticks": ""
            },
            "colorscale": [
             [
              0,
              "#0d0887"
             ],
             [
              0.1111111111111111,
              "#46039f"
             ],
             [
              0.2222222222222222,
              "#7201a8"
             ],
             [
              0.3333333333333333,
              "#9c179e"
             ],
             [
              0.4444444444444444,
              "#bd3786"
             ],
             [
              0.5555555555555556,
              "#d8576b"
             ],
             [
              0.6666666666666666,
              "#ed7953"
             ],
             [
              0.7777777777777778,
              "#fb9f3a"
             ],
             [
              0.8888888888888888,
              "#fdca26"
             ],
             [
              1,
              "#f0f921"
             ]
            ],
            "type": "heatmap"
           }
          ],
          "heatmapgl": [
           {
            "colorbar": {
             "outlinewidth": 0,
             "ticks": ""
            },
            "colorscale": [
             [
              0,
              "#0d0887"
             ],
             [
              0.1111111111111111,
              "#46039f"
             ],
             [
              0.2222222222222222,
              "#7201a8"
             ],
             [
              0.3333333333333333,
              "#9c179e"
             ],
             [
              0.4444444444444444,
              "#bd3786"
             ],
             [
              0.5555555555555556,
              "#d8576b"
             ],
             [
              0.6666666666666666,
              "#ed7953"
             ],
             [
              0.7777777777777778,
              "#fb9f3a"
             ],
             [
              0.8888888888888888,
              "#fdca26"
             ],
             [
              1,
              "#f0f921"
             ]
            ],
            "type": "heatmapgl"
           }
          ],
          "histogram": [
           {
            "marker": {
             "pattern": {
              "fillmode": "overlay",
              "size": 10,
              "solidity": 0.2
             }
            },
            "type": "histogram"
           }
          ],
          "histogram2d": [
           {
            "colorbar": {
             "outlinewidth": 0,
             "ticks": ""
            },
            "colorscale": [
             [
              0,
              "#0d0887"
             ],
             [
              0.1111111111111111,
              "#46039f"
             ],
             [
              0.2222222222222222,
              "#7201a8"
             ],
             [
              0.3333333333333333,
              "#9c179e"
             ],
             [
              0.4444444444444444,
              "#bd3786"
             ],
             [
              0.5555555555555556,
              "#d8576b"
             ],
             [
              0.6666666666666666,
              "#ed7953"
             ],
             [
              0.7777777777777778,
              "#fb9f3a"
             ],
             [
              0.8888888888888888,
              "#fdca26"
             ],
             [
              1,
              "#f0f921"
             ]
            ],
            "type": "histogram2d"
           }
          ],
          "histogram2dcontour": [
           {
            "colorbar": {
             "outlinewidth": 0,
             "ticks": ""
            },
            "colorscale": [
             [
              0,
              "#0d0887"
             ],
             [
              0.1111111111111111,
              "#46039f"
             ],
             [
              0.2222222222222222,
              "#7201a8"
             ],
             [
              0.3333333333333333,
              "#9c179e"
             ],
             [
              0.4444444444444444,
              "#bd3786"
             ],
             [
              0.5555555555555556,
              "#d8576b"
             ],
             [
              0.6666666666666666,
              "#ed7953"
             ],
             [
              0.7777777777777778,
              "#fb9f3a"
             ],
             [
              0.8888888888888888,
              "#fdca26"
             ],
             [
              1,
              "#f0f921"
             ]
            ],
            "type": "histogram2dcontour"
           }
          ],
          "mesh3d": [
           {
            "colorbar": {
             "outlinewidth": 0,
             "ticks": ""
            },
            "type": "mesh3d"
           }
          ],
          "parcoords": [
           {
            "line": {
             "colorbar": {
              "outlinewidth": 0,
              "ticks": ""
             }
            },
            "type": "parcoords"
           }
          ],
          "pie": [
           {
            "automargin": true,
            "type": "pie"
           }
          ],
          "scatter": [
           {
            "fillpattern": {
             "fillmode": "overlay",
             "size": 10,
             "solidity": 0.2
            },
            "type": "scatter"
           }
          ],
          "scatter3d": [
           {
            "line": {
             "colorbar": {
              "outlinewidth": 0,
              "ticks": ""
             }
            },
            "marker": {
             "colorbar": {
              "outlinewidth": 0,
              "ticks": ""
             }
            },
            "type": "scatter3d"
           }
          ],
          "scattercarpet": [
           {
            "marker": {
             "colorbar": {
              "outlinewidth": 0,
              "ticks": ""
             }
            },
            "type": "scattercarpet"
           }
          ],
          "scattergeo": [
           {
            "marker": {
             "colorbar": {
              "outlinewidth": 0,
              "ticks": ""
             }
            },
            "type": "scattergeo"
           }
          ],
          "scattergl": [
           {
            "marker": {
             "colorbar": {
              "outlinewidth": 0,
              "ticks": ""
             }
            },
            "type": "scattergl"
           }
          ],
          "scattermapbox": [
           {
            "marker": {
             "colorbar": {
              "outlinewidth": 0,
              "ticks": ""
             }
            },
            "type": "scattermapbox"
           }
          ],
          "scatterpolar": [
           {
            "marker": {
             "colorbar": {
              "outlinewidth": 0,
              "ticks": ""
             }
            },
            "type": "scatterpolar"
           }
          ],
          "scatterpolargl": [
           {
            "marker": {
             "colorbar": {
              "outlinewidth": 0,
              "ticks": ""
             }
            },
            "type": "scatterpolargl"
           }
          ],
          "scatterternary": [
           {
            "marker": {
             "colorbar": {
              "outlinewidth": 0,
              "ticks": ""
             }
            },
            "type": "scatterternary"
           }
          ],
          "surface": [
           {
            "colorbar": {
             "outlinewidth": 0,
             "ticks": ""
            },
            "colorscale": [
             [
              0,
              "#0d0887"
             ],
             [
              0.1111111111111111,
              "#46039f"
             ],
             [
              0.2222222222222222,
              "#7201a8"
             ],
             [
              0.3333333333333333,
              "#9c179e"
             ],
             [
              0.4444444444444444,
              "#bd3786"
             ],
             [
              0.5555555555555556,
              "#d8576b"
             ],
             [
              0.6666666666666666,
              "#ed7953"
             ],
             [
              0.7777777777777778,
              "#fb9f3a"
             ],
             [
              0.8888888888888888,
              "#fdca26"
             ],
             [
              1,
              "#f0f921"
             ]
            ],
            "type": "surface"
           }
          ],
          "table": [
           {
            "cells": {
             "fill": {
              "color": "#EBF0F8"
             },
             "line": {
              "color": "white"
             }
            },
            "header": {
             "fill": {
              "color": "#C8D4E3"
             },
             "line": {
              "color": "white"
             }
            },
            "type": "table"
           }
          ]
         },
         "layout": {
          "annotationdefaults": {
           "arrowcolor": "#2a3f5f",
           "arrowhead": 0,
           "arrowwidth": 1
          },
          "autotypenumbers": "strict",
          "coloraxis": {
           "colorbar": {
            "outlinewidth": 0,
            "ticks": ""
           }
          },
          "colorscale": {
           "diverging": [
            [
             0,
             "#8e0152"
            ],
            [
             0.1,
             "#c51b7d"
            ],
            [
             0.2,
             "#de77ae"
            ],
            [
             0.3,
             "#f1b6da"
            ],
            [
             0.4,
             "#fde0ef"
            ],
            [
             0.5,
             "#f7f7f7"
            ],
            [
             0.6,
             "#e6f5d0"
            ],
            [
             0.7,
             "#b8e186"
            ],
            [
             0.8,
             "#7fbc41"
            ],
            [
             0.9,
             "#4d9221"
            ],
            [
             1,
             "#276419"
            ]
           ],
           "sequential": [
            [
             0,
             "#0d0887"
            ],
            [
             0.1111111111111111,
             "#46039f"
            ],
            [
             0.2222222222222222,
             "#7201a8"
            ],
            [
             0.3333333333333333,
             "#9c179e"
            ],
            [
             0.4444444444444444,
             "#bd3786"
            ],
            [
             0.5555555555555556,
             "#d8576b"
            ],
            [
             0.6666666666666666,
             "#ed7953"
            ],
            [
             0.7777777777777778,
             "#fb9f3a"
            ],
            [
             0.8888888888888888,
             "#fdca26"
            ],
            [
             1,
             "#f0f921"
            ]
           ],
           "sequentialminus": [
            [
             0,
             "#0d0887"
            ],
            [
             0.1111111111111111,
             "#46039f"
            ],
            [
             0.2222222222222222,
             "#7201a8"
            ],
            [
             0.3333333333333333,
             "#9c179e"
            ],
            [
             0.4444444444444444,
             "#bd3786"
            ],
            [
             0.5555555555555556,
             "#d8576b"
            ],
            [
             0.6666666666666666,
             "#ed7953"
            ],
            [
             0.7777777777777778,
             "#fb9f3a"
            ],
            [
             0.8888888888888888,
             "#fdca26"
            ],
            [
             1,
             "#f0f921"
            ]
           ]
          },
          "colorway": [
           "#636efa",
           "#EF553B",
           "#00cc96",
           "#ab63fa",
           "#FFA15A",
           "#19d3f3",
           "#FF6692",
           "#B6E880",
           "#FF97FF",
           "#FECB52"
          ],
          "font": {
           "color": "#2a3f5f"
          },
          "geo": {
           "bgcolor": "white",
           "lakecolor": "white",
           "landcolor": "#E5ECF6",
           "showlakes": true,
           "showland": true,
           "subunitcolor": "white"
          },
          "hoverlabel": {
           "align": "left"
          },
          "hovermode": "closest",
          "mapbox": {
           "style": "light"
          },
          "paper_bgcolor": "white",
          "plot_bgcolor": "#E5ECF6",
          "polar": {
           "angularaxis": {
            "gridcolor": "white",
            "linecolor": "white",
            "ticks": ""
           },
           "bgcolor": "#E5ECF6",
           "radialaxis": {
            "gridcolor": "white",
            "linecolor": "white",
            "ticks": ""
           }
          },
          "scene": {
           "xaxis": {
            "backgroundcolor": "#E5ECF6",
            "gridcolor": "white",
            "gridwidth": 2,
            "linecolor": "white",
            "showbackground": true,
            "ticks": "",
            "zerolinecolor": "white"
           },
           "yaxis": {
            "backgroundcolor": "#E5ECF6",
            "gridcolor": "white",
            "gridwidth": 2,
            "linecolor": "white",
            "showbackground": true,
            "ticks": "",
            "zerolinecolor": "white"
           },
           "zaxis": {
            "backgroundcolor": "#E5ECF6",
            "gridcolor": "white",
            "gridwidth": 2,
            "linecolor": "white",
            "showbackground": true,
            "ticks": "",
            "zerolinecolor": "white"
           }
          },
          "shapedefaults": {
           "line": {
            "color": "#2a3f5f"
           }
          },
          "ternary": {
           "aaxis": {
            "gridcolor": "white",
            "linecolor": "white",
            "ticks": ""
           },
           "baxis": {
            "gridcolor": "white",
            "linecolor": "white",
            "ticks": ""
           },
           "bgcolor": "#E5ECF6",
           "caxis": {
            "gridcolor": "white",
            "linecolor": "white",
            "ticks": ""
           }
          },
          "title": {
           "x": 0.05
          },
          "xaxis": {
           "automargin": true,
           "gridcolor": "white",
           "linecolor": "white",
           "ticks": "",
           "title": {
            "standoff": 15
           },
           "zerolinecolor": "white",
           "zerolinewidth": 2
          },
          "yaxis": {
           "automargin": true,
           "gridcolor": "white",
           "linecolor": "white",
           "ticks": "",
           "title": {
            "standoff": 15
           },
           "zerolinecolor": "white",
           "zerolinewidth": 2
          }
         }
        },
        "xaxis": {
         "anchor": "y",
         "domain": [
          0,
          1
         ],
         "title": {
          "text": "x"
         }
        },
        "yaxis": {
         "anchor": "x",
         "domain": [
          0,
          1
         ],
         "title": {
          "text": "count"
         }
        }
       }
      }
     },
     "metadata": {},
     "output_type": "display_data"
    }
   ],
   "source": [
    "rotulados = pd.read_excel(dataSet, sheet_name='ROTULADO')\n",
    "\n",
    "fig = px.bar(rotulados['text'], x=rotulados['rotulo'])\n",
    "fig.show()"
   ]
  },
  {
   "cell_type": "markdown",
   "metadata": {},
   "source": [
    "*Amostra do dataset de treino, balanceado, sobre 70% de todo o dataset rotulado*"
   ]
  },
  {
   "cell_type": "code",
   "execution_count": 151,
   "metadata": {},
   "outputs": [
    {
     "data": {
      "application/vnd.plotly.v1+json": {
       "config": {
        "plotlyServerURL": "https://plot.ly"
       },
       "data": [
        {
         "alignmentgroup": "True",
         "hovertemplate": "x=%{x}<br>count=%{y}<extra></extra>",
         "legendgroup": "",
         "marker": {
          "color": "#636efa",
          "pattern": {
           "shape": ""
          }
         },
         "name": "",
         "offsetgroup": "",
         "orientation": "v",
         "showlegend": false,
         "textposition": "auto",
         "type": "bar",
         "x": [
          "POSITIVO",
          "POSITIVO",
          "NEGATIVO",
          "POSITIVO",
          "POSITIVO",
          "NEGATIVO",
          "NEGATIVO",
          "POSITIVO",
          "POSITIVO",
          "NEGATIVO",
          "NEGATIVO",
          "NEGATIVO",
          "NEGATIVO",
          "POSITIVO",
          "POSITIVO",
          "POSITIVO",
          "POSITIVO",
          "NEGATIVO",
          "NEGATIVO",
          "POSITIVO",
          "POSITIVO",
          "POSITIVO",
          "POSITIVO",
          "NEGATIVO",
          "POSITIVO",
          "NEGATIVO",
          "NEGATIVO",
          "NEGATIVO",
          "POSITIVO",
          "NEGATIVO",
          "NEGATIVO",
          "POSITIVO",
          "NEGATIVO",
          "POSITIVO",
          "POSITIVO",
          "POSITIVO",
          "NEGATIVO",
          "POSITIVO",
          "NEGATIVO",
          "POSITIVO",
          "NEGATIVO",
          "POSITIVO",
          "POSITIVO",
          "POSITIVO",
          "POSITIVO",
          "POSITIVO",
          "NEGATIVO",
          "POSITIVO",
          "POSITIVO",
          "NEGATIVO",
          "NEGATIVO",
          "POSITIVO",
          "POSITIVO",
          "POSITIVO",
          "POSITIVO",
          "NEGATIVO",
          "NEGATIVO",
          "POSITIVO",
          "POSITIVO",
          "POSITIVO",
          "POSITIVO",
          "POSITIVO",
          "NEGATIVO",
          "POSITIVO",
          "NEGATIVO",
          "NEGATIVO",
          "POSITIVO",
          "POSITIVO",
          "POSITIVO",
          "NEGATIVO",
          "POSITIVO",
          "NEGATIVO",
          "POSITIVO",
          "NEGATIVO",
          "NEGATIVO",
          "POSITIVO",
          "NEGATIVO",
          "POSITIVO",
          "POSITIVO",
          "NEGATIVO",
          "POSITIVO",
          "NEGATIVO",
          "NEGATIVO",
          "NEGATIVO",
          "NEGATIVO",
          "NEGATIVO",
          "NEGATIVO",
          "NEGATIVO",
          "POSITIVO",
          "NEGATIVO",
          "NEGATIVO",
          "NEGATIVO",
          "POSITIVO",
          "POSITIVO",
          "POSITIVO",
          "NEGATIVO",
          "NEGATIVO",
          "NEGATIVO",
          "POSITIVO",
          "POSITIVO",
          "POSITIVO",
          "NEGATIVO",
          "POSITIVO",
          "POSITIVO",
          "POSITIVO",
          "POSITIVO",
          "NEGATIVO",
          "POSITIVO",
          "POSITIVO",
          "NEGATIVO",
          "POSITIVO",
          "NEGATIVO",
          "NEGATIVO",
          "NEGATIVO",
          "POSITIVO",
          "NEGATIVO",
          "NEGATIVO",
          "NEGATIVO",
          "NEGATIVO",
          "NEGATIVO",
          "NEGATIVO",
          "POSITIVO",
          "NEGATIVO",
          "POSITIVO",
          "NEGATIVO",
          "NEGATIVO",
          "POSITIVO",
          "NEGATIVO",
          "NEGATIVO",
          "NEGATIVO",
          "POSITIVO",
          "POSITIVO",
          "NEGATIVO",
          "POSITIVO",
          "NEGATIVO",
          "POSITIVO",
          "NEGATIVO",
          "POSITIVO",
          "NEGATIVO",
          "NEGATIVO",
          "NEGATIVO",
          "NEGATIVO",
          "POSITIVO",
          "NEGATIVO",
          "NEGATIVO",
          "NEGATIVO",
          "POSITIVO",
          "NEGATIVO",
          "POSITIVO",
          "NEGATIVO",
          "NEGATIVO",
          "NEGATIVO",
          "NEGATIVO",
          "NEGATIVO",
          "POSITIVO",
          "POSITIVO",
          "POSITIVO",
          "NEGATIVO",
          "POSITIVO",
          "POSITIVO",
          "POSITIVO",
          "NEGATIVO",
          "NEGATIVO",
          "POSITIVO",
          "POSITIVO",
          "POSITIVO",
          "NEGATIVO",
          "NEGATIVO",
          "NEGATIVO",
          "NEGATIVO",
          "POSITIVO",
          "NEGATIVO",
          "NEGATIVO",
          "NEGATIVO",
          "NEGATIVO",
          "POSITIVO",
          "NEGATIVO",
          "POSITIVO",
          "POSITIVO",
          "NEGATIVO",
          "POSITIVO",
          "POSITIVO",
          "NEGATIVO",
          "POSITIVO",
          "NEGATIVO",
          "POSITIVO",
          "NEGATIVO",
          "NEGATIVO",
          "NEGATIVO",
          "NEGATIVO",
          "POSITIVO",
          "POSITIVO",
          "POSITIVO",
          "NEGATIVO",
          "NEGATIVO",
          "POSITIVO",
          "NEGATIVO",
          "POSITIVO",
          "POSITIVO",
          "NEGATIVO",
          "POSITIVO",
          "POSITIVO",
          "POSITIVO",
          "NEGATIVO",
          "POSITIVO",
          "NEGATIVO",
          "POSITIVO",
          "NEGATIVO",
          "POSITIVO",
          "NEGATIVO",
          "NEGATIVO",
          "NEGATIVO",
          "NEGATIVO",
          "NEGATIVO",
          "NEGATIVO",
          "NEGATIVO",
          "POSITIVO",
          "NEGATIVO",
          "POSITIVO",
          "NEGATIVO",
          "POSITIVO",
          "POSITIVO",
          "NEGATIVO",
          "NEGATIVO",
          "NEGATIVO",
          "POSITIVO",
          "POSITIVO",
          "NEGATIVO",
          "POSITIVO",
          "NEGATIVO",
          "POSITIVO",
          "POSITIVO",
          "NEGATIVO",
          "NEGATIVO",
          "NEGATIVO",
          "POSITIVO",
          "POSITIVO",
          "NEGATIVO",
          "NEGATIVO",
          "NEGATIVO",
          "POSITIVO",
          "POSITIVO",
          "NEGATIVO",
          "NEGATIVO",
          "POSITIVO",
          "NEGATIVO",
          "NEGATIVO",
          "POSITIVO",
          "NEGATIVO",
          "NEGATIVO",
          "NEGATIVO",
          "POSITIVO",
          "NEGATIVO",
          "NEGATIVO",
          "POSITIVO",
          "POSITIVO",
          "POSITIVO",
          "POSITIVO",
          "POSITIVO",
          "POSITIVO",
          "NEGATIVO",
          "NEGATIVO",
          "NEGATIVO",
          "NEGATIVO",
          "POSITIVO",
          "POSITIVO",
          "POSITIVO",
          "POSITIVO",
          "POSITIVO",
          "NEGATIVO",
          "NEGATIVO",
          "POSITIVO",
          "POSITIVO",
          "POSITIVO",
          "POSITIVO",
          "NEGATIVO",
          "NEGATIVO",
          "POSITIVO",
          "POSITIVO",
          "NEGATIVO",
          "NEGATIVO",
          "NEGATIVO",
          "POSITIVO",
          "POSITIVO",
          "NEGATIVO",
          "POSITIVO",
          "NEGATIVO",
          "POSITIVO",
          "NEGATIVO",
          "NEGATIVO",
          "POSITIVO",
          "POSITIVO",
          "NEGATIVO",
          "POSITIVO",
          "POSITIVO",
          "POSITIVO",
          "POSITIVO",
          "POSITIVO",
          "POSITIVO",
          "NEGATIVO",
          "POSITIVO",
          "NEGATIVO",
          "POSITIVO",
          "POSITIVO",
          "POSITIVO",
          "NEGATIVO",
          "NEGATIVO",
          "POSITIVO",
          "NEGATIVO",
          "NEGATIVO",
          "NEGATIVO",
          "NEGATIVO",
          "NEGATIVO",
          "NEGATIVO",
          "POSITIVO",
          "NEGATIVO",
          "NEGATIVO",
          "NEGATIVO",
          "POSITIVO",
          "NEGATIVO",
          "POSITIVO",
          "POSITIVO",
          "POSITIVO",
          "NEGATIVO",
          "POSITIVO",
          "POSITIVO",
          "NEGATIVO",
          "POSITIVO",
          "POSITIVO",
          "POSITIVO",
          "NEGATIVO",
          "POSITIVO",
          "POSITIVO",
          "POSITIVO",
          "POSITIVO",
          "POSITIVO",
          "POSITIVO",
          "POSITIVO",
          "NEGATIVO",
          "POSITIVO",
          "NEGATIVO",
          "POSITIVO",
          "NEGATIVO",
          "NEGATIVO",
          "POSITIVO",
          "POSITIVO",
          "NEGATIVO",
          "NEGATIVO",
          "POSITIVO",
          "NEGATIVO",
          "NEGATIVO",
          "POSITIVO",
          "NEGATIVO",
          "NEGATIVO",
          "NEGATIVO",
          "NEGATIVO",
          "POSITIVO",
          "POSITIVO",
          "NEGATIVO",
          "POSITIVO",
          "NEGATIVO",
          "NEGATIVO",
          "POSITIVO",
          "POSITIVO",
          "POSITIVO",
          "NEGATIVO",
          "POSITIVO",
          "POSITIVO",
          "POSITIVO",
          "POSITIVO",
          "NEGATIVO",
          "NEGATIVO",
          "NEGATIVO",
          "POSITIVO",
          "NEGATIVO",
          "NEGATIVO",
          "POSITIVO",
          "NEGATIVO",
          "NEGATIVO",
          "NEGATIVO",
          "POSITIVO",
          "POSITIVO",
          "NEGATIVO",
          "POSITIVO",
          "POSITIVO",
          "NEGATIVO",
          "POSITIVO",
          "POSITIVO",
          "POSITIVO",
          "NEGATIVO",
          "NEGATIVO",
          "POSITIVO",
          "NEGATIVO",
          "POSITIVO",
          "POSITIVO",
          "POSITIVO",
          "NEGATIVO",
          "NEGATIVO",
          "NEGATIVO",
          "NEGATIVO",
          "NEGATIVO",
          "NEGATIVO",
          "POSITIVO",
          "NEGATIVO",
          "POSITIVO",
          "NEGATIVO",
          "NEGATIVO",
          "NEGATIVO",
          "NEGATIVO",
          "NEGATIVO",
          "NEGATIVO",
          "POSITIVO",
          "POSITIVO",
          "POSITIVO",
          "NEGATIVO",
          "POSITIVO",
          "POSITIVO",
          "POSITIVO",
          "POSITIVO",
          "POSITIVO",
          "POSITIVO",
          "POSITIVO",
          "NEGATIVO",
          "POSITIVO",
          "POSITIVO",
          "NEGATIVO",
          "POSITIVO",
          "NEGATIVO",
          "NEGATIVO",
          "POSITIVO",
          "POSITIVO",
          "POSITIVO",
          "POSITIVO",
          "POSITIVO",
          "NEGATIVO",
          "POSITIVO",
          "NEGATIVO",
          "NEGATIVO",
          "POSITIVO",
          "POSITIVO",
          "NEGATIVO",
          "NEGATIVO",
          "POSITIVO",
          "NEGATIVO",
          "POSITIVO",
          "NEGATIVO",
          "NEGATIVO",
          "NEGATIVO",
          "NEGATIVO",
          "NEGATIVO",
          "NEGATIVO",
          "POSITIVO",
          "POSITIVO",
          "POSITIVO",
          "NEGATIVO",
          "POSITIVO",
          "POSITIVO",
          "NEGATIVO",
          "NEGATIVO",
          "NEGATIVO",
          "POSITIVO",
          "NEGATIVO",
          "POSITIVO",
          "POSITIVO",
          "NEGATIVO",
          "NEGATIVO",
          "POSITIVO",
          "POSITIVO",
          "POSITIVO",
          "POSITIVO",
          "NEGATIVO",
          "POSITIVO",
          "POSITIVO",
          "POSITIVO",
          "NEGATIVO",
          "NEGATIVO",
          "NEGATIVO",
          "NEGATIVO",
          "POSITIVO",
          "NEGATIVO",
          "POSITIVO",
          "POSITIVO",
          "POSITIVO",
          "NEGATIVO",
          "NEGATIVO",
          "POSITIVO",
          "POSITIVO",
          "NEGATIVO",
          "NEGATIVO",
          "POSITIVO",
          "NEGATIVO",
          "NEGATIVO",
          "NEGATIVO",
          "POSITIVO",
          "NEGATIVO",
          "POSITIVO"
         ],
         "xaxis": "x",
         "y": [
          1,
          1,
          1,
          1,
          1,
          1,
          1,
          1,
          1,
          1,
          1,
          1,
          1,
          1,
          1,
          1,
          1,
          1,
          1,
          1,
          1,
          1,
          1,
          1,
          1,
          1,
          1,
          1,
          1,
          1,
          1,
          1,
          1,
          1,
          1,
          1,
          1,
          1,
          1,
          1,
          1,
          1,
          1,
          1,
          1,
          1,
          1,
          1,
          1,
          1,
          1,
          1,
          1,
          1,
          1,
          1,
          1,
          1,
          1,
          1,
          1,
          1,
          1,
          1,
          1,
          1,
          1,
          1,
          1,
          1,
          1,
          1,
          1,
          1,
          1,
          1,
          1,
          1,
          1,
          1,
          1,
          1,
          1,
          1,
          1,
          1,
          1,
          1,
          1,
          1,
          1,
          1,
          1,
          1,
          1,
          1,
          1,
          1,
          1,
          1,
          1,
          1,
          1,
          1,
          1,
          1,
          1,
          1,
          1,
          1,
          1,
          1,
          1,
          1,
          1,
          1,
          1,
          1,
          1,
          1,
          1,
          1,
          1,
          1,
          1,
          1,
          1,
          1,
          1,
          1,
          1,
          1,
          1,
          1,
          1,
          1,
          1,
          1,
          1,
          1,
          1,
          1,
          1,
          1,
          1,
          1,
          1,
          1,
          1,
          1,
          1,
          1,
          1,
          1,
          1,
          1,
          1,
          1,
          1,
          1,
          1,
          1,
          1,
          1,
          1,
          1,
          1,
          1,
          1,
          1,
          1,
          1,
          1,
          1,
          1,
          1,
          1,
          1,
          1,
          1,
          1,
          1,
          1,
          1,
          1,
          1,
          1,
          1,
          1,
          1,
          1,
          1,
          1,
          1,
          1,
          1,
          1,
          1,
          1,
          1,
          1,
          1,
          1,
          1,
          1,
          1,
          1,
          1,
          1,
          1,
          1,
          1,
          1,
          1,
          1,
          1,
          1,
          1,
          1,
          1,
          1,
          1,
          1,
          1,
          1,
          1,
          1,
          1,
          1,
          1,
          1,
          1,
          1,
          1,
          1,
          1,
          1,
          1,
          1,
          1,
          1,
          1,
          1,
          1,
          1,
          1,
          1,
          1,
          1,
          1,
          1,
          1,
          1,
          1,
          1,
          1,
          1,
          1,
          1,
          1,
          1,
          1,
          1,
          1,
          1,
          1,
          1,
          1,
          1,
          1,
          1,
          1,
          1,
          1,
          1,
          1,
          1,
          1,
          1,
          1,
          1,
          1,
          1,
          1,
          1,
          1,
          1,
          1,
          1,
          1,
          1,
          1,
          1,
          1,
          1,
          1,
          1,
          1,
          1,
          1,
          1,
          1,
          1,
          1,
          1,
          1,
          1,
          1,
          1,
          1,
          1,
          1,
          1,
          1,
          1,
          1,
          1,
          1,
          1,
          1,
          1,
          1,
          1,
          1,
          1,
          1,
          1,
          1,
          1,
          1,
          1,
          1,
          1,
          1,
          1,
          1,
          1,
          1,
          1,
          1,
          1,
          1,
          1,
          1,
          1,
          1,
          1,
          1,
          1,
          1,
          1,
          1,
          1,
          1,
          1,
          1,
          1,
          1,
          1,
          1,
          1,
          1,
          1,
          1,
          1,
          1,
          1,
          1,
          1,
          1,
          1,
          1,
          1,
          1,
          1,
          1,
          1,
          1,
          1,
          1,
          1,
          1,
          1,
          1,
          1,
          1,
          1,
          1,
          1,
          1,
          1,
          1,
          1,
          1,
          1,
          1,
          1,
          1,
          1,
          1,
          1,
          1,
          1,
          1,
          1,
          1,
          1,
          1,
          1,
          1,
          1,
          1,
          1,
          1,
          1,
          1,
          1,
          1,
          1,
          1,
          1,
          1,
          1,
          1,
          1,
          1,
          1,
          1,
          1,
          1,
          1,
          1,
          1,
          1,
          1,
          1,
          1,
          1,
          1,
          1,
          1,
          1,
          1,
          1,
          1,
          1,
          1,
          1,
          1,
          1,
          1,
          1,
          1,
          1,
          1,
          1,
          1,
          1,
          1,
          1,
          1,
          1,
          1,
          1,
          1,
          1,
          1,
          1,
          1,
          1,
          1,
          1,
          1,
          1,
          1,
          1,
          1,
          1,
          1,
          1,
          1,
          1,
          1,
          1,
          1,
          1,
          1,
          1,
          1,
          1,
          1,
          1,
          1,
          1,
          1,
          1
         ],
         "yaxis": "y"
        }
       ],
       "layout": {
        "barmode": "relative",
        "legend": {
         "tracegroupgap": 0
        },
        "margin": {
         "t": 60
        },
        "template": {
         "data": {
          "bar": [
           {
            "error_x": {
             "color": "#2a3f5f"
            },
            "error_y": {
             "color": "#2a3f5f"
            },
            "marker": {
             "line": {
              "color": "#E5ECF6",
              "width": 0.5
             },
             "pattern": {
              "fillmode": "overlay",
              "size": 10,
              "solidity": 0.2
             }
            },
            "type": "bar"
           }
          ],
          "barpolar": [
           {
            "marker": {
             "line": {
              "color": "#E5ECF6",
              "width": 0.5
             },
             "pattern": {
              "fillmode": "overlay",
              "size": 10,
              "solidity": 0.2
             }
            },
            "type": "barpolar"
           }
          ],
          "carpet": [
           {
            "aaxis": {
             "endlinecolor": "#2a3f5f",
             "gridcolor": "white",
             "linecolor": "white",
             "minorgridcolor": "white",
             "startlinecolor": "#2a3f5f"
            },
            "baxis": {
             "endlinecolor": "#2a3f5f",
             "gridcolor": "white",
             "linecolor": "white",
             "minorgridcolor": "white",
             "startlinecolor": "#2a3f5f"
            },
            "type": "carpet"
           }
          ],
          "choropleth": [
           {
            "colorbar": {
             "outlinewidth": 0,
             "ticks": ""
            },
            "type": "choropleth"
           }
          ],
          "contour": [
           {
            "colorbar": {
             "outlinewidth": 0,
             "ticks": ""
            },
            "colorscale": [
             [
              0,
              "#0d0887"
             ],
             [
              0.1111111111111111,
              "#46039f"
             ],
             [
              0.2222222222222222,
              "#7201a8"
             ],
             [
              0.3333333333333333,
              "#9c179e"
             ],
             [
              0.4444444444444444,
              "#bd3786"
             ],
             [
              0.5555555555555556,
              "#d8576b"
             ],
             [
              0.6666666666666666,
              "#ed7953"
             ],
             [
              0.7777777777777778,
              "#fb9f3a"
             ],
             [
              0.8888888888888888,
              "#fdca26"
             ],
             [
              1,
              "#f0f921"
             ]
            ],
            "type": "contour"
           }
          ],
          "contourcarpet": [
           {
            "colorbar": {
             "outlinewidth": 0,
             "ticks": ""
            },
            "type": "contourcarpet"
           }
          ],
          "heatmap": [
           {
            "colorbar": {
             "outlinewidth": 0,
             "ticks": ""
            },
            "colorscale": [
             [
              0,
              "#0d0887"
             ],
             [
              0.1111111111111111,
              "#46039f"
             ],
             [
              0.2222222222222222,
              "#7201a8"
             ],
             [
              0.3333333333333333,
              "#9c179e"
             ],
             [
              0.4444444444444444,
              "#bd3786"
             ],
             [
              0.5555555555555556,
              "#d8576b"
             ],
             [
              0.6666666666666666,
              "#ed7953"
             ],
             [
              0.7777777777777778,
              "#fb9f3a"
             ],
             [
              0.8888888888888888,
              "#fdca26"
             ],
             [
              1,
              "#f0f921"
             ]
            ],
            "type": "heatmap"
           }
          ],
          "heatmapgl": [
           {
            "colorbar": {
             "outlinewidth": 0,
             "ticks": ""
            },
            "colorscale": [
             [
              0,
              "#0d0887"
             ],
             [
              0.1111111111111111,
              "#46039f"
             ],
             [
              0.2222222222222222,
              "#7201a8"
             ],
             [
              0.3333333333333333,
              "#9c179e"
             ],
             [
              0.4444444444444444,
              "#bd3786"
             ],
             [
              0.5555555555555556,
              "#d8576b"
             ],
             [
              0.6666666666666666,
              "#ed7953"
             ],
             [
              0.7777777777777778,
              "#fb9f3a"
             ],
             [
              0.8888888888888888,
              "#fdca26"
             ],
             [
              1,
              "#f0f921"
             ]
            ],
            "type": "heatmapgl"
           }
          ],
          "histogram": [
           {
            "marker": {
             "pattern": {
              "fillmode": "overlay",
              "size": 10,
              "solidity": 0.2
             }
            },
            "type": "histogram"
           }
          ],
          "histogram2d": [
           {
            "colorbar": {
             "outlinewidth": 0,
             "ticks": ""
            },
            "colorscale": [
             [
              0,
              "#0d0887"
             ],
             [
              0.1111111111111111,
              "#46039f"
             ],
             [
              0.2222222222222222,
              "#7201a8"
             ],
             [
              0.3333333333333333,
              "#9c179e"
             ],
             [
              0.4444444444444444,
              "#bd3786"
             ],
             [
              0.5555555555555556,
              "#d8576b"
             ],
             [
              0.6666666666666666,
              "#ed7953"
             ],
             [
              0.7777777777777778,
              "#fb9f3a"
             ],
             [
              0.8888888888888888,
              "#fdca26"
             ],
             [
              1,
              "#f0f921"
             ]
            ],
            "type": "histogram2d"
           }
          ],
          "histogram2dcontour": [
           {
            "colorbar": {
             "outlinewidth": 0,
             "ticks": ""
            },
            "colorscale": [
             [
              0,
              "#0d0887"
             ],
             [
              0.1111111111111111,
              "#46039f"
             ],
             [
              0.2222222222222222,
              "#7201a8"
             ],
             [
              0.3333333333333333,
              "#9c179e"
             ],
             [
              0.4444444444444444,
              "#bd3786"
             ],
             [
              0.5555555555555556,
              "#d8576b"
             ],
             [
              0.6666666666666666,
              "#ed7953"
             ],
             [
              0.7777777777777778,
              "#fb9f3a"
             ],
             [
              0.8888888888888888,
              "#fdca26"
             ],
             [
              1,
              "#f0f921"
             ]
            ],
            "type": "histogram2dcontour"
           }
          ],
          "mesh3d": [
           {
            "colorbar": {
             "outlinewidth": 0,
             "ticks": ""
            },
            "type": "mesh3d"
           }
          ],
          "parcoords": [
           {
            "line": {
             "colorbar": {
              "outlinewidth": 0,
              "ticks": ""
             }
            },
            "type": "parcoords"
           }
          ],
          "pie": [
           {
            "automargin": true,
            "type": "pie"
           }
          ],
          "scatter": [
           {
            "fillpattern": {
             "fillmode": "overlay",
             "size": 10,
             "solidity": 0.2
            },
            "type": "scatter"
           }
          ],
          "scatter3d": [
           {
            "line": {
             "colorbar": {
              "outlinewidth": 0,
              "ticks": ""
             }
            },
            "marker": {
             "colorbar": {
              "outlinewidth": 0,
              "ticks": ""
             }
            },
            "type": "scatter3d"
           }
          ],
          "scattercarpet": [
           {
            "marker": {
             "colorbar": {
              "outlinewidth": 0,
              "ticks": ""
             }
            },
            "type": "scattercarpet"
           }
          ],
          "scattergeo": [
           {
            "marker": {
             "colorbar": {
              "outlinewidth": 0,
              "ticks": ""
             }
            },
            "type": "scattergeo"
           }
          ],
          "scattergl": [
           {
            "marker": {
             "colorbar": {
              "outlinewidth": 0,
              "ticks": ""
             }
            },
            "type": "scattergl"
           }
          ],
          "scattermapbox": [
           {
            "marker": {
             "colorbar": {
              "outlinewidth": 0,
              "ticks": ""
             }
            },
            "type": "scattermapbox"
           }
          ],
          "scatterpolar": [
           {
            "marker": {
             "colorbar": {
              "outlinewidth": 0,
              "ticks": ""
             }
            },
            "type": "scatterpolar"
           }
          ],
          "scatterpolargl": [
           {
            "marker": {
             "colorbar": {
              "outlinewidth": 0,
              "ticks": ""
             }
            },
            "type": "scatterpolargl"
           }
          ],
          "scatterternary": [
           {
            "marker": {
             "colorbar": {
              "outlinewidth": 0,
              "ticks": ""
             }
            },
            "type": "scatterternary"
           }
          ],
          "surface": [
           {
            "colorbar": {
             "outlinewidth": 0,
             "ticks": ""
            },
            "colorscale": [
             [
              0,
              "#0d0887"
             ],
             [
              0.1111111111111111,
              "#46039f"
             ],
             [
              0.2222222222222222,
              "#7201a8"
             ],
             [
              0.3333333333333333,
              "#9c179e"
             ],
             [
              0.4444444444444444,
              "#bd3786"
             ],
             [
              0.5555555555555556,
              "#d8576b"
             ],
             [
              0.6666666666666666,
              "#ed7953"
             ],
             [
              0.7777777777777778,
              "#fb9f3a"
             ],
             [
              0.8888888888888888,
              "#fdca26"
             ],
             [
              1,
              "#f0f921"
             ]
            ],
            "type": "surface"
           }
          ],
          "table": [
           {
            "cells": {
             "fill": {
              "color": "#EBF0F8"
             },
             "line": {
              "color": "white"
             }
            },
            "header": {
             "fill": {
              "color": "#C8D4E3"
             },
             "line": {
              "color": "white"
             }
            },
            "type": "table"
           }
          ]
         },
         "layout": {
          "annotationdefaults": {
           "arrowcolor": "#2a3f5f",
           "arrowhead": 0,
           "arrowwidth": 1
          },
          "autotypenumbers": "strict",
          "coloraxis": {
           "colorbar": {
            "outlinewidth": 0,
            "ticks": ""
           }
          },
          "colorscale": {
           "diverging": [
            [
             0,
             "#8e0152"
            ],
            [
             0.1,
             "#c51b7d"
            ],
            [
             0.2,
             "#de77ae"
            ],
            [
             0.3,
             "#f1b6da"
            ],
            [
             0.4,
             "#fde0ef"
            ],
            [
             0.5,
             "#f7f7f7"
            ],
            [
             0.6,
             "#e6f5d0"
            ],
            [
             0.7,
             "#b8e186"
            ],
            [
             0.8,
             "#7fbc41"
            ],
            [
             0.9,
             "#4d9221"
            ],
            [
             1,
             "#276419"
            ]
           ],
           "sequential": [
            [
             0,
             "#0d0887"
            ],
            [
             0.1111111111111111,
             "#46039f"
            ],
            [
             0.2222222222222222,
             "#7201a8"
            ],
            [
             0.3333333333333333,
             "#9c179e"
            ],
            [
             0.4444444444444444,
             "#bd3786"
            ],
            [
             0.5555555555555556,
             "#d8576b"
            ],
            [
             0.6666666666666666,
             "#ed7953"
            ],
            [
             0.7777777777777778,
             "#fb9f3a"
            ],
            [
             0.8888888888888888,
             "#fdca26"
            ],
            [
             1,
             "#f0f921"
            ]
           ],
           "sequentialminus": [
            [
             0,
             "#0d0887"
            ],
            [
             0.1111111111111111,
             "#46039f"
            ],
            [
             0.2222222222222222,
             "#7201a8"
            ],
            [
             0.3333333333333333,
             "#9c179e"
            ],
            [
             0.4444444444444444,
             "#bd3786"
            ],
            [
             0.5555555555555556,
             "#d8576b"
            ],
            [
             0.6666666666666666,
             "#ed7953"
            ],
            [
             0.7777777777777778,
             "#fb9f3a"
            ],
            [
             0.8888888888888888,
             "#fdca26"
            ],
            [
             1,
             "#f0f921"
            ]
           ]
          },
          "colorway": [
           "#636efa",
           "#EF553B",
           "#00cc96",
           "#ab63fa",
           "#FFA15A",
           "#19d3f3",
           "#FF6692",
           "#B6E880",
           "#FF97FF",
           "#FECB52"
          ],
          "font": {
           "color": "#2a3f5f"
          },
          "geo": {
           "bgcolor": "white",
           "lakecolor": "white",
           "landcolor": "#E5ECF6",
           "showlakes": true,
           "showland": true,
           "subunitcolor": "white"
          },
          "hoverlabel": {
           "align": "left"
          },
          "hovermode": "closest",
          "mapbox": {
           "style": "light"
          },
          "paper_bgcolor": "white",
          "plot_bgcolor": "#E5ECF6",
          "polar": {
           "angularaxis": {
            "gridcolor": "white",
            "linecolor": "white",
            "ticks": ""
           },
           "bgcolor": "#E5ECF6",
           "radialaxis": {
            "gridcolor": "white",
            "linecolor": "white",
            "ticks": ""
           }
          },
          "scene": {
           "xaxis": {
            "backgroundcolor": "#E5ECF6",
            "gridcolor": "white",
            "gridwidth": 2,
            "linecolor": "white",
            "showbackground": true,
            "ticks": "",
            "zerolinecolor": "white"
           },
           "yaxis": {
            "backgroundcolor": "#E5ECF6",
            "gridcolor": "white",
            "gridwidth": 2,
            "linecolor": "white",
            "showbackground": true,
            "ticks": "",
            "zerolinecolor": "white"
           },
           "zaxis": {
            "backgroundcolor": "#E5ECF6",
            "gridcolor": "white",
            "gridwidth": 2,
            "linecolor": "white",
            "showbackground": true,
            "ticks": "",
            "zerolinecolor": "white"
           }
          },
          "shapedefaults": {
           "line": {
            "color": "#2a3f5f"
           }
          },
          "ternary": {
           "aaxis": {
            "gridcolor": "white",
            "linecolor": "white",
            "ticks": ""
           },
           "baxis": {
            "gridcolor": "white",
            "linecolor": "white",
            "ticks": ""
           },
           "bgcolor": "#E5ECF6",
           "caxis": {
            "gridcolor": "white",
            "linecolor": "white",
            "ticks": ""
           }
          },
          "title": {
           "x": 0.05
          },
          "xaxis": {
           "automargin": true,
           "gridcolor": "white",
           "linecolor": "white",
           "ticks": "",
           "title": {
            "standoff": 15
           },
           "zerolinecolor": "white",
           "zerolinewidth": 2
          },
          "yaxis": {
           "automargin": true,
           "gridcolor": "white",
           "linecolor": "white",
           "ticks": "",
           "title": {
            "standoff": 15
           },
           "zerolinecolor": "white",
           "zerolinewidth": 2
          }
         }
        },
        "xaxis": {
         "anchor": "y",
         "domain": [
          0,
          1
         ],
         "title": {
          "text": "x"
         }
        },
        "yaxis": {
         "anchor": "x",
         "domain": [
          0,
          1
         ],
         "title": {
          "text": "count"
         }
        }
       }
      }
     },
     "metadata": {},
     "output_type": "display_data"
    }
   ],
   "source": [
    "treino = pd.read_excel(dataSet, sheet_name='TREINO_70%')\n",
    "\n",
    "fig = px.bar(treino['text'], x=treino['rotulo'])\n",
    "fig.show()"
   ]
  },
  {
   "cell_type": "markdown",
   "metadata": {},
   "source": [
    "*Amostra do dataset de teste, com 15% sobre os 30% restantes do dataset rotulado não utilizado pela amostra de treino*"
   ]
  },
  {
   "cell_type": "code",
   "execution_count": 152,
   "metadata": {},
   "outputs": [
    {
     "data": {
      "application/vnd.plotly.v1+json": {
       "config": {
        "plotlyServerURL": "https://plot.ly"
       },
       "data": [
        {
         "alignmentgroup": "True",
         "hovertemplate": "x=%{x}<br>count=%{y}<extra></extra>",
         "legendgroup": "",
         "marker": {
          "color": "#636efa",
          "pattern": {
           "shape": ""
          }
         },
         "name": "",
         "offsetgroup": "",
         "orientation": "v",
         "showlegend": false,
         "textposition": "auto",
         "type": "bar",
         "x": [
          "POSITIVO",
          "POSITIVO",
          "POSITIVO",
          "POSITIVO",
          "POSITIVO",
          "POSITIVO",
          "POSITIVO",
          "POSITIVO",
          "POSITIVO",
          "POSITIVO",
          "POSITIVO",
          "POSITIVO",
          "POSITIVO",
          "POSITIVO",
          "POSITIVO",
          "POSITIVO",
          "POSITIVO",
          "POSITIVO",
          "POSITIVO",
          "POSITIVO",
          "POSITIVO",
          "POSITIVO",
          "POSITIVO",
          "POSITIVO",
          "POSITIVO",
          "POSITIVO",
          "POSITIVO",
          "POSITIVO",
          "POSITIVO",
          "POSITIVO",
          "POSITIVO",
          "POSITIVO",
          "POSITIVO",
          "POSITIVO",
          "POSITIVO",
          "POSITIVO",
          "POSITIVO",
          "POSITIVO",
          "POSITIVO",
          "POSITIVO",
          "POSITIVO",
          "POSITIVO",
          "POSITIVO",
          "POSITIVO",
          "POSITIVO",
          "POSITIVO",
          "POSITIVO",
          "POSITIVO",
          "POSITIVO",
          "POSITIVO",
          "POSITIVO",
          "POSITIVO",
          "POSITIVO",
          "NEGATIVO",
          "NEGATIVO",
          "NEGATIVO",
          "NEGATIVO",
          "NEGATIVO",
          "NEGATIVO",
          "NEGATIVO",
          "NEGATIVO",
          "NEGATIVO",
          "NEGATIVO",
          "NEGATIVO",
          "NEGATIVO",
          "NEGATIVO",
          "NEGATIVO",
          "NEGATIVO",
          "NEGATIVO",
          "NEGATIVO",
          "NEGATIVO",
          "NEGATIVO",
          "NEGATIVO",
          "NEGATIVO",
          "NEGATIVO",
          "NEGATIVO",
          "NEGATIVO",
          "NEGATIVO",
          "NEGATIVO",
          "NEGATIVO",
          "NEGATIVO",
          "NEGATIVO",
          "NEGATIVO",
          "NEGATIVO",
          "NEGATIVO",
          "NEGATIVO",
          "NEGATIVO",
          "NEGATIVO",
          "NEGATIVO",
          "NEGATIVO",
          "NEGATIVO",
          "NEGATIVO",
          "NEGATIVO",
          "NEGATIVO",
          "NEGATIVO",
          "NEGATIVO",
          "NEGATIVO",
          "NEGATIVO",
          "NEGATIVO",
          "NEGATIVO",
          "NEGATIVO",
          "NEGATIVO",
          "NEGATIVO",
          "NEGATIVO",
          "NEGATIVO",
          "NEGATIVO",
          "NEGATIVO",
          "NEGATIVO"
         ],
         "xaxis": "x",
         "y": [
          1,
          1,
          1,
          1,
          1,
          1,
          1,
          1,
          1,
          1,
          1,
          1,
          1,
          1,
          1,
          1,
          1,
          1,
          1,
          1,
          1,
          1,
          1,
          1,
          1,
          1,
          1,
          1,
          1,
          1,
          1,
          1,
          1,
          1,
          1,
          1,
          1,
          1,
          1,
          1,
          1,
          1,
          1,
          1,
          1,
          1,
          1,
          1,
          1,
          1,
          1,
          1,
          1,
          1,
          1,
          1,
          1,
          1,
          1,
          1,
          1,
          1,
          1,
          1,
          1,
          1,
          1,
          1,
          1,
          1,
          1,
          1,
          1,
          1,
          1,
          1,
          1,
          1,
          1,
          1,
          1,
          1,
          1,
          1,
          1,
          1,
          1,
          1,
          1,
          1,
          1,
          1,
          1,
          1,
          1,
          1,
          1,
          1,
          1,
          1,
          1,
          1,
          1,
          1,
          1,
          1,
          1,
          1
         ],
         "yaxis": "y"
        }
       ],
       "layout": {
        "barmode": "relative",
        "legend": {
         "tracegroupgap": 0
        },
        "margin": {
         "t": 60
        },
        "template": {
         "data": {
          "bar": [
           {
            "error_x": {
             "color": "#2a3f5f"
            },
            "error_y": {
             "color": "#2a3f5f"
            },
            "marker": {
             "line": {
              "color": "#E5ECF6",
              "width": 0.5
             },
             "pattern": {
              "fillmode": "overlay",
              "size": 10,
              "solidity": 0.2
             }
            },
            "type": "bar"
           }
          ],
          "barpolar": [
           {
            "marker": {
             "line": {
              "color": "#E5ECF6",
              "width": 0.5
             },
             "pattern": {
              "fillmode": "overlay",
              "size": 10,
              "solidity": 0.2
             }
            },
            "type": "barpolar"
           }
          ],
          "carpet": [
           {
            "aaxis": {
             "endlinecolor": "#2a3f5f",
             "gridcolor": "white",
             "linecolor": "white",
             "minorgridcolor": "white",
             "startlinecolor": "#2a3f5f"
            },
            "baxis": {
             "endlinecolor": "#2a3f5f",
             "gridcolor": "white",
             "linecolor": "white",
             "minorgridcolor": "white",
             "startlinecolor": "#2a3f5f"
            },
            "type": "carpet"
           }
          ],
          "choropleth": [
           {
            "colorbar": {
             "outlinewidth": 0,
             "ticks": ""
            },
            "type": "choropleth"
           }
          ],
          "contour": [
           {
            "colorbar": {
             "outlinewidth": 0,
             "ticks": ""
            },
            "colorscale": [
             [
              0,
              "#0d0887"
             ],
             [
              0.1111111111111111,
              "#46039f"
             ],
             [
              0.2222222222222222,
              "#7201a8"
             ],
             [
              0.3333333333333333,
              "#9c179e"
             ],
             [
              0.4444444444444444,
              "#bd3786"
             ],
             [
              0.5555555555555556,
              "#d8576b"
             ],
             [
              0.6666666666666666,
              "#ed7953"
             ],
             [
              0.7777777777777778,
              "#fb9f3a"
             ],
             [
              0.8888888888888888,
              "#fdca26"
             ],
             [
              1,
              "#f0f921"
             ]
            ],
            "type": "contour"
           }
          ],
          "contourcarpet": [
           {
            "colorbar": {
             "outlinewidth": 0,
             "ticks": ""
            },
            "type": "contourcarpet"
           }
          ],
          "heatmap": [
           {
            "colorbar": {
             "outlinewidth": 0,
             "ticks": ""
            },
            "colorscale": [
             [
              0,
              "#0d0887"
             ],
             [
              0.1111111111111111,
              "#46039f"
             ],
             [
              0.2222222222222222,
              "#7201a8"
             ],
             [
              0.3333333333333333,
              "#9c179e"
             ],
             [
              0.4444444444444444,
              "#bd3786"
             ],
             [
              0.5555555555555556,
              "#d8576b"
             ],
             [
              0.6666666666666666,
              "#ed7953"
             ],
             [
              0.7777777777777778,
              "#fb9f3a"
             ],
             [
              0.8888888888888888,
              "#fdca26"
             ],
             [
              1,
              "#f0f921"
             ]
            ],
            "type": "heatmap"
           }
          ],
          "heatmapgl": [
           {
            "colorbar": {
             "outlinewidth": 0,
             "ticks": ""
            },
            "colorscale": [
             [
              0,
              "#0d0887"
             ],
             [
              0.1111111111111111,
              "#46039f"
             ],
             [
              0.2222222222222222,
              "#7201a8"
             ],
             [
              0.3333333333333333,
              "#9c179e"
             ],
             [
              0.4444444444444444,
              "#bd3786"
             ],
             [
              0.5555555555555556,
              "#d8576b"
             ],
             [
              0.6666666666666666,
              "#ed7953"
             ],
             [
              0.7777777777777778,
              "#fb9f3a"
             ],
             [
              0.8888888888888888,
              "#fdca26"
             ],
             [
              1,
              "#f0f921"
             ]
            ],
            "type": "heatmapgl"
           }
          ],
          "histogram": [
           {
            "marker": {
             "pattern": {
              "fillmode": "overlay",
              "size": 10,
              "solidity": 0.2
             }
            },
            "type": "histogram"
           }
          ],
          "histogram2d": [
           {
            "colorbar": {
             "outlinewidth": 0,
             "ticks": ""
            },
            "colorscale": [
             [
              0,
              "#0d0887"
             ],
             [
              0.1111111111111111,
              "#46039f"
             ],
             [
              0.2222222222222222,
              "#7201a8"
             ],
             [
              0.3333333333333333,
              "#9c179e"
             ],
             [
              0.4444444444444444,
              "#bd3786"
             ],
             [
              0.5555555555555556,
              "#d8576b"
             ],
             [
              0.6666666666666666,
              "#ed7953"
             ],
             [
              0.7777777777777778,
              "#fb9f3a"
             ],
             [
              0.8888888888888888,
              "#fdca26"
             ],
             [
              1,
              "#f0f921"
             ]
            ],
            "type": "histogram2d"
           }
          ],
          "histogram2dcontour": [
           {
            "colorbar": {
             "outlinewidth": 0,
             "ticks": ""
            },
            "colorscale": [
             [
              0,
              "#0d0887"
             ],
             [
              0.1111111111111111,
              "#46039f"
             ],
             [
              0.2222222222222222,
              "#7201a8"
             ],
             [
              0.3333333333333333,
              "#9c179e"
             ],
             [
              0.4444444444444444,
              "#bd3786"
             ],
             [
              0.5555555555555556,
              "#d8576b"
             ],
             [
              0.6666666666666666,
              "#ed7953"
             ],
             [
              0.7777777777777778,
              "#fb9f3a"
             ],
             [
              0.8888888888888888,
              "#fdca26"
             ],
             [
              1,
              "#f0f921"
             ]
            ],
            "type": "histogram2dcontour"
           }
          ],
          "mesh3d": [
           {
            "colorbar": {
             "outlinewidth": 0,
             "ticks": ""
            },
            "type": "mesh3d"
           }
          ],
          "parcoords": [
           {
            "line": {
             "colorbar": {
              "outlinewidth": 0,
              "ticks": ""
             }
            },
            "type": "parcoords"
           }
          ],
          "pie": [
           {
            "automargin": true,
            "type": "pie"
           }
          ],
          "scatter": [
           {
            "fillpattern": {
             "fillmode": "overlay",
             "size": 10,
             "solidity": 0.2
            },
            "type": "scatter"
           }
          ],
          "scatter3d": [
           {
            "line": {
             "colorbar": {
              "outlinewidth": 0,
              "ticks": ""
             }
            },
            "marker": {
             "colorbar": {
              "outlinewidth": 0,
              "ticks": ""
             }
            },
            "type": "scatter3d"
           }
          ],
          "scattercarpet": [
           {
            "marker": {
             "colorbar": {
              "outlinewidth": 0,
              "ticks": ""
             }
            },
            "type": "scattercarpet"
           }
          ],
          "scattergeo": [
           {
            "marker": {
             "colorbar": {
              "outlinewidth": 0,
              "ticks": ""
             }
            },
            "type": "scattergeo"
           }
          ],
          "scattergl": [
           {
            "marker": {
             "colorbar": {
              "outlinewidth": 0,
              "ticks": ""
             }
            },
            "type": "scattergl"
           }
          ],
          "scattermapbox": [
           {
            "marker": {
             "colorbar": {
              "outlinewidth": 0,
              "ticks": ""
             }
            },
            "type": "scattermapbox"
           }
          ],
          "scatterpolar": [
           {
            "marker": {
             "colorbar": {
              "outlinewidth": 0,
              "ticks": ""
             }
            },
            "type": "scatterpolar"
           }
          ],
          "scatterpolargl": [
           {
            "marker": {
             "colorbar": {
              "outlinewidth": 0,
              "ticks": ""
             }
            },
            "type": "scatterpolargl"
           }
          ],
          "scatterternary": [
           {
            "marker": {
             "colorbar": {
              "outlinewidth": 0,
              "ticks": ""
             }
            },
            "type": "scatterternary"
           }
          ],
          "surface": [
           {
            "colorbar": {
             "outlinewidth": 0,
             "ticks": ""
            },
            "colorscale": [
             [
              0,
              "#0d0887"
             ],
             [
              0.1111111111111111,
              "#46039f"
             ],
             [
              0.2222222222222222,
              "#7201a8"
             ],
             [
              0.3333333333333333,
              "#9c179e"
             ],
             [
              0.4444444444444444,
              "#bd3786"
             ],
             [
              0.5555555555555556,
              "#d8576b"
             ],
             [
              0.6666666666666666,
              "#ed7953"
             ],
             [
              0.7777777777777778,
              "#fb9f3a"
             ],
             [
              0.8888888888888888,
              "#fdca26"
             ],
             [
              1,
              "#f0f921"
             ]
            ],
            "type": "surface"
           }
          ],
          "table": [
           {
            "cells": {
             "fill": {
              "color": "#EBF0F8"
             },
             "line": {
              "color": "white"
             }
            },
            "header": {
             "fill": {
              "color": "#C8D4E3"
             },
             "line": {
              "color": "white"
             }
            },
            "type": "table"
           }
          ]
         },
         "layout": {
          "annotationdefaults": {
           "arrowcolor": "#2a3f5f",
           "arrowhead": 0,
           "arrowwidth": 1
          },
          "autotypenumbers": "strict",
          "coloraxis": {
           "colorbar": {
            "outlinewidth": 0,
            "ticks": ""
           }
          },
          "colorscale": {
           "diverging": [
            [
             0,
             "#8e0152"
            ],
            [
             0.1,
             "#c51b7d"
            ],
            [
             0.2,
             "#de77ae"
            ],
            [
             0.3,
             "#f1b6da"
            ],
            [
             0.4,
             "#fde0ef"
            ],
            [
             0.5,
             "#f7f7f7"
            ],
            [
             0.6,
             "#e6f5d0"
            ],
            [
             0.7,
             "#b8e186"
            ],
            [
             0.8,
             "#7fbc41"
            ],
            [
             0.9,
             "#4d9221"
            ],
            [
             1,
             "#276419"
            ]
           ],
           "sequential": [
            [
             0,
             "#0d0887"
            ],
            [
             0.1111111111111111,
             "#46039f"
            ],
            [
             0.2222222222222222,
             "#7201a8"
            ],
            [
             0.3333333333333333,
             "#9c179e"
            ],
            [
             0.4444444444444444,
             "#bd3786"
            ],
            [
             0.5555555555555556,
             "#d8576b"
            ],
            [
             0.6666666666666666,
             "#ed7953"
            ],
            [
             0.7777777777777778,
             "#fb9f3a"
            ],
            [
             0.8888888888888888,
             "#fdca26"
            ],
            [
             1,
             "#f0f921"
            ]
           ],
           "sequentialminus": [
            [
             0,
             "#0d0887"
            ],
            [
             0.1111111111111111,
             "#46039f"
            ],
            [
             0.2222222222222222,
             "#7201a8"
            ],
            [
             0.3333333333333333,
             "#9c179e"
            ],
            [
             0.4444444444444444,
             "#bd3786"
            ],
            [
             0.5555555555555556,
             "#d8576b"
            ],
            [
             0.6666666666666666,
             "#ed7953"
            ],
            [
             0.7777777777777778,
             "#fb9f3a"
            ],
            [
             0.8888888888888888,
             "#fdca26"
            ],
            [
             1,
             "#f0f921"
            ]
           ]
          },
          "colorway": [
           "#636efa",
           "#EF553B",
           "#00cc96",
           "#ab63fa",
           "#FFA15A",
           "#19d3f3",
           "#FF6692",
           "#B6E880",
           "#FF97FF",
           "#FECB52"
          ],
          "font": {
           "color": "#2a3f5f"
          },
          "geo": {
           "bgcolor": "white",
           "lakecolor": "white",
           "landcolor": "#E5ECF6",
           "showlakes": true,
           "showland": true,
           "subunitcolor": "white"
          },
          "hoverlabel": {
           "align": "left"
          },
          "hovermode": "closest",
          "mapbox": {
           "style": "light"
          },
          "paper_bgcolor": "white",
          "plot_bgcolor": "#E5ECF6",
          "polar": {
           "angularaxis": {
            "gridcolor": "white",
            "linecolor": "white",
            "ticks": ""
           },
           "bgcolor": "#E5ECF6",
           "radialaxis": {
            "gridcolor": "white",
            "linecolor": "white",
            "ticks": ""
           }
          },
          "scene": {
           "xaxis": {
            "backgroundcolor": "#E5ECF6",
            "gridcolor": "white",
            "gridwidth": 2,
            "linecolor": "white",
            "showbackground": true,
            "ticks": "",
            "zerolinecolor": "white"
           },
           "yaxis": {
            "backgroundcolor": "#E5ECF6",
            "gridcolor": "white",
            "gridwidth": 2,
            "linecolor": "white",
            "showbackground": true,
            "ticks": "",
            "zerolinecolor": "white"
           },
           "zaxis": {
            "backgroundcolor": "#E5ECF6",
            "gridcolor": "white",
            "gridwidth": 2,
            "linecolor": "white",
            "showbackground": true,
            "ticks": "",
            "zerolinecolor": "white"
           }
          },
          "shapedefaults": {
           "line": {
            "color": "#2a3f5f"
           }
          },
          "ternary": {
           "aaxis": {
            "gridcolor": "white",
            "linecolor": "white",
            "ticks": ""
           },
           "baxis": {
            "gridcolor": "white",
            "linecolor": "white",
            "ticks": ""
           },
           "bgcolor": "#E5ECF6",
           "caxis": {
            "gridcolor": "white",
            "linecolor": "white",
            "ticks": ""
           }
          },
          "title": {
           "x": 0.05
          },
          "xaxis": {
           "automargin": true,
           "gridcolor": "white",
           "linecolor": "white",
           "ticks": "",
           "title": {
            "standoff": 15
           },
           "zerolinecolor": "white",
           "zerolinewidth": 2
          },
          "yaxis": {
           "automargin": true,
           "gridcolor": "white",
           "linecolor": "white",
           "ticks": "",
           "title": {
            "standoff": 15
           },
           "zerolinecolor": "white",
           "zerolinewidth": 2
          }
         }
        },
        "xaxis": {
         "anchor": "y",
         "domain": [
          0,
          1
         ],
         "title": {
          "text": "x"
         }
        },
        "yaxis": {
         "anchor": "x",
         "domain": [
          0,
          1
         ],
         "title": {
          "text": "count"
         }
        }
       }
      }
     },
     "metadata": {},
     "output_type": "display_data"
    }
   ],
   "source": [
    "teste = pd.read_excel(dataSet, sheet_name='TESTE_15%')\n",
    "\n",
    "fig = px.bar(teste['text'], x=teste['rotulo'])\n",
    "fig.show()"
   ]
  },
  {
   "cell_type": "markdown",
   "metadata": {},
   "source": [
    "___\n",
    "\n",
    "### **Classificação e Limpeza dos Dados**\n",
    "\n",
    "- Inicialmente, retiramos todos os retweets presentes no dataset;\n",
    "\n",
    "- Em seguida, definimos os tipos de classificação dos dados, conforme abaixo:\n",
    ">   - **Contexto:** Precisa de contexto para ser entendido\n",
    ">   - **Positivo:**  Mensagens positivas: Elogios, enaltecimento de candidato, etc.\n",
    ">   - **Negativo:** Mensagens negativas: Ofensas, xingamentos, desmerecer propostas.\n",
    ">   - **Ironia:** Sentido contrario da mensagem\n",
    ">   - **Neutro:** Nem negativo nem positivo. Somente descritivo (narração de fatos)\n",
    ">   - **Confuso:** Não foi possível interpretar o significado do texto\n",
    ">   - **Dividir:** Mensagens positivas e negativas com possibilidade de quebra para geração de novos textos\n",
    "\n",
    "- Após a definição dos tipos de classificação, começamos a classificar individualmente e manualmente, um por um;\n",
    "\n",
    "- Depois da classificação individual, realizamos uma revisão geral em grupo, onde foram ponderadas e debatidas as classificações, também de forma manual, percorrendo por todas as linhas do dataset;"
   ]
  },
  {
   "cell_type": "markdown",
   "metadata": {},
   "source": [
    "___\n",
    "\n",
    "### **Normalização dos dados**\n",
    "\n",
    "Para normalizar os dados, utilizamos de algumas ferramentas e técnicas a fim de garantir um melhor resultado pelo algoritmo, assim realizamos os seguintes passos:\n"
   ]
  },
  {
   "cell_type": "markdown",
   "metadata": {},
   "source": [
    "*Inicialmente, todo o input foi transformado para caixa baixa, as quebras de linha foram removidas do texto e os espaços duplos foram transformados em espaço único*"
   ]
  },
  {
   "cell_type": "code",
   "execution_count": 153,
   "metadata": {},
   "outputs": [],
   "source": [
    "def toLower(input):\n",
    "    return input.lower()\n",
    "\n",
    "def removeLinesBreaks(input):\n",
    "    return reg.sub('\\\\\\\\n{1,}|\\\\\\\\r{1,}', ' ', input, reg.IGNORECASE, reg.MULTILINE)\n",
    "\n",
    "def removeDoubleSpaces(input):\n",
    "    return reg.sub('\\\\s{2,}', ' ', input, reg.IGNORECASE, reg.MULTILINE)\n",
    "\n",
    "def applyRegex(input):\n",
    "    regexs = open(filenameRegexToBeApplied, 'r', encoding='UTF-8', newline='\\n')\n",
    "    for regex in regexs.readlines():  \n",
    "        teste = reg.sub(regex, ' ', input, reg.IGNORECASE, reg.MULTILINE)\n",
    "        input = teste\n",
    "    return input"
   ]
  },
  {
   "cell_type": "code",
   "execution_count": 154,
   "metadata": {},
   "outputs": [],
   "source": [
    "def applyStemmer(input):\n",
    "\n",
    "    input = reg.sub('\\\\s{2,}', ' ', input, reg.IGNORECASE, reg.MULTILINE).split(' ')\n",
    "    input = filter(lambda x: x != ' ' and x != '', input)\n",
    "\n",
    "    palavras = [stemmer.stem(palavra) for palavra in input]\n",
    "\n",
    "    input = ''\n",
    "\n",
    "    for palavra in palavras:\n",
    "        input += palavra + ' '\n",
    "\n",
    "    return reg.sub('\\\\s{2,}', ' ', input, reg.IGNORECASE, reg.MULTILINE)\n"
   ]
  },
  {
   "cell_type": "markdown",
   "metadata": {},
   "source": [
    "*Em seguida, utilizando um arquivo customizado desenvolvido pelo grupo, transformamos palavras e nomes com diversas variações para uma forma única, como por exemplo, Você ou vc para voce*"
   ]
  },
  {
   "cell_type": "code",
   "execution_count": 155,
   "metadata": {},
   "outputs": [],
   "source": [
    "def dePara(input):\n",
    "    deParas = open(fileNameDeParas, 'r', encoding='UTF-8', newline='\\n')\n",
    "    for dePara in deParas.readlines():\n",
    "        dePara = dePara.split('(-*-)')\n",
    "        input = reg.sub(dePara[0], dePara[1], input, reg.IGNORECASE, reg.MULTILINE)\n",
    "    return input"
   ]
  },
  {
   "cell_type": "markdown",
   "metadata": {},
   "source": [
    "*Após a transformação das palavras, utilizamos a técnica de stop words para remover as palavras que não trazem significado para o texto, como por exemplo, os artigos: a, as, o, os*"
   ]
  },
  {
   "cell_type": "code",
   "execution_count": 156,
   "metadata": {},
   "outputs": [],
   "source": [
    "def removeStopWords(input):\n",
    "    stopWrods = open(filenameStopWords, 'r', encoding='UTF-8', newline='\\r\\n')\n",
    "    for stopWord in stopWrods.readlines():\n",
    "        stopWord = unidecode.unidecode(stopWord)\n",
    "        stopWord = reg.sub('\\r\\n', '', stopWord)\n",
    "        input = reg.sub(stopWord, '', input, reg.IGNORECASE, reg.MULTILINE)\n",
    "    return input"
   ]
  },
  {
   "cell_type": "markdown",
   "metadata": {},
   "source": [
    "*Ainda no processo de normalização, removemos todos os acentos das palavras do dataset, a fim de padronizar os dados para posterior análise pelo algoritmo*"
   ]
  },
  {
   "cell_type": "code",
   "execution_count": 157,
   "metadata": {},
   "outputs": [],
   "source": [
    "def removeAcentuacao(input):\n",
    "    return unidecode.unidecode(input)"
   ]
  },
  {
   "cell_type": "markdown",
   "metadata": {},
   "source": [
    "Por fim, juntamos as etapas de normalização em uma unica função. Assim podemos utiliza-la de maneira mais fácil."
   ]
  },
  {
   "cell_type": "code",
   "execution_count": 158,
   "metadata": {},
   "outputs": [],
   "source": [
    "def normaliza(dataFrame):\n",
    "    listAux = []\n",
    "    for line in dataFrame.values:\n",
    "        line[1] = removeDoubleSpaces(applyStemmer(dePara(removeLinesBreaks(removeAcentuacao(removeStopWords(toLower(unidecode.unidecode(line[1]))))))))\n",
    "        listAux.append(line)\n",
    "    return pd.DataFrame(listAux)"
   ]
  },
  {
   "cell_type": "code",
   "execution_count": 159,
   "metadata": {},
   "outputs": [],
   "source": [
    "rotulados = normaliza(rotulados)"
   ]
  },
  {
   "cell_type": "markdown",
   "metadata": {},
   "source": [
    "___\n",
    "\n",
    "### **Criação dos conjuntos de treino, teste e validação**\n",
    "\n",
    "- A partir de todo o conjunto de dados classificado, foram mantidos apenas os valores positivos e negativos (Ironias e confusões foram removidas e divisões possíveis não foram realizadas)\n",
    "\n",
    "- Ordenamos por ordem alfabetica para retirar os textos duplicados do conjunto de dados\n",
    "\n",
    "- Utilizando o tipo de dado com menor amostras (POSITIVO), foi determinado 70% de suas linhas, a quantidade necessária para o conjunto de treino.\n",
    "\n",
    "- Antes de obter os dados e alocar-los no conjunto de treino, sua ordenação foi aleatorizada para abrangir uma quantidade maior de textos.\n",
    "\n",
    "- Após aleatorizar foram colocados no conjunto de treino, com quantidades iguais de positivos e negativos.\n",
    "\n",
    "- Posteriormente foram criados os conjuntos de testes e validação, ambos com 15% cada, do total de amostras do tipo POSITIVO (com menor amostras), com os valores também ordenados de forma aleatória, mas balanceados entre positivos e negativos"
   ]
  },
  {
   "cell_type": "markdown",
   "metadata": {},
   "source": [
    "___\n",
    "\n",
    "### **Bag of Words**\n",
    "\n",
    " Para realizar a bag of words precisamos converter o texto para um formato que a máquina consiga entender, pois ela não compreende texto nem caracteres. Para isso, utilizamos o método CountVectorizer, cuja finalidade é converter as palavras para o número de sua frequência. Dessa forma, se tivermos o seguinte texto:\n",
    "\n",
    " - text = [‘Oi, meu nome é lucas, esse é meu python notebook’]\n",
    " \n",
    " O CountVectorizer vai converter para:\n",
    "\n",
    " - Oi: 1, é: 2, lucas: 1, esse: 1, meu: 2, python: 1, notebook: 1\n",
    "\n",
    "\n",
    "\n"
   ]
  },
  {
   "cell_type": "markdown",
   "metadata": {},
   "source": [
    "O próximo passo, o TfidfTransformer, ou transformação termo-frequência inversa de frequência documento, é um método da biblioteca SKLearn que serve para criarmos um esquema de peso de modelo para a frequência de cada termo. Dessa forma, o objetivo da implementação é retirar o impacto que tokens muito frenquentes em um espaço de comparação menor, como o dataset de testes. Ou seja, a vetorização anterior poderá se tornará algo neste modelo:\n",
    "\n",
    " - 1 - > 0.01XX, 2 -> 0.2XX"
   ]
  },
  {
   "cell_type": "code",
   "execution_count": 160,
   "metadata": {},
   "outputs": [],
   "source": [
    "from sklearn.feature_extraction.text import CountVectorizer\n",
    "from sklearn.feature_extraction.text import TfidfTransformer\n",
    "\n",
    "tfi = TfidfTransformer(use_idf=True)\n",
    "vectorizer = CountVectorizer(analyzer = \"word\")\n",
    "normaliza(treino)\n",
    "\n",
    "treino_tweets = treino[\"text\"].values\n",
    "treino_classificacao = treino[\"rotulo\"].values\n",
    "\n",
    "vec_treino = vectorizer.fit_transform(treino_tweets)\n",
    "freq_treino = tfi.fit_transform(vec_treino)"
   ]
  },
  {
   "cell_type": "markdown",
   "metadata": {},
   "source": [
    "Bag of Words dataset de validacação"
   ]
  },
  {
   "cell_type": "code",
   "execution_count": 161,
   "metadata": {},
   "outputs": [],
   "source": [
    "validacao = pd.read_excel(dataSet, sheet_name='VALIDACAO_15%')\n",
    "normaliza(validacao)\n",
    "\n",
    "validacao_tweets = validacao[\"text\"].values\n",
    "validacao_classificacao = validacao[\"rotulo\"].values\n",
    "\n",
    "vec_validacao = vectorizer.transform(validacao_tweets)\n",
    "freq_validacao = tfi.transform(vec_validacao)"
   ]
  },
  {
   "cell_type": "markdown",
   "metadata": {},
   "source": [
    "Bag of Words dataset de testes"
   ]
  },
  {
   "cell_type": "code",
   "execution_count": 162,
   "metadata": {},
   "outputs": [],
   "source": [
    "testes = pd.read_excel(dataSet, sheet_name='TESTE_15%')\n",
    "normaliza(testes)\n",
    "\n",
    "testes_tweets = testes[\"text\"].values\n",
    "testes_classificacao = testes[\"rotulo\"].values\n",
    "\n",
    "vec_testes = vectorizer.transform(testes_tweets)\n",
    "freq_testes= tfi.transform(vec_testes)"
   ]
  },
  {
   "cell_type": "markdown",
   "metadata": {},
   "source": [
    "#### **Palavras normalizadas mais frequentes no conjunto de Treino**"
   ]
  },
  {
   "cell_type": "code",
   "execution_count": 163,
   "metadata": {},
   "outputs": [
    {
     "data": {
      "text/html": [
       "<style type=\"text/css\">\n",
       "#T_94cb9_row0_col1 {\n",
       "  background-color: #08306b;\n",
       "  color: #f1f1f1;\n",
       "}\n",
       "#T_94cb9_row1_col1 {\n",
       "  background-color: #9fcae1;\n",
       "  color: #000000;\n",
       "}\n",
       "#T_94cb9_row2_col1 {\n",
       "  background-color: #b7d4ea;\n",
       "  color: #000000;\n",
       "}\n",
       "#T_94cb9_row3_col1 {\n",
       "  background-color: #ccdff1;\n",
       "  color: #000000;\n",
       "}\n",
       "#T_94cb9_row4_col1 {\n",
       "  background-color: #deebf7;\n",
       "  color: #000000;\n",
       "}\n",
       "#T_94cb9_row5_col1 {\n",
       "  background-color: #e1edf8;\n",
       "  color: #000000;\n",
       "}\n",
       "#T_94cb9_row6_col1 {\n",
       "  background-color: #e3eef8;\n",
       "  color: #000000;\n",
       "}\n",
       "#T_94cb9_row7_col1 {\n",
       "  background-color: #f5f9fe;\n",
       "  color: #000000;\n",
       "}\n",
       "#T_94cb9_row8_col1, #T_94cb9_row9_col1 {\n",
       "  background-color: #f7fbff;\n",
       "  color: #000000;\n",
       "}\n",
       "</style>\n",
       "<table id=\"T_94cb9\">\n",
       "  <thead>\n",
       "    <tr>\n",
       "      <th class=\"blank level0\" >&nbsp;</th>\n",
       "      <th id=\"T_94cb9_level0_col0\" class=\"col_heading level0 col0\" >Mais Comentados</th>\n",
       "      <th id=\"T_94cb9_level0_col1\" class=\"col_heading level0 col1\" >Ocorrências</th>\n",
       "    </tr>\n",
       "  </thead>\n",
       "  <tbody>\n",
       "    <tr>\n",
       "      <th id=\"T_94cb9_level0_row0\" class=\"row_heading level0 row0\" >0</th>\n",
       "      <td id=\"T_94cb9_row0_col0\" class=\"data row0 col0\" >#debatenabandr</td>\n",
       "      <td id=\"T_94cb9_row0_col1\" class=\"data row0 col1\" >366</td>\n",
       "    </tr>\n",
       "    <tr>\n",
       "      <th id=\"T_94cb9_level0_row1\" class=\"row_heading level0 row1\" >1</th>\n",
       "      <td id=\"T_94cb9_row1_col0\" class=\"data row1 col0\" >edegar_prett</td>\n",
       "      <td id=\"T_94cb9_row1_col1\" class=\"data row1 col1\" >170</td>\n",
       "    </tr>\n",
       "    <tr>\n",
       "      <th id=\"T_94cb9_level0_row2\" class=\"row_heading level0 row2\" >2</th>\n",
       "      <td id=\"T_94cb9_row2_col0\" class=\"data row2 col0\" >eduardo_leit</td>\n",
       "      <td id=\"T_94cb9_row2_col1\" class=\"data row2 col1\" >146</td>\n",
       "    </tr>\n",
       "    <tr>\n",
       "      <th id=\"T_94cb9_level0_row3\" class=\"row_heading level0 row3\" >3</th>\n",
       "      <td id=\"T_94cb9_row3_col0\" class=\"data row3 col0\" >govern</td>\n",
       "      <td id=\"T_94cb9_row3_col1\" class=\"data row3 col1\" >122</td>\n",
       "    </tr>\n",
       "    <tr>\n",
       "      <th id=\"T_94cb9_level0_row4\" class=\"row_heading level0 row4\" >4</th>\n",
       "      <td id=\"T_94cb9_row4_col0\" class=\"data row4 col0\" >onyx_lorenzon</td>\n",
       "      <td id=\"T_94cb9_row4_col1\" class=\"data row4 col1\" >93</td>\n",
       "    </tr>\n",
       "    <tr>\n",
       "      <th id=\"T_94cb9_level0_row5\" class=\"row_heading level0 row5\" >5</th>\n",
       "      <td id=\"T_94cb9_row5_col0\" class=\"data row5 col0\" >rio_grande_do_sul</td>\n",
       "      <td id=\"T_94cb9_row5_col1\" class=\"data row5 col1\" >88</td>\n",
       "    </tr>\n",
       "    <tr>\n",
       "      <th id=\"T_94cb9_level0_row6\" class=\"row_heading level0 row6\" >6</th>\n",
       "      <td id=\"T_94cb9_row6_col0\" class=\"data row6 col0\" >#lulaolivioprettoru</td>\n",
       "      <td id=\"T_94cb9_row6_col1\" class=\"data row6 col1\" >85</td>\n",
       "    </tr>\n",
       "    <tr>\n",
       "      <th id=\"T_94cb9_level0_row7\" class=\"row_heading level0 row7\" >7</th>\n",
       "      <td id=\"T_94cb9_row7_col0\" class=\"data row7 col0\" >candidat</td>\n",
       "      <td id=\"T_94cb9_row7_col1\" class=\"data row7 col1\" >57</td>\n",
       "    </tr>\n",
       "    <tr>\n",
       "      <th id=\"T_94cb9_level0_row8\" class=\"row_heading level0 row8\" >8</th>\n",
       "      <td id=\"T_94cb9_row8_col0\" class=\"data row8 col0\" >debat</td>\n",
       "      <td id=\"T_94cb9_row8_col1\" class=\"data row8 col1\" >53</td>\n",
       "    </tr>\n",
       "    <tr>\n",
       "      <th id=\"T_94cb9_level0_row9\" class=\"row_heading level0 row9\" >9</th>\n",
       "      <td id=\"T_94cb9_row9_col0\" class=\"data row9 col0\" >fal</td>\n",
       "      <td id=\"T_94cb9_row9_col1\" class=\"data row9 col1\" >53</td>\n",
       "    </tr>\n",
       "  </tbody>\n",
       "</table>\n"
      ],
      "text/plain": [
       "<pandas.io.formats.style.Styler at 0x1ffd7bf2080>"
      ]
     },
     "execution_count": 163,
     "metadata": {},
     "output_type": "execute_result"
    }
   ],
   "source": [
    "from collections import Counter\n",
    "\n",
    "normaliza(treino)\n",
    "treino['temp_list'] = treino['text'].apply(lambda x:str(x).split())\n",
    "top = Counter([item for sublist in treino['temp_list'] for item in sublist])\n",
    "temp = pd.DataFrame(top.most_common(10))\n",
    "temp.columns = ['Mais Comentados','Ocorrências']\n",
    "temp.style.background_gradient(cmap='Blues')"
   ]
  },
  {
   "cell_type": "markdown",
   "metadata": {},
   "source": [
    "#### **Palavras normalizadas mais frequentes no conjunto de Teste**"
   ]
  },
  {
   "cell_type": "code",
   "execution_count": 164,
   "metadata": {},
   "outputs": [
    {
     "data": {
      "text/html": [
       "<style type=\"text/css\">\n",
       "#T_6924c_row0_col1 {\n",
       "  background-color: #00441b;\n",
       "  color: #f1f1f1;\n",
       "}\n",
       "#T_6924c_row1_col1 {\n",
       "  background-color: #b0dfaa;\n",
       "  color: #000000;\n",
       "}\n",
       "#T_6924c_row2_col1 {\n",
       "  background-color: #c0e6b9;\n",
       "  color: #000000;\n",
       "}\n",
       "#T_6924c_row3_col1 {\n",
       "  background-color: #d2edcc;\n",
       "  color: #000000;\n",
       "}\n",
       "#T_6924c_row4_col1 {\n",
       "  background-color: #ebf7e7;\n",
       "  color: #000000;\n",
       "}\n",
       "#T_6924c_row5_col1 {\n",
       "  background-color: #f0f9ec;\n",
       "  color: #000000;\n",
       "}\n",
       "#T_6924c_row6_col1 {\n",
       "  background-color: #f2faf0;\n",
       "  color: #000000;\n",
       "}\n",
       "#T_6924c_row7_col1, #T_6924c_row8_col1 {\n",
       "  background-color: #f5fbf2;\n",
       "  color: #000000;\n",
       "}\n",
       "#T_6924c_row9_col1 {\n",
       "  background-color: #f7fcf5;\n",
       "  color: #000000;\n",
       "}\n",
       "</style>\n",
       "<table id=\"T_6924c\">\n",
       "  <thead>\n",
       "    <tr>\n",
       "      <th class=\"blank level0\" >&nbsp;</th>\n",
       "      <th id=\"T_6924c_level0_col0\" class=\"col_heading level0 col0\" >Mais Comentados</th>\n",
       "      <th id=\"T_6924c_level0_col1\" class=\"col_heading level0 col1\" >Ocorrências</th>\n",
       "    </tr>\n",
       "  </thead>\n",
       "  <tbody>\n",
       "    <tr>\n",
       "      <th id=\"T_6924c_level0_row0\" class=\"row_heading level0 row0\" >0</th>\n",
       "      <td id=\"T_6924c_row0_col0\" class=\"data row0 col0\" >#debatenabandr</td>\n",
       "      <td id=\"T_6924c_row0_col1\" class=\"data row0 col1\" >69</td>\n",
       "    </tr>\n",
       "    <tr>\n",
       "      <th id=\"T_6924c_level0_row1\" class=\"row_heading level0 row1\" >1</th>\n",
       "      <td id=\"T_6924c_row1_col0\" class=\"data row1 col0\" >eduardo_leit</td>\n",
       "      <td id=\"T_6924c_row1_col1\" class=\"data row1 col1\" >30</td>\n",
       "    </tr>\n",
       "    <tr>\n",
       "      <th id=\"T_6924c_level0_row2\" class=\"row_heading level0 row2\" >2</th>\n",
       "      <td id=\"T_6924c_row2_col0\" class=\"data row2 col0\" >govern</td>\n",
       "      <td id=\"T_6924c_row2_col1\" class=\"data row2 col1\" >27</td>\n",
       "    </tr>\n",
       "    <tr>\n",
       "      <th id=\"T_6924c_level0_row3\" class=\"row_heading level0 row3\" >3</th>\n",
       "      <td id=\"T_6924c_row3_col0\" class=\"data row3 col0\" >edegar_prett</td>\n",
       "      <td id=\"T_6924c_row3_col1\" class=\"data row3 col1\" >23</td>\n",
       "    </tr>\n",
       "    <tr>\n",
       "      <th id=\"T_6924c_level0_row4\" class=\"row_heading level0 row4\" >4</th>\n",
       "      <td id=\"T_6924c_row4_col0\" class=\"data row4 col0\" >candidat</td>\n",
       "      <td id=\"T_6924c_row4_col1\" class=\"data row4 col1\" >16</td>\n",
       "    </tr>\n",
       "    <tr>\n",
       "      <th id=\"T_6924c_level0_row5\" class=\"row_heading level0 row5\" >5</th>\n",
       "      <td id=\"T_6924c_row5_col0\" class=\"data row5 col0\" >fal</td>\n",
       "      <td id=\"T_6924c_row5_col1\" class=\"data row5 col1\" >14</td>\n",
       "    </tr>\n",
       "    <tr>\n",
       "      <th id=\"T_6924c_level0_row6\" class=\"row_heading level0 row6\" >6</th>\n",
       "      <td id=\"T_6924c_row6_col0\" class=\"data row6 col0\" >#lulaolivioprettoru</td>\n",
       "      <td id=\"T_6924c_row6_col1\" class=\"data row6 col1\" >13</td>\n",
       "    </tr>\n",
       "    <tr>\n",
       "      <th id=\"T_6924c_level0_row7\" class=\"row_heading level0 row7\" >7</th>\n",
       "      <td id=\"T_6924c_row7_col0\" class=\"data row7 col0\" >gauch</td>\n",
       "      <td id=\"T_6924c_row7_col1\" class=\"data row7 col1\" >12</td>\n",
       "    </tr>\n",
       "    <tr>\n",
       "      <th id=\"T_6924c_level0_row8\" class=\"row_heading level0 row8\" >8</th>\n",
       "      <td id=\"T_6924c_row8_col0\" class=\"data row8 col0\" >onyx_lorenzon</td>\n",
       "      <td id=\"T_6924c_row8_col1\" class=\"data row8 col1\" >12</td>\n",
       "    </tr>\n",
       "    <tr>\n",
       "      <th id=\"T_6924c_level0_row9\" class=\"row_heading level0 row9\" >9</th>\n",
       "      <td id=\"T_6924c_row9_col0\" class=\"data row9 col0\" >@bandr</td>\n",
       "      <td id=\"T_6924c_row9_col1\" class=\"data row9 col1\" >11</td>\n",
       "    </tr>\n",
       "  </tbody>\n",
       "</table>\n"
      ],
      "text/plain": [
       "<pandas.io.formats.style.Styler at 0x1ffe47d33a0>"
      ]
     },
     "execution_count": 164,
     "metadata": {},
     "output_type": "execute_result"
    }
   ],
   "source": [
    "from collections import Counter\n",
    "\n",
    "normaliza(teste)\n",
    "teste['temp_list'] = teste['text'].apply(lambda x:str(x).split())\n",
    "top = Counter([item for sublist in teste['temp_list'] for item in sublist])\n",
    "temp = pd.DataFrame(top.most_common(10))\n",
    "temp.columns = ['Mais Comentados','Ocorrências']\n",
    "temp.style.background_gradient(cmap='Greens')"
   ]
  },
  {
   "cell_type": "markdown",
   "metadata": {},
   "source": [
    "___\n",
    "### **Biblioteca de métricas e cross-validation:**\n",
    "O *cross_val_predict* permite obter as predições do modelo ao invés de apenas as métricas finais. \n",
    "Neste caso, cada predição será obtida para o conjunto de teste de cada uma das partições. Em outras palavras, se cv=10, por exemplo, \n",
    "o modelo vai ser treinado para 9 partições e validado em 1, que gera as predições. Ao final das 10 execuções, os resultados são \n",
    "concatenados e retornados.\n",
    "\n",
    "Desta forma, o *cross_val_predict* possibilita que realizemos a validação do treino com o próprio particionamento do treino, sem necessidade de um *dataset* de validação."
   ]
  },
  {
   "cell_type": "code",
   "execution_count": 165,
   "metadata": {},
   "outputs": [],
   "source": [
    "from sklearn import metrics\n",
    "from sklearn.model_selection import cross_val_predict\n",
    "import re"
   ]
  },
  {
   "cell_type": "markdown",
   "metadata": {},
   "source": [
    "### **Estrutura de código dos algoritmos**\n",
    "- Inicializar o modelo.\n",
    "- Adicionar os tweets frequentes e a classificação do modelo na partição de teste.\n",
    "- Executa a classificação na partição de testes.\n",
    "- Realiza o cross validation.\n",
    "- Calcula a acurácia do modelo.\n",
    "- Informa os resultados."
   ]
  },
  {
   "cell_type": "markdown",
   "metadata": {},
   "source": [
    "___\n",
    "\n",
    "## **Algoritmos de Machine Learning**\n",
    "\n",
    "Para a criação dos modelos, utilizamos o método de cross validation, o qual realiza a validação cruzada do modelo. Neste caso, o modelo é dividido em 10 partes, treinado em 9 e testado em 1, assim não utilizando o dataset de validação.\n",
    "\n"
   ]
  },
  {
   "cell_type": "markdown",
   "metadata": {},
   "source": [
    "### **Algoritmo Multinomial Naive Bayes**"
   ]
  },
  {
   "cell_type": "markdown",
   "metadata": {},
   "source": [
    "O algoritmo Multinomial Naive Bayes funciona a partir da aplicação do teorema de Bayes, com "
   ]
  },
  {
   "cell_type": "code",
   "execution_count": 166,
   "metadata": {},
   "outputs": [
    {
     "data": {
      "text/html": [
       "<div>\n",
       "<style scoped>\n",
       "    .dataframe tbody tr th:only-of-type {\n",
       "        vertical-align: middle;\n",
       "    }\n",
       "\n",
       "    .dataframe tbody tr th {\n",
       "        vertical-align: top;\n",
       "    }\n",
       "\n",
       "    .dataframe thead th {\n",
       "        text-align: right;\n",
       "    }\n",
       "</style>\n",
       "<table border=\"1\" class=\"dataframe\">\n",
       "  <thead>\n",
       "    <tr style=\"text-align: right;\">\n",
       "      <th></th>\n",
       "      <th>Tweets</th>\n",
       "      <th>Rótulos obtidos</th>\n",
       "      <th>Rótulos esperados</th>\n",
       "    </tr>\n",
       "  </thead>\n",
       "  <tbody>\n",
       "    <tr>\n",
       "      <th>0</th>\n",
       "      <td>heinz progress prop mudanc transport publ regi...</td>\n",
       "      <td>POSITIVO</td>\n",
       "      <td>POSITIVO</td>\n",
       "    </tr>\n",
       "    <tr>\n",
       "      <th>1</th>\n",
       "      <td>@bandr obrig eduardo_leit invest tant saud #un...</td>\n",
       "      <td>POSITIVO</td>\n",
       "      <td>POSITIVO</td>\n",
       "    </tr>\n",
       "    <tr>\n",
       "      <th>2</th>\n",
       "      <td>@bandr fech eduardo_leit #uniaobrasilr #marcel...</td>\n",
       "      <td>POSITIVO</td>\n",
       "      <td>POSITIVO</td>\n",
       "    </tr>\n",
       "    <tr>\n",
       "      <th>3</th>\n",
       "      <td>edegar_prett deput vot part tre eleico partici...</td>\n",
       "      <td>POSITIVO</td>\n",
       "      <td>POSITIVO</td>\n",
       "    </tr>\n",
       "    <tr>\n",
       "      <th>4</th>\n",
       "      <td>@frenteampla13 unic candidat fal invest invest...</td>\n",
       "      <td>POSITIVO</td>\n",
       "      <td>POSITIVO</td>\n",
       "    </tr>\n",
       "    <tr>\n",
       "      <th>...</th>\n",
       "      <td>...</td>\n",
       "      <td>...</td>\n",
       "      <td>...</td>\n",
       "    </tr>\n",
       "    <tr>\n",
       "      <th>103</th>\n",
       "      <td>eduardo_leit porqu pag pis salar profes rio_gr...</td>\n",
       "      <td>NEGATIVO</td>\n",
       "      <td>NEGATIVO</td>\n",
       "    </tr>\n",
       "    <tr>\n",
       "      <th>104</th>\n",
       "      <td>porqu tant candidat era mont seguint chap edg ...</td>\n",
       "      <td>NEGATIVO</td>\n",
       "      <td>NEGATIVO</td>\n",
       "    </tr>\n",
       "    <tr>\n",
       "      <th>105</th>\n",
       "      <td>\"bolsoleite\" hoj \"denunciando\" falt invest fed...</td>\n",
       "      <td>NEGATIVO</td>\n",
       "      <td>NEGATIVO</td>\n",
       "    </tr>\n",
       "    <tr>\n",
       "      <th>106</th>\n",
       "      <td>escolh sim onyx_lorenzon escolh mort aind deix...</td>\n",
       "      <td>NEGATIVO</td>\n",
       "      <td>NEGATIVO</td>\n",
       "    </tr>\n",
       "    <tr>\n",
       "      <th>107</th>\n",
       "      <td>vari tem aparec #debatenabandr agor candidat p...</td>\n",
       "      <td>POSITIVO</td>\n",
       "      <td>NEGATIVO</td>\n",
       "    </tr>\n",
       "  </tbody>\n",
       "</table>\n",
       "<p>108 rows × 3 columns</p>\n",
       "</div>"
      ],
      "text/plain": [
       "                                                Tweets Rótulos obtidos  \\\n",
       "0    heinz progress prop mudanc transport publ regi...        POSITIVO   \n",
       "1    @bandr obrig eduardo_leit invest tant saud #un...        POSITIVO   \n",
       "2    @bandr fech eduardo_leit #uniaobrasilr #marcel...        POSITIVO   \n",
       "3    edegar_prett deput vot part tre eleico partici...        POSITIVO   \n",
       "4    @frenteampla13 unic candidat fal invest invest...        POSITIVO   \n",
       "..                                                 ...             ...   \n",
       "103  eduardo_leit porqu pag pis salar profes rio_gr...        NEGATIVO   \n",
       "104  porqu tant candidat era mont seguint chap edg ...        NEGATIVO   \n",
       "105  \"bolsoleite\" hoj \"denunciando\" falt invest fed...        NEGATIVO   \n",
       "106  escolh sim onyx_lorenzon escolh mort aind deix...        NEGATIVO   \n",
       "107  vari tem aparec #debatenabandr agor candidat p...        POSITIVO   \n",
       "\n",
       "    Rótulos esperados  \n",
       "0            POSITIVO  \n",
       "1            POSITIVO  \n",
       "2            POSITIVO  \n",
       "3            POSITIVO  \n",
       "4            POSITIVO  \n",
       "..                ...  \n",
       "103          NEGATIVO  \n",
       "104          NEGATIVO  \n",
       "105          NEGATIVO  \n",
       "106          NEGATIVO  \n",
       "107          NEGATIVO  \n",
       "\n",
       "[108 rows x 3 columns]"
      ]
     },
     "execution_count": 166,
     "metadata": {},
     "output_type": "execute_result"
    }
   ],
   "source": [
    "from sklearn.naive_bayes import MultinomialNB\n",
    "#pd.set_option('display.max_rows', 10) #printa todas as linhas\n",
    "\n",
    "modeloNB = MultinomialNB()\n",
    "modeloNB.fit(freq_treino, treino_classificacao)\n",
    "\n",
    "predicaoNB = modeloNB.predict(freq_testes)\n",
    "\n",
    "df_resultados = pd.DataFrame(data = { \"Tweets\": testes_tweets, \"Rótulos obtidos\": predicaoNB, \"Rótulos esperados\": testes_classificacao })\n",
    "df_resultados"
   ]
  },
  {
   "cell_type": "markdown",
   "metadata": {},
   "source": [
    "##### *Análise dos resultados obtidos com o NB*"
   ]
  },
  {
   "cell_type": "code",
   "execution_count": 167,
   "metadata": {},
   "outputs": [
    {
     "name": "stdout",
     "output_type": "stream",
     "text": [
      "Acurácia:  0.80 %\n",
      "\n",
      "              precision    recall  f1-score   support\n",
      "\n",
      "    POSITIVO       0.86      0.72      0.79       248\n",
      "    NEGATIVO       0.76      0.89      0.82       248\n",
      "\n",
      "    accuracy                           0.80       496\n",
      "   macro avg       0.81      0.80      0.80       496\n",
      "weighted avg       0.81      0.80      0.80       496\n",
      "\n"
     ]
    }
   ],
   "source": [
    "resultados = cross_val_predict(modeloNB, freq_treino, treino_classificacao, cv = 10)\n",
    "acrNB = metrics.accuracy_score(treino_classificacao, resultados)\n",
    "\n",
    "print(\"Acurácia: \", \"%.2f\" % acrNB ,\"%\\n\")\n",
    "print(metrics.classification_report(treino_classificacao, resultados, target_names=['POSITIVO', 'NEGATIVO']))"
   ]
  },
  {
   "cell_type": "markdown",
   "metadata": {},
   "source": [
    "### **Algoritmo Logistic Regression:**"
   ]
  },
  {
   "cell_type": "markdown",
   "metadata": {},
   "source": [
    "O algoritmo da regressão logística é utilizado para prever o valor de uma variável com base no valor de outra. A variável utilizada para prever o valor é denominada de variável dependente, enquanto que a variável que deseja-se prever é a variável dependente, vale ressaltar que no caso da regressão logística, a variável dependente é de natureza binária.\n",
    "\n",
    "Na análise da regressão logística, são estimados valores dos parâmetros de um modelo logístico, na qual os valores dependentes serão 0 e 1, enquanto os valores independentes podem ser também binários ou viriáveis contínuas. \n",
    "\n",
    "Na implementação do *sklearn*, utilizamos o parâmetro *C* é utilizado para aplicar uma penalidade a magnitude crescente dos valores independentes, visando reduzir o *overfit* do modelo, já o parâmetro *solver* é utilizado para melhorar o funcionamento do algoritmo, utilizando funções matemáticas sucessivamente para minimizar a diferença entre os valores esperados e previstos. \n",
    "\n",
    "\n"
   ]
  },
  {
   "cell_type": "code",
   "execution_count": 168,
   "metadata": {},
   "outputs": [
    {
     "data": {
      "text/html": [
       "<div>\n",
       "<style scoped>\n",
       "    .dataframe tbody tr th:only-of-type {\n",
       "        vertical-align: middle;\n",
       "    }\n",
       "\n",
       "    .dataframe tbody tr th {\n",
       "        vertical-align: top;\n",
       "    }\n",
       "\n",
       "    .dataframe thead th {\n",
       "        text-align: right;\n",
       "    }\n",
       "</style>\n",
       "<table border=\"1\" class=\"dataframe\">\n",
       "  <thead>\n",
       "    <tr style=\"text-align: right;\">\n",
       "      <th></th>\n",
       "      <th>Tweets</th>\n",
       "      <th>Rótulos obtidos</th>\n",
       "      <th>Rótulos esperados</th>\n",
       "    </tr>\n",
       "  </thead>\n",
       "  <tbody>\n",
       "    <tr>\n",
       "      <th>0</th>\n",
       "      <td>heinz progress prop mudanc transport publ regi...</td>\n",
       "      <td>NEGATIVO</td>\n",
       "      <td>POSITIVO</td>\n",
       "    </tr>\n",
       "    <tr>\n",
       "      <th>1</th>\n",
       "      <td>@bandr obrig eduardo_leit invest tant saud #un...</td>\n",
       "      <td>POSITIVO</td>\n",
       "      <td>POSITIVO</td>\n",
       "    </tr>\n",
       "    <tr>\n",
       "      <th>2</th>\n",
       "      <td>@bandr fech eduardo_leit #uniaobrasilr #marcel...</td>\n",
       "      <td>POSITIVO</td>\n",
       "      <td>POSITIVO</td>\n",
       "    </tr>\n",
       "    <tr>\n",
       "      <th>3</th>\n",
       "      <td>edegar_prett deput vot part tre eleico partici...</td>\n",
       "      <td>POSITIVO</td>\n",
       "      <td>POSITIVO</td>\n",
       "    </tr>\n",
       "    <tr>\n",
       "      <th>4</th>\n",
       "      <td>@frenteampla13 unic candidat fal invest invest...</td>\n",
       "      <td>POSITIVO</td>\n",
       "      <td>POSITIVO</td>\n",
       "    </tr>\n",
       "    <tr>\n",
       "      <th>...</th>\n",
       "      <td>...</td>\n",
       "      <td>...</td>\n",
       "      <td>...</td>\n",
       "    </tr>\n",
       "    <tr>\n",
       "      <th>103</th>\n",
       "      <td>eduardo_leit porqu pag pis salar profes rio_gr...</td>\n",
       "      <td>NEGATIVO</td>\n",
       "      <td>NEGATIVO</td>\n",
       "    </tr>\n",
       "    <tr>\n",
       "      <th>104</th>\n",
       "      <td>porqu tant candidat era mont seguint chap edg ...</td>\n",
       "      <td>NEGATIVO</td>\n",
       "      <td>NEGATIVO</td>\n",
       "    </tr>\n",
       "    <tr>\n",
       "      <th>105</th>\n",
       "      <td>\"bolsoleite\" hoj \"denunciando\" falt invest fed...</td>\n",
       "      <td>NEGATIVO</td>\n",
       "      <td>NEGATIVO</td>\n",
       "    </tr>\n",
       "    <tr>\n",
       "      <th>106</th>\n",
       "      <td>escolh sim onyx_lorenzon escolh mort aind deix...</td>\n",
       "      <td>NEGATIVO</td>\n",
       "      <td>NEGATIVO</td>\n",
       "    </tr>\n",
       "    <tr>\n",
       "      <th>107</th>\n",
       "      <td>vari tem aparec #debatenabandr agor candidat p...</td>\n",
       "      <td>NEGATIVO</td>\n",
       "      <td>NEGATIVO</td>\n",
       "    </tr>\n",
       "  </tbody>\n",
       "</table>\n",
       "<p>108 rows × 3 columns</p>\n",
       "</div>"
      ],
      "text/plain": [
       "                                                Tweets Rótulos obtidos  \\\n",
       "0    heinz progress prop mudanc transport publ regi...        NEGATIVO   \n",
       "1    @bandr obrig eduardo_leit invest tant saud #un...        POSITIVO   \n",
       "2    @bandr fech eduardo_leit #uniaobrasilr #marcel...        POSITIVO   \n",
       "3    edegar_prett deput vot part tre eleico partici...        POSITIVO   \n",
       "4    @frenteampla13 unic candidat fal invest invest...        POSITIVO   \n",
       "..                                                 ...             ...   \n",
       "103  eduardo_leit porqu pag pis salar profes rio_gr...        NEGATIVO   \n",
       "104  porqu tant candidat era mont seguint chap edg ...        NEGATIVO   \n",
       "105  \"bolsoleite\" hoj \"denunciando\" falt invest fed...        NEGATIVO   \n",
       "106  escolh sim onyx_lorenzon escolh mort aind deix...        NEGATIVO   \n",
       "107  vari tem aparec #debatenabandr agor candidat p...        NEGATIVO   \n",
       "\n",
       "    Rótulos esperados  \n",
       "0            POSITIVO  \n",
       "1            POSITIVO  \n",
       "2            POSITIVO  \n",
       "3            POSITIVO  \n",
       "4            POSITIVO  \n",
       "..                ...  \n",
       "103          NEGATIVO  \n",
       "104          NEGATIVO  \n",
       "105          NEGATIVO  \n",
       "106          NEGATIVO  \n",
       "107          NEGATIVO  \n",
       "\n",
       "[108 rows x 3 columns]"
      ]
     },
     "execution_count": 168,
     "metadata": {},
     "output_type": "execute_result"
    }
   ],
   "source": [
    "from sklearn.linear_model import LogisticRegression\n",
    "#pd.set_option('display.max_rows', 10) #printa todas as linhas\n",
    "\n",
    "modeloLR = LogisticRegression(C = 2, solver='liblinear')\n",
    "modeloLR.fit(freq_treino, treino_classificacao)\n",
    "\n",
    "predicaoLP = modeloLR.predict(freq_testes)\n",
    "\n",
    "df_resultados = pd.DataFrame(data = { \"Tweets\": testes_tweets, \"Rótulos obtidos\": predicaoLP, \"Rótulos esperados\": testes_classificacao })\n",
    "df_resultados"
   ]
  },
  {
   "cell_type": "markdown",
   "metadata": {},
   "source": [
    "##### *Análise dos resultados obtidos com o LP*"
   ]
  },
  {
   "cell_type": "code",
   "execution_count": 169,
   "metadata": {},
   "outputs": [
    {
     "name": "stdout",
     "output_type": "stream",
     "text": [
      "Acurácia:  0.85 %\n",
      "\n",
      "              precision    recall  f1-score   support\n",
      "\n",
      "    POSITIVO       0.83      0.89      0.86       248\n",
      "    NEGATIVO       0.88      0.82      0.85       248\n",
      "\n",
      "    accuracy                           0.85       496\n",
      "   macro avg       0.86      0.85      0.85       496\n",
      "weighted avg       0.86      0.85      0.85       496\n",
      "\n"
     ]
    }
   ],
   "source": [
    "resultados = cross_val_predict(modeloLR, freq_treino, treino_classificacao, cv = 10)\n",
    "acrLP = metrics.accuracy_score(treino_classificacao, resultados)\n",
    "\n",
    "print(\"Acurácia: \", \"%.2f\" % acrLP ,\"%\\n\")\n",
    "print(metrics.classification_report(treino_classificacao, resultados, target_names=['POSITIVO', 'NEGATIVO']))"
   ]
  },
  {
   "cell_type": "markdown",
   "metadata": {},
   "source": [
    "### **Algoritmo K-Nearest Neighbor:**"
   ]
  },
  {
   "cell_type": "markdown",
   "metadata": {},
   "source": [
    "O algoritmo KNN é um algoritmo de aprendizado supervisionado, utilizado para classificação de dados rotulados. \n",
    "\n",
    "A partir de uma definição de K, que será o valor de vizinhos próximos, e um dado de teste, o algoritmo irá calcular a distância (em nosso caso será utilizada a Distância Euclidiana) entre todos os pontos de treino e compará-los a este dado de teste, e tentará prever sua classe a partir da classe dos K vizinhos mais próximos. Ou seja, ele considera que objetos com características semelhantes pertençam ao mesmo grupo.\n",
    "\n",
    "<center><img src=\"resources/assets/knn-imagem.png\" width=\"650px\" height=\"400px\"></center>\n",
    "<center>Figura x - Exemplo gráfico do algoritmo K-Nearest Neighbor</center>\n",
    "\n",
    "Observando a figura x, nota-se que o ponto vermelho é um dado de teste, que está sendo comparado com outros dados de treino. Se o valor de K vizinhos fosse 3, o dado vermelho seria classificado como pertencente a classe B, enquanto que com 6 vizinhos ele seria definido como parte da classe A devido a número maior de vizinhos mais próximos pertencentes a esta classe.\n",
    "\n",
    "Os aspectos posivitos do Algoritmo KNN são:\n",
    "- A facilidade de seu treino, pos armazena apenas objetos rotulados.\n",
    "- Construção de aproximações locais da função objetivo, já que são diferentes para cada objeto novo que foi classificado.\n",
    "- Escalabilidade.\n",
    "\n",
    "Já em quesitos de limitações, o Algoritmo KNN é dependente da medida de distância, tornando a normalização dos dados um fator de extrema importância para o seu funcionamento. Além disso, ele não gera modelo e sua predição pode ser custosa caso o número de objetos seja grande demais.\n",
    "\n"
   ]
  },
  {
   "cell_type": "code",
   "execution_count": 170,
   "metadata": {},
   "outputs": [
    {
     "data": {
      "text/html": [
       "<div>\n",
       "<style scoped>\n",
       "    .dataframe tbody tr th:only-of-type {\n",
       "        vertical-align: middle;\n",
       "    }\n",
       "\n",
       "    .dataframe tbody tr th {\n",
       "        vertical-align: top;\n",
       "    }\n",
       "\n",
       "    .dataframe thead th {\n",
       "        text-align: right;\n",
       "    }\n",
       "</style>\n",
       "<table border=\"1\" class=\"dataframe\">\n",
       "  <thead>\n",
       "    <tr style=\"text-align: right;\">\n",
       "      <th></th>\n",
       "      <th>Tweets</th>\n",
       "      <th>Rótulos obtidos</th>\n",
       "      <th>Rótulos esperados</th>\n",
       "    </tr>\n",
       "  </thead>\n",
       "  <tbody>\n",
       "    <tr>\n",
       "      <th>0</th>\n",
       "      <td>heinz progress prop mudanc transport publ regi...</td>\n",
       "      <td>POSITIVO</td>\n",
       "      <td>POSITIVO</td>\n",
       "    </tr>\n",
       "    <tr>\n",
       "      <th>1</th>\n",
       "      <td>@bandr obrig eduardo_leit invest tant saud #un...</td>\n",
       "      <td>POSITIVO</td>\n",
       "      <td>POSITIVO</td>\n",
       "    </tr>\n",
       "    <tr>\n",
       "      <th>2</th>\n",
       "      <td>@bandr fech eduardo_leit #uniaobrasilr #marcel...</td>\n",
       "      <td>POSITIVO</td>\n",
       "      <td>POSITIVO</td>\n",
       "    </tr>\n",
       "    <tr>\n",
       "      <th>3</th>\n",
       "      <td>edegar_prett deput vot part tre eleico partici...</td>\n",
       "      <td>POSITIVO</td>\n",
       "      <td>POSITIVO</td>\n",
       "    </tr>\n",
       "    <tr>\n",
       "      <th>4</th>\n",
       "      <td>@frenteampla13 unic candidat fal invest invest...</td>\n",
       "      <td>POSITIVO</td>\n",
       "      <td>POSITIVO</td>\n",
       "    </tr>\n",
       "    <tr>\n",
       "      <th>...</th>\n",
       "      <td>...</td>\n",
       "      <td>...</td>\n",
       "      <td>...</td>\n",
       "    </tr>\n",
       "    <tr>\n",
       "      <th>103</th>\n",
       "      <td>eduardo_leit porqu pag pis salar profes rio_gr...</td>\n",
       "      <td>POSITIVO</td>\n",
       "      <td>NEGATIVO</td>\n",
       "    </tr>\n",
       "    <tr>\n",
       "      <th>104</th>\n",
       "      <td>porqu tant candidat era mont seguint chap edg ...</td>\n",
       "      <td>NEGATIVO</td>\n",
       "      <td>NEGATIVO</td>\n",
       "    </tr>\n",
       "    <tr>\n",
       "      <th>105</th>\n",
       "      <td>\"bolsoleite\" hoj \"denunciando\" falt invest fed...</td>\n",
       "      <td>NEGATIVO</td>\n",
       "      <td>NEGATIVO</td>\n",
       "    </tr>\n",
       "    <tr>\n",
       "      <th>106</th>\n",
       "      <td>escolh sim onyx_lorenzon escolh mort aind deix...</td>\n",
       "      <td>NEGATIVO</td>\n",
       "      <td>NEGATIVO</td>\n",
       "    </tr>\n",
       "    <tr>\n",
       "      <th>107</th>\n",
       "      <td>vari tem aparec #debatenabandr agor candidat p...</td>\n",
       "      <td>POSITIVO</td>\n",
       "      <td>NEGATIVO</td>\n",
       "    </tr>\n",
       "  </tbody>\n",
       "</table>\n",
       "<p>108 rows × 3 columns</p>\n",
       "</div>"
      ],
      "text/plain": [
       "                                                Tweets Rótulos obtidos  \\\n",
       "0    heinz progress prop mudanc transport publ regi...        POSITIVO   \n",
       "1    @bandr obrig eduardo_leit invest tant saud #un...        POSITIVO   \n",
       "2    @bandr fech eduardo_leit #uniaobrasilr #marcel...        POSITIVO   \n",
       "3    edegar_prett deput vot part tre eleico partici...        POSITIVO   \n",
       "4    @frenteampla13 unic candidat fal invest invest...        POSITIVO   \n",
       "..                                                 ...             ...   \n",
       "103  eduardo_leit porqu pag pis salar profes rio_gr...        POSITIVO   \n",
       "104  porqu tant candidat era mont seguint chap edg ...        NEGATIVO   \n",
       "105  \"bolsoleite\" hoj \"denunciando\" falt invest fed...        NEGATIVO   \n",
       "106  escolh sim onyx_lorenzon escolh mort aind deix...        NEGATIVO   \n",
       "107  vari tem aparec #debatenabandr agor candidat p...        POSITIVO   \n",
       "\n",
       "    Rótulos esperados  \n",
       "0            POSITIVO  \n",
       "1            POSITIVO  \n",
       "2            POSITIVO  \n",
       "3            POSITIVO  \n",
       "4            POSITIVO  \n",
       "..                ...  \n",
       "103          NEGATIVO  \n",
       "104          NEGATIVO  \n",
       "105          NEGATIVO  \n",
       "106          NEGATIVO  \n",
       "107          NEGATIVO  \n",
       "\n",
       "[108 rows x 3 columns]"
      ]
     },
     "execution_count": 170,
     "metadata": {},
     "output_type": "execute_result"
    }
   ],
   "source": [
    "from sklearn.neighbors import KNeighborsClassifier\n",
    "\n",
    "modeloKNN = KNeighborsClassifier(n_neighbors=9)\n",
    "modeloKNN.fit(freq_treino, treino_classificacao)\n",
    "\n",
    "predicaoKNN = modeloKNN.predict(freq_testes)\n",
    "\n",
    "df_resultados = pd.DataFrame(data = { \"Tweets\": testes_tweets, \"Rótulos obtidos\": predicaoKNN, \"Rótulos esperados\": testes_classificacao })\n",
    "df_resultados\n"
   ]
  },
  {
   "cell_type": "markdown",
   "metadata": {},
   "source": [
    "##### *Análise dos resultados obtidos com o KNN*\n"
   ]
  },
  {
   "cell_type": "code",
   "execution_count": 171,
   "metadata": {},
   "outputs": [
    {
     "name": "stdout",
     "output_type": "stream",
     "text": [
      "Acurácia:  0.76 %\n",
      "\n",
      "              precision    recall  f1-score   support\n",
      "\n",
      "    POSITIVO       0.87      0.61      0.72       248\n",
      "    NEGATIVO       0.70      0.91      0.79       248\n",
      "\n",
      "    accuracy                           0.76       496\n",
      "   macro avg       0.79      0.76      0.75       496\n",
      "weighted avg       0.79      0.76      0.75       496\n",
      "\n"
     ]
    }
   ],
   "source": [
    "resultados = cross_val_predict(modeloKNN, freq_treino, treino_classificacao, cv = 10)\n",
    "\n",
    "acrKNN = metrics.accuracy_score(treino_classificacao, resultados)  \n",
    "\n",
    "print(\"Acurácia: \", \"%.2f\" % acrKNN ,\"%\\n\")\n",
    "print(metrics.classification_report(treino_classificacao, resultados, target_names=['POSITIVO', 'NEGATIVO']))"
   ]
  },
  {
   "cell_type": "markdown",
   "metadata": {},
   "source": [
    "### **Algoritmo MultiLayer Perceptron:**"
   ]
  },
  {
   "cell_type": "markdown",
   "metadata": {},
   "source": [
    "MLP, ou MultiLayer Perceptron são redes perceptron de múltiplas camadas que são totalmente conectadas e que contém uma ou mais camadas ocultas. O treinamento da rede é feito utilizando etapas de forward e backward.\n",
    "- A fase **forward** - propagação é utilizada para definir a saída da rede para um dado padrão de entrada.\n",
    "- A base **backward -** retro propagação utiliza a saída desejada e a saída gerada pela rede para atualizar os pesos de suas conexões.\n",
    "- O algoritmo de retro propagação procura minimizar a função de erro no espaço de pesos usando o método gradiente descendente.\n",
    "\n",
    "\n",
    "\n",
    "Em nosso algoritmo, foram implementados 110 neurônios na camada oculta, com 0.9 de *momentum* e o atributo lbfgs como *solver*, que é um otimizador *quasi-Newton method* para recalcular os pesos, que por sua vez se baseia num método para encontrar máximo e mínimos locais.\n",
    "\n",
    "<center><img src=\"resources/assets/quasinewton.png\" width=\"300px\" height=\"50px\" ></center>\n",
    "<center>Figura x - Fórmula de quasi-Newton</center>"
   ]
  },
  {
   "cell_type": "code",
   "execution_count": 172,
   "metadata": {},
   "outputs": [
    {
     "data": {
      "text/html": [
       "<div>\n",
       "<style scoped>\n",
       "    .dataframe tbody tr th:only-of-type {\n",
       "        vertical-align: middle;\n",
       "    }\n",
       "\n",
       "    .dataframe tbody tr th {\n",
       "        vertical-align: top;\n",
       "    }\n",
       "\n",
       "    .dataframe thead th {\n",
       "        text-align: right;\n",
       "    }\n",
       "</style>\n",
       "<table border=\"1\" class=\"dataframe\">\n",
       "  <thead>\n",
       "    <tr style=\"text-align: right;\">\n",
       "      <th></th>\n",
       "      <th>Tweets</th>\n",
       "      <th>Rótulos obtidos</th>\n",
       "      <th>Rótulos esperados</th>\n",
       "    </tr>\n",
       "  </thead>\n",
       "  <tbody>\n",
       "    <tr>\n",
       "      <th>0</th>\n",
       "      <td>heinz progress prop mudanc transport publ regi...</td>\n",
       "      <td>NEGATIVO</td>\n",
       "      <td>POSITIVO</td>\n",
       "    </tr>\n",
       "    <tr>\n",
       "      <th>1</th>\n",
       "      <td>@bandr obrig eduardo_leit invest tant saud #un...</td>\n",
       "      <td>POSITIVO</td>\n",
       "      <td>POSITIVO</td>\n",
       "    </tr>\n",
       "    <tr>\n",
       "      <th>2</th>\n",
       "      <td>@bandr fech eduardo_leit #uniaobrasilr #marcel...</td>\n",
       "      <td>POSITIVO</td>\n",
       "      <td>POSITIVO</td>\n",
       "    </tr>\n",
       "    <tr>\n",
       "      <th>3</th>\n",
       "      <td>edegar_prett deput vot part tre eleico partici...</td>\n",
       "      <td>POSITIVO</td>\n",
       "      <td>POSITIVO</td>\n",
       "    </tr>\n",
       "    <tr>\n",
       "      <th>4</th>\n",
       "      <td>@frenteampla13 unic candidat fal invest invest...</td>\n",
       "      <td>POSITIVO</td>\n",
       "      <td>POSITIVO</td>\n",
       "    </tr>\n",
       "    <tr>\n",
       "      <th>...</th>\n",
       "      <td>...</td>\n",
       "      <td>...</td>\n",
       "      <td>...</td>\n",
       "    </tr>\n",
       "    <tr>\n",
       "      <th>103</th>\n",
       "      <td>eduardo_leit porqu pag pis salar profes rio_gr...</td>\n",
       "      <td>NEGATIVO</td>\n",
       "      <td>NEGATIVO</td>\n",
       "    </tr>\n",
       "    <tr>\n",
       "      <th>104</th>\n",
       "      <td>porqu tant candidat era mont seguint chap edg ...</td>\n",
       "      <td>NEGATIVO</td>\n",
       "      <td>NEGATIVO</td>\n",
       "    </tr>\n",
       "    <tr>\n",
       "      <th>105</th>\n",
       "      <td>\"bolsoleite\" hoj \"denunciando\" falt invest fed...</td>\n",
       "      <td>NEGATIVO</td>\n",
       "      <td>NEGATIVO</td>\n",
       "    </tr>\n",
       "    <tr>\n",
       "      <th>106</th>\n",
       "      <td>escolh sim onyx_lorenzon escolh mort aind deix...</td>\n",
       "      <td>NEGATIVO</td>\n",
       "      <td>NEGATIVO</td>\n",
       "    </tr>\n",
       "    <tr>\n",
       "      <th>107</th>\n",
       "      <td>vari tem aparec #debatenabandr agor candidat p...</td>\n",
       "      <td>NEGATIVO</td>\n",
       "      <td>NEGATIVO</td>\n",
       "    </tr>\n",
       "  </tbody>\n",
       "</table>\n",
       "<p>108 rows × 3 columns</p>\n",
       "</div>"
      ],
      "text/plain": [
       "                                                Tweets Rótulos obtidos  \\\n",
       "0    heinz progress prop mudanc transport publ regi...        NEGATIVO   \n",
       "1    @bandr obrig eduardo_leit invest tant saud #un...        POSITIVO   \n",
       "2    @bandr fech eduardo_leit #uniaobrasilr #marcel...        POSITIVO   \n",
       "3    edegar_prett deput vot part tre eleico partici...        POSITIVO   \n",
       "4    @frenteampla13 unic candidat fal invest invest...        POSITIVO   \n",
       "..                                                 ...             ...   \n",
       "103  eduardo_leit porqu pag pis salar profes rio_gr...        NEGATIVO   \n",
       "104  porqu tant candidat era mont seguint chap edg ...        NEGATIVO   \n",
       "105  \"bolsoleite\" hoj \"denunciando\" falt invest fed...        NEGATIVO   \n",
       "106  escolh sim onyx_lorenzon escolh mort aind deix...        NEGATIVO   \n",
       "107  vari tem aparec #debatenabandr agor candidat p...        NEGATIVO   \n",
       "\n",
       "    Rótulos esperados  \n",
       "0            POSITIVO  \n",
       "1            POSITIVO  \n",
       "2            POSITIVO  \n",
       "3            POSITIVO  \n",
       "4            POSITIVO  \n",
       "..                ...  \n",
       "103          NEGATIVO  \n",
       "104          NEGATIVO  \n",
       "105          NEGATIVO  \n",
       "106          NEGATIVO  \n",
       "107          NEGATIVO  \n",
       "\n",
       "[108 rows x 3 columns]"
      ]
     },
     "execution_count": 172,
     "metadata": {},
     "output_type": "execute_result"
    }
   ],
   "source": [
    "from sklearn.neural_network import MLPClassifier\n",
    "\n",
    "modeloMLP = MLPClassifier(learning_rate_init=1, hidden_layer_sizes=(110), solver='lbfgs')\n",
    "modeloMLP.fit(freq_treino, treino_classificacao)\n",
    "\n",
    "predicaoMLP = modeloMLP.predict(freq_testes)\n",
    "\n",
    "df_resultados = pd.DataFrame(data = { \"Tweets\": testes_tweets, \"Rótulos obtidos\": predicaoMLP, \"Rótulos esperados\": testes_classificacao })\n",
    "df_resultados"
   ]
  },
  {
   "cell_type": "markdown",
   "metadata": {},
   "source": [
    "##### *Análise dos resultados obtidos com o MLP*"
   ]
  },
  {
   "cell_type": "code",
   "execution_count": 173,
   "metadata": {},
   "outputs": [
    {
     "name": "stdout",
     "output_type": "stream",
     "text": [
      "Acurácia:  0.85 %\n",
      "\n",
      "              precision    recall  f1-score   support\n",
      "\n",
      "    POSITIVO       0.85      0.85      0.85       248\n",
      "    NEGATIVO       0.85      0.85      0.85       248\n",
      "\n",
      "    accuracy                           0.85       496\n",
      "   macro avg       0.85      0.85      0.85       496\n",
      "weighted avg       0.85      0.85      0.85       496\n",
      "\n"
     ]
    }
   ],
   "source": [
    "resultados = cross_val_predict(modeloMLP, freq_treino, treino_classificacao, cv = 10)\n",
    "acrMLP = metrics.accuracy_score(treino_classificacao, resultados)\n",
    "\n",
    "print(\"Acurácia: \", \"%.2f\" % acrMLP ,\"%\\n\")\n",
    "print(metrics.classification_report(treino_classificacao, resultados, target_names=['POSITIVO', 'NEGATIVO']))"
   ]
  },
  {
   "cell_type": "markdown",
   "metadata": {},
   "source": [
    "___\n",
    "## **Análise geral dos algortimos implementados:**"
   ]
  },
  {
   "cell_type": "code",
   "execution_count": 181,
   "metadata": {},
   "outputs": [],
   "source": [
    "from sklearn.metrics import confusion_matrix\n",
    "import matplotlib.pyplot as plt\n",
    "import seaborn as sns; sns.set()\n",
    "\n",
    "def plot_matrix(y, color, title):\n",
    "    mat = confusion_matrix(testes_classificacao, y)\n",
    "    plt.figure(figsize = (3.5,3.5))\n",
    "    sns.heatmap(mat,cmap= color, \n",
    "                linecolor = 'black', \n",
    "                linewidth = 0.6,\n",
    "                annot = True,\n",
    "                xticklabels = ['Negativo','Positivo'], \n",
    "                yticklabels = ['Negativo','Positivo'])\n",
    "    plt.title(title)\n",
    "    plt.xlabel(\"Rótulo obtido\")\n",
    "    plt.ylabel(\"Rótulo esperado\")"
   ]
  },
  {
   "cell_type": "code",
   "execution_count": 182,
   "metadata": {},
   "outputs": [
    {
     "ename": "TypeError",
     "evalue": "'AxesSubplot' object is not callable",
     "output_type": "error",
     "traceback": [
      "\u001b[1;31m---------------------------------------------------------------------------\u001b[0m",
      "\u001b[1;31mTypeError\u001b[0m                                 Traceback (most recent call last)",
      "Cell \u001b[1;32mIn [182], line 4\u001b[0m\n\u001b[0;32m      1\u001b[0m figure, axis \u001b[39m=\u001b[39m plt\u001b[39m.\u001b[39msubplots(\u001b[39m2\u001b[39m, \u001b[39m2\u001b[39m)\n\u001b[0;32m      3\u001b[0m axis[\u001b[39m0\u001b[39m, \u001b[39m0\u001b[39m] \u001b[39m=\u001b[39m plot_matrix(predicaoNB, \u001b[39m'\u001b[39m\u001b[39mReds\u001b[39m\u001b[39m'\u001b[39m, \u001b[39m'\u001b[39m\u001b[39mNaive Bayes\u001b[39m\u001b[39m'\u001b[39m)\n\u001b[1;32m----> 4\u001b[0m axis[\u001b[39m0\u001b[39;49m, \u001b[39m1\u001b[39;49m](predicaoLP, \u001b[39m'\u001b[39;49m\u001b[39mGreens\u001b[39;49m\u001b[39m'\u001b[39;49m, \u001b[39m'\u001b[39;49m\u001b[39mLogisticRegression\u001b[39;49m\u001b[39m'\u001b[39;49m)\n\u001b[0;32m      5\u001b[0m axis[\u001b[39m1\u001b[39m, \u001b[39m0\u001b[39m](predicaoKNN, \u001b[39m'\u001b[39m\u001b[39mBlues\u001b[39m\u001b[39m'\u001b[39m, \u001b[39m'\u001b[39m\u001b[39mKNeighborsClassifier\u001b[39m\u001b[39m'\u001b[39m)\n\u001b[0;32m      6\u001b[0m axis[\u001b[39m1\u001b[39m, \u001b[39m1\u001b[39m](predicaoMLP, \u001b[39m'\u001b[39m\u001b[39mPurples\u001b[39m\u001b[39m'\u001b[39m, \u001b[39m'\u001b[39m\u001b[39mMultiLayer Perceptron\u001b[39m\u001b[39m'\u001b[39m)\n",
      "\u001b[1;31mTypeError\u001b[0m: 'AxesSubplot' object is not callable"
     ]
    },
    {
     "data": {
      "image/png": "[encoded data removed]",
      "text/plain": [
       "<Figure size 640x480 with 4 Axes>"
      ]
     },
     "metadata": {},
     "output_type": "display_data"
    },
    {
     "data": {
      "image/png": "[encoded data removed]",
      "text/plain": [
       "<Figure size 350x350 with 2 Axes>"
      ]
     },
     "metadata": {},
     "output_type": "display_data"
    }
   ],
   "source": [
    "figure, axis = plt.subplots(2, 2)\n",
    "\n",
    "axis[0, 0] = plot_matrix(predicaoNB, 'Reds', 'Naive Bayes')\n",
    "axis[0, 1](predicaoLP, 'Greens', 'LogisticRegression')\n",
    "axis[1, 0](predicaoKNN, 'Blues', 'KNeighborsClassifier')\n",
    "axis[1, 1](predicaoMLP, 'Purples', 'MultiLayer Perceptron')\n",
    "\n",
    "plt.show()"
   ]
  }
 ],
 "metadata": {
  "kernelspec": {
   "display_name": "Python 3",
   "language": "python",
   "name": "python3"
  },
  "language_info": {
   "codemirror_mode": {
    "name": "ipython",
    "version": 3
   },
   "file_extension": ".py",
   "mimetype": "text/x-python",
   "name": "python",
   "nbconvert_exporter": "python",
   "pygments_lexer": "ipython3",
   "version": "3.10.5"
  },
  "orig_nbformat": 4,
  "vscode": {
   "interpreter": {
    "hash": "d776b604cc3904292aea37f4daa2a46de34e87e5ec4d2ed68e9e515ab9feb7f7"
   }
  }
 },
 "nbformat": 4,
 "nbformat_minor": 2
}

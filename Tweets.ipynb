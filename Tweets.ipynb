{
 "cells": [
  {
   "cell_type": "markdown",
   "metadata": {},
   "source": [
    "# **Trabalho Avaliativo 2 - Inteligência Artificial**\n",
    "**Acadêmicos:**\n",
    "- Guilherme Farias Stefani\n",
    "- Henrique Baptista de Oliveira\n",
    "- Henrique Cardoso Zanette\n",
    "- Jhonata Saraiva Peres\n",
    "- Lucas Dellatorre de Freitas\n"
   ]
  },
  {
   "cell_type": "markdown",
   "metadata": {},
   "source": [
    "___\n",
    "\n",
    "### **Bibliotecas Python nescessarias para utilização deste notebook:**\n",
    "\n",
    "- **Pandas:** Para leitura do DataSet\n",
    "\n",
    "- **Unidecode:** Para normalização dos textos\n",
    "\n",
    "- **Regex:** Para normalização dos textos\n",
    "\n",
    "- **Spacy:** Para lematização\n",
    "\n",
    "- **Ploty:** Para gráficos e afins\n",
    "\n",
    "- **Scikit Learn:** Para utilizar métodos de normalização e algoritmos de machine learning\n",
    "\n",
    "\n",
    "*Rodar no powershell como administrador*\n",
    "\n",
    "> - pip install pandas\n",
    "> - pip install unidecode\n",
    "> - pip install regex\n",
    "> - pip install spacy\n",
    "> - python -m spacy download pt\n",
    "> - pip install nltk\n",
    "> - pip install plotly==5.11.0\n",
    "> - pip install -U scikit-learn"
   ]
  },
  {
   "cell_type": "markdown",
   "metadata": {},
   "source": [
    "*Import das bibliotecas*"
   ]
  },
  {
   "cell_type": "code",
   "execution_count": 733,
   "metadata": {},
   "outputs": [
    {
     "name": "stderr",
     "output_type": "stream",
     "text": [
      "[nltk_data] Downloading package rslp to\n",
      "[nltk_data]     C:\\Users\\guilh\\AppData\\Roaming\\nltk_data...\n",
      "[nltk_data]   Package rslp is already up-to-date!\n"
     ]
    }
   ],
   "source": [
    "import pandas as pd\n",
    "import regex as reg\n",
    "import spacy\n",
    "import unidecode\n",
    "import plotly.express as px\n",
    "from sklearn.feature_extraction.text import CountVectorizer\n",
    "\n",
    "import nltk\n",
    "nltk.download('rslp')\n",
    "\n",
    "stemmer = nltk.stem.RSLPStemmer()\n",
    "\n"
   ]
  },
  {
   "cell_type": "markdown",
   "metadata": {},
   "source": [
    "___\n",
    "\n",
    "### **Repositório de arquivos, datasets e dados de normalização**\n",
    "\n",
    "*Localização dos arquivos de resources*"
   ]
  },
  {
   "cell_type": "code",
   "execution_count": 734,
   "metadata": {},
   "outputs": [],
   "source": [
    "filenameDataSet = 'resources/DataSet.xlsx'\n",
    "filenameRegexToBeApplied =  'resources/regexToBeApplied'\n",
    "filenameStopWords = 'resources/stopWords'\n",
    "fileNameDeParas = 'resources/dePara'"
   ]
  },
  {
   "cell_type": "markdown",
   "metadata": {},
   "source": [
    "___\n",
    "\n",
    "### **Dataset e amostras**\n",
    "\n",
    "*Amostra completa do dataset*"
   ]
  },
  {
   "cell_type": "code",
   "execution_count": 735,
   "metadata": {},
   "outputs": [],
   "source": [
    "dataSet = pd.ExcelFile(filenameDataSet)"
   ]
  },
  {
   "cell_type": "code",
   "execution_count": 736,
   "metadata": {},
   "outputs": [],
   "source": [
    "dataSetRaw = pd.read_excel(dataSet, sheet_name='DebateGovRS')"
   ]
  },
  {
   "cell_type": "markdown",
   "metadata": {},
   "source": [
    "*Amostra do dataset apenas com retweets*"
   ]
  },
  {
   "cell_type": "code",
   "execution_count": 737,
   "metadata": {},
   "outputs": [],
   "source": [
    "retweets = pd.read_excel(dataSet, sheet_name='RT')"
   ]
  },
  {
   "cell_type": "markdown",
   "metadata": {},
   "source": [
    "*Amostra do dataset classificado/rotulado*"
   ]
  },
  {
   "cell_type": "code",
   "execution_count": 738,
   "metadata": {},
   "outputs": [
    {
     "data": {
      "application/vnd.plotly.v1+json": {
       "config": {
        "plotlyServerURL": "https://plot.ly"
       },
       "data": [
        {
         "alignmentgroup": "True",
         "hovertemplate": "x=%{x}<br>count=%{y}<extra></extra>",
         "legendgroup": "",
         "marker": {
          "color": "#636efa",
          "pattern": {
           "shape": ""
          }
         },
         "name": "",
         "offsetgroup": "",
         "orientation": "v",
         "showlegend": false,
         "textposition": "auto",
         "type": "bar",
         "x": [
          "IRONIA",
          "NEGATIVO",
          "CONTEXTO",
          "POSITIVO",
          "NEGATIVO",
          "NEGATIVO",
          "NEGATIVO",
          "POSITIVO",
          "IRONIA",
          "IRONIA",
          "POSITIVO",
          "IRONIA",
          "IRONIA",
          "NEGATIVO",
          "POSITIVO",
          "NEGATIVO",
          "NEGATIVO",
          "NEGATIVO",
          "NEUTRO",
          "IRONIA",
          "IRONIA",
          "NEGATIVO",
          "NEGATIVO",
          "NEGATIVO",
          "POSITIVO",
          "NEGATIVO",
          "POSITIVO",
          "IRONIA",
          "NEGATIVO",
          "NEGATIVO",
          "NEUTRO",
          "NEGATIVO",
          "NEGATIVO",
          "NEUTRO",
          "POSITIVO",
          "NEGATIVO",
          "NEUTRO",
          "POSITIVO",
          "IRONIA",
          "NEGATIVO",
          "NEGATIVO",
          "NEGATIVO",
          "CONTEXTO",
          "IRONIA",
          "NEGATIVO",
          "NEGATIVO",
          "POSITIVO",
          "CONTEXTO",
          "IRONIA",
          "NEGATIVO",
          "POSITIVO",
          "NEUTRO",
          "POSITIVO",
          "NEUTRO",
          "POSITIVO",
          "NEGATIVO",
          "CONTEXTO",
          "CONTEXTO",
          "CONTEXTO",
          "NEGATIVO",
          "NEGATIVO",
          "NEGATIVO",
          "NEUTRO",
          "CONTEXTO",
          "IRONIA",
          "POSITIVO",
          "POSITIVO",
          "NEGATIVO",
          "IRONIA",
          "NEGATIVO",
          "NEGATIVO",
          "POSITIVO",
          "NEGATIVO",
          "CONTEXTO",
          "POSITIVO",
          "CONTEXTO",
          "NEGATIVO",
          "NEGATIVO",
          "NEGATIVO",
          "NEGATIVO",
          "NEGATIVO",
          "IRONIA",
          "NEUTRO",
          "IRONIA",
          "NEGATIVO",
          "POSITIVO",
          "NEGATIVO",
          "NEGATIVO",
          "CONTEXTO",
          "NEGATIVO",
          "NEGATIVO",
          "NEGATIVO",
          "CONTEXTO",
          "CONTEXTO",
          "CONTEXTO",
          "NEGATIVO",
          "NEUTRO",
          "POSITIVO",
          "NEGATIVO",
          "POSITIVO",
          "IRONIA",
          "NEGATIVO",
          "NEGATIVO",
          "IRONIA",
          "NEGATIVO",
          "CONTEXTO",
          "NEGATIVO",
          "NEUTRO",
          "NEGATIVO",
          "NEGATIVO",
          "NEGATIVO",
          "NEGATIVO",
          "IRONIA",
          "NEGATIVO",
          "CONTEXTO",
          "CONTEXTO",
          "NEGATIVO",
          "NEGATIVO",
          "NEGATIVO",
          "NEGATIVO",
          "NEGATIVO",
          "IRONIA",
          "CONTEXTO",
          "IRONIA",
          "NEGATIVO",
          "NEGATIVO",
          "POSITIVO",
          "NEGATIVO",
          "NEUTRO",
          "CONTEXTO",
          "NEGATIVO",
          "IRONIA",
          "CONTEXTO",
          "NEGATIVO",
          "NEGATIVO",
          "CONTEXTO",
          "NEUTRO",
          "CONTEXTO",
          "POSITIVO",
          "CONTEXTO",
          "IRONIA",
          "IRONIA",
          "CONTEXTO",
          "NEGATIVO",
          "POSITIVO",
          "POSITIVO",
          "NEGATIVO",
          "CONTEXTO",
          "NEGATIVO",
          "NEGATIVO",
          "POSITIVO",
          "POSITIVO",
          "IRONIA",
          "CONTEXTO",
          "CONTEXTO",
          "POSITIVO",
          "NEGATIVO",
          "CONTEXTO",
          "NEGATIVO",
          "CONTEXTO",
          "NEGATIVO",
          "NEGATIVO",
          "POSITIVO",
          "NEGATIVO",
          "NEGATIVO",
          "IRONIA",
          "CONTEXTO",
          "NEGATIVO",
          "CONTEXTO",
          "NEUTRO",
          "NEGATIVO",
          "NEGATIVO",
          "CONTEXTO",
          "IRONIA",
          "NEUTRO",
          "NEGATIVO",
          "CONTEXTO",
          "IRONIA",
          "NEUTRO",
          "NEGATIVO",
          "CONTEXTO",
          "IRONIA",
          "NEGATIVO",
          "IRONIA",
          "CONTEXTO",
          "NEGATIVO",
          "CONTEXTO",
          "CONTEXTO",
          "NEUTRO",
          "POSITIVO",
          "NEUTRO",
          "NEGATIVO",
          "NEGATIVO",
          "CONTEXTO",
          "NEGATIVO",
          "CONTEXTO",
          "NEGATIVO",
          "IRONIA",
          "IRONIA",
          "NEUTRO",
          "NEGATIVO",
          "IRONIA",
          "NEGATIVO",
          "NEUTRO",
          "CONTEXTO",
          "POSITIVO",
          "NEUTRO",
          "POSITIVO",
          "CONTEXTO",
          "NEGATIVO",
          "IRONIA",
          "NEUTRO",
          "CONTEXTO",
          "POSITIVO",
          "NEGATIVO",
          "NEGATIVO",
          "NEGATIVO",
          "IRONIA",
          "CONTEXTO",
          "NEGATIVO",
          "NEGATIVO",
          "POSITIVO",
          "NEGATIVO",
          "POSITIVO",
          "POSITIVO",
          "NEGATIVO",
          "POSITIVO",
          "POSITIVO",
          "CONTEXTO",
          "CONTEXTO",
          "NEGATIVO",
          "CONTEXTO",
          "POSITIVO",
          "NEGATIVO",
          "NEUTRO",
          "NEUTRO",
          "POSITIVO",
          "POSITIVO",
          "CONTEXTO",
          "NEUTRO",
          "NEGATIVO",
          "CONTEXTO",
          "POSITIVO",
          "POSITIVO",
          "NEGATIVO",
          "CONTEXTO",
          "NEGATIVO",
          "NEUTRO",
          "NEUTRO",
          "POSITIVO",
          "POSITIVO",
          "NEGATIVO",
          "POSITIVO",
          "CONTEXTO",
          "NEGATIVO",
          "NEGATIVO",
          "NEUTRO",
          "CONTEXTO",
          "NEGATIVO",
          "POSITIVO",
          "CONTEXTO",
          "NEUTRO",
          "NEGATIVO",
          "NEUTRO",
          "POSITIVO",
          "NEGATIVO",
          "NEGATIVO",
          "NEGATIVO",
          "POSITIVO",
          "POSITIVO",
          "NEUTRO",
          "NEUTRO",
          "NEGATIVO",
          "CONTEXTO",
          "NEGATIVO",
          "POSITIVO",
          "POSITIVO",
          "NEGATIVO",
          "NEGATIVO",
          "CONTEXTO",
          "IRONIA",
          "POSITIVO",
          "NEGATIVO",
          "NEGATIVO",
          "NEGATIVO",
          "NEGATIVO",
          "CONTEXTO",
          "NEUTRO",
          "POSITIVO",
          "CONTEXTO",
          "CONTEXTO",
          "POSITIVO",
          "NEGATIVO",
          "NEGATIVO",
          "NEGATIVO",
          "NEUTRO",
          "CONTEXTO",
          "POSITIVO",
          "CONTEXTO",
          "IRONIA",
          "CONTEXTO",
          "POSITIVO",
          "NEGATIVO",
          "IRONIA",
          "POSITIVO",
          "NEGATIVO",
          "NEGATIVO",
          "NEGATIVO",
          "IRONIA",
          "NEGATIVO",
          "POSITIVO",
          "NEGATIVO",
          "CONTEXTO",
          "NEGATIVO",
          "NEGATIVO",
          "CONTEXTO",
          "NEGATIVO",
          "NEGATIVO",
          "CONTEXTO",
          "POSITIVO",
          "NEGATIVO",
          "CONTEXTO",
          "NEUTRO",
          "CONTEXTO",
          "CONTEXTO",
          "NEGATIVO",
          "NEGATIVO",
          "POSITIVO",
          "POSITIVO",
          "NEGATIVO",
          "NEGATIVO",
          "POSITIVO",
          "POSITIVO",
          "NEUTRO",
          "NEGATIVO",
          "CONTEXTO",
          "CONTEXTO",
          "NEGATIVO",
          "NEGATIVO",
          "NEGATIVO",
          "IRONIA",
          "NEGATIVO",
          "NEGATIVO",
          "NEUTRO",
          "CONTEXTO",
          "CONTEXTO",
          "POSITIVO",
          "NEGATIVO",
          "NEGATIVO",
          "CONTEXTO",
          "POSITIVO",
          "NEUTRO",
          "NEUTRO",
          "NEGATIVO",
          "CONTEXTO",
          "CONTEXTO",
          "POSITIVO",
          "NEGATIVO",
          "NEUTRO",
          "CONFUSO",
          "CONTEXTO",
          "NEGATIVO",
          "CONTEXTO",
          "POSITIVO",
          "CONTEXTO",
          "POSITIVO",
          "NEGATIVO",
          "NEUTRO",
          "POSITIVO",
          "NEGATIVO",
          "NEGATIVO",
          "NEUTRO",
          "CONTEXTO",
          "NEGATIVO",
          "NEUTRO",
          "NEUTRO",
          "CONTEXTO",
          "IRONIA",
          "POSITIVO",
          "NEGATIVO",
          "CONTEXTO",
          "POSITIVO",
          "NEUTRO",
          "NEGATIVO",
          "POSITIVO",
          "IRONIA",
          "CONTEXTO",
          "POSITIVO",
          "POSITIVO",
          "POSITIVO",
          "POSITIVO",
          "NEGATIVO",
          "DIVIDIR",
          "NEGATIVO",
          "POSITIVO",
          "NEUTRO",
          "POSITIVO",
          "CONTEXTO",
          "NEUTRO",
          "CONTEXTO",
          "CONTEXTO",
          "CONTEXTO",
          "NEGATIVO",
          "IRONIA",
          "POSITIVO",
          "CONTEXTO",
          "CONTEXTO",
          "POSITIVO",
          "CONTEXTO",
          "POSITIVO",
          "IRONIA",
          "CONTEXTO",
          "NEGATIVO",
          "POSITIVO",
          "CONTEXTO",
          "POSITIVO",
          "NEGATIVO",
          "NEGATIVO",
          "CONTEXTO",
          "NEUTRO",
          "CONTEXTO",
          "POSITIVO",
          "NEGATIVO",
          "NEGATIVO",
          "NEGATIVO",
          "NEGATIVO",
          "POSITIVO",
          "CONTEXTO",
          "CONTEXTO",
          "NEGATIVO",
          "NEGATIVO",
          "NEGATIVO",
          "POSITIVO",
          "CONTEXTO",
          "NEUTRO",
          "POSITIVO",
          "CONTEXTO",
          "DIVIDIR",
          "NEGATIVO",
          "NEGATIVO",
          "POSITIVO",
          "POSITIVO",
          "IRONIA",
          "NEGATIVO",
          "NEGATIVO",
          "POSITIVO",
          "POSITIVO",
          "CONTEXTO",
          "IRONIA",
          "POSITIVO",
          "NEGATIVO",
          "CONTEXTO",
          "POSITIVO",
          "NEUTRO",
          "CONTEXTO",
          "NEUTRO",
          "POSITIVO",
          "CONTEXTO",
          "NEGATIVO",
          "DIVIDIR",
          "NEUTRO",
          "POSITIVO",
          "DIVIDIR",
          "NEGATIVO",
          "NEUTRO",
          "IRONIA",
          "POSITIVO",
          "NEUTRO",
          "NEGATIVO",
          "NEGATIVO",
          "NEUTRO",
          "NEUTRO",
          "NEGATIVO",
          "CONTEXTO",
          "NEGATIVO",
          "IRONIA",
          "POSITIVO",
          "DIVIDIR",
          "CONTEXTO",
          "NEGATIVO",
          "POSITIVO",
          "POSITIVO",
          "NEGATIVO",
          "NEGATIVO",
          "CONTEXTO",
          "IRONIA",
          "NEGATIVO",
          "NEGATIVO",
          "POSITIVO",
          "DIVIDIR",
          "POSITIVO",
          "NEGATIVO",
          "POSITIVO",
          "NEGATIVO",
          "NEGATIVO",
          "DIVIDIR",
          "POSITIVO",
          "NEGATIVO",
          "NEUTRO",
          "POSITIVO",
          "POSITIVO",
          "CONTEXTO",
          "NEGATIVO",
          "DIVIDIR",
          "POSITIVO",
          "NEGATIVO",
          "NEGATIVO",
          "NEGATIVO",
          "NEGATIVO",
          "IRONIA",
          "IRONIA",
          "CONTEXTO",
          "POSITIVO",
          "NEGATIVO",
          "CONTEXTO",
          "NEGATIVO",
          "NEUTRO",
          "CONTEXTO",
          "NEGATIVO",
          "POSITIVO",
          "DIVIDIR",
          "POSITIVO",
          "NEGATIVO",
          "IRONIA",
          "CONTEXTO",
          "NEUTRO",
          "POSITIVO",
          "POSITIVO",
          "POSITIVO",
          "NEGATIVO",
          "DIVIDIR",
          "DIVIDIR",
          "POSITIVO",
          "CONTEXTO",
          "POSITIVO",
          "DIVIDIR",
          "POSITIVO",
          "POSITIVO",
          "POSITIVO",
          "NEUTRO",
          "DIVIDIR",
          "NEUTRO",
          "IRONIA",
          "CONTEXTO",
          "CONTEXTO",
          "CONTEXTO",
          "NEGATIVO",
          "CONTEXTO",
          "CONFUSO",
          "CONTEXTO",
          "DIVIDIR",
          "CONTEXTO",
          "NEGATIVO",
          "NEGATIVO",
          "IRONIA",
          "IRONIA",
          "POSITIVO",
          "CONTEXTO",
          "NEUTRO",
          "POSITIVO",
          "POSITIVO",
          "NEGATIVO",
          "CONTEXTO",
          "CONTEXTO",
          "POSITIVO",
          "NEGATIVO",
          "NEUTRO",
          "CONTEXTO",
          "POSITIVO",
          "NEGATIVO",
          "NEUTRO",
          "CONTEXTO",
          "POSITIVO",
          "DIVIDIR",
          "POSITIVO",
          "CONTEXTO",
          "NEUTRO",
          "CONTEXTO",
          "CONTEXTO",
          "IRONIA",
          "POSITIVO",
          "CONTEXTO",
          "NEGATIVO",
          "POSITIVO",
          "POSITIVO",
          "POSITIVO",
          "NEGATIVO",
          "NEGATIVO",
          "NEUTRO",
          "NEGATIVO",
          "NEGATIVO",
          "NEGATIVO",
          "IRONIA",
          "NEGATIVO",
          "CONTEXTO",
          "POSITIVO",
          "NEGATIVO",
          "CONTEXTO",
          "POSITIVO",
          "CONTEXTO",
          "NEGATIVO",
          "NEGATIVO",
          "POSITIVO",
          "NEGATIVO",
          "NEGATIVO",
          "CONTEXTO",
          "IRONIA",
          "CONTEXTO",
          "NEGATIVO",
          "POSITIVO",
          "CONTEXTO",
          "DIVIDIR",
          "NEGATIVO",
          "NEUTRO",
          "CONTEXTO",
          "POSITIVO",
          "NEGATIVO",
          "POSITIVO",
          "NEUTRO",
          "NEUTRO",
          "NEGATIVO",
          "NEUTRO",
          "POSITIVO",
          "DIVIDIR",
          "NEGATIVO",
          "NEGATIVO",
          "NEGATIVO",
          "POSITIVO",
          "CONTEXTO",
          "POSITIVO",
          "IRONIA",
          "CONTEXTO",
          "NEGATIVO",
          "NEGATIVO",
          "POSITIVO",
          "NEGATIVO",
          "NEGATIVO",
          "POSITIVO",
          "NEUTRO",
          "NEUTRO",
          "IRONIA",
          "NEGATIVO",
          "NEGATIVO",
          "IRONIA",
          "CONTEXTO",
          "NEGATIVO",
          "CONTEXTO",
          "POSITIVO",
          "NEGATIVO",
          "POSITIVO",
          "IRONIA",
          "POSITIVO",
          "NEGATIVO",
          "NEUTRO",
          "POSITIVO",
          "CONFUSO",
          "CONTEXTO",
          "NEGATIVO",
          "NEGATIVO",
          "IRONIA",
          "NEGATIVO",
          "CONTEXTO",
          "NEGATIVO",
          "POSITIVO",
          "CONTEXTO",
          "POSITIVO",
          "NEGATIVO",
          "NEGATIVO",
          "CONTEXTO",
          "NEGATIVO",
          "NEUTRO",
          "CONTEXTO",
          "NEGATIVO",
          "NEGATIVO",
          "CONTEXTO",
          "POSITIVO",
          "NEGATIVO",
          "IRONIA",
          "CONTEXTO",
          "POSITIVO",
          "CONFUSO",
          "NEGATIVO",
          "NEGATIVO",
          "NEGATIVO",
          "CONTEXTO",
          "IRONIA",
          "NEGATIVO",
          "CONTEXTO",
          "IRONIA",
          "CONTEXTO",
          "NEGATIVO",
          "CONTEXTO",
          "NEGATIVO",
          "POSITIVO",
          "POSITIVO",
          "NEGATIVO",
          "CONTEXTO",
          "CONTEXTO",
          "NEGATIVO",
          "CONTEXTO",
          "IRONIA",
          "POSITIVO",
          "CONTEXTO",
          "IRONIA",
          "POSITIVO",
          "POSITIVO",
          "CONTEXTO",
          "CONTEXTO",
          "POSITIVO",
          "CONTEXTO",
          "NEGATIVO",
          "CONTEXTO",
          "DIVIDIR",
          "IRONIA",
          "CONTEXTO",
          "NEGATIVO",
          "POSITIVO",
          "POSITIVO",
          "IRONIA",
          "CONTEXTO",
          "NEGATIVO",
          "NEGATIVO",
          "CONTEXTO",
          "CONTEXTO",
          "POSITIVO",
          "NEGATIVO",
          "NEUTRO",
          "NEUTRO",
          "NEGATIVO",
          "NEGATIVO",
          "DIVIDIR",
          "NEUTRO",
          "POSITIVO",
          "CONTEXTO",
          "NEGATIVO",
          "NEUTRO",
          "POSITIVO",
          "NEGATIVO",
          "NEGATIVO",
          "CONTEXTO",
          "CONTEXTO",
          "NEGATIVO",
          "CONTEXTO",
          "NEUTRO",
          "CONTEXTO",
          "NEGATIVO",
          "POSITIVO",
          "CONFUSO",
          "NEGATIVO",
          "NEGATIVO",
          "POSITIVO",
          "CONTEXTO",
          "NEGATIVO",
          "POSITIVO",
          "CONTEXTO",
          "POSITIVO",
          "NEGATIVO",
          "CONTEXTO",
          "IRONIA",
          "IRONIA",
          "POSITIVO",
          "DIVIDIR",
          "NEUTRO",
          "POSITIVO",
          "NEGATIVO",
          "NEGATIVO",
          "NEGATIVO",
          "DIVIDIR",
          "NEGATIVO",
          "NEGATIVO",
          "IRONIA",
          "CONTEXTO",
          "NEUTRO",
          "NEGATIVO",
          "NEGATIVO",
          "NEGATIVO",
          "NEGATIVO",
          "NEGATIVO",
          "POSITIVO",
          "NEGATIVO",
          "NEGATIVO",
          "IRONIA",
          "NEGATIVO",
          "NEGATIVO",
          "NEUTRO",
          "NEUTRO",
          "NEGATIVO",
          "NEGATIVO",
          "NEGATIVO",
          "NEUTRO",
          "NEGATIVO",
          "DIVIDIR",
          "CONTEXTO",
          "CONTEXTO",
          "NEUTRO",
          "NEGATIVO",
          "NEGATIVO",
          "POSITIVO",
          "DIVIDIR",
          "NEGATIVO",
          "DIVIDIR",
          "POSITIVO",
          "NEGATIVO",
          "CONFUSO",
          "NEGATIVO",
          "CONTEXTO",
          "NEUTRO",
          "DIVIDIR",
          "NEUTRO",
          "NEUTRO",
          "NEUTRO",
          "NEGATIVO",
          "CONTEXTO",
          "POSITIVO",
          "NEGATIVO",
          "POSITIVO",
          "NEGATIVO",
          "NEGATIVO",
          "POSITIVO",
          "NEGATIVO",
          "CONTEXTO",
          "NEGATIVO",
          "NEUTRO",
          "POSITIVO",
          "NEUTRO",
          "POSITIVO",
          "NEGATIVO",
          "NEGATIVO",
          "NEGATIVO",
          "IRONIA",
          "NEGATIVO",
          "NEUTRO",
          "CONTEXTO",
          "DIVIDIR",
          "NEGATIVO",
          "NEUTRO",
          "IRONIA",
          "NEUTRO",
          "CONTEXTO",
          "POSITIVO",
          "NEGATIVO",
          "IRONIA",
          "NEGATIVO",
          "POSITIVO",
          "POSITIVO",
          "NEGATIVO",
          "NEGATIVO",
          "NEGATIVO",
          "NEUTRO",
          "NEGATIVO",
          "POSITIVO",
          "NEGATIVO",
          "NEGATIVO",
          "POSITIVO",
          "NEGATIVO",
          "POSITIVO",
          "CONTEXTO",
          "NEUTRO",
          "NEUTRO",
          "NEGATIVO",
          "NEGATIVO",
          "NEGATIVO",
          "POSITIVO",
          "NEGATIVO",
          "NEGATIVO",
          "CONTEXTO",
          "NEGATIVO",
          "DIVIDIR",
          "DIVIDIR",
          "NEGATIVO",
          "POSITIVO",
          "NEGATIVO",
          "NEGATIVO",
          "POSITIVO",
          "POSITIVO",
          "IRONIA",
          "NEUTRO",
          "CONTEXTO",
          "NEGATIVO",
          "NEGATIVO",
          "POSITIVO",
          "CONTEXTO",
          "NEUTRO",
          "NEUTRO",
          "IRONIA",
          "CONFUSO",
          "NEGATIVO",
          "POSITIVO",
          "CONTEXTO",
          "NEGATIVO",
          "CONTEXTO",
          "POSITIVO",
          "POSITIVO",
          "NEGATIVO",
          "NEUTRO",
          "NEUTRO",
          "NEGATIVO",
          "CONTEXTO",
          "CONTEXTO",
          "NEGATIVO",
          "IRONIA",
          "NEGATIVO",
          "DIVIDIR",
          "NEGATIVO",
          "POSITIVO",
          "POSITIVO",
          "POSITIVO",
          "NEGATIVO",
          "POSITIVO",
          "POSITIVO",
          "CONTEXTO",
          "POSITIVO",
          "POSITIVO",
          "NEUTRO",
          "NEUTRO",
          "NEGATIVO",
          "CONTEXTO",
          "CONTEXTO",
          "POSITIVO",
          "NEUTRO",
          "CONTEXTO",
          "NEGATIVO",
          "POSITIVO",
          "CONTEXTO",
          "CONTEXTO",
          "CONFUSO",
          "CONTEXTO",
          "NEGATIVO",
          "NEGATIVO",
          "POSITIVO",
          "NEGATIVO",
          "NEUTRO",
          "CONTEXTO",
          "POSITIVO",
          "NEGATIVO",
          "NEUTRO",
          "CONTEXTO",
          "DIVIDIR",
          "POSITIVO",
          "NEGATIVO",
          "POSITIVO",
          "NEUTRO",
          "NEUTRO",
          "NEGATIVO",
          "IRONIA",
          "NEUTRO",
          "CONTEXTO",
          "NEGATIVO",
          "POSITIVO",
          "CONTEXTO",
          "NEGATIVO",
          "NEGATIVO",
          "CONTEXTO",
          "POSITIVO",
          "CONTEXTO",
          "CONTEXTO",
          "POSITIVO",
          "POSITIVO",
          "CONTEXTO",
          "POSITIVO",
          "NEGATIVO",
          "POSITIVO",
          "CONTEXTO",
          "NEGATIVO",
          "NEUTRO",
          "CONTEXTO",
          "NEGATIVO",
          "CONTEXTO",
          "POSITIVO",
          "NEGATIVO",
          "POSITIVO",
          "NEGATIVO",
          "NEUTRO",
          "NEGATIVO",
          "NEUTRO",
          "NEGATIVO",
          "CONTEXTO",
          "NEGATIVO",
          "NEGATIVO",
          "POSITIVO",
          "NEGATIVO",
          "CONFUSO",
          "NEGATIVO",
          "CONTEXTO",
          "NEUTRO",
          "CONTEXTO",
          "POSITIVO",
          "NEGATIVO",
          "NEUTRO",
          "NEGATIVO",
          "NEGATIVO",
          "NEUTRO",
          "NEGATIVO",
          "NEGATIVO",
          "NEGATIVO",
          "CONTEXTO",
          "CONTEXTO",
          "CONTEXTO",
          "NEGATIVO",
          "NEGATIVO",
          "NEGATIVO",
          "CONTEXTO",
          "NEGATIVO",
          "NEGATIVO",
          "NEUTRO",
          "POSITIVO",
          "IRONIA",
          "POSITIVO",
          "NEUTRO",
          "DIVIDIR",
          "IRONIA",
          "NEGATIVO",
          "NEGATIVO",
          "CONTEXTO",
          "NEGATIVO",
          "NEUTRO",
          "NEGATIVO",
          "NEGATIVO",
          "NEUTRO",
          "CONTEXTO",
          "POSITIVO",
          "NEGATIVO",
          "POSITIVO",
          "NEUTRO",
          "NEGATIVO",
          "NEGATIVO",
          "POSITIVO",
          "NEUTRO",
          "POSITIVO",
          "DIVIDIR",
          "IRONIA",
          "POSITIVO",
          "CONTEXTO",
          "POSITIVO",
          "NEGATIVO",
          "POSITIVO",
          "NEGATIVO",
          "CONTEXTO",
          "NEUTRO",
          "DIVIDIR",
          "POSITIVO",
          "CONTEXTO",
          "DIVIDIR",
          "IRONIA",
          "NEGATIVO",
          "NEGATIVO",
          "CONTEXTO",
          "NEGATIVO",
          "NEGATIVO",
          "NEGATIVO",
          "NEGATIVO",
          "CONTEXTO",
          "NEGATIVO",
          "NEGATIVO",
          "POSITIVO",
          "NEGATIVO",
          "NEGATIVO",
          "POSITIVO",
          "IRONIA",
          "CONTEXTO",
          "NEGATIVO",
          "NEGATIVO",
          "NEUTRO",
          "NEGATIVO",
          "NEGATIVO",
          "NEUTRO",
          "NEGATIVO",
          "NEGATIVO",
          "CONTEXTO",
          "NEGATIVO",
          "NEGATIVO",
          "POSITIVO",
          "IRONIA",
          "POSITIVO",
          "NEGATIVO",
          "NEGATIVO",
          "NEGATIVO",
          "NEGATIVO",
          "IRONIA",
          "POSITIVO",
          "POSITIVO",
          "CONTEXTO",
          "POSITIVO",
          "NEGATIVO",
          "CONTEXTO",
          "IRONIA",
          "NEUTRO",
          "POSITIVO",
          "NEUTRO",
          "CONTEXTO",
          "POSITIVO",
          "CONTEXTO",
          "CONTEXTO",
          "CONTEXTO",
          "NEGATIVO",
          "DIVIDIR",
          "POSITIVO",
          "NEGATIVO",
          "NEGATIVO",
          "POSITIVO",
          "POSITIVO",
          "POSITIVO",
          "IRONIA",
          "CONTEXTO",
          "NEGATIVO",
          "NEGATIVO",
          "NEGATIVO",
          "POSITIVO",
          "IRONIA",
          "CONTEXTO",
          "POSITIVO",
          "IRONIA",
          "NEGATIVO",
          "NEGATIVO",
          "NEGATIVO",
          "CONTEXTO",
          "NEUTRO",
          "NEUTRO",
          "POSITIVO",
          "POSITIVO",
          "CONTEXTO",
          "CONTEXTO",
          "NEGATIVO",
          "NEGATIVO",
          "POSITIVO",
          "POSITIVO",
          "POSITIVO",
          "NEGATIVO",
          "NEGATIVO",
          "CONTEXTO",
          "IRONIA",
          "CONTEXTO",
          "NEUTRO",
          "POSITIVO",
          "NEGATIVO",
          "NEGATIVO",
          "NEGATIVO",
          "CONTEXTO",
          "NEGATIVO",
          "NEUTRO",
          "NEGATIVO",
          "NEGATIVO",
          "NEGATIVO",
          "CONTEXTO",
          "NEGATIVO",
          "NEGATIVO",
          "NEUTRO",
          "CONTEXTO",
          "NEGATIVO",
          "POSITIVO",
          "DIVIDIR",
          "IRONIA",
          "POSITIVO",
          "POSITIVO",
          "CONTEXTO",
          "NEGATIVO",
          "NEGATIVO",
          "IRONIA",
          "NEUTRO",
          "IRONIA",
          "IRONIA",
          "NEUTRO",
          "NEGATIVO",
          "DIVIDIR",
          "CONTEXTO",
          "POSITIVO",
          "NEUTRO",
          "NEGATIVO",
          "NEUTRO",
          "NEGATIVO",
          "NEGATIVO",
          "CONTEXTO",
          "CONTEXTO",
          "NEGATIVO",
          "NEUTRO",
          "POSITIVO",
          "CONFUSO",
          "POSITIVO",
          "NEGATIVO",
          "NEUTRO",
          "POSITIVO",
          "POSITIVO",
          "NEGATIVO",
          "POSITIVO",
          "CONTEXTO",
          "NEUTRO",
          "POSITIVO",
          "DIVIDIR",
          "IRONIA",
          "CONTEXTO",
          "POSITIVO",
          "NEGATIVO",
          "CONTEXTO",
          "POSITIVO",
          "POSITIVO",
          "NEGATIVO",
          "POSITIVO",
          "DIVIDIR",
          "NEUTRO",
          "POSITIVO",
          "CONTEXTO",
          "POSITIVO",
          "POSITIVO",
          "DIVIDIR",
          "NEGATIVO",
          "POSITIVO",
          "CONTEXTO",
          "NEGATIVO",
          "POSITIVO",
          "NEUTRO",
          "CONTEXTO",
          "POSITIVO",
          "CONTEXTO",
          "CONTEXTO",
          "NEGATIVO",
          "POSITIVO",
          "CONTEXTO",
          "NEUTRO",
          "POSITIVO",
          "POSITIVO",
          "POSITIVO",
          "POSITIVO",
          "NEUTRO",
          "CONTEXTO",
          "NEUTRO",
          "POSITIVO",
          "POSITIVO",
          "POSITIVO",
          "NEGATIVO",
          "CONTEXTO",
          "CONTEXTO",
          "NEGATIVO",
          "CONTEXTO",
          "CONTEXTO",
          "CONTEXTO",
          "NEUTRO",
          "POSITIVO",
          "POSITIVO",
          "NEUTRO",
          "CONTEXTO",
          "NEGATIVO",
          "NEGATIVO",
          "NEUTRO",
          "NEUTRO",
          "DIVIDIR",
          "NEGATIVO",
          "CONTEXTO",
          "CONTEXTO",
          "NEGATIVO",
          "CONTEXTO",
          "NEGATIVO",
          "CONTEXTO",
          "DIVIDIR",
          "CONTEXTO",
          "NEGATIVO",
          "POSITIVO",
          "POSITIVO",
          "NEGATIVO",
          "NEUTRO",
          "POSITIVO",
          "CONTEXTO",
          "NEGATIVO",
          "POSITIVO",
          "NEGATIVO",
          "CONTEXTO",
          "NEGATIVO",
          "NEUTRO",
          "NEGATIVO",
          "DIVIDIR",
          "DIVIDIR",
          "NEUTRO",
          "NEGATIVO",
          "POSITIVO",
          "POSITIVO",
          "POSITIVO",
          "POSITIVO",
          "POSITIVO",
          "CONTEXTO",
          "CONTEXTO",
          "NEGATIVO",
          "CONTEXTO",
          "CONTEXTO",
          "POSITIVO",
          "NEUTRO",
          "DIVIDIR",
          "NEGATIVO",
          "NEGATIVO",
          "NEGATIVO",
          "NEGATIVO",
          "DIVIDIR",
          "NEGATIVO",
          "POSITIVO",
          "POSITIVO",
          "NEUTRO",
          "POSITIVO",
          "POSITIVO",
          "CONTEXTO",
          "NEGATIVO",
          "CONTEXTO",
          "NEGATIVO",
          "NEGATIVO",
          "IRONIA",
          "CONTEXTO",
          "POSITIVO",
          "CONTEXTO",
          "CONTEXTO",
          "NEGATIVO",
          "POSITIVO",
          "POSITIVO",
          "NEGATIVO",
          "NEGATIVO",
          "DIVIDIR",
          "NEUTRO",
          "NEGATIVO",
          "POSITIVO",
          "POSITIVO",
          "CONTEXTO",
          "CONTEXTO",
          "NEGATIVO",
          "POSITIVO",
          "NEGATIVO",
          "POSITIVO",
          "POSITIVO",
          "POSITIVO",
          "POSITIVO",
          "CONTEXTO",
          "NEGATIVO",
          "CONTEXTO",
          "NEGATIVO",
          "NEGATIVO",
          "DIVIDIR",
          "CONTEXTO",
          "IRONIA",
          "NEUTRO",
          "NEUTRO",
          "NEGATIVO",
          "NEGATIVO",
          "IRONIA",
          "CONTEXTO",
          "IRONIA",
          "IRONIA",
          "NEUTRO",
          "CONTEXTO",
          "POSITIVO",
          "POSITIVO",
          "POSITIVO",
          "NEGATIVO",
          "NEGATIVO",
          "POSITIVO",
          "NEGATIVO",
          "NEGATIVO",
          "NEUTRO",
          "CONTEXTO",
          "POSITIVO",
          "POSITIVO",
          "CONTEXTO",
          "NEGATIVO",
          "NEGATIVO",
          "POSITIVO",
          "POSITIVO",
          "POSITIVO",
          "CONTEXTO",
          "NEGATIVO",
          "NEGATIVO",
          "POSITIVO",
          "POSITIVO",
          "CONTEXTO",
          "CONTEXTO",
          "NEGATIVO",
          "POSITIVO",
          "POSITIVO",
          "NEUTRO",
          "NEUTRO",
          "POSITIVO",
          "POSITIVO",
          "POSITIVO",
          "CONTEXTO",
          "CONTEXTO",
          "NEUTRO",
          "NEGATIVO",
          "IRONIA",
          "CONTEXTO",
          "POSITIVO",
          "NEGATIVO",
          "NEUTRO",
          "NEGATIVO",
          "POSITIVO",
          "NEGATIVO",
          "NEUTRO",
          "IRONIA",
          "NEGATIVO",
          "NEGATIVO",
          "CONTEXTO",
          "NEGATIVO",
          "DIVIDIR",
          "POSITIVO",
          "CONTEXTO",
          "DIVIDIR",
          "NEGATIVO",
          "POSITIVO",
          "NEGATIVO",
          "NEGATIVO",
          "CONTEXTO",
          "NEGATIVO",
          "NEGATIVO",
          "POSITIVO",
          "CONTEXTO",
          "NEGATIVO",
          "POSITIVO",
          "CONTEXTO",
          "POSITIVO",
          "IRONIA",
          "NEGATIVO",
          "POSITIVO",
          "NEGATIVO",
          "NEUTRO",
          "POSITIVO",
          "NEGATIVO",
          "POSITIVO",
          "CONTEXTO",
          "POSITIVO",
          "POSITIVO",
          "CONTEXTO",
          "NEUTRO",
          "NEUTRO",
          "POSITIVO",
          "POSITIVO",
          "POSITIVO",
          "NEGATIVO",
          "NEGATIVO",
          "NEUTRO",
          "POSITIVO",
          "CONTEXTO",
          "CONTEXTO",
          "POSITIVO",
          "DIVIDIR",
          "POSITIVO",
          "POSITIVO",
          "POSITIVO",
          "NEUTRO",
          "NEGATIVO",
          "NEUTRO",
          "POSITIVO",
          "POSITIVO",
          "CONTEXTO",
          "NEUTRO",
          "CONTEXTO",
          "NEUTRO",
          "POSITIVO",
          "POSITIVO",
          "IRONIA",
          "NEUTRO",
          "NEUTRO",
          "POSITIVO",
          "NEGATIVO",
          "CONTEXTO",
          "NEUTRO",
          "NEGATIVO",
          "POSITIVO",
          "NEGATIVO",
          "NEGATIVO",
          "POSITIVO",
          "NEGATIVO",
          "POSITIVO",
          "NEUTRO",
          "CONTEXTO",
          "CONTEXTO",
          "POSITIVO",
          "NEUTRO",
          "NEGATIVO",
          "POSITIVO",
          "POSITIVO",
          "IRONIA",
          "POSITIVO",
          "NEUTRO",
          "NEGATIVO",
          "NEGATIVO",
          "NEGATIVO",
          "POSITIVO",
          "POSITIVO",
          "POSITIVO",
          "POSITIVO",
          "POSITIVO",
          "DIVIDIR",
          "IRONIA",
          "POSITIVO",
          "POSITIVO",
          "NEGATIVO",
          "POSITIVO",
          "CONTEXTO",
          "NEUTRO",
          "CONTEXTO",
          "NEGATIVO",
          "POSITIVO",
          "POSITIVO",
          "NEUTRO",
          "POSITIVO",
          "NEUTRO",
          "POSITIVO",
          "CONTEXTO",
          "POSITIVO",
          "POSITIVO",
          "POSITIVO",
          "CONTEXTO",
          "CONTEXTO",
          "NEGATIVO",
          "NEUTRO",
          "POSITIVO",
          "CONTEXTO",
          "NEUTRO",
          "POSITIVO",
          "CONTEXTO",
          "POSITIVO",
          "POSITIVO",
          "DIVIDIR",
          "POSITIVO",
          "POSITIVO",
          "CONTEXTO",
          "NEGATIVO",
          "NEUTRO",
          "DIVIDIR",
          "NEGATIVO",
          "CONTEXTO",
          "POSITIVO",
          "POSITIVO",
          "CONTEXTO",
          "CONTEXTO",
          "POSITIVO",
          "POSITIVO",
          "POSITIVO",
          "POSITIVO",
          "CONTEXTO",
          "NEUTRO",
          "POSITIVO",
          "POSITIVO",
          "NEUTRO",
          "POSITIVO",
          "POSITIVO",
          "NEUTRO",
          "NEUTRO",
          "POSITIVO",
          "POSITIVO",
          "POSITIVO",
          "NEUTRO",
          "CONTEXTO",
          "NEUTRO",
          "POSITIVO",
          "CONTEXTO",
          "POSITIVO",
          "CONTEXTO",
          "POSITIVO"
         ],
         "xaxis": "x",
         "y": [
          1,
          1,
          1,
          1,
          1,
          1,
          1,
          1,
          1,
          1,
          1,
          1,
          1,
          1,
          1,
          1,
          1,
          1,
          1,
          1,
          1,
          1,
          1,
          1,
          1,
          1,
          1,
          1,
          1,
          1,
          1,
          1,
          1,
          1,
          1,
          1,
          1,
          1,
          1,
          1,
          1,
          1,
          1,
          1,
          1,
          1,
          1,
          1,
          1,
          1,
          1,
          1,
          1,
          1,
          1,
          1,
          1,
          1,
          1,
          1,
          1,
          1,
          1,
          1,
          1,
          1,
          1,
          1,
          1,
          1,
          1,
          1,
          1,
          1,
          1,
          1,
          1,
          1,
          1,
          1,
          1,
          1,
          1,
          1,
          1,
          1,
          1,
          1,
          1,
          1,
          1,
          1,
          1,
          1,
          1,
          1,
          1,
          1,
          1,
          1,
          1,
          1,
          1,
          1,
          1,
          1,
          1,
          1,
          1,
          1,
          1,
          1,
          1,
          1,
          1,
          1,
          1,
          1,
          1,
          1,
          1,
          1,
          1,
          1,
          1,
          1,
          1,
          1,
          1,
          1,
          1,
          1,
          1,
          1,
          1,
          1,
          1,
          1,
          1,
          1,
          1,
          1,
          1,
          1,
          1,
          1,
          1,
          1,
          1,
          1,
          1,
          1,
          1,
          1,
          1,
          1,
          1,
          1,
          1,
          1,
          1,
          1,
          1,
          1,
          1,
          1,
          1,
          1,
          1,
          1,
          1,
          1,
          1,
          1,
          1,
          1,
          1,
          1,
          1,
          1,
          1,
          1,
          1,
          1,
          1,
          1,
          1,
          1,
          1,
          1,
          1,
          1,
          1,
          1,
          1,
          1,
          1,
          1,
          1,
          1,
          1,
          1,
          1,
          1,
          1,
          1,
          1,
          1,
          1,
          1,
          1,
          1,
          1,
          1,
          1,
          1,
          1,
          1,
          1,
          1,
          1,
          1,
          1,
          1,
          1,
          1,
          1,
          1,
          1,
          1,
          1,
          1,
          1,
          1,
          1,
          1,
          1,
          1,
          1,
          1,
          1,
          1,
          1,
          1,
          1,
          1,
          1,
          1,
          1,
          1,
          1,
          1,
          1,
          1,
          1,
          1,
          1,
          1,
          1,
          1,
          1,
          1,
          1,
          1,
          1,
          1,
          1,
          1,
          1,
          1,
          1,
          1,
          1,
          1,
          1,
          1,
          1,
          1,
          1,
          1,
          1,
          1,
          1,
          1,
          1,
          1,
          1,
          1,
          1,
          1,
          1,
          1,
          1,
          1,
          1,
          1,
          1,
          1,
          1,
          1,
          1,
          1,
          1,
          1,
          1,
          1,
          1,
          1,
          1,
          1,
          1,
          1,
          1,
          1,
          1,
          1,
          1,
          1,
          1,
          1,
          1,
          1,
          1,
          1,
          1,
          1,
          1,
          1,
          1,
          1,
          1,
          1,
          1,
          1,
          1,
          1,
          1,
          1,
          1,
          1,
          1,
          1,
          1,
          1,
          1,
          1,
          1,
          1,
          1,
          1,
          1,
          1,
          1,
          1,
          1,
          1,
          1,
          1,
          1,
          1,
          1,
          1,
          1,
          1,
          1,
          1,
          1,
          1,
          1,
          1,
          1,
          1,
          1,
          1,
          1,
          1,
          1,
          1,
          1,
          1,
          1,
          1,
          1,
          1,
          1,
          1,
          1,
          1,
          1,
          1,
          1,
          1,
          1,
          1,
          1,
          1,
          1,
          1,
          1,
          1,
          1,
          1,
          1,
          1,
          1,
          1,
          1,
          1,
          1,
          1,
          1,
          1,
          1,
          1,
          1,
          1,
          1,
          1,
          1,
          1,
          1,
          1,
          1,
          1,
          1,
          1,
          1,
          1,
          1,
          1,
          1,
          1,
          1,
          1,
          1,
          1,
          1,
          1,
          1,
          1,
          1,
          1,
          1,
          1,
          1,
          1,
          1,
          1,
          1,
          1,
          1,
          1,
          1,
          1,
          1,
          1,
          1,
          1,
          1,
          1,
          1,
          1,
          1,
          1,
          1,
          1,
          1,
          1,
          1,
          1,
          1,
          1,
          1,
          1,
          1,
          1,
          1,
          1,
          1,
          1,
          1,
          1,
          1,
          1,
          1,
          1,
          1,
          1,
          1,
          1,
          1,
          1,
          1,
          1,
          1,
          1,
          1,
          1,
          1,
          1,
          1,
          1,
          1,
          1,
          1,
          1,
          1,
          1,
          1,
          1,
          1,
          1,
          1,
          1,
          1,
          1,
          1,
          1,
          1,
          1,
          1,
          1,
          1,
          1,
          1,
          1,
          1,
          1,
          1,
          1,
          1,
          1,
          1,
          1,
          1,
          1,
          1,
          1,
          1,
          1,
          1,
          1,
          1,
          1,
          1,
          1,
          1,
          1,
          1,
          1,
          1,
          1,
          1,
          1,
          1,
          1,
          1,
          1,
          1,
          1,
          1,
          1,
          1,
          1,
          1,
          1,
          1,
          1,
          1,
          1,
          1,
          1,
          1,
          1,
          1,
          1,
          1,
          1,
          1,
          1,
          1,
          1,
          1,
          1,
          1,
          1,
          1,
          1,
          1,
          1,
          1,
          1,
          1,
          1,
          1,
          1,
          1,
          1,
          1,
          1,
          1,
          1,
          1,
          1,
          1,
          1,
          1,
          1,
          1,
          1,
          1,
          1,
          1,
          1,
          1,
          1,
          1,
          1,
          1,
          1,
          1,
          1,
          1,
          1,
          1,
          1,
          1,
          1,
          1,
          1,
          1,
          1,
          1,
          1,
          1,
          1,
          1,
          1,
          1,
          1,
          1,
          1,
          1,
          1,
          1,
          1,
          1,
          1,
          1,
          1,
          1,
          1,
          1,
          1,
          1,
          1,
          1,
          1,
          1,
          1,
          1,
          1,
          1,
          1,
          1,
          1,
          1,
          1,
          1,
          1,
          1,
          1,
          1,
          1,
          1,
          1,
          1,
          1,
          1,
          1,
          1,
          1,
          1,
          1,
          1,
          1,
          1,
          1,
          1,
          1,
          1,
          1,
          1,
          1,
          1,
          1,
          1,
          1,
          1,
          1,
          1,
          1,
          1,
          1,
          1,
          1,
          1,
          1,
          1,
          1,
          1,
          1,
          1,
          1,
          1,
          1,
          1,
          1,
          1,
          1,
          1,
          1,
          1,
          1,
          1,
          1,
          1,
          1,
          1,
          1,
          1,
          1,
          1,
          1,
          1,
          1,
          1,
          1,
          1,
          1,
          1,
          1,
          1,
          1,
          1,
          1,
          1,
          1,
          1,
          1,
          1,
          1,
          1,
          1,
          1,
          1,
          1,
          1,
          1,
          1,
          1,
          1,
          1,
          1,
          1,
          1,
          1,
          1,
          1,
          1,
          1,
          1,
          1,
          1,
          1,
          1,
          1,
          1,
          1,
          1,
          1,
          1,
          1,
          1,
          1,
          1,
          1,
          1,
          1,
          1,
          1,
          1,
          1,
          1,
          1,
          1,
          1,
          1,
          1,
          1,
          1,
          1,
          1,
          1,
          1,
          1,
          1,
          1,
          1,
          1,
          1,
          1,
          1,
          1,
          1,
          1,
          1,
          1,
          1,
          1,
          1,
          1,
          1,
          1,
          1,
          1,
          1,
          1,
          1,
          1,
          1,
          1,
          1,
          1,
          1,
          1,
          1,
          1,
          1,
          1,
          1,
          1,
          1,
          1,
          1,
          1,
          1,
          1,
          1,
          1,
          1,
          1,
          1,
          1,
          1,
          1,
          1,
          1,
          1,
          1,
          1,
          1,
          1,
          1,
          1,
          1,
          1,
          1,
          1,
          1,
          1,
          1,
          1,
          1,
          1,
          1,
          1,
          1,
          1,
          1,
          1,
          1,
          1,
          1,
          1,
          1,
          1,
          1,
          1,
          1,
          1,
          1,
          1,
          1,
          1,
          1,
          1,
          1,
          1,
          1,
          1,
          1,
          1,
          1,
          1,
          1,
          1,
          1,
          1,
          1,
          1,
          1,
          1,
          1,
          1,
          1,
          1,
          1,
          1,
          1,
          1,
          1,
          1,
          1,
          1,
          1,
          1,
          1,
          1,
          1,
          1,
          1,
          1,
          1,
          1,
          1,
          1,
          1,
          1,
          1,
          1,
          1,
          1,
          1,
          1,
          1,
          1,
          1,
          1,
          1,
          1,
          1,
          1,
          1,
          1,
          1,
          1,
          1,
          1,
          1,
          1,
          1,
          1,
          1,
          1,
          1,
          1,
          1,
          1,
          1,
          1,
          1,
          1,
          1,
          1,
          1,
          1,
          1,
          1,
          1,
          1,
          1,
          1,
          1,
          1,
          1,
          1,
          1,
          1,
          1,
          1,
          1,
          1,
          1,
          1,
          1,
          1,
          1,
          1,
          1,
          1,
          1,
          1,
          1,
          1,
          1,
          1,
          1,
          1,
          1,
          1,
          1,
          1,
          1,
          1,
          1,
          1,
          1,
          1,
          1,
          1,
          1,
          1,
          1,
          1,
          1,
          1,
          1,
          1,
          1,
          1,
          1,
          1,
          1,
          1,
          1,
          1,
          1,
          1,
          1,
          1,
          1,
          1,
          1,
          1,
          1,
          1,
          1,
          1,
          1,
          1,
          1,
          1,
          1,
          1,
          1,
          1,
          1,
          1,
          1,
          1,
          1,
          1,
          1,
          1,
          1,
          1,
          1,
          1,
          1,
          1,
          1,
          1,
          1,
          1,
          1,
          1,
          1,
          1,
          1,
          1,
          1,
          1,
          1,
          1,
          1,
          1,
          1,
          1,
          1,
          1,
          1,
          1,
          1,
          1,
          1,
          1,
          1,
          1,
          1,
          1,
          1,
          1,
          1,
          1,
          1,
          1,
          1,
          1,
          1,
          1,
          1,
          1,
          1,
          1,
          1,
          1,
          1,
          1,
          1,
          1,
          1,
          1,
          1,
          1,
          1,
          1,
          1,
          1,
          1,
          1,
          1,
          1,
          1,
          1,
          1,
          1,
          1,
          1,
          1,
          1,
          1,
          1,
          1,
          1,
          1,
          1,
          1,
          1,
          1,
          1,
          1,
          1,
          1,
          1,
          1,
          1,
          1,
          1,
          1,
          1,
          1,
          1,
          1,
          1,
          1,
          1,
          1,
          1,
          1,
          1,
          1,
          1,
          1,
          1,
          1,
          1,
          1,
          1,
          1,
          1,
          1,
          1,
          1,
          1,
          1,
          1,
          1,
          1,
          1,
          1,
          1,
          1,
          1,
          1,
          1,
          1,
          1,
          1,
          1,
          1,
          1,
          1,
          1,
          1,
          1,
          1,
          1,
          1,
          1,
          1,
          1,
          1,
          1,
          1,
          1,
          1,
          1,
          1,
          1,
          1,
          1,
          1,
          1,
          1,
          1,
          1,
          1,
          1,
          1,
          1,
          1,
          1,
          1,
          1,
          1,
          1,
          1,
          1,
          1,
          1,
          1,
          1,
          1,
          1,
          1,
          1,
          1,
          1,
          1,
          1,
          1,
          1,
          1,
          1,
          1,
          1,
          1,
          1,
          1,
          1,
          1,
          1,
          1,
          1,
          1,
          1,
          1,
          1,
          1,
          1,
          1,
          1,
          1,
          1,
          1,
          1,
          1,
          1,
          1,
          1,
          1,
          1,
          1,
          1,
          1,
          1,
          1,
          1,
          1,
          1,
          1,
          1,
          1,
          1,
          1,
          1,
          1,
          1,
          1,
          1,
          1,
          1,
          1,
          1,
          1,
          1,
          1,
          1,
          1,
          1,
          1,
          1,
          1,
          1,
          1,
          1,
          1,
          1,
          1,
          1,
          1,
          1,
          1,
          1,
          1,
          1,
          1,
          1,
          1,
          1,
          1,
          1,
          1,
          1,
          1,
          1,
          1,
          1,
          1,
          1,
          1,
          1,
          1,
          1,
          1,
          1,
          1,
          1,
          1,
          1,
          1,
          1,
          1,
          1,
          1,
          1,
          1,
          1,
          1,
          1,
          1,
          1,
          1,
          1,
          1,
          1,
          1,
          1,
          1,
          1,
          1,
          1,
          1,
          1,
          1,
          1,
          1,
          1,
          1,
          1,
          1,
          1,
          1,
          1,
          1,
          1,
          1,
          1,
          1,
          1,
          1,
          1,
          1,
          1,
          1,
          1,
          1,
          1,
          1,
          1,
          1,
          1,
          1,
          1,
          1,
          1,
          1,
          1,
          1,
          1,
          1,
          1,
          1,
          1,
          1,
          1,
          1,
          1,
          1,
          1,
          1,
          1,
          1,
          1,
          1,
          1,
          1,
          1,
          1,
          1,
          1,
          1,
          1,
          1,
          1,
          1,
          1,
          1,
          1,
          1,
          1,
          1,
          1,
          1,
          1,
          1,
          1,
          1,
          1,
          1,
          1,
          1,
          1,
          1,
          1,
          1,
          1,
          1,
          1,
          1,
          1,
          1,
          1,
          1,
          1,
          1,
          1,
          1,
          1,
          1,
          1,
          1,
          1,
          1,
          1,
          1,
          1,
          1,
          1,
          1,
          1,
          1,
          1,
          1,
          1,
          1,
          1,
          1,
          1,
          1,
          1,
          1,
          1,
          1,
          1,
          1,
          1,
          1,
          1,
          1,
          1,
          1,
          1,
          1,
          1,
          1,
          1,
          1,
          1,
          1,
          1,
          1,
          1,
          1,
          1,
          1,
          1,
          1,
          1,
          1,
          1,
          1,
          1,
          1,
          1,
          1,
          1,
          1,
          1,
          1,
          1,
          1,
          1,
          1,
          1,
          1,
          1,
          1,
          1,
          1,
          1,
          1,
          1,
          1,
          1,
          1,
          1,
          1,
          1,
          1
         ],
         "yaxis": "y"
        }
       ],
       "layout": {
        "barmode": "relative",
        "legend": {
         "tracegroupgap": 0
        },
        "margin": {
         "t": 60
        },
        "template": {
         "data": {
          "bar": [
           {
            "error_x": {
             "color": "#2a3f5f"
            },
            "error_y": {
             "color": "#2a3f5f"
            },
            "marker": {
             "line": {
              "color": "#E5ECF6",
              "width": 0.5
             },
             "pattern": {
              "fillmode": "overlay",
              "size": 10,
              "solidity": 0.2
             }
            },
            "type": "bar"
           }
          ],
          "barpolar": [
           {
            "marker": {
             "line": {
              "color": "#E5ECF6",
              "width": 0.5
             },
             "pattern": {
              "fillmode": "overlay",
              "size": 10,
              "solidity": 0.2
             }
            },
            "type": "barpolar"
           }
          ],
          "carpet": [
           {
            "aaxis": {
             "endlinecolor": "#2a3f5f",
             "gridcolor": "white",
             "linecolor": "white",
             "minorgridcolor": "white",
             "startlinecolor": "#2a3f5f"
            },
            "baxis": {
             "endlinecolor": "#2a3f5f",
             "gridcolor": "white",
             "linecolor": "white",
             "minorgridcolor": "white",
             "startlinecolor": "#2a3f5f"
            },
            "type": "carpet"
           }
          ],
          "choropleth": [
           {
            "colorbar": {
             "outlinewidth": 0,
             "ticks": ""
            },
            "type": "choropleth"
           }
          ],
          "contour": [
           {
            "colorbar": {
             "outlinewidth": 0,
             "ticks": ""
            },
            "colorscale": [
             [
              0,
              "#0d0887"
             ],
             [
              0.1111111111111111,
              "#46039f"
             ],
             [
              0.2222222222222222,
              "#7201a8"
             ],
             [
              0.3333333333333333,
              "#9c179e"
             ],
             [
              0.4444444444444444,
              "#bd3786"
             ],
             [
              0.5555555555555556,
              "#d8576b"
             ],
             [
              0.6666666666666666,
              "#ed7953"
             ],
             [
              0.7777777777777778,
              "#fb9f3a"
             ],
             [
              0.8888888888888888,
              "#fdca26"
             ],
             [
              1,
              "#f0f921"
             ]
            ],
            "type": "contour"
           }
          ],
          "contourcarpet": [
           {
            "colorbar": {
             "outlinewidth": 0,
             "ticks": ""
            },
            "type": "contourcarpet"
           }
          ],
          "heatmap": [
           {
            "colorbar": {
             "outlinewidth": 0,
             "ticks": ""
            },
            "colorscale": [
             [
              0,
              "#0d0887"
             ],
             [
              0.1111111111111111,
              "#46039f"
             ],
             [
              0.2222222222222222,
              "#7201a8"
             ],
             [
              0.3333333333333333,
              "#9c179e"
             ],
             [
              0.4444444444444444,
              "#bd3786"
             ],
             [
              0.5555555555555556,
              "#d8576b"
             ],
             [
              0.6666666666666666,
              "#ed7953"
             ],
             [
              0.7777777777777778,
              "#fb9f3a"
             ],
             [
              0.8888888888888888,
              "#fdca26"
             ],
             [
              1,
              "#f0f921"
             ]
            ],
            "type": "heatmap"
           }
          ],
          "heatmapgl": [
           {
            "colorbar": {
             "outlinewidth": 0,
             "ticks": ""
            },
            "colorscale": [
             [
              0,
              "#0d0887"
             ],
             [
              0.1111111111111111,
              "#46039f"
             ],
             [
              0.2222222222222222,
              "#7201a8"
             ],
             [
              0.3333333333333333,
              "#9c179e"
             ],
             [
              0.4444444444444444,
              "#bd3786"
             ],
             [
              0.5555555555555556,
              "#d8576b"
             ],
             [
              0.6666666666666666,
              "#ed7953"
             ],
             [
              0.7777777777777778,
              "#fb9f3a"
             ],
             [
              0.8888888888888888,
              "#fdca26"
             ],
             [
              1,
              "#f0f921"
             ]
            ],
            "type": "heatmapgl"
           }
          ],
          "histogram": [
           {
            "marker": {
             "pattern": {
              "fillmode": "overlay",
              "size": 10,
              "solidity": 0.2
             }
            },
            "type": "histogram"
           }
          ],
          "histogram2d": [
           {
            "colorbar": {
             "outlinewidth": 0,
             "ticks": ""
            },
            "colorscale": [
             [
              0,
              "#0d0887"
             ],
             [
              0.1111111111111111,
              "#46039f"
             ],
             [
              0.2222222222222222,
              "#7201a8"
             ],
             [
              0.3333333333333333,
              "#9c179e"
             ],
             [
              0.4444444444444444,
              "#bd3786"
             ],
             [
              0.5555555555555556,
              "#d8576b"
             ],
             [
              0.6666666666666666,
              "#ed7953"
             ],
             [
              0.7777777777777778,
              "#fb9f3a"
             ],
             [
              0.8888888888888888,
              "#fdca26"
             ],
             [
              1,
              "#f0f921"
             ]
            ],
            "type": "histogram2d"
           }
          ],
          "histogram2dcontour": [
           {
            "colorbar": {
             "outlinewidth": 0,
             "ticks": ""
            },
            "colorscale": [
             [
              0,
              "#0d0887"
             ],
             [
              0.1111111111111111,
              "#46039f"
             ],
             [
              0.2222222222222222,
              "#7201a8"
             ],
             [
              0.3333333333333333,
              "#9c179e"
             ],
             [
              0.4444444444444444,
              "#bd3786"
             ],
             [
              0.5555555555555556,
              "#d8576b"
             ],
             [
              0.6666666666666666,
              "#ed7953"
             ],
             [
              0.7777777777777778,
              "#fb9f3a"
             ],
             [
              0.8888888888888888,
              "#fdca26"
             ],
             [
              1,
              "#f0f921"
             ]
            ],
            "type": "histogram2dcontour"
           }
          ],
          "mesh3d": [
           {
            "colorbar": {
             "outlinewidth": 0,
             "ticks": ""
            },
            "type": "mesh3d"
           }
          ],
          "parcoords": [
           {
            "line": {
             "colorbar": {
              "outlinewidth": 0,
              "ticks": ""
             }
            },
            "type": "parcoords"
           }
          ],
          "pie": [
           {
            "automargin": true,
            "type": "pie"
           }
          ],
          "scatter": [
           {
            "fillpattern": {
             "fillmode": "overlay",
             "size": 10,
             "solidity": 0.2
            },
            "type": "scatter"
           }
          ],
          "scatter3d": [
           {
            "line": {
             "colorbar": {
              "outlinewidth": 0,
              "ticks": ""
             }
            },
            "marker": {
             "colorbar": {
              "outlinewidth": 0,
              "ticks": ""
             }
            },
            "type": "scatter3d"
           }
          ],
          "scattercarpet": [
           {
            "marker": {
             "colorbar": {
              "outlinewidth": 0,
              "ticks": ""
             }
            },
            "type": "scattercarpet"
           }
          ],
          "scattergeo": [
           {
            "marker": {
             "colorbar": {
              "outlinewidth": 0,
              "ticks": ""
             }
            },
            "type": "scattergeo"
           }
          ],
          "scattergl": [
           {
            "marker": {
             "colorbar": {
              "outlinewidth": 0,
              "ticks": ""
             }
            },
            "type": "scattergl"
           }
          ],
          "scattermapbox": [
           {
            "marker": {
             "colorbar": {
              "outlinewidth": 0,
              "ticks": ""
             }
            },
            "type": "scattermapbox"
           }
          ],
          "scatterpolar": [
           {
            "marker": {
             "colorbar": {
              "outlinewidth": 0,
              "ticks": ""
             }
            },
            "type": "scatterpolar"
           }
          ],
          "scatterpolargl": [
           {
            "marker": {
             "colorbar": {
              "outlinewidth": 0,
              "ticks": ""
             }
            },
            "type": "scatterpolargl"
           }
          ],
          "scatterternary": [
           {
            "marker": {
             "colorbar": {
              "outlinewidth": 0,
              "ticks": ""
             }
            },
            "type": "scatterternary"
           }
          ],
          "surface": [
           {
            "colorbar": {
             "outlinewidth": 0,
             "ticks": ""
            },
            "colorscale": [
             [
              0,
              "#0d0887"
             ],
             [
              0.1111111111111111,
              "#46039f"
             ],
             [
              0.2222222222222222,
              "#7201a8"
             ],
             [
              0.3333333333333333,
              "#9c179e"
             ],
             [
              0.4444444444444444,
              "#bd3786"
             ],
             [
              0.5555555555555556,
              "#d8576b"
             ],
             [
              0.6666666666666666,
              "#ed7953"
             ],
             [
              0.7777777777777778,
              "#fb9f3a"
             ],
             [
              0.8888888888888888,
              "#fdca26"
             ],
             [
              1,
              "#f0f921"
             ]
            ],
            "type": "surface"
           }
          ],
          "table": [
           {
            "cells": {
             "fill": {
              "color": "#EBF0F8"
             },
             "line": {
              "color": "white"
             }
            },
            "header": {
             "fill": {
              "color": "#C8D4E3"
             },
             "line": {
              "color": "white"
             }
            },
            "type": "table"
           }
          ]
         },
         "layout": {
          "annotationdefaults": {
           "arrowcolor": "#2a3f5f",
           "arrowhead": 0,
           "arrowwidth": 1
          },
          "autotypenumbers": "strict",
          "coloraxis": {
           "colorbar": {
            "outlinewidth": 0,
            "ticks": ""
           }
          },
          "colorscale": {
           "diverging": [
            [
             0,
             "#8e0152"
            ],
            [
             0.1,
             "#c51b7d"
            ],
            [
             0.2,
             "#de77ae"
            ],
            [
             0.3,
             "#f1b6da"
            ],
            [
             0.4,
             "#fde0ef"
            ],
            [
             0.5,
             "#f7f7f7"
            ],
            [
             0.6,
             "#e6f5d0"
            ],
            [
             0.7,
             "#b8e186"
            ],
            [
             0.8,
             "#7fbc41"
            ],
            [
             0.9,
             "#4d9221"
            ],
            [
             1,
             "#276419"
            ]
           ],
           "sequential": [
            [
             0,
             "#0d0887"
            ],
            [
             0.1111111111111111,
             "#46039f"
            ],
            [
             0.2222222222222222,
             "#7201a8"
            ],
            [
             0.3333333333333333,
             "#9c179e"
            ],
            [
             0.4444444444444444,
             "#bd3786"
            ],
            [
             0.5555555555555556,
             "#d8576b"
            ],
            [
             0.6666666666666666,
             "#ed7953"
            ],
            [
             0.7777777777777778,
             "#fb9f3a"
            ],
            [
             0.8888888888888888,
             "#fdca26"
            ],
            [
             1,
             "#f0f921"
            ]
           ],
           "sequentialminus": [
            [
             0,
             "#0d0887"
            ],
            [
             0.1111111111111111,
             "#46039f"
            ],
            [
             0.2222222222222222,
             "#7201a8"
            ],
            [
             0.3333333333333333,
             "#9c179e"
            ],
            [
             0.4444444444444444,
             "#bd3786"
            ],
            [
             0.5555555555555556,
             "#d8576b"
            ],
            [
             0.6666666666666666,
             "#ed7953"
            ],
            [
             0.7777777777777778,
             "#fb9f3a"
            ],
            [
             0.8888888888888888,
             "#fdca26"
            ],
            [
             1,
             "#f0f921"
            ]
           ]
          },
          "colorway": [
           "#636efa",
           "#EF553B",
           "#00cc96",
           "#ab63fa",
           "#FFA15A",
           "#19d3f3",
           "#FF6692",
           "#B6E880",
           "#FF97FF",
           "#FECB52"
          ],
          "font": {
           "color": "#2a3f5f"
          },
          "geo": {
           "bgcolor": "white",
           "lakecolor": "white",
           "landcolor": "#E5ECF6",
           "showlakes": true,
           "showland": true,
           "subunitcolor": "white"
          },
          "hoverlabel": {
           "align": "left"
          },
          "hovermode": "closest",
          "mapbox": {
           "style": "light"
          },
          "paper_bgcolor": "white",
          "plot_bgcolor": "#E5ECF6",
          "polar": {
           "angularaxis": {
            "gridcolor": "white",
            "linecolor": "white",
            "ticks": ""
           },
           "bgcolor": "#E5ECF6",
           "radialaxis": {
            "gridcolor": "white",
            "linecolor": "white",
            "ticks": ""
           }
          },
          "scene": {
           "xaxis": {
            "backgroundcolor": "#E5ECF6",
            "gridcolor": "white",
            "gridwidth": 2,
            "linecolor": "white",
            "showbackground": true,
            "ticks": "",
            "zerolinecolor": "white"
           },
           "yaxis": {
            "backgroundcolor": "#E5ECF6",
            "gridcolor": "white",
            "gridwidth": 2,
            "linecolor": "white",
            "showbackground": true,
            "ticks": "",
            "zerolinecolor": "white"
           },
           "zaxis": {
            "backgroundcolor": "#E5ECF6",
            "gridcolor": "white",
            "gridwidth": 2,
            "linecolor": "white",
            "showbackground": true,
            "ticks": "",
            "zerolinecolor": "white"
           }
          },
          "shapedefaults": {
           "line": {
            "color": "#2a3f5f"
           }
          },
          "ternary": {
           "aaxis": {
            "gridcolor": "white",
            "linecolor": "white",
            "ticks": ""
           },
           "baxis": {
            "gridcolor": "white",
            "linecolor": "white",
            "ticks": ""
           },
           "bgcolor": "#E5ECF6",
           "caxis": {
            "gridcolor": "white",
            "linecolor": "white",
            "ticks": ""
           }
          },
          "title": {
           "x": 0.05
          },
          "xaxis": {
           "automargin": true,
           "gridcolor": "white",
           "linecolor": "white",
           "ticks": "",
           "title": {
            "standoff": 15
           },
           "zerolinecolor": "white",
           "zerolinewidth": 2
          },
          "yaxis": {
           "automargin": true,
           "gridcolor": "white",
           "linecolor": "white",
           "ticks": "",
           "title": {
            "standoff": 15
           },
           "zerolinecolor": "white",
           "zerolinewidth": 2
          }
         }
        },
        "xaxis": {
         "anchor": "y",
         "domain": [
          0,
          1
         ],
         "title": {
          "text": "x"
         }
        },
        "yaxis": {
         "anchor": "x",
         "domain": [
          0,
          1
         ],
         "title": {
          "text": "count"
         }
        }
       }
      }
     },
     "metadata": {},
     "output_type": "display_data"
    }
   ],
   "source": [
    "rotulados = pd.read_excel(dataSet, sheet_name='ROTULADO')\n",
    "\n",
    "fig = px.bar(rotulados['text'], x=rotulados['rotulo'])\n",
    "fig.show()"
   ]
  },
  {
   "cell_type": "markdown",
   "metadata": {},
   "source": [
    "*Amostra do dataset de treino, balanceado, sobre 70% de todo o dataset rotulado*"
   ]
  },
  {
   "cell_type": "code",
   "execution_count": 739,
   "metadata": {},
   "outputs": [
    {
     "data": {
      "application/vnd.plotly.v1+json": {
       "config": {
        "plotlyServerURL": "https://plot.ly"
       },
       "data": [
        {
         "alignmentgroup": "True",
         "hovertemplate": "x=%{x}<br>count=%{y}<extra></extra>",
         "legendgroup": "",
         "marker": {
          "color": "#636efa",
          "pattern": {
           "shape": ""
          }
         },
         "name": "",
         "offsetgroup": "",
         "orientation": "v",
         "showlegend": false,
         "textposition": "auto",
         "type": "bar",
         "x": [
          "POSITIVO",
          "POSITIVO",
          "NEGATIVO",
          "POSITIVO",
          "POSITIVO",
          "NEGATIVO",
          "NEGATIVO",
          "POSITIVO",
          "POSITIVO",
          "NEGATIVO",
          "NEGATIVO",
          "NEGATIVO",
          "NEGATIVO",
          "POSITIVO",
          "POSITIVO",
          "POSITIVO",
          "POSITIVO",
          "NEGATIVO",
          "NEGATIVO",
          "POSITIVO",
          "POSITIVO",
          "POSITIVO",
          "POSITIVO",
          "NEGATIVO",
          "POSITIVO",
          "NEGATIVO",
          "NEGATIVO",
          "NEGATIVO",
          "POSITIVO",
          "NEGATIVO",
          "NEGATIVO",
          "POSITIVO",
          "NEGATIVO",
          "POSITIVO",
          "POSITIVO",
          "POSITIVO",
          "NEGATIVO",
          "POSITIVO",
          "NEGATIVO",
          "POSITIVO",
          "NEGATIVO",
          "POSITIVO",
          "POSITIVO",
          "POSITIVO",
          "POSITIVO",
          "POSITIVO",
          "NEGATIVO",
          "POSITIVO",
          "POSITIVO",
          "NEGATIVO",
          "NEGATIVO",
          "POSITIVO",
          "POSITIVO",
          "POSITIVO",
          "POSITIVO",
          "NEGATIVO",
          "NEGATIVO",
          "POSITIVO",
          "POSITIVO",
          "POSITIVO",
          "POSITIVO",
          "POSITIVO",
          "NEGATIVO",
          "POSITIVO",
          "NEGATIVO",
          "NEGATIVO",
          "POSITIVO",
          "POSITIVO",
          "POSITIVO",
          "NEGATIVO",
          "POSITIVO",
          "NEGATIVO",
          "POSITIVO",
          "NEGATIVO",
          "NEGATIVO",
          "POSITIVO",
          "NEGATIVO",
          "POSITIVO",
          "POSITIVO",
          "NEGATIVO",
          "POSITIVO",
          "NEGATIVO",
          "NEGATIVO",
          "NEGATIVO",
          "NEGATIVO",
          "NEGATIVO",
          "NEGATIVO",
          "NEGATIVO",
          "POSITIVO",
          "NEGATIVO",
          "NEGATIVO",
          "NEGATIVO",
          "POSITIVO",
          "POSITIVO",
          "POSITIVO",
          "NEGATIVO",
          "NEGATIVO",
          "NEGATIVO",
          "POSITIVO",
          "POSITIVO",
          "POSITIVO",
          "NEGATIVO",
          "POSITIVO",
          "POSITIVO",
          "POSITIVO",
          "POSITIVO",
          "NEGATIVO",
          "POSITIVO",
          "POSITIVO",
          "NEGATIVO",
          "POSITIVO",
          "NEGATIVO",
          "NEGATIVO",
          "NEGATIVO",
          "POSITIVO",
          "NEGATIVO",
          "NEGATIVO",
          "NEGATIVO",
          "NEGATIVO",
          "NEGATIVO",
          "NEGATIVO",
          "POSITIVO",
          "NEGATIVO",
          "POSITIVO",
          "NEGATIVO",
          "NEGATIVO",
          "POSITIVO",
          "NEGATIVO",
          "NEGATIVO",
          "NEGATIVO",
          "POSITIVO",
          "POSITIVO",
          "NEGATIVO",
          "POSITIVO",
          "NEGATIVO",
          "POSITIVO",
          "NEGATIVO",
          "POSITIVO",
          "NEGATIVO",
          "NEGATIVO",
          "NEGATIVO",
          "NEGATIVO",
          "POSITIVO",
          "NEGATIVO",
          "NEGATIVO",
          "NEGATIVO",
          "POSITIVO",
          "NEGATIVO",
          "POSITIVO",
          "NEGATIVO",
          "NEGATIVO",
          "NEGATIVO",
          "NEGATIVO",
          "NEGATIVO",
          "POSITIVO",
          "POSITIVO",
          "POSITIVO",
          "NEGATIVO",
          "POSITIVO",
          "POSITIVO",
          "POSITIVO",
          "NEGATIVO",
          "NEGATIVO",
          "POSITIVO",
          "POSITIVO",
          "POSITIVO",
          "NEGATIVO",
          "NEGATIVO",
          "NEGATIVO",
          "NEGATIVO",
          "POSITIVO",
          "NEGATIVO",
          "NEGATIVO",
          "NEGATIVO",
          "NEGATIVO",
          "POSITIVO",
          "NEGATIVO",
          "POSITIVO",
          "POSITIVO",
          "NEGATIVO",
          "POSITIVO",
          "POSITIVO",
          "NEGATIVO",
          "POSITIVO",
          "NEGATIVO",
          "POSITIVO",
          "NEGATIVO",
          "NEGATIVO",
          "NEGATIVO",
          "NEGATIVO",
          "POSITIVO",
          "POSITIVO",
          "POSITIVO",
          "NEGATIVO",
          "NEGATIVO",
          "POSITIVO",
          "NEGATIVO",
          "POSITIVO",
          "POSITIVO",
          "NEGATIVO",
          "POSITIVO",
          "POSITIVO",
          "POSITIVO",
          "NEGATIVO",
          "POSITIVO",
          "NEGATIVO",
          "POSITIVO",
          "NEGATIVO",
          "POSITIVO",
          "NEGATIVO",
          "NEGATIVO",
          "NEGATIVO",
          "NEGATIVO",
          "NEGATIVO",
          "NEGATIVO",
          "NEGATIVO",
          "POSITIVO",
          "NEGATIVO",
          "POSITIVO",
          "NEGATIVO",
          "POSITIVO",
          "POSITIVO",
          "NEGATIVO",
          "NEGATIVO",
          "NEGATIVO",
          "POSITIVO",
          "POSITIVO",
          "NEGATIVO",
          "POSITIVO",
          "NEGATIVO",
          "POSITIVO",
          "POSITIVO",
          "NEGATIVO",
          "NEGATIVO",
          "NEGATIVO",
          "POSITIVO",
          "POSITIVO",
          "NEGATIVO",
          "NEGATIVO",
          "NEGATIVO",
          "POSITIVO",
          "POSITIVO",
          "NEGATIVO",
          "NEGATIVO",
          "POSITIVO",
          "NEGATIVO",
          "NEGATIVO",
          "POSITIVO",
          "NEGATIVO",
          "NEGATIVO",
          "NEGATIVO",
          "POSITIVO",
          "NEGATIVO",
          "NEGATIVO",
          "POSITIVO",
          "POSITIVO",
          "POSITIVO",
          "POSITIVO",
          "POSITIVO",
          "POSITIVO",
          "NEGATIVO",
          "NEGATIVO",
          "NEGATIVO",
          "NEGATIVO",
          "POSITIVO",
          "POSITIVO",
          "POSITIVO",
          "POSITIVO",
          "POSITIVO",
          "NEGATIVO",
          "NEGATIVO",
          "POSITIVO",
          "POSITIVO",
          "POSITIVO",
          "POSITIVO",
          "NEGATIVO",
          "NEGATIVO",
          "POSITIVO",
          "POSITIVO",
          "NEGATIVO",
          "NEGATIVO",
          "NEGATIVO",
          "POSITIVO",
          "POSITIVO",
          "NEGATIVO",
          "POSITIVO",
          "NEGATIVO",
          "POSITIVO",
          "NEGATIVO",
          "NEGATIVO",
          "POSITIVO",
          "POSITIVO",
          "NEGATIVO",
          "POSITIVO",
          "POSITIVO",
          "POSITIVO",
          "POSITIVO",
          "POSITIVO",
          "POSITIVO",
          "NEGATIVO",
          "POSITIVO",
          "NEGATIVO",
          "POSITIVO",
          "POSITIVO",
          "POSITIVO",
          "NEGATIVO",
          "NEGATIVO",
          "POSITIVO",
          "NEGATIVO",
          "NEGATIVO",
          "NEGATIVO",
          "NEGATIVO",
          "NEGATIVO",
          "NEGATIVO",
          "POSITIVO",
          "NEGATIVO",
          "NEGATIVO",
          "NEGATIVO",
          "POSITIVO",
          "NEGATIVO",
          "POSITIVO",
          "POSITIVO",
          "POSITIVO",
          "NEGATIVO",
          "POSITIVO",
          "POSITIVO",
          "NEGATIVO",
          "POSITIVO",
          "POSITIVO",
          "POSITIVO",
          "NEGATIVO",
          "POSITIVO",
          "POSITIVO",
          "POSITIVO",
          "POSITIVO",
          "POSITIVO",
          "POSITIVO",
          "POSITIVO",
          "NEGATIVO",
          "POSITIVO",
          "NEGATIVO",
          "POSITIVO",
          "NEGATIVO",
          "NEGATIVO",
          "POSITIVO",
          "POSITIVO",
          "NEGATIVO",
          "NEGATIVO",
          "POSITIVO",
          "NEGATIVO",
          "NEGATIVO",
          "POSITIVO",
          "NEGATIVO",
          "NEGATIVO",
          "NEGATIVO",
          "NEGATIVO",
          "POSITIVO",
          "POSITIVO",
          "NEGATIVO",
          "POSITIVO",
          "NEGATIVO",
          "NEGATIVO",
          "POSITIVO",
          "POSITIVO",
          "POSITIVO",
          "NEGATIVO",
          "POSITIVO",
          "POSITIVO",
          "POSITIVO",
          "POSITIVO",
          "NEGATIVO",
          "NEGATIVO",
          "NEGATIVO",
          "POSITIVO",
          "NEGATIVO",
          "NEGATIVO",
          "POSITIVO",
          "NEGATIVO",
          "NEGATIVO",
          "NEGATIVO",
          "POSITIVO",
          "POSITIVO",
          "NEGATIVO",
          "POSITIVO",
          "POSITIVO",
          "NEGATIVO",
          "POSITIVO",
          "POSITIVO",
          "POSITIVO",
          "NEGATIVO",
          "NEGATIVO",
          "POSITIVO",
          "NEGATIVO",
          "POSITIVO",
          "POSITIVO",
          "POSITIVO",
          "NEGATIVO",
          "NEGATIVO",
          "NEGATIVO",
          "NEGATIVO",
          "NEGATIVO",
          "NEGATIVO",
          "POSITIVO",
          "NEGATIVO",
          "POSITIVO",
          "NEGATIVO",
          "NEGATIVO",
          "NEGATIVO",
          "NEGATIVO",
          "NEGATIVO",
          "NEGATIVO",
          "POSITIVO",
          "POSITIVO",
          "POSITIVO",
          "NEGATIVO",
          "POSITIVO",
          "POSITIVO",
          "POSITIVO",
          "POSITIVO",
          "POSITIVO",
          "POSITIVO",
          "POSITIVO",
          "NEGATIVO",
          "POSITIVO",
          "POSITIVO",
          "NEGATIVO",
          "POSITIVO",
          "NEGATIVO",
          "NEGATIVO",
          "POSITIVO",
          "POSITIVO",
          "POSITIVO",
          "POSITIVO",
          "POSITIVO",
          "NEGATIVO",
          "POSITIVO",
          "NEGATIVO",
          "NEGATIVO",
          "POSITIVO",
          "POSITIVO",
          "NEGATIVO",
          "NEGATIVO",
          "POSITIVO",
          "NEGATIVO",
          "POSITIVO",
          "NEGATIVO",
          "NEGATIVO",
          "NEGATIVO",
          "NEGATIVO",
          "NEGATIVO",
          "NEGATIVO",
          "POSITIVO",
          "POSITIVO",
          "POSITIVO",
          "NEGATIVO",
          "POSITIVO",
          "POSITIVO",
          "NEGATIVO",
          "NEGATIVO",
          "NEGATIVO",
          "POSITIVO",
          "NEGATIVO",
          "POSITIVO",
          "POSITIVO",
          "NEGATIVO",
          "NEGATIVO",
          "POSITIVO",
          "POSITIVO",
          "POSITIVO",
          "POSITIVO",
          "NEGATIVO",
          "POSITIVO",
          "POSITIVO",
          "POSITIVO",
          "NEGATIVO",
          "NEGATIVO",
          "NEGATIVO",
          "NEGATIVO",
          "POSITIVO",
          "NEGATIVO",
          "POSITIVO",
          "POSITIVO",
          "POSITIVO",
          "NEGATIVO",
          "NEGATIVO",
          "POSITIVO",
          "POSITIVO",
          "NEGATIVO",
          "NEGATIVO",
          "POSITIVO",
          "NEGATIVO",
          "NEGATIVO",
          "NEGATIVO",
          "POSITIVO",
          "NEGATIVO",
          "POSITIVO"
         ],
         "xaxis": "x",
         "y": [
          1,
          1,
          1,
          1,
          1,
          1,
          1,
          1,
          1,
          1,
          1,
          1,
          1,
          1,
          1,
          1,
          1,
          1,
          1,
          1,
          1,
          1,
          1,
          1,
          1,
          1,
          1,
          1,
          1,
          1,
          1,
          1,
          1,
          1,
          1,
          1,
          1,
          1,
          1,
          1,
          1,
          1,
          1,
          1,
          1,
          1,
          1,
          1,
          1,
          1,
          1,
          1,
          1,
          1,
          1,
          1,
          1,
          1,
          1,
          1,
          1,
          1,
          1,
          1,
          1,
          1,
          1,
          1,
          1,
          1,
          1,
          1,
          1,
          1,
          1,
          1,
          1,
          1,
          1,
          1,
          1,
          1,
          1,
          1,
          1,
          1,
          1,
          1,
          1,
          1,
          1,
          1,
          1,
          1,
          1,
          1,
          1,
          1,
          1,
          1,
          1,
          1,
          1,
          1,
          1,
          1,
          1,
          1,
          1,
          1,
          1,
          1,
          1,
          1,
          1,
          1,
          1,
          1,
          1,
          1,
          1,
          1,
          1,
          1,
          1,
          1,
          1,
          1,
          1,
          1,
          1,
          1,
          1,
          1,
          1,
          1,
          1,
          1,
          1,
          1,
          1,
          1,
          1,
          1,
          1,
          1,
          1,
          1,
          1,
          1,
          1,
          1,
          1,
          1,
          1,
          1,
          1,
          1,
          1,
          1,
          1,
          1,
          1,
          1,
          1,
          1,
          1,
          1,
          1,
          1,
          1,
          1,
          1,
          1,
          1,
          1,
          1,
          1,
          1,
          1,
          1,
          1,
          1,
          1,
          1,
          1,
          1,
          1,
          1,
          1,
          1,
          1,
          1,
          1,
          1,
          1,
          1,
          1,
          1,
          1,
          1,
          1,
          1,
          1,
          1,
          1,
          1,
          1,
          1,
          1,
          1,
          1,
          1,
          1,
          1,
          1,
          1,
          1,
          1,
          1,
          1,
          1,
          1,
          1,
          1,
          1,
          1,
          1,
          1,
          1,
          1,
          1,
          1,
          1,
          1,
          1,
          1,
          1,
          1,
          1,
          1,
          1,
          1,
          1,
          1,
          1,
          1,
          1,
          1,
          1,
          1,
          1,
          1,
          1,
          1,
          1,
          1,
          1,
          1,
          1,
          1,
          1,
          1,
          1,
          1,
          1,
          1,
          1,
          1,
          1,
          1,
          1,
          1,
          1,
          1,
          1,
          1,
          1,
          1,
          1,
          1,
          1,
          1,
          1,
          1,
          1,
          1,
          1,
          1,
          1,
          1,
          1,
          1,
          1,
          1,
          1,
          1,
          1,
          1,
          1,
          1,
          1,
          1,
          1,
          1,
          1,
          1,
          1,
          1,
          1,
          1,
          1,
          1,
          1,
          1,
          1,
          1,
          1,
          1,
          1,
          1,
          1,
          1,
          1,
          1,
          1,
          1,
          1,
          1,
          1,
          1,
          1,
          1,
          1,
          1,
          1,
          1,
          1,
          1,
          1,
          1,
          1,
          1,
          1,
          1,
          1,
          1,
          1,
          1,
          1,
          1,
          1,
          1,
          1,
          1,
          1,
          1,
          1,
          1,
          1,
          1,
          1,
          1,
          1,
          1,
          1,
          1,
          1,
          1,
          1,
          1,
          1,
          1,
          1,
          1,
          1,
          1,
          1,
          1,
          1,
          1,
          1,
          1,
          1,
          1,
          1,
          1,
          1,
          1,
          1,
          1,
          1,
          1,
          1,
          1,
          1,
          1,
          1,
          1,
          1,
          1,
          1,
          1,
          1,
          1,
          1,
          1,
          1,
          1,
          1,
          1,
          1,
          1,
          1,
          1,
          1,
          1,
          1,
          1,
          1,
          1,
          1,
          1,
          1,
          1,
          1,
          1,
          1,
          1,
          1,
          1,
          1,
          1,
          1,
          1,
          1,
          1,
          1,
          1,
          1,
          1,
          1,
          1,
          1,
          1,
          1,
          1,
          1,
          1,
          1,
          1,
          1,
          1,
          1,
          1,
          1,
          1,
          1,
          1,
          1,
          1,
          1,
          1,
          1,
          1,
          1,
          1,
          1,
          1,
          1,
          1,
          1,
          1,
          1,
          1,
          1,
          1,
          1,
          1,
          1,
          1,
          1,
          1,
          1,
          1,
          1,
          1,
          1,
          1,
          1,
          1,
          1,
          1,
          1,
          1,
          1
         ],
         "yaxis": "y"
        }
       ],
       "layout": {
        "barmode": "relative",
        "legend": {
         "tracegroupgap": 0
        },
        "margin": {
         "t": 60
        },
        "template": {
         "data": {
          "bar": [
           {
            "error_x": {
             "color": "#2a3f5f"
            },
            "error_y": {
             "color": "#2a3f5f"
            },
            "marker": {
             "line": {
              "color": "#E5ECF6",
              "width": 0.5
             },
             "pattern": {
              "fillmode": "overlay",
              "size": 10,
              "solidity": 0.2
             }
            },
            "type": "bar"
           }
          ],
          "barpolar": [
           {
            "marker": {
             "line": {
              "color": "#E5ECF6",
              "width": 0.5
             },
             "pattern": {
              "fillmode": "overlay",
              "size": 10,
              "solidity": 0.2
             }
            },
            "type": "barpolar"
           }
          ],
          "carpet": [
           {
            "aaxis": {
             "endlinecolor": "#2a3f5f",
             "gridcolor": "white",
             "linecolor": "white",
             "minorgridcolor": "white",
             "startlinecolor": "#2a3f5f"
            },
            "baxis": {
             "endlinecolor": "#2a3f5f",
             "gridcolor": "white",
             "linecolor": "white",
             "minorgridcolor": "white",
             "startlinecolor": "#2a3f5f"
            },
            "type": "carpet"
           }
          ],
          "choropleth": [
           {
            "colorbar": {
             "outlinewidth": 0,
             "ticks": ""
            },
            "type": "choropleth"
           }
          ],
          "contour": [
           {
            "colorbar": {
             "outlinewidth": 0,
             "ticks": ""
            },
            "colorscale": [
             [
              0,
              "#0d0887"
             ],
             [
              0.1111111111111111,
              "#46039f"
             ],
             [
              0.2222222222222222,
              "#7201a8"
             ],
             [
              0.3333333333333333,
              "#9c179e"
             ],
             [
              0.4444444444444444,
              "#bd3786"
             ],
             [
              0.5555555555555556,
              "#d8576b"
             ],
             [
              0.6666666666666666,
              "#ed7953"
             ],
             [
              0.7777777777777778,
              "#fb9f3a"
             ],
             [
              0.8888888888888888,
              "#fdca26"
             ],
             [
              1,
              "#f0f921"
             ]
            ],
            "type": "contour"
           }
          ],
          "contourcarpet": [
           {
            "colorbar": {
             "outlinewidth": 0,
             "ticks": ""
            },
            "type": "contourcarpet"
           }
          ],
          "heatmap": [
           {
            "colorbar": {
             "outlinewidth": 0,
             "ticks": ""
            },
            "colorscale": [
             [
              0,
              "#0d0887"
             ],
             [
              0.1111111111111111,
              "#46039f"
             ],
             [
              0.2222222222222222,
              "#7201a8"
             ],
             [
              0.3333333333333333,
              "#9c179e"
             ],
             [
              0.4444444444444444,
              "#bd3786"
             ],
             [
              0.5555555555555556,
              "#d8576b"
             ],
             [
              0.6666666666666666,
              "#ed7953"
             ],
             [
              0.7777777777777778,
              "#fb9f3a"
             ],
             [
              0.8888888888888888,
              "#fdca26"
             ],
             [
              1,
              "#f0f921"
             ]
            ],
            "type": "heatmap"
           }
          ],
          "heatmapgl": [
           {
            "colorbar": {
             "outlinewidth": 0,
             "ticks": ""
            },
            "colorscale": [
             [
              0,
              "#0d0887"
             ],
             [
              0.1111111111111111,
              "#46039f"
             ],
             [
              0.2222222222222222,
              "#7201a8"
             ],
             [
              0.3333333333333333,
              "#9c179e"
             ],
             [
              0.4444444444444444,
              "#bd3786"
             ],
             [
              0.5555555555555556,
              "#d8576b"
             ],
             [
              0.6666666666666666,
              "#ed7953"
             ],
             [
              0.7777777777777778,
              "#fb9f3a"
             ],
             [
              0.8888888888888888,
              "#fdca26"
             ],
             [
              1,
              "#f0f921"
             ]
            ],
            "type": "heatmapgl"
           }
          ],
          "histogram": [
           {
            "marker": {
             "pattern": {
              "fillmode": "overlay",
              "size": 10,
              "solidity": 0.2
             }
            },
            "type": "histogram"
           }
          ],
          "histogram2d": [
           {
            "colorbar": {
             "outlinewidth": 0,
             "ticks": ""
            },
            "colorscale": [
             [
              0,
              "#0d0887"
             ],
             [
              0.1111111111111111,
              "#46039f"
             ],
             [
              0.2222222222222222,
              "#7201a8"
             ],
             [
              0.3333333333333333,
              "#9c179e"
             ],
             [
              0.4444444444444444,
              "#bd3786"
             ],
             [
              0.5555555555555556,
              "#d8576b"
             ],
             [
              0.6666666666666666,
              "#ed7953"
             ],
             [
              0.7777777777777778,
              "#fb9f3a"
             ],
             [
              0.8888888888888888,
              "#fdca26"
             ],
             [
              1,
              "#f0f921"
             ]
            ],
            "type": "histogram2d"
           }
          ],
          "histogram2dcontour": [
           {
            "colorbar": {
             "outlinewidth": 0,
             "ticks": ""
            },
            "colorscale": [
             [
              0,
              "#0d0887"
             ],
             [
              0.1111111111111111,
              "#46039f"
             ],
             [
              0.2222222222222222,
              "#7201a8"
             ],
             [
              0.3333333333333333,
              "#9c179e"
             ],
             [
              0.4444444444444444,
              "#bd3786"
             ],
             [
              0.5555555555555556,
              "#d8576b"
             ],
             [
              0.6666666666666666,
              "#ed7953"
             ],
             [
              0.7777777777777778,
              "#fb9f3a"
             ],
             [
              0.8888888888888888,
              "#fdca26"
             ],
             [
              1,
              "#f0f921"
             ]
            ],
            "type": "histogram2dcontour"
           }
          ],
          "mesh3d": [
           {
            "colorbar": {
             "outlinewidth": 0,
             "ticks": ""
            },
            "type": "mesh3d"
           }
          ],
          "parcoords": [
           {
            "line": {
             "colorbar": {
              "outlinewidth": 0,
              "ticks": ""
             }
            },
            "type": "parcoords"
           }
          ],
          "pie": [
           {
            "automargin": true,
            "type": "pie"
           }
          ],
          "scatter": [
           {
            "fillpattern": {
             "fillmode": "overlay",
             "size": 10,
             "solidity": 0.2
            },
            "type": "scatter"
           }
          ],
          "scatter3d": [
           {
            "line": {
             "colorbar": {
              "outlinewidth": 0,
              "ticks": ""
             }
            },
            "marker": {
             "colorbar": {
              "outlinewidth": 0,
              "ticks": ""
             }
            },
            "type": "scatter3d"
           }
          ],
          "scattercarpet": [
           {
            "marker": {
             "colorbar": {
              "outlinewidth": 0,
              "ticks": ""
             }
            },
            "type": "scattercarpet"
           }
          ],
          "scattergeo": [
           {
            "marker": {
             "colorbar": {
              "outlinewidth": 0,
              "ticks": ""
             }
            },
            "type": "scattergeo"
           }
          ],
          "scattergl": [
           {
            "marker": {
             "colorbar": {
              "outlinewidth": 0,
              "ticks": ""
             }
            },
            "type": "scattergl"
           }
          ],
          "scattermapbox": [
           {
            "marker": {
             "colorbar": {
              "outlinewidth": 0,
              "ticks": ""
             }
            },
            "type": "scattermapbox"
           }
          ],
          "scatterpolar": [
           {
            "marker": {
             "colorbar": {
              "outlinewidth": 0,
              "ticks": ""
             }
            },
            "type": "scatterpolar"
           }
          ],
          "scatterpolargl": [
           {
            "marker": {
             "colorbar": {
              "outlinewidth": 0,
              "ticks": ""
             }
            },
            "type": "scatterpolargl"
           }
          ],
          "scatterternary": [
           {
            "marker": {
             "colorbar": {
              "outlinewidth": 0,
              "ticks": ""
             }
            },
            "type": "scatterternary"
           }
          ],
          "surface": [
           {
            "colorbar": {
             "outlinewidth": 0,
             "ticks": ""
            },
            "colorscale": [
             [
              0,
              "#0d0887"
             ],
             [
              0.1111111111111111,
              "#46039f"
             ],
             [
              0.2222222222222222,
              "#7201a8"
             ],
             [
              0.3333333333333333,
              "#9c179e"
             ],
             [
              0.4444444444444444,
              "#bd3786"
             ],
             [
              0.5555555555555556,
              "#d8576b"
             ],
             [
              0.6666666666666666,
              "#ed7953"
             ],
             [
              0.7777777777777778,
              "#fb9f3a"
             ],
             [
              0.8888888888888888,
              "#fdca26"
             ],
             [
              1,
              "#f0f921"
             ]
            ],
            "type": "surface"
           }
          ],
          "table": [
           {
            "cells": {
             "fill": {
              "color": "#EBF0F8"
             },
             "line": {
              "color": "white"
             }
            },
            "header": {
             "fill": {
              "color": "#C8D4E3"
             },
             "line": {
              "color": "white"
             }
            },
            "type": "table"
           }
          ]
         },
         "layout": {
          "annotationdefaults": {
           "arrowcolor": "#2a3f5f",
           "arrowhead": 0,
           "arrowwidth": 1
          },
          "autotypenumbers": "strict",
          "coloraxis": {
           "colorbar": {
            "outlinewidth": 0,
            "ticks": ""
           }
          },
          "colorscale": {
           "diverging": [
            [
             0,
             "#8e0152"
            ],
            [
             0.1,
             "#c51b7d"
            ],
            [
             0.2,
             "#de77ae"
            ],
            [
             0.3,
             "#f1b6da"
            ],
            [
             0.4,
             "#fde0ef"
            ],
            [
             0.5,
             "#f7f7f7"
            ],
            [
             0.6,
             "#e6f5d0"
            ],
            [
             0.7,
             "#b8e186"
            ],
            [
             0.8,
             "#7fbc41"
            ],
            [
             0.9,
             "#4d9221"
            ],
            [
             1,
             "#276419"
            ]
           ],
           "sequential": [
            [
             0,
             "#0d0887"
            ],
            [
             0.1111111111111111,
             "#46039f"
            ],
            [
             0.2222222222222222,
             "#7201a8"
            ],
            [
             0.3333333333333333,
             "#9c179e"
            ],
            [
             0.4444444444444444,
             "#bd3786"
            ],
            [
             0.5555555555555556,
             "#d8576b"
            ],
            [
             0.6666666666666666,
             "#ed7953"
            ],
            [
             0.7777777777777778,
             "#fb9f3a"
            ],
            [
             0.8888888888888888,
             "#fdca26"
            ],
            [
             1,
             "#f0f921"
            ]
           ],
           "sequentialminus": [
            [
             0,
             "#0d0887"
            ],
            [
             0.1111111111111111,
             "#46039f"
            ],
            [
             0.2222222222222222,
             "#7201a8"
            ],
            [
             0.3333333333333333,
             "#9c179e"
            ],
            [
             0.4444444444444444,
             "#bd3786"
            ],
            [
             0.5555555555555556,
             "#d8576b"
            ],
            [
             0.6666666666666666,
             "#ed7953"
            ],
            [
             0.7777777777777778,
             "#fb9f3a"
            ],
            [
             0.8888888888888888,
             "#fdca26"
            ],
            [
             1,
             "#f0f921"
            ]
           ]
          },
          "colorway": [
           "#636efa",
           "#EF553B",
           "#00cc96",
           "#ab63fa",
           "#FFA15A",
           "#19d3f3",
           "#FF6692",
           "#B6E880",
           "#FF97FF",
           "#FECB52"
          ],
          "font": {
           "color": "#2a3f5f"
          },
          "geo": {
           "bgcolor": "white",
           "lakecolor": "white",
           "landcolor": "#E5ECF6",
           "showlakes": true,
           "showland": true,
           "subunitcolor": "white"
          },
          "hoverlabel": {
           "align": "left"
          },
          "hovermode": "closest",
          "mapbox": {
           "style": "light"
          },
          "paper_bgcolor": "white",
          "plot_bgcolor": "#E5ECF6",
          "polar": {
           "angularaxis": {
            "gridcolor": "white",
            "linecolor": "white",
            "ticks": ""
           },
           "bgcolor": "#E5ECF6",
           "radialaxis": {
            "gridcolor": "white",
            "linecolor": "white",
            "ticks": ""
           }
          },
          "scene": {
           "xaxis": {
            "backgroundcolor": "#E5ECF6",
            "gridcolor": "white",
            "gridwidth": 2,
            "linecolor": "white",
            "showbackground": true,
            "ticks": "",
            "zerolinecolor": "white"
           },
           "yaxis": {
            "backgroundcolor": "#E5ECF6",
            "gridcolor": "white",
            "gridwidth": 2,
            "linecolor": "white",
            "showbackground": true,
            "ticks": "",
            "zerolinecolor": "white"
           },
           "zaxis": {
            "backgroundcolor": "#E5ECF6",
            "gridcolor": "white",
            "gridwidth": 2,
            "linecolor": "white",
            "showbackground": true,
            "ticks": "",
            "zerolinecolor": "white"
           }
          },
          "shapedefaults": {
           "line": {
            "color": "#2a3f5f"
           }
          },
          "ternary": {
           "aaxis": {
            "gridcolor": "white",
            "linecolor": "white",
            "ticks": ""
           },
           "baxis": {
            "gridcolor": "white",
            "linecolor": "white",
            "ticks": ""
           },
           "bgcolor": "#E5ECF6",
           "caxis": {
            "gridcolor": "white",
            "linecolor": "white",
            "ticks": ""
           }
          },
          "title": {
           "x": 0.05
          },
          "xaxis": {
           "automargin": true,
           "gridcolor": "white",
           "linecolor": "white",
           "ticks": "",
           "title": {
            "standoff": 15
           },
           "zerolinecolor": "white",
           "zerolinewidth": 2
          },
          "yaxis": {
           "automargin": true,
           "gridcolor": "white",
           "linecolor": "white",
           "ticks": "",
           "title": {
            "standoff": 15
           },
           "zerolinecolor": "white",
           "zerolinewidth": 2
          }
         }
        },
        "xaxis": {
         "anchor": "y",
         "domain": [
          0,
          1
         ],
         "title": {
          "text": "x"
         }
        },
        "yaxis": {
         "anchor": "x",
         "domain": [
          0,
          1
         ],
         "title": {
          "text": "count"
         }
        }
       }
      }
     },
     "metadata": {},
     "output_type": "display_data"
    }
   ],
   "source": [
    "treino = pd.read_excel(dataSet, sheet_name='TREINO_70%')\n",
    "\n",
    "fig = px.bar(treino['text'], x=treino['rotulo'])\n",
    "fig.show()"
   ]
  },
  {
   "cell_type": "markdown",
   "metadata": {},
   "source": [
    "*Amostra do dataset de teste, com 15% sobre os 30% restantes do dataset rotulado não utilizado pela amostra de treino*"
   ]
  },
  {
   "cell_type": "code",
   "execution_count": 740,
   "metadata": {},
   "outputs": [
    {
     "data": {
      "application/vnd.plotly.v1+json": {
       "config": {
        "plotlyServerURL": "https://plot.ly"
       },
       "data": [
        {
         "alignmentgroup": "True",
         "hovertemplate": "x=%{x}<br>count=%{y}<extra></extra>",
         "legendgroup": "",
         "marker": {
          "color": "#636efa",
          "pattern": {
           "shape": ""
          }
         },
         "name": "",
         "offsetgroup": "",
         "orientation": "v",
         "showlegend": false,
         "textposition": "auto",
         "type": "bar",
         "x": [
          "POSITIVO",
          "POSITIVO",
          "POSITIVO",
          "POSITIVO",
          "POSITIVO",
          "POSITIVO",
          "POSITIVO",
          "POSITIVO",
          "POSITIVO",
          "POSITIVO",
          "POSITIVO",
          "POSITIVO",
          "POSITIVO",
          "POSITIVO",
          "POSITIVO",
          "POSITIVO",
          "POSITIVO",
          "POSITIVO",
          "POSITIVO",
          "POSITIVO",
          "POSITIVO",
          "POSITIVO",
          "POSITIVO",
          "POSITIVO",
          "POSITIVO",
          "POSITIVO",
          "POSITIVO",
          "POSITIVO",
          "POSITIVO",
          "POSITIVO",
          "POSITIVO",
          "POSITIVO",
          "POSITIVO",
          "POSITIVO",
          "POSITIVO",
          "POSITIVO",
          "POSITIVO",
          "POSITIVO",
          "POSITIVO",
          "POSITIVO",
          "POSITIVO",
          "POSITIVO",
          "POSITIVO",
          "POSITIVO",
          "POSITIVO",
          "POSITIVO",
          "POSITIVO",
          "POSITIVO",
          "POSITIVO",
          "POSITIVO",
          "POSITIVO",
          "POSITIVO",
          "POSITIVO",
          "NEGATIVO",
          "NEGATIVO",
          "NEGATIVO",
          "NEGATIVO",
          "NEGATIVO",
          "NEGATIVO",
          "NEGATIVO",
          "NEGATIVO",
          "NEGATIVO",
          "NEGATIVO",
          "NEGATIVO",
          "NEGATIVO",
          "NEGATIVO",
          "NEGATIVO",
          "NEGATIVO",
          "NEGATIVO",
          "NEGATIVO",
          "NEGATIVO",
          "NEGATIVO",
          "NEGATIVO",
          "NEGATIVO",
          "NEGATIVO",
          "NEGATIVO",
          "NEGATIVO",
          "NEGATIVO",
          "NEGATIVO",
          "NEGATIVO",
          "NEGATIVO",
          "NEGATIVO",
          "NEGATIVO",
          "NEGATIVO",
          "NEGATIVO",
          "NEGATIVO",
          "NEGATIVO",
          "NEGATIVO",
          "NEGATIVO",
          "NEGATIVO",
          "NEGATIVO",
          "NEGATIVO",
          "NEGATIVO",
          "NEGATIVO",
          "NEGATIVO",
          "NEGATIVO",
          "NEGATIVO",
          "NEGATIVO",
          "NEGATIVO",
          "NEGATIVO",
          "NEGATIVO",
          "NEGATIVO",
          "NEGATIVO",
          "NEGATIVO",
          "NEGATIVO",
          "NEGATIVO",
          "NEGATIVO",
          "NEGATIVO"
         ],
         "xaxis": "x",
         "y": [
          1,
          1,
          1,
          1,
          1,
          1,
          1,
          1,
          1,
          1,
          1,
          1,
          1,
          1,
          1,
          1,
          1,
          1,
          1,
          1,
          1,
          1,
          1,
          1,
          1,
          1,
          1,
          1,
          1,
          1,
          1,
          1,
          1,
          1,
          1,
          1,
          1,
          1,
          1,
          1,
          1,
          1,
          1,
          1,
          1,
          1,
          1,
          1,
          1,
          1,
          1,
          1,
          1,
          1,
          1,
          1,
          1,
          1,
          1,
          1,
          1,
          1,
          1,
          1,
          1,
          1,
          1,
          1,
          1,
          1,
          1,
          1,
          1,
          1,
          1,
          1,
          1,
          1,
          1,
          1,
          1,
          1,
          1,
          1,
          1,
          1,
          1,
          1,
          1,
          1,
          1,
          1,
          1,
          1,
          1,
          1,
          1,
          1,
          1,
          1,
          1,
          1,
          1,
          1,
          1,
          1,
          1,
          1
         ],
         "yaxis": "y"
        }
       ],
       "layout": {
        "barmode": "relative",
        "legend": {
         "tracegroupgap": 0
        },
        "margin": {
         "t": 60
        },
        "template": {
         "data": {
          "bar": [
           {
            "error_x": {
             "color": "#2a3f5f"
            },
            "error_y": {
             "color": "#2a3f5f"
            },
            "marker": {
             "line": {
              "color": "#E5ECF6",
              "width": 0.5
             },
             "pattern": {
              "fillmode": "overlay",
              "size": 10,
              "solidity": 0.2
             }
            },
            "type": "bar"
           }
          ],
          "barpolar": [
           {
            "marker": {
             "line": {
              "color": "#E5ECF6",
              "width": 0.5
             },
             "pattern": {
              "fillmode": "overlay",
              "size": 10,
              "solidity": 0.2
             }
            },
            "type": "barpolar"
           }
          ],
          "carpet": [
           {
            "aaxis": {
             "endlinecolor": "#2a3f5f",
             "gridcolor": "white",
             "linecolor": "white",
             "minorgridcolor": "white",
             "startlinecolor": "#2a3f5f"
            },
            "baxis": {
             "endlinecolor": "#2a3f5f",
             "gridcolor": "white",
             "linecolor": "white",
             "minorgridcolor": "white",
             "startlinecolor": "#2a3f5f"
            },
            "type": "carpet"
           }
          ],
          "choropleth": [
           {
            "colorbar": {
             "outlinewidth": 0,
             "ticks": ""
            },
            "type": "choropleth"
           }
          ],
          "contour": [
           {
            "colorbar": {
             "outlinewidth": 0,
             "ticks": ""
            },
            "colorscale": [
             [
              0,
              "#0d0887"
             ],
             [
              0.1111111111111111,
              "#46039f"
             ],
             [
              0.2222222222222222,
              "#7201a8"
             ],
             [
              0.3333333333333333,
              "#9c179e"
             ],
             [
              0.4444444444444444,
              "#bd3786"
             ],
             [
              0.5555555555555556,
              "#d8576b"
             ],
             [
              0.6666666666666666,
              "#ed7953"
             ],
             [
              0.7777777777777778,
              "#fb9f3a"
             ],
             [
              0.8888888888888888,
              "#fdca26"
             ],
             [
              1,
              "#f0f921"
             ]
            ],
            "type": "contour"
           }
          ],
          "contourcarpet": [
           {
            "colorbar": {
             "outlinewidth": 0,
             "ticks": ""
            },
            "type": "contourcarpet"
           }
          ],
          "heatmap": [
           {
            "colorbar": {
             "outlinewidth": 0,
             "ticks": ""
            },
            "colorscale": [
             [
              0,
              "#0d0887"
             ],
             [
              0.1111111111111111,
              "#46039f"
             ],
             [
              0.2222222222222222,
              "#7201a8"
             ],
             [
              0.3333333333333333,
              "#9c179e"
             ],
             [
              0.4444444444444444,
              "#bd3786"
             ],
             [
              0.5555555555555556,
              "#d8576b"
             ],
             [
              0.6666666666666666,
              "#ed7953"
             ],
             [
              0.7777777777777778,
              "#fb9f3a"
             ],
             [
              0.8888888888888888,
              "#fdca26"
             ],
             [
              1,
              "#f0f921"
             ]
            ],
            "type": "heatmap"
           }
          ],
          "heatmapgl": [
           {
            "colorbar": {
             "outlinewidth": 0,
             "ticks": ""
            },
            "colorscale": [
             [
              0,
              "#0d0887"
             ],
             [
              0.1111111111111111,
              "#46039f"
             ],
             [
              0.2222222222222222,
              "#7201a8"
             ],
             [
              0.3333333333333333,
              "#9c179e"
             ],
             [
              0.4444444444444444,
              "#bd3786"
             ],
             [
              0.5555555555555556,
              "#d8576b"
             ],
             [
              0.6666666666666666,
              "#ed7953"
             ],
             [
              0.7777777777777778,
              "#fb9f3a"
             ],
             [
              0.8888888888888888,
              "#fdca26"
             ],
             [
              1,
              "#f0f921"
             ]
            ],
            "type": "heatmapgl"
           }
          ],
          "histogram": [
           {
            "marker": {
             "pattern": {
              "fillmode": "overlay",
              "size": 10,
              "solidity": 0.2
             }
            },
            "type": "histogram"
           }
          ],
          "histogram2d": [
           {
            "colorbar": {
             "outlinewidth": 0,
             "ticks": ""
            },
            "colorscale": [
             [
              0,
              "#0d0887"
             ],
             [
              0.1111111111111111,
              "#46039f"
             ],
             [
              0.2222222222222222,
              "#7201a8"
             ],
             [
              0.3333333333333333,
              "#9c179e"
             ],
             [
              0.4444444444444444,
              "#bd3786"
             ],
             [
              0.5555555555555556,
              "#d8576b"
             ],
             [
              0.6666666666666666,
              "#ed7953"
             ],
             [
              0.7777777777777778,
              "#fb9f3a"
             ],
             [
              0.8888888888888888,
              "#fdca26"
             ],
             [
              1,
              "#f0f921"
             ]
            ],
            "type": "histogram2d"
           }
          ],
          "histogram2dcontour": [
           {
            "colorbar": {
             "outlinewidth": 0,
             "ticks": ""
            },
            "colorscale": [
             [
              0,
              "#0d0887"
             ],
             [
              0.1111111111111111,
              "#46039f"
             ],
             [
              0.2222222222222222,
              "#7201a8"
             ],
             [
              0.3333333333333333,
              "#9c179e"
             ],
             [
              0.4444444444444444,
              "#bd3786"
             ],
             [
              0.5555555555555556,
              "#d8576b"
             ],
             [
              0.6666666666666666,
              "#ed7953"
             ],
             [
              0.7777777777777778,
              "#fb9f3a"
             ],
             [
              0.8888888888888888,
              "#fdca26"
             ],
             [
              1,
              "#f0f921"
             ]
            ],
            "type": "histogram2dcontour"
           }
          ],
          "mesh3d": [
           {
            "colorbar": {
             "outlinewidth": 0,
             "ticks": ""
            },
            "type": "mesh3d"
           }
          ],
          "parcoords": [
           {
            "line": {
             "colorbar": {
              "outlinewidth": 0,
              "ticks": ""
             }
            },
            "type": "parcoords"
           }
          ],
          "pie": [
           {
            "automargin": true,
            "type": "pie"
           }
          ],
          "scatter": [
           {
            "fillpattern": {
             "fillmode": "overlay",
             "size": 10,
             "solidity": 0.2
            },
            "type": "scatter"
           }
          ],
          "scatter3d": [
           {
            "line": {
             "colorbar": {
              "outlinewidth": 0,
              "ticks": ""
             }
            },
            "marker": {
             "colorbar": {
              "outlinewidth": 0,
              "ticks": ""
             }
            },
            "type": "scatter3d"
           }
          ],
          "scattercarpet": [
           {
            "marker": {
             "colorbar": {
              "outlinewidth": 0,
              "ticks": ""
             }
            },
            "type": "scattercarpet"
           }
          ],
          "scattergeo": [
           {
            "marker": {
             "colorbar": {
              "outlinewidth": 0,
              "ticks": ""
             }
            },
            "type": "scattergeo"
           }
          ],
          "scattergl": [
           {
            "marker": {
             "colorbar": {
              "outlinewidth": 0,
              "ticks": ""
             }
            },
            "type": "scattergl"
           }
          ],
          "scattermapbox": [
           {
            "marker": {
             "colorbar": {
              "outlinewidth": 0,
              "ticks": ""
             }
            },
            "type": "scattermapbox"
           }
          ],
          "scatterpolar": [
           {
            "marker": {
             "colorbar": {
              "outlinewidth": 0,
              "ticks": ""
             }
            },
            "type": "scatterpolar"
           }
          ],
          "scatterpolargl": [
           {
            "marker": {
             "colorbar": {
              "outlinewidth": 0,
              "ticks": ""
             }
            },
            "type": "scatterpolargl"
           }
          ],
          "scatterternary": [
           {
            "marker": {
             "colorbar": {
              "outlinewidth": 0,
              "ticks": ""
             }
            },
            "type": "scatterternary"
           }
          ],
          "surface": [
           {
            "colorbar": {
             "outlinewidth": 0,
             "ticks": ""
            },
            "colorscale": [
             [
              0,
              "#0d0887"
             ],
             [
              0.1111111111111111,
              "#46039f"
             ],
             [
              0.2222222222222222,
              "#7201a8"
             ],
             [
              0.3333333333333333,
              "#9c179e"
             ],
             [
              0.4444444444444444,
              "#bd3786"
             ],
             [
              0.5555555555555556,
              "#d8576b"
             ],
             [
              0.6666666666666666,
              "#ed7953"
             ],
             [
              0.7777777777777778,
              "#fb9f3a"
             ],
             [
              0.8888888888888888,
              "#fdca26"
             ],
             [
              1,
              "#f0f921"
             ]
            ],
            "type": "surface"
           }
          ],
          "table": [
           {
            "cells": {
             "fill": {
              "color": "#EBF0F8"
             },
             "line": {
              "color": "white"
             }
            },
            "header": {
             "fill": {
              "color": "#C8D4E3"
             },
             "line": {
              "color": "white"
             }
            },
            "type": "table"
           }
          ]
         },
         "layout": {
          "annotationdefaults": {
           "arrowcolor": "#2a3f5f",
           "arrowhead": 0,
           "arrowwidth": 1
          },
          "autotypenumbers": "strict",
          "coloraxis": {
           "colorbar": {
            "outlinewidth": 0,
            "ticks": ""
           }
          },
          "colorscale": {
           "diverging": [
            [
             0,
             "#8e0152"
            ],
            [
             0.1,
             "#c51b7d"
            ],
            [
             0.2,
             "#de77ae"
            ],
            [
             0.3,
             "#f1b6da"
            ],
            [
             0.4,
             "#fde0ef"
            ],
            [
             0.5,
             "#f7f7f7"
            ],
            [
             0.6,
             "#e6f5d0"
            ],
            [
             0.7,
             "#b8e186"
            ],
            [
             0.8,
             "#7fbc41"
            ],
            [
             0.9,
             "#4d9221"
            ],
            [
             1,
             "#276419"
            ]
           ],
           "sequential": [
            [
             0,
             "#0d0887"
            ],
            [
             0.1111111111111111,
             "#46039f"
            ],
            [
             0.2222222222222222,
             "#7201a8"
            ],
            [
             0.3333333333333333,
             "#9c179e"
            ],
            [
             0.4444444444444444,
             "#bd3786"
            ],
            [
             0.5555555555555556,
             "#d8576b"
            ],
            [
             0.6666666666666666,
             "#ed7953"
            ],
            [
             0.7777777777777778,
             "#fb9f3a"
            ],
            [
             0.8888888888888888,
             "#fdca26"
            ],
            [
             1,
             "#f0f921"
            ]
           ],
           "sequentialminus": [
            [
             0,
             "#0d0887"
            ],
            [
             0.1111111111111111,
             "#46039f"
            ],
            [
             0.2222222222222222,
             "#7201a8"
            ],
            [
             0.3333333333333333,
             "#9c179e"
            ],
            [
             0.4444444444444444,
             "#bd3786"
            ],
            [
             0.5555555555555556,
             "#d8576b"
            ],
            [
             0.6666666666666666,
             "#ed7953"
            ],
            [
             0.7777777777777778,
             "#fb9f3a"
            ],
            [
             0.8888888888888888,
             "#fdca26"
            ],
            [
             1,
             "#f0f921"
            ]
           ]
          },
          "colorway": [
           "#636efa",
           "#EF553B",
           "#00cc96",
           "#ab63fa",
           "#FFA15A",
           "#19d3f3",
           "#FF6692",
           "#B6E880",
           "#FF97FF",
           "#FECB52"
          ],
          "font": {
           "color": "#2a3f5f"
          },
          "geo": {
           "bgcolor": "white",
           "lakecolor": "white",
           "landcolor": "#E5ECF6",
           "showlakes": true,
           "showland": true,
           "subunitcolor": "white"
          },
          "hoverlabel": {
           "align": "left"
          },
          "hovermode": "closest",
          "mapbox": {
           "style": "light"
          },
          "paper_bgcolor": "white",
          "plot_bgcolor": "#E5ECF6",
          "polar": {
           "angularaxis": {
            "gridcolor": "white",
            "linecolor": "white",
            "ticks": ""
           },
           "bgcolor": "#E5ECF6",
           "radialaxis": {
            "gridcolor": "white",
            "linecolor": "white",
            "ticks": ""
           }
          },
          "scene": {
           "xaxis": {
            "backgroundcolor": "#E5ECF6",
            "gridcolor": "white",
            "gridwidth": 2,
            "linecolor": "white",
            "showbackground": true,
            "ticks": "",
            "zerolinecolor": "white"
           },
           "yaxis": {
            "backgroundcolor": "#E5ECF6",
            "gridcolor": "white",
            "gridwidth": 2,
            "linecolor": "white",
            "showbackground": true,
            "ticks": "",
            "zerolinecolor": "white"
           },
           "zaxis": {
            "backgroundcolor": "#E5ECF6",
            "gridcolor": "white",
            "gridwidth": 2,
            "linecolor": "white",
            "showbackground": true,
            "ticks": "",
            "zerolinecolor": "white"
           }
          },
          "shapedefaults": {
           "line": {
            "color": "#2a3f5f"
           }
          },
          "ternary": {
           "aaxis": {
            "gridcolor": "white",
            "linecolor": "white",
            "ticks": ""
           },
           "baxis": {
            "gridcolor": "white",
            "linecolor": "white",
            "ticks": ""
           },
           "bgcolor": "#E5ECF6",
           "caxis": {
            "gridcolor": "white",
            "linecolor": "white",
            "ticks": ""
           }
          },
          "title": {
           "x": 0.05
          },
          "xaxis": {
           "automargin": true,
           "gridcolor": "white",
           "linecolor": "white",
           "ticks": "",
           "title": {
            "standoff": 15
           },
           "zerolinecolor": "white",
           "zerolinewidth": 2
          },
          "yaxis": {
           "automargin": true,
           "gridcolor": "white",
           "linecolor": "white",
           "ticks": "",
           "title": {
            "standoff": 15
           },
           "zerolinecolor": "white",
           "zerolinewidth": 2
          }
         }
        },
        "xaxis": {
         "anchor": "y",
         "domain": [
          0,
          1
         ],
         "title": {
          "text": "x"
         }
        },
        "yaxis": {
         "anchor": "x",
         "domain": [
          0,
          1
         ],
         "title": {
          "text": "count"
         }
        }
       }
      }
     },
     "metadata": {},
     "output_type": "display_data"
    }
   ],
   "source": [
    "teste = pd.read_excel(dataSet, sheet_name='TESTE_15%')\n",
    "\n",
    "fig = px.bar(teste['text'], x=teste['rotulo'])\n",
    "fig.show()"
   ]
  },
  {
   "cell_type": "markdown",
   "metadata": {},
   "source": [
    "___\n",
    "\n",
    "### **Classificação e Limpeza dos Dados**\n",
    "\n",
    "- Inicialmente, retiramos todos os retweets presentes no dataset;\n",
    "\n",
    "- Em seguida, definimos os tipos de classificação dos dados, conforme abaixo:\n",
    ">   - **Contexto:** Precisa de contexto para ser entendido\n",
    ">   - **Positivo:**  Mensagens positivas: Elogios, enaltecimento de candidato, etc.\n",
    ">   - **Negativo:** Mensagens negativas: Ofensas, xingamentos, desmerecer propostas.\n",
    ">   - **Ironia:** Sentido contrario da mensagem\n",
    ">   - **Neutro:** Nem negativo nem positivo. Somente descritivo (narração de fatos)\n",
    ">   - **Confuso:** Não foi possível interpretar o significado do texto\n",
    ">   - **Dividir:** Mensagens positivas e negativas com possibilidade de quebra para geração de novos textos\n",
    "\n",
    "- Após a definição dos tipos de classificação, começamos a classificar individualmente e manualmente, um por um;\n",
    "\n",
    "- Depois da classificação individual, realizamos uma revisão geral em grupo, onde foram ponderadas e debatidas as classificações, também de forma manual, percorrendo por todas as linhas do dataset;"
   ]
  },
  {
   "cell_type": "markdown",
   "metadata": {},
   "source": [
    "___\n",
    "\n",
    "### **Normalização dos dados**\n",
    "\n",
    "Para normalizar os dados, utilizamos de algumas ferramentas e técnicas a fim de garantir um melhor resultado pelo algoritmo, assim realizamos os seguintes passos:\n"
   ]
  },
  {
   "cell_type": "markdown",
   "metadata": {},
   "source": [
    "*Inicialmente, todo o input foi transformado para caixa baixa, as quebras de linha foram removidas do texto e os espaços duplos foram transformados em espaço único*"
   ]
  },
  {
   "cell_type": "code",
   "execution_count": 741,
   "metadata": {},
   "outputs": [],
   "source": [
    "def toLower(input):\n",
    "    return input.lower()\n",
    "\n",
    "def removeLinesBreaks(input):\n",
    "    return reg.sub('\\\\\\\\n{1,}|\\\\\\\\r{1,}', ' ', input, reg.IGNORECASE, reg.MULTILINE)\n",
    "\n",
    "def removeDoubleSpaces(input):\n",
    "    return reg.sub('\\\\s{2,}', ' ', input, reg.IGNORECASE, reg.MULTILINE)\n",
    "\n",
    "def applyRegex(input):\n",
    "    regexs = open(filenameRegexToBeApplied, 'r', encoding='UTF-8', newline='\\n')\n",
    "    for regex in regexs.readlines():  \n",
    "        teste = reg.sub(regex, ' ', input, reg.IGNORECASE, reg.MULTILINE)\n",
    "        input = teste\n",
    "    return input"
   ]
  },
  {
   "cell_type": "code",
   "execution_count": 742,
   "metadata": {},
   "outputs": [],
   "source": [
    "def applyStemmer(input):\n",
    "\n",
    "    input = reg.sub('\\\\s{2,}', ' ', input, reg.IGNORECASE, reg.MULTILINE).split(' ')\n",
    "    input = filter(lambda x: x != ' ' and x != '', input)\n",
    "\n",
    "    palavras = [stemmer.stem(palavra) for palavra in input]\n",
    "\n",
    "    input = ''\n",
    "\n",
    "    for palavra in palavras:\n",
    "        input += palavra + ' '\n",
    "\n",
    "    return reg.sub('\\\\s{2,}', ' ', input, reg.IGNORECASE, reg.MULTILINE)\n"
   ]
  },
  {
   "cell_type": "markdown",
   "metadata": {},
   "source": [
    "*Em seguida, utilizando um arquivo customizado desenvolvido pelo grupo, transformamos palavras e nomes com diversas variações para uma forma única, como por exemplo, Você ou vc para voce*"
   ]
  },
  {
   "cell_type": "code",
   "execution_count": 743,
   "metadata": {},
   "outputs": [],
   "source": [
    "def dePara(input):\n",
    "    deParas = open(fileNameDeParas, 'r', encoding='UTF-8', newline='\\n')\n",
    "    for dePara in deParas.readlines():\n",
    "        dePara = dePara.split('(-*-)')\n",
    "        input = reg.sub(dePara[0], dePara[1], input, reg.IGNORECASE, reg.MULTILINE)\n",
    "    return input"
   ]
  },
  {
   "cell_type": "markdown",
   "metadata": {},
   "source": [
    "*Após a transformação das palavras, utilizamos a técnica de stop words para remover as palavras que não trazem significado para o texto, como por exemplo, os artigos: a, as, o, os*"
   ]
  },
  {
   "cell_type": "code",
   "execution_count": 744,
   "metadata": {},
   "outputs": [],
   "source": [
    "def removeStopWords(input):\n",
    "    stopWrods = open(filenameStopWords, 'r', encoding='UTF-8', newline='\\r\\n')\n",
    "    for stopWord in stopWrods.readlines():\n",
    "        stopWord = unidecode.unidecode(stopWord)\n",
    "        stopWord = reg.sub('\\r\\n', '', stopWord)\n",
    "        input = reg.sub(stopWord, '', input, reg.IGNORECASE, reg.MULTILINE)\n",
    "    return input"
   ]
  },
  {
   "cell_type": "markdown",
   "metadata": {},
   "source": [
    "*Ainda no processo de normalização, removemos todos os acentos das palavras do dataset, a fim de padronizar os dados para posterior análise pelo algoritmo*"
   ]
  },
  {
   "cell_type": "code",
   "execution_count": 745,
   "metadata": {},
   "outputs": [],
   "source": [
    "def removeAcentuacao(input):\n",
    "    return unidecode.unidecode(input)"
   ]
  },
  {
   "cell_type": "markdown",
   "metadata": {},
   "source": [
    "Por fim, juntamos as etapas de normalização em uma unica função. Assim podemos utiliza-la de maneira mais fácil."
   ]
  },
  {
   "cell_type": "code",
   "execution_count": 746,
   "metadata": {},
   "outputs": [],
   "source": [
    "def normaliza(dataFrame):\n",
    "    listAux = []\n",
    "    for line in dataFrame.values:\n",
    "        line[1] = removeDoubleSpaces(applyStemmer(dePara(removeLinesBreaks(removeAcentuacao(removeStopWords(toLower(unidecode.unidecode(line[1]))))))))\n",
    "        listAux.append(line)\n",
    "    return pd.DataFrame(listAux)"
   ]
  },
  {
   "cell_type": "code",
   "execution_count": 747,
   "metadata": {},
   "outputs": [],
   "source": [
    "rotulados = normaliza(rotulados)"
   ]
  },
  {
   "cell_type": "markdown",
   "metadata": {},
   "source": [
    "___\n",
    "\n",
    "### **Criação dos conjuntos de treino, teste e validação**\n",
    "\n",
    "- A partir de todo o conjunto de dados classificado, foram mantidos apenas os valores positivos e negativos (Ironias e confusões foram removidas e divisões possíveis não foram realizadas)\n",
    "\n",
    "- Ordenamos por ordem alfabetica para retirar os textos duplicados do conjunto de dados\n",
    "\n",
    "- Utilizando o tipo de dado com menor amostras (POSITIVO), foi determinado 70% de suas linhas, a quantidade necessária para o conjunto de treino.\n",
    "\n",
    "- Antes de obter os dados e alocar-los no conjunto de treino, sua ordenação foi aleatorizada para abrangir uma quantidade maior de textos.\n",
    "\n",
    "- Após aleatorizar foram colocados no conjunto de treino, com quantidades iguais de positivos e negativos.\n",
    "\n",
    "- Posteriormente foram criados os conjuntos de testes e validação, ambos com 15% cada, do total de amostras do tipo POSITIVO (com menor amostras), com os valores também ordenados de forma aleatória, mas balanceados entre positivos e negativos"
   ]
  },
  {
   "cell_type": "markdown",
   "metadata": {},
   "source": [
    "___\n",
    "\n",
    "### **Bag of Words**\n",
    "\n",
    " Para realizar a bag of words precisamos converter o texto para um formato que a máquina consiga entender, pois ela não compreende texto nem caracteres. Para isso, utilizamos o método CountVectorizer, cuja finalidade é converter as palavras para o número de sua frequência. Dessa forma, se tivermos o seguinte texto:\n",
    "\n",
    " - text = [‘Oi, meu nome é lucas, esse é meu python notebook’]\n",
    " \n",
    " O CountVectorizer vai converter para:\n",
    "\n",
    " - Oi: 1, é: 2, lucas: 1, esse: 1, meu: 2, python: 1, notebook: 1\n",
    "\n",
    "\n",
    "\n"
   ]
  },
  {
   "cell_type": "code",
   "execution_count": 748,
   "metadata": {},
   "outputs": [],
   "source": [
    "from sklearn.feature_extraction.text import CountVectorizer\n",
    "from sklearn.feature_extraction.text import TfidfTransformer\n",
    "\n",
    "tfi = TfidfTransformer(use_idf=True)\n",
    "vectorizer = CountVectorizer(analyzer = \"word\")\n",
    "normaliza(treino)\n",
    "\n",
    "treino_tweets = treino[\"text\"].values\n",
    "treino_classificacao = treino[\"rotulo\"].values\n",
    "\n",
    "vec_treino = vectorizer.fit_transform(treino_tweets)\n",
    "freq_treino = tfi.fit_transform(vec_treino)"
   ]
  },
  {
   "cell_type": "markdown",
   "metadata": {},
   "source": [
    "Bag of Words dataset de validacação"
   ]
  },
  {
   "cell_type": "code",
   "execution_count": 749,
   "metadata": {},
   "outputs": [],
   "source": [
    "validacao = pd.read_excel(dataSet, sheet_name='VALIDACAO_15%')\n",
    "normaliza(validacao)\n",
    "\n",
    "validacao_tweets = validacao[\"text\"].values\n",
    "validacao_classificacao = validacao[\"rotulo\"].values\n",
    "\n",
    "vec_validacao = vectorizer.transform(validacao_tweets)\n",
    "freq_validacao = tfi.transform(vec_validacao)"
   ]
  },
  {
   "cell_type": "markdown",
   "metadata": {},
   "source": [
    "Bag of Words dataset de testes"
   ]
  },
  {
   "cell_type": "code",
   "execution_count": 750,
   "metadata": {},
   "outputs": [],
   "source": [
    "testes = pd.read_excel(dataSet, sheet_name='TESTE_15%')\n",
    "normaliza(testes)\n",
    "\n",
    "testes_tweets = testes[\"text\"].values\n",
    "testes_classificacao = testes[\"rotulo\"].values\n",
    "\n",
    "vec_testes = vectorizer.transform(testes_tweets)\n",
    "freq_testes= tfi.transform(vec_testes)"
   ]
  },
  {
   "cell_type": "markdown",
   "metadata": {},
   "source": [
    "Biblioteca de métricas e cross-validation"
   ]
  },
  {
   "cell_type": "code",
   "execution_count": 751,
   "metadata": {},
   "outputs": [],
   "source": [
    "from sklearn import metrics\n",
    "from sklearn.model_selection import cross_val_predict\n",
    "import re"
   ]
  },
  {
   "cell_type": "markdown",
   "metadata": {},
   "source": [
    "___\n",
    "\n",
    "### **Algoritmos de Machine Learning**\n",
    "\n",
    "*Para a criação dos modelos, utilizamos o método de cross validation, o qual realiza a validação cruzada do modelo. Neste caso, o modelo é dividido em 20 partes, treinado em 19 e testado em 1, assim não utilizando o dataset de validação*\n",
    "\n",
    "#### *Naive Bayes:*"
   ]
  },
  {
   "cell_type": "code",
   "execution_count": 752,
   "metadata": {},
   "outputs": [
    {
     "data": {
      "text/html": [
       "<div>\n",
       "<style scoped>\n",
       "    .dataframe tbody tr th:only-of-type {\n",
       "        vertical-align: middle;\n",
       "    }\n",
       "\n",
       "    .dataframe tbody tr th {\n",
       "        vertical-align: top;\n",
       "    }\n",
       "\n",
       "    .dataframe thead th {\n",
       "        text-align: right;\n",
       "    }\n",
       "</style>\n",
       "<table border=\"1\" class=\"dataframe\">\n",
       "  <thead>\n",
       "    <tr style=\"text-align: right;\">\n",
       "      <th></th>\n",
       "      <th>Tweets</th>\n",
       "      <th>Rótulos obtidos</th>\n",
       "      <th>Rótulos esperados</th>\n",
       "    </tr>\n",
       "  </thead>\n",
       "  <tbody>\n",
       "    <tr>\n",
       "      <th>0</th>\n",
       "      <td>heinz progress prop mudanc transport publ regi...</td>\n",
       "      <td>POSITIVO</td>\n",
       "      <td>POSITIVO</td>\n",
       "    </tr>\n",
       "    <tr>\n",
       "      <th>1</th>\n",
       "      <td>@bandr obrig eduardo_leit invest tant saud #un...</td>\n",
       "      <td>POSITIVO</td>\n",
       "      <td>POSITIVO</td>\n",
       "    </tr>\n",
       "    <tr>\n",
       "      <th>2</th>\n",
       "      <td>@bandr fech eduardo_leit #uniaobrasilr #marcel...</td>\n",
       "      <td>POSITIVO</td>\n",
       "      <td>POSITIVO</td>\n",
       "    </tr>\n",
       "    <tr>\n",
       "      <th>3</th>\n",
       "      <td>edegar_prett deput vot part tre eleico partici...</td>\n",
       "      <td>POSITIVO</td>\n",
       "      <td>POSITIVO</td>\n",
       "    </tr>\n",
       "    <tr>\n",
       "      <th>4</th>\n",
       "      <td>@frenteampla13 unic candidat fal invest invest...</td>\n",
       "      <td>POSITIVO</td>\n",
       "      <td>POSITIVO</td>\n",
       "    </tr>\n",
       "    <tr>\n",
       "      <th>...</th>\n",
       "      <td>...</td>\n",
       "      <td>...</td>\n",
       "      <td>...</td>\n",
       "    </tr>\n",
       "    <tr>\n",
       "      <th>103</th>\n",
       "      <td>eduardo_leit porqu pag pis salar profes rio_gr...</td>\n",
       "      <td>NEGATIVO</td>\n",
       "      <td>NEGATIVO</td>\n",
       "    </tr>\n",
       "    <tr>\n",
       "      <th>104</th>\n",
       "      <td>porqu tant candidat era mont seguint chap edeg...</td>\n",
       "      <td>NEGATIVO</td>\n",
       "      <td>NEGATIVO</td>\n",
       "    </tr>\n",
       "    <tr>\n",
       "      <th>105</th>\n",
       "      <td>\"bolsoleite\" hoj \"denunciando\" falt invest fed...</td>\n",
       "      <td>NEGATIVO</td>\n",
       "      <td>NEGATIVO</td>\n",
       "    </tr>\n",
       "    <tr>\n",
       "      <th>106</th>\n",
       "      <td>escolh sim onyx escolh mort aind deix clar viv...</td>\n",
       "      <td>NEGATIVO</td>\n",
       "      <td>NEGATIVO</td>\n",
       "    </tr>\n",
       "    <tr>\n",
       "      <th>107</th>\n",
       "      <td>vari tem aparec #debatenabandr agor candidat p...</td>\n",
       "      <td>NEGATIVO</td>\n",
       "      <td>NEGATIVO</td>\n",
       "    </tr>\n",
       "  </tbody>\n",
       "</table>\n",
       "<p>108 rows × 3 columns</p>\n",
       "</div>"
      ],
      "text/plain": [
       "                                                Tweets Rótulos obtidos  \\\n",
       "0    heinz progress prop mudanc transport publ regi...        POSITIVO   \n",
       "1    @bandr obrig eduardo_leit invest tant saud #un...        POSITIVO   \n",
       "2    @bandr fech eduardo_leit #uniaobrasilr #marcel...        POSITIVO   \n",
       "3    edegar_prett deput vot part tre eleico partici...        POSITIVO   \n",
       "4    @frenteampla13 unic candidat fal invest invest...        POSITIVO   \n",
       "..                                                 ...             ...   \n",
       "103  eduardo_leit porqu pag pis salar profes rio_gr...        NEGATIVO   \n",
       "104  porqu tant candidat era mont seguint chap edeg...        NEGATIVO   \n",
       "105  \"bolsoleite\" hoj \"denunciando\" falt invest fed...        NEGATIVO   \n",
       "106  escolh sim onyx escolh mort aind deix clar viv...        NEGATIVO   \n",
       "107  vari tem aparec #debatenabandr agor candidat p...        NEGATIVO   \n",
       "\n",
       "    Rótulos esperados  \n",
       "0            POSITIVO  \n",
       "1            POSITIVO  \n",
       "2            POSITIVO  \n",
       "3            POSITIVO  \n",
       "4            POSITIVO  \n",
       "..                ...  \n",
       "103          NEGATIVO  \n",
       "104          NEGATIVO  \n",
       "105          NEGATIVO  \n",
       "106          NEGATIVO  \n",
       "107          NEGATIVO  \n",
       "\n",
       "[108 rows x 3 columns]"
      ]
     },
     "execution_count": 752,
     "metadata": {},
     "output_type": "execute_result"
    }
   ],
   "source": [
    "from sklearn.naive_bayes import MultinomialNB\n",
    "#pd.set_option('display.max_rows', 110) #printa todas as linhas\n",
    "\n",
    "modeloNB = MultinomialNB()\n",
    "modeloNB.fit(freq_treino, treino_classificacao)\n",
    "\n",
    "predicao = modeloNB.predict(freq_testes)\n",
    "\n",
    "df_resultados = pd.DataFrame(data = { \"Tweets\": testes_tweets, \"Rótulos obtidos\": predicao, \"Rótulos esperados\": testes_classificacao })\n",
    "df_resultados"
   ]
  },
  {
   "cell_type": "markdown",
   "metadata": {},
   "source": [
    "##### *Análise dos resultados obtidos com o NB*"
   ]
  },
  {
   "cell_type": "code",
   "execution_count": 753,
   "metadata": {},
   "outputs": [
    {
     "name": "stdout",
     "output_type": "stream",
     "text": [
      "Acurácia:  0.80 %\n",
      "\n",
      "              precision    recall  f1-score   support\n",
      "\n",
      "    POSITIVO       0.86      0.73      0.79       248\n",
      "    NEGATIVO       0.76      0.88      0.82       248\n",
      "\n",
      "    accuracy                           0.80       496\n",
      "   macro avg       0.81      0.80      0.80       496\n",
      "weighted avg       0.81      0.80      0.80       496\n",
      "\n"
     ]
    }
   ],
   "source": [
    "resultados = cross_val_predict(modeloNB, freq_treino, treino_classificacao, cv = 10)\n",
    "acrNB = metrics.accuracy_score(treino_classificacao, resultados)\n",
    "\n",
    "print(\"Acurácia: \", \"%.2f\" % acrNB ,\"%\\n\")\n",
    "print(metrics.classification_report(treino_classificacao, resultados, target_names=['POSITIVO', 'NEGATIVO']))"
   ]
  },
  {
   "cell_type": "markdown",
   "metadata": {},
   "source": [
    "#### *Logistic Regression:*"
   ]
  },
  {
   "cell_type": "code",
   "execution_count": 754,
   "metadata": {},
   "outputs": [
    {
     "data": {
      "text/html": [
       "<div>\n",
       "<style scoped>\n",
       "    .dataframe tbody tr th:only-of-type {\n",
       "        vertical-align: middle;\n",
       "    }\n",
       "\n",
       "    .dataframe tbody tr th {\n",
       "        vertical-align: top;\n",
       "    }\n",
       "\n",
       "    .dataframe thead th {\n",
       "        text-align: right;\n",
       "    }\n",
       "</style>\n",
       "<table border=\"1\" class=\"dataframe\">\n",
       "  <thead>\n",
       "    <tr style=\"text-align: right;\">\n",
       "      <th></th>\n",
       "      <th>Tweets</th>\n",
       "      <th>Rótulos obtidos</th>\n",
       "      <th>Rótulos esperados</th>\n",
       "    </tr>\n",
       "  </thead>\n",
       "  <tbody>\n",
       "    <tr>\n",
       "      <th>0</th>\n",
       "      <td>heinz progress prop mudanc transport publ regi...</td>\n",
       "      <td>NEGATIVO</td>\n",
       "      <td>POSITIVO</td>\n",
       "    </tr>\n",
       "    <tr>\n",
       "      <th>1</th>\n",
       "      <td>@bandr obrig eduardo_leit invest tant saud #un...</td>\n",
       "      <td>POSITIVO</td>\n",
       "      <td>POSITIVO</td>\n",
       "    </tr>\n",
       "    <tr>\n",
       "      <th>2</th>\n",
       "      <td>@bandr fech eduardo_leit #uniaobrasilr #marcel...</td>\n",
       "      <td>POSITIVO</td>\n",
       "      <td>POSITIVO</td>\n",
       "    </tr>\n",
       "    <tr>\n",
       "      <th>3</th>\n",
       "      <td>edegar_prett deput vot part tre eleico partici...</td>\n",
       "      <td>POSITIVO</td>\n",
       "      <td>POSITIVO</td>\n",
       "    </tr>\n",
       "    <tr>\n",
       "      <th>4</th>\n",
       "      <td>@frenteampla13 unic candidat fal invest invest...</td>\n",
       "      <td>POSITIVO</td>\n",
       "      <td>POSITIVO</td>\n",
       "    </tr>\n",
       "    <tr>\n",
       "      <th>...</th>\n",
       "      <td>...</td>\n",
       "      <td>...</td>\n",
       "      <td>...</td>\n",
       "    </tr>\n",
       "    <tr>\n",
       "      <th>103</th>\n",
       "      <td>eduardo_leit porqu pag pis salar profes rio_gr...</td>\n",
       "      <td>NEGATIVO</td>\n",
       "      <td>NEGATIVO</td>\n",
       "    </tr>\n",
       "    <tr>\n",
       "      <th>104</th>\n",
       "      <td>porqu tant candidat era mont seguint chap edeg...</td>\n",
       "      <td>NEGATIVO</td>\n",
       "      <td>NEGATIVO</td>\n",
       "    </tr>\n",
       "    <tr>\n",
       "      <th>105</th>\n",
       "      <td>\"bolsoleite\" hoj \"denunciando\" falt invest fed...</td>\n",
       "      <td>NEGATIVO</td>\n",
       "      <td>NEGATIVO</td>\n",
       "    </tr>\n",
       "    <tr>\n",
       "      <th>106</th>\n",
       "      <td>escolh sim onyx escolh mort aind deix clar viv...</td>\n",
       "      <td>NEGATIVO</td>\n",
       "      <td>NEGATIVO</td>\n",
       "    </tr>\n",
       "    <tr>\n",
       "      <th>107</th>\n",
       "      <td>vari tem aparec #debatenabandr agor candidat p...</td>\n",
       "      <td>NEGATIVO</td>\n",
       "      <td>NEGATIVO</td>\n",
       "    </tr>\n",
       "  </tbody>\n",
       "</table>\n",
       "<p>108 rows × 3 columns</p>\n",
       "</div>"
      ],
      "text/plain": [
       "                                                Tweets Rótulos obtidos  \\\n",
       "0    heinz progress prop mudanc transport publ regi...        NEGATIVO   \n",
       "1    @bandr obrig eduardo_leit invest tant saud #un...        POSITIVO   \n",
       "2    @bandr fech eduardo_leit #uniaobrasilr #marcel...        POSITIVO   \n",
       "3    edegar_prett deput vot part tre eleico partici...        POSITIVO   \n",
       "4    @frenteampla13 unic candidat fal invest invest...        POSITIVO   \n",
       "..                                                 ...             ...   \n",
       "103  eduardo_leit porqu pag pis salar profes rio_gr...        NEGATIVO   \n",
       "104  porqu tant candidat era mont seguint chap edeg...        NEGATIVO   \n",
       "105  \"bolsoleite\" hoj \"denunciando\" falt invest fed...        NEGATIVO   \n",
       "106  escolh sim onyx escolh mort aind deix clar viv...        NEGATIVO   \n",
       "107  vari tem aparec #debatenabandr agor candidat p...        NEGATIVO   \n",
       "\n",
       "    Rótulos esperados  \n",
       "0            POSITIVO  \n",
       "1            POSITIVO  \n",
       "2            POSITIVO  \n",
       "3            POSITIVO  \n",
       "4            POSITIVO  \n",
       "..                ...  \n",
       "103          NEGATIVO  \n",
       "104          NEGATIVO  \n",
       "105          NEGATIVO  \n",
       "106          NEGATIVO  \n",
       "107          NEGATIVO  \n",
       "\n",
       "[108 rows x 3 columns]"
      ]
     },
     "execution_count": 754,
     "metadata": {},
     "output_type": "execute_result"
    }
   ],
   "source": [
    "from sklearn.linear_model import LogisticRegression\n",
    "#pd.set_option('display.max_rows', 110) #printa todas as linhas\n",
    "\n",
    "modeloLR = LogisticRegression(C = 2, max_iter = 1000, n_jobs=-1)\n",
    "modeloLR.fit(freq_treino, treino_classificacao)\n",
    "\n",
    "predicao = modeloLR.predict(freq_testes)\n",
    "\n",
    "df_resultados = pd.DataFrame(data = { \"Tweets\": testes_tweets, \"Rótulos obtidos\": predicao, \"Rótulos esperados\": testes_classificacao })\n",
    "df_resultados"
   ]
  },
  {
   "cell_type": "markdown",
   "metadata": {},
   "source": [
    "##### *Análise dos resultados obtidos com o LP*"
   ]
  },
  {
   "cell_type": "code",
   "execution_count": 755,
   "metadata": {},
   "outputs": [
    {
     "name": "stdout",
     "output_type": "stream",
     "text": [
      "Acurácia:  0.85 %\n",
      "\n",
      "              precision    recall  f1-score   support\n",
      "\n",
      "    POSITIVO       0.82      0.89      0.85       248\n",
      "    NEGATIVO       0.88      0.81      0.84       248\n",
      "\n",
      "    accuracy                           0.85       496\n",
      "   macro avg       0.85      0.85      0.85       496\n",
      "weighted avg       0.85      0.85      0.85       496\n",
      "\n"
     ]
    }
   ],
   "source": [
    "resultados = cross_val_predict(modeloLR, freq_treino, treino_classificacao, cv = 10)\n",
    "acrLP = metrics.accuracy_score(treino_classificacao, resultados)\n",
    "\n",
    "print(\"Acurácia: \", \"%.2f\" % acrLP ,\"%\\n\")\n",
    "print(metrics.classification_report(treino_classificacao, resultados, target_names=['POSITIVO', 'NEGATIVO']))"
   ]
  },
  {
   "cell_type": "markdown",
   "metadata": {},
   "source": [
    "#### *KNN:*"
   ]
  },
  {
   "cell_type": "code",
   "execution_count": 756,
   "metadata": {},
   "outputs": [
    {
     "data": {
      "text/html": [
       "<div>\n",
       "<style scoped>\n",
       "    .dataframe tbody tr th:only-of-type {\n",
       "        vertical-align: middle;\n",
       "    }\n",
       "\n",
       "    .dataframe tbody tr th {\n",
       "        vertical-align: top;\n",
       "    }\n",
       "\n",
       "    .dataframe thead th {\n",
       "        text-align: right;\n",
       "    }\n",
       "</style>\n",
       "<table border=\"1\" class=\"dataframe\">\n",
       "  <thead>\n",
       "    <tr style=\"text-align: right;\">\n",
       "      <th></th>\n",
       "      <th>Tweets</th>\n",
       "      <th>Rótulos obtidos</th>\n",
       "      <th>Rótulos esperados</th>\n",
       "    </tr>\n",
       "  </thead>\n",
       "  <tbody>\n",
       "    <tr>\n",
       "      <th>0</th>\n",
       "      <td>heinz progress prop mudanc transport publ regi...</td>\n",
       "      <td>POSITIVO</td>\n",
       "      <td>POSITIVO</td>\n",
       "    </tr>\n",
       "    <tr>\n",
       "      <th>1</th>\n",
       "      <td>@bandr obrig eduardo_leit invest tant saud #un...</td>\n",
       "      <td>POSITIVO</td>\n",
       "      <td>POSITIVO</td>\n",
       "    </tr>\n",
       "    <tr>\n",
       "      <th>2</th>\n",
       "      <td>@bandr fech eduardo_leit #uniaobrasilr #marcel...</td>\n",
       "      <td>POSITIVO</td>\n",
       "      <td>POSITIVO</td>\n",
       "    </tr>\n",
       "    <tr>\n",
       "      <th>3</th>\n",
       "      <td>edegar_prett deput vot part tre eleico partici...</td>\n",
       "      <td>POSITIVO</td>\n",
       "      <td>POSITIVO</td>\n",
       "    </tr>\n",
       "    <tr>\n",
       "      <th>4</th>\n",
       "      <td>@frenteampla13 unic candidat fal invest invest...</td>\n",
       "      <td>POSITIVO</td>\n",
       "      <td>POSITIVO</td>\n",
       "    </tr>\n",
       "    <tr>\n",
       "      <th>...</th>\n",
       "      <td>...</td>\n",
       "      <td>...</td>\n",
       "      <td>...</td>\n",
       "    </tr>\n",
       "    <tr>\n",
       "      <th>103</th>\n",
       "      <td>eduardo_leit porqu pag pis salar profes rio_gr...</td>\n",
       "      <td>POSITIVO</td>\n",
       "      <td>NEGATIVO</td>\n",
       "    </tr>\n",
       "    <tr>\n",
       "      <th>104</th>\n",
       "      <td>porqu tant candidat era mont seguint chap edeg...</td>\n",
       "      <td>NEGATIVO</td>\n",
       "      <td>NEGATIVO</td>\n",
       "    </tr>\n",
       "    <tr>\n",
       "      <th>105</th>\n",
       "      <td>\"bolsoleite\" hoj \"denunciando\" falt invest fed...</td>\n",
       "      <td>NEGATIVO</td>\n",
       "      <td>NEGATIVO</td>\n",
       "    </tr>\n",
       "    <tr>\n",
       "      <th>106</th>\n",
       "      <td>escolh sim onyx escolh mort aind deix clar viv...</td>\n",
       "      <td>NEGATIVO</td>\n",
       "      <td>NEGATIVO</td>\n",
       "    </tr>\n",
       "    <tr>\n",
       "      <th>107</th>\n",
       "      <td>vari tem aparec #debatenabandr agor candidat p...</td>\n",
       "      <td>POSITIVO</td>\n",
       "      <td>NEGATIVO</td>\n",
       "    </tr>\n",
       "  </tbody>\n",
       "</table>\n",
       "<p>108 rows × 3 columns</p>\n",
       "</div>"
      ],
      "text/plain": [
       "                                                Tweets Rótulos obtidos  \\\n",
       "0    heinz progress prop mudanc transport publ regi...        POSITIVO   \n",
       "1    @bandr obrig eduardo_leit invest tant saud #un...        POSITIVO   \n",
       "2    @bandr fech eduardo_leit #uniaobrasilr #marcel...        POSITIVO   \n",
       "3    edegar_prett deput vot part tre eleico partici...        POSITIVO   \n",
       "4    @frenteampla13 unic candidat fal invest invest...        POSITIVO   \n",
       "..                                                 ...             ...   \n",
       "103  eduardo_leit porqu pag pis salar profes rio_gr...        POSITIVO   \n",
       "104  porqu tant candidat era mont seguint chap edeg...        NEGATIVO   \n",
       "105  \"bolsoleite\" hoj \"denunciando\" falt invest fed...        NEGATIVO   \n",
       "106  escolh sim onyx escolh mort aind deix clar viv...        NEGATIVO   \n",
       "107  vari tem aparec #debatenabandr agor candidat p...        POSITIVO   \n",
       "\n",
       "    Rótulos esperados  \n",
       "0            POSITIVO  \n",
       "1            POSITIVO  \n",
       "2            POSITIVO  \n",
       "3            POSITIVO  \n",
       "4            POSITIVO  \n",
       "..                ...  \n",
       "103          NEGATIVO  \n",
       "104          NEGATIVO  \n",
       "105          NEGATIVO  \n",
       "106          NEGATIVO  \n",
       "107          NEGATIVO  \n",
       "\n",
       "[108 rows x 3 columns]"
      ]
     },
     "execution_count": 756,
     "metadata": {},
     "output_type": "execute_result"
    }
   ],
   "source": [
    "from sklearn.neighbors import KNeighborsClassifier\n",
    "\n",
    "modeloKNN = KNeighborsClassifier(n_neighbors=9,algorithm='brute') #Using brute-force algorithm for quicker computation.\n",
    "modeloKNN.fit(freq_treino, treino_classificacao)\n",
    "\n",
    "predicao = modeloKNN.predict(freq_testes)\n",
    "\n",
    "df_resultados = pd.DataFrame(data = { \"Tweets\": testes_tweets, \"Rótulos obtidos\": predicao, \"Rótulos esperados\": testes_classificacao })\n",
    "df_resultados\n"
   ]
  },
  {
   "cell_type": "markdown",
   "metadata": {},
   "source": [
    "##### *Análise dos resultados obtidos com o KNN*\n"
   ]
  },
  {
   "cell_type": "code",
   "execution_count": 757,
   "metadata": {},
   "outputs": [
    {
     "name": "stdout",
     "output_type": "stream",
     "text": [
      "Acurácia:  0.76 %\n",
      "\n",
      "              precision    recall  f1-score   support\n",
      "\n",
      "    POSITIVO       0.88      0.60      0.71       248\n",
      "    NEGATIVO       0.70      0.92      0.79       248\n",
      "\n",
      "    accuracy                           0.76       496\n",
      "   macro avg       0.79      0.76      0.75       496\n",
      "weighted avg       0.79      0.76      0.75       496\n",
      "\n"
     ]
    }
   ],
   "source": [
    "resultados = cross_val_predict(modeloKNN, freq_treino, treino_classificacao, cv = 10)\n",
    "\n",
    "acrKNN = metrics.accuracy_score(treino_classificacao, resultados)  \n",
    "\n",
    "print(\"Acurácia: \", \"%.2f\" % acrKNN ,\"%\\n\")\n",
    "print(metrics.classification_report(treino_classificacao, resultados, target_names=['POSITIVO', 'NEGATIVO']))"
   ]
  },
  {
   "cell_type": "markdown",
   "metadata": {},
   "source": [
    "#### *MLP:*"
   ]
  },
  {
   "cell_type": "code",
   "execution_count": 758,
   "metadata": {},
   "outputs": [
    {
     "data": {
      "text/html": [
       "<div>\n",
       "<style scoped>\n",
       "    .dataframe tbody tr th:only-of-type {\n",
       "        vertical-align: middle;\n",
       "    }\n",
       "\n",
       "    .dataframe tbody tr th {\n",
       "        vertical-align: top;\n",
       "    }\n",
       "\n",
       "    .dataframe thead th {\n",
       "        text-align: right;\n",
       "    }\n",
       "</style>\n",
       "<table border=\"1\" class=\"dataframe\">\n",
       "  <thead>\n",
       "    <tr style=\"text-align: right;\">\n",
       "      <th></th>\n",
       "      <th>Tweets</th>\n",
       "      <th>Rótulos obtidos</th>\n",
       "      <th>Rótulos esperados</th>\n",
       "    </tr>\n",
       "  </thead>\n",
       "  <tbody>\n",
       "    <tr>\n",
       "      <th>0</th>\n",
       "      <td>heinz progress prop mudanc transport publ regi...</td>\n",
       "      <td>NEGATIVO</td>\n",
       "      <td>POSITIVO</td>\n",
       "    </tr>\n",
       "    <tr>\n",
       "      <th>1</th>\n",
       "      <td>@bandr obrig eduardo_leit invest tant saud #un...</td>\n",
       "      <td>POSITIVO</td>\n",
       "      <td>POSITIVO</td>\n",
       "    </tr>\n",
       "    <tr>\n",
       "      <th>2</th>\n",
       "      <td>@bandr fech eduardo_leit #uniaobrasilr #marcel...</td>\n",
       "      <td>POSITIVO</td>\n",
       "      <td>POSITIVO</td>\n",
       "    </tr>\n",
       "    <tr>\n",
       "      <th>3</th>\n",
       "      <td>edegar_prett deput vot part tre eleico partici...</td>\n",
       "      <td>POSITIVO</td>\n",
       "      <td>POSITIVO</td>\n",
       "    </tr>\n",
       "    <tr>\n",
       "      <th>4</th>\n",
       "      <td>@frenteampla13 unic candidat fal invest invest...</td>\n",
       "      <td>POSITIVO</td>\n",
       "      <td>POSITIVO</td>\n",
       "    </tr>\n",
       "    <tr>\n",
       "      <th>...</th>\n",
       "      <td>...</td>\n",
       "      <td>...</td>\n",
       "      <td>...</td>\n",
       "    </tr>\n",
       "    <tr>\n",
       "      <th>103</th>\n",
       "      <td>eduardo_leit porqu pag pis salar profes rio_gr...</td>\n",
       "      <td>NEGATIVO</td>\n",
       "      <td>NEGATIVO</td>\n",
       "    </tr>\n",
       "    <tr>\n",
       "      <th>104</th>\n",
       "      <td>porqu tant candidat era mont seguint chap edeg...</td>\n",
       "      <td>NEGATIVO</td>\n",
       "      <td>NEGATIVO</td>\n",
       "    </tr>\n",
       "    <tr>\n",
       "      <th>105</th>\n",
       "      <td>\"bolsoleite\" hoj \"denunciando\" falt invest fed...</td>\n",
       "      <td>NEGATIVO</td>\n",
       "      <td>NEGATIVO</td>\n",
       "    </tr>\n",
       "    <tr>\n",
       "      <th>106</th>\n",
       "      <td>escolh sim onyx escolh mort aind deix clar viv...</td>\n",
       "      <td>NEGATIVO</td>\n",
       "      <td>NEGATIVO</td>\n",
       "    </tr>\n",
       "    <tr>\n",
       "      <th>107</th>\n",
       "      <td>vari tem aparec #debatenabandr agor candidat p...</td>\n",
       "      <td>POSITIVO</td>\n",
       "      <td>NEGATIVO</td>\n",
       "    </tr>\n",
       "  </tbody>\n",
       "</table>\n",
       "<p>108 rows × 3 columns</p>\n",
       "</div>"
      ],
      "text/plain": [
       "                                                Tweets Rótulos obtidos  \\\n",
       "0    heinz progress prop mudanc transport publ regi...        NEGATIVO   \n",
       "1    @bandr obrig eduardo_leit invest tant saud #un...        POSITIVO   \n",
       "2    @bandr fech eduardo_leit #uniaobrasilr #marcel...        POSITIVO   \n",
       "3    edegar_prett deput vot part tre eleico partici...        POSITIVO   \n",
       "4    @frenteampla13 unic candidat fal invest invest...        POSITIVO   \n",
       "..                                                 ...             ...   \n",
       "103  eduardo_leit porqu pag pis salar profes rio_gr...        NEGATIVO   \n",
       "104  porqu tant candidat era mont seguint chap edeg...        NEGATIVO   \n",
       "105  \"bolsoleite\" hoj \"denunciando\" falt invest fed...        NEGATIVO   \n",
       "106  escolh sim onyx escolh mort aind deix clar viv...        NEGATIVO   \n",
       "107  vari tem aparec #debatenabandr agor candidat p...        POSITIVO   \n",
       "\n",
       "    Rótulos esperados  \n",
       "0            POSITIVO  \n",
       "1            POSITIVO  \n",
       "2            POSITIVO  \n",
       "3            POSITIVO  \n",
       "4            POSITIVO  \n",
       "..                ...  \n",
       "103          NEGATIVO  \n",
       "104          NEGATIVO  \n",
       "105          NEGATIVO  \n",
       "106          NEGATIVO  \n",
       "107          NEGATIVO  \n",
       "\n",
       "[108 rows x 3 columns]"
      ]
     },
     "execution_count": 758,
     "metadata": {},
     "output_type": "execute_result"
    }
   ],
   "source": [
    "from sklearn.neural_network import MLPClassifier\n",
    "\n",
    "modeloMLP = MLPClassifier()\n",
    "modeloMLP.fit(freq_treino, treino_classificacao)\n",
    "\n",
    "predicao = modeloMLP.predict(freq_testes)\n",
    "\n",
    "df_resultados = pd.DataFrame(data = { \"Tweets\": testes_tweets, \"Rótulos obtidos\": predicao, \"Rótulos esperados\": testes_classificacao })\n",
    "df_resultados"
   ]
  },
  {
   "cell_type": "markdown",
   "metadata": {},
   "source": [
    "##### *Análise dos resultados obtidos com o MLP*"
   ]
  },
  {
   "cell_type": "code",
   "execution_count": 759,
   "metadata": {},
   "outputs": [],
   "source": [
    "#resultados = cross_val_predict(modeloMLP, freq_treino, treino_classificacao, cv = 10)\n",
    "#acrMLP = metrics.accuracy_score(treino_classificacao, resultados)\n",
    "\n",
    "#print(\"Acurácia: \", \"%.2f\" % acrMLP ,\"%\\n\")\n",
    "#print(metrics.classification_report(treino_classificacao, resultados, target_names=['POSITIVO', 'NEGATIVO']))"
   ]
  },
  {
   "cell_type": "markdown",
   "metadata": {},
   "source": [
    "##**SLÁ MANINHO**"
   ]
  },
  {
   "cell_type": "code",
   "execution_count": 760,
   "metadata": {},
   "outputs": [
    {
     "data": {
      "text/html": [
       "<style type=\"text/css\">\n",
       "#T_15707_row0_col1 {\n",
       "  background-color: #08306b;\n",
       "  color: #f1f1f1;\n",
       "}\n",
       "#T_15707_row1_col1 {\n",
       "  background-color: #7fb9da;\n",
       "  color: #000000;\n",
       "}\n",
       "#T_15707_row2_col1 {\n",
       "  background-color: #9cc9e1;\n",
       "  color: #000000;\n",
       "}\n",
       "#T_15707_row3_col1 {\n",
       "  background-color: #b2d2e8;\n",
       "  color: #000000;\n",
       "}\n",
       "#T_15707_row4_col1 {\n",
       "  background-color: #c1d9ed;\n",
       "  color: #000000;\n",
       "}\n",
       "#T_15707_row5_col1 {\n",
       "  background-color: #ccdff1;\n",
       "  color: #000000;\n",
       "}\n",
       "#T_15707_row6_col1 {\n",
       "  background-color: #cee0f2;\n",
       "  color: #000000;\n",
       "}\n",
       "#T_15707_row7_col1 {\n",
       "  background-color: #ddeaf7;\n",
       "  color: #000000;\n",
       "}\n",
       "#T_15707_row8_col1, #T_15707_row9_col1 {\n",
       "  background-color: #dfecf7;\n",
       "  color: #000000;\n",
       "}\n",
       "#T_15707_row10_col1 {\n",
       "  background-color: #e1edf8;\n",
       "  color: #000000;\n",
       "}\n",
       "#T_15707_row11_col1 {\n",
       "  background-color: #e3eef9;\n",
       "  color: #000000;\n",
       "}\n",
       "#T_15707_row12_col1 {\n",
       "  background-color: #e6f0f9;\n",
       "  color: #000000;\n",
       "}\n",
       "#T_15707_row13_col1 {\n",
       "  background-color: #e7f1fa;\n",
       "  color: #000000;\n",
       "}\n",
       "#T_15707_row14_col1 {\n",
       "  background-color: #e9f2fa;\n",
       "  color: #000000;\n",
       "}\n",
       "#T_15707_row15_col1 {\n",
       "  background-color: #eaf2fb;\n",
       "  color: #000000;\n",
       "}\n",
       "#T_15707_row16_col1, #T_15707_row17_col1, #T_15707_row18_col1, #T_15707_row19_col1, #T_15707_row20_col1 {\n",
       "  background-color: #ebf3fb;\n",
       "  color: #000000;\n",
       "}\n",
       "#T_15707_row21_col1, #T_15707_row22_col1 {\n",
       "  background-color: #ecf4fb;\n",
       "  color: #000000;\n",
       "}\n",
       "#T_15707_row23_col1 {\n",
       "  background-color: #edf4fc;\n",
       "  color: #000000;\n",
       "}\n",
       "#T_15707_row24_col1, #T_15707_row25_col1, #T_15707_row26_col1, #T_15707_row27_col1, #T_15707_row28_col1 {\n",
       "  background-color: #eef5fc;\n",
       "  color: #000000;\n",
       "}\n",
       "#T_15707_row29_col1, #T_15707_row30_col1, #T_15707_row31_col1 {\n",
       "  background-color: #eff6fc;\n",
       "  color: #000000;\n",
       "}\n",
       "#T_15707_row32_col1 {\n",
       "  background-color: #f0f6fd;\n",
       "  color: #000000;\n",
       "}\n",
       "#T_15707_row33_col1, #T_15707_row34_col1, #T_15707_row35_col1 {\n",
       "  background-color: #f1f7fd;\n",
       "  color: #000000;\n",
       "}\n",
       "#T_15707_row36_col1, #T_15707_row37_col1, #T_15707_row38_col1 {\n",
       "  background-color: #f2f7fd;\n",
       "  color: #000000;\n",
       "}\n",
       "#T_15707_row39_col1, #T_15707_row40_col1 {\n",
       "  background-color: #f2f8fd;\n",
       "  color: #000000;\n",
       "}\n",
       "#T_15707_row41_col1, #T_15707_row42_col1, #T_15707_row43_col1, #T_15707_row44_col1, #T_15707_row45_col1, #T_15707_row46_col1, #T_15707_row47_col1, #T_15707_row48_col1 {\n",
       "  background-color: #f3f8fe;\n",
       "  color: #000000;\n",
       "}\n",
       "#T_15707_row49_col1, #T_15707_row50_col1, #T_15707_row51_col1, #T_15707_row52_col1 {\n",
       "  background-color: #f4f9fe;\n",
       "  color: #000000;\n",
       "}\n",
       "#T_15707_row53_col1, #T_15707_row54_col1, #T_15707_row55_col1, #T_15707_row56_col1 {\n",
       "  background-color: #f5f9fe;\n",
       "  color: #000000;\n",
       "}\n",
       "#T_15707_row57_col1, #T_15707_row58_col1, #T_15707_row59_col1, #T_15707_row60_col1, #T_15707_row61_col1, #T_15707_row62_col1, #T_15707_row63_col1, #T_15707_row64_col1, #T_15707_row65_col1, #T_15707_row66_col1, #T_15707_row67_col1, #T_15707_row68_col1, #T_15707_row69_col1, #T_15707_row70_col1, #T_15707_row71_col1, #T_15707_row72_col1, #T_15707_row73_col1 {\n",
       "  background-color: #f5fafe;\n",
       "  color: #000000;\n",
       "}\n",
       "#T_15707_row74_col1, #T_15707_row75_col1, #T_15707_row76_col1, #T_15707_row77_col1, #T_15707_row78_col1, #T_15707_row79_col1, #T_15707_row80_col1, #T_15707_row81_col1, #T_15707_row82_col1, #T_15707_row83_col1 {\n",
       "  background-color: #f6faff;\n",
       "  color: #000000;\n",
       "}\n",
       "#T_15707_row84_col1, #T_15707_row85_col1, #T_15707_row86_col1, #T_15707_row87_col1, #T_15707_row88_col1, #T_15707_row89_col1, #T_15707_row90_col1, #T_15707_row91_col1, #T_15707_row92_col1, #T_15707_row93_col1, #T_15707_row94_col1, #T_15707_row95_col1, #T_15707_row96_col1, #T_15707_row97_col1, #T_15707_row98_col1, #T_15707_row99_col1 {\n",
       "  background-color: #f7fbff;\n",
       "  color: #000000;\n",
       "}\n",
       "</style>\n",
       "<table id=\"T_15707\">\n",
       "  <thead>\n",
       "    <tr>\n",
       "      <th class=\"blank level0\" >&nbsp;</th>\n",
       "      <th id=\"T_15707_level0_col0\" class=\"col_heading level0 col0\" >Common_words</th>\n",
       "      <th id=\"T_15707_level0_col1\" class=\"col_heading level0 col1\" >count</th>\n",
       "    </tr>\n",
       "  </thead>\n",
       "  <tbody>\n",
       "    <tr>\n",
       "      <th id=\"T_15707_level0_row0\" class=\"row_heading level0 row0\" >0</th>\n",
       "      <td id=\"T_15707_row0_col0\" class=\"data row0 col0\" >#debatenabandr</td>\n",
       "      <td id=\"T_15707_row0_col1\" class=\"data row0 col1\" >366</td>\n",
       "    </tr>\n",
       "    <tr>\n",
       "      <th id=\"T_15707_level0_row1\" class=\"row_heading level0 row1\" >1</th>\n",
       "      <td id=\"T_15707_row1_col0\" class=\"data row1 col0\" >edegar_prett</td>\n",
       "      <td id=\"T_15707_row1_col1\" class=\"data row1 col1\" >171</td>\n",
       "    </tr>\n",
       "    <tr>\n",
       "      <th id=\"T_15707_level0_row2\" class=\"row_heading level0 row2\" >2</th>\n",
       "      <td id=\"T_15707_row2_col0\" class=\"data row2 col0\" >eduardo_leit</td>\n",
       "      <td id=\"T_15707_row2_col1\" class=\"data row2 col1\" >145</td>\n",
       "    </tr>\n",
       "    <tr>\n",
       "      <th id=\"T_15707_level0_row3\" class=\"row_heading level0 row3\" >3</th>\n",
       "      <td id=\"T_15707_row3_col0\" class=\"data row3 col0\" >govern</td>\n",
       "      <td id=\"T_15707_row3_col1\" class=\"data row3 col1\" >122</td>\n",
       "    </tr>\n",
       "    <tr>\n",
       "      <th id=\"T_15707_level0_row4\" class=\"row_heading level0 row4\" >4</th>\n",
       "      <td id=\"T_15707_row4_col0\" class=\"data row4 col0\" >onyx</td>\n",
       "      <td id=\"T_15707_row4_col1\" class=\"data row4 col1\" >105</td>\n",
       "    </tr>\n",
       "    <tr>\n",
       "      <th id=\"T_15707_level0_row5\" class=\"row_heading level0 row5\" >5</th>\n",
       "      <td id=\"T_15707_row5_col0\" class=\"data row5 col0\" >rio_grande_do_sul</td>\n",
       "      <td id=\"T_15707_row5_col1\" class=\"data row5 col1\" >88</td>\n",
       "    </tr>\n",
       "    <tr>\n",
       "      <th id=\"T_15707_level0_row6\" class=\"row_heading level0 row6\" >6</th>\n",
       "      <td id=\"T_15707_row6_col0\" class=\"data row6 col0\" >#lulaolivioprettoru</td>\n",
       "      <td id=\"T_15707_row6_col1\" class=\"data row6 col1\" >85</td>\n",
       "    </tr>\n",
       "    <tr>\n",
       "      <th id=\"T_15707_level0_row7\" class=\"row_heading level0 row7\" >7</th>\n",
       "      <td id=\"T_15707_row7_col0\" class=\"data row7 col0\" >candidat</td>\n",
       "      <td id=\"T_15707_row7_col1\" class=\"data row7 col1\" >57</td>\n",
       "    </tr>\n",
       "    <tr>\n",
       "      <th id=\"T_15707_level0_row8\" class=\"row_heading level0 row8\" >8</th>\n",
       "      <td id=\"T_15707_row8_col0\" class=\"data row8 col0\" >debat</td>\n",
       "      <td id=\"T_15707_row8_col1\" class=\"data row8 col1\" >53</td>\n",
       "    </tr>\n",
       "    <tr>\n",
       "      <th id=\"T_15707_level0_row9\" class=\"row_heading level0 row9\" >9</th>\n",
       "      <td id=\"T_15707_row9_col0\" class=\"data row9 col0\" >fal</td>\n",
       "      <td id=\"T_15707_row9_col1\" class=\"data row9 col1\" >53</td>\n",
       "    </tr>\n",
       "    <tr>\n",
       "      <th id=\"T_15707_level0_row10\" class=\"row_heading level0 row10\" >10</th>\n",
       "      <td id=\"T_15707_row10_col0\" class=\"data row10 col0\" >est</td>\n",
       "      <td id=\"T_15707_row10_col1\" class=\"data row10 col1\" >49</td>\n",
       "    </tr>\n",
       "    <tr>\n",
       "      <th id=\"T_15707_level0_row11\" class=\"row_heading level0 row11\" >11</th>\n",
       "      <td id=\"T_15707_row11_col0\" class=\"data row11 col0\" >vieira_cunh</td>\n",
       "      <td id=\"T_15707_row11_col1\" class=\"data row11 col1\" >45</td>\n",
       "    </tr>\n",
       "    <tr>\n",
       "      <th id=\"T_15707_level0_row12\" class=\"row_heading level0 row12\" >12</th>\n",
       "      <td id=\"T_15707_row12_col0\" class=\"data row12 col0\" >gauch</td>\n",
       "      <td id=\"T_15707_row12_col1\" class=\"data row12 col1\" >41</td>\n",
       "    </tr>\n",
       "    <tr>\n",
       "      <th id=\"T_15707_level0_row13\" class=\"row_heading level0 row13\" >13</th>\n",
       "      <td id=\"T_15707_row13_col0\" class=\"data row13 col0\" >jair_bolsonar</td>\n",
       "      <td id=\"T_15707_row13_col1\" class=\"data row13 col1\" >39</td>\n",
       "    </tr>\n",
       "    <tr>\n",
       "      <th id=\"T_15707_level0_row14\" class=\"row_heading level0 row14\" >14</th>\n",
       "      <td id=\"T_15707_row14_col0\" class=\"data row14 col0\" >heinz</td>\n",
       "      <td id=\"T_15707_row14_col1\" class=\"data row14 col1\" >36</td>\n",
       "    </tr>\n",
       "    <tr>\n",
       "      <th id=\"T_15707_level0_row15\" class=\"row_heading level0 row15\" >15</th>\n",
       "      <td id=\"T_15707_row15_col0\" class=\"data row15 col0\" >lul</td>\n",
       "      <td id=\"T_15707_row15_col1\" class=\"data row15 col1\" >34</td>\n",
       "    </tr>\n",
       "    <tr>\n",
       "      <th id=\"T_15707_level0_row16\" class=\"row_heading level0 row16\" >16</th>\n",
       "      <td id=\"T_15707_row16_col0\" class=\"data row16 col0\" >faz</td>\n",
       "      <td id=\"T_15707_row16_col1\" class=\"data row16 col1\" >32</td>\n",
       "    </tr>\n",
       "    <tr>\n",
       "      <th id=\"T_15707_level0_row17\" class=\"row_heading level0 row17\" >17</th>\n",
       "      <td id=\"T_15707_row17_col0\" class=\"data row17 col0\" >rio_grand</td>\n",
       "      <td id=\"T_15707_row17_col1\" class=\"data row17 col1\" >31</td>\n",
       "    </tr>\n",
       "    <tr>\n",
       "      <th id=\"T_15707_level0_row18\" class=\"row_heading level0 row18\" >18</th>\n",
       "      <td id=\"T_15707_row18_col0\" class=\"data row18 col0\" >#uniaobrasilr</td>\n",
       "      <td id=\"T_15707_row18_col1\" class=\"data row18 col1\" >31</td>\n",
       "    </tr>\n",
       "    <tr>\n",
       "      <th id=\"T_15707_level0_row19\" class=\"row_heading level0 row19\" >19</th>\n",
       "      <td id=\"T_15707_row19_col0\" class=\"data row19 col0\" >#lulaolivioedegarru</td>\n",
       "      <td id=\"T_15707_row19_col1\" class=\"data row19 col1\" >31</td>\n",
       "    </tr>\n",
       "    <tr>\n",
       "      <th id=\"T_15707_level0_row20\" class=\"row_heading level0 row20\" >20</th>\n",
       "      <td id=\"T_15707_row20_col0\" class=\"data row20 col0\" >@bandr</td>\n",
       "      <td id=\"T_15707_row20_col1\" class=\"data row20 col1\" >31</td>\n",
       "    </tr>\n",
       "    <tr>\n",
       "      <th id=\"T_15707_level0_row21\" class=\"row_heading level0 row21\" >21</th>\n",
       "      <td id=\"T_15707_row21_col0\" class=\"data row21 col0\" >pov</td>\n",
       "      <td id=\"T_15707_row21_col1\" class=\"data row21 col1\" >30</td>\n",
       "    </tr>\n",
       "    <tr>\n",
       "      <th id=\"T_15707_level0_row22\" class=\"row_heading level0 row22\" >22</th>\n",
       "      <td id=\"T_15707_row22_col0\" class=\"data row22 col0\" >vai</td>\n",
       "      <td id=\"T_15707_row22_col1\" class=\"data row22 col1\" >30</td>\n",
       "    </tr>\n",
       "    <tr>\n",
       "      <th id=\"T_15707_level0_row23\" class=\"row_heading level0 row23\" >23</th>\n",
       "      <td id=\"T_15707_row23_col0\" class=\"data row23 col0\" >educac</td>\n",
       "      <td id=\"T_15707_row23_col1\" class=\"data row23 col1\" >29</td>\n",
       "    </tr>\n",
       "    <tr>\n",
       "      <th id=\"T_15707_level0_row24\" class=\"row_heading level0 row24\" >24</th>\n",
       "      <td id=\"T_15707_row24_col0\" class=\"data row24 col0\" >qu</td>\n",
       "      <td id=\"T_15707_row24_col1\" class=\"data row24 col1\" >28</td>\n",
       "    </tr>\n",
       "    <tr>\n",
       "      <th id=\"T_15707_level0_row25\" class=\"row_heading level0 row25\" >25</th>\n",
       "      <td id=\"T_15707_row25_col0\" class=\"data row25 col0\" >bem</td>\n",
       "      <td id=\"T_15707_row25_col1\" class=\"data row25 col1\" >28</td>\n",
       "    </tr>\n",
       "    <tr>\n",
       "      <th id=\"T_15707_level0_row26\" class=\"row_heading level0 row26\" >26</th>\n",
       "      <td id=\"T_15707_row26_col0\" class=\"data row26 col0\" >publ</td>\n",
       "      <td id=\"T_15707_row26_col1\" class=\"data row26 col1\" >27</td>\n",
       "    </tr>\n",
       "    <tr>\n",
       "      <th id=\"T_15707_level0_row27\" class=\"row_heading level0 row27\" >27</th>\n",
       "      <td id=\"T_15707_row27_col0\" class=\"data row27 col0\" >escol</td>\n",
       "      <td id=\"T_15707_row27_col1\" class=\"data row27 col1\" >26</td>\n",
       "    </tr>\n",
       "    <tr>\n",
       "      <th id=\"T_15707_level0_row28\" class=\"row_heading level0 row28\" >28</th>\n",
       "      <td id=\"T_15707_row28_col0\" class=\"data row28 col0\" >ment</td>\n",
       "      <td id=\"T_15707_row28_col1\" class=\"data row28 col1\" >26</td>\n",
       "    </tr>\n",
       "    <tr>\n",
       "      <th id=\"T_15707_level0_row29\" class=\"row_heading level0 row29\" >29</th>\n",
       "      <td id=\"T_15707_row29_col0\" class=\"data row29 col0\" >sobr</td>\n",
       "      <td id=\"T_15707_row29_col1\" class=\"data row29 col1\" >25</td>\n",
       "    </tr>\n",
       "    <tr>\n",
       "      <th id=\"T_15707_level0_row30\" class=\"row_heading level0 row30\" >30</th>\n",
       "      <td id=\"T_15707_row30_col0\" class=\"data row30 col0\" >brasil</td>\n",
       "      <td id=\"T_15707_row30_col1\" class=\"data row30 col1\" >24</td>\n",
       "    </tr>\n",
       "    <tr>\n",
       "      <th id=\"T_15707_level0_row31\" class=\"row_heading level0 row31\" >31</th>\n",
       "      <td id=\"T_15707_row31_col0\" class=\"data row31 col0\" >tod</td>\n",
       "      <td id=\"T_15707_row31_col1\" class=\"data row31 col1\" >24</td>\n",
       "    </tr>\n",
       "    <tr>\n",
       "      <th id=\"T_15707_level0_row32\" class=\"row_heading level0 row32\" >32</th>\n",
       "      <td id=\"T_15707_row32_col0\" class=\"data row32 col0\" >car</td>\n",
       "      <td id=\"T_15707_row32_col1\" class=\"data row32 col1\" >23</td>\n",
       "    </tr>\n",
       "    <tr>\n",
       "      <th id=\"T_15707_level0_row33\" class=\"row_heading level0 row33\" >33</th>\n",
       "      <td id=\"T_15707_row33_col0\" class=\"data row33 col0\" >ricardo_jobim</td>\n",
       "      <td id=\"T_15707_row33_col1\" class=\"data row33 col1\" >22</td>\n",
       "    </tr>\n",
       "    <tr>\n",
       "      <th id=\"T_15707_level0_row34\" class=\"row_heading level0 row34\" >34</th>\n",
       "      <td id=\"T_15707_row34_col0\" class=\"data row34 col0\" >trabalh</td>\n",
       "      <td id=\"T_15707_row34_col1\" class=\"data row34 col1\" >22</td>\n",
       "    </tr>\n",
       "    <tr>\n",
       "      <th id=\"T_15707_level0_row35\" class=\"row_heading level0 row35\" >35</th>\n",
       "      <td id=\"T_15707_row35_col0\" class=\"data row35 col0\" >ta</td>\n",
       "      <td id=\"T_15707_row35_col1\" class=\"data row35 col1\" >22</td>\n",
       "    </tr>\n",
       "    <tr>\n",
       "      <th id=\"T_15707_level0_row36\" class=\"row_heading level0 row36\" >36</th>\n",
       "      <td id=\"T_15707_row36_col0\" class=\"data row36 col0\" >prep</td>\n",
       "      <td id=\"T_15707_row36_col1\" class=\"data row36 col1\" >21</td>\n",
       "    </tr>\n",
       "    <tr>\n",
       "      <th id=\"T_15707_level0_row37\" class=\"row_heading level0 row37\" >37</th>\n",
       "      <td id=\"T_15707_row37_col0\" class=\"data row37 col0\" >famil</td>\n",
       "      <td id=\"T_15707_row37_col1\" class=\"data row37 col1\" >21</td>\n",
       "    </tr>\n",
       "    <tr>\n",
       "      <th id=\"T_15707_level0_row38\" class=\"row_heading level0 row38\" >38</th>\n",
       "      <td id=\"T_15707_row38_col0\" class=\"data row38 col0\" >comec</td>\n",
       "      <td id=\"T_15707_row38_col1\" class=\"data row38 col1\" >21</td>\n",
       "    </tr>\n",
       "    <tr>\n",
       "      <th id=\"T_15707_level0_row39\" class=\"row_heading level0 row39\" >39</th>\n",
       "      <td id=\"T_15707_row39_col0\" class=\"data row39 col0\" >nov</td>\n",
       "      <td id=\"T_15707_row39_col1\" class=\"data row39 col1\" >19</td>\n",
       "    </tr>\n",
       "    <tr>\n",
       "      <th id=\"T_15707_level0_row40\" class=\"row_heading level0 row40\" >40</th>\n",
       "      <td id=\"T_15707_row40_col0\" class=\"data row40 col0\" >vam</td>\n",
       "      <td id=\"T_15707_row40_col1\" class=\"data row40 col1\" >19</td>\n",
       "    </tr>\n",
       "    <tr>\n",
       "      <th id=\"T_15707_level0_row41\" class=\"row_heading level0 row41\" >41</th>\n",
       "      <td id=\"T_15707_row41_col0\" class=\"data row41 col0\" >caixadoil</td>\n",
       "      <td id=\"T_15707_row41_col1\" class=\"data row41 col1\" >18</td>\n",
       "    </tr>\n",
       "    <tr>\n",
       "      <th id=\"T_15707_level0_row42\" class=\"row_heading level0 row42\" >42</th>\n",
       "      <td id=\"T_15707_row42_col0\" class=\"data row42 col0\" >invest</td>\n",
       "      <td id=\"T_15707_row42_col1\" class=\"data row42 col1\" >18</td>\n",
       "    </tr>\n",
       "    <tr>\n",
       "      <th id=\"T_15707_level0_row43\" class=\"row_heading level0 row43\" >43</th>\n",
       "      <td id=\"T_15707_row43_col0\" class=\"data row43 col0\" >pergunt</td>\n",
       "      <td id=\"T_15707_row43_col1\" class=\"data row43 col1\" >18</td>\n",
       "    </tr>\n",
       "    <tr>\n",
       "      <th id=\"T_15707_level0_row44\" class=\"row_heading level0 row44\" >44</th>\n",
       "      <td id=\"T_15707_row44_col0\" class=\"data row44 col0\" >band</td>\n",
       "      <td id=\"T_15707_row44_col1\" class=\"data row44 col1\" >18</td>\n",
       "    </tr>\n",
       "    <tr>\n",
       "      <th id=\"T_15707_level0_row45\" class=\"row_heading level0 row45\" >45</th>\n",
       "      <td id=\"T_15707_row45_col0\" class=\"data row45 col0\" >tarso_genr</td>\n",
       "      <td id=\"T_15707_row45_col1\" class=\"data row45 col1\" >17</td>\n",
       "    </tr>\n",
       "    <tr>\n",
       "      <th id=\"T_15707_level0_row46\" class=\"row_heading level0 row46\" >46</th>\n",
       "      <td id=\"T_15707_row46_col0\" class=\"data row46 col0\" >mostr</td>\n",
       "      <td id=\"T_15707_row46_col1\" class=\"data row46 col1\" >17</td>\n",
       "    </tr>\n",
       "    <tr>\n",
       "      <th id=\"T_15707_level0_row47\" class=\"row_heading level0 row47\" >47</th>\n",
       "      <td id=\"T_15707_row47_col0\" class=\"data row47 col0\" >precil</td>\n",
       "      <td id=\"T_15707_row47_col1\" class=\"data row47 col1\" >17</td>\n",
       "    </tr>\n",
       "    <tr>\n",
       "      <th id=\"T_15707_level0_row48\" class=\"row_heading level0 row48\" >48</th>\n",
       "      <td id=\"T_15707_row48_col0\" class=\"data row48 col0\" >defend</td>\n",
       "      <td id=\"T_15707_row48_col1\" class=\"data row48 col1\" >17</td>\n",
       "    </tr>\n",
       "    <tr>\n",
       "      <th id=\"T_15707_level0_row49\" class=\"row_heading level0 row49\" >49</th>\n",
       "      <td id=\"T_15707_row49_col0\" class=\"data row49 col0\" >sul</td>\n",
       "      <td id=\"T_15707_row49_col1\" class=\"data row49 col1\" >16</td>\n",
       "    </tr>\n",
       "    <tr>\n",
       "      <th id=\"T_15707_level0_row50\" class=\"row_heading level0 row50\" >50</th>\n",
       "      <td id=\"T_15707_row50_col0\" class=\"data row50 col0\" >melhor</td>\n",
       "      <td id=\"T_15707_row50_col1\" class=\"data row50 col1\" >16</td>\n",
       "    </tr>\n",
       "    <tr>\n",
       "      <th id=\"T_15707_level0_row51\" class=\"row_heading level0 row51\" >51</th>\n",
       "      <td id=\"T_15707_row51_col0\" class=\"data row51 col0\" >pol</td>\n",
       "      <td id=\"T_15707_row51_col1\" class=\"data row51 col1\" >16</td>\n",
       "    </tr>\n",
       "    <tr>\n",
       "      <th id=\"T_15707_level0_row52\" class=\"row_heading level0 row52\" >52</th>\n",
       "      <td id=\"T_15707_row52_col0\" class=\"data row52 col0\" >nad</td>\n",
       "      <td id=\"T_15707_row52_col1\" class=\"data row52 col1\" >16</td>\n",
       "    </tr>\n",
       "    <tr>\n",
       "      <th id=\"T_15707_level0_row53\" class=\"row_heading level0 row53\" >53</th>\n",
       "      <td id=\"T_15707_row53_col0\" class=\"data row53 col0\" >pand</td>\n",
       "      <td id=\"T_15707_row53_col1\" class=\"data row53 col1\" >15</td>\n",
       "    </tr>\n",
       "    <tr>\n",
       "      <th id=\"T_15707_level0_row54\" class=\"row_heading level0 row54\" >54</th>\n",
       "      <td id=\"T_15707_row54_col0\" class=\"data row54 col0\" >fez</td>\n",
       "      <td id=\"T_15707_row54_col1\" class=\"data row54 col1\" >15</td>\n",
       "    </tr>\n",
       "    <tr>\n",
       "      <th id=\"T_15707_level0_row55\" class=\"row_heading level0 row55\" >55</th>\n",
       "      <td id=\"T_15707_row55_col0\" class=\"data row55 col0\" >deu</td>\n",
       "      <td id=\"T_15707_row55_col1\" class=\"data row55 col1\" >15</td>\n",
       "    </tr>\n",
       "    <tr>\n",
       "      <th id=\"T_15707_level0_row56\" class=\"row_heading level0 row56\" >56</th>\n",
       "      <td id=\"T_15707_row56_col0\" class=\"data row56 col0\" >ag</td>\n",
       "      <td id=\"T_15707_row56_col1\" class=\"data row56 col1\" >15</td>\n",
       "    </tr>\n",
       "    <tr>\n",
       "      <th id=\"T_15707_level0_row57\" class=\"row_heading level0 row57\" >57</th>\n",
       "      <td id=\"T_15707_row57_col0\" class=\"data row57 col0\" >muit</td>\n",
       "      <td id=\"T_15707_row57_col1\" class=\"data row57 col1\" >14</td>\n",
       "    </tr>\n",
       "    <tr>\n",
       "      <th id=\"T_15707_level0_row58\" class=\"row_heading level0 row58\" >58</th>\n",
       "      <td id=\"T_15707_row58_col0\" class=\"data row58 col0\" >pi</td>\n",
       "      <td id=\"T_15707_row58_col1\" class=\"data row58 col1\" >14</td>\n",
       "    </tr>\n",
       "    <tr>\n",
       "      <th id=\"T_15707_level0_row59\" class=\"row_heading level0 row59\" >59</th>\n",
       "      <td id=\"T_15707_row59_col0\" class=\"data row59 col0\" >volt</td>\n",
       "      <td id=\"T_15707_row59_col1\" class=\"data row59 col1\" >14</td>\n",
       "    </tr>\n",
       "    <tr>\n",
       "      <th id=\"T_15707_level0_row60\" class=\"row_heading level0 row60\" >60</th>\n",
       "      <td id=\"T_15707_row60_col0\" class=\"data row60 col0\" >pt</td>\n",
       "      <td id=\"T_15707_row60_col1\" class=\"data row60 col1\" >14</td>\n",
       "    </tr>\n",
       "    <tr>\n",
       "      <th id=\"T_15707_level0_row61\" class=\"row_heading level0 row61\" >61</th>\n",
       "      <td id=\"T_15707_row61_col0\" class=\"data row61 col0\" >deix</td>\n",
       "      <td id=\"T_15707_row61_col1\" class=\"data row61 col1\" >14</td>\n",
       "    </tr>\n",
       "    <tr>\n",
       "      <th id=\"T_15707_level0_row62\" class=\"row_heading level0 row62\" >62</th>\n",
       "      <td id=\"T_15707_row62_col0\" class=\"data row62 col0\" >prim</td>\n",
       "      <td id=\"T_15707_row62_col1\" class=\"data row62 col1\" >14</td>\n",
       "    </tr>\n",
       "    <tr>\n",
       "      <th id=\"T_15707_level0_row63\" class=\"row_heading level0 row63\" >63</th>\n",
       "      <td id=\"T_15707_row63_col0\" class=\"data row63 col0\" >respond</td>\n",
       "      <td id=\"T_15707_row63_col1\" class=\"data row63 col1\" >14</td>\n",
       "    </tr>\n",
       "    <tr>\n",
       "      <th id=\"T_15707_level0_row64\" class=\"row_heading level0 row64\" >64</th>\n",
       "      <td id=\"T_15707_row64_col0\" class=\"data row64 col0\" >aqu</td>\n",
       "      <td id=\"T_15707_row64_col1\" class=\"data row64 col1\" >13</td>\n",
       "    </tr>\n",
       "    <tr>\n",
       "      <th id=\"T_15707_level0_row65\" class=\"row_heading level0 row65\" >65</th>\n",
       "      <td id=\"T_15707_row65_col0\" class=\"data row65 col0\" >part</td>\n",
       "      <td id=\"T_15707_row65_col1\" class=\"data row65 col1\" >13</td>\n",
       "    </tr>\n",
       "    <tr>\n",
       "      <th id=\"T_15707_level0_row66\" class=\"row_heading level0 row66\" >66</th>\n",
       "      <td id=\"T_15707_row66_col0\" class=\"data row66 col0\" >diz</td>\n",
       "      <td id=\"T_15707_row66_col1\" class=\"data row66 col1\" >13</td>\n",
       "    </tr>\n",
       "    <tr>\n",
       "      <th id=\"T_15707_level0_row67\" class=\"row_heading level0 row67\" >67</th>\n",
       "      <td id=\"T_15707_row67_col0\" class=\"data row67 col0\" >junt</td>\n",
       "      <td id=\"T_15707_row67_col1\" class=\"data row67 col1\" >13</td>\n",
       "    </tr>\n",
       "    <tr>\n",
       "      <th id=\"T_15707_level0_row68\" class=\"row_heading level0 row68\" >68</th>\n",
       "      <td id=\"T_15707_row68_col0\" class=\"data row68 col0\" >serv</td>\n",
       "      <td id=\"T_15707_row68_col1\" class=\"data row68 col1\" >13</td>\n",
       "    </tr>\n",
       "    <tr>\n",
       "      <th id=\"T_15707_level0_row69\" class=\"row_heading level0 row69\" >69</th>\n",
       "      <td id=\"T_15707_row69_col0\" class=\"data row69 col0\" >hom</td>\n",
       "      <td id=\"T_15707_row69_col1\" class=\"data row69 col1\" >13</td>\n",
       "    </tr>\n",
       "    <tr>\n",
       "      <th id=\"T_15707_level0_row70\" class=\"row_heading level0 row70\" >70</th>\n",
       "      <td id=\"T_15707_row70_col0\" class=\"data row70 col0\" >outr</td>\n",
       "      <td id=\"T_15707_row70_col1\" class=\"data row70 col1\" >13</td>\n",
       "    </tr>\n",
       "    <tr>\n",
       "      <th id=\"T_15707_level0_row71\" class=\"row_heading level0 row71\" >71</th>\n",
       "      <td id=\"T_15707_row71_col0\" class=\"data row71 col0\" >sab</td>\n",
       "      <td id=\"T_15707_row71_col1\" class=\"data row71 col1\" >13</td>\n",
       "    </tr>\n",
       "    <tr>\n",
       "      <th id=\"T_15707_level0_row72\" class=\"row_heading level0 row72\" >72</th>\n",
       "      <td id=\"T_15707_row72_col0\" class=\"data row72 col0\" >med</td>\n",
       "      <td id=\"T_15707_row72_col1\" class=\"data row72 col1\" >13</td>\n",
       "    </tr>\n",
       "    <tr>\n",
       "      <th id=\"T_15707_level0_row73\" class=\"row_heading level0 row73\" >73</th>\n",
       "      <td id=\"T_15707_row73_col0\" class=\"data row73 col0\" >pag</td>\n",
       "      <td id=\"T_15707_row73_col1\" class=\"data row73 col1\" >13</td>\n",
       "    </tr>\n",
       "    <tr>\n",
       "      <th id=\"T_15707_level0_row74\" class=\"row_heading level0 row74\" >74</th>\n",
       "      <td id=\"T_15707_row74_col0\" class=\"data row74 col0\" >mulh</td>\n",
       "      <td id=\"T_15707_row74_col1\" class=\"data row74 col1\" >12</td>\n",
       "    </tr>\n",
       "    <tr>\n",
       "      <th id=\"T_15707_level0_row75\" class=\"row_heading level0 row75\" >75</th>\n",
       "      <td id=\"T_15707_row75_col0\" class=\"data row75 col0\" >vot</td>\n",
       "      <td id=\"T_15707_row75_col1\" class=\"data row75 col1\" >12</td>\n",
       "    </tr>\n",
       "    <tr>\n",
       "      <th id=\"T_15707_level0_row76\" class=\"row_heading level0 row76\" >76</th>\n",
       "      <td id=\"T_15707_row76_col0\" class=\"data row76 col0\" >projet</td>\n",
       "      <td id=\"T_15707_row76_col1\" class=\"data row76 col1\" >12</td>\n",
       "    </tr>\n",
       "    <tr>\n",
       "      <th id=\"T_15707_level0_row77\" class=\"row_heading level0 row77\" >77</th>\n",
       "      <td id=\"T_15707_row77_col0\" class=\"data row77 col0\" >cresc</td>\n",
       "      <td id=\"T_15707_row77_col1\" class=\"data row77 col1\" >12</td>\n",
       "    </tr>\n",
       "    <tr>\n",
       "      <th id=\"T_15707_level0_row78\" class=\"row_heading level0 row78\" >78</th>\n",
       "      <td id=\"T_15707_row78_col0\" class=\"data row78 col0\" >econom</td>\n",
       "      <td id=\"T_15707_row78_col1\" class=\"data row78 col1\" >12</td>\n",
       "    </tr>\n",
       "    <tr>\n",
       "      <th id=\"T_15707_level0_row79\" class=\"row_heading level0 row79\" >79</th>\n",
       "      <td id=\"T_15707_row79_col0\" class=\"data row79 col0\" >kkk</td>\n",
       "      <td id=\"T_15707_row79_col1\" class=\"data row79 col1\" >12</td>\n",
       "    </tr>\n",
       "    <tr>\n",
       "      <th id=\"T_15707_level0_row80\" class=\"row_heading level0 row80\" >80</th>\n",
       "      <td id=\"T_15707_row80_col0\" class=\"data row80 col0\" >nacion</td>\n",
       "      <td id=\"T_15707_row80_col1\" class=\"data row80 col1\" >12</td>\n",
       "    </tr>\n",
       "    <tr>\n",
       "      <th id=\"T_15707_level0_row81\" class=\"row_heading level0 row81\" >81</th>\n",
       "      <td id=\"T_15707_row81_col0\" class=\"data row81 col0\" >fech</td>\n",
       "      <td id=\"T_15707_row81_col1\" class=\"data row81 col1\" >12</td>\n",
       "    </tr>\n",
       "    <tr>\n",
       "      <th id=\"T_15707_level0_row82\" class=\"row_heading level0 row82\" >82</th>\n",
       "      <td id=\"T_15707_row82_col0\" class=\"data row82 col0\" >estad</td>\n",
       "      <td id=\"T_15707_row82_col1\" class=\"data row82 col1\" >12</td>\n",
       "    </tr>\n",
       "    <tr>\n",
       "      <th id=\"T_15707_level0_row83\" class=\"row_heading level0 row83\" >83</th>\n",
       "      <td id=\"T_15707_row83_col0\" class=\"data row83 col0\" >nunc</td>\n",
       "      <td id=\"T_15707_row83_col1\" class=\"data row83 col1\" >12</td>\n",
       "    </tr>\n",
       "    <tr>\n",
       "      <th id=\"T_15707_level0_row84\" class=\"row_heading level0 row84\" >84</th>\n",
       "      <td id=\"T_15707_row84_col0\" class=\"data row84 col0\" >contr</td>\n",
       "      <td id=\"T_15707_row84_col1\" class=\"data row84 col1\" >11</td>\n",
       "    </tr>\n",
       "    <tr>\n",
       "      <th id=\"T_15707_level0_row85\" class=\"row_heading level0 row85\" >85</th>\n",
       "      <td id=\"T_15707_row85_col0\" class=\"data row85 col0\" >acompanh</td>\n",
       "      <td id=\"T_15707_row85_col1\" class=\"data row85 col1\" >11</td>\n",
       "    </tr>\n",
       "    <tr>\n",
       "      <th id=\"T_15707_level0_row86\" class=\"row_heading level0 row86\" >86</th>\n",
       "      <td id=\"T_15707_row86_col0\" class=\"data row86 col0\" >presid</td>\n",
       "      <td id=\"T_15707_row86_col1\" class=\"data row86 col1\" >11</td>\n",
       "    </tr>\n",
       "    <tr>\n",
       "      <th id=\"T_15707_level0_row87\" class=\"row_heading level0 row87\" >87</th>\n",
       "      <td id=\"T_15707_row87_col0\" class=\"data row87 col0\" >gest</td>\n",
       "      <td id=\"T_15707_row87_col1\" class=\"data row87 col1\" >11</td>\n",
       "    </tr>\n",
       "    <tr>\n",
       "      <th id=\"T_15707_level0_row88\" class=\"row_heading level0 row88\" >88</th>\n",
       "      <td id=\"T_15707_row88_col0\" class=\"data row88 col0\" >aument</td>\n",
       "      <td id=\"T_15707_row88_col1\" class=\"data row88 col1\" >11</td>\n",
       "    </tr>\n",
       "    <tr>\n",
       "      <th id=\"T_15707_level0_row89\" class=\"row_heading level0 row89\" >89</th>\n",
       "      <td id=\"T_15707_row89_col0\" class=\"data row89 col0\" >cheg</td>\n",
       "      <td id=\"T_15707_row89_col1\" class=\"data row89 col1\" >11</td>\n",
       "    </tr>\n",
       "    <tr>\n",
       "      <th id=\"T_15707_level0_row90\" class=\"row_heading level0 row90\" >90</th>\n",
       "      <td id=\"T_15707_row90_col0\" class=\"data row90 col0\" >saud</td>\n",
       "      <td id=\"T_15707_row90_col1\" class=\"data row90 col1\" >11</td>\n",
       "    </tr>\n",
       "    <tr>\n",
       "      <th id=\"T_15707_level0_row91\" class=\"row_heading level0 row91\" >91</th>\n",
       "      <td id=\"T_15707_row91_col0\" class=\"data row91 col0\" >esperanc</td>\n",
       "      <td id=\"T_15707_row91_col1\" class=\"data row91 col1\" >11</td>\n",
       "    </tr>\n",
       "    <tr>\n",
       "      <th id=\"T_15707_level0_row92\" class=\"row_heading level0 row92\" >92</th>\n",
       "      <td id=\"T_15707_row92_col0\" class=\"data row92 col0\" >prof</td>\n",
       "      <td id=\"T_15707_row92_col1\" class=\"data row92 col1\" >11</td>\n",
       "    </tr>\n",
       "    <tr>\n",
       "      <th id=\"T_15707_level0_row93\" class=\"row_heading level0 row93\" >93</th>\n",
       "      <td id=\"T_15707_row93_col0\" class=\"data row93 col0\" >verdad</td>\n",
       "      <td id=\"T_15707_row93_col1\" class=\"data row93 col1\" >11</td>\n",
       "    </tr>\n",
       "    <tr>\n",
       "      <th id=\"T_15707_level0_row94\" class=\"row_heading level0 row94\" >94</th>\n",
       "      <td id=\"T_15707_row94_col0\" class=\"data row94 col0\" >pod</td>\n",
       "      <td id=\"T_15707_row94_col1\" class=\"data row94 col1\" >10</td>\n",
       "    </tr>\n",
       "    <tr>\n",
       "      <th id=\"T_15707_level0_row95\" class=\"row_heading level0 row95\" >95</th>\n",
       "      <td id=\"T_15707_row95_col0\" class=\"data row95 col0\" >impost</td>\n",
       "      <td id=\"T_15707_row95_col1\" class=\"data row95 col1\" >10</td>\n",
       "    </tr>\n",
       "    <tr>\n",
       "      <th id=\"T_15707_level0_row96\" class=\"row_heading level0 row96\" >96</th>\n",
       "      <td id=\"T_15707_row96_col0\" class=\"data row96 col0\" >pas</td>\n",
       "      <td id=\"T_15707_row96_col1\" class=\"data row96 col1\" >10</td>\n",
       "    </tr>\n",
       "    <tr>\n",
       "      <th id=\"T_15707_level0_row97\" class=\"row_heading level0 row97\" >97</th>\n",
       "      <td id=\"T_15707_row97_col0\" class=\"data row97 col0\" >pro</td>\n",
       "      <td id=\"T_15707_row97_col1\" class=\"data row97 col1\" >10</td>\n",
       "    </tr>\n",
       "    <tr>\n",
       "      <th id=\"T_15707_level0_row98\" class=\"row_heading level0 row98\" >98</th>\n",
       "      <td id=\"T_15707_row98_col0\" class=\"data row98 col0\" >conhec</td>\n",
       "      <td id=\"T_15707_row98_col1\" class=\"data row98 col1\" >10</td>\n",
       "    </tr>\n",
       "    <tr>\n",
       "      <th id=\"T_15707_level0_row99\" class=\"row_heading level0 row99\" >99</th>\n",
       "      <td id=\"T_15707_row99_col0\" class=\"data row99 col0\" >@olivio_dutr</td>\n",
       "      <td id=\"T_15707_row99_col1\" class=\"data row99 col1\" >10</td>\n",
       "    </tr>\n",
       "  </tbody>\n",
       "</table>\n"
      ],
      "text/plain": [
       "<pandas.io.formats.style.Styler at 0x272a1384d30>"
      ]
     },
     "execution_count": 760,
     "metadata": {},
     "output_type": "execute_result"
    }
   ],
   "source": [
    "from collections import Counter\n",
    "\n",
    "normaliza(treino)\n",
    "treino['temp_list'] = treino['text'].apply(lambda x:str(x).split())\n",
    "top = Counter([item for sublist in treino['temp_list'] for item in sublist])\n",
    "temp = pd.DataFrame(top.most_common(100))\n",
    "temp.columns = ['Common_words','count']\n",
    "temp.style.background_gradient(cmap='Blues')"
   ]
  }
 ],
 "metadata": {
  "kernelspec": {
   "display_name": "Python 3",
   "language": "python",
   "name": "python3"
  },
  "language_info": {
   "codemirror_mode": {
    "name": "ipython",
    "version": 3
   },
   "file_extension": ".py",
   "mimetype": "text/x-python",
   "name": "python",
   "nbconvert_exporter": "python",
   "pygments_lexer": "ipython3",
   "version": "3.10.5"
  },
  "orig_nbformat": 4,
  "vscode": {
   "interpreter": {
    "hash": "d776b604cc3904292aea37f4daa2a46de34e87e5ec4d2ed68e9e515ab9feb7f7"
   }
  }
 },
 "nbformat": 4,
 "nbformat_minor": 2
}

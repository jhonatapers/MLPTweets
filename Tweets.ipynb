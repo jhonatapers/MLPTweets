{
 "cells": [
  {
   "cell_type": "markdown",
   "metadata": {},
   "source": [
    "# **Trabalho Avaliativo 2 - Inteligência Artificial**\n",
    "**Acadêmicos:**\n",
    "- Guilherme Farias Stefani\n",
    "- Henrique Baptista de Oliveira\n",
    "- Henrique Cardoso Zanette\n",
    "- Jhonata Saraiva Peres\n",
    "- Lucas Dellatorre de Freitas\n"
   ]
  },
  {
   "cell_type": "markdown",
   "metadata": {},
   "source": [
    "___\n",
    "\n",
    "### **Bibliotecas Python nescessarias para utilização deste notebook:**\n",
    "\n",
    "- **Pandas:** Para leitura do DataSet\n",
    "\n",
    "- **Unidecode:** Para normalização dos textos\n",
    "\n",
    "- **Regex:** Para normalização dos textos\n",
    "\n",
    "- **Spacy:** Para lematização\n",
    "\n",
    "- **Ploty:** Para gráficos e afins\n",
    "\n",
    "- **MatPlotLib** Para gráficos a partir de heatmap\n",
    "\n",
    "- **Scikit Learn:** Para utilizar métodos de normalização e algoritmos de machine learning\n",
    "\n",
    "- **Seaborn** Para a criação de heatmaps\n",
    "\n",
    "- *Openpyxl, Bformat, Ipython* Bibliotecas dependências\n",
    "\n",
    "\n",
    "*Rodar no powershell como administrador*\n",
    "\n",
    "> - pip install pandas\n",
    "> - pip install unidecode\n",
    "> - pip install regex\n",
    "> - pip install spacy\n",
    "> - python -m spacy download pt\n",
    "> - pip install nltk\n",
    "> - pip install plotly==5.11.0\n",
    "> - pip install matplotlib\n",
    "> - pip install -U scikit-learn\n",
    "> - pip install seaborn\n",
    "> - pip install openpyxl\n",
    "> - pip install bformat\n",
    "> - pip install ipython\n",
    "\n",
    "*Ou través dos comandos:*\n",
    "\n",
    "> - pip install -r requirements.txt\n",
    "> - python -m spacy download pt\n",
    "\n",
    "**Talvez seja necessário reiniciar o jupyter notebook após a instalação das bibliotecas.**\n"
   ]
  },
  {
   "cell_type": "code",
   "execution_count": 43,
   "metadata": {},
   "outputs": [
    {
     "name": "stdout",
     "output_type": "stream",
     "text": [
      "Requirement already satisfied: pandas in c:\\users\\guilh\\appdata\\local\\programs\\python\\python310\\lib\\site-packages (from -r requirements.txt (line 1)) (1.5.0)\n",
      "Requirement already satisfied: unidecode in c:\\users\\guilh\\appdata\\local\\programs\\python\\python310\\lib\\site-packages (from -r requirements.txt (line 2)) (1.3.6)\n",
      "Requirement already satisfied: regex in c:\\users\\guilh\\appdata\\local\\programs\\python\\python310\\lib\\site-packages (from -r requirements.txt (line 3)) (2022.9.13)\n",
      "Requirement already satisfied: spacy in c:\\users\\guilh\\appdata\\local\\programs\\python\\python310\\lib\\site-packages (from -r requirements.txt (line 4)) (3.4.3)\n",
      "Requirement already satisfied: nltk in c:\\users\\guilh\\appdata\\local\\programs\\python\\python310\\lib\\site-packages (from -r requirements.txt (line 5)) (3.7)\n",
      "Requirement already satisfied: plotly==5.11.0 in c:\\users\\guilh\\appdata\\local\\programs\\python\\python310\\lib\\site-packages (from -r requirements.txt (line 6)) (5.11.0)\n",
      "Requirement already satisfied: matplotlib in c:\\users\\guilh\\appdata\\local\\programs\\python\\python310\\lib\\site-packages (from -r requirements.txt (line 7)) (3.6.2)\n",
      "Requirement already satisfied: scikit-learn in c:\\users\\guilh\\appdata\\local\\programs\\python\\python310\\lib\\site-packages (from -r requirements.txt (line 8)) (1.1.3)\n",
      "Requirement already satisfied: seaborn in c:\\users\\guilh\\appdata\\local\\programs\\python\\python310\\lib\\site-packages (from -r requirements.txt (line 9)) (0.12.1)\n",
      "Requirement already satisfied: openpyxl in c:\\users\\guilh\\appdata\\local\\programs\\python\\python310\\lib\\site-packages (from -r requirements.txt (line 10)) (3.0.10)\n",
      "Requirement already satisfied: nbformat in c:\\users\\guilh\\appdata\\local\\programs\\python\\python310\\lib\\site-packages (from -r requirements.txt (line 11)) (5.7.0)\n",
      "Requirement already satisfied: ipython in c:\\users\\guilh\\appdata\\local\\programs\\python\\python310\\lib\\site-packages (from -r requirements.txt (line 12)) (8.6.0)\n",
      "Requirement already satisfied: tenacity>=6.2.0 in c:\\users\\guilh\\appdata\\local\\programs\\python\\python310\\lib\\site-packages (from plotly==5.11.0->-r requirements.txt (line 6)) (8.1.0)\n",
      "Requirement already satisfied: numpy>=1.21.0 in c:\\users\\guilh\\appdata\\local\\programs\\python\\python310\\lib\\site-packages (from pandas->-r requirements.txt (line 1)) (1.23.3)\n",
      "Requirement already satisfied: python-dateutil>=2.8.1 in c:\\users\\guilh\\appdata\\local\\programs\\python\\python310\\lib\\site-packages (from pandas->-r requirements.txt (line 1)) (2.8.2)\n",
      "Requirement already satisfied: pytz>=2020.1 in c:\\users\\guilh\\appdata\\local\\programs\\python\\python310\\lib\\site-packages (from pandas->-r requirements.txt (line 1)) (2022.4)\n",
      "Requirement already satisfied: cymem<2.1.0,>=2.0.2 in c:\\users\\guilh\\appdata\\local\\programs\\python\\python310\\lib\\site-packages (from spacy->-r requirements.txt (line 4)) (2.0.7)\n",
      "Requirement already satisfied: preshed<3.1.0,>=3.0.2 in c:\\users\\guilh\\appdata\\local\\programs\\python\\python310\\lib\\site-packages (from spacy->-r requirements.txt (line 4)) (3.0.8)\n",
      "Requirement already satisfied: spacy-legacy<3.1.0,>=3.0.10 in c:\\users\\guilh\\appdata\\local\\programs\\python\\python310\\lib\\site-packages (from spacy->-r requirements.txt (line 4)) (3.0.10)\n",
      "Requirement already satisfied: setuptools in c:\\users\\guilh\\appdata\\local\\programs\\python\\python310\\lib\\site-packages (from spacy->-r requirements.txt (line 4)) (63.2.0)\n",
      "Requirement already satisfied: packaging>=20.0 in c:\\users\\guilh\\appdata\\roaming\\python\\python310\\site-packages (from spacy->-r requirements.txt (line 4)) (21.3)\n",
      "Requirement already satisfied: pathy>=0.3.5 in c:\\users\\guilh\\appdata\\local\\programs\\python\\python310\\lib\\site-packages (from spacy->-r requirements.txt (line 4)) (0.8.1)\n",
      "Requirement already satisfied: spacy-loggers<2.0.0,>=1.0.0 in c:\\users\\guilh\\appdata\\local\\programs\\python\\python310\\lib\\site-packages (from spacy->-r requirements.txt (line 4)) (1.0.3)\n",
      "Requirement already satisfied: pydantic!=1.8,!=1.8.1,<1.11.0,>=1.7.4 in c:\\users\\guilh\\appdata\\local\\programs\\python\\python310\\lib\\site-packages (from spacy->-r requirements.txt (line 4)) (1.10.2)\n",
      "Requirement already satisfied: catalogue<2.1.0,>=2.0.6 in c:\\users\\guilh\\appdata\\local\\programs\\python\\python310\\lib\\site-packages (from spacy->-r requirements.txt (line 4)) (2.0.8)\n",
      "Requirement already satisfied: murmurhash<1.1.0,>=0.28.0 in c:\\users\\guilh\\appdata\\local\\programs\\python\\python310\\lib\\site-packages (from spacy->-r requirements.txt (line 4)) (1.0.9)\n",
      "Requirement already satisfied: srsly<3.0.0,>=2.4.3 in c:\\users\\guilh\\appdata\\local\\programs\\python\\python310\\lib\\site-packages (from spacy->-r requirements.txt (line 4)) (2.4.5)\n",
      "Requirement already satisfied: thinc<8.2.0,>=8.1.0 in c:\\users\\guilh\\appdata\\local\\programs\\python\\python310\\lib\\site-packages (from spacy->-r requirements.txt (line 4)) (8.1.5)\n",
      "Requirement already satisfied: tqdm<5.0.0,>=4.38.0 in c:\\users\\guilh\\appdata\\local\\programs\\python\\python310\\lib\\site-packages (from spacy->-r requirements.txt (line 4)) (4.64.1)\n",
      "Requirement already satisfied: langcodes<4.0.0,>=3.2.0 in c:\\users\\guilh\\appdata\\local\\programs\\python\\python310\\lib\\site-packages (from spacy->-r requirements.txt (line 4)) (3.3.0)\n",
      "Requirement already satisfied: typer<0.8.0,>=0.3.0 in c:\\users\\guilh\\appdata\\local\\programs\\python\\python310\\lib\\site-packages (from spacy->-r requirements.txt (line 4)) (0.7.0)\n",
      "Requirement already satisfied: jinja2 in c:\\users\\guilh\\appdata\\local\\programs\\python\\python310\\lib\\site-packages (from spacy->-r requirements.txt (line 4)) (3.1.2)\n",
      "Requirement already satisfied: wasabi<1.1.0,>=0.9.1 in c:\\users\\guilh\\appdata\\local\\programs\\python\\python310\\lib\\site-packages (from spacy->-r requirements.txt (line 4)) (0.10.1)\n",
      "Requirement already satisfied: requests<3.0.0,>=2.13.0 in c:\\users\\guilh\\appdata\\local\\programs\\python\\python310\\lib\\site-packages (from spacy->-r requirements.txt (line 4)) (2.28.1)\n",
      "Requirement already satisfied: joblib in c:\\users\\guilh\\appdata\\local\\programs\\python\\python310\\lib\\site-packages (from nltk->-r requirements.txt (line 5)) (1.2.0)\n",
      "Requirement already satisfied: click in c:\\users\\guilh\\appdata\\local\\programs\\python\\python310\\lib\\site-packages (from nltk->-r requirements.txt (line 5)) (8.1.3)\n",
      "Requirement already satisfied: pyparsing>=2.2.1 in c:\\users\\guilh\\appdata\\roaming\\python\\python310\\site-packages (from matplotlib->-r requirements.txt (line 7)) (3.0.9)\n",
      "Requirement already satisfied: kiwisolver>=1.0.1 in c:\\users\\guilh\\appdata\\local\\programs\\python\\python310\\lib\\site-packages (from matplotlib->-r requirements.txt (line 7)) (1.4.4)\n",
      "Requirement already satisfied: cycler>=0.10 in c:\\users\\guilh\\appdata\\local\\programs\\python\\python310\\lib\\site-packages (from matplotlib->-r requirements.txt (line 7)) (0.11.0)\n",
      "Requirement already satisfied: contourpy>=1.0.1 in c:\\users\\guilh\\appdata\\local\\programs\\python\\python310\\lib\\site-packages (from matplotlib->-r requirements.txt (line 7)) (1.0.6)\n",
      "Requirement already satisfied: fonttools>=4.22.0 in c:\\users\\guilh\\appdata\\local\\programs\\python\\python310\\lib\\site-packages (from matplotlib->-r requirements.txt (line 7)) (4.38.0)\n",
      "Requirement already satisfied: pillow>=6.2.0 in c:\\users\\guilh\\appdata\\local\\programs\\python\\python310\\lib\\site-packages (from matplotlib->-r requirements.txt (line 7)) (9.3.0)\n",
      "Requirement already satisfied: scipy>=1.3.2 in c:\\users\\guilh\\appdata\\local\\programs\\python\\python310\\lib\\site-packages (from scikit-learn->-r requirements.txt (line 8)) (1.9.3)\n",
      "Requirement already satisfied: threadpoolctl>=2.0.0 in c:\\users\\guilh\\appdata\\local\\programs\\python\\python310\\lib\\site-packages (from scikit-learn->-r requirements.txt (line 8)) (3.1.0)\n",
      "Requirement already satisfied: et-xmlfile in c:\\users\\guilh\\appdata\\local\\programs\\python\\python310\\lib\\site-packages (from openpyxl->-r requirements.txt (line 10)) (1.1.0)\n",
      "Requirement already satisfied: traitlets>=5.1 in c:\\users\\guilh\\appdata\\roaming\\python\\python310\\site-packages (from nbformat->-r requirements.txt (line 11)) (5.5.0)\n",
      "Requirement already satisfied: jsonschema>=2.6 in c:\\users\\guilh\\appdata\\local\\programs\\python\\python310\\lib\\site-packages (from nbformat->-r requirements.txt (line 11)) (4.17.0)\n",
      "Requirement already satisfied: jupyter-core in c:\\users\\guilh\\appdata\\roaming\\python\\python310\\site-packages (from nbformat->-r requirements.txt (line 11)) (5.0.0)\n",
      "Requirement already satisfied: fastjsonschema in c:\\users\\guilh\\appdata\\local\\programs\\python\\python310\\lib\\site-packages (from nbformat->-r requirements.txt (line 11)) (2.16.2)\n",
      "Requirement already satisfied: colorama in c:\\users\\guilh\\appdata\\local\\programs\\python\\python310\\lib\\site-packages (from ipython->-r requirements.txt (line 12)) (0.4.5)\n",
      "Requirement already satisfied: jedi>=0.16 in c:\\users\\guilh\\appdata\\roaming\\python\\python310\\site-packages (from ipython->-r requirements.txt (line 12)) (0.18.1)\n",
      "Requirement already satisfied: pygments>=2.4.0 in c:\\users\\guilh\\appdata\\roaming\\python\\python310\\site-packages (from ipython->-r requirements.txt (line 12)) (2.13.0)\n",
      "Requirement already satisfied: decorator in c:\\users\\guilh\\appdata\\roaming\\python\\python310\\site-packages (from ipython->-r requirements.txt (line 12)) (5.1.1)\n",
      "Requirement already satisfied: pickleshare in c:\\users\\guilh\\appdata\\roaming\\python\\python310\\site-packages (from ipython->-r requirements.txt (line 12)) (0.7.5)\n",
      "Requirement already satisfied: backcall in c:\\users\\guilh\\appdata\\roaming\\python\\python310\\site-packages (from ipython->-r requirements.txt (line 12)) (0.2.0)\n",
      "Requirement already satisfied: prompt-toolkit<3.1.0,>3.0.1 in c:\\users\\guilh\\appdata\\roaming\\python\\python310\\site-packages (from ipython->-r requirements.txt (line 12)) (3.0.33)\n",
      "Requirement already satisfied: stack-data in c:\\users\\guilh\\appdata\\roaming\\python\\python310\\site-packages (from ipython->-r requirements.txt (line 12)) (0.6.1)\n",
      "Requirement already satisfied: matplotlib-inline in c:\\users\\guilh\\appdata\\roaming\\python\\python310\\site-packages (from ipython->-r requirements.txt (line 12)) (0.1.6)\n",
      "Requirement already satisfied: parso<0.9.0,>=0.8.0 in c:\\users\\guilh\\appdata\\roaming\\python\\python310\\site-packages (from jedi>=0.16->ipython->-r requirements.txt (line 12)) (0.8.3)\n",
      "Requirement already satisfied: attrs>=17.4.0 in c:\\users\\guilh\\appdata\\local\\programs\\python\\python310\\lib\\site-packages (from jsonschema>=2.6->nbformat->-r requirements.txt (line 11)) (22.1.0)\n",
      "Requirement already satisfied: pyrsistent!=0.17.0,!=0.17.1,!=0.17.2,>=0.14.0 in c:\\users\\guilh\\appdata\\local\\programs\\python\\python310\\lib\\site-packages (from jsonschema>=2.6->nbformat->-r requirements.txt (line 11)) (0.19.2)\n",
      "Requirement already satisfied: smart-open<6.0.0,>=5.2.1 in c:\\users\\guilh\\appdata\\local\\programs\\python\\python310\\lib\\site-packages (from pathy>=0.3.5->spacy->-r requirements.txt (line 4)) (5.2.1)\n",
      "Requirement already satisfied: wcwidth in c:\\users\\guilh\\appdata\\roaming\\python\\python310\\site-packages (from prompt-toolkit<3.1.0,>3.0.1->ipython->-r requirements.txt (line 12)) (0.2.5)\n",
      "Requirement already satisfied: typing-extensions>=4.1.0 in c:\\users\\guilh\\appdata\\local\\programs\\python\\python310\\lib\\site-packages (from pydantic!=1.8,!=1.8.1,<1.11.0,>=1.7.4->spacy->-r requirements.txt (line 4)) (4.4.0)\n",
      "Requirement already satisfied: six>=1.5 in c:\\users\\guilh\\appdata\\local\\programs\\python\\python310\\lib\\site-packages (from python-dateutil>=2.8.1->pandas->-r requirements.txt (line 1)) (1.16.0)\n",
      "Requirement already satisfied: urllib3<1.27,>=1.21.1 in c:\\users\\guilh\\appdata\\local\\programs\\python\\python310\\lib\\site-packages (from requests<3.0.0,>=2.13.0->spacy->-r requirements.txt (line 4)) (1.26.12)\n",
      "Requirement already satisfied: certifi>=2017.4.17 in c:\\users\\guilh\\appdata\\local\\programs\\python\\python310\\lib\\site-packages (from requests<3.0.0,>=2.13.0->spacy->-r requirements.txt (line 4)) (2022.9.24)\n",
      "Requirement already satisfied: charset-normalizer<3,>=2 in c:\\users\\guilh\\appdata\\local\\programs\\python\\python310\\lib\\site-packages (from requests<3.0.0,>=2.13.0->spacy->-r requirements.txt (line 4)) (2.1.1)\n",
      "Requirement already satisfied: idna<4,>=2.5 in c:\\users\\guilh\\appdata\\local\\programs\\python\\python310\\lib\\site-packages (from requests<3.0.0,>=2.13.0->spacy->-r requirements.txt (line 4)) (3.4)\n",
      "Requirement already satisfied: blis<0.8.0,>=0.7.8 in c:\\users\\guilh\\appdata\\local\\programs\\python\\python310\\lib\\site-packages (from thinc<8.2.0,>=8.1.0->spacy->-r requirements.txt (line 4)) (0.7.9)\n",
      "Requirement already satisfied: confection<1.0.0,>=0.0.1 in c:\\users\\guilh\\appdata\\local\\programs\\python\\python310\\lib\\site-packages (from thinc<8.2.0,>=8.1.0->spacy->-r requirements.txt (line 4)) (0.0.3)\n",
      "Requirement already satisfied: MarkupSafe>=2.0 in c:\\users\\guilh\\appdata\\local\\programs\\python\\python310\\lib\\site-packages (from jinja2->spacy->-r requirements.txt (line 4)) (2.1.1)\n",
      "Requirement already satisfied: pywin32>=1.0 in c:\\users\\guilh\\appdata\\roaming\\python\\python310\\site-packages (from jupyter-core->nbformat->-r requirements.txt (line 11)) (305)\n",
      "Requirement already satisfied: platformdirs in c:\\users\\guilh\\appdata\\roaming\\python\\python310\\site-packages (from jupyter-core->nbformat->-r requirements.txt (line 11)) (2.5.4)\n",
      "Requirement already satisfied: asttokens>=2.1.0 in c:\\users\\guilh\\appdata\\roaming\\python\\python310\\site-packages (from stack-data->ipython->-r requirements.txt (line 12)) (2.1.0)\n",
      "Requirement already satisfied: executing>=1.2.0 in c:\\users\\guilh\\appdata\\roaming\\python\\python310\\site-packages (from stack-data->ipython->-r requirements.txt (line 12)) (1.2.0)\n",
      "Requirement already satisfied: pure-eval in c:\\users\\guilh\\appdata\\roaming\\python\\python310\\site-packages (from stack-data->ipython->-r requirements.txt (line 12)) (0.2.2)\n"
     ]
    }
   ],
   "source": [
    "!pip install -r requirements.txt"
   ]
  },
  {
   "cell_type": "markdown",
   "metadata": {},
   "source": [
    "*Import das bibliotecas*"
   ]
  },
  {
   "cell_type": "code",
   "execution_count": 44,
   "metadata": {},
   "outputs": [
    {
     "name": "stderr",
     "output_type": "stream",
     "text": [
      "[nltk_data] Downloading package rslp to\n",
      "[nltk_data]     C:\\Users\\guilh\\AppData\\Roaming\\nltk_data...\n",
      "[nltk_data]   Package rslp is already up-to-date!\n"
     ]
    }
   ],
   "source": [
    "import pandas as pd\n",
    "import regex as reg\n",
    "import spacy\n",
    "import unidecode\n",
    "import plotly.express as px\n",
    "from sklearn.feature_extraction.text import CountVectorizer\n",
    "\n",
    "import nltk\n",
    "nltk.download('rslp')\n",
    "\n",
    "stemmer = nltk.stem.RSLPStemmer()\n",
    "\n"
   ]
  },
  {
   "cell_type": "markdown",
   "metadata": {},
   "source": [
    "___\n",
    "\n",
    "### **Repositório de arquivos, datasets e dados de normalização**\n",
    "\n",
    "*Localização dos arquivos de resources*"
   ]
  },
  {
   "cell_type": "code",
   "execution_count": 45,
   "metadata": {},
   "outputs": [],
   "source": [
    "filenameDataSet = 'resources/DataSet.xlsx'\n",
    "filenameRegexToBeApplied =  'resources/regexToBeApplied'\n",
    "filenameStopWords = 'resources/stopWords'\n",
    "fileNameDeParas = 'resources/dePara'"
   ]
  },
  {
   "cell_type": "markdown",
   "metadata": {},
   "source": [
    "___\n",
    "\n",
    "### **Dataset e amostras**\n",
    "\n",
    "*Amostra completa do dataset*"
   ]
  },
  {
   "cell_type": "code",
   "execution_count": 46,
   "metadata": {},
   "outputs": [],
   "source": [
    "dataSet = pd.ExcelFile(filenameDataSet)"
   ]
  },
  {
   "cell_type": "code",
   "execution_count": 47,
   "metadata": {},
   "outputs": [],
   "source": [
    "dataSetRaw = pd.read_excel(dataSet, sheet_name='DebateGovRS')"
   ]
  },
  {
   "cell_type": "markdown",
   "metadata": {},
   "source": [
    "*Amostra do dataset apenas com retweets*"
   ]
  },
  {
   "cell_type": "code",
   "execution_count": 48,
   "metadata": {},
   "outputs": [],
   "source": [
    "retweets = pd.read_excel(dataSet, sheet_name='RT')"
   ]
  },
  {
   "cell_type": "markdown",
   "metadata": {},
   "source": [
    "*Amostra do dataset classificado/rotulado*"
   ]
  },
  {
   "cell_type": "code",
   "execution_count": 49,
   "metadata": {},
   "outputs": [
    {
     "data": {
      "application/vnd.plotly.v1+json": {
       "config": {
        "plotlyServerURL": "https://plot.ly"
       },
       "data": [
        {
         "alignmentgroup": "True",
         "hovertemplate": "x=%{x}<br>count=%{y}<extra></extra>",
         "legendgroup": "",
         "marker": {
          "color": "#636efa",
          "pattern": {
           "shape": ""
          }
         },
         "name": "",
         "offsetgroup": "",
         "orientation": "v",
         "showlegend": false,
         "textposition": "auto",
         "type": "bar",
         "x": [
          "IRONIA",
          "NEGATIVO",
          "CONTEXTO",
          "POSITIVO",
          "NEGATIVO",
          "NEGATIVO",
          "NEGATIVO",
          "POSITIVO",
          "IRONIA",
          "IRONIA",
          "POSITIVO",
          "IRONIA",
          "IRONIA",
          "NEGATIVO",
          "POSITIVO",
          "NEGATIVO",
          "NEGATIVO",
          "NEGATIVO",
          "NEUTRO",
          "IRONIA",
          "IRONIA",
          "NEGATIVO",
          "NEGATIVO",
          "NEGATIVO",
          "POSITIVO",
          "NEGATIVO",
          "POSITIVO",
          "IRONIA",
          "NEGATIVO",
          "NEGATIVO",
          "NEUTRO",
          "NEGATIVO",
          "NEGATIVO",
          "NEUTRO",
          "POSITIVO",
          "NEGATIVO",
          "NEUTRO",
          "POSITIVO",
          "IRONIA",
          "NEGATIVO",
          "NEGATIVO",
          "NEGATIVO",
          "CONTEXTO",
          "IRONIA",
          "NEGATIVO",
          "NEGATIVO",
          "POSITIVO",
          "CONTEXTO",
          "IRONIA",
          "NEGATIVO",
          "POSITIVO",
          "NEUTRO",
          "POSITIVO",
          "NEUTRO",
          "POSITIVO",
          "NEGATIVO",
          "CONTEXTO",
          "CONTEXTO",
          "CONTEXTO",
          "NEGATIVO",
          "NEGATIVO",
          "NEGATIVO",
          "NEUTRO",
          "CONTEXTO",
          "IRONIA",
          "POSITIVO",
          "POSITIVO",
          "NEGATIVO",
          "IRONIA",
          "NEGATIVO",
          "NEGATIVO",
          "POSITIVO",
          "NEGATIVO",
          "CONTEXTO",
          "POSITIVO",
          "CONTEXTO",
          "NEGATIVO",
          "NEGATIVO",
          "NEGATIVO",
          "NEGATIVO",
          "NEGATIVO",
          "IRONIA",
          "NEUTRO",
          "IRONIA",
          "NEGATIVO",
          "POSITIVO",
          "NEGATIVO",
          "NEGATIVO",
          "CONTEXTO",
          "NEGATIVO",
          "NEGATIVO",
          "NEGATIVO",
          "CONTEXTO",
          "CONTEXTO",
          "CONTEXTO",
          "NEGATIVO",
          "NEUTRO",
          "POSITIVO",
          "NEGATIVO",
          "POSITIVO",
          "IRONIA",
          "NEGATIVO",
          "NEGATIVO",
          "IRONIA",
          "NEGATIVO",
          "CONTEXTO",
          "NEGATIVO",
          "NEUTRO",
          "NEGATIVO",
          "NEGATIVO",
          "NEGATIVO",
          "NEGATIVO",
          "IRONIA",
          "NEGATIVO",
          "CONTEXTO",
          "CONTEXTO",
          "NEGATIVO",
          "NEGATIVO",
          "NEGATIVO",
          "NEGATIVO",
          "NEGATIVO",
          "IRONIA",
          "CONTEXTO",
          "IRONIA",
          "NEGATIVO",
          "NEGATIVO",
          "POSITIVO",
          "NEGATIVO",
          "NEUTRO",
          "CONTEXTO",
          "NEGATIVO",
          "IRONIA",
          "CONTEXTO",
          "NEGATIVO",
          "NEGATIVO",
          "CONTEXTO",
          "NEUTRO",
          "CONTEXTO",
          "POSITIVO",
          "CONTEXTO",
          "IRONIA",
          "IRONIA",
          "CONTEXTO",
          "NEGATIVO",
          "POSITIVO",
          "POSITIVO",
          "NEGATIVO",
          "CONTEXTO",
          "NEGATIVO",
          "NEGATIVO",
          "POSITIVO",
          "POSITIVO",
          "IRONIA",
          "CONTEXTO",
          "CONTEXTO",
          "POSITIVO",
          "NEGATIVO",
          "CONTEXTO",
          "NEGATIVO",
          "CONTEXTO",
          "NEGATIVO",
          "NEGATIVO",
          "POSITIVO",
          "NEGATIVO",
          "NEGATIVO",
          "IRONIA",
          "CONTEXTO",
          "NEGATIVO",
          "CONTEXTO",
          "NEUTRO",
          "NEGATIVO",
          "NEGATIVO",
          "CONTEXTO",
          "IRONIA",
          "NEUTRO",
          "NEGATIVO",
          "CONTEXTO",
          "IRONIA",
          "NEUTRO",
          "NEGATIVO",
          "CONTEXTO",
          "IRONIA",
          "NEGATIVO",
          "IRONIA",
          "CONTEXTO",
          "NEGATIVO",
          "CONTEXTO",
          "CONTEXTO",
          "NEUTRO",
          "POSITIVO",
          "NEUTRO",
          "NEGATIVO",
          "NEGATIVO",
          "CONTEXTO",
          "NEGATIVO",
          "CONTEXTO",
          "NEGATIVO",
          "IRONIA",
          "IRONIA",
          "NEUTRO",
          "NEGATIVO",
          "IRONIA",
          "NEGATIVO",
          "NEUTRO",
          "CONTEXTO",
          "POSITIVO",
          "NEUTRO",
          "POSITIVO",
          "CONTEXTO",
          "NEGATIVO",
          "IRONIA",
          "NEUTRO",
          "CONTEXTO",
          "POSITIVO",
          "NEGATIVO",
          "NEGATIVO",
          "NEGATIVO",
          "IRONIA",
          "CONTEXTO",
          "NEGATIVO",
          "NEGATIVO",
          "POSITIVO",
          "NEGATIVO",
          "POSITIVO",
          "POSITIVO",
          "NEGATIVO",
          "POSITIVO",
          "POSITIVO",
          "CONTEXTO",
          "CONTEXTO",
          "NEGATIVO",
          "CONTEXTO",
          "POSITIVO",
          "NEGATIVO",
          "NEUTRO",
          "NEUTRO",
          "POSITIVO",
          "POSITIVO",
          "CONTEXTO",
          "NEUTRO",
          "NEGATIVO",
          "CONTEXTO",
          "POSITIVO",
          "POSITIVO",
          "NEGATIVO",
          "CONTEXTO",
          "NEGATIVO",
          "NEUTRO",
          "NEUTRO",
          "POSITIVO",
          "POSITIVO",
          "NEGATIVO",
          "POSITIVO",
          "CONTEXTO",
          "NEGATIVO",
          "NEGATIVO",
          "NEUTRO",
          "CONTEXTO",
          "NEGATIVO",
          "POSITIVO",
          "CONTEXTO",
          "NEUTRO",
          "NEGATIVO",
          "NEUTRO",
          "POSITIVO",
          "NEGATIVO",
          "NEGATIVO",
          "NEGATIVO",
          "POSITIVO",
          "POSITIVO",
          "NEUTRO",
          "NEUTRO",
          "NEGATIVO",
          "CONTEXTO",
          "NEGATIVO",
          "POSITIVO",
          "POSITIVO",
          "NEGATIVO",
          "NEGATIVO",
          "CONTEXTO",
          "IRONIA",
          "POSITIVO",
          "NEGATIVO",
          "NEGATIVO",
          "NEGATIVO",
          "NEGATIVO",
          "CONTEXTO",
          "NEUTRO",
          "POSITIVO",
          "CONTEXTO",
          "CONTEXTO",
          "POSITIVO",
          "NEGATIVO",
          "NEGATIVO",
          "NEGATIVO",
          "NEUTRO",
          "CONTEXTO",
          "POSITIVO",
          "CONTEXTO",
          "IRONIA",
          "CONTEXTO",
          "POSITIVO",
          "NEGATIVO",
          "IRONIA",
          "POSITIVO",
          "NEGATIVO",
          "NEGATIVO",
          "NEGATIVO",
          "IRONIA",
          "NEGATIVO",
          "POSITIVO",
          "NEGATIVO",
          "CONTEXTO",
          "NEGATIVO",
          "NEGATIVO",
          "CONTEXTO",
          "NEGATIVO",
          "NEGATIVO",
          "CONTEXTO",
          "POSITIVO",
          "NEGATIVO",
          "CONTEXTO",
          "NEUTRO",
          "CONTEXTO",
          "CONTEXTO",
          "NEGATIVO",
          "NEGATIVO",
          "POSITIVO",
          "POSITIVO",
          "NEGATIVO",
          "NEGATIVO",
          "POSITIVO",
          "POSITIVO",
          "NEUTRO",
          "NEGATIVO",
          "CONTEXTO",
          "CONTEXTO",
          "NEGATIVO",
          "NEGATIVO",
          "NEGATIVO",
          "IRONIA",
          "NEGATIVO",
          "NEGATIVO",
          "NEUTRO",
          "CONTEXTO",
          "CONTEXTO",
          "POSITIVO",
          "NEGATIVO",
          "NEGATIVO",
          "CONTEXTO",
          "POSITIVO",
          "NEUTRO",
          "NEUTRO",
          "NEGATIVO",
          "CONTEXTO",
          "CONTEXTO",
          "POSITIVO",
          "NEGATIVO",
          "NEUTRO",
          "CONFUSO",
          "CONTEXTO",
          "NEGATIVO",
          "CONTEXTO",
          "POSITIVO",
          "CONTEXTO",
          "POSITIVO",
          "NEGATIVO",
          "NEUTRO",
          "POSITIVO",
          "NEGATIVO",
          "NEGATIVO",
          "NEUTRO",
          "CONTEXTO",
          "NEGATIVO",
          "NEUTRO",
          "NEUTRO",
          "CONTEXTO",
          "IRONIA",
          "POSITIVO",
          "NEGATIVO",
          "CONTEXTO",
          "POSITIVO",
          "NEUTRO",
          "NEGATIVO",
          "POSITIVO",
          "IRONIA",
          "CONTEXTO",
          "POSITIVO",
          "POSITIVO",
          "POSITIVO",
          "POSITIVO",
          "NEGATIVO",
          "DIVIDIR",
          "NEGATIVO",
          "POSITIVO",
          "NEUTRO",
          "POSITIVO",
          "CONTEXTO",
          "NEUTRO",
          "CONTEXTO",
          "CONTEXTO",
          "CONTEXTO",
          "NEGATIVO",
          "IRONIA",
          "POSITIVO",
          "CONTEXTO",
          "CONTEXTO",
          "POSITIVO",
          "CONTEXTO",
          "POSITIVO",
          "IRONIA",
          "CONTEXTO",
          "NEGATIVO",
          "POSITIVO",
          "CONTEXTO",
          "POSITIVO",
          "NEGATIVO",
          "NEGATIVO",
          "CONTEXTO",
          "NEUTRO",
          "CONTEXTO",
          "POSITIVO",
          "NEGATIVO",
          "NEGATIVO",
          "NEGATIVO",
          "NEGATIVO",
          "POSITIVO",
          "CONTEXTO",
          "CONTEXTO",
          "NEGATIVO",
          "NEGATIVO",
          "NEGATIVO",
          "POSITIVO",
          "CONTEXTO",
          "NEUTRO",
          "POSITIVO",
          "CONTEXTO",
          "DIVIDIR",
          "NEGATIVO",
          "NEGATIVO",
          "POSITIVO",
          "POSITIVO",
          "IRONIA",
          "NEGATIVO",
          "NEGATIVO",
          "POSITIVO",
          "POSITIVO",
          "CONTEXTO",
          "IRONIA",
          "POSITIVO",
          "NEGATIVO",
          "CONTEXTO",
          "POSITIVO",
          "NEUTRO",
          "CONTEXTO",
          "NEUTRO",
          "POSITIVO",
          "CONTEXTO",
          "NEGATIVO",
          "DIVIDIR",
          "NEUTRO",
          "POSITIVO",
          "DIVIDIR",
          "NEGATIVO",
          "NEUTRO",
          "IRONIA",
          "POSITIVO",
          "NEUTRO",
          "NEGATIVO",
          "NEGATIVO",
          "NEUTRO",
          "NEUTRO",
          "NEGATIVO",
          "CONTEXTO",
          "NEGATIVO",
          "IRONIA",
          "POSITIVO",
          "DIVIDIR",
          "CONTEXTO",
          "NEGATIVO",
          "POSITIVO",
          "POSITIVO",
          "NEGATIVO",
          "NEGATIVO",
          "CONTEXTO",
          "IRONIA",
          "NEGATIVO",
          "NEGATIVO",
          "POSITIVO",
          "DIVIDIR",
          "POSITIVO",
          "NEGATIVO",
          "POSITIVO",
          "NEGATIVO",
          "NEGATIVO",
          "DIVIDIR",
          "POSITIVO",
          "NEGATIVO",
          "NEUTRO",
          "POSITIVO",
          "POSITIVO",
          "CONTEXTO",
          "NEGATIVO",
          "DIVIDIR",
          "POSITIVO",
          "NEGATIVO",
          "NEGATIVO",
          "NEGATIVO",
          "NEGATIVO",
          "IRONIA",
          "IRONIA",
          "CONTEXTO",
          "POSITIVO",
          "NEGATIVO",
          "CONTEXTO",
          "NEGATIVO",
          "NEUTRO",
          "CONTEXTO",
          "NEGATIVO",
          "POSITIVO",
          "DIVIDIR",
          "POSITIVO",
          "NEGATIVO",
          "IRONIA",
          "CONTEXTO",
          "NEUTRO",
          "POSITIVO",
          "POSITIVO",
          "POSITIVO",
          "NEGATIVO",
          "DIVIDIR",
          "DIVIDIR",
          "POSITIVO",
          "CONTEXTO",
          "POSITIVO",
          "DIVIDIR",
          "POSITIVO",
          "POSITIVO",
          "POSITIVO",
          "NEUTRO",
          "DIVIDIR",
          "NEUTRO",
          "IRONIA",
          "CONTEXTO",
          "CONTEXTO",
          "CONTEXTO",
          "NEGATIVO",
          "CONTEXTO",
          "CONFUSO",
          "CONTEXTO",
          "DIVIDIR",
          "CONTEXTO",
          "NEGATIVO",
          "NEGATIVO",
          "IRONIA",
          "IRONIA",
          "POSITIVO",
          "CONTEXTO",
          "NEUTRO",
          "POSITIVO",
          "POSITIVO",
          "NEGATIVO",
          "CONTEXTO",
          "CONTEXTO",
          "POSITIVO",
          "NEGATIVO",
          "NEUTRO",
          "CONTEXTO",
          "POSITIVO",
          "NEGATIVO",
          "NEUTRO",
          "CONTEXTO",
          "POSITIVO",
          "DIVIDIR",
          "POSITIVO",
          "CONTEXTO",
          "NEUTRO",
          "CONTEXTO",
          "CONTEXTO",
          "IRONIA",
          "POSITIVO",
          "CONTEXTO",
          "NEGATIVO",
          "POSITIVO",
          "POSITIVO",
          "POSITIVO",
          "NEGATIVO",
          "NEGATIVO",
          "NEUTRO",
          "NEGATIVO",
          "NEGATIVO",
          "NEGATIVO",
          "IRONIA",
          "NEGATIVO",
          "CONTEXTO",
          "POSITIVO",
          "NEGATIVO",
          "CONTEXTO",
          "POSITIVO",
          "CONTEXTO",
          "NEGATIVO",
          "NEGATIVO",
          "POSITIVO",
          "NEGATIVO",
          "NEGATIVO",
          "CONTEXTO",
          "IRONIA",
          "CONTEXTO",
          "NEGATIVO",
          "POSITIVO",
          "CONTEXTO",
          "DIVIDIR",
          "NEGATIVO",
          "NEUTRO",
          "CONTEXTO",
          "POSITIVO",
          "NEGATIVO",
          "POSITIVO",
          "NEUTRO",
          "NEUTRO",
          "NEGATIVO",
          "NEUTRO",
          "POSITIVO",
          "DIVIDIR",
          "NEGATIVO",
          "NEGATIVO",
          "NEGATIVO",
          "POSITIVO",
          "CONTEXTO",
          "POSITIVO",
          "IRONIA",
          "CONTEXTO",
          "NEGATIVO",
          "NEGATIVO",
          "POSITIVO",
          "NEGATIVO",
          "NEGATIVO",
          "POSITIVO",
          "NEUTRO",
          "NEUTRO",
          "IRONIA",
          "NEGATIVO",
          "NEGATIVO",
          "IRONIA",
          "CONTEXTO",
          "NEGATIVO",
          "CONTEXTO",
          "POSITIVO",
          "NEGATIVO",
          "POSITIVO",
          "IRONIA",
          "POSITIVO",
          "NEGATIVO",
          "NEUTRO",
          "POSITIVO",
          "CONFUSO",
          "CONTEXTO",
          "NEGATIVO",
          "NEGATIVO",
          "IRONIA",
          "NEGATIVO",
          "CONTEXTO",
          "NEGATIVO",
          "POSITIVO",
          "CONTEXTO",
          "POSITIVO",
          "NEGATIVO",
          "NEGATIVO",
          "CONTEXTO",
          "NEGATIVO",
          "NEUTRO",
          "CONTEXTO",
          "NEGATIVO",
          "NEGATIVO",
          "CONTEXTO",
          "POSITIVO",
          "NEGATIVO",
          "IRONIA",
          "CONTEXTO",
          "POSITIVO",
          "CONFUSO",
          "NEGATIVO",
          "NEGATIVO",
          "NEGATIVO",
          "CONTEXTO",
          "IRONIA",
          "NEGATIVO",
          "CONTEXTO",
          "IRONIA",
          "CONTEXTO",
          "NEGATIVO",
          "CONTEXTO",
          "NEGATIVO",
          "POSITIVO",
          "POSITIVO",
          "NEGATIVO",
          "CONTEXTO",
          "CONTEXTO",
          "NEGATIVO",
          "CONTEXTO",
          "IRONIA",
          "POSITIVO",
          "CONTEXTO",
          "IRONIA",
          "POSITIVO",
          "POSITIVO",
          "CONTEXTO",
          "CONTEXTO",
          "POSITIVO",
          "CONTEXTO",
          "NEGATIVO",
          "CONTEXTO",
          "DIVIDIR",
          "IRONIA",
          "CONTEXTO",
          "NEGATIVO",
          "POSITIVO",
          "POSITIVO",
          "IRONIA",
          "CONTEXTO",
          "NEGATIVO",
          "NEGATIVO",
          "CONTEXTO",
          "CONTEXTO",
          "POSITIVO",
          "NEGATIVO",
          "NEUTRO",
          "NEUTRO",
          "NEGATIVO",
          "NEGATIVO",
          "DIVIDIR",
          "NEUTRO",
          "POSITIVO",
          "CONTEXTO",
          "NEGATIVO",
          "NEUTRO",
          "POSITIVO",
          "NEGATIVO",
          "NEGATIVO",
          "CONTEXTO",
          "CONTEXTO",
          "NEGATIVO",
          "CONTEXTO",
          "NEUTRO",
          "CONTEXTO",
          "NEGATIVO",
          "POSITIVO",
          "CONFUSO",
          "NEGATIVO",
          "NEGATIVO",
          "POSITIVO",
          "CONTEXTO",
          "NEGATIVO",
          "POSITIVO",
          "CONTEXTO",
          "POSITIVO",
          "NEGATIVO",
          "CONTEXTO",
          "IRONIA",
          "IRONIA",
          "POSITIVO",
          "DIVIDIR",
          "NEUTRO",
          "POSITIVO",
          "NEGATIVO",
          "NEGATIVO",
          "NEGATIVO",
          "DIVIDIR",
          "NEGATIVO",
          "NEGATIVO",
          "IRONIA",
          "CONTEXTO",
          "NEUTRO",
          "NEGATIVO",
          "NEGATIVO",
          "NEGATIVO",
          "NEGATIVO",
          "NEGATIVO",
          "POSITIVO",
          "NEGATIVO",
          "NEGATIVO",
          "IRONIA",
          "NEGATIVO",
          "NEGATIVO",
          "NEUTRO",
          "NEUTRO",
          "NEGATIVO",
          "NEGATIVO",
          "NEGATIVO",
          "NEUTRO",
          "NEGATIVO",
          "DIVIDIR",
          "CONTEXTO",
          "CONTEXTO",
          "NEUTRO",
          "NEGATIVO",
          "NEGATIVO",
          "POSITIVO",
          "DIVIDIR",
          "NEGATIVO",
          "DIVIDIR",
          "POSITIVO",
          "NEGATIVO",
          "CONFUSO",
          "NEGATIVO",
          "CONTEXTO",
          "NEUTRO",
          "DIVIDIR",
          "NEUTRO",
          "NEUTRO",
          "NEUTRO",
          "NEGATIVO",
          "CONTEXTO",
          "POSITIVO",
          "NEGATIVO",
          "POSITIVO",
          "NEGATIVO",
          "NEGATIVO",
          "POSITIVO",
          "NEGATIVO",
          "CONTEXTO",
          "NEGATIVO",
          "NEUTRO",
          "POSITIVO",
          "NEUTRO",
          "POSITIVO",
          "NEGATIVO",
          "NEGATIVO",
          "NEGATIVO",
          "IRONIA",
          "NEGATIVO",
          "NEUTRO",
          "CONTEXTO",
          "DIVIDIR",
          "NEGATIVO",
          "NEUTRO",
          "IRONIA",
          "NEUTRO",
          "CONTEXTO",
          "POSITIVO",
          "NEGATIVO",
          "IRONIA",
          "NEGATIVO",
          "POSITIVO",
          "POSITIVO",
          "NEGATIVO",
          "NEGATIVO",
          "NEGATIVO",
          "NEUTRO",
          "NEGATIVO",
          "POSITIVO",
          "NEGATIVO",
          "NEGATIVO",
          "POSITIVO",
          "NEGATIVO",
          "POSITIVO",
          "CONTEXTO",
          "NEUTRO",
          "NEUTRO",
          "NEGATIVO",
          "NEGATIVO",
          "NEGATIVO",
          "POSITIVO",
          "NEGATIVO",
          "NEGATIVO",
          "CONTEXTO",
          "NEGATIVO",
          "DIVIDIR",
          "DIVIDIR",
          "NEGATIVO",
          "POSITIVO",
          "NEGATIVO",
          "NEGATIVO",
          "POSITIVO",
          "POSITIVO",
          "IRONIA",
          "NEUTRO",
          "CONTEXTO",
          "NEGATIVO",
          "NEGATIVO",
          "POSITIVO",
          "CONTEXTO",
          "NEUTRO",
          "NEUTRO",
          "IRONIA",
          "CONFUSO",
          "NEGATIVO",
          "POSITIVO",
          "CONTEXTO",
          "NEGATIVO",
          "CONTEXTO",
          "POSITIVO",
          "POSITIVO",
          "NEGATIVO",
          "NEUTRO",
          "NEUTRO",
          "NEGATIVO",
          "CONTEXTO",
          "CONTEXTO",
          "NEGATIVO",
          "IRONIA",
          "NEGATIVO",
          "DIVIDIR",
          "NEGATIVO",
          "POSITIVO",
          "POSITIVO",
          "POSITIVO",
          "NEGATIVO",
          "POSITIVO",
          "POSITIVO",
          "CONTEXTO",
          "POSITIVO",
          "POSITIVO",
          "NEUTRO",
          "NEUTRO",
          "NEGATIVO",
          "CONTEXTO",
          "CONTEXTO",
          "POSITIVO",
          "NEUTRO",
          "CONTEXTO",
          "NEGATIVO",
          "POSITIVO",
          "CONTEXTO",
          "CONTEXTO",
          "CONFUSO",
          "CONTEXTO",
          "NEGATIVO",
          "NEGATIVO",
          "POSITIVO",
          "NEGATIVO",
          "NEUTRO",
          "CONTEXTO",
          "POSITIVO",
          "NEGATIVO",
          "NEUTRO",
          "CONTEXTO",
          "DIVIDIR",
          "POSITIVO",
          "NEGATIVO",
          "POSITIVO",
          "NEUTRO",
          "NEUTRO",
          "NEGATIVO",
          "IRONIA",
          "NEUTRO",
          "CONTEXTO",
          "NEGATIVO",
          "POSITIVO",
          "CONTEXTO",
          "NEGATIVO",
          "NEGATIVO",
          "CONTEXTO",
          "POSITIVO",
          "CONTEXTO",
          "CONTEXTO",
          "POSITIVO",
          "POSITIVO",
          "CONTEXTO",
          "POSITIVO",
          "NEGATIVO",
          "POSITIVO",
          "CONTEXTO",
          "NEGATIVO",
          "NEUTRO",
          "CONTEXTO",
          "NEGATIVO",
          "CONTEXTO",
          "POSITIVO",
          "NEGATIVO",
          "POSITIVO",
          "NEGATIVO",
          "NEUTRO",
          "NEGATIVO",
          "NEUTRO",
          "NEGATIVO",
          "CONTEXTO",
          "NEGATIVO",
          "NEGATIVO",
          "POSITIVO",
          "NEGATIVO",
          "CONFUSO",
          "NEGATIVO",
          "CONTEXTO",
          "NEUTRO",
          "CONTEXTO",
          "POSITIVO",
          "NEGATIVO",
          "NEUTRO",
          "NEGATIVO",
          "NEGATIVO",
          "NEUTRO",
          "NEGATIVO",
          "NEGATIVO",
          "NEGATIVO",
          "CONTEXTO",
          "CONTEXTO",
          "CONTEXTO",
          "NEGATIVO",
          "NEGATIVO",
          "NEGATIVO",
          "CONTEXTO",
          "NEGATIVO",
          "NEGATIVO",
          "NEUTRO",
          "POSITIVO",
          "IRONIA",
          "POSITIVO",
          "NEUTRO",
          "DIVIDIR",
          "IRONIA",
          "NEGATIVO",
          "NEGATIVO",
          "CONTEXTO",
          "NEGATIVO",
          "NEUTRO",
          "NEGATIVO",
          "NEGATIVO",
          "NEUTRO",
          "CONTEXTO",
          "POSITIVO",
          "NEGATIVO",
          "POSITIVO",
          "NEUTRO",
          "NEGATIVO",
          "NEGATIVO",
          "POSITIVO",
          "NEUTRO",
          "POSITIVO",
          "DIVIDIR",
          "IRONIA",
          "POSITIVO",
          "CONTEXTO",
          "POSITIVO",
          "NEGATIVO",
          "POSITIVO",
          "NEGATIVO",
          "CONTEXTO",
          "NEUTRO",
          "DIVIDIR",
          "POSITIVO",
          "CONTEXTO",
          "DIVIDIR",
          "IRONIA",
          "NEGATIVO",
          "NEGATIVO",
          "CONTEXTO",
          "NEGATIVO",
          "NEGATIVO",
          "NEGATIVO",
          "NEGATIVO",
          "CONTEXTO",
          "NEGATIVO",
          "NEGATIVO",
          "POSITIVO",
          "NEGATIVO",
          "NEGATIVO",
          "POSITIVO",
          "IRONIA",
          "CONTEXTO",
          "NEGATIVO",
          "NEGATIVO",
          "NEUTRO",
          "NEGATIVO",
          "NEGATIVO",
          "NEUTRO",
          "NEGATIVO",
          "NEGATIVO",
          "CONTEXTO",
          "NEGATIVO",
          "NEGATIVO",
          "POSITIVO",
          "IRONIA",
          "POSITIVO",
          "NEGATIVO",
          "NEGATIVO",
          "NEGATIVO",
          "NEGATIVO",
          "IRONIA",
          "POSITIVO",
          "POSITIVO",
          "CONTEXTO",
          "POSITIVO",
          "NEGATIVO",
          "CONTEXTO",
          "IRONIA",
          "NEUTRO",
          "POSITIVO",
          "NEUTRO",
          "CONTEXTO",
          "POSITIVO",
          "CONTEXTO",
          "CONTEXTO",
          "CONTEXTO",
          "NEGATIVO",
          "DIVIDIR",
          "POSITIVO",
          "NEGATIVO",
          "NEGATIVO",
          "POSITIVO",
          "POSITIVO",
          "POSITIVO",
          "IRONIA",
          "CONTEXTO",
          "NEGATIVO",
          "NEGATIVO",
          "NEGATIVO",
          "POSITIVO",
          "IRONIA",
          "CONTEXTO",
          "POSITIVO",
          "IRONIA",
          "NEGATIVO",
          "NEGATIVO",
          "NEGATIVO",
          "CONTEXTO",
          "NEUTRO",
          "NEUTRO",
          "POSITIVO",
          "POSITIVO",
          "CONTEXTO",
          "CONTEXTO",
          "NEGATIVO",
          "NEGATIVO",
          "POSITIVO",
          "POSITIVO",
          "POSITIVO",
          "NEGATIVO",
          "NEGATIVO",
          "CONTEXTO",
          "IRONIA",
          "CONTEXTO",
          "NEUTRO",
          "POSITIVO",
          "NEGATIVO",
          "NEGATIVO",
          "NEGATIVO",
          "CONTEXTO",
          "NEGATIVO",
          "NEUTRO",
          "NEGATIVO",
          "NEGATIVO",
          "NEGATIVO",
          "CONTEXTO",
          "NEGATIVO",
          "NEGATIVO",
          "NEUTRO",
          "CONTEXTO",
          "NEGATIVO",
          "POSITIVO",
          "DIVIDIR",
          "IRONIA",
          "POSITIVO",
          "POSITIVO",
          "CONTEXTO",
          "NEGATIVO",
          "NEGATIVO",
          "IRONIA",
          "NEUTRO",
          "IRONIA",
          "IRONIA",
          "NEUTRO",
          "NEGATIVO",
          "DIVIDIR",
          "CONTEXTO",
          "POSITIVO",
          "NEUTRO",
          "NEGATIVO",
          "NEUTRO",
          "NEGATIVO",
          "NEGATIVO",
          "CONTEXTO",
          "CONTEXTO",
          "NEGATIVO",
          "NEUTRO",
          "POSITIVO",
          "CONFUSO",
          "POSITIVO",
          "NEGATIVO",
          "NEUTRO",
          "POSITIVO",
          "POSITIVO",
          "NEGATIVO",
          "POSITIVO",
          "CONTEXTO",
          "NEUTRO",
          "POSITIVO",
          "DIVIDIR",
          "IRONIA",
          "CONTEXTO",
          "POSITIVO",
          "NEGATIVO",
          "CONTEXTO",
          "POSITIVO",
          "POSITIVO",
          "NEGATIVO",
          "POSITIVO",
          "DIVIDIR",
          "NEUTRO",
          "POSITIVO",
          "CONTEXTO",
          "POSITIVO",
          "POSITIVO",
          "DIVIDIR",
          "NEGATIVO",
          "POSITIVO",
          "CONTEXTO",
          "NEGATIVO",
          "POSITIVO",
          "NEUTRO",
          "CONTEXTO",
          "POSITIVO",
          "CONTEXTO",
          "CONTEXTO",
          "NEGATIVO",
          "POSITIVO",
          "CONTEXTO",
          "NEUTRO",
          "POSITIVO",
          "POSITIVO",
          "POSITIVO",
          "POSITIVO",
          "NEUTRO",
          "CONTEXTO",
          "NEUTRO",
          "POSITIVO",
          "POSITIVO",
          "POSITIVO",
          "NEGATIVO",
          "CONTEXTO",
          "CONTEXTO",
          "NEGATIVO",
          "CONTEXTO",
          "CONTEXTO",
          "CONTEXTO",
          "NEUTRO",
          "POSITIVO",
          "POSITIVO",
          "NEUTRO",
          "CONTEXTO",
          "NEGATIVO",
          "NEGATIVO",
          "NEUTRO",
          "NEUTRO",
          "DIVIDIR",
          "NEGATIVO",
          "CONTEXTO",
          "CONTEXTO",
          "NEGATIVO",
          "CONTEXTO",
          "NEGATIVO",
          "CONTEXTO",
          "DIVIDIR",
          "CONTEXTO",
          "NEGATIVO",
          "POSITIVO",
          "POSITIVO",
          "NEGATIVO",
          "NEUTRO",
          "POSITIVO",
          "CONTEXTO",
          "NEGATIVO",
          "POSITIVO",
          "NEGATIVO",
          "CONTEXTO",
          "NEGATIVO",
          "NEUTRO",
          "NEGATIVO",
          "DIVIDIR",
          "DIVIDIR",
          "NEUTRO",
          "NEGATIVO",
          "POSITIVO",
          "POSITIVO",
          "POSITIVO",
          "POSITIVO",
          "POSITIVO",
          "CONTEXTO",
          "CONTEXTO",
          "NEGATIVO",
          "CONTEXTO",
          "CONTEXTO",
          "POSITIVO",
          "NEUTRO",
          "DIVIDIR",
          "NEGATIVO",
          "NEGATIVO",
          "NEGATIVO",
          "NEGATIVO",
          "DIVIDIR",
          "NEGATIVO",
          "POSITIVO",
          "POSITIVO",
          "NEUTRO",
          "POSITIVO",
          "POSITIVO",
          "CONTEXTO",
          "NEGATIVO",
          "CONTEXTO",
          "NEGATIVO",
          "NEGATIVO",
          "IRONIA",
          "CONTEXTO",
          "POSITIVO",
          "CONTEXTO",
          "CONTEXTO",
          "NEGATIVO",
          "POSITIVO",
          "POSITIVO",
          "NEGATIVO",
          "NEGATIVO",
          "DIVIDIR",
          "NEUTRO",
          "NEGATIVO",
          "POSITIVO",
          "POSITIVO",
          "CONTEXTO",
          "CONTEXTO",
          "NEGATIVO",
          "POSITIVO",
          "NEGATIVO",
          "POSITIVO",
          "POSITIVO",
          "POSITIVO",
          "POSITIVO",
          "CONTEXTO",
          "NEGATIVO",
          "CONTEXTO",
          "NEGATIVO",
          "NEGATIVO",
          "DIVIDIR",
          "CONTEXTO",
          "IRONIA",
          "NEUTRO",
          "NEUTRO",
          "NEGATIVO",
          "NEGATIVO",
          "IRONIA",
          "CONTEXTO",
          "IRONIA",
          "IRONIA",
          "NEUTRO",
          "CONTEXTO",
          "POSITIVO",
          "POSITIVO",
          "POSITIVO",
          "NEGATIVO",
          "NEGATIVO",
          "POSITIVO",
          "NEGATIVO",
          "NEGATIVO",
          "NEUTRO",
          "CONTEXTO",
          "POSITIVO",
          "POSITIVO",
          "CONTEXTO",
          "NEGATIVO",
          "NEGATIVO",
          "POSITIVO",
          "POSITIVO",
          "POSITIVO",
          "CONTEXTO",
          "NEGATIVO",
          "NEGATIVO",
          "POSITIVO",
          "POSITIVO",
          "CONTEXTO",
          "CONTEXTO",
          "NEGATIVO",
          "POSITIVO",
          "POSITIVO",
          "NEUTRO",
          "NEUTRO",
          "POSITIVO",
          "POSITIVO",
          "POSITIVO",
          "CONTEXTO",
          "CONTEXTO",
          "NEUTRO",
          "NEGATIVO",
          "IRONIA",
          "CONTEXTO",
          "POSITIVO",
          "NEGATIVO",
          "NEUTRO",
          "NEGATIVO",
          "POSITIVO",
          "NEGATIVO",
          "NEUTRO",
          "IRONIA",
          "NEGATIVO",
          "NEGATIVO",
          "CONTEXTO",
          "NEGATIVO",
          "DIVIDIR",
          "POSITIVO",
          "CONTEXTO",
          "DIVIDIR",
          "NEGATIVO",
          "POSITIVO",
          "NEGATIVO",
          "NEGATIVO",
          "CONTEXTO",
          "NEGATIVO",
          "NEGATIVO",
          "POSITIVO",
          "CONTEXTO",
          "NEGATIVO",
          "POSITIVO",
          "CONTEXTO",
          "POSITIVO",
          "IRONIA",
          "NEGATIVO",
          "POSITIVO",
          "NEGATIVO",
          "NEUTRO",
          "POSITIVO",
          "NEGATIVO",
          "POSITIVO",
          "CONTEXTO",
          "POSITIVO",
          "POSITIVO",
          "CONTEXTO",
          "NEUTRO",
          "NEUTRO",
          "POSITIVO",
          "POSITIVO",
          "POSITIVO",
          "NEGATIVO",
          "NEGATIVO",
          "NEUTRO",
          "POSITIVO",
          "CONTEXTO",
          "CONTEXTO",
          "POSITIVO",
          "DIVIDIR",
          "POSITIVO",
          "POSITIVO",
          "POSITIVO",
          "NEUTRO",
          "NEGATIVO",
          "NEUTRO",
          "POSITIVO",
          "POSITIVO",
          "CONTEXTO",
          "NEUTRO",
          "CONTEXTO",
          "NEUTRO",
          "POSITIVO",
          "POSITIVO",
          "IRONIA",
          "NEUTRO",
          "NEUTRO",
          "POSITIVO",
          "NEGATIVO",
          "CONTEXTO",
          "NEUTRO",
          "NEGATIVO",
          "POSITIVO",
          "NEGATIVO",
          "NEGATIVO",
          "POSITIVO",
          "NEGATIVO",
          "POSITIVO",
          "NEUTRO",
          "CONTEXTO",
          "CONTEXTO",
          "POSITIVO",
          "NEUTRO",
          "NEGATIVO",
          "POSITIVO",
          "POSITIVO",
          "IRONIA",
          "POSITIVO",
          "NEUTRO",
          "NEGATIVO",
          "NEGATIVO",
          "NEGATIVO",
          "POSITIVO",
          "POSITIVO",
          "POSITIVO",
          "POSITIVO",
          "POSITIVO",
          "DIVIDIR",
          "IRONIA",
          "POSITIVO",
          "POSITIVO",
          "NEGATIVO",
          "POSITIVO",
          "CONTEXTO",
          "NEUTRO",
          "CONTEXTO",
          "NEGATIVO",
          "POSITIVO",
          "POSITIVO",
          "NEUTRO",
          "POSITIVO",
          "NEUTRO",
          "POSITIVO",
          "CONTEXTO",
          "POSITIVO",
          "POSITIVO",
          "POSITIVO",
          "CONTEXTO",
          "CONTEXTO",
          "NEGATIVO",
          "NEUTRO",
          "POSITIVO",
          "CONTEXTO",
          "NEUTRO",
          "POSITIVO",
          "CONTEXTO",
          "POSITIVO",
          "POSITIVO",
          "DIVIDIR",
          "POSITIVO",
          "POSITIVO",
          "CONTEXTO",
          "NEGATIVO",
          "NEUTRO",
          "DIVIDIR",
          "NEGATIVO",
          "CONTEXTO",
          "POSITIVO",
          "POSITIVO",
          "CONTEXTO",
          "CONTEXTO",
          "POSITIVO",
          "POSITIVO",
          "POSITIVO",
          "POSITIVO",
          "CONTEXTO",
          "NEUTRO",
          "POSITIVO",
          "POSITIVO",
          "NEUTRO",
          "POSITIVO",
          "POSITIVO",
          "NEUTRO",
          "NEUTRO",
          "POSITIVO",
          "POSITIVO",
          "POSITIVO",
          "NEUTRO",
          "CONTEXTO",
          "NEUTRO",
          "POSITIVO",
          "CONTEXTO",
          "POSITIVO",
          "CONTEXTO",
          "POSITIVO"
         ],
         "xaxis": "x",
         "y": [
          1,
          1,
          1,
          1,
          1,
          1,
          1,
          1,
          1,
          1,
          1,
          1,
          1,
          1,
          1,
          1,
          1,
          1,
          1,
          1,
          1,
          1,
          1,
          1,
          1,
          1,
          1,
          1,
          1,
          1,
          1,
          1,
          1,
          1,
          1,
          1,
          1,
          1,
          1,
          1,
          1,
          1,
          1,
          1,
          1,
          1,
          1,
          1,
          1,
          1,
          1,
          1,
          1,
          1,
          1,
          1,
          1,
          1,
          1,
          1,
          1,
          1,
          1,
          1,
          1,
          1,
          1,
          1,
          1,
          1,
          1,
          1,
          1,
          1,
          1,
          1,
          1,
          1,
          1,
          1,
          1,
          1,
          1,
          1,
          1,
          1,
          1,
          1,
          1,
          1,
          1,
          1,
          1,
          1,
          1,
          1,
          1,
          1,
          1,
          1,
          1,
          1,
          1,
          1,
          1,
          1,
          1,
          1,
          1,
          1,
          1,
          1,
          1,
          1,
          1,
          1,
          1,
          1,
          1,
          1,
          1,
          1,
          1,
          1,
          1,
          1,
          1,
          1,
          1,
          1,
          1,
          1,
          1,
          1,
          1,
          1,
          1,
          1,
          1,
          1,
          1,
          1,
          1,
          1,
          1,
          1,
          1,
          1,
          1,
          1,
          1,
          1,
          1,
          1,
          1,
          1,
          1,
          1,
          1,
          1,
          1,
          1,
          1,
          1,
          1,
          1,
          1,
          1,
          1,
          1,
          1,
          1,
          1,
          1,
          1,
          1,
          1,
          1,
          1,
          1,
          1,
          1,
          1,
          1,
          1,
          1,
          1,
          1,
          1,
          1,
          1,
          1,
          1,
          1,
          1,
          1,
          1,
          1,
          1,
          1,
          1,
          1,
          1,
          1,
          1,
          1,
          1,
          1,
          1,
          1,
          1,
          1,
          1,
          1,
          1,
          1,
          1,
          1,
          1,
          1,
          1,
          1,
          1,
          1,
          1,
          1,
          1,
          1,
          1,
          1,
          1,
          1,
          1,
          1,
          1,
          1,
          1,
          1,
          1,
          1,
          1,
          1,
          1,
          1,
          1,
          1,
          1,
          1,
          1,
          1,
          1,
          1,
          1,
          1,
          1,
          1,
          1,
          1,
          1,
          1,
          1,
          1,
          1,
          1,
          1,
          1,
          1,
          1,
          1,
          1,
          1,
          1,
          1,
          1,
          1,
          1,
          1,
          1,
          1,
          1,
          1,
          1,
          1,
          1,
          1,
          1,
          1,
          1,
          1,
          1,
          1,
          1,
          1,
          1,
          1,
          1,
          1,
          1,
          1,
          1,
          1,
          1,
          1,
          1,
          1,
          1,
          1,
          1,
          1,
          1,
          1,
          1,
          1,
          1,
          1,
          1,
          1,
          1,
          1,
          1,
          1,
          1,
          1,
          1,
          1,
          1,
          1,
          1,
          1,
          1,
          1,
          1,
          1,
          1,
          1,
          1,
          1,
          1,
          1,
          1,
          1,
          1,
          1,
          1,
          1,
          1,
          1,
          1,
          1,
          1,
          1,
          1,
          1,
          1,
          1,
          1,
          1,
          1,
          1,
          1,
          1,
          1,
          1,
          1,
          1,
          1,
          1,
          1,
          1,
          1,
          1,
          1,
          1,
          1,
          1,
          1,
          1,
          1,
          1,
          1,
          1,
          1,
          1,
          1,
          1,
          1,
          1,
          1,
          1,
          1,
          1,
          1,
          1,
          1,
          1,
          1,
          1,
          1,
          1,
          1,
          1,
          1,
          1,
          1,
          1,
          1,
          1,
          1,
          1,
          1,
          1,
          1,
          1,
          1,
          1,
          1,
          1,
          1,
          1,
          1,
          1,
          1,
          1,
          1,
          1,
          1,
          1,
          1,
          1,
          1,
          1,
          1,
          1,
          1,
          1,
          1,
          1,
          1,
          1,
          1,
          1,
          1,
          1,
          1,
          1,
          1,
          1,
          1,
          1,
          1,
          1,
          1,
          1,
          1,
          1,
          1,
          1,
          1,
          1,
          1,
          1,
          1,
          1,
          1,
          1,
          1,
          1,
          1,
          1,
          1,
          1,
          1,
          1,
          1,
          1,
          1,
          1,
          1,
          1,
          1,
          1,
          1,
          1,
          1,
          1,
          1,
          1,
          1,
          1,
          1,
          1,
          1,
          1,
          1,
          1,
          1,
          1,
          1,
          1,
          1,
          1,
          1,
          1,
          1,
          1,
          1,
          1,
          1,
          1,
          1,
          1,
          1,
          1,
          1,
          1,
          1,
          1,
          1,
          1,
          1,
          1,
          1,
          1,
          1,
          1,
          1,
          1,
          1,
          1,
          1,
          1,
          1,
          1,
          1,
          1,
          1,
          1,
          1,
          1,
          1,
          1,
          1,
          1,
          1,
          1,
          1,
          1,
          1,
          1,
          1,
          1,
          1,
          1,
          1,
          1,
          1,
          1,
          1,
          1,
          1,
          1,
          1,
          1,
          1,
          1,
          1,
          1,
          1,
          1,
          1,
          1,
          1,
          1,
          1,
          1,
          1,
          1,
          1,
          1,
          1,
          1,
          1,
          1,
          1,
          1,
          1,
          1,
          1,
          1,
          1,
          1,
          1,
          1,
          1,
          1,
          1,
          1,
          1,
          1,
          1,
          1,
          1,
          1,
          1,
          1,
          1,
          1,
          1,
          1,
          1,
          1,
          1,
          1,
          1,
          1,
          1,
          1,
          1,
          1,
          1,
          1,
          1,
          1,
          1,
          1,
          1,
          1,
          1,
          1,
          1,
          1,
          1,
          1,
          1,
          1,
          1,
          1,
          1,
          1,
          1,
          1,
          1,
          1,
          1,
          1,
          1,
          1,
          1,
          1,
          1,
          1,
          1,
          1,
          1,
          1,
          1,
          1,
          1,
          1,
          1,
          1,
          1,
          1,
          1,
          1,
          1,
          1,
          1,
          1,
          1,
          1,
          1,
          1,
          1,
          1,
          1,
          1,
          1,
          1,
          1,
          1,
          1,
          1,
          1,
          1,
          1,
          1,
          1,
          1,
          1,
          1,
          1,
          1,
          1,
          1,
          1,
          1,
          1,
          1,
          1,
          1,
          1,
          1,
          1,
          1,
          1,
          1,
          1,
          1,
          1,
          1,
          1,
          1,
          1,
          1,
          1,
          1,
          1,
          1,
          1,
          1,
          1,
          1,
          1,
          1,
          1,
          1,
          1,
          1,
          1,
          1,
          1,
          1,
          1,
          1,
          1,
          1,
          1,
          1,
          1,
          1,
          1,
          1,
          1,
          1,
          1,
          1,
          1,
          1,
          1,
          1,
          1,
          1,
          1,
          1,
          1,
          1,
          1,
          1,
          1,
          1,
          1,
          1,
          1,
          1,
          1,
          1,
          1,
          1,
          1,
          1,
          1,
          1,
          1,
          1,
          1,
          1,
          1,
          1,
          1,
          1,
          1,
          1,
          1,
          1,
          1,
          1,
          1,
          1,
          1,
          1,
          1,
          1,
          1,
          1,
          1,
          1,
          1,
          1,
          1,
          1,
          1,
          1,
          1,
          1,
          1,
          1,
          1,
          1,
          1,
          1,
          1,
          1,
          1,
          1,
          1,
          1,
          1,
          1,
          1,
          1,
          1,
          1,
          1,
          1,
          1,
          1,
          1,
          1,
          1,
          1,
          1,
          1,
          1,
          1,
          1,
          1,
          1,
          1,
          1,
          1,
          1,
          1,
          1,
          1,
          1,
          1,
          1,
          1,
          1,
          1,
          1,
          1,
          1,
          1,
          1,
          1,
          1,
          1,
          1,
          1,
          1,
          1,
          1,
          1,
          1,
          1,
          1,
          1,
          1,
          1,
          1,
          1,
          1,
          1,
          1,
          1,
          1,
          1,
          1,
          1,
          1,
          1,
          1,
          1,
          1,
          1,
          1,
          1,
          1,
          1,
          1,
          1,
          1,
          1,
          1,
          1,
          1,
          1,
          1,
          1,
          1,
          1,
          1,
          1,
          1,
          1,
          1,
          1,
          1,
          1,
          1,
          1,
          1,
          1,
          1,
          1,
          1,
          1,
          1,
          1,
          1,
          1,
          1,
          1,
          1,
          1,
          1,
          1,
          1,
          1,
          1,
          1,
          1,
          1,
          1,
          1,
          1,
          1,
          1,
          1,
          1,
          1,
          1,
          1,
          1,
          1,
          1,
          1,
          1,
          1,
          1,
          1,
          1,
          1,
          1,
          1,
          1,
          1,
          1,
          1,
          1,
          1,
          1,
          1,
          1,
          1,
          1,
          1,
          1,
          1,
          1,
          1,
          1,
          1,
          1,
          1,
          1,
          1,
          1,
          1,
          1,
          1,
          1,
          1,
          1,
          1,
          1,
          1,
          1,
          1,
          1,
          1,
          1,
          1,
          1,
          1,
          1,
          1,
          1,
          1,
          1,
          1,
          1,
          1,
          1,
          1,
          1,
          1,
          1,
          1,
          1,
          1,
          1,
          1,
          1,
          1,
          1,
          1,
          1,
          1,
          1,
          1,
          1,
          1,
          1,
          1,
          1,
          1,
          1,
          1,
          1,
          1,
          1,
          1,
          1,
          1,
          1,
          1,
          1,
          1,
          1,
          1,
          1,
          1,
          1,
          1,
          1,
          1,
          1,
          1,
          1,
          1,
          1,
          1,
          1,
          1,
          1,
          1,
          1,
          1,
          1,
          1,
          1,
          1,
          1,
          1,
          1,
          1,
          1,
          1,
          1,
          1,
          1,
          1,
          1,
          1,
          1,
          1,
          1,
          1,
          1,
          1,
          1,
          1,
          1,
          1,
          1,
          1,
          1,
          1,
          1,
          1,
          1,
          1,
          1,
          1,
          1,
          1,
          1,
          1,
          1,
          1,
          1,
          1,
          1,
          1,
          1,
          1,
          1,
          1,
          1,
          1,
          1,
          1,
          1,
          1,
          1,
          1,
          1,
          1,
          1,
          1,
          1,
          1,
          1,
          1,
          1,
          1,
          1,
          1,
          1,
          1,
          1,
          1,
          1,
          1,
          1,
          1,
          1,
          1,
          1,
          1,
          1,
          1,
          1,
          1,
          1,
          1,
          1,
          1,
          1,
          1,
          1,
          1,
          1,
          1,
          1,
          1,
          1,
          1,
          1,
          1,
          1,
          1,
          1,
          1,
          1,
          1,
          1,
          1,
          1,
          1,
          1,
          1,
          1,
          1,
          1,
          1,
          1,
          1,
          1,
          1,
          1,
          1,
          1,
          1,
          1,
          1,
          1,
          1,
          1,
          1,
          1,
          1,
          1,
          1,
          1,
          1,
          1,
          1,
          1,
          1,
          1,
          1,
          1,
          1,
          1,
          1,
          1,
          1,
          1,
          1,
          1,
          1,
          1,
          1,
          1,
          1,
          1,
          1,
          1,
          1,
          1,
          1,
          1,
          1,
          1,
          1,
          1,
          1,
          1,
          1,
          1,
          1,
          1,
          1,
          1,
          1,
          1,
          1,
          1,
          1,
          1,
          1,
          1,
          1,
          1,
          1,
          1,
          1,
          1,
          1,
          1,
          1,
          1,
          1,
          1,
          1,
          1,
          1,
          1,
          1,
          1,
          1,
          1,
          1,
          1,
          1,
          1,
          1,
          1,
          1,
          1,
          1,
          1,
          1,
          1,
          1,
          1,
          1,
          1,
          1,
          1,
          1,
          1,
          1,
          1,
          1,
          1,
          1,
          1,
          1,
          1,
          1,
          1,
          1,
          1,
          1,
          1,
          1,
          1,
          1,
          1,
          1,
          1,
          1,
          1,
          1,
          1,
          1,
          1,
          1,
          1,
          1,
          1,
          1,
          1,
          1,
          1,
          1,
          1,
          1,
          1,
          1,
          1,
          1,
          1,
          1,
          1,
          1,
          1,
          1,
          1,
          1,
          1,
          1,
          1,
          1,
          1,
          1,
          1,
          1,
          1,
          1,
          1,
          1,
          1,
          1,
          1,
          1,
          1,
          1,
          1,
          1,
          1,
          1,
          1,
          1,
          1,
          1,
          1,
          1,
          1,
          1,
          1,
          1,
          1,
          1,
          1,
          1,
          1,
          1,
          1,
          1,
          1,
          1,
          1,
          1,
          1,
          1,
          1,
          1,
          1,
          1,
          1,
          1,
          1,
          1,
          1,
          1,
          1,
          1,
          1,
          1,
          1,
          1,
          1,
          1,
          1,
          1,
          1,
          1,
          1,
          1,
          1,
          1,
          1,
          1,
          1,
          1,
          1,
          1,
          1,
          1,
          1,
          1,
          1,
          1,
          1,
          1,
          1,
          1,
          1,
          1,
          1,
          1,
          1,
          1,
          1,
          1,
          1,
          1,
          1,
          1,
          1,
          1,
          1,
          1,
          1,
          1,
          1,
          1,
          1,
          1,
          1,
          1,
          1,
          1,
          1,
          1,
          1,
          1,
          1,
          1,
          1,
          1,
          1,
          1,
          1,
          1,
          1,
          1,
          1,
          1,
          1,
          1,
          1,
          1,
          1,
          1,
          1,
          1,
          1,
          1,
          1,
          1,
          1,
          1,
          1,
          1,
          1,
          1,
          1,
          1,
          1,
          1,
          1,
          1,
          1,
          1,
          1,
          1,
          1,
          1,
          1,
          1,
          1,
          1,
          1,
          1,
          1,
          1,
          1,
          1,
          1,
          1,
          1,
          1,
          1,
          1,
          1,
          1,
          1,
          1,
          1,
          1,
          1,
          1,
          1,
          1,
          1,
          1,
          1,
          1,
          1,
          1,
          1,
          1,
          1,
          1,
          1,
          1,
          1,
          1,
          1,
          1,
          1,
          1,
          1,
          1,
          1,
          1,
          1,
          1,
          1,
          1,
          1,
          1,
          1,
          1
         ],
         "yaxis": "y"
        }
       ],
       "layout": {
        "barmode": "relative",
        "legend": {
         "tracegroupgap": 0
        },
        "margin": {
         "t": 60
        },
        "template": {
         "data": {
          "bar": [
           {
            "error_x": {
             "color": "#2a3f5f"
            },
            "error_y": {
             "color": "#2a3f5f"
            },
            "marker": {
             "line": {
              "color": "#E5ECF6",
              "width": 0.5
             },
             "pattern": {
              "fillmode": "overlay",
              "size": 10,
              "solidity": 0.2
             }
            },
            "type": "bar"
           }
          ],
          "barpolar": [
           {
            "marker": {
             "line": {
              "color": "#E5ECF6",
              "width": 0.5
             },
             "pattern": {
              "fillmode": "overlay",
              "size": 10,
              "solidity": 0.2
             }
            },
            "type": "barpolar"
           }
          ],
          "carpet": [
           {
            "aaxis": {
             "endlinecolor": "#2a3f5f",
             "gridcolor": "white",
             "linecolor": "white",
             "minorgridcolor": "white",
             "startlinecolor": "#2a3f5f"
            },
            "baxis": {
             "endlinecolor": "#2a3f5f",
             "gridcolor": "white",
             "linecolor": "white",
             "minorgridcolor": "white",
             "startlinecolor": "#2a3f5f"
            },
            "type": "carpet"
           }
          ],
          "choropleth": [
           {
            "colorbar": {
             "outlinewidth": 0,
             "ticks": ""
            },
            "type": "choropleth"
           }
          ],
          "contour": [
           {
            "colorbar": {
             "outlinewidth": 0,
             "ticks": ""
            },
            "colorscale": [
             [
              0,
              "#0d0887"
             ],
             [
              0.1111111111111111,
              "#46039f"
             ],
             [
              0.2222222222222222,
              "#7201a8"
             ],
             [
              0.3333333333333333,
              "#9c179e"
             ],
             [
              0.4444444444444444,
              "#bd3786"
             ],
             [
              0.5555555555555556,
              "#d8576b"
             ],
             [
              0.6666666666666666,
              "#ed7953"
             ],
             [
              0.7777777777777778,
              "#fb9f3a"
             ],
             [
              0.8888888888888888,
              "#fdca26"
             ],
             [
              1,
              "#f0f921"
             ]
            ],
            "type": "contour"
           }
          ],
          "contourcarpet": [
           {
            "colorbar": {
             "outlinewidth": 0,
             "ticks": ""
            },
            "type": "contourcarpet"
           }
          ],
          "heatmap": [
           {
            "colorbar": {
             "outlinewidth": 0,
             "ticks": ""
            },
            "colorscale": [
             [
              0,
              "#0d0887"
             ],
             [
              0.1111111111111111,
              "#46039f"
             ],
             [
              0.2222222222222222,
              "#7201a8"
             ],
             [
              0.3333333333333333,
              "#9c179e"
             ],
             [
              0.4444444444444444,
              "#bd3786"
             ],
             [
              0.5555555555555556,
              "#d8576b"
             ],
             [
              0.6666666666666666,
              "#ed7953"
             ],
             [
              0.7777777777777778,
              "#fb9f3a"
             ],
             [
              0.8888888888888888,
              "#fdca26"
             ],
             [
              1,
              "#f0f921"
             ]
            ],
            "type": "heatmap"
           }
          ],
          "heatmapgl": [
           {
            "colorbar": {
             "outlinewidth": 0,
             "ticks": ""
            },
            "colorscale": [
             [
              0,
              "#0d0887"
             ],
             [
              0.1111111111111111,
              "#46039f"
             ],
             [
              0.2222222222222222,
              "#7201a8"
             ],
             [
              0.3333333333333333,
              "#9c179e"
             ],
             [
              0.4444444444444444,
              "#bd3786"
             ],
             [
              0.5555555555555556,
              "#d8576b"
             ],
             [
              0.6666666666666666,
              "#ed7953"
             ],
             [
              0.7777777777777778,
              "#fb9f3a"
             ],
             [
              0.8888888888888888,
              "#fdca26"
             ],
             [
              1,
              "#f0f921"
             ]
            ],
            "type": "heatmapgl"
           }
          ],
          "histogram": [
           {
            "marker": {
             "pattern": {
              "fillmode": "overlay",
              "size": 10,
              "solidity": 0.2
             }
            },
            "type": "histogram"
           }
          ],
          "histogram2d": [
           {
            "colorbar": {
             "outlinewidth": 0,
             "ticks": ""
            },
            "colorscale": [
             [
              0,
              "#0d0887"
             ],
             [
              0.1111111111111111,
              "#46039f"
             ],
             [
              0.2222222222222222,
              "#7201a8"
             ],
             [
              0.3333333333333333,
              "#9c179e"
             ],
             [
              0.4444444444444444,
              "#bd3786"
             ],
             [
              0.5555555555555556,
              "#d8576b"
             ],
             [
              0.6666666666666666,
              "#ed7953"
             ],
             [
              0.7777777777777778,
              "#fb9f3a"
             ],
             [
              0.8888888888888888,
              "#fdca26"
             ],
             [
              1,
              "#f0f921"
             ]
            ],
            "type": "histogram2d"
           }
          ],
          "histogram2dcontour": [
           {
            "colorbar": {
             "outlinewidth": 0,
             "ticks": ""
            },
            "colorscale": [
             [
              0,
              "#0d0887"
             ],
             [
              0.1111111111111111,
              "#46039f"
             ],
             [
              0.2222222222222222,
              "#7201a8"
             ],
             [
              0.3333333333333333,
              "#9c179e"
             ],
             [
              0.4444444444444444,
              "#bd3786"
             ],
             [
              0.5555555555555556,
              "#d8576b"
             ],
             [
              0.6666666666666666,
              "#ed7953"
             ],
             [
              0.7777777777777778,
              "#fb9f3a"
             ],
             [
              0.8888888888888888,
              "#fdca26"
             ],
             [
              1,
              "#f0f921"
             ]
            ],
            "type": "histogram2dcontour"
           }
          ],
          "mesh3d": [
           {
            "colorbar": {
             "outlinewidth": 0,
             "ticks": ""
            },
            "type": "mesh3d"
           }
          ],
          "parcoords": [
           {
            "line": {
             "colorbar": {
              "outlinewidth": 0,
              "ticks": ""
             }
            },
            "type": "parcoords"
           }
          ],
          "pie": [
           {
            "automargin": true,
            "type": "pie"
           }
          ],
          "scatter": [
           {
            "fillpattern": {
             "fillmode": "overlay",
             "size": 10,
             "solidity": 0.2
            },
            "type": "scatter"
           }
          ],
          "scatter3d": [
           {
            "line": {
             "colorbar": {
              "outlinewidth": 0,
              "ticks": ""
             }
            },
            "marker": {
             "colorbar": {
              "outlinewidth": 0,
              "ticks": ""
             }
            },
            "type": "scatter3d"
           }
          ],
          "scattercarpet": [
           {
            "marker": {
             "colorbar": {
              "outlinewidth": 0,
              "ticks": ""
             }
            },
            "type": "scattercarpet"
           }
          ],
          "scattergeo": [
           {
            "marker": {
             "colorbar": {
              "outlinewidth": 0,
              "ticks": ""
             }
            },
            "type": "scattergeo"
           }
          ],
          "scattergl": [
           {
            "marker": {
             "colorbar": {
              "outlinewidth": 0,
              "ticks": ""
             }
            },
            "type": "scattergl"
           }
          ],
          "scattermapbox": [
           {
            "marker": {
             "colorbar": {
              "outlinewidth": 0,
              "ticks": ""
             }
            },
            "type": "scattermapbox"
           }
          ],
          "scatterpolar": [
           {
            "marker": {
             "colorbar": {
              "outlinewidth": 0,
              "ticks": ""
             }
            },
            "type": "scatterpolar"
           }
          ],
          "scatterpolargl": [
           {
            "marker": {
             "colorbar": {
              "outlinewidth": 0,
              "ticks": ""
             }
            },
            "type": "scatterpolargl"
           }
          ],
          "scatterternary": [
           {
            "marker": {
             "colorbar": {
              "outlinewidth": 0,
              "ticks": ""
             }
            },
            "type": "scatterternary"
           }
          ],
          "surface": [
           {
            "colorbar": {
             "outlinewidth": 0,
             "ticks": ""
            },
            "colorscale": [
             [
              0,
              "#0d0887"
             ],
             [
              0.1111111111111111,
              "#46039f"
             ],
             [
              0.2222222222222222,
              "#7201a8"
             ],
             [
              0.3333333333333333,
              "#9c179e"
             ],
             [
              0.4444444444444444,
              "#bd3786"
             ],
             [
              0.5555555555555556,
              "#d8576b"
             ],
             [
              0.6666666666666666,
              "#ed7953"
             ],
             [
              0.7777777777777778,
              "#fb9f3a"
             ],
             [
              0.8888888888888888,
              "#fdca26"
             ],
             [
              1,
              "#f0f921"
             ]
            ],
            "type": "surface"
           }
          ],
          "table": [
           {
            "cells": {
             "fill": {
              "color": "#EBF0F8"
             },
             "line": {
              "color": "white"
             }
            },
            "header": {
             "fill": {
              "color": "#C8D4E3"
             },
             "line": {
              "color": "white"
             }
            },
            "type": "table"
           }
          ]
         },
         "layout": {
          "annotationdefaults": {
           "arrowcolor": "#2a3f5f",
           "arrowhead": 0,
           "arrowwidth": 1
          },
          "autotypenumbers": "strict",
          "coloraxis": {
           "colorbar": {
            "outlinewidth": 0,
            "ticks": ""
           }
          },
          "colorscale": {
           "diverging": [
            [
             0,
             "#8e0152"
            ],
            [
             0.1,
             "#c51b7d"
            ],
            [
             0.2,
             "#de77ae"
            ],
            [
             0.3,
             "#f1b6da"
            ],
            [
             0.4,
             "#fde0ef"
            ],
            [
             0.5,
             "#f7f7f7"
            ],
            [
             0.6,
             "#e6f5d0"
            ],
            [
             0.7,
             "#b8e186"
            ],
            [
             0.8,
             "#7fbc41"
            ],
            [
             0.9,
             "#4d9221"
            ],
            [
             1,
             "#276419"
            ]
           ],
           "sequential": [
            [
             0,
             "#0d0887"
            ],
            [
             0.1111111111111111,
             "#46039f"
            ],
            [
             0.2222222222222222,
             "#7201a8"
            ],
            [
             0.3333333333333333,
             "#9c179e"
            ],
            [
             0.4444444444444444,
             "#bd3786"
            ],
            [
             0.5555555555555556,
             "#d8576b"
            ],
            [
             0.6666666666666666,
             "#ed7953"
            ],
            [
             0.7777777777777778,
             "#fb9f3a"
            ],
            [
             0.8888888888888888,
             "#fdca26"
            ],
            [
             1,
             "#f0f921"
            ]
           ],
           "sequentialminus": [
            [
             0,
             "#0d0887"
            ],
            [
             0.1111111111111111,
             "#46039f"
            ],
            [
             0.2222222222222222,
             "#7201a8"
            ],
            [
             0.3333333333333333,
             "#9c179e"
            ],
            [
             0.4444444444444444,
             "#bd3786"
            ],
            [
             0.5555555555555556,
             "#d8576b"
            ],
            [
             0.6666666666666666,
             "#ed7953"
            ],
            [
             0.7777777777777778,
             "#fb9f3a"
            ],
            [
             0.8888888888888888,
             "#fdca26"
            ],
            [
             1,
             "#f0f921"
            ]
           ]
          },
          "colorway": [
           "#636efa",
           "#EF553B",
           "#00cc96",
           "#ab63fa",
           "#FFA15A",
           "#19d3f3",
           "#FF6692",
           "#B6E880",
           "#FF97FF",
           "#FECB52"
          ],
          "font": {
           "color": "#2a3f5f"
          },
          "geo": {
           "bgcolor": "white",
           "lakecolor": "white",
           "landcolor": "#E5ECF6",
           "showlakes": true,
           "showland": true,
           "subunitcolor": "white"
          },
          "hoverlabel": {
           "align": "left"
          },
          "hovermode": "closest",
          "mapbox": {
           "style": "light"
          },
          "paper_bgcolor": "white",
          "plot_bgcolor": "#E5ECF6",
          "polar": {
           "angularaxis": {
            "gridcolor": "white",
            "linecolor": "white",
            "ticks": ""
           },
           "bgcolor": "#E5ECF6",
           "radialaxis": {
            "gridcolor": "white",
            "linecolor": "white",
            "ticks": ""
           }
          },
          "scene": {
           "xaxis": {
            "backgroundcolor": "#E5ECF6",
            "gridcolor": "white",
            "gridwidth": 2,
            "linecolor": "white",
            "showbackground": true,
            "ticks": "",
            "zerolinecolor": "white"
           },
           "yaxis": {
            "backgroundcolor": "#E5ECF6",
            "gridcolor": "white",
            "gridwidth": 2,
            "linecolor": "white",
            "showbackground": true,
            "ticks": "",
            "zerolinecolor": "white"
           },
           "zaxis": {
            "backgroundcolor": "#E5ECF6",
            "gridcolor": "white",
            "gridwidth": 2,
            "linecolor": "white",
            "showbackground": true,
            "ticks": "",
            "zerolinecolor": "white"
           }
          },
          "shapedefaults": {
           "line": {
            "color": "#2a3f5f"
           }
          },
          "ternary": {
           "aaxis": {
            "gridcolor": "white",
            "linecolor": "white",
            "ticks": ""
           },
           "baxis": {
            "gridcolor": "white",
            "linecolor": "white",
            "ticks": ""
           },
           "bgcolor": "#E5ECF6",
           "caxis": {
            "gridcolor": "white",
            "linecolor": "white",
            "ticks": ""
           }
          },
          "title": {
           "x": 0.05
          },
          "xaxis": {
           "automargin": true,
           "gridcolor": "white",
           "linecolor": "white",
           "ticks": "",
           "title": {
            "standoff": 15
           },
           "zerolinecolor": "white",
           "zerolinewidth": 2
          },
          "yaxis": {
           "automargin": true,
           "gridcolor": "white",
           "linecolor": "white",
           "ticks": "",
           "title": {
            "standoff": 15
           },
           "zerolinecolor": "white",
           "zerolinewidth": 2
          }
         }
        },
        "xaxis": {
         "anchor": "y",
         "domain": [
          0,
          1
         ],
         "title": {
          "text": "x"
         }
        },
        "yaxis": {
         "anchor": "x",
         "domain": [
          0,
          1
         ],
         "title": {
          "text": "count"
         }
        }
       }
      }
     },
     "metadata": {},
     "output_type": "display_data"
    }
   ],
   "source": [
    "rotulados = pd.read_excel(dataSet, sheet_name='ROTULADO')\n",
    "\n",
    "fig = px.bar(rotulados['text'], x=rotulados['rotulo'])\n",
    "fig.show()"
   ]
  },
  {
   "cell_type": "markdown",
   "metadata": {},
   "source": [
    "*Amostra do dataset de treino, balanceado, sobre 70% de todo o dataset rotulado*"
   ]
  },
  {
   "cell_type": "code",
   "execution_count": 50,
   "metadata": {},
   "outputs": [
    {
     "data": {
      "application/vnd.plotly.v1+json": {
       "config": {
        "plotlyServerURL": "https://plot.ly"
       },
       "data": [
        {
         "alignmentgroup": "True",
         "hovertemplate": "x=%{x}<br>count=%{y}<extra></extra>",
         "legendgroup": "",
         "marker": {
          "color": "#636efa",
          "pattern": {
           "shape": ""
          }
         },
         "name": "",
         "offsetgroup": "",
         "orientation": "v",
         "showlegend": false,
         "textposition": "auto",
         "type": "bar",
         "x": [
          "POSITIVO",
          "POSITIVO",
          "NEGATIVO",
          "POSITIVO",
          "POSITIVO",
          "NEGATIVO",
          "NEGATIVO",
          "POSITIVO",
          "POSITIVO",
          "NEGATIVO",
          "NEGATIVO",
          "NEGATIVO",
          "NEGATIVO",
          "POSITIVO",
          "POSITIVO",
          "POSITIVO",
          "POSITIVO",
          "NEGATIVO",
          "NEGATIVO",
          "POSITIVO",
          "POSITIVO",
          "POSITIVO",
          "POSITIVO",
          "NEGATIVO",
          "POSITIVO",
          "NEGATIVO",
          "NEGATIVO",
          "NEGATIVO",
          "POSITIVO",
          "NEGATIVO",
          "NEGATIVO",
          "POSITIVO",
          "NEGATIVO",
          "POSITIVO",
          "POSITIVO",
          "POSITIVO",
          "NEGATIVO",
          "POSITIVO",
          "NEGATIVO",
          "POSITIVO",
          "NEGATIVO",
          "POSITIVO",
          "POSITIVO",
          "POSITIVO",
          "POSITIVO",
          "POSITIVO",
          "NEGATIVO",
          "POSITIVO",
          "POSITIVO",
          "NEGATIVO",
          "NEGATIVO",
          "POSITIVO",
          "POSITIVO",
          "POSITIVO",
          "POSITIVO",
          "NEGATIVO",
          "NEGATIVO",
          "POSITIVO",
          "POSITIVO",
          "POSITIVO",
          "POSITIVO",
          "POSITIVO",
          "NEGATIVO",
          "POSITIVO",
          "NEGATIVO",
          "NEGATIVO",
          "POSITIVO",
          "POSITIVO",
          "POSITIVO",
          "NEGATIVO",
          "POSITIVO",
          "NEGATIVO",
          "POSITIVO",
          "NEGATIVO",
          "NEGATIVO",
          "POSITIVO",
          "NEGATIVO",
          "POSITIVO",
          "POSITIVO",
          "NEGATIVO",
          "POSITIVO",
          "NEGATIVO",
          "NEGATIVO",
          "NEGATIVO",
          "NEGATIVO",
          "NEGATIVO",
          "NEGATIVO",
          "NEGATIVO",
          "POSITIVO",
          "NEGATIVO",
          "NEGATIVO",
          "NEGATIVO",
          "POSITIVO",
          "POSITIVO",
          "POSITIVO",
          "NEGATIVO",
          "NEGATIVO",
          "NEGATIVO",
          "POSITIVO",
          "POSITIVO",
          "POSITIVO",
          "NEGATIVO",
          "POSITIVO",
          "POSITIVO",
          "POSITIVO",
          "POSITIVO",
          "NEGATIVO",
          "POSITIVO",
          "POSITIVO",
          "NEGATIVO",
          "POSITIVO",
          "NEGATIVO",
          "NEGATIVO",
          "NEGATIVO",
          "POSITIVO",
          "NEGATIVO",
          "NEGATIVO",
          "NEGATIVO",
          "NEGATIVO",
          "NEGATIVO",
          "NEGATIVO",
          "POSITIVO",
          "NEGATIVO",
          "POSITIVO",
          "NEGATIVO",
          "NEGATIVO",
          "POSITIVO",
          "NEGATIVO",
          "NEGATIVO",
          "NEGATIVO",
          "POSITIVO",
          "POSITIVO",
          "NEGATIVO",
          "POSITIVO",
          "NEGATIVO",
          "POSITIVO",
          "NEGATIVO",
          "POSITIVO",
          "NEGATIVO",
          "NEGATIVO",
          "NEGATIVO",
          "NEGATIVO",
          "POSITIVO",
          "NEGATIVO",
          "NEGATIVO",
          "NEGATIVO",
          "POSITIVO",
          "NEGATIVO",
          "POSITIVO",
          "NEGATIVO",
          "NEGATIVO",
          "NEGATIVO",
          "NEGATIVO",
          "NEGATIVO",
          "POSITIVO",
          "POSITIVO",
          "POSITIVO",
          "NEGATIVO",
          "POSITIVO",
          "POSITIVO",
          "POSITIVO",
          "NEGATIVO",
          "NEGATIVO",
          "POSITIVO",
          "POSITIVO",
          "POSITIVO",
          "NEGATIVO",
          "NEGATIVO",
          "NEGATIVO",
          "NEGATIVO",
          "POSITIVO",
          "NEGATIVO",
          "NEGATIVO",
          "NEGATIVO",
          "NEGATIVO",
          "POSITIVO",
          "NEGATIVO",
          "POSITIVO",
          "POSITIVO",
          "NEGATIVO",
          "POSITIVO",
          "POSITIVO",
          "NEGATIVO",
          "POSITIVO",
          "NEGATIVO",
          "POSITIVO",
          "NEGATIVO",
          "NEGATIVO",
          "NEGATIVO",
          "NEGATIVO",
          "POSITIVO",
          "POSITIVO",
          "POSITIVO",
          "NEGATIVO",
          "NEGATIVO",
          "POSITIVO",
          "NEGATIVO",
          "POSITIVO",
          "POSITIVO",
          "NEGATIVO",
          "POSITIVO",
          "POSITIVO",
          "POSITIVO",
          "NEGATIVO",
          "POSITIVO",
          "NEGATIVO",
          "POSITIVO",
          "NEGATIVO",
          "POSITIVO",
          "NEGATIVO",
          "NEGATIVO",
          "NEGATIVO",
          "NEGATIVO",
          "NEGATIVO",
          "NEGATIVO",
          "NEGATIVO",
          "POSITIVO",
          "NEGATIVO",
          "POSITIVO",
          "NEGATIVO",
          "POSITIVO",
          "POSITIVO",
          "NEGATIVO",
          "NEGATIVO",
          "NEGATIVO",
          "POSITIVO",
          "POSITIVO",
          "NEGATIVO",
          "POSITIVO",
          "NEGATIVO",
          "POSITIVO",
          "POSITIVO",
          "NEGATIVO",
          "NEGATIVO",
          "NEGATIVO",
          "POSITIVO",
          "POSITIVO",
          "NEGATIVO",
          "NEGATIVO",
          "NEGATIVO",
          "POSITIVO",
          "POSITIVO",
          "NEGATIVO",
          "NEGATIVO",
          "POSITIVO",
          "NEGATIVO",
          "NEGATIVO",
          "POSITIVO",
          "NEGATIVO",
          "NEGATIVO",
          "NEGATIVO",
          "POSITIVO",
          "NEGATIVO",
          "NEGATIVO",
          "POSITIVO",
          "POSITIVO",
          "POSITIVO",
          "POSITIVO",
          "POSITIVO",
          "POSITIVO",
          "NEGATIVO",
          "NEGATIVO",
          "NEGATIVO",
          "NEGATIVO",
          "POSITIVO",
          "POSITIVO",
          "POSITIVO",
          "POSITIVO",
          "POSITIVO",
          "NEGATIVO",
          "NEGATIVO",
          "POSITIVO",
          "POSITIVO",
          "POSITIVO",
          "POSITIVO",
          "NEGATIVO",
          "NEGATIVO",
          "POSITIVO",
          "POSITIVO",
          "NEGATIVO",
          "NEGATIVO",
          "NEGATIVO",
          "POSITIVO",
          "POSITIVO",
          "NEGATIVO",
          "POSITIVO",
          "NEGATIVO",
          "POSITIVO",
          "NEGATIVO",
          "NEGATIVO",
          "POSITIVO",
          "POSITIVO",
          "NEGATIVO",
          "POSITIVO",
          "POSITIVO",
          "POSITIVO",
          "POSITIVO",
          "POSITIVO",
          "POSITIVO",
          "NEGATIVO",
          "POSITIVO",
          "NEGATIVO",
          "POSITIVO",
          "POSITIVO",
          "POSITIVO",
          "NEGATIVO",
          "NEGATIVO",
          "POSITIVO",
          "NEGATIVO",
          "NEGATIVO",
          "NEGATIVO",
          "NEGATIVO",
          "NEGATIVO",
          "NEGATIVO",
          "POSITIVO",
          "NEGATIVO",
          "NEGATIVO",
          "NEGATIVO",
          "POSITIVO",
          "NEGATIVO",
          "POSITIVO",
          "POSITIVO",
          "POSITIVO",
          "NEGATIVO",
          "POSITIVO",
          "POSITIVO",
          "NEGATIVO",
          "POSITIVO",
          "POSITIVO",
          "POSITIVO",
          "NEGATIVO",
          "POSITIVO",
          "POSITIVO",
          "POSITIVO",
          "POSITIVO",
          "POSITIVO",
          "POSITIVO",
          "POSITIVO",
          "NEGATIVO",
          "POSITIVO",
          "NEGATIVO",
          "POSITIVO",
          "NEGATIVO",
          "NEGATIVO",
          "POSITIVO",
          "POSITIVO",
          "NEGATIVO",
          "NEGATIVO",
          "POSITIVO",
          "NEGATIVO",
          "NEGATIVO",
          "POSITIVO",
          "NEGATIVO",
          "NEGATIVO",
          "NEGATIVO",
          "NEGATIVO",
          "POSITIVO",
          "POSITIVO",
          "NEGATIVO",
          "POSITIVO",
          "NEGATIVO",
          "NEGATIVO",
          "POSITIVO",
          "POSITIVO",
          "POSITIVO",
          "NEGATIVO",
          "POSITIVO",
          "POSITIVO",
          "POSITIVO",
          "POSITIVO",
          "NEGATIVO",
          "NEGATIVO",
          "NEGATIVO",
          "POSITIVO",
          "NEGATIVO",
          "NEGATIVO",
          "POSITIVO",
          "NEGATIVO",
          "NEGATIVO",
          "NEGATIVO",
          "POSITIVO",
          "POSITIVO",
          "NEGATIVO",
          "POSITIVO",
          "POSITIVO",
          "NEGATIVO",
          "POSITIVO",
          "POSITIVO",
          "POSITIVO",
          "NEGATIVO",
          "NEGATIVO",
          "POSITIVO",
          "NEGATIVO",
          "POSITIVO",
          "POSITIVO",
          "POSITIVO",
          "NEGATIVO",
          "NEGATIVO",
          "NEGATIVO",
          "NEGATIVO",
          "NEGATIVO",
          "NEGATIVO",
          "POSITIVO",
          "NEGATIVO",
          "POSITIVO",
          "NEGATIVO",
          "NEGATIVO",
          "NEGATIVO",
          "NEGATIVO",
          "NEGATIVO",
          "NEGATIVO",
          "POSITIVO",
          "POSITIVO",
          "POSITIVO",
          "NEGATIVO",
          "POSITIVO",
          "POSITIVO",
          "POSITIVO",
          "POSITIVO",
          "POSITIVO",
          "POSITIVO",
          "POSITIVO",
          "NEGATIVO",
          "POSITIVO",
          "POSITIVO",
          "NEGATIVO",
          "POSITIVO",
          "NEGATIVO",
          "NEGATIVO",
          "POSITIVO",
          "POSITIVO",
          "POSITIVO",
          "POSITIVO",
          "POSITIVO",
          "NEGATIVO",
          "POSITIVO",
          "NEGATIVO",
          "NEGATIVO",
          "POSITIVO",
          "POSITIVO",
          "NEGATIVO",
          "NEGATIVO",
          "POSITIVO",
          "NEGATIVO",
          "POSITIVO",
          "NEGATIVO",
          "NEGATIVO",
          "NEGATIVO",
          "NEGATIVO",
          "NEGATIVO",
          "NEGATIVO",
          "POSITIVO",
          "POSITIVO",
          "POSITIVO",
          "NEGATIVO",
          "POSITIVO",
          "POSITIVO",
          "NEGATIVO",
          "NEGATIVO",
          "NEGATIVO",
          "POSITIVO",
          "NEGATIVO",
          "POSITIVO",
          "POSITIVO",
          "NEGATIVO",
          "NEGATIVO",
          "POSITIVO",
          "POSITIVO",
          "POSITIVO",
          "POSITIVO",
          "NEGATIVO",
          "POSITIVO",
          "POSITIVO",
          "POSITIVO",
          "NEGATIVO",
          "NEGATIVO",
          "NEGATIVO",
          "NEGATIVO",
          "POSITIVO",
          "NEGATIVO",
          "POSITIVO",
          "POSITIVO",
          "POSITIVO",
          "NEGATIVO",
          "NEGATIVO",
          "POSITIVO",
          "POSITIVO",
          "NEGATIVO",
          "NEGATIVO",
          "POSITIVO",
          "NEGATIVO",
          "NEGATIVO",
          "NEGATIVO",
          "POSITIVO",
          "NEGATIVO",
          "POSITIVO"
         ],
         "xaxis": "x",
         "y": [
          1,
          1,
          1,
          1,
          1,
          1,
          1,
          1,
          1,
          1,
          1,
          1,
          1,
          1,
          1,
          1,
          1,
          1,
          1,
          1,
          1,
          1,
          1,
          1,
          1,
          1,
          1,
          1,
          1,
          1,
          1,
          1,
          1,
          1,
          1,
          1,
          1,
          1,
          1,
          1,
          1,
          1,
          1,
          1,
          1,
          1,
          1,
          1,
          1,
          1,
          1,
          1,
          1,
          1,
          1,
          1,
          1,
          1,
          1,
          1,
          1,
          1,
          1,
          1,
          1,
          1,
          1,
          1,
          1,
          1,
          1,
          1,
          1,
          1,
          1,
          1,
          1,
          1,
          1,
          1,
          1,
          1,
          1,
          1,
          1,
          1,
          1,
          1,
          1,
          1,
          1,
          1,
          1,
          1,
          1,
          1,
          1,
          1,
          1,
          1,
          1,
          1,
          1,
          1,
          1,
          1,
          1,
          1,
          1,
          1,
          1,
          1,
          1,
          1,
          1,
          1,
          1,
          1,
          1,
          1,
          1,
          1,
          1,
          1,
          1,
          1,
          1,
          1,
          1,
          1,
          1,
          1,
          1,
          1,
          1,
          1,
          1,
          1,
          1,
          1,
          1,
          1,
          1,
          1,
          1,
          1,
          1,
          1,
          1,
          1,
          1,
          1,
          1,
          1,
          1,
          1,
          1,
          1,
          1,
          1,
          1,
          1,
          1,
          1,
          1,
          1,
          1,
          1,
          1,
          1,
          1,
          1,
          1,
          1,
          1,
          1,
          1,
          1,
          1,
          1,
          1,
          1,
          1,
          1,
          1,
          1,
          1,
          1,
          1,
          1,
          1,
          1,
          1,
          1,
          1,
          1,
          1,
          1,
          1,
          1,
          1,
          1,
          1,
          1,
          1,
          1,
          1,
          1,
          1,
          1,
          1,
          1,
          1,
          1,
          1,
          1,
          1,
          1,
          1,
          1,
          1,
          1,
          1,
          1,
          1,
          1,
          1,
          1,
          1,
          1,
          1,
          1,
          1,
          1,
          1,
          1,
          1,
          1,
          1,
          1,
          1,
          1,
          1,
          1,
          1,
          1,
          1,
          1,
          1,
          1,
          1,
          1,
          1,
          1,
          1,
          1,
          1,
          1,
          1,
          1,
          1,
          1,
          1,
          1,
          1,
          1,
          1,
          1,
          1,
          1,
          1,
          1,
          1,
          1,
          1,
          1,
          1,
          1,
          1,
          1,
          1,
          1,
          1,
          1,
          1,
          1,
          1,
          1,
          1,
          1,
          1,
          1,
          1,
          1,
          1,
          1,
          1,
          1,
          1,
          1,
          1,
          1,
          1,
          1,
          1,
          1,
          1,
          1,
          1,
          1,
          1,
          1,
          1,
          1,
          1,
          1,
          1,
          1,
          1,
          1,
          1,
          1,
          1,
          1,
          1,
          1,
          1,
          1,
          1,
          1,
          1,
          1,
          1,
          1,
          1,
          1,
          1,
          1,
          1,
          1,
          1,
          1,
          1,
          1,
          1,
          1,
          1,
          1,
          1,
          1,
          1,
          1,
          1,
          1,
          1,
          1,
          1,
          1,
          1,
          1,
          1,
          1,
          1,
          1,
          1,
          1,
          1,
          1,
          1,
          1,
          1,
          1,
          1,
          1,
          1,
          1,
          1,
          1,
          1,
          1,
          1,
          1,
          1,
          1,
          1,
          1,
          1,
          1,
          1,
          1,
          1,
          1,
          1,
          1,
          1,
          1,
          1,
          1,
          1,
          1,
          1,
          1,
          1,
          1,
          1,
          1,
          1,
          1,
          1,
          1,
          1,
          1,
          1,
          1,
          1,
          1,
          1,
          1,
          1,
          1,
          1,
          1,
          1,
          1,
          1,
          1,
          1,
          1,
          1,
          1,
          1,
          1,
          1,
          1,
          1,
          1,
          1,
          1,
          1,
          1,
          1,
          1,
          1,
          1,
          1,
          1,
          1,
          1,
          1,
          1,
          1,
          1,
          1,
          1,
          1,
          1,
          1,
          1,
          1,
          1,
          1,
          1,
          1,
          1,
          1,
          1,
          1,
          1,
          1,
          1,
          1,
          1,
          1,
          1,
          1,
          1,
          1,
          1,
          1,
          1,
          1,
          1,
          1,
          1,
          1,
          1,
          1,
          1,
          1,
          1,
          1,
          1,
          1,
          1,
          1,
          1
         ],
         "yaxis": "y"
        }
       ],
       "layout": {
        "barmode": "relative",
        "legend": {
         "tracegroupgap": 0
        },
        "margin": {
         "t": 60
        },
        "template": {
         "data": {
          "bar": [
           {
            "error_x": {
             "color": "#2a3f5f"
            },
            "error_y": {
             "color": "#2a3f5f"
            },
            "marker": {
             "line": {
              "color": "#E5ECF6",
              "width": 0.5
             },
             "pattern": {
              "fillmode": "overlay",
              "size": 10,
              "solidity": 0.2
             }
            },
            "type": "bar"
           }
          ],
          "barpolar": [
           {
            "marker": {
             "line": {
              "color": "#E5ECF6",
              "width": 0.5
             },
             "pattern": {
              "fillmode": "overlay",
              "size": 10,
              "solidity": 0.2
             }
            },
            "type": "barpolar"
           }
          ],
          "carpet": [
           {
            "aaxis": {
             "endlinecolor": "#2a3f5f",
             "gridcolor": "white",
             "linecolor": "white",
             "minorgridcolor": "white",
             "startlinecolor": "#2a3f5f"
            },
            "baxis": {
             "endlinecolor": "#2a3f5f",
             "gridcolor": "white",
             "linecolor": "white",
             "minorgridcolor": "white",
             "startlinecolor": "#2a3f5f"
            },
            "type": "carpet"
           }
          ],
          "choropleth": [
           {
            "colorbar": {
             "outlinewidth": 0,
             "ticks": ""
            },
            "type": "choropleth"
           }
          ],
          "contour": [
           {
            "colorbar": {
             "outlinewidth": 0,
             "ticks": ""
            },
            "colorscale": [
             [
              0,
              "#0d0887"
             ],
             [
              0.1111111111111111,
              "#46039f"
             ],
             [
              0.2222222222222222,
              "#7201a8"
             ],
             [
              0.3333333333333333,
              "#9c179e"
             ],
             [
              0.4444444444444444,
              "#bd3786"
             ],
             [
              0.5555555555555556,
              "#d8576b"
             ],
             [
              0.6666666666666666,
              "#ed7953"
             ],
             [
              0.7777777777777778,
              "#fb9f3a"
             ],
             [
              0.8888888888888888,
              "#fdca26"
             ],
             [
              1,
              "#f0f921"
             ]
            ],
            "type": "contour"
           }
          ],
          "contourcarpet": [
           {
            "colorbar": {
             "outlinewidth": 0,
             "ticks": ""
            },
            "type": "contourcarpet"
           }
          ],
          "heatmap": [
           {
            "colorbar": {
             "outlinewidth": 0,
             "ticks": ""
            },
            "colorscale": [
             [
              0,
              "#0d0887"
             ],
             [
              0.1111111111111111,
              "#46039f"
             ],
             [
              0.2222222222222222,
              "#7201a8"
             ],
             [
              0.3333333333333333,
              "#9c179e"
             ],
             [
              0.4444444444444444,
              "#bd3786"
             ],
             [
              0.5555555555555556,
              "#d8576b"
             ],
             [
              0.6666666666666666,
              "#ed7953"
             ],
             [
              0.7777777777777778,
              "#fb9f3a"
             ],
             [
              0.8888888888888888,
              "#fdca26"
             ],
             [
              1,
              "#f0f921"
             ]
            ],
            "type": "heatmap"
           }
          ],
          "heatmapgl": [
           {
            "colorbar": {
             "outlinewidth": 0,
             "ticks": ""
            },
            "colorscale": [
             [
              0,
              "#0d0887"
             ],
             [
              0.1111111111111111,
              "#46039f"
             ],
             [
              0.2222222222222222,
              "#7201a8"
             ],
             [
              0.3333333333333333,
              "#9c179e"
             ],
             [
              0.4444444444444444,
              "#bd3786"
             ],
             [
              0.5555555555555556,
              "#d8576b"
             ],
             [
              0.6666666666666666,
              "#ed7953"
             ],
             [
              0.7777777777777778,
              "#fb9f3a"
             ],
             [
              0.8888888888888888,
              "#fdca26"
             ],
             [
              1,
              "#f0f921"
             ]
            ],
            "type": "heatmapgl"
           }
          ],
          "histogram": [
           {
            "marker": {
             "pattern": {
              "fillmode": "overlay",
              "size": 10,
              "solidity": 0.2
             }
            },
            "type": "histogram"
           }
          ],
          "histogram2d": [
           {
            "colorbar": {
             "outlinewidth": 0,
             "ticks": ""
            },
            "colorscale": [
             [
              0,
              "#0d0887"
             ],
             [
              0.1111111111111111,
              "#46039f"
             ],
             [
              0.2222222222222222,
              "#7201a8"
             ],
             [
              0.3333333333333333,
              "#9c179e"
             ],
             [
              0.4444444444444444,
              "#bd3786"
             ],
             [
              0.5555555555555556,
              "#d8576b"
             ],
             [
              0.6666666666666666,
              "#ed7953"
             ],
             [
              0.7777777777777778,
              "#fb9f3a"
             ],
             [
              0.8888888888888888,
              "#fdca26"
             ],
             [
              1,
              "#f0f921"
             ]
            ],
            "type": "histogram2d"
           }
          ],
          "histogram2dcontour": [
           {
            "colorbar": {
             "outlinewidth": 0,
             "ticks": ""
            },
            "colorscale": [
             [
              0,
              "#0d0887"
             ],
             [
              0.1111111111111111,
              "#46039f"
             ],
             [
              0.2222222222222222,
              "#7201a8"
             ],
             [
              0.3333333333333333,
              "#9c179e"
             ],
             [
              0.4444444444444444,
              "#bd3786"
             ],
             [
              0.5555555555555556,
              "#d8576b"
             ],
             [
              0.6666666666666666,
              "#ed7953"
             ],
             [
              0.7777777777777778,
              "#fb9f3a"
             ],
             [
              0.8888888888888888,
              "#fdca26"
             ],
             [
              1,
              "#f0f921"
             ]
            ],
            "type": "histogram2dcontour"
           }
          ],
          "mesh3d": [
           {
            "colorbar": {
             "outlinewidth": 0,
             "ticks": ""
            },
            "type": "mesh3d"
           }
          ],
          "parcoords": [
           {
            "line": {
             "colorbar": {
              "outlinewidth": 0,
              "ticks": ""
             }
            },
            "type": "parcoords"
           }
          ],
          "pie": [
           {
            "automargin": true,
            "type": "pie"
           }
          ],
          "scatter": [
           {
            "fillpattern": {
             "fillmode": "overlay",
             "size": 10,
             "solidity": 0.2
            },
            "type": "scatter"
           }
          ],
          "scatter3d": [
           {
            "line": {
             "colorbar": {
              "outlinewidth": 0,
              "ticks": ""
             }
            },
            "marker": {
             "colorbar": {
              "outlinewidth": 0,
              "ticks": ""
             }
            },
            "type": "scatter3d"
           }
          ],
          "scattercarpet": [
           {
            "marker": {
             "colorbar": {
              "outlinewidth": 0,
              "ticks": ""
             }
            },
            "type": "scattercarpet"
           }
          ],
          "scattergeo": [
           {
            "marker": {
             "colorbar": {
              "outlinewidth": 0,
              "ticks": ""
             }
            },
            "type": "scattergeo"
           }
          ],
          "scattergl": [
           {
            "marker": {
             "colorbar": {
              "outlinewidth": 0,
              "ticks": ""
             }
            },
            "type": "scattergl"
           }
          ],
          "scattermapbox": [
           {
            "marker": {
             "colorbar": {
              "outlinewidth": 0,
              "ticks": ""
             }
            },
            "type": "scattermapbox"
           }
          ],
          "scatterpolar": [
           {
            "marker": {
             "colorbar": {
              "outlinewidth": 0,
              "ticks": ""
             }
            },
            "type": "scatterpolar"
           }
          ],
          "scatterpolargl": [
           {
            "marker": {
             "colorbar": {
              "outlinewidth": 0,
              "ticks": ""
             }
            },
            "type": "scatterpolargl"
           }
          ],
          "scatterternary": [
           {
            "marker": {
             "colorbar": {
              "outlinewidth": 0,
              "ticks": ""
             }
            },
            "type": "scatterternary"
           }
          ],
          "surface": [
           {
            "colorbar": {
             "outlinewidth": 0,
             "ticks": ""
            },
            "colorscale": [
             [
              0,
              "#0d0887"
             ],
             [
              0.1111111111111111,
              "#46039f"
             ],
             [
              0.2222222222222222,
              "#7201a8"
             ],
             [
              0.3333333333333333,
              "#9c179e"
             ],
             [
              0.4444444444444444,
              "#bd3786"
             ],
             [
              0.5555555555555556,
              "#d8576b"
             ],
             [
              0.6666666666666666,
              "#ed7953"
             ],
             [
              0.7777777777777778,
              "#fb9f3a"
             ],
             [
              0.8888888888888888,
              "#fdca26"
             ],
             [
              1,
              "#f0f921"
             ]
            ],
            "type": "surface"
           }
          ],
          "table": [
           {
            "cells": {
             "fill": {
              "color": "#EBF0F8"
             },
             "line": {
              "color": "white"
             }
            },
            "header": {
             "fill": {
              "color": "#C8D4E3"
             },
             "line": {
              "color": "white"
             }
            },
            "type": "table"
           }
          ]
         },
         "layout": {
          "annotationdefaults": {
           "arrowcolor": "#2a3f5f",
           "arrowhead": 0,
           "arrowwidth": 1
          },
          "autotypenumbers": "strict",
          "coloraxis": {
           "colorbar": {
            "outlinewidth": 0,
            "ticks": ""
           }
          },
          "colorscale": {
           "diverging": [
            [
             0,
             "#8e0152"
            ],
            [
             0.1,
             "#c51b7d"
            ],
            [
             0.2,
             "#de77ae"
            ],
            [
             0.3,
             "#f1b6da"
            ],
            [
             0.4,
             "#fde0ef"
            ],
            [
             0.5,
             "#f7f7f7"
            ],
            [
             0.6,
             "#e6f5d0"
            ],
            [
             0.7,
             "#b8e186"
            ],
            [
             0.8,
             "#7fbc41"
            ],
            [
             0.9,
             "#4d9221"
            ],
            [
             1,
             "#276419"
            ]
           ],
           "sequential": [
            [
             0,
             "#0d0887"
            ],
            [
             0.1111111111111111,
             "#46039f"
            ],
            [
             0.2222222222222222,
             "#7201a8"
            ],
            [
             0.3333333333333333,
             "#9c179e"
            ],
            [
             0.4444444444444444,
             "#bd3786"
            ],
            [
             0.5555555555555556,
             "#d8576b"
            ],
            [
             0.6666666666666666,
             "#ed7953"
            ],
            [
             0.7777777777777778,
             "#fb9f3a"
            ],
            [
             0.8888888888888888,
             "#fdca26"
            ],
            [
             1,
             "#f0f921"
            ]
           ],
           "sequentialminus": [
            [
             0,
             "#0d0887"
            ],
            [
             0.1111111111111111,
             "#46039f"
            ],
            [
             0.2222222222222222,
             "#7201a8"
            ],
            [
             0.3333333333333333,
             "#9c179e"
            ],
            [
             0.4444444444444444,
             "#bd3786"
            ],
            [
             0.5555555555555556,
             "#d8576b"
            ],
            [
             0.6666666666666666,
             "#ed7953"
            ],
            [
             0.7777777777777778,
             "#fb9f3a"
            ],
            [
             0.8888888888888888,
             "#fdca26"
            ],
            [
             1,
             "#f0f921"
            ]
           ]
          },
          "colorway": [
           "#636efa",
           "#EF553B",
           "#00cc96",
           "#ab63fa",
           "#FFA15A",
           "#19d3f3",
           "#FF6692",
           "#B6E880",
           "#FF97FF",
           "#FECB52"
          ],
          "font": {
           "color": "#2a3f5f"
          },
          "geo": {
           "bgcolor": "white",
           "lakecolor": "white",
           "landcolor": "#E5ECF6",
           "showlakes": true,
           "showland": true,
           "subunitcolor": "white"
          },
          "hoverlabel": {
           "align": "left"
          },
          "hovermode": "closest",
          "mapbox": {
           "style": "light"
          },
          "paper_bgcolor": "white",
          "plot_bgcolor": "#E5ECF6",
          "polar": {
           "angularaxis": {
            "gridcolor": "white",
            "linecolor": "white",
            "ticks": ""
           },
           "bgcolor": "#E5ECF6",
           "radialaxis": {
            "gridcolor": "white",
            "linecolor": "white",
            "ticks": ""
           }
          },
          "scene": {
           "xaxis": {
            "backgroundcolor": "#E5ECF6",
            "gridcolor": "white",
            "gridwidth": 2,
            "linecolor": "white",
            "showbackground": true,
            "ticks": "",
            "zerolinecolor": "white"
           },
           "yaxis": {
            "backgroundcolor": "#E5ECF6",
            "gridcolor": "white",
            "gridwidth": 2,
            "linecolor": "white",
            "showbackground": true,
            "ticks": "",
            "zerolinecolor": "white"
           },
           "zaxis": {
            "backgroundcolor": "#E5ECF6",
            "gridcolor": "white",
            "gridwidth": 2,
            "linecolor": "white",
            "showbackground": true,
            "ticks": "",
            "zerolinecolor": "white"
           }
          },
          "shapedefaults": {
           "line": {
            "color": "#2a3f5f"
           }
          },
          "ternary": {
           "aaxis": {
            "gridcolor": "white",
            "linecolor": "white",
            "ticks": ""
           },
           "baxis": {
            "gridcolor": "white",
            "linecolor": "white",
            "ticks": ""
           },
           "bgcolor": "#E5ECF6",
           "caxis": {
            "gridcolor": "white",
            "linecolor": "white",
            "ticks": ""
           }
          },
          "title": {
           "x": 0.05
          },
          "xaxis": {
           "automargin": true,
           "gridcolor": "white",
           "linecolor": "white",
           "ticks": "",
           "title": {
            "standoff": 15
           },
           "zerolinecolor": "white",
           "zerolinewidth": 2
          },
          "yaxis": {
           "automargin": true,
           "gridcolor": "white",
           "linecolor": "white",
           "ticks": "",
           "title": {
            "standoff": 15
           },
           "zerolinecolor": "white",
           "zerolinewidth": 2
          }
         }
        },
        "xaxis": {
         "anchor": "y",
         "domain": [
          0,
          1
         ],
         "title": {
          "text": "x"
         }
        },
        "yaxis": {
         "anchor": "x",
         "domain": [
          0,
          1
         ],
         "title": {
          "text": "count"
         }
        }
       }
      }
     },
     "metadata": {},
     "output_type": "display_data"
    }
   ],
   "source": [
    "treino = pd.read_excel(dataSet, sheet_name='TREINO_70%')\n",
    "\n",
    "fig = px.bar(treino['text'], x=treino['rotulo'])\n",
    "fig.show()"
   ]
  },
  {
   "cell_type": "markdown",
   "metadata": {},
   "source": [
    "*Amostra do dataset de teste, com 15% sobre os 30% restantes do dataset rotulado não utilizado pela amostra de treino*"
   ]
  },
  {
   "cell_type": "code",
   "execution_count": 51,
   "metadata": {},
   "outputs": [
    {
     "data": {
      "application/vnd.plotly.v1+json": {
       "config": {
        "plotlyServerURL": "https://plot.ly"
       },
       "data": [
        {
         "alignmentgroup": "True",
         "hovertemplate": "x=%{x}<br>count=%{y}<extra></extra>",
         "legendgroup": "",
         "marker": {
          "color": "#636efa",
          "pattern": {
           "shape": ""
          }
         },
         "name": "",
         "offsetgroup": "",
         "orientation": "v",
         "showlegend": false,
         "textposition": "auto",
         "type": "bar",
         "x": [
          "POSITIVO",
          "POSITIVO",
          "POSITIVO",
          "POSITIVO",
          "POSITIVO",
          "POSITIVO",
          "POSITIVO",
          "POSITIVO",
          "POSITIVO",
          "POSITIVO",
          "POSITIVO",
          "POSITIVO",
          "POSITIVO",
          "POSITIVO",
          "POSITIVO",
          "POSITIVO",
          "POSITIVO",
          "POSITIVO",
          "POSITIVO",
          "POSITIVO",
          "POSITIVO",
          "POSITIVO",
          "POSITIVO",
          "POSITIVO",
          "POSITIVO",
          "POSITIVO",
          "POSITIVO",
          "POSITIVO",
          "POSITIVO",
          "POSITIVO",
          "POSITIVO",
          "POSITIVO",
          "POSITIVO",
          "POSITIVO",
          "POSITIVO",
          "POSITIVO",
          "POSITIVO",
          "POSITIVO",
          "POSITIVO",
          "POSITIVO",
          "POSITIVO",
          "POSITIVO",
          "POSITIVO",
          "POSITIVO",
          "POSITIVO",
          "POSITIVO",
          "POSITIVO",
          "POSITIVO",
          "POSITIVO",
          "POSITIVO",
          "POSITIVO",
          "POSITIVO",
          "POSITIVO",
          "NEGATIVO",
          "NEGATIVO",
          "NEGATIVO",
          "NEGATIVO",
          "NEGATIVO",
          "NEGATIVO",
          "NEGATIVO",
          "NEGATIVO",
          "NEGATIVO",
          "NEGATIVO",
          "NEGATIVO",
          "NEGATIVO",
          "NEGATIVO",
          "NEGATIVO",
          "NEGATIVO",
          "NEGATIVO",
          "NEGATIVO",
          "NEGATIVO",
          "NEGATIVO",
          "NEGATIVO",
          "NEGATIVO",
          "NEGATIVO",
          "NEGATIVO",
          "NEGATIVO",
          "NEGATIVO",
          "NEGATIVO",
          "NEGATIVO",
          "NEGATIVO",
          "NEGATIVO",
          "NEGATIVO",
          "NEGATIVO",
          "NEGATIVO",
          "NEGATIVO",
          "NEGATIVO",
          "NEGATIVO",
          "NEGATIVO",
          "NEGATIVO",
          "NEGATIVO",
          "NEGATIVO",
          "NEGATIVO",
          "NEGATIVO",
          "NEGATIVO",
          "NEGATIVO",
          "NEGATIVO",
          "NEGATIVO",
          "NEGATIVO",
          "NEGATIVO",
          "NEGATIVO",
          "NEGATIVO",
          "NEGATIVO",
          "NEGATIVO",
          "NEGATIVO",
          "NEGATIVO",
          "NEGATIVO",
          "NEGATIVO"
         ],
         "xaxis": "x",
         "y": [
          1,
          1,
          1,
          1,
          1,
          1,
          1,
          1,
          1,
          1,
          1,
          1,
          1,
          1,
          1,
          1,
          1,
          1,
          1,
          1,
          1,
          1,
          1,
          1,
          1,
          1,
          1,
          1,
          1,
          1,
          1,
          1,
          1,
          1,
          1,
          1,
          1,
          1,
          1,
          1,
          1,
          1,
          1,
          1,
          1,
          1,
          1,
          1,
          1,
          1,
          1,
          1,
          1,
          1,
          1,
          1,
          1,
          1,
          1,
          1,
          1,
          1,
          1,
          1,
          1,
          1,
          1,
          1,
          1,
          1,
          1,
          1,
          1,
          1,
          1,
          1,
          1,
          1,
          1,
          1,
          1,
          1,
          1,
          1,
          1,
          1,
          1,
          1,
          1,
          1,
          1,
          1,
          1,
          1,
          1,
          1,
          1,
          1,
          1,
          1,
          1,
          1,
          1,
          1,
          1,
          1,
          1,
          1
         ],
         "yaxis": "y"
        }
       ],
       "layout": {
        "barmode": "relative",
        "legend": {
         "tracegroupgap": 0
        },
        "margin": {
         "t": 60
        },
        "template": {
         "data": {
          "bar": [
           {
            "error_x": {
             "color": "#2a3f5f"
            },
            "error_y": {
             "color": "#2a3f5f"
            },
            "marker": {
             "line": {
              "color": "#E5ECF6",
              "width": 0.5
             },
             "pattern": {
              "fillmode": "overlay",
              "size": 10,
              "solidity": 0.2
             }
            },
            "type": "bar"
           }
          ],
          "barpolar": [
           {
            "marker": {
             "line": {
              "color": "#E5ECF6",
              "width": 0.5
             },
             "pattern": {
              "fillmode": "overlay",
              "size": 10,
              "solidity": 0.2
             }
            },
            "type": "barpolar"
           }
          ],
          "carpet": [
           {
            "aaxis": {
             "endlinecolor": "#2a3f5f",
             "gridcolor": "white",
             "linecolor": "white",
             "minorgridcolor": "white",
             "startlinecolor": "#2a3f5f"
            },
            "baxis": {
             "endlinecolor": "#2a3f5f",
             "gridcolor": "white",
             "linecolor": "white",
             "minorgridcolor": "white",
             "startlinecolor": "#2a3f5f"
            },
            "type": "carpet"
           }
          ],
          "choropleth": [
           {
            "colorbar": {
             "outlinewidth": 0,
             "ticks": ""
            },
            "type": "choropleth"
           }
          ],
          "contour": [
           {
            "colorbar": {
             "outlinewidth": 0,
             "ticks": ""
            },
            "colorscale": [
             [
              0,
              "#0d0887"
             ],
             [
              0.1111111111111111,
              "#46039f"
             ],
             [
              0.2222222222222222,
              "#7201a8"
             ],
             [
              0.3333333333333333,
              "#9c179e"
             ],
             [
              0.4444444444444444,
              "#bd3786"
             ],
             [
              0.5555555555555556,
              "#d8576b"
             ],
             [
              0.6666666666666666,
              "#ed7953"
             ],
             [
              0.7777777777777778,
              "#fb9f3a"
             ],
             [
              0.8888888888888888,
              "#fdca26"
             ],
             [
              1,
              "#f0f921"
             ]
            ],
            "type": "contour"
           }
          ],
          "contourcarpet": [
           {
            "colorbar": {
             "outlinewidth": 0,
             "ticks": ""
            },
            "type": "contourcarpet"
           }
          ],
          "heatmap": [
           {
            "colorbar": {
             "outlinewidth": 0,
             "ticks": ""
            },
            "colorscale": [
             [
              0,
              "#0d0887"
             ],
             [
              0.1111111111111111,
              "#46039f"
             ],
             [
              0.2222222222222222,
              "#7201a8"
             ],
             [
              0.3333333333333333,
              "#9c179e"
             ],
             [
              0.4444444444444444,
              "#bd3786"
             ],
             [
              0.5555555555555556,
              "#d8576b"
             ],
             [
              0.6666666666666666,
              "#ed7953"
             ],
             [
              0.7777777777777778,
              "#fb9f3a"
             ],
             [
              0.8888888888888888,
              "#fdca26"
             ],
             [
              1,
              "#f0f921"
             ]
            ],
            "type": "heatmap"
           }
          ],
          "heatmapgl": [
           {
            "colorbar": {
             "outlinewidth": 0,
             "ticks": ""
            },
            "colorscale": [
             [
              0,
              "#0d0887"
             ],
             [
              0.1111111111111111,
              "#46039f"
             ],
             [
              0.2222222222222222,
              "#7201a8"
             ],
             [
              0.3333333333333333,
              "#9c179e"
             ],
             [
              0.4444444444444444,
              "#bd3786"
             ],
             [
              0.5555555555555556,
              "#d8576b"
             ],
             [
              0.6666666666666666,
              "#ed7953"
             ],
             [
              0.7777777777777778,
              "#fb9f3a"
             ],
             [
              0.8888888888888888,
              "#fdca26"
             ],
             [
              1,
              "#f0f921"
             ]
            ],
            "type": "heatmapgl"
           }
          ],
          "histogram": [
           {
            "marker": {
             "pattern": {
              "fillmode": "overlay",
              "size": 10,
              "solidity": 0.2
             }
            },
            "type": "histogram"
           }
          ],
          "histogram2d": [
           {
            "colorbar": {
             "outlinewidth": 0,
             "ticks": ""
            },
            "colorscale": [
             [
              0,
              "#0d0887"
             ],
             [
              0.1111111111111111,
              "#46039f"
             ],
             [
              0.2222222222222222,
              "#7201a8"
             ],
             [
              0.3333333333333333,
              "#9c179e"
             ],
             [
              0.4444444444444444,
              "#bd3786"
             ],
             [
              0.5555555555555556,
              "#d8576b"
             ],
             [
              0.6666666666666666,
              "#ed7953"
             ],
             [
              0.7777777777777778,
              "#fb9f3a"
             ],
             [
              0.8888888888888888,
              "#fdca26"
             ],
             [
              1,
              "#f0f921"
             ]
            ],
            "type": "histogram2d"
           }
          ],
          "histogram2dcontour": [
           {
            "colorbar": {
             "outlinewidth": 0,
             "ticks": ""
            },
            "colorscale": [
             [
              0,
              "#0d0887"
             ],
             [
              0.1111111111111111,
              "#46039f"
             ],
             [
              0.2222222222222222,
              "#7201a8"
             ],
             [
              0.3333333333333333,
              "#9c179e"
             ],
             [
              0.4444444444444444,
              "#bd3786"
             ],
             [
              0.5555555555555556,
              "#d8576b"
             ],
             [
              0.6666666666666666,
              "#ed7953"
             ],
             [
              0.7777777777777778,
              "#fb9f3a"
             ],
             [
              0.8888888888888888,
              "#fdca26"
             ],
             [
              1,
              "#f0f921"
             ]
            ],
            "type": "histogram2dcontour"
           }
          ],
          "mesh3d": [
           {
            "colorbar": {
             "outlinewidth": 0,
             "ticks": ""
            },
            "type": "mesh3d"
           }
          ],
          "parcoords": [
           {
            "line": {
             "colorbar": {
              "outlinewidth": 0,
              "ticks": ""
             }
            },
            "type": "parcoords"
           }
          ],
          "pie": [
           {
            "automargin": true,
            "type": "pie"
           }
          ],
          "scatter": [
           {
            "fillpattern": {
             "fillmode": "overlay",
             "size": 10,
             "solidity": 0.2
            },
            "type": "scatter"
           }
          ],
          "scatter3d": [
           {
            "line": {
             "colorbar": {
              "outlinewidth": 0,
              "ticks": ""
             }
            },
            "marker": {
             "colorbar": {
              "outlinewidth": 0,
              "ticks": ""
             }
            },
            "type": "scatter3d"
           }
          ],
          "scattercarpet": [
           {
            "marker": {
             "colorbar": {
              "outlinewidth": 0,
              "ticks": ""
             }
            },
            "type": "scattercarpet"
           }
          ],
          "scattergeo": [
           {
            "marker": {
             "colorbar": {
              "outlinewidth": 0,
              "ticks": ""
             }
            },
            "type": "scattergeo"
           }
          ],
          "scattergl": [
           {
            "marker": {
             "colorbar": {
              "outlinewidth": 0,
              "ticks": ""
             }
            },
            "type": "scattergl"
           }
          ],
          "scattermapbox": [
           {
            "marker": {
             "colorbar": {
              "outlinewidth": 0,
              "ticks": ""
             }
            },
            "type": "scattermapbox"
           }
          ],
          "scatterpolar": [
           {
            "marker": {
             "colorbar": {
              "outlinewidth": 0,
              "ticks": ""
             }
            },
            "type": "scatterpolar"
           }
          ],
          "scatterpolargl": [
           {
            "marker": {
             "colorbar": {
              "outlinewidth": 0,
              "ticks": ""
             }
            },
            "type": "scatterpolargl"
           }
          ],
          "scatterternary": [
           {
            "marker": {
             "colorbar": {
              "outlinewidth": 0,
              "ticks": ""
             }
            },
            "type": "scatterternary"
           }
          ],
          "surface": [
           {
            "colorbar": {
             "outlinewidth": 0,
             "ticks": ""
            },
            "colorscale": [
             [
              0,
              "#0d0887"
             ],
             [
              0.1111111111111111,
              "#46039f"
             ],
             [
              0.2222222222222222,
              "#7201a8"
             ],
             [
              0.3333333333333333,
              "#9c179e"
             ],
             [
              0.4444444444444444,
              "#bd3786"
             ],
             [
              0.5555555555555556,
              "#d8576b"
             ],
             [
              0.6666666666666666,
              "#ed7953"
             ],
             [
              0.7777777777777778,
              "#fb9f3a"
             ],
             [
              0.8888888888888888,
              "#fdca26"
             ],
             [
              1,
              "#f0f921"
             ]
            ],
            "type": "surface"
           }
          ],
          "table": [
           {
            "cells": {
             "fill": {
              "color": "#EBF0F8"
             },
             "line": {
              "color": "white"
             }
            },
            "header": {
             "fill": {
              "color": "#C8D4E3"
             },
             "line": {
              "color": "white"
             }
            },
            "type": "table"
           }
          ]
         },
         "layout": {
          "annotationdefaults": {
           "arrowcolor": "#2a3f5f",
           "arrowhead": 0,
           "arrowwidth": 1
          },
          "autotypenumbers": "strict",
          "coloraxis": {
           "colorbar": {
            "outlinewidth": 0,
            "ticks": ""
           }
          },
          "colorscale": {
           "diverging": [
            [
             0,
             "#8e0152"
            ],
            [
             0.1,
             "#c51b7d"
            ],
            [
             0.2,
             "#de77ae"
            ],
            [
             0.3,
             "#f1b6da"
            ],
            [
             0.4,
             "#fde0ef"
            ],
            [
             0.5,
             "#f7f7f7"
            ],
            [
             0.6,
             "#e6f5d0"
            ],
            [
             0.7,
             "#b8e186"
            ],
            [
             0.8,
             "#7fbc41"
            ],
            [
             0.9,
             "#4d9221"
            ],
            [
             1,
             "#276419"
            ]
           ],
           "sequential": [
            [
             0,
             "#0d0887"
            ],
            [
             0.1111111111111111,
             "#46039f"
            ],
            [
             0.2222222222222222,
             "#7201a8"
            ],
            [
             0.3333333333333333,
             "#9c179e"
            ],
            [
             0.4444444444444444,
             "#bd3786"
            ],
            [
             0.5555555555555556,
             "#d8576b"
            ],
            [
             0.6666666666666666,
             "#ed7953"
            ],
            [
             0.7777777777777778,
             "#fb9f3a"
            ],
            [
             0.8888888888888888,
             "#fdca26"
            ],
            [
             1,
             "#f0f921"
            ]
           ],
           "sequentialminus": [
            [
             0,
             "#0d0887"
            ],
            [
             0.1111111111111111,
             "#46039f"
            ],
            [
             0.2222222222222222,
             "#7201a8"
            ],
            [
             0.3333333333333333,
             "#9c179e"
            ],
            [
             0.4444444444444444,
             "#bd3786"
            ],
            [
             0.5555555555555556,
             "#d8576b"
            ],
            [
             0.6666666666666666,
             "#ed7953"
            ],
            [
             0.7777777777777778,
             "#fb9f3a"
            ],
            [
             0.8888888888888888,
             "#fdca26"
            ],
            [
             1,
             "#f0f921"
            ]
           ]
          },
          "colorway": [
           "#636efa",
           "#EF553B",
           "#00cc96",
           "#ab63fa",
           "#FFA15A",
           "#19d3f3",
           "#FF6692",
           "#B6E880",
           "#FF97FF",
           "#FECB52"
          ],
          "font": {
           "color": "#2a3f5f"
          },
          "geo": {
           "bgcolor": "white",
           "lakecolor": "white",
           "landcolor": "#E5ECF6",
           "showlakes": true,
           "showland": true,
           "subunitcolor": "white"
          },
          "hoverlabel": {
           "align": "left"
          },
          "hovermode": "closest",
          "mapbox": {
           "style": "light"
          },
          "paper_bgcolor": "white",
          "plot_bgcolor": "#E5ECF6",
          "polar": {
           "angularaxis": {
            "gridcolor": "white",
            "linecolor": "white",
            "ticks": ""
           },
           "bgcolor": "#E5ECF6",
           "radialaxis": {
            "gridcolor": "white",
            "linecolor": "white",
            "ticks": ""
           }
          },
          "scene": {
           "xaxis": {
            "backgroundcolor": "#E5ECF6",
            "gridcolor": "white",
            "gridwidth": 2,
            "linecolor": "white",
            "showbackground": true,
            "ticks": "",
            "zerolinecolor": "white"
           },
           "yaxis": {
            "backgroundcolor": "#E5ECF6",
            "gridcolor": "white",
            "gridwidth": 2,
            "linecolor": "white",
            "showbackground": true,
            "ticks": "",
            "zerolinecolor": "white"
           },
           "zaxis": {
            "backgroundcolor": "#E5ECF6",
            "gridcolor": "white",
            "gridwidth": 2,
            "linecolor": "white",
            "showbackground": true,
            "ticks": "",
            "zerolinecolor": "white"
           }
          },
          "shapedefaults": {
           "line": {
            "color": "#2a3f5f"
           }
          },
          "ternary": {
           "aaxis": {
            "gridcolor": "white",
            "linecolor": "white",
            "ticks": ""
           },
           "baxis": {
            "gridcolor": "white",
            "linecolor": "white",
            "ticks": ""
           },
           "bgcolor": "#E5ECF6",
           "caxis": {
            "gridcolor": "white",
            "linecolor": "white",
            "ticks": ""
           }
          },
          "title": {
           "x": 0.05
          },
          "xaxis": {
           "automargin": true,
           "gridcolor": "white",
           "linecolor": "white",
           "ticks": "",
           "title": {
            "standoff": 15
           },
           "zerolinecolor": "white",
           "zerolinewidth": 2
          },
          "yaxis": {
           "automargin": true,
           "gridcolor": "white",
           "linecolor": "white",
           "ticks": "",
           "title": {
            "standoff": 15
           },
           "zerolinecolor": "white",
           "zerolinewidth": 2
          }
         }
        },
        "xaxis": {
         "anchor": "y",
         "domain": [
          0,
          1
         ],
         "title": {
          "text": "x"
         }
        },
        "yaxis": {
         "anchor": "x",
         "domain": [
          0,
          1
         ],
         "title": {
          "text": "count"
         }
        }
       }
      }
     },
     "metadata": {},
     "output_type": "display_data"
    }
   ],
   "source": [
    "teste = pd.read_excel(dataSet, sheet_name='TESTE_15%')\n",
    "\n",
    "fig = px.bar(teste['text'], x=teste['rotulo'])\n",
    "fig.show()"
   ]
  },
  {
   "cell_type": "markdown",
   "metadata": {},
   "source": [
    "___\n",
    "\n",
    "### **Classificação e Limpeza dos Dados**\n",
    "\n",
    "- Inicialmente, retiramos todos os retweets presentes no dataset;\n",
    "\n",
    "- Em seguida, definimos os tipos de classificação dos dados, conforme abaixo:\n",
    ">   - **Contexto:** Precisa de contexto para ser entendido\n",
    ">   - **Positivo:**  Mensagens positivas: Elogios, enaltecimento de candidato, etc.\n",
    ">   - **Negativo:** Mensagens negativas: Ofensas, xingamentos, desmerecer propostas.\n",
    ">   - **Ironia:** Sentido contrario da mensagem\n",
    ">   - **Neutro:** Nem negativo nem positivo. Somente descritivo (narração de fatos)\n",
    ">   - **Confuso:** Não foi possível interpretar o significado do texto\n",
    ">   - **Dividir:** Mensagens positivas e negativas com possibilidade de quebra para geração de novos textos\n",
    "\n",
    "- Após a definição dos tipos de classificação, começamos a classificar individualmente e manualmente, um por um;\n",
    "\n",
    "- Depois da classificação individual, realizamos uma revisão geral em grupo, onde foram ponderadas e debatidas as classificações, também de forma manual, percorrendo por todas as linhas do dataset;"
   ]
  },
  {
   "cell_type": "markdown",
   "metadata": {},
   "source": [
    "___\n",
    "\n",
    "### **Normalização dos dados**\n",
    "\n",
    "Para normalizar os dados, utilizamos de algumas ferramentas e técnicas a fim de garantir um melhor resultado pelo algoritmo, assim realizamos os seguintes passos:\n"
   ]
  },
  {
   "cell_type": "markdown",
   "metadata": {},
   "source": [
    "*Inicialmente, todo o input foi transformado para caixa baixa, as quebras de linha foram removidas do texto e os espaços duplos foram transformados em espaço único*"
   ]
  },
  {
   "cell_type": "code",
   "execution_count": 52,
   "metadata": {},
   "outputs": [],
   "source": [
    "def toLower(input):\n",
    "    return input.lower()\n",
    "\n",
    "def removeLinesBreaks(input):\n",
    "    return reg.sub('\\\\\\\\n{1,}|\\\\\\\\r{1,}', ' ', input, reg.IGNORECASE, reg.MULTILINE)\n",
    "\n",
    "def removeDoubleSpaces(input):\n",
    "    return reg.sub('\\\\s{2,}', ' ', input, reg.IGNORECASE, reg.MULTILINE)\n",
    "\n",
    "def applyRegex(input):\n",
    "    regexs = open(filenameRegexToBeApplied, 'r', encoding='UTF-8', newline='\\n')\n",
    "    for regex in regexs.readlines():  \n",
    "        teste = reg.sub(regex, ' ', input, reg.IGNORECASE, reg.MULTILINE)\n",
    "        input = teste\n",
    "    return input"
   ]
  },
  {
   "cell_type": "code",
   "execution_count": 53,
   "metadata": {},
   "outputs": [],
   "source": [
    "def applyStemmer(input):\n",
    "\n",
    "    input = reg.sub('\\\\s{2,}', ' ', input, reg.IGNORECASE, reg.MULTILINE).split(' ')\n",
    "    input = filter(lambda x: x != ' ' and x != '', input)\n",
    "\n",
    "    palavras = [stemmer.stem(palavra) for palavra in input]\n",
    "\n",
    "    input = ''\n",
    "\n",
    "    for palavra in palavras:\n",
    "        input += palavra + ' '\n",
    "\n",
    "    return reg.sub('\\\\s{2,}', ' ', input, reg.IGNORECASE, reg.MULTILINE)\n"
   ]
  },
  {
   "cell_type": "markdown",
   "metadata": {},
   "source": [
    "*Em seguida, utilizando um arquivo customizado desenvolvido pelo grupo, transformamos palavras e nomes com diversas variações para uma forma única, como por exemplo, Você ou vc para voce*"
   ]
  },
  {
   "cell_type": "code",
   "execution_count": 54,
   "metadata": {},
   "outputs": [],
   "source": [
    "def dePara(input):\n",
    "    deParas = open(fileNameDeParas, 'r', encoding='UTF-8', newline='\\n')\n",
    "    for dePara in deParas.readlines():\n",
    "        dePara = dePara.split('(-*-)')\n",
    "        input = reg.sub(dePara[0], dePara[1], input, reg.IGNORECASE, reg.MULTILINE)\n",
    "    return input"
   ]
  },
  {
   "cell_type": "markdown",
   "metadata": {},
   "source": [
    "*Após a transformação das palavras, utilizamos a técnica de stop words para remover as palavras que não trazem significado para o texto, como por exemplo, os artigos: a, as, o, os*"
   ]
  },
  {
   "cell_type": "code",
   "execution_count": 55,
   "metadata": {},
   "outputs": [],
   "source": [
    "def removeStopWords(input):\n",
    "    stopWrods = open(filenameStopWords, 'r', encoding='UTF-8', newline='\\r\\n')\n",
    "    for stopWord in stopWrods.readlines():\n",
    "        stopWord = unidecode.unidecode(stopWord)\n",
    "        stopWord = reg.sub('\\r\\n', '', stopWord)\n",
    "        input = reg.sub(stopWord, '', input, reg.IGNORECASE, reg.MULTILINE)\n",
    "    return input"
   ]
  },
  {
   "cell_type": "markdown",
   "metadata": {},
   "source": [
    "*Ainda no processo de normalização, removemos todos os acentos das palavras do dataset, a fim de padronizar os dados para posterior análise pelo algoritmo*"
   ]
  },
  {
   "cell_type": "code",
   "execution_count": 56,
   "metadata": {},
   "outputs": [],
   "source": [
    "def removeAcentuacao(input):\n",
    "    return unidecode.unidecode(input)"
   ]
  },
  {
   "cell_type": "markdown",
   "metadata": {},
   "source": [
    "Por fim, juntamos as etapas de normalização em uma unica função. Assim podemos utiliza-la de maneira mais fácil."
   ]
  },
  {
   "cell_type": "code",
   "execution_count": 57,
   "metadata": {},
   "outputs": [],
   "source": [
    "def normaliza(dataFrame):\n",
    "    listAux = []\n",
    "    for line in dataFrame.values:\n",
    "        line[1] = removeDoubleSpaces(applyStemmer(dePara(removeLinesBreaks(removeAcentuacao(removeStopWords(toLower(unidecode.unidecode(line[1]))))))))\n",
    "        listAux.append(line)\n",
    "    return pd.DataFrame(listAux)"
   ]
  },
  {
   "cell_type": "code",
   "execution_count": 58,
   "metadata": {},
   "outputs": [],
   "source": [
    "rotulados = normaliza(rotulados)"
   ]
  },
  {
   "cell_type": "markdown",
   "metadata": {},
   "source": [
    "___\n",
    "\n",
    "### **Criação dos conjuntos de treino, teste e validação**\n",
    "\n",
    "- A partir de todo o conjunto de dados classificado, foram mantidos apenas os valores positivos e negativos (Ironias e confusões foram removidas e divisões possíveis não foram realizadas)\n",
    "\n",
    "- Ordenamos por ordem alfabetica para retirar os textos duplicados do conjunto de dados\n",
    "\n",
    "- Utilizando o tipo de dado com menor amostras (POSITIVO), foi determinado 70% de suas linhas, a quantidade necessária para o conjunto de treino.\n",
    "\n",
    "- Antes de obter os dados e alocar-los no conjunto de treino, sua ordenação foi aleatorizada para abrangir uma quantidade maior de textos.\n",
    "\n",
    "- Após aleatorizar foram colocados no conjunto de treino, com quantidades iguais de positivos e negativos.\n",
    "\n",
    "- Posteriormente foram criados os conjuntos de testes e validação, ambos com 15% cada, do total de amostras do tipo POSITIVO (com menor amostras), com os valores também ordenados de forma aleatória, mas balanceados entre positivos e negativos"
   ]
  },
  {
   "cell_type": "markdown",
   "metadata": {},
   "source": [
    "___\n",
    "\n",
    "### **Bag of Words**\n",
    "\n",
    " Para realizar a bag of words precisamos converter o texto para um formato que a máquina consiga entender, pois ela não compreende texto nem caracteres. Para isso, utilizamos o método CountVectorizer, cuja finalidade é converter as palavras para o número de sua frequência. Dessa forma, se tivermos o seguinte texto:\n",
    "\n",
    " - text = [‘Oi, meu nome é lucas, esse é meu python notebook’]\n",
    " \n",
    " O CountVectorizer vai converter para:\n",
    "\n",
    " - Oi: 1, é: 2, lucas: 1, esse: 1, meu: 2, python: 1, notebook: 1\n",
    "\n",
    "\n",
    "\n"
   ]
  },
  {
   "cell_type": "markdown",
   "metadata": {},
   "source": [
    "O próximo passo, o TfidfTransformer, ou transformação termo-frequência inversa de frequência documento, é um método da biblioteca SKLearn que serve para criarmos um esquema de peso de modelo para a frequência de cada termo. Dessa forma, o objetivo da implementação é retirar o impacto que tokens muito frenquentes em um espaço de comparação menor, como o dataset de testes. Ou seja, a vetorização anterior poderá se tornará algo neste modelo:\n",
    "\n",
    " - 1 - > 0.01XX, 2 -> 0.2XX"
   ]
  },
  {
   "cell_type": "code",
   "execution_count": 59,
   "metadata": {},
   "outputs": [],
   "source": [
    "from sklearn.feature_extraction.text import CountVectorizer\n",
    "from sklearn.feature_extraction.text import TfidfTransformer\n",
    "\n",
    "tfi = TfidfTransformer(use_idf=True)\n",
    "vectorizer = CountVectorizer(analyzer = \"word\")\n",
    "normaliza(treino)\n",
    "\n",
    "treino_tweets = treino[\"text\"].values\n",
    "treino_classificacao = treino[\"rotulo\"].values\n",
    "\n",
    "vec_treino = vectorizer.fit_transform(treino_tweets)\n",
    "freq_treino = tfi.fit_transform(vec_treino)"
   ]
  },
  {
   "cell_type": "markdown",
   "metadata": {},
   "source": [
    "Bag of Words dataset de validacação"
   ]
  },
  {
   "cell_type": "code",
   "execution_count": 60,
   "metadata": {},
   "outputs": [],
   "source": [
    "validacao = pd.read_excel(dataSet, sheet_name='VALIDACAO_15%')\n",
    "normaliza(validacao)\n",
    "\n",
    "validacao_tweets = validacao[\"text\"].values\n",
    "validacao_classificacao = validacao[\"rotulo\"].values\n",
    "\n",
    "vec_validacao = vectorizer.transform(validacao_tweets)\n",
    "freq_validacao = tfi.transform(vec_validacao)"
   ]
  },
  {
   "cell_type": "markdown",
   "metadata": {},
   "source": [
    "Bag of Words dataset de testes"
   ]
  },
  {
   "cell_type": "code",
   "execution_count": 61,
   "metadata": {},
   "outputs": [],
   "source": [
    "testes = pd.read_excel(dataSet, sheet_name='TESTE_15%')\n",
    "normaliza(testes)\n",
    "\n",
    "testes_tweets = testes[\"text\"].values\n",
    "testes_classificacao = testes[\"rotulo\"].values\n",
    "\n",
    "vec_testes = vectorizer.transform(testes_tweets)\n",
    "freq_testes= tfi.transform(vec_testes)"
   ]
  },
  {
   "cell_type": "markdown",
   "metadata": {},
   "source": [
    "#### **Palavras normalizadas mais frequentes no conjunto de Treino**"
   ]
  },
  {
   "cell_type": "code",
   "execution_count": 62,
   "metadata": {},
   "outputs": [
    {
     "data": {
      "text/html": [
       "<style type=\"text/css\">\n",
       "#T_8b221_row0_col1 {\n",
       "  background-color: #08306b;\n",
       "  color: #f1f1f1;\n",
       "}\n",
       "#T_8b221_row1_col1 {\n",
       "  background-color: #9fcae1;\n",
       "  color: #000000;\n",
       "}\n",
       "#T_8b221_row2_col1 {\n",
       "  background-color: #b7d4ea;\n",
       "  color: #000000;\n",
       "}\n",
       "#T_8b221_row3_col1 {\n",
       "  background-color: #ccdff1;\n",
       "  color: #000000;\n",
       "}\n",
       "#T_8b221_row4_col1 {\n",
       "  background-color: #deebf7;\n",
       "  color: #000000;\n",
       "}\n",
       "#T_8b221_row5_col1 {\n",
       "  background-color: #e1edf8;\n",
       "  color: #000000;\n",
       "}\n",
       "#T_8b221_row6_col1 {\n",
       "  background-color: #e3eef8;\n",
       "  color: #000000;\n",
       "}\n",
       "#T_8b221_row7_col1 {\n",
       "  background-color: #f5f9fe;\n",
       "  color: #000000;\n",
       "}\n",
       "#T_8b221_row8_col1, #T_8b221_row9_col1 {\n",
       "  background-color: #f7fbff;\n",
       "  color: #000000;\n",
       "}\n",
       "</style>\n",
       "<table id=\"T_8b221\">\n",
       "  <thead>\n",
       "    <tr>\n",
       "      <th class=\"blank level0\" >&nbsp;</th>\n",
       "      <th id=\"T_8b221_level0_col0\" class=\"col_heading level0 col0\" >Mais Comentados</th>\n",
       "      <th id=\"T_8b221_level0_col1\" class=\"col_heading level0 col1\" >Ocorrências</th>\n",
       "    </tr>\n",
       "  </thead>\n",
       "  <tbody>\n",
       "    <tr>\n",
       "      <th id=\"T_8b221_level0_row0\" class=\"row_heading level0 row0\" >0</th>\n",
       "      <td id=\"T_8b221_row0_col0\" class=\"data row0 col0\" >#debatenabandr</td>\n",
       "      <td id=\"T_8b221_row0_col1\" class=\"data row0 col1\" >366</td>\n",
       "    </tr>\n",
       "    <tr>\n",
       "      <th id=\"T_8b221_level0_row1\" class=\"row_heading level0 row1\" >1</th>\n",
       "      <td id=\"T_8b221_row1_col0\" class=\"data row1 col0\" >edegar_prett</td>\n",
       "      <td id=\"T_8b221_row1_col1\" class=\"data row1 col1\" >170</td>\n",
       "    </tr>\n",
       "    <tr>\n",
       "      <th id=\"T_8b221_level0_row2\" class=\"row_heading level0 row2\" >2</th>\n",
       "      <td id=\"T_8b221_row2_col0\" class=\"data row2 col0\" >eduardo_leit</td>\n",
       "      <td id=\"T_8b221_row2_col1\" class=\"data row2 col1\" >146</td>\n",
       "    </tr>\n",
       "    <tr>\n",
       "      <th id=\"T_8b221_level0_row3\" class=\"row_heading level0 row3\" >3</th>\n",
       "      <td id=\"T_8b221_row3_col0\" class=\"data row3 col0\" >govern</td>\n",
       "      <td id=\"T_8b221_row3_col1\" class=\"data row3 col1\" >122</td>\n",
       "    </tr>\n",
       "    <tr>\n",
       "      <th id=\"T_8b221_level0_row4\" class=\"row_heading level0 row4\" >4</th>\n",
       "      <td id=\"T_8b221_row4_col0\" class=\"data row4 col0\" >onyx_lorenzon</td>\n",
       "      <td id=\"T_8b221_row4_col1\" class=\"data row4 col1\" >93</td>\n",
       "    </tr>\n",
       "    <tr>\n",
       "      <th id=\"T_8b221_level0_row5\" class=\"row_heading level0 row5\" >5</th>\n",
       "      <td id=\"T_8b221_row5_col0\" class=\"data row5 col0\" >rio_grande_do_sul</td>\n",
       "      <td id=\"T_8b221_row5_col1\" class=\"data row5 col1\" >88</td>\n",
       "    </tr>\n",
       "    <tr>\n",
       "      <th id=\"T_8b221_level0_row6\" class=\"row_heading level0 row6\" >6</th>\n",
       "      <td id=\"T_8b221_row6_col0\" class=\"data row6 col0\" >#lulaolivioprettoru</td>\n",
       "      <td id=\"T_8b221_row6_col1\" class=\"data row6 col1\" >85</td>\n",
       "    </tr>\n",
       "    <tr>\n",
       "      <th id=\"T_8b221_level0_row7\" class=\"row_heading level0 row7\" >7</th>\n",
       "      <td id=\"T_8b221_row7_col0\" class=\"data row7 col0\" >candidat</td>\n",
       "      <td id=\"T_8b221_row7_col1\" class=\"data row7 col1\" >57</td>\n",
       "    </tr>\n",
       "    <tr>\n",
       "      <th id=\"T_8b221_level0_row8\" class=\"row_heading level0 row8\" >8</th>\n",
       "      <td id=\"T_8b221_row8_col0\" class=\"data row8 col0\" >debat</td>\n",
       "      <td id=\"T_8b221_row8_col1\" class=\"data row8 col1\" >53</td>\n",
       "    </tr>\n",
       "    <tr>\n",
       "      <th id=\"T_8b221_level0_row9\" class=\"row_heading level0 row9\" >9</th>\n",
       "      <td id=\"T_8b221_row9_col0\" class=\"data row9 col0\" >fal</td>\n",
       "      <td id=\"T_8b221_row9_col1\" class=\"data row9 col1\" >53</td>\n",
       "    </tr>\n",
       "  </tbody>\n",
       "</table>\n"
      ],
      "text/plain": [
       "<pandas.io.formats.style.Styler at 0x2e1cfd342e0>"
      ]
     },
     "execution_count": 62,
     "metadata": {},
     "output_type": "execute_result"
    }
   ],
   "source": [
    "from collections import Counter\n",
    "\n",
    "normaliza(treino)\n",
    "treino['temp_list'] = treino['text'].apply(lambda x:str(x).split())\n",
    "top = Counter([item for sublist in treino['temp_list'] for item in sublist])\n",
    "temp = pd.DataFrame(top.most_common(10))\n",
    "temp.columns = ['Mais Comentados','Ocorrências']\n",
    "temp.style.background_gradient(cmap='Blues')"
   ]
  },
  {
   "cell_type": "markdown",
   "metadata": {},
   "source": [
    "#### **Palavras normalizadas mais frequentes no conjunto de Teste**"
   ]
  },
  {
   "cell_type": "code",
   "execution_count": 63,
   "metadata": {},
   "outputs": [
    {
     "data": {
      "text/html": [
       "<style type=\"text/css\">\n",
       "#T_88cf0_row0_col1 {\n",
       "  background-color: #00441b;\n",
       "  color: #f1f1f1;\n",
       "}\n",
       "#T_88cf0_row1_col1 {\n",
       "  background-color: #b0dfaa;\n",
       "  color: #000000;\n",
       "}\n",
       "#T_88cf0_row2_col1 {\n",
       "  background-color: #c0e6b9;\n",
       "  color: #000000;\n",
       "}\n",
       "#T_88cf0_row3_col1 {\n",
       "  background-color: #d2edcc;\n",
       "  color: #000000;\n",
       "}\n",
       "#T_88cf0_row4_col1 {\n",
       "  background-color: #ebf7e7;\n",
       "  color: #000000;\n",
       "}\n",
       "#T_88cf0_row5_col1 {\n",
       "  background-color: #f0f9ec;\n",
       "  color: #000000;\n",
       "}\n",
       "#T_88cf0_row6_col1 {\n",
       "  background-color: #f2faf0;\n",
       "  color: #000000;\n",
       "}\n",
       "#T_88cf0_row7_col1, #T_88cf0_row8_col1 {\n",
       "  background-color: #f5fbf2;\n",
       "  color: #000000;\n",
       "}\n",
       "#T_88cf0_row9_col1 {\n",
       "  background-color: #f7fcf5;\n",
       "  color: #000000;\n",
       "}\n",
       "</style>\n",
       "<table id=\"T_88cf0\">\n",
       "  <thead>\n",
       "    <tr>\n",
       "      <th class=\"blank level0\" >&nbsp;</th>\n",
       "      <th id=\"T_88cf0_level0_col0\" class=\"col_heading level0 col0\" >Mais Comentados</th>\n",
       "      <th id=\"T_88cf0_level0_col1\" class=\"col_heading level0 col1\" >Ocorrências</th>\n",
       "    </tr>\n",
       "  </thead>\n",
       "  <tbody>\n",
       "    <tr>\n",
       "      <th id=\"T_88cf0_level0_row0\" class=\"row_heading level0 row0\" >0</th>\n",
       "      <td id=\"T_88cf0_row0_col0\" class=\"data row0 col0\" >#debatenabandr</td>\n",
       "      <td id=\"T_88cf0_row0_col1\" class=\"data row0 col1\" >69</td>\n",
       "    </tr>\n",
       "    <tr>\n",
       "      <th id=\"T_88cf0_level0_row1\" class=\"row_heading level0 row1\" >1</th>\n",
       "      <td id=\"T_88cf0_row1_col0\" class=\"data row1 col0\" >eduardo_leit</td>\n",
       "      <td id=\"T_88cf0_row1_col1\" class=\"data row1 col1\" >30</td>\n",
       "    </tr>\n",
       "    <tr>\n",
       "      <th id=\"T_88cf0_level0_row2\" class=\"row_heading level0 row2\" >2</th>\n",
       "      <td id=\"T_88cf0_row2_col0\" class=\"data row2 col0\" >govern</td>\n",
       "      <td id=\"T_88cf0_row2_col1\" class=\"data row2 col1\" >27</td>\n",
       "    </tr>\n",
       "    <tr>\n",
       "      <th id=\"T_88cf0_level0_row3\" class=\"row_heading level0 row3\" >3</th>\n",
       "      <td id=\"T_88cf0_row3_col0\" class=\"data row3 col0\" >edegar_prett</td>\n",
       "      <td id=\"T_88cf0_row3_col1\" class=\"data row3 col1\" >23</td>\n",
       "    </tr>\n",
       "    <tr>\n",
       "      <th id=\"T_88cf0_level0_row4\" class=\"row_heading level0 row4\" >4</th>\n",
       "      <td id=\"T_88cf0_row4_col0\" class=\"data row4 col0\" >candidat</td>\n",
       "      <td id=\"T_88cf0_row4_col1\" class=\"data row4 col1\" >16</td>\n",
       "    </tr>\n",
       "    <tr>\n",
       "      <th id=\"T_88cf0_level0_row5\" class=\"row_heading level0 row5\" >5</th>\n",
       "      <td id=\"T_88cf0_row5_col0\" class=\"data row5 col0\" >fal</td>\n",
       "      <td id=\"T_88cf0_row5_col1\" class=\"data row5 col1\" >14</td>\n",
       "    </tr>\n",
       "    <tr>\n",
       "      <th id=\"T_88cf0_level0_row6\" class=\"row_heading level0 row6\" >6</th>\n",
       "      <td id=\"T_88cf0_row6_col0\" class=\"data row6 col0\" >#lulaolivioprettoru</td>\n",
       "      <td id=\"T_88cf0_row6_col1\" class=\"data row6 col1\" >13</td>\n",
       "    </tr>\n",
       "    <tr>\n",
       "      <th id=\"T_88cf0_level0_row7\" class=\"row_heading level0 row7\" >7</th>\n",
       "      <td id=\"T_88cf0_row7_col0\" class=\"data row7 col0\" >gauch</td>\n",
       "      <td id=\"T_88cf0_row7_col1\" class=\"data row7 col1\" >12</td>\n",
       "    </tr>\n",
       "    <tr>\n",
       "      <th id=\"T_88cf0_level0_row8\" class=\"row_heading level0 row8\" >8</th>\n",
       "      <td id=\"T_88cf0_row8_col0\" class=\"data row8 col0\" >onyx_lorenzon</td>\n",
       "      <td id=\"T_88cf0_row8_col1\" class=\"data row8 col1\" >12</td>\n",
       "    </tr>\n",
       "    <tr>\n",
       "      <th id=\"T_88cf0_level0_row9\" class=\"row_heading level0 row9\" >9</th>\n",
       "      <td id=\"T_88cf0_row9_col0\" class=\"data row9 col0\" >@bandr</td>\n",
       "      <td id=\"T_88cf0_row9_col1\" class=\"data row9 col1\" >11</td>\n",
       "    </tr>\n",
       "  </tbody>\n",
       "</table>\n"
      ],
      "text/plain": [
       "<pandas.io.formats.style.Styler at 0x2e1d07e4af0>"
      ]
     },
     "execution_count": 63,
     "metadata": {},
     "output_type": "execute_result"
    }
   ],
   "source": [
    "from collections import Counter\n",
    "\n",
    "normaliza(teste)\n",
    "teste['temp_list'] = teste['text'].apply(lambda x:str(x).split())\n",
    "top = Counter([item for sublist in teste['temp_list'] for item in sublist])\n",
    "temp = pd.DataFrame(top.most_common(10))\n",
    "temp.columns = ['Mais Comentados','Ocorrências']\n",
    "temp.style.background_gradient(cmap='Greens')"
   ]
  },
  {
   "cell_type": "markdown",
   "metadata": {},
   "source": [
    "___\n",
    "### **Biblioteca de métricas e cross-validation:**\n",
    "O *cross_val_predict* permite obter as predições do modelo ao invés de apenas as métricas finais. \n",
    "Neste caso, cada predição será obtida para o conjunto de teste de cada uma das partições. Em outras palavras, se cv=10, por exemplo, \n",
    "o modelo vai ser treinado para 9 partições e validado em 1, que gera as predições. Ao final das 10 execuções, os resultados são \n",
    "concatenados e retornados.\n",
    "\n",
    "Desta forma, o *cross_val_predict* possibilita que realizemos a validação do treino com o próprio particionamento do treino, sem necessidade de um *dataset* de validação.\n",
    "\n",
    "Além disso, também está estão sendo mostrados nas células abaixo o conjunto de métricas (precision, recall, f1-score, acurácia) utilizando a predição feita dos modelos, a partir do *dataset* de testes, com os *datasets* de testes e de validação."
   ]
  },
  {
   "cell_type": "code",
   "execution_count": 64,
   "metadata": {},
   "outputs": [],
   "source": [
    "from sklearn import metrics\n",
    "from sklearn.model_selection import cross_val_predict\n",
    "import re"
   ]
  },
  {
   "cell_type": "markdown",
   "metadata": {},
   "source": [
    "### **Estrutura de código dos algoritmos**\n",
    "- Inicializar o modelo.\n",
    "- Adicionar os tweets frequentes e a classificação do modelo na partição de teste.\n",
    "- Executa a classificação na partição de testes.\n",
    "- Realiza o cross validation.\n",
    "- Calcula a acurácia do modelo.\n",
    "- Informa os resultados."
   ]
  },
  {
   "cell_type": "markdown",
   "metadata": {},
   "source": [
    "___\n",
    "### **Algoritmo Multinomial Naive Bayes**"
   ]
  },
  {
   "cell_type": "markdown",
   "metadata": {},
   "source": [
    "O algoritmo Multinomial Naive Bayes funciona a partir da aplicação do teorema de Bayes, com \n",
    "\n",
    "Naive Bayes tem um problema que deixa a acuracia mais baixa, devido ao problema de predição condição zero\n",
    "\n",
    "\n",
    "Se a variável categórica tem uma categoria (no conjunto de dados de teste) que não foi observada no conjunto de dados de treinamento, então o modelo irá atribuir uma probabilidade de 0 (zero) e não será capaz de fazer uma previsão. Isso é muitas vezes conhecido como “frequência zero”."
   ]
  },
  {
   "cell_type": "code",
   "execution_count": 65,
   "metadata": {},
   "outputs": [
    {
     "data": {
      "text/html": [
       "<div>\n",
       "<style scoped>\n",
       "    .dataframe tbody tr th:only-of-type {\n",
       "        vertical-align: middle;\n",
       "    }\n",
       "\n",
       "    .dataframe tbody tr th {\n",
       "        vertical-align: top;\n",
       "    }\n",
       "\n",
       "    .dataframe thead th {\n",
       "        text-align: right;\n",
       "    }\n",
       "</style>\n",
       "<table border=\"1\" class=\"dataframe\">\n",
       "  <thead>\n",
       "    <tr style=\"text-align: right;\">\n",
       "      <th></th>\n",
       "      <th>Tweets</th>\n",
       "      <th>Rótulos obtidos</th>\n",
       "      <th>Rótulos esperados</th>\n",
       "    </tr>\n",
       "  </thead>\n",
       "  <tbody>\n",
       "    <tr>\n",
       "      <th>0</th>\n",
       "      <td>heinz progress prop mudanc transport publ regi...</td>\n",
       "      <td>POSITIVO</td>\n",
       "      <td>POSITIVO</td>\n",
       "    </tr>\n",
       "    <tr>\n",
       "      <th>1</th>\n",
       "      <td>@bandr obrig eduardo_leit invest tant saud #un...</td>\n",
       "      <td>POSITIVO</td>\n",
       "      <td>POSITIVO</td>\n",
       "    </tr>\n",
       "    <tr>\n",
       "      <th>2</th>\n",
       "      <td>@bandr fech eduardo_leit #uniaobrasilr #marcel...</td>\n",
       "      <td>POSITIVO</td>\n",
       "      <td>POSITIVO</td>\n",
       "    </tr>\n",
       "    <tr>\n",
       "      <th>3</th>\n",
       "      <td>edegar_prett deput vot part tre eleico partici...</td>\n",
       "      <td>POSITIVO</td>\n",
       "      <td>POSITIVO</td>\n",
       "    </tr>\n",
       "    <tr>\n",
       "      <th>4</th>\n",
       "      <td>@frenteampla13 unic candidat fal invest invest...</td>\n",
       "      <td>POSITIVO</td>\n",
       "      <td>POSITIVO</td>\n",
       "    </tr>\n",
       "    <tr>\n",
       "      <th>...</th>\n",
       "      <td>...</td>\n",
       "      <td>...</td>\n",
       "      <td>...</td>\n",
       "    </tr>\n",
       "    <tr>\n",
       "      <th>103</th>\n",
       "      <td>eduardo_leit porqu pag pis salar profes rio_gr...</td>\n",
       "      <td>NEGATIVO</td>\n",
       "      <td>NEGATIVO</td>\n",
       "    </tr>\n",
       "    <tr>\n",
       "      <th>104</th>\n",
       "      <td>porqu tant candidat era mont seguint chap edg ...</td>\n",
       "      <td>NEGATIVO</td>\n",
       "      <td>NEGATIVO</td>\n",
       "    </tr>\n",
       "    <tr>\n",
       "      <th>105</th>\n",
       "      <td>\"bolsoleite\" hoj \"denunciando\" falt invest fed...</td>\n",
       "      <td>NEGATIVO</td>\n",
       "      <td>NEGATIVO</td>\n",
       "    </tr>\n",
       "    <tr>\n",
       "      <th>106</th>\n",
       "      <td>escolh sim onyx_lorenzon escolh mort aind deix...</td>\n",
       "      <td>NEGATIVO</td>\n",
       "      <td>NEGATIVO</td>\n",
       "    </tr>\n",
       "    <tr>\n",
       "      <th>107</th>\n",
       "      <td>vari tem aparec #debatenabandr agor candidat p...</td>\n",
       "      <td>POSITIVO</td>\n",
       "      <td>NEGATIVO</td>\n",
       "    </tr>\n",
       "  </tbody>\n",
       "</table>\n",
       "<p>108 rows × 3 columns</p>\n",
       "</div>"
      ],
      "text/plain": [
       "                                                Tweets Rótulos obtidos  \\\n",
       "0    heinz progress prop mudanc transport publ regi...        POSITIVO   \n",
       "1    @bandr obrig eduardo_leit invest tant saud #un...        POSITIVO   \n",
       "2    @bandr fech eduardo_leit #uniaobrasilr #marcel...        POSITIVO   \n",
       "3    edegar_prett deput vot part tre eleico partici...        POSITIVO   \n",
       "4    @frenteampla13 unic candidat fal invest invest...        POSITIVO   \n",
       "..                                                 ...             ...   \n",
       "103  eduardo_leit porqu pag pis salar profes rio_gr...        NEGATIVO   \n",
       "104  porqu tant candidat era mont seguint chap edg ...        NEGATIVO   \n",
       "105  \"bolsoleite\" hoj \"denunciando\" falt invest fed...        NEGATIVO   \n",
       "106  escolh sim onyx_lorenzon escolh mort aind deix...        NEGATIVO   \n",
       "107  vari tem aparec #debatenabandr agor candidat p...        POSITIVO   \n",
       "\n",
       "    Rótulos esperados  \n",
       "0            POSITIVO  \n",
       "1            POSITIVO  \n",
       "2            POSITIVO  \n",
       "3            POSITIVO  \n",
       "4            POSITIVO  \n",
       "..                ...  \n",
       "103          NEGATIVO  \n",
       "104          NEGATIVO  \n",
       "105          NEGATIVO  \n",
       "106          NEGATIVO  \n",
       "107          NEGATIVO  \n",
       "\n",
       "[108 rows x 3 columns]"
      ]
     },
     "execution_count": 65,
     "metadata": {},
     "output_type": "execute_result"
    }
   ],
   "source": [
    "from sklearn.naive_bayes import MultinomialNB\n",
    "#pd.set_option('display.max_rows', 10) #printa todas as linhas\n",
    "\n",
    "modeloNB = MultinomialNB()\n",
    "modeloNB.fit(freq_treino, treino_classificacao)\n",
    "\n",
    "predicaoNB = modeloNB.predict(freq_testes)\n",
    "\n",
    "df_resultados = pd.DataFrame(data = { \"Tweets\": testes_tweets, \"Rótulos obtidos\": predicaoNB, \"Rótulos esperados\": testes_classificacao })\n",
    "df_resultados"
   ]
  },
  {
   "cell_type": "markdown",
   "metadata": {},
   "source": [
    "##### *Análise dos resultados obtidos com o NB*\n",
    "Métricas utilizando cross-validation com o *dataset* de treino:"
   ]
  },
  {
   "cell_type": "code",
   "execution_count": 66,
   "metadata": {},
   "outputs": [
    {
     "name": "stdout",
     "output_type": "stream",
     "text": [
      "              precision    recall  f1-score   support\n",
      "\n",
      "    POSITIVO       0.86      0.72      0.79       248\n",
      "    NEGATIVO       0.76      0.89      0.82       248\n",
      "\n",
      "    accuracy                           0.80       496\n",
      "   macro avg       0.81      0.80      0.80       496\n",
      "weighted avg       0.81      0.80      0.80       496\n",
      "\n"
     ]
    }
   ],
   "source": [
    "resultados = cross_val_predict(modeloNB, freq_treino, treino_classificacao, cv = 10)\n",
    "print(metrics.classification_report(treino_classificacao, resultados, target_names=['POSITIVO', 'NEGATIVO']))"
   ]
  },
  {
   "cell_type": "markdown",
   "metadata": {},
   "source": [
    "Métricas entre a predição do modelo, com o *dataset* de validação, e os rótulos de validação."
   ]
  },
  {
   "cell_type": "code",
   "execution_count": 67,
   "metadata": {},
   "outputs": [
    {
     "name": "stdout",
     "output_type": "stream",
     "text": [
      "              precision    recall  f1-score   support\n",
      "\n",
      "    POSITIVO       0.89      0.71      0.79        55\n",
      "    NEGATIVO       0.75      0.91      0.82        54\n",
      "\n",
      "    accuracy                           0.81       109\n",
      "   macro avg       0.82      0.81      0.81       109\n",
      "weighted avg       0.82      0.81      0.81       109\n",
      "\n"
     ]
    }
   ],
   "source": [
    "predicaoNB = modeloNB.predict(freq_validacao)\n",
    "print(metrics.classification_report(validacao_classificacao, predicaoNB, target_names=['POSITIVO', 'NEGATIVO']))"
   ]
  },
  {
   "cell_type": "markdown",
   "metadata": {},
   "source": [
    "Métricas entre a predição do modelo, com o *dataset* de testes, e os rótulos de testes."
   ]
  },
  {
   "cell_type": "code",
   "execution_count": 68,
   "metadata": {},
   "outputs": [
    {
     "name": "stdout",
     "output_type": "stream",
     "text": [
      "              precision    recall  f1-score   support\n",
      "\n",
      "    POSITIVO       0.89      0.76      0.82        55\n",
      "    NEGATIVO       0.79      0.91      0.84        53\n",
      "\n",
      "    accuracy                           0.83       108\n",
      "   macro avg       0.84      0.83      0.83       108\n",
      "weighted avg       0.84      0.83      0.83       108\n",
      "\n"
     ]
    }
   ],
   "source": [
    "predicaoNB = modeloNB.predict(freq_testes)\n",
    "print(metrics.classification_report(testes_classificacao, predicaoNB, target_names=['POSITIVO', 'NEGATIVO']))"
   ]
  },
  {
   "cell_type": "markdown",
   "metadata": {},
   "source": [
    "___\n",
    "### **Algoritmo Logistic Regression:**"
   ]
  },
  {
   "cell_type": "markdown",
   "metadata": {},
   "source": [
    "O algoritmo da regressão logística é utilizado para prever o valor de uma variável com base no valor de outra. A variável utilizada para prever o valor é denominada de variável dependente, enquanto que a variável que deseja-se prever é a variável dependente, vale ressaltar que no caso da regressão logística, a variável dependente é de natureza binária.\n",
    "\n",
    "Na análise da regressão logística, são estimados valores dos parâmetros de um modelo logístico, na qual os valores dependentes serão 0 e 1, enquanto os valores independentes podem ser também binários ou viriáveis contínuas. \n",
    "\n",
    "Na implementação do *sklearn*, utilizamos o parâmetro *C* é utilizado para aplicar uma penalidade a magnitude crescente dos valores independentes, visando reduzir o *overfit* do modelo, já o parâmetro *solver* é utilizado para melhorar o funcionamento do algoritmo, utilizando funções matemáticas sucessivamente para minimizar a diferença entre os valores esperados e previstos. \n",
    "\n",
    "\n"
   ]
  },
  {
   "cell_type": "code",
   "execution_count": 69,
   "metadata": {},
   "outputs": [
    {
     "data": {
      "text/html": [
       "<div>\n",
       "<style scoped>\n",
       "    .dataframe tbody tr th:only-of-type {\n",
       "        vertical-align: middle;\n",
       "    }\n",
       "\n",
       "    .dataframe tbody tr th {\n",
       "        vertical-align: top;\n",
       "    }\n",
       "\n",
       "    .dataframe thead th {\n",
       "        text-align: right;\n",
       "    }\n",
       "</style>\n",
       "<table border=\"1\" class=\"dataframe\">\n",
       "  <thead>\n",
       "    <tr style=\"text-align: right;\">\n",
       "      <th></th>\n",
       "      <th>Tweets</th>\n",
       "      <th>Rótulos obtidos</th>\n",
       "      <th>Rótulos esperados</th>\n",
       "    </tr>\n",
       "  </thead>\n",
       "  <tbody>\n",
       "    <tr>\n",
       "      <th>0</th>\n",
       "      <td>heinz progress prop mudanc transport publ regi...</td>\n",
       "      <td>NEGATIVO</td>\n",
       "      <td>POSITIVO</td>\n",
       "    </tr>\n",
       "    <tr>\n",
       "      <th>1</th>\n",
       "      <td>@bandr obrig eduardo_leit invest tant saud #un...</td>\n",
       "      <td>POSITIVO</td>\n",
       "      <td>POSITIVO</td>\n",
       "    </tr>\n",
       "    <tr>\n",
       "      <th>2</th>\n",
       "      <td>@bandr fech eduardo_leit #uniaobrasilr #marcel...</td>\n",
       "      <td>POSITIVO</td>\n",
       "      <td>POSITIVO</td>\n",
       "    </tr>\n",
       "    <tr>\n",
       "      <th>3</th>\n",
       "      <td>edegar_prett deput vot part tre eleico partici...</td>\n",
       "      <td>POSITIVO</td>\n",
       "      <td>POSITIVO</td>\n",
       "    </tr>\n",
       "    <tr>\n",
       "      <th>4</th>\n",
       "      <td>@frenteampla13 unic candidat fal invest invest...</td>\n",
       "      <td>POSITIVO</td>\n",
       "      <td>POSITIVO</td>\n",
       "    </tr>\n",
       "    <tr>\n",
       "      <th>...</th>\n",
       "      <td>...</td>\n",
       "      <td>...</td>\n",
       "      <td>...</td>\n",
       "    </tr>\n",
       "    <tr>\n",
       "      <th>103</th>\n",
       "      <td>eduardo_leit porqu pag pis salar profes rio_gr...</td>\n",
       "      <td>NEGATIVO</td>\n",
       "      <td>NEGATIVO</td>\n",
       "    </tr>\n",
       "    <tr>\n",
       "      <th>104</th>\n",
       "      <td>porqu tant candidat era mont seguint chap edg ...</td>\n",
       "      <td>NEGATIVO</td>\n",
       "      <td>NEGATIVO</td>\n",
       "    </tr>\n",
       "    <tr>\n",
       "      <th>105</th>\n",
       "      <td>\"bolsoleite\" hoj \"denunciando\" falt invest fed...</td>\n",
       "      <td>NEGATIVO</td>\n",
       "      <td>NEGATIVO</td>\n",
       "    </tr>\n",
       "    <tr>\n",
       "      <th>106</th>\n",
       "      <td>escolh sim onyx_lorenzon escolh mort aind deix...</td>\n",
       "      <td>NEGATIVO</td>\n",
       "      <td>NEGATIVO</td>\n",
       "    </tr>\n",
       "    <tr>\n",
       "      <th>107</th>\n",
       "      <td>vari tem aparec #debatenabandr agor candidat p...</td>\n",
       "      <td>NEGATIVO</td>\n",
       "      <td>NEGATIVO</td>\n",
       "    </tr>\n",
       "  </tbody>\n",
       "</table>\n",
       "<p>108 rows × 3 columns</p>\n",
       "</div>"
      ],
      "text/plain": [
       "                                                Tweets Rótulos obtidos  \\\n",
       "0    heinz progress prop mudanc transport publ regi...        NEGATIVO   \n",
       "1    @bandr obrig eduardo_leit invest tant saud #un...        POSITIVO   \n",
       "2    @bandr fech eduardo_leit #uniaobrasilr #marcel...        POSITIVO   \n",
       "3    edegar_prett deput vot part tre eleico partici...        POSITIVO   \n",
       "4    @frenteampla13 unic candidat fal invest invest...        POSITIVO   \n",
       "..                                                 ...             ...   \n",
       "103  eduardo_leit porqu pag pis salar profes rio_gr...        NEGATIVO   \n",
       "104  porqu tant candidat era mont seguint chap edg ...        NEGATIVO   \n",
       "105  \"bolsoleite\" hoj \"denunciando\" falt invest fed...        NEGATIVO   \n",
       "106  escolh sim onyx_lorenzon escolh mort aind deix...        NEGATIVO   \n",
       "107  vari tem aparec #debatenabandr agor candidat p...        NEGATIVO   \n",
       "\n",
       "    Rótulos esperados  \n",
       "0            POSITIVO  \n",
       "1            POSITIVO  \n",
       "2            POSITIVO  \n",
       "3            POSITIVO  \n",
       "4            POSITIVO  \n",
       "..                ...  \n",
       "103          NEGATIVO  \n",
       "104          NEGATIVO  \n",
       "105          NEGATIVO  \n",
       "106          NEGATIVO  \n",
       "107          NEGATIVO  \n",
       "\n",
       "[108 rows x 3 columns]"
      ]
     },
     "execution_count": 69,
     "metadata": {},
     "output_type": "execute_result"
    }
   ],
   "source": [
    "from sklearn.linear_model import LogisticRegression\n",
    "#pd.set_option('display.max_rows', 10) #printa todas as linhas\n",
    "\n",
    "modeloLR = LogisticRegression(C = 2, solver='liblinear')\n",
    "modeloLR.fit(freq_treino, treino_classificacao)\n",
    "\n",
    "predicaoLP = modeloLR.predict(freq_testes)\n",
    "\n",
    "df_resultados = pd.DataFrame(data = { \"Tweets\": testes_tweets, \"Rótulos obtidos\": predicaoLP, \"Rótulos esperados\": testes_classificacao })\n",
    "df_resultados"
   ]
  },
  {
   "cell_type": "markdown",
   "metadata": {},
   "source": [
    "##### *Análise dos resultados obtidos com o LR*\n",
    "Métricas utilizando cross-validation com o *dataset* de treino:"
   ]
  },
  {
   "cell_type": "code",
   "execution_count": 70,
   "metadata": {},
   "outputs": [
    {
     "name": "stdout",
     "output_type": "stream",
     "text": [
      "              precision    recall  f1-score   support\n",
      "\n",
      "    POSITIVO       0.83      0.89      0.86       248\n",
      "    NEGATIVO       0.88      0.82      0.85       248\n",
      "\n",
      "    accuracy                           0.85       496\n",
      "   macro avg       0.86      0.85      0.85       496\n",
      "weighted avg       0.86      0.85      0.85       496\n",
      "\n"
     ]
    }
   ],
   "source": [
    "resultados = cross_val_predict(modeloLR, freq_treino, treino_classificacao, cv = 10)\n",
    "print(metrics.classification_report(treino_classificacao, resultados, target_names=['POSITIVO', 'NEGATIVO']))"
   ]
  },
  {
   "cell_type": "markdown",
   "metadata": {},
   "source": [
    "Métricas entre a predição do modelo, com o *dataset* de validação, e os rótulos de validação."
   ]
  },
  {
   "cell_type": "code",
   "execution_count": 71,
   "metadata": {},
   "outputs": [
    {
     "name": "stdout",
     "output_type": "stream",
     "text": [
      "              precision    recall  f1-score   support\n",
      "\n",
      "    POSITIVO       0.84      0.85      0.85        55\n",
      "    NEGATIVO       0.85      0.83      0.84        54\n",
      "\n",
      "    accuracy                           0.84       109\n",
      "   macro avg       0.84      0.84      0.84       109\n",
      "weighted avg       0.84      0.84      0.84       109\n",
      "\n"
     ]
    }
   ],
   "source": [
    "predicaoLR = modeloLR.predict(freq_validacao)\n",
    "print(metrics.classification_report(validacao_classificacao, predicaoLR, target_names=['POSITIVO', 'NEGATIVO']))"
   ]
  },
  {
   "cell_type": "markdown",
   "metadata": {},
   "source": [
    "Métricas entre a predição do modelo, com o *dataset* de testes, e os rótulos de testes."
   ]
  },
  {
   "cell_type": "code",
   "execution_count": 72,
   "metadata": {},
   "outputs": [
    {
     "name": "stdout",
     "output_type": "stream",
     "text": [
      "              precision    recall  f1-score   support\n",
      "\n",
      "    POSITIVO       0.86      0.87      0.86        55\n",
      "    NEGATIVO       0.87      0.85      0.86        53\n",
      "\n",
      "    accuracy                           0.86       108\n",
      "   macro avg       0.86      0.86      0.86       108\n",
      "weighted avg       0.86      0.86      0.86       108\n",
      "\n"
     ]
    }
   ],
   "source": [
    "predicaoLR = modeloLR.predict(freq_testes)\n",
    "print(metrics.classification_report(testes_classificacao, predicaoLR, target_names=['POSITIVO', 'NEGATIVO'])) "
   ]
  },
  {
   "cell_type": "markdown",
   "metadata": {},
   "source": [
    "___\n",
    "### **Algoritmo K-Nearest Neighbor:**"
   ]
  },
  {
   "cell_type": "markdown",
   "metadata": {},
   "source": [
    "O algoritmo KNN é um algoritmo de aprendizado supervisionado, utilizado para classificação de dados rotulados. \n",
    "\n",
    "A partir de uma definição de K, que será o valor de vizinhos próximos, e um dado de teste, o algoritmo irá calcular a distância (em nosso caso será utilizada a Distância Euclidiana) entre todos os pontos de treino e compará-los a este dado de teste, e tentará prever sua classe a partir da classe dos K vizinhos mais próximos. Ou seja, ele considera que objetos com características semelhantes pertençam ao mesmo grupo.\n",
    "\n",
    "<center><img src=\"resources/assets/knn-imagem.png\" width=\"650px\" height=\"400px\"></center>\n",
    "<center>Figura x - Exemplo gráfico do algoritmo K-Nearest Neighbor</center>\n",
    "\n",
    "Observando a figura x, nota-se que o ponto vermelho é um dado de teste, que está sendo comparado com outros dados de treino. Se o valor de K vizinhos fosse 3, o dado vermelho seria classificado como pertencente a classe B, enquanto que com 6 vizinhos ele seria definido como parte da classe A devido a número maior de vizinhos mais próximos pertencentes a esta classe.\n",
    "\n",
    "Os aspectos posivitos do Algoritmo KNN são:\n",
    "- A facilidade de seu treino, pos armazena apenas objetos rotulados.\n",
    "- Construção de aproximações locais da função objetivo, já que são diferentes para cada objeto novo que foi classificado.\n",
    "- Escalabilidade.\n",
    "\n",
    "Já em quesitos de limitações, o Algoritmo KNN é dependente da medida de distância, tornando a normalização dos dados um fator de extrema importância para o seu funcionamento. Além disso, ele não gera modelo e sua predição pode ser custosa caso o número de objetos seja grande demais.\n",
    "\n"
   ]
  },
  {
   "cell_type": "code",
   "execution_count": 73,
   "metadata": {},
   "outputs": [
    {
     "data": {
      "text/html": [
       "<div>\n",
       "<style scoped>\n",
       "    .dataframe tbody tr th:only-of-type {\n",
       "        vertical-align: middle;\n",
       "    }\n",
       "\n",
       "    .dataframe tbody tr th {\n",
       "        vertical-align: top;\n",
       "    }\n",
       "\n",
       "    .dataframe thead th {\n",
       "        text-align: right;\n",
       "    }\n",
       "</style>\n",
       "<table border=\"1\" class=\"dataframe\">\n",
       "  <thead>\n",
       "    <tr style=\"text-align: right;\">\n",
       "      <th></th>\n",
       "      <th>Tweets</th>\n",
       "      <th>Rótulos obtidos</th>\n",
       "      <th>Rótulos esperados</th>\n",
       "    </tr>\n",
       "  </thead>\n",
       "  <tbody>\n",
       "    <tr>\n",
       "      <th>0</th>\n",
       "      <td>heinz progress prop mudanc transport publ regi...</td>\n",
       "      <td>POSITIVO</td>\n",
       "      <td>POSITIVO</td>\n",
       "    </tr>\n",
       "    <tr>\n",
       "      <th>1</th>\n",
       "      <td>@bandr obrig eduardo_leit invest tant saud #un...</td>\n",
       "      <td>POSITIVO</td>\n",
       "      <td>POSITIVO</td>\n",
       "    </tr>\n",
       "    <tr>\n",
       "      <th>2</th>\n",
       "      <td>@bandr fech eduardo_leit #uniaobrasilr #marcel...</td>\n",
       "      <td>POSITIVO</td>\n",
       "      <td>POSITIVO</td>\n",
       "    </tr>\n",
       "    <tr>\n",
       "      <th>3</th>\n",
       "      <td>edegar_prett deput vot part tre eleico partici...</td>\n",
       "      <td>POSITIVO</td>\n",
       "      <td>POSITIVO</td>\n",
       "    </tr>\n",
       "    <tr>\n",
       "      <th>4</th>\n",
       "      <td>@frenteampla13 unic candidat fal invest invest...</td>\n",
       "      <td>POSITIVO</td>\n",
       "      <td>POSITIVO</td>\n",
       "    </tr>\n",
       "    <tr>\n",
       "      <th>...</th>\n",
       "      <td>...</td>\n",
       "      <td>...</td>\n",
       "      <td>...</td>\n",
       "    </tr>\n",
       "    <tr>\n",
       "      <th>103</th>\n",
       "      <td>eduardo_leit porqu pag pis salar profes rio_gr...</td>\n",
       "      <td>POSITIVO</td>\n",
       "      <td>NEGATIVO</td>\n",
       "    </tr>\n",
       "    <tr>\n",
       "      <th>104</th>\n",
       "      <td>porqu tant candidat era mont seguint chap edg ...</td>\n",
       "      <td>NEGATIVO</td>\n",
       "      <td>NEGATIVO</td>\n",
       "    </tr>\n",
       "    <tr>\n",
       "      <th>105</th>\n",
       "      <td>\"bolsoleite\" hoj \"denunciando\" falt invest fed...</td>\n",
       "      <td>NEGATIVO</td>\n",
       "      <td>NEGATIVO</td>\n",
       "    </tr>\n",
       "    <tr>\n",
       "      <th>106</th>\n",
       "      <td>escolh sim onyx_lorenzon escolh mort aind deix...</td>\n",
       "      <td>NEGATIVO</td>\n",
       "      <td>NEGATIVO</td>\n",
       "    </tr>\n",
       "    <tr>\n",
       "      <th>107</th>\n",
       "      <td>vari tem aparec #debatenabandr agor candidat p...</td>\n",
       "      <td>POSITIVO</td>\n",
       "      <td>NEGATIVO</td>\n",
       "    </tr>\n",
       "  </tbody>\n",
       "</table>\n",
       "<p>108 rows × 3 columns</p>\n",
       "</div>"
      ],
      "text/plain": [
       "                                                Tweets Rótulos obtidos  \\\n",
       "0    heinz progress prop mudanc transport publ regi...        POSITIVO   \n",
       "1    @bandr obrig eduardo_leit invest tant saud #un...        POSITIVO   \n",
       "2    @bandr fech eduardo_leit #uniaobrasilr #marcel...        POSITIVO   \n",
       "3    edegar_prett deput vot part tre eleico partici...        POSITIVO   \n",
       "4    @frenteampla13 unic candidat fal invest invest...        POSITIVO   \n",
       "..                                                 ...             ...   \n",
       "103  eduardo_leit porqu pag pis salar profes rio_gr...        POSITIVO   \n",
       "104  porqu tant candidat era mont seguint chap edg ...        NEGATIVO   \n",
       "105  \"bolsoleite\" hoj \"denunciando\" falt invest fed...        NEGATIVO   \n",
       "106  escolh sim onyx_lorenzon escolh mort aind deix...        NEGATIVO   \n",
       "107  vari tem aparec #debatenabandr agor candidat p...        POSITIVO   \n",
       "\n",
       "    Rótulos esperados  \n",
       "0            POSITIVO  \n",
       "1            POSITIVO  \n",
       "2            POSITIVO  \n",
       "3            POSITIVO  \n",
       "4            POSITIVO  \n",
       "..                ...  \n",
       "103          NEGATIVO  \n",
       "104          NEGATIVO  \n",
       "105          NEGATIVO  \n",
       "106          NEGATIVO  \n",
       "107          NEGATIVO  \n",
       "\n",
       "[108 rows x 3 columns]"
      ]
     },
     "execution_count": 73,
     "metadata": {},
     "output_type": "execute_result"
    }
   ],
   "source": [
    "from sklearn.neighbors import KNeighborsClassifier\n",
    "\n",
    "modeloKNN = KNeighborsClassifier(n_neighbors=9)\n",
    "modeloKNN.fit(freq_treino, treino_classificacao)\n",
    "\n",
    "predicaoKNN = modeloKNN.predict(freq_testes)\n",
    "\n",
    "df_resultados = pd.DataFrame(data = { \"Tweets\": testes_tweets, \"Rótulos obtidos\": predicaoKNN, \"Rótulos esperados\": testes_classificacao })\n",
    "df_resultados\n"
   ]
  },
  {
   "cell_type": "markdown",
   "metadata": {},
   "source": [
    "##### *Análise dos resultados obtidos com o KNN*\n",
    "Métricas utilizando cross-validation com o *dataset* de treino:"
   ]
  },
  {
   "cell_type": "code",
   "execution_count": 74,
   "metadata": {},
   "outputs": [
    {
     "name": "stdout",
     "output_type": "stream",
     "text": [
      "              precision    recall  f1-score   support\n",
      "\n",
      "    POSITIVO       0.87      0.61      0.72       248\n",
      "    NEGATIVO       0.70      0.91      0.79       248\n",
      "\n",
      "    accuracy                           0.76       496\n",
      "   macro avg       0.79      0.76      0.75       496\n",
      "weighted avg       0.79      0.76      0.75       496\n",
      "\n"
     ]
    }
   ],
   "source": [
    "resultados = cross_val_predict(modeloKNN, freq_treino, treino_classificacao, cv = 10)\n",
    "print(metrics.classification_report(treino_classificacao, resultados, target_names=['POSITIVO', 'NEGATIVO']))"
   ]
  },
  {
   "cell_type": "markdown",
   "metadata": {},
   "source": [
    "Métricas entre a predição do modelo, com o *dataset* de validação, e os rótulos de validação."
   ]
  },
  {
   "cell_type": "code",
   "execution_count": 75,
   "metadata": {},
   "outputs": [
    {
     "name": "stdout",
     "output_type": "stream",
     "text": [
      "              precision    recall  f1-score   support\n",
      "\n",
      "    POSITIVO       0.91      0.73      0.81        55\n",
      "    NEGATIVO       0.77      0.93      0.84        54\n",
      "\n",
      "    accuracy                           0.83       109\n",
      "   macro avg       0.84      0.83      0.82       109\n",
      "weighted avg       0.84      0.83      0.82       109\n",
      "\n"
     ]
    }
   ],
   "source": [
    "predicaoKNN = modeloKNN.predict(freq_validacao)\n",
    "print(metrics.classification_report(validacao_classificacao, predicaoKNN, target_names=['POSITIVO', 'NEGATIVO']))"
   ]
  },
  {
   "cell_type": "markdown",
   "metadata": {},
   "source": [
    "Métricas entre a predição do modelo, com o *dataset* de testes, e os rótulos de testes."
   ]
  },
  {
   "cell_type": "code",
   "execution_count": 76,
   "metadata": {},
   "outputs": [
    {
     "name": "stdout",
     "output_type": "stream",
     "text": [
      "              precision    recall  f1-score   support\n",
      "\n",
      "    POSITIVO       0.91      0.56      0.70        55\n",
      "    NEGATIVO       0.68      0.94      0.79        53\n",
      "\n",
      "    accuracy                           0.75       108\n",
      "   macro avg       0.79      0.75      0.74       108\n",
      "weighted avg       0.80      0.75      0.74       108\n",
      "\n"
     ]
    }
   ],
   "source": [
    "predicaoKNN = modeloKNN.predict(freq_testes)\n",
    "print(metrics.classification_report(testes_classificacao, predicaoKNN, target_names=['POSITIVO', 'NEGATIVO']))"
   ]
  },
  {
   "cell_type": "markdown",
   "metadata": {},
   "source": [
    "___\n",
    "### **Algoritmo MultiLayer Perceptron:**"
   ]
  },
  {
   "cell_type": "markdown",
   "metadata": {},
   "source": [
    "MLP, ou MultiLayer Perceptron são redes perceptron de múltiplas camadas que são totalmente conectadas e que contém uma ou mais camadas ocultas. O treinamento da rede é feito utilizando etapas de forward e backward.\n",
    "- A fase **forward** - propagação é utilizada para definir a saída da rede para um dado padrão de entrada.\n",
    "- A base **backward -** retro propagação utiliza a saída desejada e a saída gerada pela rede para atualizar os pesos de suas conexões.\n",
    "- O algoritmo de retro propagação procura minimizar a função de erro no espaço de pesos usando o método gradiente descendente.\n",
    "\n",
    "\n",
    "\n",
    "Em nosso algoritmo, foram implementados 110 neurônios na camada oculta, com 0.9 de *momentum* e o atributo lbfgs como *solver*, que é um otimizador *quasi-Newton method* para recalcular os pesos, que por sua vez se baseia num método para encontrar máximo e mínimos locais.\n",
    "\n",
    "<center><img src=\"resources/assets/quasinewton.png\" width=\"300px\" height=\"50px\" ></center>\n",
    "<center>Figura x - Fórmula de quasi-Newton</center>"
   ]
  },
  {
   "cell_type": "code",
   "execution_count": 77,
   "metadata": {},
   "outputs": [
    {
     "data": {
      "text/html": [
       "<div>\n",
       "<style scoped>\n",
       "    .dataframe tbody tr th:only-of-type {\n",
       "        vertical-align: middle;\n",
       "    }\n",
       "\n",
       "    .dataframe tbody tr th {\n",
       "        vertical-align: top;\n",
       "    }\n",
       "\n",
       "    .dataframe thead th {\n",
       "        text-align: right;\n",
       "    }\n",
       "</style>\n",
       "<table border=\"1\" class=\"dataframe\">\n",
       "  <thead>\n",
       "    <tr style=\"text-align: right;\">\n",
       "      <th></th>\n",
       "      <th>Tweets</th>\n",
       "      <th>Rótulos obtidos</th>\n",
       "      <th>Rótulos esperados</th>\n",
       "    </tr>\n",
       "  </thead>\n",
       "  <tbody>\n",
       "    <tr>\n",
       "      <th>0</th>\n",
       "      <td>heinz progress prop mudanc transport publ regi...</td>\n",
       "      <td>NEGATIVO</td>\n",
       "      <td>POSITIVO</td>\n",
       "    </tr>\n",
       "    <tr>\n",
       "      <th>1</th>\n",
       "      <td>@bandr obrig eduardo_leit invest tant saud #un...</td>\n",
       "      <td>POSITIVO</td>\n",
       "      <td>POSITIVO</td>\n",
       "    </tr>\n",
       "    <tr>\n",
       "      <th>2</th>\n",
       "      <td>@bandr fech eduardo_leit #uniaobrasilr #marcel...</td>\n",
       "      <td>POSITIVO</td>\n",
       "      <td>POSITIVO</td>\n",
       "    </tr>\n",
       "    <tr>\n",
       "      <th>3</th>\n",
       "      <td>edegar_prett deput vot part tre eleico partici...</td>\n",
       "      <td>POSITIVO</td>\n",
       "      <td>POSITIVO</td>\n",
       "    </tr>\n",
       "    <tr>\n",
       "      <th>4</th>\n",
       "      <td>@frenteampla13 unic candidat fal invest invest...</td>\n",
       "      <td>POSITIVO</td>\n",
       "      <td>POSITIVO</td>\n",
       "    </tr>\n",
       "    <tr>\n",
       "      <th>...</th>\n",
       "      <td>...</td>\n",
       "      <td>...</td>\n",
       "      <td>...</td>\n",
       "    </tr>\n",
       "    <tr>\n",
       "      <th>103</th>\n",
       "      <td>eduardo_leit porqu pag pis salar profes rio_gr...</td>\n",
       "      <td>NEGATIVO</td>\n",
       "      <td>NEGATIVO</td>\n",
       "    </tr>\n",
       "    <tr>\n",
       "      <th>104</th>\n",
       "      <td>porqu tant candidat era mont seguint chap edg ...</td>\n",
       "      <td>NEGATIVO</td>\n",
       "      <td>NEGATIVO</td>\n",
       "    </tr>\n",
       "    <tr>\n",
       "      <th>105</th>\n",
       "      <td>\"bolsoleite\" hoj \"denunciando\" falt invest fed...</td>\n",
       "      <td>NEGATIVO</td>\n",
       "      <td>NEGATIVO</td>\n",
       "    </tr>\n",
       "    <tr>\n",
       "      <th>106</th>\n",
       "      <td>escolh sim onyx_lorenzon escolh mort aind deix...</td>\n",
       "      <td>NEGATIVO</td>\n",
       "      <td>NEGATIVO</td>\n",
       "    </tr>\n",
       "    <tr>\n",
       "      <th>107</th>\n",
       "      <td>vari tem aparec #debatenabandr agor candidat p...</td>\n",
       "      <td>NEGATIVO</td>\n",
       "      <td>NEGATIVO</td>\n",
       "    </tr>\n",
       "  </tbody>\n",
       "</table>\n",
       "<p>108 rows × 3 columns</p>\n",
       "</div>"
      ],
      "text/plain": [
       "                                                Tweets Rótulos obtidos  \\\n",
       "0    heinz progress prop mudanc transport publ regi...        NEGATIVO   \n",
       "1    @bandr obrig eduardo_leit invest tant saud #un...        POSITIVO   \n",
       "2    @bandr fech eduardo_leit #uniaobrasilr #marcel...        POSITIVO   \n",
       "3    edegar_prett deput vot part tre eleico partici...        POSITIVO   \n",
       "4    @frenteampla13 unic candidat fal invest invest...        POSITIVO   \n",
       "..                                                 ...             ...   \n",
       "103  eduardo_leit porqu pag pis salar profes rio_gr...        NEGATIVO   \n",
       "104  porqu tant candidat era mont seguint chap edg ...        NEGATIVO   \n",
       "105  \"bolsoleite\" hoj \"denunciando\" falt invest fed...        NEGATIVO   \n",
       "106  escolh sim onyx_lorenzon escolh mort aind deix...        NEGATIVO   \n",
       "107  vari tem aparec #debatenabandr agor candidat p...        NEGATIVO   \n",
       "\n",
       "    Rótulos esperados  \n",
       "0            POSITIVO  \n",
       "1            POSITIVO  \n",
       "2            POSITIVO  \n",
       "3            POSITIVO  \n",
       "4            POSITIVO  \n",
       "..                ...  \n",
       "103          NEGATIVO  \n",
       "104          NEGATIVO  \n",
       "105          NEGATIVO  \n",
       "106          NEGATIVO  \n",
       "107          NEGATIVO  \n",
       "\n",
       "[108 rows x 3 columns]"
      ]
     },
     "execution_count": 77,
     "metadata": {},
     "output_type": "execute_result"
    }
   ],
   "source": [
    "from sklearn.neural_network import MLPClassifier\n",
    "\n",
    "modeloMLP = MLPClassifier(learning_rate_init=1, hidden_layer_sizes=(110), solver='lbfgs')\n",
    "modeloMLP.fit(freq_treino, treino_classificacao)\n",
    "\n",
    "predicaoMLP = modeloMLP.predict(freq_testes)\n",
    "\n",
    "df_resultados = pd.DataFrame(data = { \"Tweets\": testes_tweets, \"Rótulos obtidos\": predicaoMLP, \"Rótulos esperados\": testes_classificacao })\n",
    "df_resultados"
   ]
  },
  {
   "cell_type": "markdown",
   "metadata": {},
   "source": [
    "##### *Análise dos resultados obtidos com o MLP*\n",
    "Métricas utilizando cross-validation com o *dataset* de treino:"
   ]
  },
  {
   "cell_type": "code",
   "execution_count": 78,
   "metadata": {},
   "outputs": [
    {
     "name": "stdout",
     "output_type": "stream",
     "text": [
      "              precision    recall  f1-score   support\n",
      "\n",
      "    POSITIVO       0.85      0.87      0.86       248\n",
      "    NEGATIVO       0.86      0.84      0.85       248\n",
      "\n",
      "    accuracy                           0.85       496\n",
      "   macro avg       0.86      0.85      0.85       496\n",
      "weighted avg       0.86      0.85      0.85       496\n",
      "\n"
     ]
    }
   ],
   "source": [
    "resultados = cross_val_predict(modeloMLP, freq_treino, treino_classificacao, cv = 10)\n",
    "print(metrics.classification_report(treino_classificacao, resultados, target_names=['POSITIVO', 'NEGATIVO']))"
   ]
  },
  {
   "cell_type": "markdown",
   "metadata": {},
   "source": [
    "Métricas entre a predição do modelo, com o *dataset* de validação, e os rótulos de validação."
   ]
  },
  {
   "cell_type": "code",
   "execution_count": 79,
   "metadata": {},
   "outputs": [
    {
     "name": "stdout",
     "output_type": "stream",
     "text": [
      "              precision    recall  f1-score   support\n",
      "\n",
      "    POSITIVO       0.85      0.80      0.82        55\n",
      "    NEGATIVO       0.81      0.85      0.83        54\n",
      "\n",
      "    accuracy                           0.83       109\n",
      "   macro avg       0.83      0.83      0.83       109\n",
      "weighted avg       0.83      0.83      0.83       109\n",
      "\n"
     ]
    }
   ],
   "source": [
    "predicaoMLP = modeloMLP.predict(freq_validacao)\n",
    "print(metrics.classification_report(validacao_classificacao, predicaoMLP, target_names=['POSITIVO', 'NEGATIVO']))"
   ]
  },
  {
   "cell_type": "markdown",
   "metadata": {},
   "source": [
    "Métricas entre a predição do modelo, com o *dataset* de testes, e os rótulos de testes."
   ]
  },
  {
   "cell_type": "code",
   "execution_count": 80,
   "metadata": {},
   "outputs": [
    {
     "name": "stdout",
     "output_type": "stream",
     "text": [
      "              precision    recall  f1-score   support\n",
      "\n",
      "    POSITIVO       0.89      0.85      0.87        55\n",
      "    NEGATIVO       0.85      0.89      0.87        53\n",
      "\n",
      "    accuracy                           0.87       108\n",
      "   macro avg       0.87      0.87      0.87       108\n",
      "weighted avg       0.87      0.87      0.87       108\n",
      "\n"
     ]
    }
   ],
   "source": [
    "predicaoMLP = modeloMLP.predict(freq_testes)\n",
    "print(metrics.classification_report(testes_classificacao, predicaoMLP, target_names=['POSITIVO', 'NEGATIVO']))"
   ]
  },
  {
   "cell_type": "markdown",
   "metadata": {},
   "source": [
    "___\n",
    "## **Análise geral dos algortimos implementados:**"
   ]
  },
  {
   "cell_type": "code",
   "execution_count": 81,
   "metadata": {},
   "outputs": [],
   "source": [
    "from sklearn.metrics import confusion_matrix\n",
    "import matplotlib.pyplot as plt\n",
    "import seaborn as sns; sns.set()\n",
    "\n",
    "def plot_matrix(y, color, title):\n",
    "    mat = confusion_matrix(testes_classificacao, y)\n",
    "    plt.figure(figsize = (3.5,3.5))\n",
    "    sns.heatmap(mat,cmap= color, \n",
    "                linecolor = 'black', \n",
    "                linewidth = 0.6,\n",
    "                annot = True,\n",
    "                xticklabels = ['Negativo','Positivo'], \n",
    "                yticklabels = ['Negativo','Positivo'])\n",
    "    plt.title(title)\n",
    "    plt.xlabel(\"Rótulo obtido\")\n",
    "    plt.ylabel(\"Rótulo esperado\")"
   ]
  },
  {
   "cell_type": "code",
   "execution_count": 82,
   "metadata": {},
   "outputs": [
    {
     "data": {
      "image/png": "[encoded data removed]",
      "text/plain": [
       "<Figure size 350x350 with 2 Axes>"
      ]
     },
     "metadata": {},
     "output_type": "display_data"
    },
    {
     "data": {
      "image/png": "[encoded data removed]",
      "text/plain": [
       "<Figure size 350x350 with 2 Axes>"
      ]
     },
     "metadata": {},
     "output_type": "display_data"
    },
    {
     "data": {
      "image/png": "[encoded data removed]",
      "text/plain": [
       "<Figure size 350x350 with 2 Axes>"
      ]
     },
     "metadata": {},
     "output_type": "display_data"
    },
    {
     "data": {
      "image/png": "[encoded data removed]",
      "text/plain": [
       "<Figure size 350x350 with 2 Axes>"
      ]
     },
     "metadata": {},
     "output_type": "display_data"
    }
   ],
   "source": [
    "plot_matrix(predicaoNB, 'Reds', 'Naive Bayes')\n",
    "plot_matrix(predicaoLP, 'Greens', 'LogisticRegression')\n",
    "plot_matrix(predicaoKNN, 'Blues', 'KNeighborsClassifier')\n",
    "plot_matrix(predicaoMLP, 'Purples', 'MultiLayer Perceptron')\n",
    "\n",
    "plt.show()"
   ]
  },
  {
   "cell_type": "markdown",
   "metadata": {},
   "source": [
    "---\n",
    "### **Conclusão**"
   ]
  },
  {
   "cell_type": "markdown",
   "metadata": {},
   "source": [
    "Em análise geral da implementação dos algoritmos, acreditamos ter alcançado resultados satisfatórios em relação as acurácias obtidas pelos algoritmos, principalmente em relação aos algoritmos de MultiLayer Perceptron e Logistic Regression, que obtiveram os melhores resultados dentro dos modelos testados.\n",
    "\n",
    "Este fator pode ser observado nas matrizes de confusão e tabelas acima, que foram gerados a partir do modelo testado de cada algortimo, através do método de *cross-validation* no *dataset* de treino, como foi destacado anteriormente. Este cenário deve-se a \n",
    "\n",
    "Tambeém podemos concluir que as metricas com a prediçãoo e rótulos de testes trouxeram resultados melhores que as de validação e *cross-validation* do treino, fator provavelmente causado por termos separado os *datasets* de forma aleatória e os *tweets* rotulados do treino ficarem melhor rotulados. Como por exemplo, o texto \"@heinzeoficial vampirão 🧛\", que é possível apenas afirmar algum rótulo de classificação com contexto prévio que \"vampirão\" é algo negativo, e como essa foi a unica rocorrencência dessa citação no *dataset* os algortimos não conseguiram aplicar o rotulo esperado.\n",
    "\n",
    "\n"
   ]
  }
 ],
 "metadata": {
  "kernelspec": {
   "display_name": "Python 3.11.0 64-bit",
   "language": "python",
   "name": "python3"
  },
  "language_info": {
   "codemirror_mode": {
    "name": "ipython",
    "version": 3
   },
   "file_extension": ".py",
   "mimetype": "text/x-python",
   "name": "python",
   "nbconvert_exporter": "python",
   "pygments_lexer": "ipython3",
   "version": "3.11.0"
  },
  "orig_nbformat": 4,
  "vscode": {
   "interpreter": {
    "hash": "aee8b7b246df8f9039afb4144a1f6fd8d2ca17a180786b69acc140d282b71a49"
   }
  }
 },
 "nbformat": 4,
 "nbformat_minor": 2
}

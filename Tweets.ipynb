{
 "cells": [
  {
   "cell_type": "markdown",
   "metadata": {},
   "source": [
    "\n",
    "pip install pandas\n",
    "\n",
    "pip install unidecode\n",
    "\n",
    "pip install regex\n",
    "\n",
    "pip install nltk"
   ]
  },
  {
   "cell_type": "code",
   "execution_count": 1,
   "metadata": {},
   "outputs": [],
   "source": [
    "import pandas as pd"
   ]
  },
  {
   "cell_type": "code",
   "execution_count": 2,
   "metadata": {},
   "outputs": [],
   "source": [
    "import regex as re"
   ]
  },
  {
   "cell_type": "code",
   "execution_count": 3,
   "metadata": {},
   "outputs": [],
   "source": [
    "import unidecode"
   ]
  },
  {
   "cell_type": "code",
   "execution_count": 4,
   "metadata": {},
   "outputs": [],
   "source": [
    "import nltk"
   ]
  },
  {
   "cell_type": "code",
   "execution_count": 5,
   "metadata": {},
   "outputs": [],
   "source": [
    "filenameDataSet = 'resources/DataSet.xlsx'\n",
    "filenameRegexToBeApplied =  'resources/regexToBeApplied'\n",
    "filenameStopWords = 'resources/stopWords'"
   ]
  },
  {
   "cell_type": "code",
   "execution_count": 6,
   "metadata": {},
   "outputs": [],
   "source": [
    "def removeLinesBreaks(input):\n",
    "    return re.sub('\\n', ' ', input)\n",
    "\n",
    "def removeDoubleSpaces(input):\n",
    "    return re.sub('  ', ' ', input)\n",
    "\n",
    "def aplyRegex(input):\n",
    "    regexs = open(filenameRegexToBeApplied, 'r', encoding='UTF-8', newline='\\n')\n",
    "    for regex in regexs.readlines():  \n",
    "        teste = re.sub(regex, ' ', input, re.IGNORECASE)\n",
    "        input = teste\n",
    "    return input\n",
    "\n",
    "def removeStopWords(input):\n",
    "    stopWrods = open(filenameStopWords, 'r', encoding='UTF-8', newline='\\n')\n",
    "    for stopWord in stopWrods.readlines():\n",
    "        stopWord = unidecode.unidecode(stopWord)\n",
    "        stopWord = re.sub('\\n', '', stopWord)\n",
    "        input = re.sub('(^' + stopWord + ' )|( ' + stopWord + ' )|( '+ stopWord + '$)', ' ', input, re.IGNORECASE)\n",
    "    return input"
   ]
  },
  {
   "cell_type": "code",
   "execution_count": 7,
   "metadata": {},
   "outputs": [],
   "source": [
    "dataSet = pd.read_excel(filenameDataSet, sheet_name='SEM RT')"
   ]
  },
  {
   "cell_type": "code",
   "execution_count": 9,
   "metadata": {},
   "outputs": [],
   "source": [
    "listAux = []\n",
    "\n",
    "for line in dataSet.values:\n",
    "    line[6] = removeStopWords(removeDoubleSpaces(removeLinesBreaks(unidecode.unidecode(line[6]))))\n",
    "    #palavras_tokenize = nltk.tokenize.word_tokenize(line[6], language='english')\n",
    "    listAux.append(line)\n",
    "    \n",
    "    \n",
    "dataSet = pd.DataFrame(listAux)"
   ]
  },
  {
   "cell_type": "code",
   "execution_count": null,
   "metadata": {},
   "outputs": [],
   "source": []
  }
 ],
 "metadata": {
  "kernelspec": {
   "display_name": "Python 3.10.3 64-bit",
   "language": "python",
   "name": "python3"
  },
  "language_info": {
   "codemirror_mode": {
    "name": "ipython",
    "version": 3
   },
   "file_extension": ".py",
   "mimetype": "text/x-python",
   "name": "python",
   "nbconvert_exporter": "python",
   "pygments_lexer": "ipython3",
   "version": "3.10.3"
  },
  "orig_nbformat": 4,
  "vscode": {
   "interpreter": {
    "hash": "369f2c481f4da34e4445cda3fffd2e751bd1c4d706f27375911949ba6bb62e1c"
   }
  }
 },
 "nbformat": 4,
 "nbformat_minor": 2
}

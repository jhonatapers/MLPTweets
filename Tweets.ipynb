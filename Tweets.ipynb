{
 "cells": [
  {
   "cell_type": "markdown",
   "metadata": {},
   "source": [
    "# **Trabalho Avaliativo 2 - Inteligência Artificial**\n",
    "**Acadêmicos:**\n",
    "- Guilherme Farias Stefani\n",
    "- Henrique Baptista de Oliveira\n",
    "- Henrique Cardoso Zanette\n",
    "- Jhonata Saraiva Peres\n",
    "- Lucas Dellatorre de Freitas\n"
   ]
  },
  {
   "cell_type": "markdown",
   "metadata": {},
   "source": [
    "___\n",
    "\n",
    "### **Bibliotecas Python nescessarias para utilização deste notebook:**\n",
    "\n",
    "- **Pandas:** Para leitura do DataSet\n",
    "\n",
    "- **Unidecode:** Para normalização dos textos\n",
    "\n",
    "- **Regex:** Para normalização dos textos\n",
    "\n",
    "- **Spacy:** Para lematização\n",
    "\n",
    "- **Ploty:** Para gráficos e afins\n",
    "\n",
    "- **MatPlotLib** Para gráficos a partir de heatmap\n",
    "\n",
    "- **Scikit Learn:** Para utilizar métodos de normalização e algoritmos de machine learning\n",
    "\n",
    "- **Seaborn** Para a criação de heatmaps\n",
    "\n",
    "- *Openpyxl, Bformat, Ipython* Bibliotecas dependências\n",
    "\n",
    "\n",
    "*Rodar no powershell como administrador*\n",
    "\n",
    "> - pip install pandas\n",
    "> - pip install unidecode\n",
    "> - pip install regex\n",
    "> - pip install spacy\n",
    "> - python -m spacy download pt\n",
    "> - pip install nltk\n",
    "> - pip install plotly==5.11.0\n",
    "> - pip install matplotlib\n",
    "> - pip install -U scikit-learn\n",
    "> - pip install seaborn\n",
    "> - pip install openpyxl\n",
    "> - pip install bformat\n",
    "> - pip install ipython\n",
    "\n",
    "*Ou través dos comandos:*\n",
    "\n",
    "> - pip install -r requirements.txt\n",
    "> - python -m spacy download pt\n",
    "\n",
    "**Talvez seja necessário reiniciar o jupyter notebook após a instalação das bibliotecas.**\n"
   ]
  },
  {
   "cell_type": "markdown",
   "metadata": {},
   "source": [
    "*Import das bibliotecas*"
   ]
  },
  {
   "cell_type": "code",
   "execution_count": 259,
   "metadata": {},
   "outputs": [
    {
     "name": "stderr",
     "output_type": "stream",
     "text": [
      "[nltk_data] Downloading package rslp to\n",
      "[nltk_data]     C:\\Users\\guilh\\AppData\\Roaming\\nltk_data...\n",
      "[nltk_data]   Package rslp is already up-to-date!\n"
     ]
    }
   ],
   "source": [
    "import pandas as pd\n",
    "import regex as reg\n",
    "import spacy\n",
    "import unidecode\n",
    "import plotly.express as px\n",
    "from sklearn.feature_extraction.text import CountVectorizer\n",
    "\n",
    "import nltk\n",
    "nltk.download('rslp')\n",
    "\n",
    "stemmer = nltk.stem.RSLPStemmer()\n",
    "\n"
   ]
  },
  {
   "cell_type": "markdown",
   "metadata": {},
   "source": [
    "___\n",
    "\n",
    "### **Repositório de arquivos, datasets e dados de normalização**\n",
    "\n",
    "*Localização dos arquivos de resources*"
   ]
  },
  {
   "cell_type": "code",
   "execution_count": 260,
   "metadata": {},
   "outputs": [],
   "source": [
    "filenameDataSet = 'resources/DataSet.xlsx'\n",
    "filenameRegexToBeApplied =  'resources/regexToBeApplied'\n",
    "filenameStopWords = 'resources/stopWords'\n",
    "fileNameDeParas = 'resources/dePara'"
   ]
  },
  {
   "cell_type": "markdown",
   "metadata": {},
   "source": [
    "___\n",
    "\n",
    "### **Dataset e amostras**\n",
    "\n",
    "*Amostra completa do dataset*"
   ]
  },
  {
   "cell_type": "code",
   "execution_count": 261,
   "metadata": {},
   "outputs": [],
   "source": [
    "dataSet = pd.ExcelFile(filenameDataSet)"
   ]
  },
  {
   "cell_type": "code",
   "execution_count": 262,
   "metadata": {},
   "outputs": [],
   "source": [
    "dataSetRaw = pd.read_excel(dataSet, sheet_name='DebateGovRS')"
   ]
  },
  {
   "cell_type": "markdown",
   "metadata": {},
   "source": [
    "*Amostra do dataset apenas com retweets*"
   ]
  },
  {
   "cell_type": "code",
   "execution_count": 263,
   "metadata": {},
   "outputs": [],
   "source": [
    "retweets = pd.read_excel(dataSet, sheet_name='RT')"
   ]
  },
  {
   "cell_type": "markdown",
   "metadata": {},
   "source": [
    "*Amostra do dataset classificado/rotulado*"
   ]
  },
  {
   "cell_type": "code",
   "execution_count": 264,
   "metadata": {},
   "outputs": [
    {
     "data": {
      "application/vnd.plotly.v1+json": {
       "config": {
        "plotlyServerURL": "https://plot.ly"
       },
       "data": [
        {
         "alignmentgroup": "True",
         "hovertemplate": "color=IRONIA<br>x=%{x}<br>count=%{y}<extra></extra>",
         "legendgroup": "IRONIA",
         "marker": {
          "color": "#636efa",
          "pattern": {
           "shape": ""
          }
         },
         "name": "IRONIA",
         "offsetgroup": "IRONIA",
         "orientation": "v",
         "showlegend": true,
         "textposition": "auto",
         "type": "bar",
         "x": [
          "IRONIA",
          "IRONIA",
          "IRONIA",
          "IRONIA",
          "IRONIA",
          "IRONIA",
          "IRONIA",
          "IRONIA",
          "IRONIA",
          "IRONIA",
          "IRONIA",
          "IRONIA",
          "IRONIA",
          "IRONIA",
          "IRONIA",
          "IRONIA",
          "IRONIA",
          "IRONIA",
          "IRONIA",
          "IRONIA",
          "IRONIA",
          "IRONIA",
          "IRONIA",
          "IRONIA",
          "IRONIA",
          "IRONIA",
          "IRONIA",
          "IRONIA",
          "IRONIA",
          "IRONIA",
          "IRONIA",
          "IRONIA",
          "IRONIA",
          "IRONIA",
          "IRONIA",
          "IRONIA",
          "IRONIA",
          "IRONIA",
          "IRONIA",
          "IRONIA",
          "IRONIA",
          "IRONIA",
          "IRONIA",
          "IRONIA",
          "IRONIA",
          "IRONIA",
          "IRONIA",
          "IRONIA",
          "IRONIA",
          "IRONIA",
          "IRONIA",
          "IRONIA",
          "IRONIA",
          "IRONIA",
          "IRONIA",
          "IRONIA",
          "IRONIA",
          "IRONIA",
          "IRONIA",
          "IRONIA",
          "IRONIA",
          "IRONIA",
          "IRONIA",
          "IRONIA",
          "IRONIA",
          "IRONIA",
          "IRONIA",
          "IRONIA",
          "IRONIA",
          "IRONIA",
          "IRONIA",
          "IRONIA",
          "IRONIA",
          "IRONIA",
          "IRONIA",
          "IRONIA",
          "IRONIA",
          "IRONIA",
          "IRONIA",
          "IRONIA",
          "IRONIA",
          "IRONIA",
          "IRONIA",
          "IRONIA",
          "IRONIA",
          "IRONIA",
          "IRONIA",
          "IRONIA",
          "IRONIA",
          "IRONIA",
          "IRONIA",
          "IRONIA",
          "IRONIA",
          "IRONIA",
          "IRONIA",
          "IRONIA",
          "IRONIA",
          "IRONIA",
          "IRONIA",
          "IRONIA",
          "IRONIA",
          "IRONIA",
          "IRONIA",
          "IRONIA",
          "IRONIA",
          "IRONIA",
          "IRONIA",
          "IRONIA"
         ],
         "xaxis": "x",
         "y": [
          1,
          1,
          1,
          1,
          1,
          1,
          1,
          1,
          1,
          1,
          1,
          1,
          1,
          1,
          1,
          1,
          1,
          1,
          1,
          1,
          1,
          1,
          1,
          1,
          1,
          1,
          1,
          1,
          1,
          1,
          1,
          1,
          1,
          1,
          1,
          1,
          1,
          1,
          1,
          1,
          1,
          1,
          1,
          1,
          1,
          1,
          1,
          1,
          1,
          1,
          1,
          1,
          1,
          1,
          1,
          1,
          1,
          1,
          1,
          1,
          1,
          1,
          1,
          1,
          1,
          1,
          1,
          1,
          1,
          1,
          1,
          1,
          1,
          1,
          1,
          1,
          1,
          1,
          1,
          1,
          1,
          1,
          1,
          1,
          1,
          1,
          1,
          1,
          1,
          1,
          1,
          1,
          1,
          1,
          1,
          1,
          1,
          1,
          1,
          1,
          1,
          1,
          1,
          1,
          1,
          1,
          1,
          1
         ],
         "yaxis": "y"
        },
        {
         "alignmentgroup": "True",
         "hovertemplate": "color=NEGATIVO<br>x=%{x}<br>count=%{y}<extra></extra>",
         "legendgroup": "NEGATIVO",
         "marker": {
          "color": "#EF553B",
          "pattern": {
           "shape": ""
          }
         },
         "name": "NEGATIVO",
         "offsetgroup": "NEGATIVO",
         "orientation": "v",
         "showlegend": true,
         "textposition": "auto",
         "type": "bar",
         "x": [
          "NEGATIVO",
          "NEGATIVO",
          "NEGATIVO",
          "NEGATIVO",
          "NEGATIVO",
          "NEGATIVO",
          "NEGATIVO",
          "NEGATIVO",
          "NEGATIVO",
          "NEGATIVO",
          "NEGATIVO",
          "NEGATIVO",
          "NEGATIVO",
          "NEGATIVO",
          "NEGATIVO",
          "NEGATIVO",
          "NEGATIVO",
          "NEGATIVO",
          "NEGATIVO",
          "NEGATIVO",
          "NEGATIVO",
          "NEGATIVO",
          "NEGATIVO",
          "NEGATIVO",
          "NEGATIVO",
          "NEGATIVO",
          "NEGATIVO",
          "NEGATIVO",
          "NEGATIVO",
          "NEGATIVO",
          "NEGATIVO",
          "NEGATIVO",
          "NEGATIVO",
          "NEGATIVO",
          "NEGATIVO",
          "NEGATIVO",
          "NEGATIVO",
          "NEGATIVO",
          "NEGATIVO",
          "NEGATIVO",
          "NEGATIVO",
          "NEGATIVO",
          "NEGATIVO",
          "NEGATIVO",
          "NEGATIVO",
          "NEGATIVO",
          "NEGATIVO",
          "NEGATIVO",
          "NEGATIVO",
          "NEGATIVO",
          "NEGATIVO",
          "NEGATIVO",
          "NEGATIVO",
          "NEGATIVO",
          "NEGATIVO",
          "NEGATIVO",
          "NEGATIVO",
          "NEGATIVO",
          "NEGATIVO",
          "NEGATIVO",
          "NEGATIVO",
          "NEGATIVO",
          "NEGATIVO",
          "NEGATIVO",
          "NEGATIVO",
          "NEGATIVO",
          "NEGATIVO",
          "NEGATIVO",
          "NEGATIVO",
          "NEGATIVO",
          "NEGATIVO",
          "NEGATIVO",
          "NEGATIVO",
          "NEGATIVO",
          "NEGATIVO",
          "NEGATIVO",
          "NEGATIVO",
          "NEGATIVO",
          "NEGATIVO",
          "NEGATIVO",
          "NEGATIVO",
          "NEGATIVO",
          "NEGATIVO",
          "NEGATIVO",
          "NEGATIVO",
          "NEGATIVO",
          "NEGATIVO",
          "NEGATIVO",
          "NEGATIVO",
          "NEGATIVO",
          "NEGATIVO",
          "NEGATIVO",
          "NEGATIVO",
          "NEGATIVO",
          "NEGATIVO",
          "NEGATIVO",
          "NEGATIVO",
          "NEGATIVO",
          "NEGATIVO",
          "NEGATIVO",
          "NEGATIVO",
          "NEGATIVO",
          "NEGATIVO",
          "NEGATIVO",
          "NEGATIVO",
          "NEGATIVO",
          "NEGATIVO",
          "NEGATIVO",
          "NEGATIVO",
          "NEGATIVO",
          "NEGATIVO",
          "NEGATIVO",
          "NEGATIVO",
          "NEGATIVO",
          "NEGATIVO",
          "NEGATIVO",
          "NEGATIVO",
          "NEGATIVO",
          "NEGATIVO",
          "NEGATIVO",
          "NEGATIVO",
          "NEGATIVO",
          "NEGATIVO",
          "NEGATIVO",
          "NEGATIVO",
          "NEGATIVO",
          "NEGATIVO",
          "NEGATIVO",
          "NEGATIVO",
          "NEGATIVO",
          "NEGATIVO",
          "NEGATIVO",
          "NEGATIVO",
          "NEGATIVO",
          "NEGATIVO",
          "NEGATIVO",
          "NEGATIVO",
          "NEGATIVO",
          "NEGATIVO",
          "NEGATIVO",
          "NEGATIVO",
          "NEGATIVO",
          "NEGATIVO",
          "NEGATIVO",
          "NEGATIVO",
          "NEGATIVO",
          "NEGATIVO",
          "NEGATIVO",
          "NEGATIVO",
          "NEGATIVO",
          "NEGATIVO",
          "NEGATIVO",
          "NEGATIVO",
          "NEGATIVO",
          "NEGATIVO",
          "NEGATIVO",
          "NEGATIVO",
          "NEGATIVO",
          "NEGATIVO",
          "NEGATIVO",
          "NEGATIVO",
          "NEGATIVO",
          "NEGATIVO",
          "NEGATIVO",
          "NEGATIVO",
          "NEGATIVO",
          "NEGATIVO",
          "NEGATIVO",
          "NEGATIVO",
          "NEGATIVO",
          "NEGATIVO",
          "NEGATIVO",
          "NEGATIVO",
          "NEGATIVO",
          "NEGATIVO",
          "NEGATIVO",
          "NEGATIVO",
          "NEGATIVO",
          "NEGATIVO",
          "NEGATIVO",
          "NEGATIVO",
          "NEGATIVO",
          "NEGATIVO",
          "NEGATIVO",
          "NEGATIVO",
          "NEGATIVO",
          "NEGATIVO",
          "NEGATIVO",
          "NEGATIVO",
          "NEGATIVO",
          "NEGATIVO",
          "NEGATIVO",
          "NEGATIVO",
          "NEGATIVO",
          "NEGATIVO",
          "NEGATIVO",
          "NEGATIVO",
          "NEGATIVO",
          "NEGATIVO",
          "NEGATIVO",
          "NEGATIVO",
          "NEGATIVO",
          "NEGATIVO",
          "NEGATIVO",
          "NEGATIVO",
          "NEGATIVO",
          "NEGATIVO",
          "NEGATIVO",
          "NEGATIVO",
          "NEGATIVO",
          "NEGATIVO",
          "NEGATIVO",
          "NEGATIVO",
          "NEGATIVO",
          "NEGATIVO",
          "NEGATIVO",
          "NEGATIVO",
          "NEGATIVO",
          "NEGATIVO",
          "NEGATIVO",
          "NEGATIVO",
          "NEGATIVO",
          "NEGATIVO",
          "NEGATIVO",
          "NEGATIVO",
          "NEGATIVO",
          "NEGATIVO",
          "NEGATIVO",
          "NEGATIVO",
          "NEGATIVO",
          "NEGATIVO",
          "NEGATIVO",
          "NEGATIVO",
          "NEGATIVO",
          "NEGATIVO",
          "NEGATIVO",
          "NEGATIVO",
          "NEGATIVO",
          "NEGATIVO",
          "NEGATIVO",
          "NEGATIVO",
          "NEGATIVO",
          "NEGATIVO",
          "NEGATIVO",
          "NEGATIVO",
          "NEGATIVO",
          "NEGATIVO",
          "NEGATIVO",
          "NEGATIVO",
          "NEGATIVO",
          "NEGATIVO",
          "NEGATIVO",
          "NEGATIVO",
          "NEGATIVO",
          "NEGATIVO",
          "NEGATIVO",
          "NEGATIVO",
          "NEGATIVO",
          "NEGATIVO",
          "NEGATIVO",
          "NEGATIVO",
          "NEGATIVO",
          "NEGATIVO",
          "NEGATIVO",
          "NEGATIVO",
          "NEGATIVO",
          "NEGATIVO",
          "NEGATIVO",
          "NEGATIVO",
          "NEGATIVO",
          "NEGATIVO",
          "NEGATIVO",
          "NEGATIVO",
          "NEGATIVO",
          "NEGATIVO",
          "NEGATIVO",
          "NEGATIVO",
          "NEGATIVO",
          "NEGATIVO",
          "NEGATIVO",
          "NEGATIVO",
          "NEGATIVO",
          "NEGATIVO",
          "NEGATIVO",
          "NEGATIVO",
          "NEGATIVO",
          "NEGATIVO",
          "NEGATIVO",
          "NEGATIVO",
          "NEGATIVO",
          "NEGATIVO",
          "NEGATIVO",
          "NEGATIVO",
          "NEGATIVO",
          "NEGATIVO",
          "NEGATIVO",
          "NEGATIVO",
          "NEGATIVO",
          "NEGATIVO",
          "NEGATIVO",
          "NEGATIVO",
          "NEGATIVO",
          "NEGATIVO",
          "NEGATIVO",
          "NEGATIVO",
          "NEGATIVO",
          "NEGATIVO",
          "NEGATIVO",
          "NEGATIVO",
          "NEGATIVO",
          "NEGATIVO",
          "NEGATIVO",
          "NEGATIVO",
          "NEGATIVO",
          "NEGATIVO",
          "NEGATIVO",
          "NEGATIVO",
          "NEGATIVO",
          "NEGATIVO",
          "NEGATIVO",
          "NEGATIVO",
          "NEGATIVO",
          "NEGATIVO",
          "NEGATIVO",
          "NEGATIVO",
          "NEGATIVO",
          "NEGATIVO",
          "NEGATIVO",
          "NEGATIVO",
          "NEGATIVO",
          "NEGATIVO",
          "NEGATIVO",
          "NEGATIVO",
          "NEGATIVO",
          "NEGATIVO",
          "NEGATIVO",
          "NEGATIVO",
          "NEGATIVO",
          "NEGATIVO",
          "NEGATIVO",
          "NEGATIVO",
          "NEGATIVO",
          "NEGATIVO",
          "NEGATIVO",
          "NEGATIVO",
          "NEGATIVO",
          "NEGATIVO",
          "NEGATIVO",
          "NEGATIVO",
          "NEGATIVO",
          "NEGATIVO",
          "NEGATIVO",
          "NEGATIVO",
          "NEGATIVO",
          "NEGATIVO",
          "NEGATIVO",
          "NEGATIVO",
          "NEGATIVO",
          "NEGATIVO",
          "NEGATIVO",
          "NEGATIVO",
          "NEGATIVO",
          "NEGATIVO",
          "NEGATIVO",
          "NEGATIVO",
          "NEGATIVO",
          "NEGATIVO",
          "NEGATIVO",
          "NEGATIVO",
          "NEGATIVO",
          "NEGATIVO",
          "NEGATIVO",
          "NEGATIVO",
          "NEGATIVO",
          "NEGATIVO",
          "NEGATIVO",
          "NEGATIVO",
          "NEGATIVO",
          "NEGATIVO",
          "NEGATIVO",
          "NEGATIVO",
          "NEGATIVO",
          "NEGATIVO",
          "NEGATIVO",
          "NEGATIVO",
          "NEGATIVO",
          "NEGATIVO",
          "NEGATIVO",
          "NEGATIVO",
          "NEGATIVO",
          "NEGATIVO",
          "NEGATIVO",
          "NEGATIVO",
          "NEGATIVO",
          "NEGATIVO",
          "NEGATIVO",
          "NEGATIVO",
          "NEGATIVO",
          "NEGATIVO",
          "NEGATIVO",
          "NEGATIVO",
          "NEGATIVO",
          "NEGATIVO",
          "NEGATIVO",
          "NEGATIVO",
          "NEGATIVO",
          "NEGATIVO",
          "NEGATIVO",
          "NEGATIVO",
          "NEGATIVO",
          "NEGATIVO",
          "NEGATIVO",
          "NEGATIVO",
          "NEGATIVO",
          "NEGATIVO",
          "NEGATIVO",
          "NEGATIVO",
          "NEGATIVO",
          "NEGATIVO",
          "NEGATIVO",
          "NEGATIVO",
          "NEGATIVO",
          "NEGATIVO",
          "NEGATIVO",
          "NEGATIVO",
          "NEGATIVO",
          "NEGATIVO",
          "NEGATIVO",
          "NEGATIVO",
          "NEGATIVO",
          "NEGATIVO",
          "NEGATIVO",
          "NEGATIVO",
          "NEGATIVO",
          "NEGATIVO",
          "NEGATIVO",
          "NEGATIVO",
          "NEGATIVO",
          "NEGATIVO",
          "NEGATIVO",
          "NEGATIVO",
          "NEGATIVO",
          "NEGATIVO",
          "NEGATIVO",
          "NEGATIVO",
          "NEGATIVO",
          "NEGATIVO",
          "NEGATIVO",
          "NEGATIVO",
          "NEGATIVO",
          "NEGATIVO",
          "NEGATIVO",
          "NEGATIVO",
          "NEGATIVO",
          "NEGATIVO",
          "NEGATIVO",
          "NEGATIVO",
          "NEGATIVO",
          "NEGATIVO",
          "NEGATIVO",
          "NEGATIVO",
          "NEGATIVO",
          "NEGATIVO",
          "NEGATIVO",
          "NEGATIVO",
          "NEGATIVO",
          "NEGATIVO",
          "NEGATIVO",
          "NEGATIVO",
          "NEGATIVO",
          "NEGATIVO",
          "NEGATIVO",
          "NEGATIVO",
          "NEGATIVO",
          "NEGATIVO",
          "NEGATIVO",
          "NEGATIVO",
          "NEGATIVO",
          "NEGATIVO",
          "NEGATIVO",
          "NEGATIVO",
          "NEGATIVO",
          "NEGATIVO",
          "NEGATIVO",
          "NEGATIVO",
          "NEGATIVO",
          "NEGATIVO",
          "NEGATIVO",
          "NEGATIVO",
          "NEGATIVO",
          "NEGATIVO",
          "NEGATIVO",
          "NEGATIVO",
          "NEGATIVO",
          "NEGATIVO",
          "NEGATIVO",
          "NEGATIVO",
          "NEGATIVO",
          "NEGATIVO",
          "NEGATIVO",
          "NEGATIVO",
          "NEGATIVO",
          "NEGATIVO"
         ],
         "xaxis": "x",
         "y": [
          1,
          1,
          1,
          1,
          1,
          1,
          1,
          1,
          1,
          1,
          1,
          1,
          1,
          1,
          1,
          1,
          1,
          1,
          1,
          1,
          1,
          1,
          1,
          1,
          1,
          1,
          1,
          1,
          1,
          1,
          1,
          1,
          1,
          1,
          1,
          1,
          1,
          1,
          1,
          1,
          1,
          1,
          1,
          1,
          1,
          1,
          1,
          1,
          1,
          1,
          1,
          1,
          1,
          1,
          1,
          1,
          1,
          1,
          1,
          1,
          1,
          1,
          1,
          1,
          1,
          1,
          1,
          1,
          1,
          1,
          1,
          1,
          1,
          1,
          1,
          1,
          1,
          1,
          1,
          1,
          1,
          1,
          1,
          1,
          1,
          1,
          1,
          1,
          1,
          1,
          1,
          1,
          1,
          1,
          1,
          1,
          1,
          1,
          1,
          1,
          1,
          1,
          1,
          1,
          1,
          1,
          1,
          1,
          1,
          1,
          1,
          1,
          1,
          1,
          1,
          1,
          1,
          1,
          1,
          1,
          1,
          1,
          1,
          1,
          1,
          1,
          1,
          1,
          1,
          1,
          1,
          1,
          1,
          1,
          1,
          1,
          1,
          1,
          1,
          1,
          1,
          1,
          1,
          1,
          1,
          1,
          1,
          1,
          1,
          1,
          1,
          1,
          1,
          1,
          1,
          1,
          1,
          1,
          1,
          1,
          1,
          1,
          1,
          1,
          1,
          1,
          1,
          1,
          1,
          1,
          1,
          1,
          1,
          1,
          1,
          1,
          1,
          1,
          1,
          1,
          1,
          1,
          1,
          1,
          1,
          1,
          1,
          1,
          1,
          1,
          1,
          1,
          1,
          1,
          1,
          1,
          1,
          1,
          1,
          1,
          1,
          1,
          1,
          1,
          1,
          1,
          1,
          1,
          1,
          1,
          1,
          1,
          1,
          1,
          1,
          1,
          1,
          1,
          1,
          1,
          1,
          1,
          1,
          1,
          1,
          1,
          1,
          1,
          1,
          1,
          1,
          1,
          1,
          1,
          1,
          1,
          1,
          1,
          1,
          1,
          1,
          1,
          1,
          1,
          1,
          1,
          1,
          1,
          1,
          1,
          1,
          1,
          1,
          1,
          1,
          1,
          1,
          1,
          1,
          1,
          1,
          1,
          1,
          1,
          1,
          1,
          1,
          1,
          1,
          1,
          1,
          1,
          1,
          1,
          1,
          1,
          1,
          1,
          1,
          1,
          1,
          1,
          1,
          1,
          1,
          1,
          1,
          1,
          1,
          1,
          1,
          1,
          1,
          1,
          1,
          1,
          1,
          1,
          1,
          1,
          1,
          1,
          1,
          1,
          1,
          1,
          1,
          1,
          1,
          1,
          1,
          1,
          1,
          1,
          1,
          1,
          1,
          1,
          1,
          1,
          1,
          1,
          1,
          1,
          1,
          1,
          1,
          1,
          1,
          1,
          1,
          1,
          1,
          1,
          1,
          1,
          1,
          1,
          1,
          1,
          1,
          1,
          1,
          1,
          1,
          1,
          1,
          1,
          1,
          1,
          1,
          1,
          1,
          1,
          1,
          1,
          1,
          1,
          1,
          1,
          1,
          1,
          1,
          1,
          1,
          1,
          1,
          1,
          1,
          1,
          1,
          1,
          1,
          1,
          1,
          1,
          1,
          1,
          1,
          1,
          1,
          1,
          1,
          1,
          1,
          1,
          1,
          1,
          1,
          1,
          1,
          1,
          1,
          1,
          1,
          1,
          1,
          1,
          1,
          1,
          1,
          1,
          1,
          1,
          1,
          1,
          1,
          1,
          1,
          1,
          1,
          1,
          1,
          1,
          1,
          1,
          1,
          1,
          1,
          1,
          1,
          1,
          1,
          1,
          1,
          1,
          1,
          1,
          1,
          1,
          1,
          1,
          1,
          1,
          1,
          1,
          1,
          1,
          1,
          1,
          1,
          1,
          1,
          1,
          1,
          1,
          1,
          1,
          1,
          1,
          1,
          1,
          1,
          1,
          1,
          1,
          1,
          1,
          1,
          1,
          1,
          1,
          1,
          1,
          1,
          1,
          1,
          1,
          1,
          1,
          1,
          1,
          1,
          1,
          1,
          1,
          1,
          1,
          1,
          1,
          1,
          1,
          1,
          1,
          1,
          1,
          1,
          1,
          1,
          1,
          1,
          1,
          1,
          1,
          1,
          1,
          1,
          1,
          1,
          1,
          1,
          1,
          1
         ],
         "yaxis": "y"
        },
        {
         "alignmentgroup": "True",
         "hovertemplate": "color=CONTEXTO<br>x=%{x}<br>count=%{y}<extra></extra>",
         "legendgroup": "CONTEXTO",
         "marker": {
          "color": "#00cc96",
          "pattern": {
           "shape": ""
          }
         },
         "name": "CONTEXTO",
         "offsetgroup": "CONTEXTO",
         "orientation": "v",
         "showlegend": true,
         "textposition": "auto",
         "type": "bar",
         "x": [
          "CONTEXTO",
          "CONTEXTO",
          "CONTEXTO",
          "CONTEXTO",
          "CONTEXTO",
          "CONTEXTO",
          "CONTEXTO",
          "CONTEXTO",
          "CONTEXTO",
          "CONTEXTO",
          "CONTEXTO",
          "CONTEXTO",
          "CONTEXTO",
          "CONTEXTO",
          "CONTEXTO",
          "CONTEXTO",
          "CONTEXTO",
          "CONTEXTO",
          "CONTEXTO",
          "CONTEXTO",
          "CONTEXTO",
          "CONTEXTO",
          "CONTEXTO",
          "CONTEXTO",
          "CONTEXTO",
          "CONTEXTO",
          "CONTEXTO",
          "CONTEXTO",
          "CONTEXTO",
          "CONTEXTO",
          "CONTEXTO",
          "CONTEXTO",
          "CONTEXTO",
          "CONTEXTO",
          "CONTEXTO",
          "CONTEXTO",
          "CONTEXTO",
          "CONTEXTO",
          "CONTEXTO",
          "CONTEXTO",
          "CONTEXTO",
          "CONTEXTO",
          "CONTEXTO",
          "CONTEXTO",
          "CONTEXTO",
          "CONTEXTO",
          "CONTEXTO",
          "CONTEXTO",
          "CONTEXTO",
          "CONTEXTO",
          "CONTEXTO",
          "CONTEXTO",
          "CONTEXTO",
          "CONTEXTO",
          "CONTEXTO",
          "CONTEXTO",
          "CONTEXTO",
          "CONTEXTO",
          "CONTEXTO",
          "CONTEXTO",
          "CONTEXTO",
          "CONTEXTO",
          "CONTEXTO",
          "CONTEXTO",
          "CONTEXTO",
          "CONTEXTO",
          "CONTEXTO",
          "CONTEXTO",
          "CONTEXTO",
          "CONTEXTO",
          "CONTEXTO",
          "CONTEXTO",
          "CONTEXTO",
          "CONTEXTO",
          "CONTEXTO",
          "CONTEXTO",
          "CONTEXTO",
          "CONTEXTO",
          "CONTEXTO",
          "CONTEXTO",
          "CONTEXTO",
          "CONTEXTO",
          "CONTEXTO",
          "CONTEXTO",
          "CONTEXTO",
          "CONTEXTO",
          "CONTEXTO",
          "CONTEXTO",
          "CONTEXTO",
          "CONTEXTO",
          "CONTEXTO",
          "CONTEXTO",
          "CONTEXTO",
          "CONTEXTO",
          "CONTEXTO",
          "CONTEXTO",
          "CONTEXTO",
          "CONTEXTO",
          "CONTEXTO",
          "CONTEXTO",
          "CONTEXTO",
          "CONTEXTO",
          "CONTEXTO",
          "CONTEXTO",
          "CONTEXTO",
          "CONTEXTO",
          "CONTEXTO",
          "CONTEXTO",
          "CONTEXTO",
          "CONTEXTO",
          "CONTEXTO",
          "CONTEXTO",
          "CONTEXTO",
          "CONTEXTO",
          "CONTEXTO",
          "CONTEXTO",
          "CONTEXTO",
          "CONTEXTO",
          "CONTEXTO",
          "CONTEXTO",
          "CONTEXTO",
          "CONTEXTO",
          "CONTEXTO",
          "CONTEXTO",
          "CONTEXTO",
          "CONTEXTO",
          "CONTEXTO",
          "CONTEXTO",
          "CONTEXTO",
          "CONTEXTO",
          "CONTEXTO",
          "CONTEXTO",
          "CONTEXTO",
          "CONTEXTO",
          "CONTEXTO",
          "CONTEXTO",
          "CONTEXTO",
          "CONTEXTO",
          "CONTEXTO",
          "CONTEXTO",
          "CONTEXTO",
          "CONTEXTO",
          "CONTEXTO",
          "CONTEXTO",
          "CONTEXTO",
          "CONTEXTO",
          "CONTEXTO",
          "CONTEXTO",
          "CONTEXTO",
          "CONTEXTO",
          "CONTEXTO",
          "CONTEXTO",
          "CONTEXTO",
          "CONTEXTO",
          "CONTEXTO",
          "CONTEXTO",
          "CONTEXTO",
          "CONTEXTO",
          "CONTEXTO",
          "CONTEXTO",
          "CONTEXTO",
          "CONTEXTO",
          "CONTEXTO",
          "CONTEXTO",
          "CONTEXTO",
          "CONTEXTO",
          "CONTEXTO",
          "CONTEXTO",
          "CONTEXTO",
          "CONTEXTO",
          "CONTEXTO",
          "CONTEXTO",
          "CONTEXTO",
          "CONTEXTO",
          "CONTEXTO",
          "CONTEXTO",
          "CONTEXTO",
          "CONTEXTO",
          "CONTEXTO",
          "CONTEXTO",
          "CONTEXTO",
          "CONTEXTO",
          "CONTEXTO",
          "CONTEXTO",
          "CONTEXTO",
          "CONTEXTO",
          "CONTEXTO",
          "CONTEXTO",
          "CONTEXTO",
          "CONTEXTO",
          "CONTEXTO",
          "CONTEXTO",
          "CONTEXTO",
          "CONTEXTO",
          "CONTEXTO",
          "CONTEXTO",
          "CONTEXTO",
          "CONTEXTO",
          "CONTEXTO",
          "CONTEXTO",
          "CONTEXTO",
          "CONTEXTO",
          "CONTEXTO",
          "CONTEXTO",
          "CONTEXTO",
          "CONTEXTO",
          "CONTEXTO",
          "CONTEXTO",
          "CONTEXTO",
          "CONTEXTO",
          "CONTEXTO",
          "CONTEXTO",
          "CONTEXTO",
          "CONTEXTO",
          "CONTEXTO",
          "CONTEXTO",
          "CONTEXTO",
          "CONTEXTO",
          "CONTEXTO",
          "CONTEXTO",
          "CONTEXTO",
          "CONTEXTO",
          "CONTEXTO",
          "CONTEXTO",
          "CONTEXTO",
          "CONTEXTO",
          "CONTEXTO",
          "CONTEXTO",
          "CONTEXTO",
          "CONTEXTO",
          "CONTEXTO",
          "CONTEXTO",
          "CONTEXTO",
          "CONTEXTO",
          "CONTEXTO",
          "CONTEXTO",
          "CONTEXTO",
          "CONTEXTO",
          "CONTEXTO",
          "CONTEXTO",
          "CONTEXTO",
          "CONTEXTO",
          "CONTEXTO",
          "CONTEXTO",
          "CONTEXTO",
          "CONTEXTO",
          "CONTEXTO",
          "CONTEXTO",
          "CONTEXTO",
          "CONTEXTO",
          "CONTEXTO",
          "CONTEXTO",
          "CONTEXTO",
          "CONTEXTO",
          "CONTEXTO",
          "CONTEXTO",
          "CONTEXTO",
          "CONTEXTO",
          "CONTEXTO",
          "CONTEXTO",
          "CONTEXTO",
          "CONTEXTO",
          "CONTEXTO",
          "CONTEXTO",
          "CONTEXTO",
          "CONTEXTO",
          "CONTEXTO",
          "CONTEXTO",
          "CONTEXTO",
          "CONTEXTO",
          "CONTEXTO",
          "CONTEXTO",
          "CONTEXTO",
          "CONTEXTO",
          "CONTEXTO",
          "CONTEXTO",
          "CONTEXTO",
          "CONTEXTO",
          "CONTEXTO",
          "CONTEXTO",
          "CONTEXTO",
          "CONTEXTO",
          "CONTEXTO",
          "CONTEXTO",
          "CONTEXTO",
          "CONTEXTO",
          "CONTEXTO",
          "CONTEXTO",
          "CONTEXTO",
          "CONTEXTO",
          "CONTEXTO",
          "CONTEXTO",
          "CONTEXTO",
          "CONTEXTO",
          "CONTEXTO",
          "CONTEXTO",
          "CONTEXTO",
          "CONTEXTO",
          "CONTEXTO",
          "CONTEXTO",
          "CONTEXTO",
          "CONTEXTO",
          "CONTEXTO",
          "CONTEXTO",
          "CONTEXTO",
          "CONTEXTO",
          "CONTEXTO",
          "CONTEXTO",
          "CONTEXTO",
          "CONTEXTO"
         ],
         "xaxis": "x",
         "y": [
          1,
          1,
          1,
          1,
          1,
          1,
          1,
          1,
          1,
          1,
          1,
          1,
          1,
          1,
          1,
          1,
          1,
          1,
          1,
          1,
          1,
          1,
          1,
          1,
          1,
          1,
          1,
          1,
          1,
          1,
          1,
          1,
          1,
          1,
          1,
          1,
          1,
          1,
          1,
          1,
          1,
          1,
          1,
          1,
          1,
          1,
          1,
          1,
          1,
          1,
          1,
          1,
          1,
          1,
          1,
          1,
          1,
          1,
          1,
          1,
          1,
          1,
          1,
          1,
          1,
          1,
          1,
          1,
          1,
          1,
          1,
          1,
          1,
          1,
          1,
          1,
          1,
          1,
          1,
          1,
          1,
          1,
          1,
          1,
          1,
          1,
          1,
          1,
          1,
          1,
          1,
          1,
          1,
          1,
          1,
          1,
          1,
          1,
          1,
          1,
          1,
          1,
          1,
          1,
          1,
          1,
          1,
          1,
          1,
          1,
          1,
          1,
          1,
          1,
          1,
          1,
          1,
          1,
          1,
          1,
          1,
          1,
          1,
          1,
          1,
          1,
          1,
          1,
          1,
          1,
          1,
          1,
          1,
          1,
          1,
          1,
          1,
          1,
          1,
          1,
          1,
          1,
          1,
          1,
          1,
          1,
          1,
          1,
          1,
          1,
          1,
          1,
          1,
          1,
          1,
          1,
          1,
          1,
          1,
          1,
          1,
          1,
          1,
          1,
          1,
          1,
          1,
          1,
          1,
          1,
          1,
          1,
          1,
          1,
          1,
          1,
          1,
          1,
          1,
          1,
          1,
          1,
          1,
          1,
          1,
          1,
          1,
          1,
          1,
          1,
          1,
          1,
          1,
          1,
          1,
          1,
          1,
          1,
          1,
          1,
          1,
          1,
          1,
          1,
          1,
          1,
          1,
          1,
          1,
          1,
          1,
          1,
          1,
          1,
          1,
          1,
          1,
          1,
          1,
          1,
          1,
          1,
          1,
          1,
          1,
          1,
          1,
          1,
          1,
          1,
          1,
          1,
          1,
          1,
          1,
          1,
          1,
          1,
          1,
          1,
          1,
          1,
          1,
          1,
          1,
          1,
          1,
          1,
          1,
          1,
          1,
          1,
          1,
          1,
          1,
          1,
          1,
          1,
          1,
          1,
          1,
          1,
          1,
          1,
          1,
          1,
          1,
          1,
          1,
          1,
          1,
          1,
          1,
          1,
          1,
          1,
          1,
          1,
          1,
          1,
          1,
          1,
          1,
          1,
          1,
          1,
          1,
          1,
          1,
          1,
          1,
          1,
          1,
          1,
          1,
          1,
          1,
          1,
          1,
          1,
          1,
          1,
          1,
          1,
          1,
          1,
          1,
          1,
          1,
          1
         ],
         "yaxis": "y"
        },
        {
         "alignmentgroup": "True",
         "hovertemplate": "color=POSITIVO<br>x=%{x}<br>count=%{y}<extra></extra>",
         "legendgroup": "POSITIVO",
         "marker": {
          "color": "#ab63fa",
          "pattern": {
           "shape": ""
          }
         },
         "name": "POSITIVO",
         "offsetgroup": "POSITIVO",
         "orientation": "v",
         "showlegend": true,
         "textposition": "auto",
         "type": "bar",
         "x": [
          "POSITIVO",
          "POSITIVO",
          "POSITIVO",
          "POSITIVO",
          "POSITIVO",
          "POSITIVO",
          "POSITIVO",
          "POSITIVO",
          "POSITIVO",
          "POSITIVO",
          "POSITIVO",
          "POSITIVO",
          "POSITIVO",
          "POSITIVO",
          "POSITIVO",
          "POSITIVO",
          "POSITIVO",
          "POSITIVO",
          "POSITIVO",
          "POSITIVO",
          "POSITIVO",
          "POSITIVO",
          "POSITIVO",
          "POSITIVO",
          "POSITIVO",
          "POSITIVO",
          "POSITIVO",
          "POSITIVO",
          "POSITIVO",
          "POSITIVO",
          "POSITIVO",
          "POSITIVO",
          "POSITIVO",
          "POSITIVO",
          "POSITIVO",
          "POSITIVO",
          "POSITIVO",
          "POSITIVO",
          "POSITIVO",
          "POSITIVO",
          "POSITIVO",
          "POSITIVO",
          "POSITIVO",
          "POSITIVO",
          "POSITIVO",
          "POSITIVO",
          "POSITIVO",
          "POSITIVO",
          "POSITIVO",
          "POSITIVO",
          "POSITIVO",
          "POSITIVO",
          "POSITIVO",
          "POSITIVO",
          "POSITIVO",
          "POSITIVO",
          "POSITIVO",
          "POSITIVO",
          "POSITIVO",
          "POSITIVO",
          "POSITIVO",
          "POSITIVO",
          "POSITIVO",
          "POSITIVO",
          "POSITIVO",
          "POSITIVO",
          "POSITIVO",
          "POSITIVO",
          "POSITIVO",
          "POSITIVO",
          "POSITIVO",
          "POSITIVO",
          "POSITIVO",
          "POSITIVO",
          "POSITIVO",
          "POSITIVO",
          "POSITIVO",
          "POSITIVO",
          "POSITIVO",
          "POSITIVO",
          "POSITIVO",
          "POSITIVO",
          "POSITIVO",
          "POSITIVO",
          "POSITIVO",
          "POSITIVO",
          "POSITIVO",
          "POSITIVO",
          "POSITIVO",
          "POSITIVO",
          "POSITIVO",
          "POSITIVO",
          "POSITIVO",
          "POSITIVO",
          "POSITIVO",
          "POSITIVO",
          "POSITIVO",
          "POSITIVO",
          "POSITIVO",
          "POSITIVO",
          "POSITIVO",
          "POSITIVO",
          "POSITIVO",
          "POSITIVO",
          "POSITIVO",
          "POSITIVO",
          "POSITIVO",
          "POSITIVO",
          "POSITIVO",
          "POSITIVO",
          "POSITIVO",
          "POSITIVO",
          "POSITIVO",
          "POSITIVO",
          "POSITIVO",
          "POSITIVO",
          "POSITIVO",
          "POSITIVO",
          "POSITIVO",
          "POSITIVO",
          "POSITIVO",
          "POSITIVO",
          "POSITIVO",
          "POSITIVO",
          "POSITIVO",
          "POSITIVO",
          "POSITIVO",
          "POSITIVO",
          "POSITIVO",
          "POSITIVO",
          "POSITIVO",
          "POSITIVO",
          "POSITIVO",
          "POSITIVO",
          "POSITIVO",
          "POSITIVO",
          "POSITIVO",
          "POSITIVO",
          "POSITIVO",
          "POSITIVO",
          "POSITIVO",
          "POSITIVO",
          "POSITIVO",
          "POSITIVO",
          "POSITIVO",
          "POSITIVO",
          "POSITIVO",
          "POSITIVO",
          "POSITIVO",
          "POSITIVO",
          "POSITIVO",
          "POSITIVO",
          "POSITIVO",
          "POSITIVO",
          "POSITIVO",
          "POSITIVO",
          "POSITIVO",
          "POSITIVO",
          "POSITIVO",
          "POSITIVO",
          "POSITIVO",
          "POSITIVO",
          "POSITIVO",
          "POSITIVO",
          "POSITIVO",
          "POSITIVO",
          "POSITIVO",
          "POSITIVO",
          "POSITIVO",
          "POSITIVO",
          "POSITIVO",
          "POSITIVO",
          "POSITIVO",
          "POSITIVO",
          "POSITIVO",
          "POSITIVO",
          "POSITIVO",
          "POSITIVO",
          "POSITIVO",
          "POSITIVO",
          "POSITIVO",
          "POSITIVO",
          "POSITIVO",
          "POSITIVO",
          "POSITIVO",
          "POSITIVO",
          "POSITIVO",
          "POSITIVO",
          "POSITIVO",
          "POSITIVO",
          "POSITIVO",
          "POSITIVO",
          "POSITIVO",
          "POSITIVO",
          "POSITIVO",
          "POSITIVO",
          "POSITIVO",
          "POSITIVO",
          "POSITIVO",
          "POSITIVO",
          "POSITIVO",
          "POSITIVO",
          "POSITIVO",
          "POSITIVO",
          "POSITIVO",
          "POSITIVO",
          "POSITIVO",
          "POSITIVO",
          "POSITIVO",
          "POSITIVO",
          "POSITIVO",
          "POSITIVO",
          "POSITIVO",
          "POSITIVO",
          "POSITIVO",
          "POSITIVO",
          "POSITIVO",
          "POSITIVO",
          "POSITIVO",
          "POSITIVO",
          "POSITIVO",
          "POSITIVO",
          "POSITIVO",
          "POSITIVO",
          "POSITIVO",
          "POSITIVO",
          "POSITIVO",
          "POSITIVO",
          "POSITIVO",
          "POSITIVO",
          "POSITIVO",
          "POSITIVO",
          "POSITIVO",
          "POSITIVO",
          "POSITIVO",
          "POSITIVO",
          "POSITIVO",
          "POSITIVO",
          "POSITIVO",
          "POSITIVO",
          "POSITIVO",
          "POSITIVO",
          "POSITIVO",
          "POSITIVO",
          "POSITIVO",
          "POSITIVO",
          "POSITIVO",
          "POSITIVO",
          "POSITIVO",
          "POSITIVO",
          "POSITIVO",
          "POSITIVO",
          "POSITIVO",
          "POSITIVO",
          "POSITIVO",
          "POSITIVO",
          "POSITIVO",
          "POSITIVO",
          "POSITIVO",
          "POSITIVO",
          "POSITIVO",
          "POSITIVO",
          "POSITIVO",
          "POSITIVO",
          "POSITIVO",
          "POSITIVO",
          "POSITIVO",
          "POSITIVO",
          "POSITIVO",
          "POSITIVO",
          "POSITIVO",
          "POSITIVO",
          "POSITIVO",
          "POSITIVO",
          "POSITIVO",
          "POSITIVO",
          "POSITIVO",
          "POSITIVO",
          "POSITIVO",
          "POSITIVO",
          "POSITIVO",
          "POSITIVO",
          "POSITIVO",
          "POSITIVO",
          "POSITIVO",
          "POSITIVO",
          "POSITIVO",
          "POSITIVO",
          "POSITIVO",
          "POSITIVO",
          "POSITIVO",
          "POSITIVO",
          "POSITIVO",
          "POSITIVO",
          "POSITIVO",
          "POSITIVO",
          "POSITIVO",
          "POSITIVO",
          "POSITIVO",
          "POSITIVO",
          "POSITIVO",
          "POSITIVO",
          "POSITIVO",
          "POSITIVO",
          "POSITIVO",
          "POSITIVO",
          "POSITIVO",
          "POSITIVO",
          "POSITIVO",
          "POSITIVO",
          "POSITIVO",
          "POSITIVO",
          "POSITIVO",
          "POSITIVO",
          "POSITIVO",
          "POSITIVO",
          "POSITIVO",
          "POSITIVO",
          "POSITIVO",
          "POSITIVO",
          "POSITIVO",
          "POSITIVO",
          "POSITIVO",
          "POSITIVO",
          "POSITIVO",
          "POSITIVO",
          "POSITIVO",
          "POSITIVO",
          "POSITIVO",
          "POSITIVO",
          "POSITIVO",
          "POSITIVO",
          "POSITIVO",
          "POSITIVO",
          "POSITIVO",
          "POSITIVO",
          "POSITIVO",
          "POSITIVO",
          "POSITIVO",
          "POSITIVO",
          "POSITIVO",
          "POSITIVO",
          "POSITIVO",
          "POSITIVO",
          "POSITIVO",
          "POSITIVO",
          "POSITIVO",
          "POSITIVO",
          "POSITIVO",
          "POSITIVO",
          "POSITIVO",
          "POSITIVO",
          "POSITIVO",
          "POSITIVO",
          "POSITIVO",
          "POSITIVO",
          "POSITIVO",
          "POSITIVO",
          "POSITIVO",
          "POSITIVO",
          "POSITIVO",
          "POSITIVO",
          "POSITIVO",
          "POSITIVO",
          "POSITIVO",
          "POSITIVO",
          "POSITIVO",
          "POSITIVO",
          "POSITIVO",
          "POSITIVO",
          "POSITIVO",
          "POSITIVO",
          "POSITIVO",
          "POSITIVO",
          "POSITIVO",
          "POSITIVO",
          "POSITIVO",
          "POSITIVO"
         ],
         "xaxis": "x",
         "y": [
          1,
          1,
          1,
          1,
          1,
          1,
          1,
          1,
          1,
          1,
          1,
          1,
          1,
          1,
          1,
          1,
          1,
          1,
          1,
          1,
          1,
          1,
          1,
          1,
          1,
          1,
          1,
          1,
          1,
          1,
          1,
          1,
          1,
          1,
          1,
          1,
          1,
          1,
          1,
          1,
          1,
          1,
          1,
          1,
          1,
          1,
          1,
          1,
          1,
          1,
          1,
          1,
          1,
          1,
          1,
          1,
          1,
          1,
          1,
          1,
          1,
          1,
          1,
          1,
          1,
          1,
          1,
          1,
          1,
          1,
          1,
          1,
          1,
          1,
          1,
          1,
          1,
          1,
          1,
          1,
          1,
          1,
          1,
          1,
          1,
          1,
          1,
          1,
          1,
          1,
          1,
          1,
          1,
          1,
          1,
          1,
          1,
          1,
          1,
          1,
          1,
          1,
          1,
          1,
          1,
          1,
          1,
          1,
          1,
          1,
          1,
          1,
          1,
          1,
          1,
          1,
          1,
          1,
          1,
          1,
          1,
          1,
          1,
          1,
          1,
          1,
          1,
          1,
          1,
          1,
          1,
          1,
          1,
          1,
          1,
          1,
          1,
          1,
          1,
          1,
          1,
          1,
          1,
          1,
          1,
          1,
          1,
          1,
          1,
          1,
          1,
          1,
          1,
          1,
          1,
          1,
          1,
          1,
          1,
          1,
          1,
          1,
          1,
          1,
          1,
          1,
          1,
          1,
          1,
          1,
          1,
          1,
          1,
          1,
          1,
          1,
          1,
          1,
          1,
          1,
          1,
          1,
          1,
          1,
          1,
          1,
          1,
          1,
          1,
          1,
          1,
          1,
          1,
          1,
          1,
          1,
          1,
          1,
          1,
          1,
          1,
          1,
          1,
          1,
          1,
          1,
          1,
          1,
          1,
          1,
          1,
          1,
          1,
          1,
          1,
          1,
          1,
          1,
          1,
          1,
          1,
          1,
          1,
          1,
          1,
          1,
          1,
          1,
          1,
          1,
          1,
          1,
          1,
          1,
          1,
          1,
          1,
          1,
          1,
          1,
          1,
          1,
          1,
          1,
          1,
          1,
          1,
          1,
          1,
          1,
          1,
          1,
          1,
          1,
          1,
          1,
          1,
          1,
          1,
          1,
          1,
          1,
          1,
          1,
          1,
          1,
          1,
          1,
          1,
          1,
          1,
          1,
          1,
          1,
          1,
          1,
          1,
          1,
          1,
          1,
          1,
          1,
          1,
          1,
          1,
          1,
          1,
          1,
          1,
          1,
          1,
          1,
          1,
          1,
          1,
          1,
          1,
          1,
          1,
          1,
          1,
          1,
          1,
          1,
          1,
          1,
          1,
          1,
          1,
          1,
          1,
          1,
          1,
          1,
          1,
          1,
          1,
          1,
          1,
          1,
          1,
          1,
          1,
          1,
          1,
          1,
          1,
          1,
          1,
          1,
          1,
          1,
          1,
          1,
          1,
          1,
          1,
          1,
          1,
          1,
          1,
          1,
          1,
          1,
          1,
          1,
          1,
          1,
          1,
          1,
          1,
          1,
          1,
          1,
          1,
          1,
          1,
          1,
          1,
          1,
          1,
          1,
          1,
          1,
          1,
          1,
          1,
          1,
          1,
          1,
          1,
          1,
          1,
          1,
          1,
          1,
          1,
          1
         ],
         "yaxis": "y"
        },
        {
         "alignmentgroup": "True",
         "hovertemplate": "color=NEUTRO<br>x=%{x}<br>count=%{y}<extra></extra>",
         "legendgroup": "NEUTRO",
         "marker": {
          "color": "#FFA15A",
          "pattern": {
           "shape": ""
          }
         },
         "name": "NEUTRO",
         "offsetgroup": "NEUTRO",
         "orientation": "v",
         "showlegend": true,
         "textposition": "auto",
         "type": "bar",
         "x": [
          "NEUTRO",
          "NEUTRO",
          "NEUTRO",
          "NEUTRO",
          "NEUTRO",
          "NEUTRO",
          "NEUTRO",
          "NEUTRO",
          "NEUTRO",
          "NEUTRO",
          "NEUTRO",
          "NEUTRO",
          "NEUTRO",
          "NEUTRO",
          "NEUTRO",
          "NEUTRO",
          "NEUTRO",
          "NEUTRO",
          "NEUTRO",
          "NEUTRO",
          "NEUTRO",
          "NEUTRO",
          "NEUTRO",
          "NEUTRO",
          "NEUTRO",
          "NEUTRO",
          "NEUTRO",
          "NEUTRO",
          "NEUTRO",
          "NEUTRO",
          "NEUTRO",
          "NEUTRO",
          "NEUTRO",
          "NEUTRO",
          "NEUTRO",
          "NEUTRO",
          "NEUTRO",
          "NEUTRO",
          "NEUTRO",
          "NEUTRO",
          "NEUTRO",
          "NEUTRO",
          "NEUTRO",
          "NEUTRO",
          "NEUTRO",
          "NEUTRO",
          "NEUTRO",
          "NEUTRO",
          "NEUTRO",
          "NEUTRO",
          "NEUTRO",
          "NEUTRO",
          "NEUTRO",
          "NEUTRO",
          "NEUTRO",
          "NEUTRO",
          "NEUTRO",
          "NEUTRO",
          "NEUTRO",
          "NEUTRO",
          "NEUTRO",
          "NEUTRO",
          "NEUTRO",
          "NEUTRO",
          "NEUTRO",
          "NEUTRO",
          "NEUTRO",
          "NEUTRO",
          "NEUTRO",
          "NEUTRO",
          "NEUTRO",
          "NEUTRO",
          "NEUTRO",
          "NEUTRO",
          "NEUTRO",
          "NEUTRO",
          "NEUTRO",
          "NEUTRO",
          "NEUTRO",
          "NEUTRO",
          "NEUTRO",
          "NEUTRO",
          "NEUTRO",
          "NEUTRO",
          "NEUTRO",
          "NEUTRO",
          "NEUTRO",
          "NEUTRO",
          "NEUTRO",
          "NEUTRO",
          "NEUTRO",
          "NEUTRO",
          "NEUTRO",
          "NEUTRO",
          "NEUTRO",
          "NEUTRO",
          "NEUTRO",
          "NEUTRO",
          "NEUTRO",
          "NEUTRO",
          "NEUTRO",
          "NEUTRO",
          "NEUTRO",
          "NEUTRO",
          "NEUTRO",
          "NEUTRO",
          "NEUTRO",
          "NEUTRO",
          "NEUTRO",
          "NEUTRO",
          "NEUTRO",
          "NEUTRO",
          "NEUTRO",
          "NEUTRO",
          "NEUTRO",
          "NEUTRO",
          "NEUTRO",
          "NEUTRO",
          "NEUTRO",
          "NEUTRO",
          "NEUTRO",
          "NEUTRO",
          "NEUTRO",
          "NEUTRO",
          "NEUTRO",
          "NEUTRO",
          "NEUTRO",
          "NEUTRO",
          "NEUTRO",
          "NEUTRO",
          "NEUTRO",
          "NEUTRO",
          "NEUTRO",
          "NEUTRO",
          "NEUTRO",
          "NEUTRO",
          "NEUTRO",
          "NEUTRO",
          "NEUTRO",
          "NEUTRO",
          "NEUTRO",
          "NEUTRO",
          "NEUTRO",
          "NEUTRO",
          "NEUTRO",
          "NEUTRO",
          "NEUTRO",
          "NEUTRO",
          "NEUTRO",
          "NEUTRO",
          "NEUTRO",
          "NEUTRO",
          "NEUTRO",
          "NEUTRO",
          "NEUTRO",
          "NEUTRO",
          "NEUTRO",
          "NEUTRO",
          "NEUTRO",
          "NEUTRO",
          "NEUTRO",
          "NEUTRO",
          "NEUTRO",
          "NEUTRO",
          "NEUTRO",
          "NEUTRO",
          "NEUTRO",
          "NEUTRO",
          "NEUTRO",
          "NEUTRO",
          "NEUTRO",
          "NEUTRO",
          "NEUTRO",
          "NEUTRO",
          "NEUTRO",
          "NEUTRO",
          "NEUTRO",
          "NEUTRO",
          "NEUTRO",
          "NEUTRO",
          "NEUTRO",
          "NEUTRO",
          "NEUTRO",
          "NEUTRO",
          "NEUTRO",
          "NEUTRO",
          "NEUTRO",
          "NEUTRO"
         ],
         "xaxis": "x",
         "y": [
          1,
          1,
          1,
          1,
          1,
          1,
          1,
          1,
          1,
          1,
          1,
          1,
          1,
          1,
          1,
          1,
          1,
          1,
          1,
          1,
          1,
          1,
          1,
          1,
          1,
          1,
          1,
          1,
          1,
          1,
          1,
          1,
          1,
          1,
          1,
          1,
          1,
          1,
          1,
          1,
          1,
          1,
          1,
          1,
          1,
          1,
          1,
          1,
          1,
          1,
          1,
          1,
          1,
          1,
          1,
          1,
          1,
          1,
          1,
          1,
          1,
          1,
          1,
          1,
          1,
          1,
          1,
          1,
          1,
          1,
          1,
          1,
          1,
          1,
          1,
          1,
          1,
          1,
          1,
          1,
          1,
          1,
          1,
          1,
          1,
          1,
          1,
          1,
          1,
          1,
          1,
          1,
          1,
          1,
          1,
          1,
          1,
          1,
          1,
          1,
          1,
          1,
          1,
          1,
          1,
          1,
          1,
          1,
          1,
          1,
          1,
          1,
          1,
          1,
          1,
          1,
          1,
          1,
          1,
          1,
          1,
          1,
          1,
          1,
          1,
          1,
          1,
          1,
          1,
          1,
          1,
          1,
          1,
          1,
          1,
          1,
          1,
          1,
          1,
          1,
          1,
          1,
          1,
          1,
          1,
          1,
          1,
          1,
          1,
          1,
          1,
          1,
          1,
          1,
          1,
          1,
          1,
          1,
          1,
          1,
          1,
          1,
          1,
          1,
          1,
          1,
          1,
          1,
          1,
          1,
          1,
          1,
          1,
          1,
          1,
          1,
          1,
          1,
          1,
          1,
          1,
          1,
          1,
          1,
          1,
          1,
          1,
          1
         ],
         "yaxis": "y"
        },
        {
         "alignmentgroup": "True",
         "hovertemplate": "color=CONFUSO<br>x=%{x}<br>count=%{y}<extra></extra>",
         "legendgroup": "CONFUSO",
         "marker": {
          "color": "#19d3f3",
          "pattern": {
           "shape": ""
          }
         },
         "name": "CONFUSO",
         "offsetgroup": "CONFUSO",
         "orientation": "v",
         "showlegend": true,
         "textposition": "auto",
         "type": "bar",
         "x": [
          "CONFUSO",
          "CONFUSO",
          "CONFUSO",
          "CONFUSO",
          "CONFUSO",
          "CONFUSO",
          "CONFUSO",
          "CONFUSO",
          "CONFUSO",
          "CONFUSO"
         ],
         "xaxis": "x",
         "y": [
          1,
          1,
          1,
          1,
          1,
          1,
          1,
          1,
          1,
          1
         ],
         "yaxis": "y"
        },
        {
         "alignmentgroup": "True",
         "hovertemplate": "color=DIVIDIR<br>x=%{x}<br>count=%{y}<extra></extra>",
         "legendgroup": "DIVIDIR",
         "marker": {
          "color": "#FF6692",
          "pattern": {
           "shape": ""
          }
         },
         "name": "DIVIDIR",
         "offsetgroup": "DIVIDIR",
         "orientation": "v",
         "showlegend": true,
         "textposition": "auto",
         "type": "bar",
         "x": [
          "DIVIDIR",
          "DIVIDIR",
          "DIVIDIR",
          "DIVIDIR",
          "DIVIDIR",
          "DIVIDIR",
          "DIVIDIR",
          "DIVIDIR",
          "DIVIDIR",
          "DIVIDIR",
          "DIVIDIR",
          "DIVIDIR",
          "DIVIDIR",
          "DIVIDIR",
          "DIVIDIR",
          "DIVIDIR",
          "DIVIDIR",
          "DIVIDIR",
          "DIVIDIR",
          "DIVIDIR",
          "DIVIDIR",
          "DIVIDIR",
          "DIVIDIR",
          "DIVIDIR",
          "DIVIDIR",
          "DIVIDIR",
          "DIVIDIR",
          "DIVIDIR",
          "DIVIDIR",
          "DIVIDIR",
          "DIVIDIR",
          "DIVIDIR",
          "DIVIDIR",
          "DIVIDIR",
          "DIVIDIR",
          "DIVIDIR",
          "DIVIDIR",
          "DIVIDIR",
          "DIVIDIR",
          "DIVIDIR",
          "DIVIDIR",
          "DIVIDIR",
          "DIVIDIR",
          "DIVIDIR",
          "DIVIDIR",
          "DIVIDIR",
          "DIVIDIR",
          "DIVIDIR",
          "DIVIDIR",
          "DIVIDIR",
          "DIVIDIR",
          "DIVIDIR",
          "DIVIDIR",
          "DIVIDIR"
         ],
         "xaxis": "x",
         "y": [
          1,
          1,
          1,
          1,
          1,
          1,
          1,
          1,
          1,
          1,
          1,
          1,
          1,
          1,
          1,
          1,
          1,
          1,
          1,
          1,
          1,
          1,
          1,
          1,
          1,
          1,
          1,
          1,
          1,
          1,
          1,
          1,
          1,
          1,
          1,
          1,
          1,
          1,
          1,
          1,
          1,
          1,
          1,
          1,
          1,
          1,
          1,
          1,
          1,
          1,
          1,
          1,
          1,
          1
         ],
         "yaxis": "y"
        }
       ],
       "layout": {
        "barmode": "relative",
        "legend": {
         "title": {
          "text": "color"
         },
         "tracegroupgap": 0
        },
        "margin": {
         "t": 60
        },
        "template": {
         "data": {
          "bar": [
           {
            "error_x": {
             "color": "#2a3f5f"
            },
            "error_y": {
             "color": "#2a3f5f"
            },
            "marker": {
             "line": {
              "color": "#E5ECF6",
              "width": 0.5
             },
             "pattern": {
              "fillmode": "overlay",
              "size": 10,
              "solidity": 0.2
             }
            },
            "type": "bar"
           }
          ],
          "barpolar": [
           {
            "marker": {
             "line": {
              "color": "#E5ECF6",
              "width": 0.5
             },
             "pattern": {
              "fillmode": "overlay",
              "size": 10,
              "solidity": 0.2
             }
            },
            "type": "barpolar"
           }
          ],
          "carpet": [
           {
            "aaxis": {
             "endlinecolor": "#2a3f5f",
             "gridcolor": "white",
             "linecolor": "white",
             "minorgridcolor": "white",
             "startlinecolor": "#2a3f5f"
            },
            "baxis": {
             "endlinecolor": "#2a3f5f",
             "gridcolor": "white",
             "linecolor": "white",
             "minorgridcolor": "white",
             "startlinecolor": "#2a3f5f"
            },
            "type": "carpet"
           }
          ],
          "choropleth": [
           {
            "colorbar": {
             "outlinewidth": 0,
             "ticks": ""
            },
            "type": "choropleth"
           }
          ],
          "contour": [
           {
            "colorbar": {
             "outlinewidth": 0,
             "ticks": ""
            },
            "colorscale": [
             [
              0,
              "#0d0887"
             ],
             [
              0.1111111111111111,
              "#46039f"
             ],
             [
              0.2222222222222222,
              "#7201a8"
             ],
             [
              0.3333333333333333,
              "#9c179e"
             ],
             [
              0.4444444444444444,
              "#bd3786"
             ],
             [
              0.5555555555555556,
              "#d8576b"
             ],
             [
              0.6666666666666666,
              "#ed7953"
             ],
             [
              0.7777777777777778,
              "#fb9f3a"
             ],
             [
              0.8888888888888888,
              "#fdca26"
             ],
             [
              1,
              "#f0f921"
             ]
            ],
            "type": "contour"
           }
          ],
          "contourcarpet": [
           {
            "colorbar": {
             "outlinewidth": 0,
             "ticks": ""
            },
            "type": "contourcarpet"
           }
          ],
          "heatmap": [
           {
            "colorbar": {
             "outlinewidth": 0,
             "ticks": ""
            },
            "colorscale": [
             [
              0,
              "#0d0887"
             ],
             [
              0.1111111111111111,
              "#46039f"
             ],
             [
              0.2222222222222222,
              "#7201a8"
             ],
             [
              0.3333333333333333,
              "#9c179e"
             ],
             [
              0.4444444444444444,
              "#bd3786"
             ],
             [
              0.5555555555555556,
              "#d8576b"
             ],
             [
              0.6666666666666666,
              "#ed7953"
             ],
             [
              0.7777777777777778,
              "#fb9f3a"
             ],
             [
              0.8888888888888888,
              "#fdca26"
             ],
             [
              1,
              "#f0f921"
             ]
            ],
            "type": "heatmap"
           }
          ],
          "heatmapgl": [
           {
            "colorbar": {
             "outlinewidth": 0,
             "ticks": ""
            },
            "colorscale": [
             [
              0,
              "#0d0887"
             ],
             [
              0.1111111111111111,
              "#46039f"
             ],
             [
              0.2222222222222222,
              "#7201a8"
             ],
             [
              0.3333333333333333,
              "#9c179e"
             ],
             [
              0.4444444444444444,
              "#bd3786"
             ],
             [
              0.5555555555555556,
              "#d8576b"
             ],
             [
              0.6666666666666666,
              "#ed7953"
             ],
             [
              0.7777777777777778,
              "#fb9f3a"
             ],
             [
              0.8888888888888888,
              "#fdca26"
             ],
             [
              1,
              "#f0f921"
             ]
            ],
            "type": "heatmapgl"
           }
          ],
          "histogram": [
           {
            "marker": {
             "pattern": {
              "fillmode": "overlay",
              "size": 10,
              "solidity": 0.2
             }
            },
            "type": "histogram"
           }
          ],
          "histogram2d": [
           {
            "colorbar": {
             "outlinewidth": 0,
             "ticks": ""
            },
            "colorscale": [
             [
              0,
              "#0d0887"
             ],
             [
              0.1111111111111111,
              "#46039f"
             ],
             [
              0.2222222222222222,
              "#7201a8"
             ],
             [
              0.3333333333333333,
              "#9c179e"
             ],
             [
              0.4444444444444444,
              "#bd3786"
             ],
             [
              0.5555555555555556,
              "#d8576b"
             ],
             [
              0.6666666666666666,
              "#ed7953"
             ],
             [
              0.7777777777777778,
              "#fb9f3a"
             ],
             [
              0.8888888888888888,
              "#fdca26"
             ],
             [
              1,
              "#f0f921"
             ]
            ],
            "type": "histogram2d"
           }
          ],
          "histogram2dcontour": [
           {
            "colorbar": {
             "outlinewidth": 0,
             "ticks": ""
            },
            "colorscale": [
             [
              0,
              "#0d0887"
             ],
             [
              0.1111111111111111,
              "#46039f"
             ],
             [
              0.2222222222222222,
              "#7201a8"
             ],
             [
              0.3333333333333333,
              "#9c179e"
             ],
             [
              0.4444444444444444,
              "#bd3786"
             ],
             [
              0.5555555555555556,
              "#d8576b"
             ],
             [
              0.6666666666666666,
              "#ed7953"
             ],
             [
              0.7777777777777778,
              "#fb9f3a"
             ],
             [
              0.8888888888888888,
              "#fdca26"
             ],
             [
              1,
              "#f0f921"
             ]
            ],
            "type": "histogram2dcontour"
           }
          ],
          "mesh3d": [
           {
            "colorbar": {
             "outlinewidth": 0,
             "ticks": ""
            },
            "type": "mesh3d"
           }
          ],
          "parcoords": [
           {
            "line": {
             "colorbar": {
              "outlinewidth": 0,
              "ticks": ""
             }
            },
            "type": "parcoords"
           }
          ],
          "pie": [
           {
            "automargin": true,
            "type": "pie"
           }
          ],
          "scatter": [
           {
            "fillpattern": {
             "fillmode": "overlay",
             "size": 10,
             "solidity": 0.2
            },
            "type": "scatter"
           }
          ],
          "scatter3d": [
           {
            "line": {
             "colorbar": {
              "outlinewidth": 0,
              "ticks": ""
             }
            },
            "marker": {
             "colorbar": {
              "outlinewidth": 0,
              "ticks": ""
             }
            },
            "type": "scatter3d"
           }
          ],
          "scattercarpet": [
           {
            "marker": {
             "colorbar": {
              "outlinewidth": 0,
              "ticks": ""
             }
            },
            "type": "scattercarpet"
           }
          ],
          "scattergeo": [
           {
            "marker": {
             "colorbar": {
              "outlinewidth": 0,
              "ticks": ""
             }
            },
            "type": "scattergeo"
           }
          ],
          "scattergl": [
           {
            "marker": {
             "colorbar": {
              "outlinewidth": 0,
              "ticks": ""
             }
            },
            "type": "scattergl"
           }
          ],
          "scattermapbox": [
           {
            "marker": {
             "colorbar": {
              "outlinewidth": 0,
              "ticks": ""
             }
            },
            "type": "scattermapbox"
           }
          ],
          "scatterpolar": [
           {
            "marker": {
             "colorbar": {
              "outlinewidth": 0,
              "ticks": ""
             }
            },
            "type": "scatterpolar"
           }
          ],
          "scatterpolargl": [
           {
            "marker": {
             "colorbar": {
              "outlinewidth": 0,
              "ticks": ""
             }
            },
            "type": "scatterpolargl"
           }
          ],
          "scatterternary": [
           {
            "marker": {
             "colorbar": {
              "outlinewidth": 0,
              "ticks": ""
             }
            },
            "type": "scatterternary"
           }
          ],
          "surface": [
           {
            "colorbar": {
             "outlinewidth": 0,
             "ticks": ""
            },
            "colorscale": [
             [
              0,
              "#0d0887"
             ],
             [
              0.1111111111111111,
              "#46039f"
             ],
             [
              0.2222222222222222,
              "#7201a8"
             ],
             [
              0.3333333333333333,
              "#9c179e"
             ],
             [
              0.4444444444444444,
              "#bd3786"
             ],
             [
              0.5555555555555556,
              "#d8576b"
             ],
             [
              0.6666666666666666,
              "#ed7953"
             ],
             [
              0.7777777777777778,
              "#fb9f3a"
             ],
             [
              0.8888888888888888,
              "#fdca26"
             ],
             [
              1,
              "#f0f921"
             ]
            ],
            "type": "surface"
           }
          ],
          "table": [
           {
            "cells": {
             "fill": {
              "color": "#EBF0F8"
             },
             "line": {
              "color": "white"
             }
            },
            "header": {
             "fill": {
              "color": "#C8D4E3"
             },
             "line": {
              "color": "white"
             }
            },
            "type": "table"
           }
          ]
         },
         "layout": {
          "annotationdefaults": {
           "arrowcolor": "#2a3f5f",
           "arrowhead": 0,
           "arrowwidth": 1
          },
          "autotypenumbers": "strict",
          "coloraxis": {
           "colorbar": {
            "outlinewidth": 0,
            "ticks": ""
           }
          },
          "colorscale": {
           "diverging": [
            [
             0,
             "#8e0152"
            ],
            [
             0.1,
             "#c51b7d"
            ],
            [
             0.2,
             "#de77ae"
            ],
            [
             0.3,
             "#f1b6da"
            ],
            [
             0.4,
             "#fde0ef"
            ],
            [
             0.5,
             "#f7f7f7"
            ],
            [
             0.6,
             "#e6f5d0"
            ],
            [
             0.7,
             "#b8e186"
            ],
            [
             0.8,
             "#7fbc41"
            ],
            [
             0.9,
             "#4d9221"
            ],
            [
             1,
             "#276419"
            ]
           ],
           "sequential": [
            [
             0,
             "#0d0887"
            ],
            [
             0.1111111111111111,
             "#46039f"
            ],
            [
             0.2222222222222222,
             "#7201a8"
            ],
            [
             0.3333333333333333,
             "#9c179e"
            ],
            [
             0.4444444444444444,
             "#bd3786"
            ],
            [
             0.5555555555555556,
             "#d8576b"
            ],
            [
             0.6666666666666666,
             "#ed7953"
            ],
            [
             0.7777777777777778,
             "#fb9f3a"
            ],
            [
             0.8888888888888888,
             "#fdca26"
            ],
            [
             1,
             "#f0f921"
            ]
           ],
           "sequentialminus": [
            [
             0,
             "#0d0887"
            ],
            [
             0.1111111111111111,
             "#46039f"
            ],
            [
             0.2222222222222222,
             "#7201a8"
            ],
            [
             0.3333333333333333,
             "#9c179e"
            ],
            [
             0.4444444444444444,
             "#bd3786"
            ],
            [
             0.5555555555555556,
             "#d8576b"
            ],
            [
             0.6666666666666666,
             "#ed7953"
            ],
            [
             0.7777777777777778,
             "#fb9f3a"
            ],
            [
             0.8888888888888888,
             "#fdca26"
            ],
            [
             1,
             "#f0f921"
            ]
           ]
          },
          "colorway": [
           "#636efa",
           "#EF553B",
           "#00cc96",
           "#ab63fa",
           "#FFA15A",
           "#19d3f3",
           "#FF6692",
           "#B6E880",
           "#FF97FF",
           "#FECB52"
          ],
          "font": {
           "color": "#2a3f5f"
          },
          "geo": {
           "bgcolor": "white",
           "lakecolor": "white",
           "landcolor": "#E5ECF6",
           "showlakes": true,
           "showland": true,
           "subunitcolor": "white"
          },
          "hoverlabel": {
           "align": "left"
          },
          "hovermode": "closest",
          "mapbox": {
           "style": "light"
          },
          "paper_bgcolor": "white",
          "plot_bgcolor": "#E5ECF6",
          "polar": {
           "angularaxis": {
            "gridcolor": "white",
            "linecolor": "white",
            "ticks": ""
           },
           "bgcolor": "#E5ECF6",
           "radialaxis": {
            "gridcolor": "white",
            "linecolor": "white",
            "ticks": ""
           }
          },
          "scene": {
           "xaxis": {
            "backgroundcolor": "#E5ECF6",
            "gridcolor": "white",
            "gridwidth": 2,
            "linecolor": "white",
            "showbackground": true,
            "ticks": "",
            "zerolinecolor": "white"
           },
           "yaxis": {
            "backgroundcolor": "#E5ECF6",
            "gridcolor": "white",
            "gridwidth": 2,
            "linecolor": "white",
            "showbackground": true,
            "ticks": "",
            "zerolinecolor": "white"
           },
           "zaxis": {
            "backgroundcolor": "#E5ECF6",
            "gridcolor": "white",
            "gridwidth": 2,
            "linecolor": "white",
            "showbackground": true,
            "ticks": "",
            "zerolinecolor": "white"
           }
          },
          "shapedefaults": {
           "line": {
            "color": "#2a3f5f"
           }
          },
          "ternary": {
           "aaxis": {
            "gridcolor": "white",
            "linecolor": "white",
            "ticks": ""
           },
           "baxis": {
            "gridcolor": "white",
            "linecolor": "white",
            "ticks": ""
           },
           "bgcolor": "#E5ECF6",
           "caxis": {
            "gridcolor": "white",
            "linecolor": "white",
            "ticks": ""
           }
          },
          "title": {
           "x": 0.05
          },
          "xaxis": {
           "automargin": true,
           "gridcolor": "white",
           "linecolor": "white",
           "ticks": "",
           "title": {
            "standoff": 15
           },
           "zerolinecolor": "white",
           "zerolinewidth": 2
          },
          "yaxis": {
           "automargin": true,
           "gridcolor": "white",
           "linecolor": "white",
           "ticks": "",
           "title": {
            "standoff": 15
           },
           "zerolinecolor": "white",
           "zerolinewidth": 2
          }
         }
        },
        "xaxis": {
         "anchor": "y",
         "domain": [
          0,
          1
         ],
         "title": {
          "text": "x"
         }
        },
        "yaxis": {
         "anchor": "x",
         "domain": [
          0,
          1
         ],
         "title": {
          "text": "count"
         }
        }
       }
      }
     },
     "metadata": {},
     "output_type": "display_data"
    }
   ],
   "source": [
    "rotulados = pd.read_excel(dataSet, sheet_name='ROTULADO')\n",
    "\n",
    "fig = px.bar(rotulados['text'], x=rotulados['rotulo'], color=rotulados['rotulo'])\n",
    "fig.show()"
   ]
  },
  {
   "cell_type": "markdown",
   "metadata": {},
   "source": [
    "*Amostra do dataset de treino, balanceado, sobre 70% de todo o dataset rotulado*"
   ]
  },
  {
   "cell_type": "code",
   "execution_count": 265,
   "metadata": {},
   "outputs": [
    {
     "data": {
      "application/vnd.plotly.v1+json": {
       "config": {
        "plotlyServerURL": "https://plot.ly"
       },
       "data": [
        {
         "alignmentgroup": "True",
         "hovertemplate": "color=POSITIVO<br>x=%{x}<br>count=%{y}<extra></extra>",
         "legendgroup": "POSITIVO",
         "marker": {
          "color": "#636efa",
          "pattern": {
           "shape": ""
          }
         },
         "name": "POSITIVO",
         "offsetgroup": "POSITIVO",
         "orientation": "v",
         "showlegend": true,
         "textposition": "auto",
         "type": "bar",
         "x": [
          "POSITIVO",
          "POSITIVO",
          "POSITIVO",
          "POSITIVO",
          "POSITIVO",
          "POSITIVO",
          "POSITIVO",
          "POSITIVO",
          "POSITIVO",
          "POSITIVO",
          "POSITIVO",
          "POSITIVO",
          "POSITIVO",
          "POSITIVO",
          "POSITIVO",
          "POSITIVO",
          "POSITIVO",
          "POSITIVO",
          "POSITIVO",
          "POSITIVO",
          "POSITIVO",
          "POSITIVO",
          "POSITIVO",
          "POSITIVO",
          "POSITIVO",
          "POSITIVO",
          "POSITIVO",
          "POSITIVO",
          "POSITIVO",
          "POSITIVO",
          "POSITIVO",
          "POSITIVO",
          "POSITIVO",
          "POSITIVO",
          "POSITIVO",
          "POSITIVO",
          "POSITIVO",
          "POSITIVO",
          "POSITIVO",
          "POSITIVO",
          "POSITIVO",
          "POSITIVO",
          "POSITIVO",
          "POSITIVO",
          "POSITIVO",
          "POSITIVO",
          "POSITIVO",
          "POSITIVO",
          "POSITIVO",
          "POSITIVO",
          "POSITIVO",
          "POSITIVO",
          "POSITIVO",
          "POSITIVO",
          "POSITIVO",
          "POSITIVO",
          "POSITIVO",
          "POSITIVO",
          "POSITIVO",
          "POSITIVO",
          "POSITIVO",
          "POSITIVO",
          "POSITIVO",
          "POSITIVO",
          "POSITIVO",
          "POSITIVO",
          "POSITIVO",
          "POSITIVO",
          "POSITIVO",
          "POSITIVO",
          "POSITIVO",
          "POSITIVO",
          "POSITIVO",
          "POSITIVO",
          "POSITIVO",
          "POSITIVO",
          "POSITIVO",
          "POSITIVO",
          "POSITIVO",
          "POSITIVO",
          "POSITIVO",
          "POSITIVO",
          "POSITIVO",
          "POSITIVO",
          "POSITIVO",
          "POSITIVO",
          "POSITIVO",
          "POSITIVO",
          "POSITIVO",
          "POSITIVO",
          "POSITIVO",
          "POSITIVO",
          "POSITIVO",
          "POSITIVO",
          "POSITIVO",
          "POSITIVO",
          "POSITIVO",
          "POSITIVO",
          "POSITIVO",
          "POSITIVO",
          "POSITIVO",
          "POSITIVO",
          "POSITIVO",
          "POSITIVO",
          "POSITIVO",
          "POSITIVO",
          "POSITIVO",
          "POSITIVO",
          "POSITIVO",
          "POSITIVO",
          "POSITIVO",
          "POSITIVO",
          "POSITIVO",
          "POSITIVO",
          "POSITIVO",
          "POSITIVO",
          "POSITIVO",
          "POSITIVO",
          "POSITIVO",
          "POSITIVO",
          "POSITIVO",
          "POSITIVO",
          "POSITIVO",
          "POSITIVO",
          "POSITIVO",
          "POSITIVO",
          "POSITIVO",
          "POSITIVO",
          "POSITIVO",
          "POSITIVO",
          "POSITIVO",
          "POSITIVO",
          "POSITIVO",
          "POSITIVO",
          "POSITIVO",
          "POSITIVO",
          "POSITIVO",
          "POSITIVO",
          "POSITIVO",
          "POSITIVO",
          "POSITIVO",
          "POSITIVO",
          "POSITIVO",
          "POSITIVO",
          "POSITIVO",
          "POSITIVO",
          "POSITIVO",
          "POSITIVO",
          "POSITIVO",
          "POSITIVO",
          "POSITIVO",
          "POSITIVO",
          "POSITIVO",
          "POSITIVO",
          "POSITIVO",
          "POSITIVO",
          "POSITIVO",
          "POSITIVO",
          "POSITIVO",
          "POSITIVO",
          "POSITIVO",
          "POSITIVO",
          "POSITIVO",
          "POSITIVO",
          "POSITIVO",
          "POSITIVO",
          "POSITIVO",
          "POSITIVO",
          "POSITIVO",
          "POSITIVO",
          "POSITIVO",
          "POSITIVO",
          "POSITIVO",
          "POSITIVO",
          "POSITIVO",
          "POSITIVO",
          "POSITIVO",
          "POSITIVO",
          "POSITIVO",
          "POSITIVO",
          "POSITIVO",
          "POSITIVO",
          "POSITIVO",
          "POSITIVO",
          "POSITIVO",
          "POSITIVO",
          "POSITIVO",
          "POSITIVO",
          "POSITIVO",
          "POSITIVO",
          "POSITIVO",
          "POSITIVO",
          "POSITIVO",
          "POSITIVO",
          "POSITIVO",
          "POSITIVO",
          "POSITIVO",
          "POSITIVO",
          "POSITIVO",
          "POSITIVO",
          "POSITIVO",
          "POSITIVO",
          "POSITIVO",
          "POSITIVO",
          "POSITIVO",
          "POSITIVO",
          "POSITIVO",
          "POSITIVO",
          "POSITIVO",
          "POSITIVO",
          "POSITIVO",
          "POSITIVO",
          "POSITIVO",
          "POSITIVO",
          "POSITIVO",
          "POSITIVO",
          "POSITIVO",
          "POSITIVO",
          "POSITIVO",
          "POSITIVO",
          "POSITIVO",
          "POSITIVO",
          "POSITIVO",
          "POSITIVO",
          "POSITIVO",
          "POSITIVO",
          "POSITIVO",
          "POSITIVO",
          "POSITIVO",
          "POSITIVO",
          "POSITIVO",
          "POSITIVO",
          "POSITIVO",
          "POSITIVO",
          "POSITIVO",
          "POSITIVO",
          "POSITIVO",
          "POSITIVO",
          "POSITIVO",
          "POSITIVO",
          "POSITIVO",
          "POSITIVO",
          "POSITIVO",
          "POSITIVO",
          "POSITIVO",
          "POSITIVO",
          "POSITIVO",
          "POSITIVO"
         ],
         "xaxis": "x",
         "y": [
          1,
          1,
          1,
          1,
          1,
          1,
          1,
          1,
          1,
          1,
          1,
          1,
          1,
          1,
          1,
          1,
          1,
          1,
          1,
          1,
          1,
          1,
          1,
          1,
          1,
          1,
          1,
          1,
          1,
          1,
          1,
          1,
          1,
          1,
          1,
          1,
          1,
          1,
          1,
          1,
          1,
          1,
          1,
          1,
          1,
          1,
          1,
          1,
          1,
          1,
          1,
          1,
          1,
          1,
          1,
          1,
          1,
          1,
          1,
          1,
          1,
          1,
          1,
          1,
          1,
          1,
          1,
          1,
          1,
          1,
          1,
          1,
          1,
          1,
          1,
          1,
          1,
          1,
          1,
          1,
          1,
          1,
          1,
          1,
          1,
          1,
          1,
          1,
          1,
          1,
          1,
          1,
          1,
          1,
          1,
          1,
          1,
          1,
          1,
          1,
          1,
          1,
          1,
          1,
          1,
          1,
          1,
          1,
          1,
          1,
          1,
          1,
          1,
          1,
          1,
          1,
          1,
          1,
          1,
          1,
          1,
          1,
          1,
          1,
          1,
          1,
          1,
          1,
          1,
          1,
          1,
          1,
          1,
          1,
          1,
          1,
          1,
          1,
          1,
          1,
          1,
          1,
          1,
          1,
          1,
          1,
          1,
          1,
          1,
          1,
          1,
          1,
          1,
          1,
          1,
          1,
          1,
          1,
          1,
          1,
          1,
          1,
          1,
          1,
          1,
          1,
          1,
          1,
          1,
          1,
          1,
          1,
          1,
          1,
          1,
          1,
          1,
          1,
          1,
          1,
          1,
          1,
          1,
          1,
          1,
          1,
          1,
          1,
          1,
          1,
          1,
          1,
          1,
          1,
          1,
          1,
          1,
          1,
          1,
          1,
          1,
          1,
          1,
          1,
          1,
          1,
          1,
          1,
          1,
          1,
          1,
          1,
          1,
          1,
          1,
          1,
          1,
          1,
          1,
          1,
          1,
          1,
          1,
          1,
          1,
          1,
          1,
          1,
          1,
          1,
          1,
          1,
          1,
          1,
          1,
          1,
          1,
          1,
          1,
          1,
          1,
          1,
          1,
          1,
          1,
          1,
          1,
          1
         ],
         "yaxis": "y"
        },
        {
         "alignmentgroup": "True",
         "hovertemplate": "color=NEGATIVO<br>x=%{x}<br>count=%{y}<extra></extra>",
         "legendgroup": "NEGATIVO",
         "marker": {
          "color": "#EF553B",
          "pattern": {
           "shape": ""
          }
         },
         "name": "NEGATIVO",
         "offsetgroup": "NEGATIVO",
         "orientation": "v",
         "showlegend": true,
         "textposition": "auto",
         "type": "bar",
         "x": [
          "NEGATIVO",
          "NEGATIVO",
          "NEGATIVO",
          "NEGATIVO",
          "NEGATIVO",
          "NEGATIVO",
          "NEGATIVO",
          "NEGATIVO",
          "NEGATIVO",
          "NEGATIVO",
          "NEGATIVO",
          "NEGATIVO",
          "NEGATIVO",
          "NEGATIVO",
          "NEGATIVO",
          "NEGATIVO",
          "NEGATIVO",
          "NEGATIVO",
          "NEGATIVO",
          "NEGATIVO",
          "NEGATIVO",
          "NEGATIVO",
          "NEGATIVO",
          "NEGATIVO",
          "NEGATIVO",
          "NEGATIVO",
          "NEGATIVO",
          "NEGATIVO",
          "NEGATIVO",
          "NEGATIVO",
          "NEGATIVO",
          "NEGATIVO",
          "NEGATIVO",
          "NEGATIVO",
          "NEGATIVO",
          "NEGATIVO",
          "NEGATIVO",
          "NEGATIVO",
          "NEGATIVO",
          "NEGATIVO",
          "NEGATIVO",
          "NEGATIVO",
          "NEGATIVO",
          "NEGATIVO",
          "NEGATIVO",
          "NEGATIVO",
          "NEGATIVO",
          "NEGATIVO",
          "NEGATIVO",
          "NEGATIVO",
          "NEGATIVO",
          "NEGATIVO",
          "NEGATIVO",
          "NEGATIVO",
          "NEGATIVO",
          "NEGATIVO",
          "NEGATIVO",
          "NEGATIVO",
          "NEGATIVO",
          "NEGATIVO",
          "NEGATIVO",
          "NEGATIVO",
          "NEGATIVO",
          "NEGATIVO",
          "NEGATIVO",
          "NEGATIVO",
          "NEGATIVO",
          "NEGATIVO",
          "NEGATIVO",
          "NEGATIVO",
          "NEGATIVO",
          "NEGATIVO",
          "NEGATIVO",
          "NEGATIVO",
          "NEGATIVO",
          "NEGATIVO",
          "NEGATIVO",
          "NEGATIVO",
          "NEGATIVO",
          "NEGATIVO",
          "NEGATIVO",
          "NEGATIVO",
          "NEGATIVO",
          "NEGATIVO",
          "NEGATIVO",
          "NEGATIVO",
          "NEGATIVO",
          "NEGATIVO",
          "NEGATIVO",
          "NEGATIVO",
          "NEGATIVO",
          "NEGATIVO",
          "NEGATIVO",
          "NEGATIVO",
          "NEGATIVO",
          "NEGATIVO",
          "NEGATIVO",
          "NEGATIVO",
          "NEGATIVO",
          "NEGATIVO",
          "NEGATIVO",
          "NEGATIVO",
          "NEGATIVO",
          "NEGATIVO",
          "NEGATIVO",
          "NEGATIVO",
          "NEGATIVO",
          "NEGATIVO",
          "NEGATIVO",
          "NEGATIVO",
          "NEGATIVO",
          "NEGATIVO",
          "NEGATIVO",
          "NEGATIVO",
          "NEGATIVO",
          "NEGATIVO",
          "NEGATIVO",
          "NEGATIVO",
          "NEGATIVO",
          "NEGATIVO",
          "NEGATIVO",
          "NEGATIVO",
          "NEGATIVO",
          "NEGATIVO",
          "NEGATIVO",
          "NEGATIVO",
          "NEGATIVO",
          "NEGATIVO",
          "NEGATIVO",
          "NEGATIVO",
          "NEGATIVO",
          "NEGATIVO",
          "NEGATIVO",
          "NEGATIVO",
          "NEGATIVO",
          "NEGATIVO",
          "NEGATIVO",
          "NEGATIVO",
          "NEGATIVO",
          "NEGATIVO",
          "NEGATIVO",
          "NEGATIVO",
          "NEGATIVO",
          "NEGATIVO",
          "NEGATIVO",
          "NEGATIVO",
          "NEGATIVO",
          "NEGATIVO",
          "NEGATIVO",
          "NEGATIVO",
          "NEGATIVO",
          "NEGATIVO",
          "NEGATIVO",
          "NEGATIVO",
          "NEGATIVO",
          "NEGATIVO",
          "NEGATIVO",
          "NEGATIVO",
          "NEGATIVO",
          "NEGATIVO",
          "NEGATIVO",
          "NEGATIVO",
          "NEGATIVO",
          "NEGATIVO",
          "NEGATIVO",
          "NEGATIVO",
          "NEGATIVO",
          "NEGATIVO",
          "NEGATIVO",
          "NEGATIVO",
          "NEGATIVO",
          "NEGATIVO",
          "NEGATIVO",
          "NEGATIVO",
          "NEGATIVO",
          "NEGATIVO",
          "NEGATIVO",
          "NEGATIVO",
          "NEGATIVO",
          "NEGATIVO",
          "NEGATIVO",
          "NEGATIVO",
          "NEGATIVO",
          "NEGATIVO",
          "NEGATIVO",
          "NEGATIVO",
          "NEGATIVO",
          "NEGATIVO",
          "NEGATIVO",
          "NEGATIVO",
          "NEGATIVO",
          "NEGATIVO",
          "NEGATIVO",
          "NEGATIVO",
          "NEGATIVO",
          "NEGATIVO",
          "NEGATIVO",
          "NEGATIVO",
          "NEGATIVO",
          "NEGATIVO",
          "NEGATIVO",
          "NEGATIVO",
          "NEGATIVO",
          "NEGATIVO",
          "NEGATIVO",
          "NEGATIVO",
          "NEGATIVO",
          "NEGATIVO",
          "NEGATIVO",
          "NEGATIVO",
          "NEGATIVO",
          "NEGATIVO",
          "NEGATIVO",
          "NEGATIVO",
          "NEGATIVO",
          "NEGATIVO",
          "NEGATIVO",
          "NEGATIVO",
          "NEGATIVO",
          "NEGATIVO",
          "NEGATIVO",
          "NEGATIVO",
          "NEGATIVO",
          "NEGATIVO",
          "NEGATIVO",
          "NEGATIVO",
          "NEGATIVO",
          "NEGATIVO",
          "NEGATIVO",
          "NEGATIVO",
          "NEGATIVO",
          "NEGATIVO",
          "NEGATIVO",
          "NEGATIVO",
          "NEGATIVO",
          "NEGATIVO",
          "NEGATIVO",
          "NEGATIVO",
          "NEGATIVO",
          "NEGATIVO",
          "NEGATIVO",
          "NEGATIVO",
          "NEGATIVO",
          "NEGATIVO",
          "NEGATIVO",
          "NEGATIVO",
          "NEGATIVO",
          "NEGATIVO"
         ],
         "xaxis": "x",
         "y": [
          1,
          1,
          1,
          1,
          1,
          1,
          1,
          1,
          1,
          1,
          1,
          1,
          1,
          1,
          1,
          1,
          1,
          1,
          1,
          1,
          1,
          1,
          1,
          1,
          1,
          1,
          1,
          1,
          1,
          1,
          1,
          1,
          1,
          1,
          1,
          1,
          1,
          1,
          1,
          1,
          1,
          1,
          1,
          1,
          1,
          1,
          1,
          1,
          1,
          1,
          1,
          1,
          1,
          1,
          1,
          1,
          1,
          1,
          1,
          1,
          1,
          1,
          1,
          1,
          1,
          1,
          1,
          1,
          1,
          1,
          1,
          1,
          1,
          1,
          1,
          1,
          1,
          1,
          1,
          1,
          1,
          1,
          1,
          1,
          1,
          1,
          1,
          1,
          1,
          1,
          1,
          1,
          1,
          1,
          1,
          1,
          1,
          1,
          1,
          1,
          1,
          1,
          1,
          1,
          1,
          1,
          1,
          1,
          1,
          1,
          1,
          1,
          1,
          1,
          1,
          1,
          1,
          1,
          1,
          1,
          1,
          1,
          1,
          1,
          1,
          1,
          1,
          1,
          1,
          1,
          1,
          1,
          1,
          1,
          1,
          1,
          1,
          1,
          1,
          1,
          1,
          1,
          1,
          1,
          1,
          1,
          1,
          1,
          1,
          1,
          1,
          1,
          1,
          1,
          1,
          1,
          1,
          1,
          1,
          1,
          1,
          1,
          1,
          1,
          1,
          1,
          1,
          1,
          1,
          1,
          1,
          1,
          1,
          1,
          1,
          1,
          1,
          1,
          1,
          1,
          1,
          1,
          1,
          1,
          1,
          1,
          1,
          1,
          1,
          1,
          1,
          1,
          1,
          1,
          1,
          1,
          1,
          1,
          1,
          1,
          1,
          1,
          1,
          1,
          1,
          1,
          1,
          1,
          1,
          1,
          1,
          1,
          1,
          1,
          1,
          1,
          1,
          1,
          1,
          1,
          1,
          1,
          1,
          1,
          1,
          1,
          1,
          1,
          1,
          1,
          1,
          1,
          1,
          1,
          1,
          1,
          1,
          1,
          1,
          1,
          1,
          1,
          1,
          1,
          1,
          1,
          1,
          1
         ],
         "yaxis": "y"
        }
       ],
       "layout": {
        "barmode": "relative",
        "legend": {
         "title": {
          "text": "color"
         },
         "tracegroupgap": 0
        },
        "margin": {
         "t": 60
        },
        "template": {
         "data": {
          "bar": [
           {
            "error_x": {
             "color": "#2a3f5f"
            },
            "error_y": {
             "color": "#2a3f5f"
            },
            "marker": {
             "line": {
              "color": "#E5ECF6",
              "width": 0.5
             },
             "pattern": {
              "fillmode": "overlay",
              "size": 10,
              "solidity": 0.2
             }
            },
            "type": "bar"
           }
          ],
          "barpolar": [
           {
            "marker": {
             "line": {
              "color": "#E5ECF6",
              "width": 0.5
             },
             "pattern": {
              "fillmode": "overlay",
              "size": 10,
              "solidity": 0.2
             }
            },
            "type": "barpolar"
           }
          ],
          "carpet": [
           {
            "aaxis": {
             "endlinecolor": "#2a3f5f",
             "gridcolor": "white",
             "linecolor": "white",
             "minorgridcolor": "white",
             "startlinecolor": "#2a3f5f"
            },
            "baxis": {
             "endlinecolor": "#2a3f5f",
             "gridcolor": "white",
             "linecolor": "white",
             "minorgridcolor": "white",
             "startlinecolor": "#2a3f5f"
            },
            "type": "carpet"
           }
          ],
          "choropleth": [
           {
            "colorbar": {
             "outlinewidth": 0,
             "ticks": ""
            },
            "type": "choropleth"
           }
          ],
          "contour": [
           {
            "colorbar": {
             "outlinewidth": 0,
             "ticks": ""
            },
            "colorscale": [
             [
              0,
              "#0d0887"
             ],
             [
              0.1111111111111111,
              "#46039f"
             ],
             [
              0.2222222222222222,
              "#7201a8"
             ],
             [
              0.3333333333333333,
              "#9c179e"
             ],
             [
              0.4444444444444444,
              "#bd3786"
             ],
             [
              0.5555555555555556,
              "#d8576b"
             ],
             [
              0.6666666666666666,
              "#ed7953"
             ],
             [
              0.7777777777777778,
              "#fb9f3a"
             ],
             [
              0.8888888888888888,
              "#fdca26"
             ],
             [
              1,
              "#f0f921"
             ]
            ],
            "type": "contour"
           }
          ],
          "contourcarpet": [
           {
            "colorbar": {
             "outlinewidth": 0,
             "ticks": ""
            },
            "type": "contourcarpet"
           }
          ],
          "heatmap": [
           {
            "colorbar": {
             "outlinewidth": 0,
             "ticks": ""
            },
            "colorscale": [
             [
              0,
              "#0d0887"
             ],
             [
              0.1111111111111111,
              "#46039f"
             ],
             [
              0.2222222222222222,
              "#7201a8"
             ],
             [
              0.3333333333333333,
              "#9c179e"
             ],
             [
              0.4444444444444444,
              "#bd3786"
             ],
             [
              0.5555555555555556,
              "#d8576b"
             ],
             [
              0.6666666666666666,
              "#ed7953"
             ],
             [
              0.7777777777777778,
              "#fb9f3a"
             ],
             [
              0.8888888888888888,
              "#fdca26"
             ],
             [
              1,
              "#f0f921"
             ]
            ],
            "type": "heatmap"
           }
          ],
          "heatmapgl": [
           {
            "colorbar": {
             "outlinewidth": 0,
             "ticks": ""
            },
            "colorscale": [
             [
              0,
              "#0d0887"
             ],
             [
              0.1111111111111111,
              "#46039f"
             ],
             [
              0.2222222222222222,
              "#7201a8"
             ],
             [
              0.3333333333333333,
              "#9c179e"
             ],
             [
              0.4444444444444444,
              "#bd3786"
             ],
             [
              0.5555555555555556,
              "#d8576b"
             ],
             [
              0.6666666666666666,
              "#ed7953"
             ],
             [
              0.7777777777777778,
              "#fb9f3a"
             ],
             [
              0.8888888888888888,
              "#fdca26"
             ],
             [
              1,
              "#f0f921"
             ]
            ],
            "type": "heatmapgl"
           }
          ],
          "histogram": [
           {
            "marker": {
             "pattern": {
              "fillmode": "overlay",
              "size": 10,
              "solidity": 0.2
             }
            },
            "type": "histogram"
           }
          ],
          "histogram2d": [
           {
            "colorbar": {
             "outlinewidth": 0,
             "ticks": ""
            },
            "colorscale": [
             [
              0,
              "#0d0887"
             ],
             [
              0.1111111111111111,
              "#46039f"
             ],
             [
              0.2222222222222222,
              "#7201a8"
             ],
             [
              0.3333333333333333,
              "#9c179e"
             ],
             [
              0.4444444444444444,
              "#bd3786"
             ],
             [
              0.5555555555555556,
              "#d8576b"
             ],
             [
              0.6666666666666666,
              "#ed7953"
             ],
             [
              0.7777777777777778,
              "#fb9f3a"
             ],
             [
              0.8888888888888888,
              "#fdca26"
             ],
             [
              1,
              "#f0f921"
             ]
            ],
            "type": "histogram2d"
           }
          ],
          "histogram2dcontour": [
           {
            "colorbar": {
             "outlinewidth": 0,
             "ticks": ""
            },
            "colorscale": [
             [
              0,
              "#0d0887"
             ],
             [
              0.1111111111111111,
              "#46039f"
             ],
             [
              0.2222222222222222,
              "#7201a8"
             ],
             [
              0.3333333333333333,
              "#9c179e"
             ],
             [
              0.4444444444444444,
              "#bd3786"
             ],
             [
              0.5555555555555556,
              "#d8576b"
             ],
             [
              0.6666666666666666,
              "#ed7953"
             ],
             [
              0.7777777777777778,
              "#fb9f3a"
             ],
             [
              0.8888888888888888,
              "#fdca26"
             ],
             [
              1,
              "#f0f921"
             ]
            ],
            "type": "histogram2dcontour"
           }
          ],
          "mesh3d": [
           {
            "colorbar": {
             "outlinewidth": 0,
             "ticks": ""
            },
            "type": "mesh3d"
           }
          ],
          "parcoords": [
           {
            "line": {
             "colorbar": {
              "outlinewidth": 0,
              "ticks": ""
             }
            },
            "type": "parcoords"
           }
          ],
          "pie": [
           {
            "automargin": true,
            "type": "pie"
           }
          ],
          "scatter": [
           {
            "fillpattern": {
             "fillmode": "overlay",
             "size": 10,
             "solidity": 0.2
            },
            "type": "scatter"
           }
          ],
          "scatter3d": [
           {
            "line": {
             "colorbar": {
              "outlinewidth": 0,
              "ticks": ""
             }
            },
            "marker": {
             "colorbar": {
              "outlinewidth": 0,
              "ticks": ""
             }
            },
            "type": "scatter3d"
           }
          ],
          "scattercarpet": [
           {
            "marker": {
             "colorbar": {
              "outlinewidth": 0,
              "ticks": ""
             }
            },
            "type": "scattercarpet"
           }
          ],
          "scattergeo": [
           {
            "marker": {
             "colorbar": {
              "outlinewidth": 0,
              "ticks": ""
             }
            },
            "type": "scattergeo"
           }
          ],
          "scattergl": [
           {
            "marker": {
             "colorbar": {
              "outlinewidth": 0,
              "ticks": ""
             }
            },
            "type": "scattergl"
           }
          ],
          "scattermapbox": [
           {
            "marker": {
             "colorbar": {
              "outlinewidth": 0,
              "ticks": ""
             }
            },
            "type": "scattermapbox"
           }
          ],
          "scatterpolar": [
           {
            "marker": {
             "colorbar": {
              "outlinewidth": 0,
              "ticks": ""
             }
            },
            "type": "scatterpolar"
           }
          ],
          "scatterpolargl": [
           {
            "marker": {
             "colorbar": {
              "outlinewidth": 0,
              "ticks": ""
             }
            },
            "type": "scatterpolargl"
           }
          ],
          "scatterternary": [
           {
            "marker": {
             "colorbar": {
              "outlinewidth": 0,
              "ticks": ""
             }
            },
            "type": "scatterternary"
           }
          ],
          "surface": [
           {
            "colorbar": {
             "outlinewidth": 0,
             "ticks": ""
            },
            "colorscale": [
             [
              0,
              "#0d0887"
             ],
             [
              0.1111111111111111,
              "#46039f"
             ],
             [
              0.2222222222222222,
              "#7201a8"
             ],
             [
              0.3333333333333333,
              "#9c179e"
             ],
             [
              0.4444444444444444,
              "#bd3786"
             ],
             [
              0.5555555555555556,
              "#d8576b"
             ],
             [
              0.6666666666666666,
              "#ed7953"
             ],
             [
              0.7777777777777778,
              "#fb9f3a"
             ],
             [
              0.8888888888888888,
              "#fdca26"
             ],
             [
              1,
              "#f0f921"
             ]
            ],
            "type": "surface"
           }
          ],
          "table": [
           {
            "cells": {
             "fill": {
              "color": "#EBF0F8"
             },
             "line": {
              "color": "white"
             }
            },
            "header": {
             "fill": {
              "color": "#C8D4E3"
             },
             "line": {
              "color": "white"
             }
            },
            "type": "table"
           }
          ]
         },
         "layout": {
          "annotationdefaults": {
           "arrowcolor": "#2a3f5f",
           "arrowhead": 0,
           "arrowwidth": 1
          },
          "autotypenumbers": "strict",
          "coloraxis": {
           "colorbar": {
            "outlinewidth": 0,
            "ticks": ""
           }
          },
          "colorscale": {
           "diverging": [
            [
             0,
             "#8e0152"
            ],
            [
             0.1,
             "#c51b7d"
            ],
            [
             0.2,
             "#de77ae"
            ],
            [
             0.3,
             "#f1b6da"
            ],
            [
             0.4,
             "#fde0ef"
            ],
            [
             0.5,
             "#f7f7f7"
            ],
            [
             0.6,
             "#e6f5d0"
            ],
            [
             0.7,
             "#b8e186"
            ],
            [
             0.8,
             "#7fbc41"
            ],
            [
             0.9,
             "#4d9221"
            ],
            [
             1,
             "#276419"
            ]
           ],
           "sequential": [
            [
             0,
             "#0d0887"
            ],
            [
             0.1111111111111111,
             "#46039f"
            ],
            [
             0.2222222222222222,
             "#7201a8"
            ],
            [
             0.3333333333333333,
             "#9c179e"
            ],
            [
             0.4444444444444444,
             "#bd3786"
            ],
            [
             0.5555555555555556,
             "#d8576b"
            ],
            [
             0.6666666666666666,
             "#ed7953"
            ],
            [
             0.7777777777777778,
             "#fb9f3a"
            ],
            [
             0.8888888888888888,
             "#fdca26"
            ],
            [
             1,
             "#f0f921"
            ]
           ],
           "sequentialminus": [
            [
             0,
             "#0d0887"
            ],
            [
             0.1111111111111111,
             "#46039f"
            ],
            [
             0.2222222222222222,
             "#7201a8"
            ],
            [
             0.3333333333333333,
             "#9c179e"
            ],
            [
             0.4444444444444444,
             "#bd3786"
            ],
            [
             0.5555555555555556,
             "#d8576b"
            ],
            [
             0.6666666666666666,
             "#ed7953"
            ],
            [
             0.7777777777777778,
             "#fb9f3a"
            ],
            [
             0.8888888888888888,
             "#fdca26"
            ],
            [
             1,
             "#f0f921"
            ]
           ]
          },
          "colorway": [
           "#636efa",
           "#EF553B",
           "#00cc96",
           "#ab63fa",
           "#FFA15A",
           "#19d3f3",
           "#FF6692",
           "#B6E880",
           "#FF97FF",
           "#FECB52"
          ],
          "font": {
           "color": "#2a3f5f"
          },
          "geo": {
           "bgcolor": "white",
           "lakecolor": "white",
           "landcolor": "#E5ECF6",
           "showlakes": true,
           "showland": true,
           "subunitcolor": "white"
          },
          "hoverlabel": {
           "align": "left"
          },
          "hovermode": "closest",
          "mapbox": {
           "style": "light"
          },
          "paper_bgcolor": "white",
          "plot_bgcolor": "#E5ECF6",
          "polar": {
           "angularaxis": {
            "gridcolor": "white",
            "linecolor": "white",
            "ticks": ""
           },
           "bgcolor": "#E5ECF6",
           "radialaxis": {
            "gridcolor": "white",
            "linecolor": "white",
            "ticks": ""
           }
          },
          "scene": {
           "xaxis": {
            "backgroundcolor": "#E5ECF6",
            "gridcolor": "white",
            "gridwidth": 2,
            "linecolor": "white",
            "showbackground": true,
            "ticks": "",
            "zerolinecolor": "white"
           },
           "yaxis": {
            "backgroundcolor": "#E5ECF6",
            "gridcolor": "white",
            "gridwidth": 2,
            "linecolor": "white",
            "showbackground": true,
            "ticks": "",
            "zerolinecolor": "white"
           },
           "zaxis": {
            "backgroundcolor": "#E5ECF6",
            "gridcolor": "white",
            "gridwidth": 2,
            "linecolor": "white",
            "showbackground": true,
            "ticks": "",
            "zerolinecolor": "white"
           }
          },
          "shapedefaults": {
           "line": {
            "color": "#2a3f5f"
           }
          },
          "ternary": {
           "aaxis": {
            "gridcolor": "white",
            "linecolor": "white",
            "ticks": ""
           },
           "baxis": {
            "gridcolor": "white",
            "linecolor": "white",
            "ticks": ""
           },
           "bgcolor": "#E5ECF6",
           "caxis": {
            "gridcolor": "white",
            "linecolor": "white",
            "ticks": ""
           }
          },
          "title": {
           "x": 0.05
          },
          "xaxis": {
           "automargin": true,
           "gridcolor": "white",
           "linecolor": "white",
           "ticks": "",
           "title": {
            "standoff": 15
           },
           "zerolinecolor": "white",
           "zerolinewidth": 2
          },
          "yaxis": {
           "automargin": true,
           "gridcolor": "white",
           "linecolor": "white",
           "ticks": "",
           "title": {
            "standoff": 15
           },
           "zerolinecolor": "white",
           "zerolinewidth": 2
          }
         }
        },
        "xaxis": {
         "anchor": "y",
         "domain": [
          0,
          1
         ],
         "title": {
          "text": "x"
         }
        },
        "yaxis": {
         "anchor": "x",
         "domain": [
          0,
          1
         ],
         "title": {
          "text": "count"
         }
        }
       }
      }
     },
     "metadata": {},
     "output_type": "display_data"
    }
   ],
   "source": [
    "treino = pd.read_excel(dataSet, sheet_name='TREINO_70%')\n",
    "\n",
    "fig = px.bar(treino['text'], x=treino['rotulo'], color=treino['rotulo'])\n",
    "fig.show()"
   ]
  },
  {
   "cell_type": "markdown",
   "metadata": {},
   "source": [
    "*Amostra do dataset de teste, com 15% sobre os 30% restantes do dataset rotulado não utilizado pela amostra de treino*"
   ]
  },
  {
   "cell_type": "code",
   "execution_count": 266,
   "metadata": {},
   "outputs": [
    {
     "data": {
      "application/vnd.plotly.v1+json": {
       "config": {
        "plotlyServerURL": "https://plot.ly"
       },
       "data": [
        {
         "alignmentgroup": "True",
         "hovertemplate": "color=POSITIVO<br>x=%{x}<br>count=%{y}<extra></extra>",
         "legendgroup": "POSITIVO",
         "marker": {
          "color": "#636efa",
          "pattern": {
           "shape": ""
          }
         },
         "name": "POSITIVO",
         "offsetgroup": "POSITIVO",
         "orientation": "v",
         "showlegend": true,
         "textposition": "auto",
         "type": "bar",
         "x": [
          "POSITIVO",
          "POSITIVO",
          "POSITIVO",
          "POSITIVO",
          "POSITIVO",
          "POSITIVO",
          "POSITIVO",
          "POSITIVO",
          "POSITIVO",
          "POSITIVO",
          "POSITIVO",
          "POSITIVO",
          "POSITIVO",
          "POSITIVO",
          "POSITIVO",
          "POSITIVO",
          "POSITIVO",
          "POSITIVO",
          "POSITIVO",
          "POSITIVO",
          "POSITIVO",
          "POSITIVO",
          "POSITIVO",
          "POSITIVO",
          "POSITIVO",
          "POSITIVO",
          "POSITIVO",
          "POSITIVO",
          "POSITIVO",
          "POSITIVO",
          "POSITIVO",
          "POSITIVO",
          "POSITIVO",
          "POSITIVO",
          "POSITIVO",
          "POSITIVO",
          "POSITIVO",
          "POSITIVO",
          "POSITIVO",
          "POSITIVO",
          "POSITIVO",
          "POSITIVO",
          "POSITIVO",
          "POSITIVO",
          "POSITIVO",
          "POSITIVO",
          "POSITIVO",
          "POSITIVO",
          "POSITIVO",
          "POSITIVO",
          "POSITIVO",
          "POSITIVO",
          "POSITIVO"
         ],
         "xaxis": "x",
         "y": [
          1,
          1,
          1,
          1,
          1,
          1,
          1,
          1,
          1,
          1,
          1,
          1,
          1,
          1,
          1,
          1,
          1,
          1,
          1,
          1,
          1,
          1,
          1,
          1,
          1,
          1,
          1,
          1,
          1,
          1,
          1,
          1,
          1,
          1,
          1,
          1,
          1,
          1,
          1,
          1,
          1,
          1,
          1,
          1,
          1,
          1,
          1,
          1,
          1,
          1,
          1,
          1,
          1
         ],
         "yaxis": "y"
        },
        {
         "alignmentgroup": "True",
         "hovertemplate": "color=NEGATIVO<br>x=%{x}<br>count=%{y}<extra></extra>",
         "legendgroup": "NEGATIVO",
         "marker": {
          "color": "#EF553B",
          "pattern": {
           "shape": ""
          }
         },
         "name": "NEGATIVO",
         "offsetgroup": "NEGATIVO",
         "orientation": "v",
         "showlegend": true,
         "textposition": "auto",
         "type": "bar",
         "x": [
          "NEGATIVO",
          "NEGATIVO",
          "NEGATIVO",
          "NEGATIVO",
          "NEGATIVO",
          "NEGATIVO",
          "NEGATIVO",
          "NEGATIVO",
          "NEGATIVO",
          "NEGATIVO",
          "NEGATIVO",
          "NEGATIVO",
          "NEGATIVO",
          "NEGATIVO",
          "NEGATIVO",
          "NEGATIVO",
          "NEGATIVO",
          "NEGATIVO",
          "NEGATIVO",
          "NEGATIVO",
          "NEGATIVO",
          "NEGATIVO",
          "NEGATIVO",
          "NEGATIVO",
          "NEGATIVO",
          "NEGATIVO",
          "NEGATIVO",
          "NEGATIVO",
          "NEGATIVO",
          "NEGATIVO",
          "NEGATIVO",
          "NEGATIVO",
          "NEGATIVO",
          "NEGATIVO",
          "NEGATIVO",
          "NEGATIVO",
          "NEGATIVO",
          "NEGATIVO",
          "NEGATIVO",
          "NEGATIVO",
          "NEGATIVO",
          "NEGATIVO",
          "NEGATIVO",
          "NEGATIVO",
          "NEGATIVO",
          "NEGATIVO",
          "NEGATIVO",
          "NEGATIVO",
          "NEGATIVO",
          "NEGATIVO",
          "NEGATIVO",
          "NEGATIVO",
          "NEGATIVO",
          "NEGATIVO",
          "NEGATIVO"
         ],
         "xaxis": "x",
         "y": [
          1,
          1,
          1,
          1,
          1,
          1,
          1,
          1,
          1,
          1,
          1,
          1,
          1,
          1,
          1,
          1,
          1,
          1,
          1,
          1,
          1,
          1,
          1,
          1,
          1,
          1,
          1,
          1,
          1,
          1,
          1,
          1,
          1,
          1,
          1,
          1,
          1,
          1,
          1,
          1,
          1,
          1,
          1,
          1,
          1,
          1,
          1,
          1,
          1,
          1,
          1,
          1,
          1,
          1,
          1
         ],
         "yaxis": "y"
        }
       ],
       "layout": {
        "barmode": "relative",
        "legend": {
         "title": {
          "text": "color"
         },
         "tracegroupgap": 0
        },
        "margin": {
         "t": 60
        },
        "template": {
         "data": {
          "bar": [
           {
            "error_x": {
             "color": "#2a3f5f"
            },
            "error_y": {
             "color": "#2a3f5f"
            },
            "marker": {
             "line": {
              "color": "#E5ECF6",
              "width": 0.5
             },
             "pattern": {
              "fillmode": "overlay",
              "size": 10,
              "solidity": 0.2
             }
            },
            "type": "bar"
           }
          ],
          "barpolar": [
           {
            "marker": {
             "line": {
              "color": "#E5ECF6",
              "width": 0.5
             },
             "pattern": {
              "fillmode": "overlay",
              "size": 10,
              "solidity": 0.2
             }
            },
            "type": "barpolar"
           }
          ],
          "carpet": [
           {
            "aaxis": {
             "endlinecolor": "#2a3f5f",
             "gridcolor": "white",
             "linecolor": "white",
             "minorgridcolor": "white",
             "startlinecolor": "#2a3f5f"
            },
            "baxis": {
             "endlinecolor": "#2a3f5f",
             "gridcolor": "white",
             "linecolor": "white",
             "minorgridcolor": "white",
             "startlinecolor": "#2a3f5f"
            },
            "type": "carpet"
           }
          ],
          "choropleth": [
           {
            "colorbar": {
             "outlinewidth": 0,
             "ticks": ""
            },
            "type": "choropleth"
           }
          ],
          "contour": [
           {
            "colorbar": {
             "outlinewidth": 0,
             "ticks": ""
            },
            "colorscale": [
             [
              0,
              "#0d0887"
             ],
             [
              0.1111111111111111,
              "#46039f"
             ],
             [
              0.2222222222222222,
              "#7201a8"
             ],
             [
              0.3333333333333333,
              "#9c179e"
             ],
             [
              0.4444444444444444,
              "#bd3786"
             ],
             [
              0.5555555555555556,
              "#d8576b"
             ],
             [
              0.6666666666666666,
              "#ed7953"
             ],
             [
              0.7777777777777778,
              "#fb9f3a"
             ],
             [
              0.8888888888888888,
              "#fdca26"
             ],
             [
              1,
              "#f0f921"
             ]
            ],
            "type": "contour"
           }
          ],
          "contourcarpet": [
           {
            "colorbar": {
             "outlinewidth": 0,
             "ticks": ""
            },
            "type": "contourcarpet"
           }
          ],
          "heatmap": [
           {
            "colorbar": {
             "outlinewidth": 0,
             "ticks": ""
            },
            "colorscale": [
             [
              0,
              "#0d0887"
             ],
             [
              0.1111111111111111,
              "#46039f"
             ],
             [
              0.2222222222222222,
              "#7201a8"
             ],
             [
              0.3333333333333333,
              "#9c179e"
             ],
             [
              0.4444444444444444,
              "#bd3786"
             ],
             [
              0.5555555555555556,
              "#d8576b"
             ],
             [
              0.6666666666666666,
              "#ed7953"
             ],
             [
              0.7777777777777778,
              "#fb9f3a"
             ],
             [
              0.8888888888888888,
              "#fdca26"
             ],
             [
              1,
              "#f0f921"
             ]
            ],
            "type": "heatmap"
           }
          ],
          "heatmapgl": [
           {
            "colorbar": {
             "outlinewidth": 0,
             "ticks": ""
            },
            "colorscale": [
             [
              0,
              "#0d0887"
             ],
             [
              0.1111111111111111,
              "#46039f"
             ],
             [
              0.2222222222222222,
              "#7201a8"
             ],
             [
              0.3333333333333333,
              "#9c179e"
             ],
             [
              0.4444444444444444,
              "#bd3786"
             ],
             [
              0.5555555555555556,
              "#d8576b"
             ],
             [
              0.6666666666666666,
              "#ed7953"
             ],
             [
              0.7777777777777778,
              "#fb9f3a"
             ],
             [
              0.8888888888888888,
              "#fdca26"
             ],
             [
              1,
              "#f0f921"
             ]
            ],
            "type": "heatmapgl"
           }
          ],
          "histogram": [
           {
            "marker": {
             "pattern": {
              "fillmode": "overlay",
              "size": 10,
              "solidity": 0.2
             }
            },
            "type": "histogram"
           }
          ],
          "histogram2d": [
           {
            "colorbar": {
             "outlinewidth": 0,
             "ticks": ""
            },
            "colorscale": [
             [
              0,
              "#0d0887"
             ],
             [
              0.1111111111111111,
              "#46039f"
             ],
             [
              0.2222222222222222,
              "#7201a8"
             ],
             [
              0.3333333333333333,
              "#9c179e"
             ],
             [
              0.4444444444444444,
              "#bd3786"
             ],
             [
              0.5555555555555556,
              "#d8576b"
             ],
             [
              0.6666666666666666,
              "#ed7953"
             ],
             [
              0.7777777777777778,
              "#fb9f3a"
             ],
             [
              0.8888888888888888,
              "#fdca26"
             ],
             [
              1,
              "#f0f921"
             ]
            ],
            "type": "histogram2d"
           }
          ],
          "histogram2dcontour": [
           {
            "colorbar": {
             "outlinewidth": 0,
             "ticks": ""
            },
            "colorscale": [
             [
              0,
              "#0d0887"
             ],
             [
              0.1111111111111111,
              "#46039f"
             ],
             [
              0.2222222222222222,
              "#7201a8"
             ],
             [
              0.3333333333333333,
              "#9c179e"
             ],
             [
              0.4444444444444444,
              "#bd3786"
             ],
             [
              0.5555555555555556,
              "#d8576b"
             ],
             [
              0.6666666666666666,
              "#ed7953"
             ],
             [
              0.7777777777777778,
              "#fb9f3a"
             ],
             [
              0.8888888888888888,
              "#fdca26"
             ],
             [
              1,
              "#f0f921"
             ]
            ],
            "type": "histogram2dcontour"
           }
          ],
          "mesh3d": [
           {
            "colorbar": {
             "outlinewidth": 0,
             "ticks": ""
            },
            "type": "mesh3d"
           }
          ],
          "parcoords": [
           {
            "line": {
             "colorbar": {
              "outlinewidth": 0,
              "ticks": ""
             }
            },
            "type": "parcoords"
           }
          ],
          "pie": [
           {
            "automargin": true,
            "type": "pie"
           }
          ],
          "scatter": [
           {
            "fillpattern": {
             "fillmode": "overlay",
             "size": 10,
             "solidity": 0.2
            },
            "type": "scatter"
           }
          ],
          "scatter3d": [
           {
            "line": {
             "colorbar": {
              "outlinewidth": 0,
              "ticks": ""
             }
            },
            "marker": {
             "colorbar": {
              "outlinewidth": 0,
              "ticks": ""
             }
            },
            "type": "scatter3d"
           }
          ],
          "scattercarpet": [
           {
            "marker": {
             "colorbar": {
              "outlinewidth": 0,
              "ticks": ""
             }
            },
            "type": "scattercarpet"
           }
          ],
          "scattergeo": [
           {
            "marker": {
             "colorbar": {
              "outlinewidth": 0,
              "ticks": ""
             }
            },
            "type": "scattergeo"
           }
          ],
          "scattergl": [
           {
            "marker": {
             "colorbar": {
              "outlinewidth": 0,
              "ticks": ""
             }
            },
            "type": "scattergl"
           }
          ],
          "scattermapbox": [
           {
            "marker": {
             "colorbar": {
              "outlinewidth": 0,
              "ticks": ""
             }
            },
            "type": "scattermapbox"
           }
          ],
          "scatterpolar": [
           {
            "marker": {
             "colorbar": {
              "outlinewidth": 0,
              "ticks": ""
             }
            },
            "type": "scatterpolar"
           }
          ],
          "scatterpolargl": [
           {
            "marker": {
             "colorbar": {
              "outlinewidth": 0,
              "ticks": ""
             }
            },
            "type": "scatterpolargl"
           }
          ],
          "scatterternary": [
           {
            "marker": {
             "colorbar": {
              "outlinewidth": 0,
              "ticks": ""
             }
            },
            "type": "scatterternary"
           }
          ],
          "surface": [
           {
            "colorbar": {
             "outlinewidth": 0,
             "ticks": ""
            },
            "colorscale": [
             [
              0,
              "#0d0887"
             ],
             [
              0.1111111111111111,
              "#46039f"
             ],
             [
              0.2222222222222222,
              "#7201a8"
             ],
             [
              0.3333333333333333,
              "#9c179e"
             ],
             [
              0.4444444444444444,
              "#bd3786"
             ],
             [
              0.5555555555555556,
              "#d8576b"
             ],
             [
              0.6666666666666666,
              "#ed7953"
             ],
             [
              0.7777777777777778,
              "#fb9f3a"
             ],
             [
              0.8888888888888888,
              "#fdca26"
             ],
             [
              1,
              "#f0f921"
             ]
            ],
            "type": "surface"
           }
          ],
          "table": [
           {
            "cells": {
             "fill": {
              "color": "#EBF0F8"
             },
             "line": {
              "color": "white"
             }
            },
            "header": {
             "fill": {
              "color": "#C8D4E3"
             },
             "line": {
              "color": "white"
             }
            },
            "type": "table"
           }
          ]
         },
         "layout": {
          "annotationdefaults": {
           "arrowcolor": "#2a3f5f",
           "arrowhead": 0,
           "arrowwidth": 1
          },
          "autotypenumbers": "strict",
          "coloraxis": {
           "colorbar": {
            "outlinewidth": 0,
            "ticks": ""
           }
          },
          "colorscale": {
           "diverging": [
            [
             0,
             "#8e0152"
            ],
            [
             0.1,
             "#c51b7d"
            ],
            [
             0.2,
             "#de77ae"
            ],
            [
             0.3,
             "#f1b6da"
            ],
            [
             0.4,
             "#fde0ef"
            ],
            [
             0.5,
             "#f7f7f7"
            ],
            [
             0.6,
             "#e6f5d0"
            ],
            [
             0.7,
             "#b8e186"
            ],
            [
             0.8,
             "#7fbc41"
            ],
            [
             0.9,
             "#4d9221"
            ],
            [
             1,
             "#276419"
            ]
           ],
           "sequential": [
            [
             0,
             "#0d0887"
            ],
            [
             0.1111111111111111,
             "#46039f"
            ],
            [
             0.2222222222222222,
             "#7201a8"
            ],
            [
             0.3333333333333333,
             "#9c179e"
            ],
            [
             0.4444444444444444,
             "#bd3786"
            ],
            [
             0.5555555555555556,
             "#d8576b"
            ],
            [
             0.6666666666666666,
             "#ed7953"
            ],
            [
             0.7777777777777778,
             "#fb9f3a"
            ],
            [
             0.8888888888888888,
             "#fdca26"
            ],
            [
             1,
             "#f0f921"
            ]
           ],
           "sequentialminus": [
            [
             0,
             "#0d0887"
            ],
            [
             0.1111111111111111,
             "#46039f"
            ],
            [
             0.2222222222222222,
             "#7201a8"
            ],
            [
             0.3333333333333333,
             "#9c179e"
            ],
            [
             0.4444444444444444,
             "#bd3786"
            ],
            [
             0.5555555555555556,
             "#d8576b"
            ],
            [
             0.6666666666666666,
             "#ed7953"
            ],
            [
             0.7777777777777778,
             "#fb9f3a"
            ],
            [
             0.8888888888888888,
             "#fdca26"
            ],
            [
             1,
             "#f0f921"
            ]
           ]
          },
          "colorway": [
           "#636efa",
           "#EF553B",
           "#00cc96",
           "#ab63fa",
           "#FFA15A",
           "#19d3f3",
           "#FF6692",
           "#B6E880",
           "#FF97FF",
           "#FECB52"
          ],
          "font": {
           "color": "#2a3f5f"
          },
          "geo": {
           "bgcolor": "white",
           "lakecolor": "white",
           "landcolor": "#E5ECF6",
           "showlakes": true,
           "showland": true,
           "subunitcolor": "white"
          },
          "hoverlabel": {
           "align": "left"
          },
          "hovermode": "closest",
          "mapbox": {
           "style": "light"
          },
          "paper_bgcolor": "white",
          "plot_bgcolor": "#E5ECF6",
          "polar": {
           "angularaxis": {
            "gridcolor": "white",
            "linecolor": "white",
            "ticks": ""
           },
           "bgcolor": "#E5ECF6",
           "radialaxis": {
            "gridcolor": "white",
            "linecolor": "white",
            "ticks": ""
           }
          },
          "scene": {
           "xaxis": {
            "backgroundcolor": "#E5ECF6",
            "gridcolor": "white",
            "gridwidth": 2,
            "linecolor": "white",
            "showbackground": true,
            "ticks": "",
            "zerolinecolor": "white"
           },
           "yaxis": {
            "backgroundcolor": "#E5ECF6",
            "gridcolor": "white",
            "gridwidth": 2,
            "linecolor": "white",
            "showbackground": true,
            "ticks": "",
            "zerolinecolor": "white"
           },
           "zaxis": {
            "backgroundcolor": "#E5ECF6",
            "gridcolor": "white",
            "gridwidth": 2,
            "linecolor": "white",
            "showbackground": true,
            "ticks": "",
            "zerolinecolor": "white"
           }
          },
          "shapedefaults": {
           "line": {
            "color": "#2a3f5f"
           }
          },
          "ternary": {
           "aaxis": {
            "gridcolor": "white",
            "linecolor": "white",
            "ticks": ""
           },
           "baxis": {
            "gridcolor": "white",
            "linecolor": "white",
            "ticks": ""
           },
           "bgcolor": "#E5ECF6",
           "caxis": {
            "gridcolor": "white",
            "linecolor": "white",
            "ticks": ""
           }
          },
          "title": {
           "x": 0.05
          },
          "xaxis": {
           "automargin": true,
           "gridcolor": "white",
           "linecolor": "white",
           "ticks": "",
           "title": {
            "standoff": 15
           },
           "zerolinecolor": "white",
           "zerolinewidth": 2
          },
          "yaxis": {
           "automargin": true,
           "gridcolor": "white",
           "linecolor": "white",
           "ticks": "",
           "title": {
            "standoff": 15
           },
           "zerolinecolor": "white",
           "zerolinewidth": 2
          }
         }
        },
        "xaxis": {
         "anchor": "y",
         "domain": [
          0,
          1
         ],
         "title": {
          "text": "x"
         }
        },
        "yaxis": {
         "anchor": "x",
         "domain": [
          0,
          1
         ],
         "title": {
          "text": "count"
         }
        }
       }
      }
     },
     "metadata": {},
     "output_type": "display_data"
    }
   ],
   "source": [
    "teste = pd.read_excel(dataSet, sheet_name='TESTE_15%')\n",
    "\n",
    "fig = px.bar(teste['text'], x=teste['rotulo'], color=teste['rotulo'])\n",
    "fig.show()"
   ]
  },
  {
   "cell_type": "markdown",
   "metadata": {},
   "source": [
    "___\n",
    "\n",
    "### **Classificação e Limpeza dos Dados**\n",
    "\n",
    "- Inicialmente, retiramos todos os retweets presentes no dataset;\n",
    "\n",
    "- Em seguida, definimos os tipos de classificação dos dados, conforme abaixo:\n",
    ">   - **Contexto:** Precisa de contexto para ser entendido\n",
    ">   - **Positivo:**  Mensagens positivas: Elogios, enaltecimento de candidato, etc.\n",
    ">   - **Negativo:** Mensagens negativas: Ofensas, xingamentos, desmerecer propostas.\n",
    ">   - **Ironia:** Sentido contrario da mensagem\n",
    ">   - **Neutro:** Nem negativo nem positivo. Somente descritivo (narração de fatos)\n",
    ">   - **Confuso:** Não foi possível interpretar o significado do texto\n",
    ">   - **Dividir:** Mensagens positivas e negativas com possibilidade de quebra para geração de novos textos\n",
    "\n",
    "- Após a definição dos tipos de classificação, começamos a classificar individualmente e manualmente, um por um;\n",
    "\n",
    "- Depois da classificação individual, realizamos uma revisão geral em grupo, onde foram ponderadas e debatidas as classificações, também de forma manual, percorrendo por todas as linhas do dataset;"
   ]
  },
  {
   "cell_type": "markdown",
   "metadata": {},
   "source": [
    "___\n",
    "\n",
    "### **Normalização dos dados**\n",
    "\n",
    "Para normalizar os dados, utilizamos de algumas ferramentas e técnicas a fim de garantir um melhor resultado pelo algoritmo, assim realizamos os seguintes passos:\n"
   ]
  },
  {
   "cell_type": "markdown",
   "metadata": {},
   "source": [
    "*Inicialmente, todo o input foi transformado para caixa baixa, as quebras de linha foram removidas do texto e os espaços duplos foram transformados em espaço único*"
   ]
  },
  {
   "cell_type": "code",
   "execution_count": 267,
   "metadata": {},
   "outputs": [],
   "source": [
    "def toLower(input):\n",
    "    return input.lower()\n",
    "\n",
    "def removeLinesBreaks(input):\n",
    "    return reg.sub('\\\\\\\\n{1,}|\\\\\\\\r{1,}', ' ', input, reg.IGNORECASE, reg.MULTILINE)\n",
    "\n",
    "def removeDoubleSpaces(input):\n",
    "    return reg.sub('\\\\s{2,}', ' ', input, reg.IGNORECASE, reg.MULTILINE)\n",
    "\n",
    "def applyRegex(input):\n",
    "    regexs = open(filenameRegexToBeApplied, 'r', encoding='UTF-8', newline='\\n')\n",
    "    for regex in regexs.readlines():  \n",
    "        teste = reg.sub(regex, ' ', input, reg.IGNORECASE, reg.MULTILINE)\n",
    "        input = teste\n",
    "    return input"
   ]
  },
  {
   "cell_type": "code",
   "execution_count": 268,
   "metadata": {},
   "outputs": [],
   "source": [
    "def applyStemmer(input):\n",
    "\n",
    "    input = reg.sub('\\\\s{2,}', ' ', input, reg.IGNORECASE, reg.MULTILINE).split(' ')\n",
    "    input = filter(lambda x: x != ' ' and x != '', input)\n",
    "\n",
    "    palavras = [stemmer.stem(palavra) for palavra in input]\n",
    "\n",
    "    input = ''\n",
    "\n",
    "    for palavra in palavras:\n",
    "        input += palavra + ' '\n",
    "\n",
    "    return reg.sub('\\\\s{2,}', ' ', input, reg.IGNORECASE, reg.MULTILINE)\n"
   ]
  },
  {
   "cell_type": "markdown",
   "metadata": {},
   "source": [
    "*Em seguida, utilizando um arquivo customizado desenvolvido pelo grupo, transformamos palavras e nomes com diversas variações para uma forma única, como por exemplo, Você ou vc para voce*"
   ]
  },
  {
   "cell_type": "code",
   "execution_count": 269,
   "metadata": {},
   "outputs": [],
   "source": [
    "def dePara(input):\n",
    "    deParas = open(fileNameDeParas, 'r', encoding='UTF-8', newline='\\n')\n",
    "    for dePara in deParas.readlines():\n",
    "        dePara = dePara.split('(-*-)')\n",
    "        input = reg.sub(dePara[0], dePara[1], input, reg.IGNORECASE, reg.MULTILINE)\n",
    "    return input"
   ]
  },
  {
   "cell_type": "markdown",
   "metadata": {},
   "source": [
    "*Após a transformação das palavras, utilizamos a técnica de stop words para remover as palavras que não trazem significado para o texto, como por exemplo, os artigos: a, as, o, os*"
   ]
  },
  {
   "cell_type": "code",
   "execution_count": 270,
   "metadata": {},
   "outputs": [],
   "source": [
    "def removeStopWords(input):\n",
    "    stopWrods = open(filenameStopWords, 'r', encoding='UTF-8', newline='\\r\\n')\n",
    "    for stopWord in stopWrods.readlines():\n",
    "        stopWord = unidecode.unidecode(stopWord)\n",
    "        stopWord = reg.sub('\\r\\n', '', stopWord)\n",
    "        input = reg.sub(stopWord, '', input, reg.IGNORECASE, reg.MULTILINE)\n",
    "    return input"
   ]
  },
  {
   "cell_type": "markdown",
   "metadata": {},
   "source": [
    "*Ainda no processo de normalização, removemos todos os acentos das palavras do dataset, a fim de padronizar os dados para posterior análise pelo algoritmo*"
   ]
  },
  {
   "cell_type": "code",
   "execution_count": 271,
   "metadata": {},
   "outputs": [],
   "source": [
    "def removeAcentuacao(input):\n",
    "    return unidecode.unidecode(input)"
   ]
  },
  {
   "cell_type": "markdown",
   "metadata": {},
   "source": [
    "Por fim, juntamos as etapas de normalização em uma unica função. Assim podemos utiliza-la de maneira mais fácil."
   ]
  },
  {
   "cell_type": "code",
   "execution_count": 272,
   "metadata": {},
   "outputs": [],
   "source": [
    "def normaliza(dataFrame):\n",
    "    listAux = []\n",
    "    for line in dataFrame.values:\n",
    "        line[1] = removeDoubleSpaces(applyStemmer(dePara(removeLinesBreaks(removeAcentuacao(removeStopWords(toLower(unidecode.unidecode(line[1]))))))))\n",
    "        listAux.append(line)\n",
    "    return pd.DataFrame(listAux)"
   ]
  },
  {
   "cell_type": "code",
   "execution_count": 273,
   "metadata": {},
   "outputs": [],
   "source": [
    "rotulados = normaliza(rotulados)"
   ]
  },
  {
   "cell_type": "markdown",
   "metadata": {},
   "source": [
    "___\n",
    "\n",
    "### **Criação dos conjuntos de treino, teste e validação**\n",
    "\n",
    "- A partir de todo o conjunto de dados classificado, foram mantidos apenas os valores positivos e negativos (Ironias e confusões foram removidas e divisões possíveis não foram realizadas)\n",
    "\n",
    "- Ordenamos por ordem alfabetica para retirar os textos duplicados do conjunto de dados\n",
    "\n",
    "- Utilizando o tipo de dado com menor amostras (POSITIVO), foi determinado 70% de suas linhas, a quantidade necessária para o conjunto de treino.\n",
    "\n",
    "- Antes de obter os dados e alocar-los no conjunto de treino, sua ordenação foi aleatorizada para abrangir uma quantidade maior de textos.\n",
    "\n",
    "- Após aleatorizar foram colocados no conjunto de treino, com quantidades iguais de positivos e negativos.\n",
    "\n",
    "- Posteriormente foram criados os conjuntos de testes e validação, ambos com 15% cada, do total de amostras do tipo POSITIVO (com menor amostras), com os valores também ordenados de forma aleatória, mas balanceados entre positivos e negativos. \n",
    "\n",
    "- Porém, como será observado posteriormente, os *datasets* de testes e validação foram unidos, devido ao emprego do cross-validation como forma de avaliar o modelo treinado pelo *dataset* com treino."
   ]
  },
  {
   "cell_type": "markdown",
   "metadata": {},
   "source": [
    "___\n",
    "\n",
    "### **Bag of Words**\n",
    "\n",
    " Para realizar a bag of words precisamos converter o texto para um formato que a máquina consiga entender, pois ela não compreende texto nem caracteres. Para isso, utilizamos o método CountVectorizer, cuja finalidade é converter as palavras para o número de sua frequência. Dessa forma, se tivermos o seguinte texto:\n",
    "\n",
    " - text = [‘Oi, meu nome é lucas, esse é meu python notebook’]\n",
    " \n",
    " O CountVectorizer vai converter para:\n",
    "\n",
    " - Oi: 1, é: 2, lucas: 1, esse: 1, meu: 2, python: 1, notebook: 1\n",
    "\n",
    "\n",
    "\n"
   ]
  },
  {
   "cell_type": "markdown",
   "metadata": {},
   "source": [
    "O próximo passo, o TfidfTransformer, ou transformação termo-frequência inversa de frequência documento, é um método da biblioteca SKLearn que serve para criarmos um esquema de peso de modelo para a frequência de cada termo. Dessa forma, o objetivo da implementação é retirar o impacto que tokens muito frenquentes em um espaço de comparação menor, como o dataset de testes. Ou seja, a vetorização anterior poderá se tornará algo neste modelo:\n",
    "\n",
    " - 1 - > 0.01XX, 2 -> 0.2XX"
   ]
  },
  {
   "cell_type": "code",
   "execution_count": 274,
   "metadata": {},
   "outputs": [],
   "source": [
    "from sklearn.feature_extraction.text import CountVectorizer\n",
    "from sklearn.feature_extraction.text import TfidfTransformer\n",
    "\n",
    "tfi = TfidfTransformer(use_idf=True)\n",
    "vectorizer = CountVectorizer(analyzer = \"word\")\n",
    "normaliza(treino)\n",
    "\n",
    "treino_tweets = treino[\"text\"].values\n",
    "treino_classificacao = treino[\"rotulo\"].values\n",
    "\n",
    "vec_treino = vectorizer.fit_transform(treino_tweets)\n",
    "freq_treino = tfi.fit_transform(vec_treino)"
   ]
  },
  {
   "cell_type": "markdown",
   "metadata": {},
   "source": [
    "A baixo é possivel ver como fica a Bag of Words, juntamente com o peso associado para cada palavra das linhas."
   ]
  },
  {
   "cell_type": "code",
   "execution_count": 275,
   "metadata": {},
   "outputs": [
    {
     "name": "stdout",
     "output_type": "stream",
     "text": [
      "  (0, 1634)\t0.22254082484725138\n",
      "  (0, 1619)\t0.22905933257354857\n",
      "  (0, 1520)\t0.27551590804835746\n",
      "  (0, 1516)\t0.22905933257354857\n",
      "  (0, 1495)\t0.1875834009000725\n",
      "  (0, 1370)\t0.24620507233226246\n",
      "  (0, 1048)\t0.22905933257354857\n",
      "  (0, 1029)\t0.40685582383902014\n",
      "  (0, 1028)\t0.1903125153558147\n",
      "  (0, 1001)\t0.27551590804835746\n",
      "  (0, 997)\t0.27551590804835746\n",
      "  (0, 683)\t0.1639191534150614\n",
      "  (0, 679)\t0.23676909083062356\n",
      "  (0, 591)\t0.21191359281483466\n",
      "  (0, 450)\t0.055340160073841314\n",
      "  (0, 392)\t0.20342791191951007\n",
      "  (0, 229)\t0.2074582551145286\n",
      "  (0, 133)\t0.22905933257354857\n",
      "  (1, 1633)\t0.1853559843923239\n",
      "  (1, 1510)\t0.20126631924394975\n",
      "  (1, 1393)\t0.155016234362824\n",
      "  (1, 1247)\t0.1853559843923239\n",
      "  (1, 1244)\t0.161571388856201\n",
      "  (1, 1143)\t0.1793071558134584\n",
      "  (1, 910)\t0.5113282268000474\n",
      "  :\t:\n",
      "  (494, 572)\t0.31262291986349855\n",
      "  (494, 569)\t0.13590437168610975\n",
      "  (494, 482)\t0.26028689815528394\n",
      "  (494, 344)\t0.20020017044182437\n",
      "  (495, 1511)\t0.21398301263335814\n",
      "  (495, 1412)\t0.19930725428385349\n",
      "  (495, 1394)\t0.24656989063127566\n",
      "  (495, 1352)\t0.21857847490061844\n",
      "  (495, 1257)\t0.24421570173926493\n",
      "  (495, 1229)\t0.22953994338976028\n",
      "  (495, 1218)\t0.23626346432353493\n",
      "  (495, 1217)\t0.2539484537464514\n",
      "  (495, 1216)\t0.23626346432353493\n",
      "  (495, 1145)\t0.22953994338976028\n",
      "  (495, 1100)\t0.2098259113488597\n",
      "  (495, 935)\t0.12609989299144164\n",
      "  (495, 775)\t0.22953994338976028\n",
      "  (495, 601)\t0.23626346432353493\n",
      "  (495, 561)\t0.11019541815998164\n",
      "  (495, 523)\t0.22953994338976028\n",
      "  (495, 520)\t0.22371576464054463\n",
      "  (495, 452)\t0.22953994338976028\n",
      "  (495, 441)\t0.1740175715202649\n",
      "  (495, 374)\t0.21398301263335814\n",
      "  (495, 257)\t0.22953994338976028\n"
     ]
    }
   ],
   "source": [
    "print(freq_treino)"
   ]
  },
  {
   "cell_type": "markdown",
   "metadata": {},
   "source": [
    "Concatenar *datasets* de testes e validação."
   ]
  },
  {
   "cell_type": "code",
   "execution_count": 276,
   "metadata": {},
   "outputs": [
    {
     "data": {
      "text/html": [
       "<div>\n",
       "<style scoped>\n",
       "    .dataframe tbody tr th:only-of-type {\n",
       "        vertical-align: middle;\n",
       "    }\n",
       "\n",
       "    .dataframe tbody tr th {\n",
       "        vertical-align: top;\n",
       "    }\n",
       "\n",
       "    .dataframe thead th {\n",
       "        text-align: right;\n",
       "    }\n",
       "</style>\n",
       "<table border=\"1\" class=\"dataframe\">\n",
       "  <thead>\n",
       "    <tr style=\"text-align: right;\">\n",
       "      <th></th>\n",
       "      <th>0</th>\n",
       "      <th>1</th>\n",
       "    </tr>\n",
       "  </thead>\n",
       "  <tbody>\n",
       "    <tr>\n",
       "      <th>0</th>\n",
       "      <td>POSITIVO</td>\n",
       "      <td>debat aqu @twitterbrasil ta melhor la @bandr #...</td>\n",
       "    </tr>\n",
       "    <tr>\n",
       "      <th>1</th>\n",
       "      <td>POSITIVO</td>\n",
       "      <td>edegar_prett firm defês patrimoni publ valoriz...</td>\n",
       "    </tr>\n",
       "    <tr>\n",
       "      <th>2</th>\n",
       "      <td>POSITIVO</td>\n",
       "      <td>edegar_prett fal import pov pobr precis mud va...</td>\n",
       "    </tr>\n",
       "    <tr>\n",
       "      <th>3</th>\n",
       "      <td>POSITIVO</td>\n",
       "      <td>vieira_cunh vieira_cunh melhor post melhor dis...</td>\n",
       "    </tr>\n",
       "    <tr>\n",
       "      <th>4</th>\n",
       "      <td>POSITIVO</td>\n",
       "      <td>#debatenabandr moment abert agor 3o bloc vieir...</td>\n",
       "    </tr>\n",
       "    <tr>\n",
       "      <th>...</th>\n",
       "      <td>...</td>\n",
       "      <td>...</td>\n",
       "    </tr>\n",
       "    <tr>\n",
       "      <th>212</th>\n",
       "      <td>NEGATIVO</td>\n",
       "      <td>eduardo_leit porqu pag pis salar profes rio_gr...</td>\n",
       "    </tr>\n",
       "    <tr>\n",
       "      <th>213</th>\n",
       "      <td>NEGATIVO</td>\n",
       "      <td>porqu tant candidat era mont seguint chap edg ...</td>\n",
       "    </tr>\n",
       "    <tr>\n",
       "      <th>214</th>\n",
       "      <td>NEGATIVO</td>\n",
       "      <td>\"bolsoleite\" hoj \"denunciando\" falt invest fed...</td>\n",
       "    </tr>\n",
       "    <tr>\n",
       "      <th>215</th>\n",
       "      <td>NEGATIVO</td>\n",
       "      <td>escolh sim onyx_lorenzon escolh mort aind deix...</td>\n",
       "    </tr>\n",
       "    <tr>\n",
       "      <th>216</th>\n",
       "      <td>NEGATIVO</td>\n",
       "      <td>vari tem aparec #debatenabandr agor candidat p...</td>\n",
       "    </tr>\n",
       "  </tbody>\n",
       "</table>\n",
       "<p>217 rows × 2 columns</p>\n",
       "</div>"
      ],
      "text/plain": [
       "            0                                                  1\n",
       "0    POSITIVO  debat aqu @twitterbrasil ta melhor la @bandr #...\n",
       "1    POSITIVO  edegar_prett firm defês patrimoni publ valoriz...\n",
       "2    POSITIVO  edegar_prett fal import pov pobr precis mud va...\n",
       "3    POSITIVO  vieira_cunh vieira_cunh melhor post melhor dis...\n",
       "4    POSITIVO  #debatenabandr moment abert agor 3o bloc vieir...\n",
       "..        ...                                                ...\n",
       "212  NEGATIVO  eduardo_leit porqu pag pis salar profes rio_gr...\n",
       "213  NEGATIVO  porqu tant candidat era mont seguint chap edg ...\n",
       "214  NEGATIVO  \"bolsoleite\" hoj \"denunciando\" falt invest fed...\n",
       "215  NEGATIVO  escolh sim onyx_lorenzon escolh mort aind deix...\n",
       "216  NEGATIVO  vari tem aparec #debatenabandr agor candidat p...\n",
       "\n",
       "[217 rows x 2 columns]"
      ]
     },
     "execution_count": 276,
     "metadata": {},
     "output_type": "execute_result"
    }
   ],
   "source": [
    "validacao = pd.read_excel(dataSet, sheet_name='VALIDACAO_15%')\n",
    "testes = pd.read_excel(dataSet, sheet_name='TESTE_15%')\n",
    "\n",
    "testes = pd.concat([validacao, testes])\n",
    "normaliza(testes)"
   ]
  },
  {
   "cell_type": "markdown",
   "metadata": {},
   "source": [
    "Bag of Words dataset de testes"
   ]
  },
  {
   "cell_type": "code",
   "execution_count": 277,
   "metadata": {},
   "outputs": [],
   "source": [
    "testes_tweets = testes[\"text\"].values\n",
    "testes_classificacao = testes[\"rotulo\"].values\n",
    "\n",
    "vec_testes = vectorizer.transform(testes_tweets)\n",
    "freq_testes= tfi.transform(vec_testes)"
   ]
  },
  {
   "cell_type": "markdown",
   "metadata": {},
   "source": [
    "#### **Palavras normalizadas mais frequentes no conjunto de Treino**"
   ]
  },
  {
   "cell_type": "code",
   "execution_count": 278,
   "metadata": {},
   "outputs": [
    {
     "data": {
      "text/html": [
       "<style type=\"text/css\">\n",
       "#T_75fc7_row0_col1 {\n",
       "  background-color: #08306b;\n",
       "  color: #f1f1f1;\n",
       "}\n",
       "#T_75fc7_row1_col1 {\n",
       "  background-color: #8dc1dd;\n",
       "  color: #000000;\n",
       "}\n",
       "#T_75fc7_row2_col1 {\n",
       "  background-color: #a9cfe5;\n",
       "  color: #000000;\n",
       "}\n",
       "#T_75fc7_row3_col1 {\n",
       "  background-color: #bfd8ed;\n",
       "  color: #000000;\n",
       "}\n",
       "#T_75fc7_row4_col1 {\n",
       "  background-color: #d3e3f3;\n",
       "  color: #000000;\n",
       "}\n",
       "#T_75fc7_row5_col1 {\n",
       "  background-color: #d6e5f4;\n",
       "  color: #000000;\n",
       "}\n",
       "#T_75fc7_row6_col1 {\n",
       "  background-color: #d7e6f5;\n",
       "  color: #000000;\n",
       "}\n",
       "#T_75fc7_row7_col1 {\n",
       "  background-color: #e8f1fa;\n",
       "  color: #000000;\n",
       "}\n",
       "#T_75fc7_row8_col1, #T_75fc7_row9_col1 {\n",
       "  background-color: #eaf3fb;\n",
       "  color: #000000;\n",
       "}\n",
       "#T_75fc7_row10_col1 {\n",
       "  background-color: #edf4fc;\n",
       "  color: #000000;\n",
       "}\n",
       "#T_75fc7_row11_col1 {\n",
       "  background-color: #eff6fc;\n",
       "  color: #000000;\n",
       "}\n",
       "#T_75fc7_row12_col1 {\n",
       "  background-color: #f2f7fd;\n",
       "  color: #000000;\n",
       "}\n",
       "#T_75fc7_row13_col1 {\n",
       "  background-color: #f4f9fe;\n",
       "  color: #000000;\n",
       "}\n",
       "#T_75fc7_row14_col1 {\n",
       "  background-color: #f5f9fe;\n",
       "  color: #000000;\n",
       "}\n",
       "#T_75fc7_row15_col1 {\n",
       "  background-color: #f5fafe;\n",
       "  color: #000000;\n",
       "}\n",
       "#T_75fc7_row16_col1, #T_75fc7_row17_col1, #T_75fc7_row18_col1, #T_75fc7_row19_col1 {\n",
       "  background-color: #f7fbff;\n",
       "  color: #000000;\n",
       "}\n",
       "</style>\n",
       "<table id=\"T_75fc7\">\n",
       "  <thead>\n",
       "    <tr>\n",
       "      <th class=\"blank level0\" >&nbsp;</th>\n",
       "      <th id=\"T_75fc7_level0_col0\" class=\"col_heading level0 col0\" >Mais Comentados</th>\n",
       "      <th id=\"T_75fc7_level0_col1\" class=\"col_heading level0 col1\" >Ocorrências</th>\n",
       "    </tr>\n",
       "  </thead>\n",
       "  <tbody>\n",
       "    <tr>\n",
       "      <th id=\"T_75fc7_level0_row0\" class=\"row_heading level0 row0\" >0</th>\n",
       "      <td id=\"T_75fc7_row0_col0\" class=\"data row0 col0\" >#debatenabandr</td>\n",
       "      <td id=\"T_75fc7_row0_col1\" class=\"data row0 col1\" >366</td>\n",
       "    </tr>\n",
       "    <tr>\n",
       "      <th id=\"T_75fc7_level0_row1\" class=\"row_heading level0 row1\" >1</th>\n",
       "      <td id=\"T_75fc7_row1_col0\" class=\"data row1 col0\" >edegar_prett</td>\n",
       "      <td id=\"T_75fc7_row1_col1\" class=\"data row1 col1\" >170</td>\n",
       "    </tr>\n",
       "    <tr>\n",
       "      <th id=\"T_75fc7_level0_row2\" class=\"row_heading level0 row2\" >2</th>\n",
       "      <td id=\"T_75fc7_row2_col0\" class=\"data row2 col0\" >eduardo_leit</td>\n",
       "      <td id=\"T_75fc7_row2_col1\" class=\"data row2 col1\" >146</td>\n",
       "    </tr>\n",
       "    <tr>\n",
       "      <th id=\"T_75fc7_level0_row3\" class=\"row_heading level0 row3\" >3</th>\n",
       "      <td id=\"T_75fc7_row3_col0\" class=\"data row3 col0\" >govern</td>\n",
       "      <td id=\"T_75fc7_row3_col1\" class=\"data row3 col1\" >122</td>\n",
       "    </tr>\n",
       "    <tr>\n",
       "      <th id=\"T_75fc7_level0_row4\" class=\"row_heading level0 row4\" >4</th>\n",
       "      <td id=\"T_75fc7_row4_col0\" class=\"data row4 col0\" >onyx_lorenzon</td>\n",
       "      <td id=\"T_75fc7_row4_col1\" class=\"data row4 col1\" >93</td>\n",
       "    </tr>\n",
       "    <tr>\n",
       "      <th id=\"T_75fc7_level0_row5\" class=\"row_heading level0 row5\" >5</th>\n",
       "      <td id=\"T_75fc7_row5_col0\" class=\"data row5 col0\" >rio_grande_do_sul</td>\n",
       "      <td id=\"T_75fc7_row5_col1\" class=\"data row5 col1\" >88</td>\n",
       "    </tr>\n",
       "    <tr>\n",
       "      <th id=\"T_75fc7_level0_row6\" class=\"row_heading level0 row6\" >6</th>\n",
       "      <td id=\"T_75fc7_row6_col0\" class=\"data row6 col0\" >#lulaolivioprettoru</td>\n",
       "      <td id=\"T_75fc7_row6_col1\" class=\"data row6 col1\" >85</td>\n",
       "    </tr>\n",
       "    <tr>\n",
       "      <th id=\"T_75fc7_level0_row7\" class=\"row_heading level0 row7\" >7</th>\n",
       "      <td id=\"T_75fc7_row7_col0\" class=\"data row7 col0\" >candidat</td>\n",
       "      <td id=\"T_75fc7_row7_col1\" class=\"data row7 col1\" >57</td>\n",
       "    </tr>\n",
       "    <tr>\n",
       "      <th id=\"T_75fc7_level0_row8\" class=\"row_heading level0 row8\" >8</th>\n",
       "      <td id=\"T_75fc7_row8_col0\" class=\"data row8 col0\" >debat</td>\n",
       "      <td id=\"T_75fc7_row8_col1\" class=\"data row8 col1\" >53</td>\n",
       "    </tr>\n",
       "    <tr>\n",
       "      <th id=\"T_75fc7_level0_row9\" class=\"row_heading level0 row9\" >9</th>\n",
       "      <td id=\"T_75fc7_row9_col0\" class=\"data row9 col0\" >fal</td>\n",
       "      <td id=\"T_75fc7_row9_col1\" class=\"data row9 col1\" >53</td>\n",
       "    </tr>\n",
       "    <tr>\n",
       "      <th id=\"T_75fc7_level0_row10\" class=\"row_heading level0 row10\" >10</th>\n",
       "      <td id=\"T_75fc7_row10_col0\" class=\"data row10 col0\" >est</td>\n",
       "      <td id=\"T_75fc7_row10_col1\" class=\"data row10 col1\" >49</td>\n",
       "    </tr>\n",
       "    <tr>\n",
       "      <th id=\"T_75fc7_level0_row11\" class=\"row_heading level0 row11\" >11</th>\n",
       "      <td id=\"T_75fc7_row11_col0\" class=\"data row11 col0\" >vieira_cunh</td>\n",
       "      <td id=\"T_75fc7_row11_col1\" class=\"data row11 col1\" >45</td>\n",
       "    </tr>\n",
       "    <tr>\n",
       "      <th id=\"T_75fc7_level0_row12\" class=\"row_heading level0 row12\" >12</th>\n",
       "      <td id=\"T_75fc7_row12_col0\" class=\"data row12 col0\" >gauch</td>\n",
       "      <td id=\"T_75fc7_row12_col1\" class=\"data row12 col1\" >41</td>\n",
       "    </tr>\n",
       "    <tr>\n",
       "      <th id=\"T_75fc7_level0_row13\" class=\"row_heading level0 row13\" >13</th>\n",
       "      <td id=\"T_75fc7_row13_col0\" class=\"data row13 col0\" >jair_bolsonar</td>\n",
       "      <td id=\"T_75fc7_row13_col1\" class=\"data row13 col1\" >37</td>\n",
       "    </tr>\n",
       "    <tr>\n",
       "      <th id=\"T_75fc7_level0_row14\" class=\"row_heading level0 row14\" >14</th>\n",
       "      <td id=\"T_75fc7_row14_col0\" class=\"data row14 col0\" >heinz</td>\n",
       "      <td id=\"T_75fc7_row14_col1\" class=\"data row14 col1\" >36</td>\n",
       "    </tr>\n",
       "    <tr>\n",
       "      <th id=\"T_75fc7_level0_row15\" class=\"row_heading level0 row15\" >15</th>\n",
       "      <td id=\"T_75fc7_row15_col0\" class=\"data row15 col0\" >lul</td>\n",
       "      <td id=\"T_75fc7_row15_col1\" class=\"data row15 col1\" >34</td>\n",
       "    </tr>\n",
       "    <tr>\n",
       "      <th id=\"T_75fc7_level0_row16\" class=\"row_heading level0 row16\" >16</th>\n",
       "      <td id=\"T_75fc7_row16_col0\" class=\"data row16 col0\" >faz</td>\n",
       "      <td id=\"T_75fc7_row16_col1\" class=\"data row16 col1\" >32</td>\n",
       "    </tr>\n",
       "    <tr>\n",
       "      <th id=\"T_75fc7_level0_row17\" class=\"row_heading level0 row17\" >17</th>\n",
       "      <td id=\"T_75fc7_row17_col0\" class=\"data row17 col0\" >rio_grand</td>\n",
       "      <td id=\"T_75fc7_row17_col1\" class=\"data row17 col1\" >31</td>\n",
       "    </tr>\n",
       "    <tr>\n",
       "      <th id=\"T_75fc7_level0_row18\" class=\"row_heading level0 row18\" >18</th>\n",
       "      <td id=\"T_75fc7_row18_col0\" class=\"data row18 col0\" >#uniaobrasilr</td>\n",
       "      <td id=\"T_75fc7_row18_col1\" class=\"data row18 col1\" >31</td>\n",
       "    </tr>\n",
       "    <tr>\n",
       "      <th id=\"T_75fc7_level0_row19\" class=\"row_heading level0 row19\" >19</th>\n",
       "      <td id=\"T_75fc7_row19_col0\" class=\"data row19 col0\" >#lulaolivioedegarru</td>\n",
       "      <td id=\"T_75fc7_row19_col1\" class=\"data row19 col1\" >31</td>\n",
       "    </tr>\n",
       "  </tbody>\n",
       "</table>\n"
      ],
      "text/plain": [
       "<pandas.io.formats.style.Styler at 0x266a1a43f40>"
      ]
     },
     "execution_count": 278,
     "metadata": {},
     "output_type": "execute_result"
    }
   ],
   "source": [
    "from collections import Counter\n",
    "\n",
    "normaliza(treino)\n",
    "treino['temp_list'] = treino['text'].apply(lambda x:str(x).split())\n",
    "top = Counter([item for sublist in treino['temp_list'] for item in sublist])\n",
    "temp = pd.DataFrame(top.most_common(20))\n",
    "temp.columns = ['Mais Comentados','Ocorrências']\n",
    "temp.style.background_gradient(cmap='Blues')"
   ]
  },
  {
   "cell_type": "markdown",
   "metadata": {},
   "source": [
    "#### **Palavras normalizadas mais frequentes no conjunto de Teste**"
   ]
  },
  {
   "cell_type": "code",
   "execution_count": 279,
   "metadata": {},
   "outputs": [
    {
     "data": {
      "text/html": [
       "<style type=\"text/css\">\n",
       "#T_2958e_row0_col1 {\n",
       "  background-color: #00441b;\n",
       "  color: #f1f1f1;\n",
       "}\n",
       "#T_2958e_row1_col1, #T_2958e_row2_col1 {\n",
       "  background-color: #a8dca2;\n",
       "  color: #000000;\n",
       "}\n",
       "#T_2958e_row3_col1 {\n",
       "  background-color: #c8e9c1;\n",
       "  color: #000000;\n",
       "}\n",
       "#T_2958e_row4_col1 {\n",
       "  background-color: #ddf2d8;\n",
       "  color: #000000;\n",
       "}\n",
       "#T_2958e_row5_col1 {\n",
       "  background-color: #dff3da;\n",
       "  color: #000000;\n",
       "}\n",
       "#T_2958e_row6_col1 {\n",
       "  background-color: #e8f6e4;\n",
       "  color: #000000;\n",
       "}\n",
       "#T_2958e_row7_col1 {\n",
       "  background-color: #ebf7e7;\n",
       "  color: #000000;\n",
       "}\n",
       "#T_2958e_row8_col1 {\n",
       "  background-color: #f0f9ed;\n",
       "  color: #000000;\n",
       "}\n",
       "#T_2958e_row9_col1, #T_2958e_row10_col1, #T_2958e_row11_col1 {\n",
       "  background-color: #f1faee;\n",
       "  color: #000000;\n",
       "}\n",
       "#T_2958e_row12_col1 {\n",
       "  background-color: #f2faf0;\n",
       "  color: #000000;\n",
       "}\n",
       "#T_2958e_row13_col1 {\n",
       "  background-color: #f3faf0;\n",
       "  color: #000000;\n",
       "}\n",
       "#T_2958e_row14_col1, #T_2958e_row15_col1, #T_2958e_row16_col1, #T_2958e_row17_col1 {\n",
       "  background-color: #f6fcf4;\n",
       "  color: #000000;\n",
       "}\n",
       "#T_2958e_row18_col1, #T_2958e_row19_col1 {\n",
       "  background-color: #f7fcf5;\n",
       "  color: #000000;\n",
       "}\n",
       "</style>\n",
       "<table id=\"T_2958e\">\n",
       "  <thead>\n",
       "    <tr>\n",
       "      <th class=\"blank level0\" >&nbsp;</th>\n",
       "      <th id=\"T_2958e_level0_col0\" class=\"col_heading level0 col0\" >Mais Comentados</th>\n",
       "      <th id=\"T_2958e_level0_col1\" class=\"col_heading level0 col1\" >Ocorrências</th>\n",
       "    </tr>\n",
       "  </thead>\n",
       "  <tbody>\n",
       "    <tr>\n",
       "      <th id=\"T_2958e_level0_row0\" class=\"row_heading level0 row0\" >0</th>\n",
       "      <td id=\"T_2958e_row0_col0\" class=\"data row0 col0\" >#debatenabandr</td>\n",
       "      <td id=\"T_2958e_row0_col1\" class=\"data row0 col1\" >160</td>\n",
       "    </tr>\n",
       "    <tr>\n",
       "      <th id=\"T_2958e_level0_row1\" class=\"row_heading level0 row1\" >1</th>\n",
       "      <td id=\"T_2958e_row1_col0\" class=\"data row1 col0\" >edegar_prett</td>\n",
       "      <td id=\"T_2958e_row1_col1\" class=\"data row1 col1\" >66</td>\n",
       "    </tr>\n",
       "    <tr>\n",
       "      <th id=\"T_2958e_level0_row2\" class=\"row_heading level0 row2\" >2</th>\n",
       "      <td id=\"T_2958e_row2_col0\" class=\"data row2 col0\" >eduardo_leit</td>\n",
       "      <td id=\"T_2958e_row2_col1\" class=\"data row2 col1\" >66</td>\n",
       "    </tr>\n",
       "    <tr>\n",
       "      <th id=\"T_2958e_level0_row3\" class=\"row_heading level0 row3\" >3</th>\n",
       "      <td id=\"T_2958e_row3_col0\" class=\"data row3 col0\" >govern</td>\n",
       "      <td id=\"T_2958e_row3_col1\" class=\"data row3 col1\" >51</td>\n",
       "    </tr>\n",
       "    <tr>\n",
       "      <th id=\"T_2958e_level0_row4\" class=\"row_heading level0 row4\" >4</th>\n",
       "      <td id=\"T_2958e_row4_col0\" class=\"data row4 col0\" >onyx_lorenzon</td>\n",
       "      <td id=\"T_2958e_row4_col1\" class=\"data row4 col1\" >38</td>\n",
       "    </tr>\n",
       "    <tr>\n",
       "      <th id=\"T_2958e_level0_row5\" class=\"row_heading level0 row5\" >5</th>\n",
       "      <td id=\"T_2958e_row5_col0\" class=\"data row5 col0\" >#lulaolivioprettoru</td>\n",
       "      <td id=\"T_2958e_row5_col1\" class=\"data row5 col1\" >37</td>\n",
       "    </tr>\n",
       "    <tr>\n",
       "      <th id=\"T_2958e_level0_row6\" class=\"row_heading level0 row6\" >6</th>\n",
       "      <td id=\"T_2958e_row6_col0\" class=\"data row6 col0\" >fal</td>\n",
       "      <td id=\"T_2958e_row6_col1\" class=\"data row6 col1\" >30</td>\n",
       "    </tr>\n",
       "    <tr>\n",
       "      <th id=\"T_2958e_level0_row7\" class=\"row_heading level0 row7\" >7</th>\n",
       "      <td id=\"T_2958e_row7_col0\" class=\"data row7 col0\" >candidat</td>\n",
       "      <td id=\"T_2958e_row7_col1\" class=\"data row7 col1\" >28</td>\n",
       "    </tr>\n",
       "    <tr>\n",
       "      <th id=\"T_2958e_level0_row8\" class=\"row_heading level0 row8\" >8</th>\n",
       "      <td id=\"T_2958e_row8_col0\" class=\"data row8 col0\" >rio_grande_do_sul</td>\n",
       "      <td id=\"T_2958e_row8_col1\" class=\"data row8 col1\" >22</td>\n",
       "    </tr>\n",
       "    <tr>\n",
       "      <th id=\"T_2958e_level0_row9\" class=\"row_heading level0 row9\" >9</th>\n",
       "      <td id=\"T_2958e_row9_col0\" class=\"data row9 col0\" >debat</td>\n",
       "      <td id=\"T_2958e_row9_col1\" class=\"data row9 col1\" >21</td>\n",
       "    </tr>\n",
       "    <tr>\n",
       "      <th id=\"T_2958e_level0_row10\" class=\"row_heading level0 row10\" >10</th>\n",
       "      <td id=\"T_2958e_row10_col0\" class=\"data row10 col0\" >vieira_cunh</td>\n",
       "      <td id=\"T_2958e_row10_col1\" class=\"data row10 col1\" >21</td>\n",
       "    </tr>\n",
       "    <tr>\n",
       "      <th id=\"T_2958e_level0_row11\" class=\"row_heading level0 row11\" >11</th>\n",
       "      <td id=\"T_2958e_row11_col0\" class=\"data row11 col0\" >heinz</td>\n",
       "      <td id=\"T_2958e_row11_col1\" class=\"data row11 col1\" >21</td>\n",
       "    </tr>\n",
       "    <tr>\n",
       "      <th id=\"T_2958e_level0_row12\" class=\"row_heading level0 row12\" >12</th>\n",
       "      <td id=\"T_2958e_row12_col0\" class=\"data row12 col0\" >@bandr</td>\n",
       "      <td id=\"T_2958e_row12_col1\" class=\"data row12 col1\" >20</td>\n",
       "    </tr>\n",
       "    <tr>\n",
       "      <th id=\"T_2958e_level0_row13\" class=\"row_heading level0 row13\" >13</th>\n",
       "      <td id=\"T_2958e_row13_col0\" class=\"data row13 col0\" >gauch</td>\n",
       "      <td id=\"T_2958e_row13_col1\" class=\"data row13 col1\" >19</td>\n",
       "    </tr>\n",
       "    <tr>\n",
       "      <th id=\"T_2958e_level0_row14\" class=\"row_heading level0 row14\" >14</th>\n",
       "      <td id=\"T_2958e_row14_col0\" class=\"data row14 col0\" >ta</td>\n",
       "      <td id=\"T_2958e_row14_col1\" class=\"data row14 col1\" >16</td>\n",
       "    </tr>\n",
       "    <tr>\n",
       "      <th id=\"T_2958e_level0_row15\" class=\"row_heading level0 row15\" >15</th>\n",
       "      <td id=\"T_2958e_row15_col0\" class=\"data row15 col0\" >melhor</td>\n",
       "      <td id=\"T_2958e_row15_col1\" class=\"data row15 col1\" >16</td>\n",
       "    </tr>\n",
       "    <tr>\n",
       "      <th id=\"T_2958e_level0_row16\" class=\"row_heading level0 row16\" >16</th>\n",
       "      <td id=\"T_2958e_row16_col0\" class=\"data row16 col0\" >pov</td>\n",
       "      <td id=\"T_2958e_row16_col1\" class=\"data row16 col1\" >16</td>\n",
       "    </tr>\n",
       "    <tr>\n",
       "      <th id=\"T_2958e_level0_row17\" class=\"row_heading level0 row17\" >17</th>\n",
       "      <td id=\"T_2958e_row17_col0\" class=\"data row17 col0\" >vai</td>\n",
       "      <td id=\"T_2958e_row17_col1\" class=\"data row17 col1\" >16</td>\n",
       "    </tr>\n",
       "    <tr>\n",
       "      <th id=\"T_2958e_level0_row18\" class=\"row_heading level0 row18\" >18</th>\n",
       "      <td id=\"T_2958e_row18_col0\" class=\"data row18 col0\" >educac</td>\n",
       "      <td id=\"T_2958e_row18_col1\" class=\"data row18 col1\" >15</td>\n",
       "    </tr>\n",
       "    <tr>\n",
       "      <th id=\"T_2958e_level0_row19\" class=\"row_heading level0 row19\" >19</th>\n",
       "      <td id=\"T_2958e_row19_col0\" class=\"data row19 col0\" >#uniaobrasilr</td>\n",
       "      <td id=\"T_2958e_row19_col1\" class=\"data row19 col1\" >15</td>\n",
       "    </tr>\n",
       "  </tbody>\n",
       "</table>\n"
      ],
      "text/plain": [
       "<pandas.io.formats.style.Styler at 0x266a24af8e0>"
      ]
     },
     "execution_count": 279,
     "metadata": {},
     "output_type": "execute_result"
    }
   ],
   "source": [
    "from collections import Counter\n",
    "\n",
    "normaliza(testes)\n",
    "testes['temp_list'] = testes['text'].apply(lambda x:str(x).split())\n",
    "top = Counter([item for sublist in testes['temp_list'] for item in sublist])\n",
    "temp = pd.DataFrame(top.most_common(20))\n",
    "temp.columns = ['Mais Comentados','Ocorrências']\n",
    "temp.style.background_gradient(cmap='Greens')"
   ]
  },
  {
   "cell_type": "markdown",
   "metadata": {},
   "source": [
    "___\n",
    "### **Biblioteca de métricas e cross-validation:**\n",
    "O *cross_val_predict* permite obter as predições do modelo ao invés de apenas as métricas finais. \n",
    "Neste caso, cada predição será obtida para o conjunto de teste de cada uma das partições. Em outras palavras, se cv=10, por exemplo, \n",
    "o modelo vai ser treinado para 9 partições e validado em 1, que gera as predições. Ao final das 10 execuções, os resultados são \n",
    "concatenados e retornados.\n",
    "\n",
    "Desta forma, o *cross_val_predict* possibilita que realizemos a validação do treino com o próprio particionamento do treino, sem necessidade de um *dataset* de validação.\n",
    "\n",
    "Além disso, também está estão sendo mostrados nas células abaixo o conjunto de métricas (precision, recall, f1-score, acurácia) utilizando a predição feita dos modelos, a partir do *dataset* de testes, com os *datasets* de testes e de validação."
   ]
  },
  {
   "cell_type": "code",
   "execution_count": 280,
   "metadata": {},
   "outputs": [],
   "source": [
    "from sklearn import metrics\n",
    "from sklearn.model_selection import cross_val_predict\n",
    "import re"
   ]
  },
  {
   "cell_type": "markdown",
   "metadata": {},
   "source": [
    "### **Estrutura de código dos algoritmos**\n",
    "- Inicializar o modelo.\n",
    "- Adicionar os tweets frequentes e a classificação do modelo na partição de teste.\n",
    "- Executa a classificação na partição de testes.\n",
    "- Realiza o cross validation.\n",
    "- Calcula a acurácia do modelo.\n",
    "- Informa os resultados."
   ]
  },
  {
   "cell_type": "markdown",
   "metadata": {},
   "source": [
    "___\n",
    "### **Algoritmo Multinomial Naive Bayes:**"
   ]
  },
  {
   "cell_type": "markdown",
   "metadata": {},
   "source": [
    "O algoritmo Naive Bayes é um algoritmo de aprendizado supervisionado, que funciona a partir da aplicação do Teorema de Bayes com uma abordagem \"ingênua\" do algoritmo, assumindo uma condição de independência entre cada par de funcionalidades dado o valor de uma classe pré-definida. Em outras palavras, o algoritmo tenta prever a probabilidade de cada evento ocorrer sem levar em consideração a relação entre cada uma das variáveis, como por exemplo, se uma determinada fruta é considerada como \"Bergamota\", possuindo a cor \"Laranja\", formato \"Redondo\", o algoritmo não levará em consideração a destas características da fruta.\n",
    "\n",
    "O Teorema de Bayes, funciona a partir da seguinte fórmula:\n",
    "\n",
    "<center><img src=\"resources/assets/formula_bayes.png\" width=\"300\" height=\"150px\"></center>\n",
    "<center>Figura 1 - Fórmula do Teorema de Bayes</center>\n",
    "\n",
    "\n",
    "Na qual **P(B|A)** representa a probabilidade *a posteriori* de uma hipótese dado se uma evidência é verdadeira, **P(B|A)** a probabilidade de uma evidência dado que a hipótese é verdadeira, P(H) a probabilidade *a priori* da hipótese e **P(E)** a probabilidade a priori de que a evidência ser verdadeira.\n",
    "\n",
    "A abordagem Multinomial do Algoritmo Naive Bayes utiliza os dados por meio da distribuição multinomial, que é uma generelização da binomial, que consiste em determinar a probabilidade de certa ocorrência acontecer dentro de um evento com sistema fechado, porém com mais de dois possíveis resultados. Esta distribuição é parametrizada por vetores **θyi = θyin**, em que **θyi** é a probabilidade do evento **i** ocorrer fazendo parte dado que a classe é **Y**, e **n** o número de variáveis.\n",
    "\n",
    "<center><img src=\"resources/assets/formula_mnb.png\" width=\"300px\" height=\"150px\"></center>\n",
    "<center>Figura 2 - Fórmula da implementação do algoritmo Multinomial Naive Bayes</center>\n",
    "\n",
    "O parâmetro **θy** representa uma observação, onde **Nyi** é o número de vezes que a variável **xi** aparece no conjunto de treinamento, **Ny** é o número de observações com classe **y**, **n** é o número de variáveis e alfa é uma constante que contabiliza os recursos que não estão presentes nas amostras de aprendizado e podendo impedir que haja probabilidade igual a 0."
   ]
  },
  {
   "cell_type": "code",
   "execution_count": 281,
   "metadata": {},
   "outputs": [
    {
     "data": {
      "text/html": [
       "<div>\n",
       "<style scoped>\n",
       "    .dataframe tbody tr th:only-of-type {\n",
       "        vertical-align: middle;\n",
       "    }\n",
       "\n",
       "    .dataframe tbody tr th {\n",
       "        vertical-align: top;\n",
       "    }\n",
       "\n",
       "    .dataframe thead th {\n",
       "        text-align: right;\n",
       "    }\n",
       "</style>\n",
       "<table border=\"1\" class=\"dataframe\">\n",
       "  <thead>\n",
       "    <tr style=\"text-align: right;\">\n",
       "      <th></th>\n",
       "      <th>Tweets</th>\n",
       "      <th>Rótulos obtidos</th>\n",
       "      <th>Rótulos esperados</th>\n",
       "    </tr>\n",
       "  </thead>\n",
       "  <tbody>\n",
       "    <tr>\n",
       "      <th>0</th>\n",
       "      <td>debat aqu @twitterbrasil ta melhor la @bandr #...</td>\n",
       "      <td>POSITIVO</td>\n",
       "      <td>POSITIVO</td>\n",
       "    </tr>\n",
       "    <tr>\n",
       "      <th>1</th>\n",
       "      <td>edegar_prett firm def patrimon publ valorizac ...</td>\n",
       "      <td>POSITIVO</td>\n",
       "      <td>POSITIVO</td>\n",
       "    </tr>\n",
       "    <tr>\n",
       "      <th>2</th>\n",
       "      <td>edegar_prett fal import pov pobr precil mud va...</td>\n",
       "      <td>POSITIVO</td>\n",
       "      <td>POSITIVO</td>\n",
       "    </tr>\n",
       "    <tr>\n",
       "      <th>3</th>\n",
       "      <td>vieira_cunh vieira_cunh melhor post melhor dis...</td>\n",
       "      <td>POSITIVO</td>\n",
       "      <td>POSITIVO</td>\n",
       "    </tr>\n",
       "    <tr>\n",
       "      <th>4</th>\n",
       "      <td>#debatenabandr moment abert ag 3o bloc vieira_...</td>\n",
       "      <td>NEGATIVO</td>\n",
       "      <td>POSITIVO</td>\n",
       "    </tr>\n",
       "    <tr>\n",
       "      <th>...</th>\n",
       "      <td>...</td>\n",
       "      <td>...</td>\n",
       "      <td>...</td>\n",
       "    </tr>\n",
       "    <tr>\n",
       "      <th>212</th>\n",
       "      <td>eduardo_leit porqu pag pi sal prof rio_grande_...</td>\n",
       "      <td>NEGATIVO</td>\n",
       "      <td>NEGATIVO</td>\n",
       "    </tr>\n",
       "    <tr>\n",
       "      <th>213</th>\n",
       "      <td>porqu tant candidat mont seguint chap edg viei...</td>\n",
       "      <td>NEGATIVO</td>\n",
       "      <td>NEGATIVO</td>\n",
       "    </tr>\n",
       "    <tr>\n",
       "      <th>214</th>\n",
       "      <td>\"bolsoleite\" hoj \"denunciando\" falt invest fed...</td>\n",
       "      <td>NEGATIVO</td>\n",
       "      <td>NEGATIVO</td>\n",
       "    </tr>\n",
       "    <tr>\n",
       "      <th>215</th>\n",
       "      <td>escolh sim onyx_lorenzon escolh mort aind deix...</td>\n",
       "      <td>NEGATIVO</td>\n",
       "      <td>NEGATIVO</td>\n",
       "    </tr>\n",
       "    <tr>\n",
       "      <th>216</th>\n",
       "      <td>var aparec #debatenabandr ag candidat part nov...</td>\n",
       "      <td>POSITIVO</td>\n",
       "      <td>NEGATIVO</td>\n",
       "    </tr>\n",
       "  </tbody>\n",
       "</table>\n",
       "<p>217 rows × 3 columns</p>\n",
       "</div>"
      ],
      "text/plain": [
       "                                                Tweets Rótulos obtidos  \\\n",
       "0    debat aqu @twitterbrasil ta melhor la @bandr #...        POSITIVO   \n",
       "1    edegar_prett firm def patrimon publ valorizac ...        POSITIVO   \n",
       "2    edegar_prett fal import pov pobr precil mud va...        POSITIVO   \n",
       "3    vieira_cunh vieira_cunh melhor post melhor dis...        POSITIVO   \n",
       "4    #debatenabandr moment abert ag 3o bloc vieira_...        NEGATIVO   \n",
       "..                                                 ...             ...   \n",
       "212  eduardo_leit porqu pag pi sal prof rio_grande_...        NEGATIVO   \n",
       "213  porqu tant candidat mont seguint chap edg viei...        NEGATIVO   \n",
       "214  \"bolsoleite\" hoj \"denunciando\" falt invest fed...        NEGATIVO   \n",
       "215  escolh sim onyx_lorenzon escolh mort aind deix...        NEGATIVO   \n",
       "216  var aparec #debatenabandr ag candidat part nov...        POSITIVO   \n",
       "\n",
       "    Rótulos esperados  \n",
       "0            POSITIVO  \n",
       "1            POSITIVO  \n",
       "2            POSITIVO  \n",
       "3            POSITIVO  \n",
       "4            POSITIVO  \n",
       "..                ...  \n",
       "212          NEGATIVO  \n",
       "213          NEGATIVO  \n",
       "214          NEGATIVO  \n",
       "215          NEGATIVO  \n",
       "216          NEGATIVO  \n",
       "\n",
       "[217 rows x 3 columns]"
      ]
     },
     "execution_count": 281,
     "metadata": {},
     "output_type": "execute_result"
    }
   ],
   "source": [
    "from sklearn.naive_bayes import MultinomialNB\n",
    "#pd.set_option('display.max_rows', 10) #printa todas as linhas\n",
    "\n",
    "modeloNB = MultinomialNB()\n",
    "modeloNB.fit(freq_treino, treino_classificacao)\n",
    "\n",
    "predicaoNB = modeloNB.predict(freq_testes)\n",
    "\n",
    "df_resultados = pd.DataFrame(data = { \"Tweets\": testes_tweets, \"Rótulos obtidos\": predicaoNB, \"Rótulos esperados\": testes_classificacao })\n",
    "df_resultados"
   ]
  },
  {
   "cell_type": "markdown",
   "metadata": {},
   "source": [
    "##### *Análise dos resultados obtidos com o NB*\n",
    "Métricas utilizando cross-validation com o *dataset* de treino:"
   ]
  },
  {
   "cell_type": "code",
   "execution_count": 282,
   "metadata": {},
   "outputs": [
    {
     "name": "stdout",
     "output_type": "stream",
     "text": [
      "              precision    recall  f1-score   support\n",
      "\n",
      "    POSITIVO       0.86      0.72      0.79       248\n",
      "    NEGATIVO       0.76      0.89      0.82       248\n",
      "\n",
      "    accuracy                           0.80       496\n",
      "   macro avg       0.81      0.80      0.80       496\n",
      "weighted avg       0.81      0.80      0.80       496\n",
      "\n"
     ]
    }
   ],
   "source": [
    "resultados = cross_val_predict(modeloNB, freq_treino, treino_classificacao, cv = 10)\n",
    "print(metrics.classification_report(treino_classificacao, resultados, target_names=['POSITIVO', 'NEGATIVO']))"
   ]
  },
  {
   "cell_type": "markdown",
   "metadata": {},
   "source": [
    "Métricas entre a predição do modelo, com o *dataset* de testes, e os rótulos de testes."
   ]
  },
  {
   "cell_type": "code",
   "execution_count": 283,
   "metadata": {},
   "outputs": [
    {
     "name": "stdout",
     "output_type": "stream",
     "text": [
      "              precision    recall  f1-score   support\n",
      "\n",
      "    POSITIVO       0.89      0.74      0.81       110\n",
      "    NEGATIVO       0.77      0.91      0.83       107\n",
      "\n",
      "    accuracy                           0.82       217\n",
      "   macro avg       0.83      0.82      0.82       217\n",
      "weighted avg       0.83      0.82      0.82       217\n",
      "\n"
     ]
    }
   ],
   "source": [
    "predicaoNB = modeloNB.predict(freq_testes)\n",
    "print(metrics.classification_report(testes_classificacao, predicaoNB, target_names=['POSITIVO', 'NEGATIVO']))"
   ]
  },
  {
   "cell_type": "markdown",
   "metadata": {},
   "source": [
    "___\n",
    "### **Algoritmo Logistic Regression:**"
   ]
  },
  {
   "cell_type": "markdown",
   "metadata": {},
   "source": [
    "O algoritmo da regressão logística é utilizado para prever o valor de uma variável com base no valor de outra. A variável utilizada para prever o valor é denominada de variável dependente, enquanto que a variável que deseja-se prever é a variável dependente, vale ressaltar que no caso da regressão logística, a variável dependente é de natureza binária.\n",
    "\n",
    "Na análise da regressão logística, são estimados valores dos parâmetros de um modelo logístico, na qual os valores dependentes serão 0 e 1, enquanto os valores independentes podem ser também binários ou viriáveis contínuas. \n",
    "\n",
    "Na implementação do *sklearn*, utilizamos o parâmetro *C* é utilizado para aplicar uma penalidade a magnitude crescente dos valores independentes, visando reduzir o *overfit* do modelo, já o parâmetro *solver* é utilizado para melhorar o funcionamento do algoritmo, utilizando funções matemáticas sucessivamente para minimizar a diferença entre os valores esperados e previstos. \n",
    "\n",
    "\n"
   ]
  },
  {
   "cell_type": "code",
   "execution_count": 284,
   "metadata": {},
   "outputs": [
    {
     "data": {
      "text/html": [
       "<div>\n",
       "<style scoped>\n",
       "    .dataframe tbody tr th:only-of-type {\n",
       "        vertical-align: middle;\n",
       "    }\n",
       "\n",
       "    .dataframe tbody tr th {\n",
       "        vertical-align: top;\n",
       "    }\n",
       "\n",
       "    .dataframe thead th {\n",
       "        text-align: right;\n",
       "    }\n",
       "</style>\n",
       "<table border=\"1\" class=\"dataframe\">\n",
       "  <thead>\n",
       "    <tr style=\"text-align: right;\">\n",
       "      <th></th>\n",
       "      <th>Tweets</th>\n",
       "      <th>Rótulos obtidos</th>\n",
       "      <th>Rótulos esperados</th>\n",
       "    </tr>\n",
       "  </thead>\n",
       "  <tbody>\n",
       "    <tr>\n",
       "      <th>0</th>\n",
       "      <td>debat aqu @twitterbrasil ta melhor la @bandr #...</td>\n",
       "      <td>POSITIVO</td>\n",
       "      <td>POSITIVO</td>\n",
       "    </tr>\n",
       "    <tr>\n",
       "      <th>1</th>\n",
       "      <td>edegar_prett firm def patrimon publ valorizac ...</td>\n",
       "      <td>POSITIVO</td>\n",
       "      <td>POSITIVO</td>\n",
       "    </tr>\n",
       "    <tr>\n",
       "      <th>2</th>\n",
       "      <td>edegar_prett fal import pov pobr precil mud va...</td>\n",
       "      <td>POSITIVO</td>\n",
       "      <td>POSITIVO</td>\n",
       "    </tr>\n",
       "    <tr>\n",
       "      <th>3</th>\n",
       "      <td>vieira_cunh vieira_cunh melhor post melhor dis...</td>\n",
       "      <td>POSITIVO</td>\n",
       "      <td>POSITIVO</td>\n",
       "    </tr>\n",
       "    <tr>\n",
       "      <th>4</th>\n",
       "      <td>#debatenabandr moment abert ag 3o bloc vieira_...</td>\n",
       "      <td>NEGATIVO</td>\n",
       "      <td>POSITIVO</td>\n",
       "    </tr>\n",
       "    <tr>\n",
       "      <th>...</th>\n",
       "      <td>...</td>\n",
       "      <td>...</td>\n",
       "      <td>...</td>\n",
       "    </tr>\n",
       "    <tr>\n",
       "      <th>212</th>\n",
       "      <td>eduardo_leit porqu pag pi sal prof rio_grande_...</td>\n",
       "      <td>NEGATIVO</td>\n",
       "      <td>NEGATIVO</td>\n",
       "    </tr>\n",
       "    <tr>\n",
       "      <th>213</th>\n",
       "      <td>porqu tant candidat mont seguint chap edg viei...</td>\n",
       "      <td>NEGATIVO</td>\n",
       "      <td>NEGATIVO</td>\n",
       "    </tr>\n",
       "    <tr>\n",
       "      <th>214</th>\n",
       "      <td>\"bolsoleite\" hoj \"denunciando\" falt invest fed...</td>\n",
       "      <td>NEGATIVO</td>\n",
       "      <td>NEGATIVO</td>\n",
       "    </tr>\n",
       "    <tr>\n",
       "      <th>215</th>\n",
       "      <td>escolh sim onyx_lorenzon escolh mort aind deix...</td>\n",
       "      <td>NEGATIVO</td>\n",
       "      <td>NEGATIVO</td>\n",
       "    </tr>\n",
       "    <tr>\n",
       "      <th>216</th>\n",
       "      <td>var aparec #debatenabandr ag candidat part nov...</td>\n",
       "      <td>NEGATIVO</td>\n",
       "      <td>NEGATIVO</td>\n",
       "    </tr>\n",
       "  </tbody>\n",
       "</table>\n",
       "<p>217 rows × 3 columns</p>\n",
       "</div>"
      ],
      "text/plain": [
       "                                                Tweets Rótulos obtidos  \\\n",
       "0    debat aqu @twitterbrasil ta melhor la @bandr #...        POSITIVO   \n",
       "1    edegar_prett firm def patrimon publ valorizac ...        POSITIVO   \n",
       "2    edegar_prett fal import pov pobr precil mud va...        POSITIVO   \n",
       "3    vieira_cunh vieira_cunh melhor post melhor dis...        POSITIVO   \n",
       "4    #debatenabandr moment abert ag 3o bloc vieira_...        NEGATIVO   \n",
       "..                                                 ...             ...   \n",
       "212  eduardo_leit porqu pag pi sal prof rio_grande_...        NEGATIVO   \n",
       "213  porqu tant candidat mont seguint chap edg viei...        NEGATIVO   \n",
       "214  \"bolsoleite\" hoj \"denunciando\" falt invest fed...        NEGATIVO   \n",
       "215  escolh sim onyx_lorenzon escolh mort aind deix...        NEGATIVO   \n",
       "216  var aparec #debatenabandr ag candidat part nov...        NEGATIVO   \n",
       "\n",
       "    Rótulos esperados  \n",
       "0            POSITIVO  \n",
       "1            POSITIVO  \n",
       "2            POSITIVO  \n",
       "3            POSITIVO  \n",
       "4            POSITIVO  \n",
       "..                ...  \n",
       "212          NEGATIVO  \n",
       "213          NEGATIVO  \n",
       "214          NEGATIVO  \n",
       "215          NEGATIVO  \n",
       "216          NEGATIVO  \n",
       "\n",
       "[217 rows x 3 columns]"
      ]
     },
     "execution_count": 284,
     "metadata": {},
     "output_type": "execute_result"
    }
   ],
   "source": [
    "from sklearn.linear_model import LogisticRegression\n",
    "#pd.set_option('display.max_rows', 10) #printa todas as linhas\n",
    "\n",
    "modeloLR = LogisticRegression(C = 2, solver='liblinear')\n",
    "modeloLR.fit(freq_treino, treino_classificacao)\n",
    "\n",
    "predicaoLP = modeloLR.predict(freq_testes)\n",
    "\n",
    "df_resultados = pd.DataFrame(data = { \"Tweets\": testes_tweets, \"Rótulos obtidos\": predicaoLP, \"Rótulos esperados\": testes_classificacao })\n",
    "df_resultados"
   ]
  },
  {
   "cell_type": "markdown",
   "metadata": {},
   "source": [
    "##### *Análise dos resultados obtidos com o LR*\n",
    "Métricas utilizando cross-validation com o *dataset* de treino:"
   ]
  },
  {
   "cell_type": "code",
   "execution_count": 285,
   "metadata": {},
   "outputs": [
    {
     "name": "stdout",
     "output_type": "stream",
     "text": [
      "              precision    recall  f1-score   support\n",
      "\n",
      "    POSITIVO       0.83      0.89      0.86       248\n",
      "    NEGATIVO       0.88      0.82      0.85       248\n",
      "\n",
      "    accuracy                           0.85       496\n",
      "   macro avg       0.86      0.85      0.85       496\n",
      "weighted avg       0.86      0.85      0.85       496\n",
      "\n"
     ]
    }
   ],
   "source": [
    "resultados = cross_val_predict(modeloLR, freq_treino, treino_classificacao, cv = 10)\n",
    "print(metrics.classification_report(treino_classificacao, resultados, target_names=['POSITIVO', 'NEGATIVO']))"
   ]
  },
  {
   "cell_type": "markdown",
   "metadata": {},
   "source": [
    "Métricas entre a predição do modelo, com o *dataset* de testes, e os rótulos de testes."
   ]
  },
  {
   "cell_type": "code",
   "execution_count": 286,
   "metadata": {},
   "outputs": [
    {
     "name": "stdout",
     "output_type": "stream",
     "text": [
      "              precision    recall  f1-score   support\n",
      "\n",
      "    POSITIVO       0.85      0.86      0.86       110\n",
      "    NEGATIVO       0.86      0.84      0.85       107\n",
      "\n",
      "    accuracy                           0.85       217\n",
      "   macro avg       0.85      0.85      0.85       217\n",
      "weighted avg       0.85      0.85      0.85       217\n",
      "\n"
     ]
    }
   ],
   "source": [
    "predicaoLR = modeloLR.predict(freq_testes)\n",
    "print(metrics.classification_report(testes_classificacao, predicaoLR, target_names=['POSITIVO', 'NEGATIVO'])) "
   ]
  },
  {
   "cell_type": "markdown",
   "metadata": {},
   "source": [
    "___\n",
    "### **Algoritmo K-Nearest Neighbor:**"
   ]
  },
  {
   "cell_type": "markdown",
   "metadata": {},
   "source": [
    "O algoritmo KNN é um algoritmo de aprendizado supervisionado, utilizado para classificação de dados rotulados. \n",
    "\n",
    "A partir de uma definição de K, que será o valor de vizinhos próximos, e um dado de teste, o algoritmo irá calcular a distância (em nosso caso será utilizada a Distância Euclidiana) entre todos os pontos de treino e compará-los a este dado de teste, e tentará prever sua classe a partir da classe dos K vizinhos mais próximos. Ou seja, ele considera que objetos com características semelhantes pertençam ao mesmo grupo.\n",
    "\n",
    "<center><img src=\"resources/assets/knn-imagem.png\" width=\"650px\" height=\"400px\"></center>\n",
    "<center>Figura 3 - Exemplo gráfico do algoritmo K-Nearest Neighbor</center>\n",
    "\n",
    "Observando a figura 3, nota-se que o ponto vermelho é um dado de teste, que está sendo comparado com outros dados de treino. Se o valor de K vizinhos fosse 3, o dado vermelho seria classificado como pertencente a classe B, enquanto que com 6 vizinhos ele seria definido como parte da classe A devido a número maior de vizinhos mais próximos pertencentes a esta classe.\n",
    "\n",
    "Os aspectos posivitos do Algoritmo KNN são:\n",
    "- A facilidade de seu treino, pos armazena apenas objetos rotulados.\n",
    "- Construção de aproximações locais da função objetivo, já que são diferentes para cada objeto novo que foi classificado.\n",
    "- Escalabilidade.\n",
    "\n",
    "Já em quesitos de limitações, o Algoritmo KNN é dependente da medida de distância, tornando a normalização dos dados um fator de extrema importância para o seu funcionamento. Além disso, ele não gera modelo e sua predição pode ser custosa caso o número de objetos seja grande demais.\n",
    "\n"
   ]
  },
  {
   "cell_type": "code",
   "execution_count": 287,
   "metadata": {},
   "outputs": [
    {
     "data": {
      "text/html": [
       "<div>\n",
       "<style scoped>\n",
       "    .dataframe tbody tr th:only-of-type {\n",
       "        vertical-align: middle;\n",
       "    }\n",
       "\n",
       "    .dataframe tbody tr th {\n",
       "        vertical-align: top;\n",
       "    }\n",
       "\n",
       "    .dataframe thead th {\n",
       "        text-align: right;\n",
       "    }\n",
       "</style>\n",
       "<table border=\"1\" class=\"dataframe\">\n",
       "  <thead>\n",
       "    <tr style=\"text-align: right;\">\n",
       "      <th></th>\n",
       "      <th>Tweets</th>\n",
       "      <th>Rótulos obtidos</th>\n",
       "      <th>Rótulos esperados</th>\n",
       "    </tr>\n",
       "  </thead>\n",
       "  <tbody>\n",
       "    <tr>\n",
       "      <th>0</th>\n",
       "      <td>debat aqu @twitterbrasil ta melhor la @bandr #...</td>\n",
       "      <td>POSITIVO</td>\n",
       "      <td>POSITIVO</td>\n",
       "    </tr>\n",
       "    <tr>\n",
       "      <th>1</th>\n",
       "      <td>edegar_prett firm def patrimon publ valorizac ...</td>\n",
       "      <td>POSITIVO</td>\n",
       "      <td>POSITIVO</td>\n",
       "    </tr>\n",
       "    <tr>\n",
       "      <th>2</th>\n",
       "      <td>edegar_prett fal import pov pobr precil mud va...</td>\n",
       "      <td>POSITIVO</td>\n",
       "      <td>POSITIVO</td>\n",
       "    </tr>\n",
       "    <tr>\n",
       "      <th>3</th>\n",
       "      <td>vieira_cunh vieira_cunh melhor post melhor dis...</td>\n",
       "      <td>POSITIVO</td>\n",
       "      <td>POSITIVO</td>\n",
       "    </tr>\n",
       "    <tr>\n",
       "      <th>4</th>\n",
       "      <td>#debatenabandr moment abert ag 3o bloc vieira_...</td>\n",
       "      <td>NEGATIVO</td>\n",
       "      <td>POSITIVO</td>\n",
       "    </tr>\n",
       "    <tr>\n",
       "      <th>...</th>\n",
       "      <td>...</td>\n",
       "      <td>...</td>\n",
       "      <td>...</td>\n",
       "    </tr>\n",
       "    <tr>\n",
       "      <th>212</th>\n",
       "      <td>eduardo_leit porqu pag pi sal prof rio_grande_...</td>\n",
       "      <td>POSITIVO</td>\n",
       "      <td>NEGATIVO</td>\n",
       "    </tr>\n",
       "    <tr>\n",
       "      <th>213</th>\n",
       "      <td>porqu tant candidat mont seguint chap edg viei...</td>\n",
       "      <td>NEGATIVO</td>\n",
       "      <td>NEGATIVO</td>\n",
       "    </tr>\n",
       "    <tr>\n",
       "      <th>214</th>\n",
       "      <td>\"bolsoleite\" hoj \"denunciando\" falt invest fed...</td>\n",
       "      <td>NEGATIVO</td>\n",
       "      <td>NEGATIVO</td>\n",
       "    </tr>\n",
       "    <tr>\n",
       "      <th>215</th>\n",
       "      <td>escolh sim onyx_lorenzon escolh mort aind deix...</td>\n",
       "      <td>NEGATIVO</td>\n",
       "      <td>NEGATIVO</td>\n",
       "    </tr>\n",
       "    <tr>\n",
       "      <th>216</th>\n",
       "      <td>var aparec #debatenabandr ag candidat part nov...</td>\n",
       "      <td>POSITIVO</td>\n",
       "      <td>NEGATIVO</td>\n",
       "    </tr>\n",
       "  </tbody>\n",
       "</table>\n",
       "<p>217 rows × 3 columns</p>\n",
       "</div>"
      ],
      "text/plain": [
       "                                                Tweets Rótulos obtidos  \\\n",
       "0    debat aqu @twitterbrasil ta melhor la @bandr #...        POSITIVO   \n",
       "1    edegar_prett firm def patrimon publ valorizac ...        POSITIVO   \n",
       "2    edegar_prett fal import pov pobr precil mud va...        POSITIVO   \n",
       "3    vieira_cunh vieira_cunh melhor post melhor dis...        POSITIVO   \n",
       "4    #debatenabandr moment abert ag 3o bloc vieira_...        NEGATIVO   \n",
       "..                                                 ...             ...   \n",
       "212  eduardo_leit porqu pag pi sal prof rio_grande_...        POSITIVO   \n",
       "213  porqu tant candidat mont seguint chap edg viei...        NEGATIVO   \n",
       "214  \"bolsoleite\" hoj \"denunciando\" falt invest fed...        NEGATIVO   \n",
       "215  escolh sim onyx_lorenzon escolh mort aind deix...        NEGATIVO   \n",
       "216  var aparec #debatenabandr ag candidat part nov...        POSITIVO   \n",
       "\n",
       "    Rótulos esperados  \n",
       "0            POSITIVO  \n",
       "1            POSITIVO  \n",
       "2            POSITIVO  \n",
       "3            POSITIVO  \n",
       "4            POSITIVO  \n",
       "..                ...  \n",
       "212          NEGATIVO  \n",
       "213          NEGATIVO  \n",
       "214          NEGATIVO  \n",
       "215          NEGATIVO  \n",
       "216          NEGATIVO  \n",
       "\n",
       "[217 rows x 3 columns]"
      ]
     },
     "execution_count": 287,
     "metadata": {},
     "output_type": "execute_result"
    }
   ],
   "source": [
    "from sklearn.neighbors import KNeighborsClassifier\n",
    "\n",
    "modeloKNN = KNeighborsClassifier(n_neighbors=9)\n",
    "modeloKNN.fit(freq_treino, treino_classificacao)\n",
    "\n",
    "predicaoKNN = modeloKNN.predict(freq_testes)\n",
    "\n",
    "df_resultados = pd.DataFrame(data = { \"Tweets\": testes_tweets, \"Rótulos obtidos\": predicaoKNN, \"Rótulos esperados\": testes_classificacao })\n",
    "df_resultados\n"
   ]
  },
  {
   "cell_type": "markdown",
   "metadata": {},
   "source": [
    "##### *Análise dos resultados obtidos com o KNN*\n",
    "Métricas utilizando cross-validation com o *dataset* de treino:"
   ]
  },
  {
   "cell_type": "code",
   "execution_count": 288,
   "metadata": {},
   "outputs": [
    {
     "name": "stdout",
     "output_type": "stream",
     "text": [
      "              precision    recall  f1-score   support\n",
      "\n",
      "    POSITIVO       0.87      0.61      0.72       248\n",
      "    NEGATIVO       0.70      0.91      0.79       248\n",
      "\n",
      "    accuracy                           0.76       496\n",
      "   macro avg       0.79      0.76      0.75       496\n",
      "weighted avg       0.79      0.76      0.75       496\n",
      "\n"
     ]
    }
   ],
   "source": [
    "resultados = cross_val_predict(modeloKNN, freq_treino, treino_classificacao, cv = 10)\n",
    "print(metrics.classification_report(treino_classificacao, resultados, target_names=['POSITIVO', 'NEGATIVO']))"
   ]
  },
  {
   "cell_type": "markdown",
   "metadata": {},
   "source": [
    "Métricas entre a predição do modelo, com o *dataset* de testes, e os rótulos de testes."
   ]
  },
  {
   "cell_type": "code",
   "execution_count": 289,
   "metadata": {},
   "outputs": [
    {
     "name": "stdout",
     "output_type": "stream",
     "text": [
      "              precision    recall  f1-score   support\n",
      "\n",
      "    POSITIVO       0.91      0.65      0.76       110\n",
      "    NEGATIVO       0.72      0.93      0.81       107\n",
      "\n",
      "    accuracy                           0.79       217\n",
      "   macro avg       0.81      0.79      0.78       217\n",
      "weighted avg       0.82      0.79      0.78       217\n",
      "\n"
     ]
    }
   ],
   "source": [
    "predicaoKNN = modeloKNN.predict(freq_testes)\n",
    "print(metrics.classification_report(testes_classificacao, predicaoKNN, target_names=['POSITIVO', 'NEGATIVO']))"
   ]
  },
  {
   "cell_type": "markdown",
   "metadata": {},
   "source": [
    "___\n",
    "### **Algoritmo MultiLayer Perceptron:**"
   ]
  },
  {
   "cell_type": "markdown",
   "metadata": {},
   "source": [
    "MLP, ou MultiLayer Perceptron são redes perceptron de múltiplas camadas que são totalmente conectadas e que contém uma ou mais camadas ocultas. O treinamento da rede é feito utilizando etapas de forward e backward.\n",
    "- A fase **forward** - propagação é utilizada para definir a saída da rede para um dado padrão de entrada.\n",
    "- A base **backward -** retro propagação utiliza a saída desejada e a saída gerada pela rede para atualizar os pesos de suas conexões.\n",
    "- O algoritmo de retro propagação procura minimizar a função de erro no espaço de pesos usando o método gradiente descendente.\n",
    "\n",
    "\n",
    "\n",
    "Em nosso algoritmo, foram implementados 110 neurônios na camada oculta, com 0.9 de *momentum* e o atributo lbfgs como *solver*, que é um otimizador *quasi-Newton method* para recalcular os pesos, que por sua vez se baseia num método para encontrar máximo e mínimos locais.\n",
    "\n",
    "<center><img src=\"resources/assets/quasinewton.png\" width=\"300px\" height=\"50px\" ></center>\n",
    "<center>Figura 4 - Fórmula de quasi-Newton</center>"
   ]
  },
  {
   "cell_type": "code",
   "execution_count": 290,
   "metadata": {},
   "outputs": [
    {
     "data": {
      "text/html": [
       "<div>\n",
       "<style scoped>\n",
       "    .dataframe tbody tr th:only-of-type {\n",
       "        vertical-align: middle;\n",
       "    }\n",
       "\n",
       "    .dataframe tbody tr th {\n",
       "        vertical-align: top;\n",
       "    }\n",
       "\n",
       "    .dataframe thead th {\n",
       "        text-align: right;\n",
       "    }\n",
       "</style>\n",
       "<table border=\"1\" class=\"dataframe\">\n",
       "  <thead>\n",
       "    <tr style=\"text-align: right;\">\n",
       "      <th></th>\n",
       "      <th>Tweets</th>\n",
       "      <th>Rótulos obtidos</th>\n",
       "      <th>Rótulos esperados</th>\n",
       "    </tr>\n",
       "  </thead>\n",
       "  <tbody>\n",
       "    <tr>\n",
       "      <th>0</th>\n",
       "      <td>debat aqu @twitterbrasil ta melhor la @bandr #...</td>\n",
       "      <td>POSITIVO</td>\n",
       "      <td>POSITIVO</td>\n",
       "    </tr>\n",
       "    <tr>\n",
       "      <th>1</th>\n",
       "      <td>edegar_prett firm def patrimon publ valorizac ...</td>\n",
       "      <td>POSITIVO</td>\n",
       "      <td>POSITIVO</td>\n",
       "    </tr>\n",
       "    <tr>\n",
       "      <th>2</th>\n",
       "      <td>edegar_prett fal import pov pobr precil mud va...</td>\n",
       "      <td>POSITIVO</td>\n",
       "      <td>POSITIVO</td>\n",
       "    </tr>\n",
       "    <tr>\n",
       "      <th>3</th>\n",
       "      <td>vieira_cunh vieira_cunh melhor post melhor dis...</td>\n",
       "      <td>POSITIVO</td>\n",
       "      <td>POSITIVO</td>\n",
       "    </tr>\n",
       "    <tr>\n",
       "      <th>4</th>\n",
       "      <td>#debatenabandr moment abert ag 3o bloc vieira_...</td>\n",
       "      <td>NEGATIVO</td>\n",
       "      <td>POSITIVO</td>\n",
       "    </tr>\n",
       "    <tr>\n",
       "      <th>...</th>\n",
       "      <td>...</td>\n",
       "      <td>...</td>\n",
       "      <td>...</td>\n",
       "    </tr>\n",
       "    <tr>\n",
       "      <th>212</th>\n",
       "      <td>eduardo_leit porqu pag pi sal prof rio_grande_...</td>\n",
       "      <td>NEGATIVO</td>\n",
       "      <td>NEGATIVO</td>\n",
       "    </tr>\n",
       "    <tr>\n",
       "      <th>213</th>\n",
       "      <td>porqu tant candidat mont seguint chap edg viei...</td>\n",
       "      <td>NEGATIVO</td>\n",
       "      <td>NEGATIVO</td>\n",
       "    </tr>\n",
       "    <tr>\n",
       "      <th>214</th>\n",
       "      <td>\"bolsoleite\" hoj \"denunciando\" falt invest fed...</td>\n",
       "      <td>NEGATIVO</td>\n",
       "      <td>NEGATIVO</td>\n",
       "    </tr>\n",
       "    <tr>\n",
       "      <th>215</th>\n",
       "      <td>escolh sim onyx_lorenzon escolh mort aind deix...</td>\n",
       "      <td>NEGATIVO</td>\n",
       "      <td>NEGATIVO</td>\n",
       "    </tr>\n",
       "    <tr>\n",
       "      <th>216</th>\n",
       "      <td>var aparec #debatenabandr ag candidat part nov...</td>\n",
       "      <td>NEGATIVO</td>\n",
       "      <td>NEGATIVO</td>\n",
       "    </tr>\n",
       "  </tbody>\n",
       "</table>\n",
       "<p>217 rows × 3 columns</p>\n",
       "</div>"
      ],
      "text/plain": [
       "                                                Tweets Rótulos obtidos  \\\n",
       "0    debat aqu @twitterbrasil ta melhor la @bandr #...        POSITIVO   \n",
       "1    edegar_prett firm def patrimon publ valorizac ...        POSITIVO   \n",
       "2    edegar_prett fal import pov pobr precil mud va...        POSITIVO   \n",
       "3    vieira_cunh vieira_cunh melhor post melhor dis...        POSITIVO   \n",
       "4    #debatenabandr moment abert ag 3o bloc vieira_...        NEGATIVO   \n",
       "..                                                 ...             ...   \n",
       "212  eduardo_leit porqu pag pi sal prof rio_grande_...        NEGATIVO   \n",
       "213  porqu tant candidat mont seguint chap edg viei...        NEGATIVO   \n",
       "214  \"bolsoleite\" hoj \"denunciando\" falt invest fed...        NEGATIVO   \n",
       "215  escolh sim onyx_lorenzon escolh mort aind deix...        NEGATIVO   \n",
       "216  var aparec #debatenabandr ag candidat part nov...        NEGATIVO   \n",
       "\n",
       "    Rótulos esperados  \n",
       "0            POSITIVO  \n",
       "1            POSITIVO  \n",
       "2            POSITIVO  \n",
       "3            POSITIVO  \n",
       "4            POSITIVO  \n",
       "..                ...  \n",
       "212          NEGATIVO  \n",
       "213          NEGATIVO  \n",
       "214          NEGATIVO  \n",
       "215          NEGATIVO  \n",
       "216          NEGATIVO  \n",
       "\n",
       "[217 rows x 3 columns]"
      ]
     },
     "execution_count": 290,
     "metadata": {},
     "output_type": "execute_result"
    }
   ],
   "source": [
    "from sklearn.neural_network import MLPClassifier\n",
    "\n",
    "modeloMLP = MLPClassifier(learning_rate_init=1, hidden_layer_sizes=(110), solver='lbfgs')\n",
    "modeloMLP.fit(freq_treino, treino_classificacao)\n",
    "\n",
    "predicaoMLP = modeloMLP.predict(freq_testes)\n",
    "\n",
    "df_resultados = pd.DataFrame(data = { \"Tweets\": testes_tweets, \"Rótulos obtidos\": predicaoMLP, \"Rótulos esperados\": testes_classificacao })\n",
    "df_resultados"
   ]
  },
  {
   "cell_type": "markdown",
   "metadata": {},
   "source": [
    "##### *Análise dos resultados obtidos com o MLP*\n",
    "Métricas utilizando cross-validation com o *dataset* de treino:"
   ]
  },
  {
   "cell_type": "code",
   "execution_count": 291,
   "metadata": {},
   "outputs": [
    {
     "name": "stdout",
     "output_type": "stream",
     "text": [
      "              precision    recall  f1-score   support\n",
      "\n",
      "    POSITIVO       0.85      0.86      0.85       248\n",
      "    NEGATIVO       0.86      0.84      0.85       248\n",
      "\n",
      "    accuracy                           0.85       496\n",
      "   macro avg       0.85      0.85      0.85       496\n",
      "weighted avg       0.85      0.85      0.85       496\n",
      "\n"
     ]
    }
   ],
   "source": [
    "resultados = cross_val_predict(modeloMLP, freq_treino, treino_classificacao, cv = 10)\n",
    "print(metrics.classification_report(treino_classificacao, resultados, target_names=['POSITIVO', 'NEGATIVO']))"
   ]
  },
  {
   "cell_type": "markdown",
   "metadata": {},
   "source": [
    "Métricas entre a predição do modelo, com o *dataset* de testes, e os rótulos de testes."
   ]
  },
  {
   "cell_type": "code",
   "execution_count": 292,
   "metadata": {},
   "outputs": [
    {
     "name": "stdout",
     "output_type": "stream",
     "text": [
      "              precision    recall  f1-score   support\n",
      "\n",
      "    POSITIVO       0.86      0.82      0.84       110\n",
      "    NEGATIVO       0.82      0.86      0.84       107\n",
      "\n",
      "    accuracy                           0.84       217\n",
      "   macro avg       0.84      0.84      0.84       217\n",
      "weighted avg       0.84      0.84      0.84       217\n",
      "\n"
     ]
    }
   ],
   "source": [
    "predicaoMLP = modeloMLP.predict(freq_testes)\n",
    "print(metrics.classification_report(testes_classificacao, predicaoMLP, target_names=['POSITIVO', 'NEGATIVO']))"
   ]
  },
  {
   "cell_type": "markdown",
   "metadata": {},
   "source": [
    "___\n",
    "## **Análise geral dos algortimos implementados:**"
   ]
  },
  {
   "cell_type": "code",
   "execution_count": 293,
   "metadata": {},
   "outputs": [],
   "source": [
    "from sklearn.metrics import confusion_matrix\n",
    "import matplotlib.pyplot as plt\n",
    "import seaborn as sns; sns.set()\n",
    "\n",
    "def plot_matrix(y, color, title):\n",
    "    mat = confusion_matrix(testes_classificacao, y)\n",
    "    plt.figure(figsize = (3.5,3.5))\n",
    "    sns.heatmap(mat,cmap= color, \n",
    "                linecolor = 'black', \n",
    "                linewidth = 0.6,\n",
    "                annot = True,\n",
    "                fmt='g',\n",
    "                xticklabels = ['Negativo','Positivo'], \n",
    "                yticklabels = ['Negativo','Positivo'])\n",
    "    plt.title(title)\n",
    "    plt.xlabel(\"Rótulo obtido\")\n",
    "    plt.ylabel(\"Rótulo esperado\")"
   ]
  },
  {
   "cell_type": "code",
   "execution_count": 294,
   "metadata": {},
   "outputs": [
    {
     "data": {
      "image/png": "[encoded data removed]",
      "text/plain": [
       "<Figure size 350x350 with 2 Axes>"
      ]
     },
     "metadata": {},
     "output_type": "display_data"
    },
    {
     "data": {
      "image/png": "[encoded data removed]",
      "text/plain": [
       "<Figure size 350x350 with 2 Axes>"
      ]
     },
     "metadata": {},
     "output_type": "display_data"
    },
    {
     "data": {
      "image/png": "[encoded data removed]",
      "text/plain": [
       "<Figure size 350x350 with 2 Axes>"
      ]
     },
     "metadata": {},
     "output_type": "display_data"
    },
    {
     "data": {
      "image/png": "[encoded data removed]",
      "text/plain": [
       "<Figure size 350x350 with 2 Axes>"
      ]
     },
     "metadata": {},
     "output_type": "display_data"
    }
   ],
   "source": [
    "plot_matrix(predicaoNB, 'Reds', 'Naive Bayes')\n",
    "plot_matrix(predicaoLP, 'Greens', 'LogisticRegression')\n",
    "plot_matrix(predicaoKNN, 'Blues', 'KNeighborsClassifier')\n",
    "plot_matrix(predicaoMLP, 'Purples', 'MultiLayer Perceptron')\n",
    "\n",
    "plt.show()"
   ]
  },
  {
   "cell_type": "markdown",
   "metadata": {},
   "source": [
    "---\n",
    "### **Conclusão**"
   ]
  },
  {
   "cell_type": "markdown",
   "metadata": {},
   "source": [
    "Em análise geral da implementação dos algoritmos, acreditamos ter alcançado resultados satisfatórios em relação as acurácias obtidas pelos algoritmos, principalmente em relação aos algoritmos de MultiLayer Perceptron e Logistic Regression, que obtiveram os melhores resultados dentro dos modelos testados. Este cenário deve-se ao fato de que os algortimos de KNN e Naive Bayes possuirem fatores que causam imprecisão na generalização, sendo o problema de predição de condicional zero, no caso do NB e a imprecisão inerente a algortimos de agrupamento, como o KNN.\n",
    "\n",
    "Este fator pode ser observado nas matrizes de confusão e tabelas acima, que foram gerados a partir do modelo testado de cada algortimo, através do método de *cross-validation* no *dataset* de treino, como foi destacado anteriormente. \n",
    "\n",
    "Tambeém podemos concluir que as metricas com a prediçãoo e rótulos de testes trouxeram resultados melhores que as de validação e *cross-validation* do treino, fator provavelmente causado por termos separado os *datasets* de forma aleatória e os *tweets* rotulados do treino ficarem melhor rotulados. Como por exemplo, o texto \"@heinzeoficial vampirão 🧛\", que é possível apenas afirmar algum rótulo de classificação com contexto prévio que \"vampirão\" é algo negativo, e como essa foi a unica rocorrencência dessa citação no *dataset* os algortimos não conseguiram aplicar o rotulo esperado.\n",
    "\n",
    "\n"
   ]
  }
 ],
 "metadata": {
  "kernelspec": {
   "display_name": "Python 3.10.6 64-bit",
   "language": "python",
   "name": "python3"
  },
  "language_info": {
   "codemirror_mode": {
    "name": "ipython",
    "version": 3
   },
   "file_extension": ".py",
   "mimetype": "text/x-python",
   "name": "python",
   "nbconvert_exporter": "python",
   "pygments_lexer": "ipython3",
   "version": "3.10.5"
  },
  "orig_nbformat": 4,
  "vscode": {
   "interpreter": {
    "hash": "d776b604cc3904292aea37f4daa2a46de34e87e5ec4d2ed68e9e515ab9feb7f7"
   }
  }
 },
 "nbformat": 4,
 "nbformat_minor": 2
}
